{
 "cells": [
  {
   "cell_type": "code",
<<<<<<< Updated upstream
   "execution_count": 220,
   "metadata": {
    "pycharm": {
     "name": "#%%\n"
    }
   },
=======
   "execution_count": 1,
   "metadata": {},
>>>>>>> Stashed changes
   "outputs": [],
   "source": [
    "import pandas as pd\n",
    "from matplotlib import pyplot as plt"
   ]
  },
  {
   "cell_type": "markdown",
   "metadata": {
    "pycharm": {
     "name": "#%% md\n"
    }
   },
   "source": [
    "### Read in the match points from 2011-2021 for grand-slam tournaments"
   ]
  },
  {
   "cell_type": "code",
<<<<<<< Updated upstream
   "execution_count": 269,
   "metadata": {
    "pycharm": {
     "name": "#%%\n"
    }
   },
   "outputs": [],
=======
   "execution_count": 2,
   "metadata": {},
   "outputs": [
    {
     "name": "stderr",
     "output_type": "stream",
     "text": [
      "/Library/Frameworks/Python.framework/Versions/3.7/lib/python3.7/site-packages/ipykernel_launcher.py:8: FutureWarning: Sorting because non-concatenation axis is not aligned. A future version\n",
      "of pandas will change to not sort by default.\n",
      "\n",
      "To accept the future behavior, pass 'sort=False'.\n",
      "\n",
      "To retain the current behavior and silence the warning, pass 'sort=True'.\n",
      "\n",
      "  \n"
     ]
    }
   ],
>>>>>>> Stashed changes
   "source": [
    "points_2011 = pd.read_csv(f\"../data/grand-slam-point-data/combined-points/2011-combined-points.csv\", encoding='unicode_escape', low_memory=False)\n",
    "match_2011 = pd.read_csv(f\"../data/grand-slam-point-data/combined-matches/2011-combined-matches.csv\", encoding='unicode_escape', low_memory=False)\n",
    "combined = pd.merge(points_2011, match_2011, on=\"match_id\", how=\"inner\")\n",
    "for i in range(2012, 2022):\n",
    "    points = pd.read_csv(f\"../data/grand-slam-point-data/combined-points/{i}-combined-points.csv\", encoding='unicode_escape', low_memory=False)\n",
    "    match = pd.read_csv(f\"../data/grand-slam-point-data/combined-matches/{i}-combined-matches.csv\", encoding='unicode_escape', low_memory=False)\n",
    "    cur_year = pd.merge(points, match, on=\"match_id\", how=\"inner\")\n",
    "    combined = pd.concat([combined, cur_year])\n",
    "\n",
    "points = combined"
   ]
  },
  {
   "cell_type": "markdown",
   "metadata": {
    "pycharm": {
     "name": "#%% md\n"
    }
   },
   "source": [
    "P1BreakPoint == 1 if P1 is returning and is one point from winning the game (\"breaking\" the opponent's serve point)"
   ]
  },
  {
   "cell_type": "code",
   "execution_count": 3,
   "metadata": {},
   "outputs": [
    {
     "data": {
      "text/plain": [
       "Index(['ElapsedTime', 'GameNo', 'GameWinner', 'History', 'P1Ace',\n",
       "       'P1BreakPoint', 'P1BreakPointMissed', 'P1BreakPointWon',\n",
       "       'P1DistanceRun', 'P1DoubleFault', 'P1FirstSrvIn', 'P1FirstSrvWon',\n",
       "       'P1ForcedError', 'P1GamesWon', 'P1Momentum', 'P1NetPoint',\n",
       "       'P1NetPointWon', 'P1PointsWon', 'P1Score', 'P1SecondSrvIn',\n",
       "       'P1SecondSrvWon', 'P1TurningPoint', 'P1UnfErr', 'P1Winner', 'P2Ace',\n",
       "       'P2BreakPoint', 'P2BreakPointMissed', 'P2BreakPointWon',\n",
       "       'P2DistanceRun', 'P2DoubleFault', 'P2FirstSrvIn', 'P2FirstSrvWon',\n",
       "       'P2ForcedError', 'P2GamesWon', 'P2Momentum', 'P2NetPoint',\n",
       "       'P2NetPointWon', 'P2PointsWon', 'P2Score', 'P2SecondSrvIn',\n",
       "       'P2SecondSrvWon', 'P2TurningPoint', 'P2UnfErr', 'P2Winner',\n",
       "       'PointNumber', 'PointServer', 'PointWinner', 'Rally', 'RallyCount',\n",
       "       'ReturnDepth', 'ServeDepth', 'ServeIndicator', 'ServeNumber',\n",
       "       'ServeWidth', 'Serve_Direction', 'ServingTo', 'SetNo', 'SetWinner',\n",
       "       'Speed_KMH', 'Speed_MPH', 'Unnamed: 0_x', 'Unnamed: 0_y',\n",
       "       'WinnerShotType', 'WinnerType', 'Winner_BH', 'Winner_FH', 'court_id',\n",
       "       'court_name', 'event_name', 'match_id', 'match_id_num_x',\n",
       "       'match_id_num_y', 'match_num', 'nation1', 'nation2', 'player1',\n",
       "       'player1id', 'player2', 'player2id', 'round', 'slam', 'status',\n",
       "       'winner', 'year'],\n",
       "      dtype='object')"
      ]
     },
     "execution_count": 3,
     "metadata": {},
     "output_type": "execute_result"
    }
   ],
   "source": [
    "points.columns"
   ]
  },
  {
   "cell_type": "code",
   "execution_count": 4,
   "metadata": {},
   "outputs": [
    {
     "data": {
      "text/html": [
       "<div>\n",
       "<style scoped>\n",
       "    .dataframe tbody tr th:only-of-type {\n",
       "        vertical-align: middle;\n",
       "    }\n",
       "\n",
       "    .dataframe tbody tr th {\n",
       "        vertical-align: top;\n",
       "    }\n",
       "\n",
       "    .dataframe thead th {\n",
       "        text-align: right;\n",
       "    }\n",
       "</style>\n",
       "<table border=\"1\" class=\"dataframe\">\n",
       "  <thead>\n",
       "    <tr style=\"text-align: right;\">\n",
       "      <th></th>\n",
       "      <th>P1BreakPoint</th>\n",
       "      <th>P1BreakPointMissed</th>\n",
       "      <th>P1BreakPointWon</th>\n",
       "      <th>P2BreakPoint</th>\n",
       "      <th>P2BreakPointMissed</th>\n",
       "      <th>P2BreakPointWon</th>\n",
       "    </tr>\n",
       "  </thead>\n",
       "  <tbody>\n",
       "    <tr>\n",
       "      <td>87479</td>\n",
       "      <td>1.0</td>\n",
       "      <td>1.0</td>\n",
       "      <td>0.0</td>\n",
       "      <td>0.0</td>\n",
       "      <td>0.0</td>\n",
       "      <td>0.0</td>\n",
       "    </tr>\n",
       "    <tr>\n",
       "      <td>87480</td>\n",
       "      <td>0.0</td>\n",
       "      <td>0.0</td>\n",
       "      <td>0.0</td>\n",
       "      <td>0.0</td>\n",
       "      <td>0.0</td>\n",
       "      <td>0.0</td>\n",
       "    </tr>\n",
       "    <tr>\n",
       "      <td>87481</td>\n",
       "      <td>1.0</td>\n",
       "      <td>1.0</td>\n",
       "      <td>1.0</td>\n",
       "      <td>0.0</td>\n",
       "      <td>0.0</td>\n",
       "      <td>0.0</td>\n",
       "    </tr>\n",
       "  </tbody>\n",
       "</table>\n",
       "</div>"
      ],
      "text/plain": [
       "       P1BreakPoint  P1BreakPointMissed  P1BreakPointWon  P2BreakPoint  \\\n",
       "87479           1.0                 1.0              0.0           0.0   \n",
       "87480           0.0                 0.0              0.0           0.0   \n",
       "87481           1.0                 1.0              1.0           0.0   \n",
       "\n",
       "       P2BreakPointMissed  P2BreakPointWon  \n",
       "87479                 0.0              0.0  \n",
       "87480                 0.0              0.0  \n",
       "87481                 0.0              0.0  "
      ]
     },
     "execution_count": 4,
     "metadata": {},
     "output_type": "execute_result"
    }
   ],
   "source": [
    "bp_only = points.filter(like='BreakPoint')\n",
    "bp_only[-3:]\n",
    "# 32236 missed\n",
    "# 12924 won\n",
    "# 33487 \"total\""
   ]
  },
  {
   "cell_type": "code",
   "execution_count": 5,
   "metadata": {},
   "outputs": [],
   "source": [
    "real_points = points[points['PointWinner'].ge(1)]"
   ]
  },
  {
   "cell_type": "code",
   "execution_count": 6,
   "metadata": {},
   "outputs": [],
   "source": [
    "bp_groups = real_points.groupby(by=[\"player1id\", \"player2id\", \"P1BreakPoint\", \"P2BreakPoint\", \"PointWinner\", \"match_id\"]).count().iloc[:, :7]"
   ]
  },
  {
   "cell_type": "code",
   "execution_count": 8,
   "metadata": {},
   "outputs": [
    {
     "data": {
      "text/html": [
       "<div>\n",
       "<style scoped>\n",
       "    .dataframe tbody tr th:only-of-type {\n",
       "        vertical-align: middle;\n",
       "    }\n",
       "\n",
       "    .dataframe tbody tr th {\n",
       "        vertical-align: top;\n",
       "    }\n",
       "\n",
       "    .dataframe thead th {\n",
       "        text-align: right;\n",
       "    }\n",
       "</style>\n",
       "<table border=\"1\" class=\"dataframe\">\n",
       "  <thead>\n",
       "    <tr style=\"text-align: right;\">\n",
       "      <th></th>\n",
       "      <th></th>\n",
       "      <th></th>\n",
       "      <th></th>\n",
       "      <th></th>\n",
       "      <th></th>\n",
       "      <th>ElapsedTime</th>\n",
       "      <th>GameNo</th>\n",
       "      <th>GameWinner</th>\n",
       "      <th>History</th>\n",
       "      <th>P1Ace</th>\n",
       "      <th>P1BreakPointMissed</th>\n",
       "      <th>P1BreakPointWon</th>\n",
       "    </tr>\n",
       "    <tr>\n",
       "      <th>player1id</th>\n",
       "      <th>player2id</th>\n",
       "      <th>P1BreakPoint</th>\n",
       "      <th>P2BreakPoint</th>\n",
       "      <th>PointWinner</th>\n",
       "      <th>match_id</th>\n",
       "      <th></th>\n",
       "      <th></th>\n",
       "      <th></th>\n",
       "      <th></th>\n",
       "      <th></th>\n",
       "      <th></th>\n",
       "      <th></th>\n",
       "    </tr>\n",
       "  </thead>\n",
       "  <tbody>\n",
       "    <tr>\n",
       "      <td rowspan=\"5\" valign=\"top\">atpa479</td>\n",
       "      <td rowspan=\"5\" valign=\"top\">atpa511</td>\n",
       "      <td rowspan=\"4\" valign=\"top\">0.0</td>\n",
       "      <td rowspan=\"2\" valign=\"top\">0.0</td>\n",
       "      <td>1.0</td>\n",
       "      <td>2011-ausopen-1221</td>\n",
       "      <td>158</td>\n",
       "      <td>158</td>\n",
       "      <td>158</td>\n",
       "      <td>158</td>\n",
       "      <td>158</td>\n",
       "      <td>158</td>\n",
       "      <td>158</td>\n",
       "    </tr>\n",
       "    <tr>\n",
       "      <td>2.0</td>\n",
       "      <td>2011-ausopen-1221</td>\n",
       "      <td>155</td>\n",
       "      <td>155</td>\n",
       "      <td>155</td>\n",
       "      <td>155</td>\n",
       "      <td>155</td>\n",
       "      <td>155</td>\n",
       "      <td>155</td>\n",
       "    </tr>\n",
       "    <tr>\n",
       "      <td rowspan=\"2\" valign=\"top\">1.0</td>\n",
       "      <td>1.0</td>\n",
       "      <td>2011-ausopen-1221</td>\n",
       "      <td>6</td>\n",
       "      <td>6</td>\n",
       "      <td>6</td>\n",
       "      <td>6</td>\n",
       "      <td>6</td>\n",
       "      <td>6</td>\n",
       "      <td>6</td>\n",
       "    </tr>\n",
       "    <tr>\n",
       "      <td>2.0</td>\n",
       "      <td>2011-ausopen-1221</td>\n",
       "      <td>6</td>\n",
       "      <td>6</td>\n",
       "      <td>6</td>\n",
       "      <td>6</td>\n",
       "      <td>6</td>\n",
       "      <td>6</td>\n",
       "      <td>6</td>\n",
       "    </tr>\n",
       "    <tr>\n",
       "      <td>1.0</td>\n",
       "      <td>0.0</td>\n",
       "      <td>1.0</td>\n",
       "      <td>2011-ausopen-1221</td>\n",
       "      <td>5</td>\n",
       "      <td>5</td>\n",
       "      <td>5</td>\n",
       "      <td>5</td>\n",
       "      <td>5</td>\n",
       "      <td>5</td>\n",
       "      <td>5</td>\n",
       "    </tr>\n",
       "    <tr>\n",
       "      <td>...</td>\n",
       "      <td>...</td>\n",
       "      <td>...</td>\n",
       "      <td>...</td>\n",
       "      <td>...</td>\n",
       "      <td>...</td>\n",
       "      <td>...</td>\n",
       "      <td>...</td>\n",
       "      <td>...</td>\n",
       "      <td>...</td>\n",
       "      <td>...</td>\n",
       "      <td>...</td>\n",
       "      <td>...</td>\n",
       "    </tr>\n",
       "    <tr>\n",
       "      <td rowspan=\"5\" valign=\"top\">atpz189</td>\n",
       "      <td rowspan=\"5\" valign=\"top\">atpb837</td>\n",
       "      <td rowspan=\"3\" valign=\"top\">0.0</td>\n",
       "      <td>0.0</td>\n",
       "      <td>2.0</td>\n",
       "      <td>2011-ausopen-1128</td>\n",
       "      <td>141</td>\n",
       "      <td>141</td>\n",
       "      <td>141</td>\n",
       "      <td>141</td>\n",
       "      <td>141</td>\n",
       "      <td>141</td>\n",
       "      <td>141</td>\n",
       "    </tr>\n",
       "    <tr>\n",
       "      <td rowspan=\"2\" valign=\"top\">1.0</td>\n",
       "      <td>1.0</td>\n",
       "      <td>2011-ausopen-1128</td>\n",
       "      <td>15</td>\n",
       "      <td>15</td>\n",
       "      <td>15</td>\n",
       "      <td>15</td>\n",
       "      <td>15</td>\n",
       "      <td>15</td>\n",
       "      <td>15</td>\n",
       "    </tr>\n",
       "    <tr>\n",
       "      <td>2.0</td>\n",
       "      <td>2011-ausopen-1128</td>\n",
       "      <td>7</td>\n",
       "      <td>7</td>\n",
       "      <td>7</td>\n",
       "      <td>7</td>\n",
       "      <td>7</td>\n",
       "      <td>7</td>\n",
       "      <td>7</td>\n",
       "    </tr>\n",
       "    <tr>\n",
       "      <td rowspan=\"2\" valign=\"top\">1.0</td>\n",
       "      <td rowspan=\"2\" valign=\"top\">0.0</td>\n",
       "      <td>1.0</td>\n",
       "      <td>2011-ausopen-1128</td>\n",
       "      <td>4</td>\n",
       "      <td>4</td>\n",
       "      <td>4</td>\n",
       "      <td>4</td>\n",
       "      <td>4</td>\n",
       "      <td>4</td>\n",
       "      <td>4</td>\n",
       "    </tr>\n",
       "    <tr>\n",
       "      <td>2.0</td>\n",
       "      <td>2011-ausopen-1128</td>\n",
       "      <td>9</td>\n",
       "      <td>9</td>\n",
       "      <td>9</td>\n",
       "      <td>9</td>\n",
       "      <td>9</td>\n",
       "      <td>9</td>\n",
       "      <td>9</td>\n",
       "    </tr>\n",
       "  </tbody>\n",
       "</table>\n",
       "<p>1893 rows × 7 columns</p>\n",
       "</div>"
      ],
      "text/plain": [
       "                                                                             ElapsedTime  \\\n",
       "player1id player2id P1BreakPoint P2BreakPoint PointWinner match_id                         \n",
       "atpa479   atpa511   0.0          0.0          1.0         2011-ausopen-1221          158   \n",
       "                                              2.0         2011-ausopen-1221          155   \n",
       "                                 1.0          1.0         2011-ausopen-1221            6   \n",
       "                                              2.0         2011-ausopen-1221            6   \n",
       "                    1.0          0.0          1.0         2011-ausopen-1221            5   \n",
       "...                                                                                  ...   \n",
       "atpz189   atpb837   0.0          0.0          2.0         2011-ausopen-1128          141   \n",
       "                                 1.0          1.0         2011-ausopen-1128           15   \n",
       "                                              2.0         2011-ausopen-1128            7   \n",
       "                    1.0          0.0          1.0         2011-ausopen-1128            4   \n",
       "                                              2.0         2011-ausopen-1128            9   \n",
       "\n",
       "                                                                             GameNo  \\\n",
       "player1id player2id P1BreakPoint P2BreakPoint PointWinner match_id                    \n",
       "atpa479   atpa511   0.0          0.0          1.0         2011-ausopen-1221     158   \n",
       "                                              2.0         2011-ausopen-1221     155   \n",
       "                                 1.0          1.0         2011-ausopen-1221       6   \n",
       "                                              2.0         2011-ausopen-1221       6   \n",
       "                    1.0          0.0          1.0         2011-ausopen-1221       5   \n",
       "...                                                                             ...   \n",
       "atpz189   atpb837   0.0          0.0          2.0         2011-ausopen-1128     141   \n",
       "                                 1.0          1.0         2011-ausopen-1128      15   \n",
       "                                              2.0         2011-ausopen-1128       7   \n",
       "                    1.0          0.0          1.0         2011-ausopen-1128       4   \n",
       "                                              2.0         2011-ausopen-1128       9   \n",
       "\n",
       "                                                                             GameWinner  \\\n",
       "player1id player2id P1BreakPoint P2BreakPoint PointWinner match_id                        \n",
       "atpa479   atpa511   0.0          0.0          1.0         2011-ausopen-1221         158   \n",
       "                                              2.0         2011-ausopen-1221         155   \n",
       "                                 1.0          1.0         2011-ausopen-1221           6   \n",
       "                                              2.0         2011-ausopen-1221           6   \n",
       "                    1.0          0.0          1.0         2011-ausopen-1221           5   \n",
       "...                                                                                 ...   \n",
       "atpz189   atpb837   0.0          0.0          2.0         2011-ausopen-1128         141   \n",
       "                                 1.0          1.0         2011-ausopen-1128          15   \n",
       "                                              2.0         2011-ausopen-1128           7   \n",
       "                    1.0          0.0          1.0         2011-ausopen-1128           4   \n",
       "                                              2.0         2011-ausopen-1128           9   \n",
       "\n",
       "                                                                             History  \\\n",
       "player1id player2id P1BreakPoint P2BreakPoint PointWinner match_id                     \n",
       "atpa479   atpa511   0.0          0.0          1.0         2011-ausopen-1221      158   \n",
       "                                              2.0         2011-ausopen-1221      155   \n",
       "                                 1.0          1.0         2011-ausopen-1221        6   \n",
       "                                              2.0         2011-ausopen-1221        6   \n",
       "                    1.0          0.0          1.0         2011-ausopen-1221        5   \n",
       "...                                                                              ...   \n",
       "atpz189   atpb837   0.0          0.0          2.0         2011-ausopen-1128      141   \n",
       "                                 1.0          1.0         2011-ausopen-1128       15   \n",
       "                                              2.0         2011-ausopen-1128        7   \n",
       "                    1.0          0.0          1.0         2011-ausopen-1128        4   \n",
       "                                              2.0         2011-ausopen-1128        9   \n",
       "\n",
       "                                                                             P1Ace  \\\n",
       "player1id player2id P1BreakPoint P2BreakPoint PointWinner match_id                   \n",
       "atpa479   atpa511   0.0          0.0          1.0         2011-ausopen-1221    158   \n",
       "                                              2.0         2011-ausopen-1221    155   \n",
       "                                 1.0          1.0         2011-ausopen-1221      6   \n",
       "                                              2.0         2011-ausopen-1221      6   \n",
       "                    1.0          0.0          1.0         2011-ausopen-1221      5   \n",
       "...                                                                            ...   \n",
       "atpz189   atpb837   0.0          0.0          2.0         2011-ausopen-1128    141   \n",
       "                                 1.0          1.0         2011-ausopen-1128     15   \n",
       "                                              2.0         2011-ausopen-1128      7   \n",
       "                    1.0          0.0          1.0         2011-ausopen-1128      4   \n",
       "                                              2.0         2011-ausopen-1128      9   \n",
       "\n",
       "                                                                             P1BreakPointMissed  \\\n",
       "player1id player2id P1BreakPoint P2BreakPoint PointWinner match_id                                \n",
       "atpa479   atpa511   0.0          0.0          1.0         2011-ausopen-1221                 158   \n",
       "                                              2.0         2011-ausopen-1221                 155   \n",
       "                                 1.0          1.0         2011-ausopen-1221                   6   \n",
       "                                              2.0         2011-ausopen-1221                   6   \n",
       "                    1.0          0.0          1.0         2011-ausopen-1221                   5   \n",
       "...                                                                                         ...   \n",
       "atpz189   atpb837   0.0          0.0          2.0         2011-ausopen-1128                 141   \n",
       "                                 1.0          1.0         2011-ausopen-1128                  15   \n",
       "                                              2.0         2011-ausopen-1128                   7   \n",
       "                    1.0          0.0          1.0         2011-ausopen-1128                   4   \n",
       "                                              2.0         2011-ausopen-1128                   9   \n",
       "\n",
       "                                                                             P1BreakPointWon  \n",
       "player1id player2id P1BreakPoint P2BreakPoint PointWinner match_id                            \n",
       "atpa479   atpa511   0.0          0.0          1.0         2011-ausopen-1221              158  \n",
       "                                              2.0         2011-ausopen-1221              155  \n",
       "                                 1.0          1.0         2011-ausopen-1221                6  \n",
       "                                              2.0         2011-ausopen-1221                6  \n",
       "                    1.0          0.0          1.0         2011-ausopen-1221                5  \n",
       "...                                                                                      ...  \n",
       "atpz189   atpb837   0.0          0.0          2.0         2011-ausopen-1128              141  \n",
       "                                 1.0          1.0         2011-ausopen-1128               15  \n",
       "                                              2.0         2011-ausopen-1128                7  \n",
       "                    1.0          0.0          1.0         2011-ausopen-1128                4  \n",
       "                                              2.0         2011-ausopen-1128                9  \n",
       "\n",
       "[1893 rows x 7 columns]"
      ]
     },
     "execution_count": 8,
     "metadata": {},
     "output_type": "execute_result"
    }
   ],
   "source": [
    "bp_groups.expl"
   ]
  },
  {
   "cell_type": "code",
   "execution_count": 54,
   "metadata": {},
   "outputs": [
    {
     "data": {
      "text/plain": [
       "ElapsedTime      3:23:27\n",
       "GameNo                 9\n",
       "GameWinner             1\n",
       "History            22024\n",
       "P1Ace                  0\n",
       "                 ...    \n",
       "round                NaN\n",
       "slam           wimbledon\n",
       "status               NaN\n",
       "winner               NaN\n",
       "year                2021\n",
       "Name: 87481, Length: 84, dtype: object"
      ]
     },
     "execution_count": 54,
     "metadata": {},
     "output_type": "execute_result"
    }
   ],
   "source": [
    "points.iloc[1021841]"
   ]
  },
  {
   "cell_type": "markdown",
   "metadata": {
    "pycharm": {
     "name": "#%% md\n"
    }
   },
   "source": [
    "### Add features for player win percentages"
   ]
  },
  {
   "cell_type": "code",
   "execution_count": 270,
   "metadata": {
    "pycharm": {
     "name": "#%%\n"
    }
   },
   "outputs": [],
   "source": [
    "points[\"TotalPts\"] = points[\"P1PointsWon\"] + points[\"P2PointsWon\"]\n",
    "points[\"P1WinPct\"] = points[\"P1PointsWon\"] / points[\"TotalPts\"]\n",
    "points[\"P2WinPct\"] = points[\"P2PointsWon\"] / points[\"TotalPts\"]\n",
    "\n",
    "# points[\"P1BreakPts\"] = points[\"P1BreakPoint\"].cumsum()\n",
    "# points[\"P2BreakPts\"] = points[\"P2BreakPoint\"].cumsum()\n",
    "# points[\"P1BreakPtsWon\"] = points[\"P1BreakPointWon\"].cumsum()\n",
    "# points[\"P2BreakPtsWon\"] = points[\"P2BreakPointWon\"].cumsum()\n",
    "\n",
    "# points[\"P1BreakPtWinPct\"] = points[\"P1BreakPtsWon\"] / (points[\"P1BreakPts\"] + points[\"P2BreakPts\"])\n",
    "# points[\"P2BreakPtWinPct\"] = points[\"P2BreakPtsWon\"] / (points[\"P1BreakPts\"] + points[\"P2BreakPts\"])\n"
   ]
  },
  {
   "cell_type": "markdown",
   "metadata": {
    "pycharm": {
     "name": "#%% md\n"
    }
   },
   "source": [
    "### Group data by match"
   ]
  },
  {
   "cell_type": "code",
   "execution_count": 271,
   "metadata": {
    "pycharm": {
     "name": "#%%\n"
    }
   },
   "outputs": [],
   "source": [
    "grouped_total = points.groupby([\"match_id\", \"P1BreakPoint\", \"P2BreakPoint\", \"player1\", \"player2\"])\n",
    "\n",
    "grouped_total[[\"P1WinPct\", \"P2WinPct\"]].describe().to_csv(\"../data/choking-data/choking_by_match.csv\")"
   ]
  },
  {
   "cell_type": "code",
   "execution_count": 278,
   "metadata": {
    "pycharm": {
     "name": "#%%\n"
    }
   },
   "outputs": [],
   "source": [
    "grouped_total_p1 = points.groupby([\"player1\", \"P1BreakPoint\", \"P2BreakPoint\"])\n",
    "\n",
    "grouped_total_p1[[\"P1WinPct\"]].describe().to_csv(\"../data/choking-data/choking_by_player.csv\")"
   ]
  }
 ],
 "metadata": {
  "kernelspec": {
   "display_name": "Python 3.7.3 64-bit",
   "language": "python",
   "name": "python3"
  },
  "language_info": {
   "codemirror_mode": {
    "name": "ipython",
    "version": 3
   },
   "file_extension": ".py",
   "mimetype": "text/x-python",
   "name": "python",
   "nbconvert_exporter": "python",
   "pygments_lexer": "ipython3",
   "version": "3.7.3"
  },
  "orig_nbformat": 4,
  "vscode": {
   "interpreter": {
    "hash": "aee8b7b246df8f9039afb4144a1f6fd8d2ca17a180786b69acc140d282b71a49"
   }
  }
 },
 "nbformat": 4,
 "nbformat_minor": 2
}