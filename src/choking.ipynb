{
 "cells": [
  {
   "cell_type": "code",
   "execution_count": 141,
   "metadata": {
    "pycharm": {
     "name": "#%%\n"
    }
   },
   "outputs": [],
   "source": [
    "import pandas as pd\n",
    "from matplotlib import pyplot as plt"
   ]
  },
  {
   "cell_type": "markdown",
   "metadata": {
    "pycharm": {
     "name": "#%% md\n"
    }
   },
   "source": [
    "### Read in the match points from 2011-2021 for grand-slam tournaments"
   ]
  },
  {
   "cell_type": "code",
   "execution_count": 142,
   "metadata": {
    "pycharm": {
     "name": "#%%\n"
    }
   },
   "outputs": [],
   "source": [
    "points_2011 = pd.read_csv(f\"../data/grand-slam-point-data/combined-points/2011-combined-points.csv\", encoding='unicode_escape', low_memory=False)\n",
    "match_2011 = pd.read_csv(f\"../data/grand-slam-point-data/combined-matches/2011-combined-matches.csv\", encoding='unicode_escape', low_memory=False)\n",
    "combined = pd.merge(points_2011, match_2011, on=\"match_id\", how=\"inner\")\n",
    "for i in range(2012, 2022):\n",
    "    points = pd.read_csv(f\"../data/grand-slam-point-data/combined-points/{i}-combined-points.csv\", encoding='unicode_escape', low_memory=False)\n",
    "    match = pd.read_csv(f\"../data/grand-slam-point-data/combined-matches/{i}-combined-matches.csv\", encoding='unicode_escape', low_memory=False)\n",
    "    cur_year = pd.merge(points, match, on=\"match_id\", how=\"inner\")\n",
    "    combined = pd.concat([combined, cur_year], sort=True)\n",
    "\n",
    "points = combined"
   ]
  },
  {
   "cell_type": "markdown",
   "metadata": {
    "pycharm": {
     "name": "#%% md\n"
    }
   },
   "source": [
    "P1BreakPoint == 1 if P1 is returning and is one point from winning the game (\"breaking\" the opponent's serve point)"
   ]
  },
  {
   "cell_type": "code",
   "execution_count": 143,
   "metadata": {
    "pycharm": {
     "name": "#%%\n"
    }
   },
   "outputs": [
    {
     "data": {
      "text/plain": "Index(['ElapsedTime', 'GameNo', 'GameWinner', 'History', 'P1Ace',\n       'P1BreakPoint', 'P1BreakPointMissed', 'P1BreakPointWon',\n       'P1DistanceRun', 'P1DoubleFault', 'P1FirstSrvIn', 'P1FirstSrvWon',\n       'P1ForcedError', 'P1GamesWon', 'P1Momentum', 'P1NetPoint',\n       'P1NetPointWon', 'P1PointsWon', 'P1Score', 'P1SecondSrvIn',\n       'P1SecondSrvWon', 'P1TurningPoint', 'P1UnfErr', 'P1Winner', 'P2Ace',\n       'P2BreakPoint', 'P2BreakPointMissed', 'P2BreakPointWon',\n       'P2DistanceRun', 'P2DoubleFault', 'P2FirstSrvIn', 'P2FirstSrvWon',\n       'P2ForcedError', 'P2GamesWon', 'P2Momentum', 'P2NetPoint',\n       'P2NetPointWon', 'P2PointsWon', 'P2Score', 'P2SecondSrvIn',\n       'P2SecondSrvWon', 'P2TurningPoint', 'P2UnfErr', 'P2Winner',\n       'PointNumber', 'PointServer', 'PointWinner', 'Rally', 'RallyCount',\n       'ReturnDepth', 'ServeDepth', 'ServeIndicator', 'ServeNumber',\n       'ServeWidth', 'Serve_Direction', 'ServingTo', 'SetNo', 'SetWinner',\n       'Speed_KMH', 'Speed_MPH', 'Unnamed: 0_x', 'Unnamed: 0_y', 'Unnamed: 18',\n       'WinnerShotType', 'WinnerType', 'Winner_BH', 'Winner_FH', 'court_id',\n       'court_name', 'event_name', 'match_id', 'match_id_num_x',\n       'match_id_num_y', 'match_num', 'nation1', 'nation2', 'player1',\n       'player1_new', 'player1id', 'player2', 'player2_new', 'player2id',\n       'round', 'slam', 'status', 'winner', 'year'],\n      dtype='object')"
     },
     "execution_count": 143,
     "metadata": {},
     "output_type": "execute_result"
    }
   ],
   "source": [
    "points.columns"
   ]
  },
  {
   "cell_type": "code",
   "execution_count": 144,
   "metadata": {
    "pycharm": {
     "name": "#%%\n"
    }
   },
   "outputs": [],
   "source": [
    "real_points = points[points['PointWinner'].ge(1)]"
   ]
  },
  {
   "cell_type": "code",
   "execution_count": 145,
   "metadata": {
    "pycharm": {
     "name": "#%%\n"
    }
   },
   "outputs": [
    {
     "data": {
      "text/plain": "0"
     },
     "execution_count": 145,
     "metadata": {},
     "output_type": "execute_result"
    }
   ],
   "source": [
    "real_points[real_points[\"PointServer\"].isna()][\"match_id\"].nunique()"
   ]
  },
  {
   "cell_type": "code",
   "execution_count": 146,
   "metadata": {
    "pycharm": {
     "name": "#%%\n"
    }
   },
   "outputs": [
    {
     "data": {
      "text/plain": "1        2.0\n2        2.0\n3        2.0\n4        2.0\n5        1.0\n        ... \n87477    2.0\n87478    2.0\n87479    2.0\n87480    2.0\n87481    2.0\nName: PointServer, Length: 1017411, dtype: float64"
     },
     "execution_count": 146,
     "metadata": {},
     "output_type": "execute_result"
    }
   ],
   "source": [
    "real_points[\"PointServer\"]"
   ]
  },
  {
   "cell_type": "code",
   "execution_count": 147,
   "metadata": {
    "pycharm": {
     "name": "#%%\n"
    }
   },
   "outputs": [
    {
     "name": "stderr",
     "output_type": "stream",
     "text": [
      "C:\\Users\\anhmi\\miniconda3\\lib\\site-packages\\pandas\\core\\indexing.py:1773: SettingWithCopyWarning:\n",
      "\n",
      "\n",
      "A value is trying to be set on a copy of a slice from a DataFrame.\n",
      "Try using .loc[row_indexer,col_indexer] = value instead\n",
      "\n",
      "See the caveats in the documentation: https://pandas.pydata.org/pandas-docs/stable/user_guide/indexing.html#returning-a-view-versus-a-copy\n",
      "\n"
     ]
    }
   ],
   "source": [
    "# P1 has a breakpoint when P2 is serving, and P1 is up 0-40, 15-40, 30-40, or 40-AD\n",
    "p1_breakpoint =\\\n",
    "  (real_points[\"PointServer\"] == 2) &\\\n",
    "  (((real_points[\"P1Score\"] == \"40\") &\n",
    "    (real_points[\"P2Score\"] != \"40\") &\n",
    "    (real_points[\"P2Score\"] != \"AD\")) |\n",
    "  (real_points[\"P1Score\"] == \"AD\"))\n",
    "p2_breakpoint =\\\n",
    "  (real_points[\"PointServer\"] == 1) &\\\n",
    "  (((real_points[\"P2Score\"] == \"40\") &\n",
    "    (real_points[\"P1Score\"] != \"40\") &\n",
    "    (real_points[\"P1Score\"] != \"AD\")) |\n",
    "  (real_points[\"P2Score\"] == \"AD\"))\n",
    "real_points.loc[:, \"P1BreakPoint\"] = p1_breakpoint.shift(1, fill_value=False) # P1Score is P1's score after the point is played\n",
    "real_points.loc[:, \"P2BreakPoint\"] = p2_breakpoint.shift(1, fill_value=False)"
   ]
  },
  {
   "cell_type": "code",
   "execution_count": 148,
   "metadata": {
    "pycharm": {
     "name": "#%%\n"
    }
   },
   "outputs": [
    {
     "data": {
      "text/plain": "1        False\n2        False\n3        False\n4         True\n5        False\n         ...  \n87477     True\n87478    False\n87479     True\n87480    False\n87481     True\nLength: 1017411, dtype: bool"
     },
     "execution_count": 148,
     "metadata": {},
     "output_type": "execute_result"
    }
   ],
   "source": [
    "p1_breakpoint.shift(1, fill_value=False)"
   ]
  },
  {
   "cell_type": "code",
   "execution_count": 149,
   "metadata": {
    "pycharm": {
     "name": "#%%\n"
    }
   },
   "outputs": [
    {
     "data": {
      "text/plain": "  P1Score P2Score  PointServer  PointWinner  P1BreakPoint\n1      15       0          2.0          1.0         False\n2      30       0          2.0          1.0         False\n3      40       0          2.0          1.0         False\n4       0       0          2.0          1.0          True\n5      15       0          1.0          1.0         False\n6      30       0          1.0          1.0         False",
      "text/html": "<div>\n<style scoped>\n    .dataframe tbody tr th:only-of-type {\n        vertical-align: middle;\n    }\n\n    .dataframe tbody tr th {\n        vertical-align: top;\n    }\n\n    .dataframe thead th {\n        text-align: right;\n    }\n</style>\n<table border=\"1\" class=\"dataframe\">\n  <thead>\n    <tr style=\"text-align: right;\">\n      <th></th>\n      <th>P1Score</th>\n      <th>P2Score</th>\n      <th>PointServer</th>\n      <th>PointWinner</th>\n      <th>P1BreakPoint</th>\n    </tr>\n  </thead>\n  <tbody>\n    <tr>\n      <th>1</th>\n      <td>15</td>\n      <td>0</td>\n      <td>2.0</td>\n      <td>1.0</td>\n      <td>False</td>\n    </tr>\n    <tr>\n      <th>2</th>\n      <td>30</td>\n      <td>0</td>\n      <td>2.0</td>\n      <td>1.0</td>\n      <td>False</td>\n    </tr>\n    <tr>\n      <th>3</th>\n      <td>40</td>\n      <td>0</td>\n      <td>2.0</td>\n      <td>1.0</td>\n      <td>False</td>\n    </tr>\n    <tr>\n      <th>4</th>\n      <td>0</td>\n      <td>0</td>\n      <td>2.0</td>\n      <td>1.0</td>\n      <td>True</td>\n    </tr>\n    <tr>\n      <th>5</th>\n      <td>15</td>\n      <td>0</td>\n      <td>1.0</td>\n      <td>1.0</td>\n      <td>False</td>\n    </tr>\n    <tr>\n      <th>6</th>\n      <td>30</td>\n      <td>0</td>\n      <td>1.0</td>\n      <td>1.0</td>\n      <td>False</td>\n    </tr>\n  </tbody>\n</table>\n</div>"
     },
     "execution_count": 149,
     "metadata": {},
     "output_type": "execute_result"
    }
   ],
   "source": [
    "real_points[[\"P1Score\", \"P2Score\", \"PointServer\", \"PointWinner\", \"P1BreakPoint\"]][:6]"
   ]
  },
  {
   "cell_type": "code",
   "execution_count": 150,
   "metadata": {
    "pycharm": {
     "name": "#%%\n"
    }
   },
   "outputs": [],
   "source": [
    "bp_groups = real_points.groupby(by=[\"player1_new\", \"player2_new\", \"P1BreakPoint\", \"P2BreakPoint\", \"PointWinner\", \"PointServer\"])\n",
    "counts_by_bp = bp_groups.size().reset_index(name=\"count\")"
   ]
  },
  {
   "cell_type": "code",
   "execution_count": 151,
   "metadata": {
    "pycharm": {
     "name": "#%%\n"
    }
   },
   "outputs": [],
   "source": [
    "unique_players = set(counts_by_bp[\"player1_new\"].unique().tolist() + counts_by_bp[\"player2_new\"].unique().tolist())\n",
    "player_bps_dict = dict()\n",
    "for p in unique_players:\n",
    "  player_bps_dict[p] = {\n",
    "    'noserve_nobreak_won': 0,\n",
    "    'noserve_nobreak_faced': 0,\n",
    "    'serve_nobreak_won': 0,\n",
    "    'serve_nobreak_faced': 0,\n",
    "    'noserve_break_won': 0,\n",
    "    'noserve_break_faced': 0,\n",
    "    'serve_break_won': 0,\n",
    "    'serve_break_faced': 0,\n",
    "  }"
   ]
  },
  {
   "cell_type": "code",
   "execution_count": 152,
   "metadata": {
    "pycharm": {
     "name": "#%%\n"
    }
   },
   "outputs": [],
   "source": [
    "for row in counts_by_bp.to_dict(\"records\"):\n",
    "  if row[\"P1BreakPoint\"]:\n",
    "    if row[\"PointWinner\"] == 1:\n",
    "      player_bps_dict[row[\"player1_new\"]][\"noserve_break_won\"] += row[\"count\"]\n",
    "      player_bps_dict[row[\"player1_new\"]][\"noserve_break_faced\"] += row[\"count\"]\n",
    "      player_bps_dict[row[\"player2_new\"]][\"serve_break_faced\"] += row[\"count\"]\n",
    "    else:\n",
    "      player_bps_dict[row[\"player2_new\"]][\"serve_break_won\"] += row[\"count\"]\n",
    "      player_bps_dict[row[\"player1_new\"]][\"noserve_break_faced\"] += row[\"count\"]\n",
    "      player_bps_dict[row[\"player2_new\"]][\"serve_break_faced\"] += row[\"count\"]\n",
    "  elif row[\"P2BreakPoint\"]:\n",
    "    if row[\"PointWinner\"] == 1:\n",
    "      player_bps_dict[row[\"player1_new\"]][\"serve_break_won\"] += row[\"count\"]\n",
    "      player_bps_dict[row[\"player1_new\"]][\"serve_break_faced\"] += row[\"count\"]\n",
    "      player_bps_dict[row[\"player2_new\"]][\"noserve_break_faced\"] += row[\"count\"]\n",
    "    else:\n",
    "      player_bps_dict[row[\"player2_new\"]][\"noserve_break_won\"] += row[\"count\"]\n",
    "      player_bps_dict[row[\"player1_new\"]][\"serve_break_faced\"] += row[\"count\"]\n",
    "      player_bps_dict[row[\"player2_new\"]][\"noserve_break_faced\"] += row[\"count\"]\n",
    "  else:\n",
    "    if row[\"PointWinner\"] == 1:\n",
    "      if row[\"PointServer\"] == 1:\n",
    "        player_bps_dict[row[\"player1_new\"]][\"serve_nobreak_won\"] += row[\"count\"]\n",
    "        player_bps_dict[row[\"player1_new\"]][\"serve_nobreak_faced\"] += row[\"count\"]\n",
    "        player_bps_dict[row[\"player2_new\"]][\"noserve_nobreak_faced\"] += row[\"count\"]\n",
    "      else:\n",
    "        player_bps_dict[row[\"player1_new\"]][\"noserve_nobreak_won\"] += row[\"count\"]\n",
    "        player_bps_dict[row[\"player1_new\"]][\"noserve_nobreak_faced\"] += row[\"count\"]\n",
    "        player_bps_dict[row[\"player2_new\"]][\"serve_nobreak_faced\"] += row[\"count\"]\n",
    "    else:\n",
    "      if row[\"PointServer\"] == 1:\n",
    "        player_bps_dict[row[\"player2_new\"]][\"noserve_nobreak_won\"] += row[\"count\"]\n",
    "        player_bps_dict[row[\"player1_new\"]][\"serve_nobreak_faced\"] += row[\"count\"]\n",
    "        player_bps_dict[row[\"player2_new\"]][\"noserve_nobreak_faced\"] += row[\"count\"]\n",
    "      else:\n",
    "        player_bps_dict[row[\"player2_new\"]][\"serve_nobreak_won\"] += row[\"count\"]\n",
    "        player_bps_dict[row[\"player1_new\"]][\"noserve_nobreak_faced\"] += row[\"count\"]\n",
    "        player_bps_dict[row[\"player2_new\"]][\"serve_nobreak_faced\"] += row[\"count\"]"
   ]
  },
  {
   "cell_type": "code",
   "execution_count": 153,
   "metadata": {
    "pycharm": {
     "name": "#%%\n"
    }
   },
   "outputs": [],
   "source": [
    "player_bps = pd.DataFrame.from_dict(player_bps_dict, orient=\"index\")"
   ]
  },
  {
   "cell_type": "code",
   "execution_count": 154,
   "metadata": {
    "pycharm": {
     "name": "#%%\n"
    }
   },
   "outputs": [
    {
     "data": {
      "text/plain": "0.22083842083842084"
     },
     "execution_count": 154,
     "metadata": {},
     "output_type": "execute_result"
    }
   ],
   "source": [
    "18991 / 85995"
   ]
  },
  {
   "cell_type": "code",
   "execution_count": 155,
   "metadata": {
    "pycharm": {
     "name": "#%%\n"
    }
   },
   "outputs": [
    {
     "data": {
      "text/plain": "noserve_nobreak_won      334318\nnoserve_nobreak_faced    931416\nserve_nobreak_won        597098\nserve_nobreak_faced      931416\nnoserve_break_won         34029\nnoserve_break_faced       85995\nserve_break_won           51966\nserve_break_faced         85995\ndtype: int64"
     },
     "execution_count": 155,
     "metadata": {},
     "output_type": "execute_result"
    }
   ],
   "source": [
    "player_bps.aggregate(\"sum\")"
   ]
  },
  {
   "cell_type": "code",
   "execution_count": 156,
   "metadata": {
    "pycharm": {
     "name": "#%%\n"
    }
   },
   "outputs": [
    {
     "data": {
      "text/plain": "              noserve_nobreak_won  noserve_nobreak_faced  serve_nobreak_won  \\\nC Niland                        6                     30                  7   \nC Altamirano                   15                     62                 30   \nB Mott                         23                     81                 43   \nM Crugnola                     18                     64                 35   \nC Hemery                       16                     65                 25   \n...                           ...                    ...                ...   \nK Nishikori                  5210                  13142               8392   \nA Murray                     6711                  16068              10578   \nR Federer                    7720                  19267              13106   \nR Nadal                      7359                  17174              11693   \nN Djokovic                  10392                  24055              16197   \n\n              serve_nobreak_faced  noserve_break_won  noserve_break_faced  \\\nC Niland                       24                  0                    0   \nC Altamirano                   62                  0                    0   \nB Mott                         70                  1                    1   \nM Crugnola                     70                  1                    1   \nC Hemery                       56                  0                    1   \n...                           ...                ...                  ...   \nK Nishikori                 13032                652                 1507   \nA Murray                    15950                871                 1966   \nR Federer                   18309                897                 2189   \nR Nadal                     16995               1079                 2308   \nN Djokovic                  23384               1440                 3231   \n\n              serve_break_won  serve_break_faced  \nC Niland                    1                  6  \nC Altamirano                5                 12  \nB Mott                      3                  8  \nM Crugnola                  4                 11  \nC Hemery                    5                 11  \n...                       ...                ...  \nK Nishikori               677               1127  \nA Murray                  745               1203  \nR Federer                 644                963  \nR Nadal                   819               1213  \nN Djokovic               1023               1546  \n\n[448 rows x 8 columns]",
      "text/html": "<div>\n<style scoped>\n    .dataframe tbody tr th:only-of-type {\n        vertical-align: middle;\n    }\n\n    .dataframe tbody tr th {\n        vertical-align: top;\n    }\n\n    .dataframe thead th {\n        text-align: right;\n    }\n</style>\n<table border=\"1\" class=\"dataframe\">\n  <thead>\n    <tr style=\"text-align: right;\">\n      <th></th>\n      <th>noserve_nobreak_won</th>\n      <th>noserve_nobreak_faced</th>\n      <th>serve_nobreak_won</th>\n      <th>serve_nobreak_faced</th>\n      <th>noserve_break_won</th>\n      <th>noserve_break_faced</th>\n      <th>serve_break_won</th>\n      <th>serve_break_faced</th>\n    </tr>\n  </thead>\n  <tbody>\n    <tr>\n      <th>C Niland</th>\n      <td>6</td>\n      <td>30</td>\n      <td>7</td>\n      <td>24</td>\n      <td>0</td>\n      <td>0</td>\n      <td>1</td>\n      <td>6</td>\n    </tr>\n    <tr>\n      <th>C Altamirano</th>\n      <td>15</td>\n      <td>62</td>\n      <td>30</td>\n      <td>62</td>\n      <td>0</td>\n      <td>0</td>\n      <td>5</td>\n      <td>12</td>\n    </tr>\n    <tr>\n      <th>B Mott</th>\n      <td>23</td>\n      <td>81</td>\n      <td>43</td>\n      <td>70</td>\n      <td>1</td>\n      <td>1</td>\n      <td>3</td>\n      <td>8</td>\n    </tr>\n    <tr>\n      <th>M Crugnola</th>\n      <td>18</td>\n      <td>64</td>\n      <td>35</td>\n      <td>70</td>\n      <td>1</td>\n      <td>1</td>\n      <td>4</td>\n      <td>11</td>\n    </tr>\n    <tr>\n      <th>C Hemery</th>\n      <td>16</td>\n      <td>65</td>\n      <td>25</td>\n      <td>56</td>\n      <td>0</td>\n      <td>1</td>\n      <td>5</td>\n      <td>11</td>\n    </tr>\n    <tr>\n      <th>...</th>\n      <td>...</td>\n      <td>...</td>\n      <td>...</td>\n      <td>...</td>\n      <td>...</td>\n      <td>...</td>\n      <td>...</td>\n      <td>...</td>\n    </tr>\n    <tr>\n      <th>K Nishikori</th>\n      <td>5210</td>\n      <td>13142</td>\n      <td>8392</td>\n      <td>13032</td>\n      <td>652</td>\n      <td>1507</td>\n      <td>677</td>\n      <td>1127</td>\n    </tr>\n    <tr>\n      <th>A Murray</th>\n      <td>6711</td>\n      <td>16068</td>\n      <td>10578</td>\n      <td>15950</td>\n      <td>871</td>\n      <td>1966</td>\n      <td>745</td>\n      <td>1203</td>\n    </tr>\n    <tr>\n      <th>R Federer</th>\n      <td>7720</td>\n      <td>19267</td>\n      <td>13106</td>\n      <td>18309</td>\n      <td>897</td>\n      <td>2189</td>\n      <td>644</td>\n      <td>963</td>\n    </tr>\n    <tr>\n      <th>R Nadal</th>\n      <td>7359</td>\n      <td>17174</td>\n      <td>11693</td>\n      <td>16995</td>\n      <td>1079</td>\n      <td>2308</td>\n      <td>819</td>\n      <td>1213</td>\n    </tr>\n    <tr>\n      <th>N Djokovic</th>\n      <td>10392</td>\n      <td>24055</td>\n      <td>16197</td>\n      <td>23384</td>\n      <td>1440</td>\n      <td>3231</td>\n      <td>1023</td>\n      <td>1546</td>\n    </tr>\n  </tbody>\n</table>\n<p>448 rows × 8 columns</p>\n</div>"
     },
     "execution_count": 156,
     "metadata": {},
     "output_type": "execute_result"
    }
   ],
   "source": [
    "player_bps.sort_values(\"noserve_break_faced\")"
   ]
  },
  {
   "cell_type": "code",
   "execution_count": 157,
   "metadata": {
    "pycharm": {
     "name": "#%%\n"
    }
   },
   "outputs": [],
   "source": [
    "# laplace smoothing assuming 64% serve win pct over 100 ghost points. assume 60% for break points\n",
    "player_bps[\"serve_nobreak_pct\"] = (player_bps[\"serve_nobreak_won\"] + 64) / (player_bps[\"serve_nobreak_faced\"] + 100)\n",
    "player_bps[\"serve_break_pct\"] = (player_bps[\"serve_break_won\"] + 60) / (player_bps[\"serve_break_faced\"] + 100)\n",
    "player_bps[\"noserve_nobreak_pct\"] = (player_bps[\"noserve_nobreak_won\"] + 36) / (player_bps[\"noserve_nobreak_faced\"] + 100)\n",
    "player_bps[\"noserve_break_pct\"] = (player_bps[\"noserve_break_won\"] + 40) / (player_bps[\"noserve_break_faced\"] + 100)\n",
    "\n",
    "player_bps[\"serve_choke_pct\"] = player_bps[\"serve_nobreak_pct\"] - player_bps[\"serve_break_pct\"] - 0.02 # correcting for 4% difference in averages\n",
    "player_bps[\"noserve_choke_pct\"] = player_bps[\"noserve_nobreak_pct\"] - player_bps[\"noserve_break_pct\"] + 0.04\n",
    "player_bps[\"choke_pct\"] = (player_bps[\"serve_choke_pct\"] + player_bps[\"noserve_choke_pct\"]) / 2"
   ]
  },
  {
   "cell_type": "code",
   "execution_count": 158,
   "metadata": {
    "pycharm": {
     "name": "#%%\n"
    }
   },
   "outputs": [
    {
     "data": {
      "text/plain": "noserve_nobreak_won       746.245536\nnoserve_nobreak_faced    2079.053571\nserve_nobreak_won        1332.808036\nserve_nobreak_faced      2079.053571\nnoserve_break_won          75.957589\nnoserve_break_faced       191.953125\nserve_break_won           115.995536\nserve_break_faced         191.953125\nserve_nobreak_pct           0.616997\nserve_break_pct             0.594404\nnoserve_nobreak_pct         0.342857\nnoserve_break_pct           0.392082\nserve_choke_pct             0.002593\nnoserve_choke_pct          -0.009225\nchoke_pct                  -0.003316\ndtype: float64"
     },
     "execution_count": 158,
     "metadata": {},
     "output_type": "execute_result"
    }
   ],
   "source": [
    "player_bps.agg(\"mean\")"
   ]
  },
  {
   "cell_type": "code",
   "execution_count": 159,
   "metadata": {
    "pycharm": {
     "name": "#%%\n"
    }
   },
   "outputs": [],
   "source": [
    "chokiest = player_bps[player_bps[\"noserve_break_faced\"].ge(100)].sort_values(\"choke_pct\")"
   ]
  },
  {
   "cell_type": "code",
   "execution_count": 160,
   "metadata": {
    "pycharm": {
     "name": "#%%\n"
    }
   },
   "outputs": [],
   "source": [
    "chokiest.to_csv(\"../data/chokiest.csv\")"
   ]
  },
  {
   "cell_type": "code",
   "execution_count": 161,
   "outputs": [],
   "source": [
    "import seaborn as sns\n",
    "import plotly.express as px\n",
    "import plotly.graph_objects as go\n",
    "import plotly.io as pio"
   ],
   "metadata": {
    "collapsed": false,
    "pycharm": {
     "name": "#%%\n"
    }
   }
  },
  {
   "cell_type": "code",
   "execution_count": 162,
   "outputs": [
    {
     "ename": "ValueError",
     "evalue": "Value of 'hover_name' is not the name of a column in 'data_frame'. Expected one of ['noserve_nobreak_won', 'noserve_nobreak_faced', 'serve_nobreak_won', 'serve_nobreak_faced', 'noserve_break_won', 'noserve_break_faced', 'serve_break_won', 'serve_break_faced', 'serve_nobreak_pct', 'serve_break_pct', 'noserve_nobreak_pct', 'noserve_break_pct', 'serve_choke_pct', 'noserve_choke_pct', 'choke_pct'] but received: name",
     "output_type": "error",
     "traceback": [
      "\u001B[1;31m---------------------------------------------------------------------------\u001B[0m",
      "\u001B[1;31mValueError\u001B[0m                                Traceback (most recent call last)",
      "\u001B[1;32m~\\AppData\\Local\\Temp\\ipykernel_3864\\1036866948.py\u001B[0m in \u001B[0;36m<module>\u001B[1;34m\u001B[0m\n\u001B[1;32m----> 1\u001B[1;33m \u001B[0mpx\u001B[0m\u001B[1;33m.\u001B[0m\u001B[0mscatter\u001B[0m\u001B[1;33m(\u001B[0m\u001B[0mdata_frame\u001B[0m\u001B[1;33m=\u001B[0m\u001B[0mchokiest\u001B[0m\u001B[1;33m,\u001B[0m \u001B[0mx\u001B[0m\u001B[1;33m=\u001B[0m\u001B[1;34m\"noserve_choke_pct\"\u001B[0m\u001B[1;33m,\u001B[0m \u001B[0my\u001B[0m\u001B[1;33m=\u001B[0m\u001B[1;34m\"serve_choke_pct\"\u001B[0m\u001B[1;33m,\u001B[0m \u001B[0mhover_name\u001B[0m\u001B[1;33m=\u001B[0m\u001B[1;34m\"name\"\u001B[0m\u001B[1;33m)\u001B[0m\u001B[1;33m\u001B[0m\u001B[1;33m\u001B[0m\u001B[0m\n\u001B[0m",
      "\u001B[1;32m~\\miniconda3\\lib\\site-packages\\plotly\\express\\_chart_types.py\u001B[0m in \u001B[0;36mscatter\u001B[1;34m(data_frame, x, y, color, symbol, size, hover_name, hover_data, custom_data, text, facet_row, facet_col, facet_col_wrap, facet_row_spacing, facet_col_spacing, error_x, error_x_minus, error_y, error_y_minus, animation_frame, animation_group, category_orders, labels, orientation, color_discrete_sequence, color_discrete_map, color_continuous_scale, range_color, color_continuous_midpoint, symbol_sequence, symbol_map, opacity, size_max, marginal_x, marginal_y, trendline, trendline_color_override, log_x, log_y, range_x, range_y, render_mode, title, template, width, height)\u001B[0m\n\u001B[0;32m     62\u001B[0m     \u001B[0mmark\u001B[0m \u001B[1;32min\u001B[0m \u001B[1;36m2\u001B[0m\u001B[0mD\u001B[0m \u001B[0mspace\u001B[0m\u001B[1;33m.\u001B[0m\u001B[1;33m\u001B[0m\u001B[1;33m\u001B[0m\u001B[0m\n\u001B[0;32m     63\u001B[0m     \"\"\"\n\u001B[1;32m---> 64\u001B[1;33m     \u001B[1;32mreturn\u001B[0m \u001B[0mmake_figure\u001B[0m\u001B[1;33m(\u001B[0m\u001B[0margs\u001B[0m\u001B[1;33m=\u001B[0m\u001B[0mlocals\u001B[0m\u001B[1;33m(\u001B[0m\u001B[1;33m)\u001B[0m\u001B[1;33m,\u001B[0m \u001B[0mconstructor\u001B[0m\u001B[1;33m=\u001B[0m\u001B[0mgo\u001B[0m\u001B[1;33m.\u001B[0m\u001B[0mScatter\u001B[0m\u001B[1;33m)\u001B[0m\u001B[1;33m\u001B[0m\u001B[1;33m\u001B[0m\u001B[0m\n\u001B[0m\u001B[0;32m     65\u001B[0m \u001B[1;33m\u001B[0m\u001B[0m\n\u001B[0;32m     66\u001B[0m \u001B[1;33m\u001B[0m\u001B[0m\n",
      "\u001B[1;32m~\\miniconda3\\lib\\site-packages\\plotly\\express\\_core.py\u001B[0m in \u001B[0;36mmake_figure\u001B[1;34m(args, constructor, trace_patch, layout_patch)\u001B[0m\n\u001B[0;32m   1859\u001B[0m     \u001B[0mapply_default_cascade\u001B[0m\u001B[1;33m(\u001B[0m\u001B[0margs\u001B[0m\u001B[1;33m)\u001B[0m\u001B[1;33m\u001B[0m\u001B[1;33m\u001B[0m\u001B[0m\n\u001B[0;32m   1860\u001B[0m \u001B[1;33m\u001B[0m\u001B[0m\n\u001B[1;32m-> 1861\u001B[1;33m     \u001B[0margs\u001B[0m \u001B[1;33m=\u001B[0m \u001B[0mbuild_dataframe\u001B[0m\u001B[1;33m(\u001B[0m\u001B[0margs\u001B[0m\u001B[1;33m,\u001B[0m \u001B[0mconstructor\u001B[0m\u001B[1;33m)\u001B[0m\u001B[1;33m\u001B[0m\u001B[1;33m\u001B[0m\u001B[0m\n\u001B[0m\u001B[0;32m   1862\u001B[0m     \u001B[1;32mif\u001B[0m \u001B[0mconstructor\u001B[0m \u001B[1;32min\u001B[0m \u001B[1;33m[\u001B[0m\u001B[0mgo\u001B[0m\u001B[1;33m.\u001B[0m\u001B[0mTreemap\u001B[0m\u001B[1;33m,\u001B[0m \u001B[0mgo\u001B[0m\u001B[1;33m.\u001B[0m\u001B[0mSunburst\u001B[0m\u001B[1;33m]\u001B[0m \u001B[1;32mand\u001B[0m \u001B[0margs\u001B[0m\u001B[1;33m[\u001B[0m\u001B[1;34m\"path\"\u001B[0m\u001B[1;33m]\u001B[0m \u001B[1;32mis\u001B[0m \u001B[1;32mnot\u001B[0m \u001B[1;32mNone\u001B[0m\u001B[1;33m:\u001B[0m\u001B[1;33m\u001B[0m\u001B[1;33m\u001B[0m\u001B[0m\n\u001B[0;32m   1863\u001B[0m         \u001B[0margs\u001B[0m \u001B[1;33m=\u001B[0m \u001B[0mprocess_dataframe_hierarchy\u001B[0m\u001B[1;33m(\u001B[0m\u001B[0margs\u001B[0m\u001B[1;33m)\u001B[0m\u001B[1;33m\u001B[0m\u001B[1;33m\u001B[0m\u001B[0m\n",
      "\u001B[1;32m~\\miniconda3\\lib\\site-packages\\plotly\\express\\_core.py\u001B[0m in \u001B[0;36mbuild_dataframe\u001B[1;34m(args, constructor)\u001B[0m\n\u001B[0;32m   1376\u001B[0m \u001B[1;33m\u001B[0m\u001B[0m\n\u001B[0;32m   1377\u001B[0m     df_output, wide_id_vars = process_args_into_dataframe(\n\u001B[1;32m-> 1378\u001B[1;33m         \u001B[0margs\u001B[0m\u001B[1;33m,\u001B[0m \u001B[0mwide_mode\u001B[0m\u001B[1;33m,\u001B[0m \u001B[0mvar_name\u001B[0m\u001B[1;33m,\u001B[0m \u001B[0mvalue_name\u001B[0m\u001B[1;33m\u001B[0m\u001B[1;33m\u001B[0m\u001B[0m\n\u001B[0m\u001B[0;32m   1379\u001B[0m     )\n\u001B[0;32m   1380\u001B[0m \u001B[1;33m\u001B[0m\u001B[0m\n",
      "\u001B[1;32m~\\miniconda3\\lib\\site-packages\\plotly\\express\\_core.py\u001B[0m in \u001B[0;36mprocess_args_into_dataframe\u001B[1;34m(args, wide_mode, var_name, value_name)\u001B[0m\n\u001B[0;32m   1181\u001B[0m                         \u001B[1;32mif\u001B[0m \u001B[0margument\u001B[0m \u001B[1;33m==\u001B[0m \u001B[1;34m\"index\"\u001B[0m\u001B[1;33m:\u001B[0m\u001B[1;33m\u001B[0m\u001B[1;33m\u001B[0m\u001B[0m\n\u001B[0;32m   1182\u001B[0m                             \u001B[0merr_msg\u001B[0m \u001B[1;33m+=\u001B[0m \u001B[1;34m\"\\n To use the index, pass it in directly as `df.index`.\"\u001B[0m\u001B[1;33m\u001B[0m\u001B[1;33m\u001B[0m\u001B[0m\n\u001B[1;32m-> 1183\u001B[1;33m                         \u001B[1;32mraise\u001B[0m \u001B[0mValueError\u001B[0m\u001B[1;33m(\u001B[0m\u001B[0merr_msg\u001B[0m\u001B[1;33m)\u001B[0m\u001B[1;33m\u001B[0m\u001B[1;33m\u001B[0m\u001B[0m\n\u001B[0m\u001B[0;32m   1184\u001B[0m                 \u001B[1;32melif\u001B[0m \u001B[0mlength\u001B[0m \u001B[1;32mand\u001B[0m \u001B[0mlen\u001B[0m\u001B[1;33m(\u001B[0m\u001B[0mdf_input\u001B[0m\u001B[1;33m[\u001B[0m\u001B[0margument\u001B[0m\u001B[1;33m]\u001B[0m\u001B[1;33m)\u001B[0m \u001B[1;33m!=\u001B[0m \u001B[0mlength\u001B[0m\u001B[1;33m:\u001B[0m\u001B[1;33m\u001B[0m\u001B[1;33m\u001B[0m\u001B[0m\n\u001B[0;32m   1185\u001B[0m                     raise ValueError(\n",
      "\u001B[1;31mValueError\u001B[0m: Value of 'hover_name' is not the name of a column in 'data_frame'. Expected one of ['noserve_nobreak_won', 'noserve_nobreak_faced', 'serve_nobreak_won', 'serve_nobreak_faced', 'noserve_break_won', 'noserve_break_faced', 'serve_break_won', 'serve_break_faced', 'serve_nobreak_pct', 'serve_break_pct', 'noserve_nobreak_pct', 'noserve_break_pct', 'serve_choke_pct', 'noserve_choke_pct', 'choke_pct'] but received: name"
     ]
    }
   ],
   "source": [
    "px.scatter(data_frame=chokiest, x=\"noserve_choke_pct\", y=\"serve_choke_pct\", hover_name=\"name\")"
   ],
   "metadata": {
    "collapsed": false,
    "pycharm": {
     "name": "#%%\n"
    }
   }
  },
  {
   "cell_type": "code",
   "execution_count": 163,
   "outputs": [],
   "source": [
    "df = pd.read_csv(f\"../data/chokiest - Copy.csv\")"
   ],
   "metadata": {
    "collapsed": false,
    "pycharm": {
     "name": "#%%\n"
    }
   }
  },
  {
   "cell_type": "code",
   "execution_count": 164,
   "outputs": [
    {
     "data": {
      "text/plain": "             name  noserve_nobreak_won  noserve_nobreak_faced  \\\n0         D Brown                  622                   2052   \n1        M Jaziri                  767                   2273   \n2       D Koepfer                  754                   2043   \n3         M Giron                  512                   1564   \n4        J Vesely                 1462                   4563   \n..            ...                  ...                    ...   \n189       R Albot                 1226                   3279   \n190   K Majchrzak                  387                   1151   \n191     I Ivashka                  457                   1221   \n192        M Fish                  986                   2519   \n193  E Ruusuvuori                  296                    725   \n\n     serve_nobreak_won  serve_nobreak_faced  noserve_break_won  \\\n0                 1359                 2176                 45   \n1                 1348                 2346                 65   \n2                 1351                 2230                 86   \n3                  999                 1658                 62   \n4                 3058                 4667                127   \n..                 ...                  ...                ...   \n189               1876                 3132                118   \n190                681                 1088                 27   \n191                781                 1190                 43   \n192               1622                 2386                 98   \n193                416                  674                 36   \n\n     noserve_break_faced  serve_break_won  serve_break_faced  \\\n0                    110              129                204   \n1                    171              205                326   \n2                    194              164                255   \n3                    139              117                202   \n4                    317              264                396   \n..                   ...              ...                ...   \n189                  328              179                346   \n190                  105               71                131   \n191                  118               53                 97   \n192                  265               98                157   \n193                  105               33                 71   \n\n     serve_nobreak_pct  serve_break_pct  noserve_nobreak_pct  \\\n0             0.625220         0.621711             0.305762   \n1             0.577269         0.622066             0.338390   \n2             0.607296         0.630986             0.368642   \n3             0.604664         0.586093             0.329327   \n4             0.654919         0.653226             0.321252   \n..                 ...              ...                  ...   \n189           0.600248         0.535874             0.373483   \n190           0.627104         0.567100             0.338129   \n191           0.655039         0.573604             0.373202   \n192           0.678198         0.614786             0.390225   \n193           0.620155         0.543860             0.402424   \n\n     noserve_break_pct  serve_choke_pct  noserve_choke_pct  choke_pct  \n0             0.404762        -0.016491          -0.059000  -0.037745  \n1             0.387454        -0.064797          -0.009064  -0.036930  \n2             0.428571        -0.043690          -0.019929  -0.031810  \n3             0.426778        -0.001428          -0.057451  -0.029440  \n4             0.400480        -0.018307          -0.039227  -0.028767  \n..                 ...              ...                ...        ...  \n189           0.369159         0.044373           0.044324   0.044349  \n190           0.326829         0.040005           0.051300   0.045653  \n191           0.380734         0.061435           0.032468   0.046951  \n192           0.378082         0.043412           0.052143   0.047778  \n193           0.370732         0.056295           0.071693   0.063994  \n\n[194 rows x 16 columns]",
      "text/html": "<div>\n<style scoped>\n    .dataframe tbody tr th:only-of-type {\n        vertical-align: middle;\n    }\n\n    .dataframe tbody tr th {\n        vertical-align: top;\n    }\n\n    .dataframe thead th {\n        text-align: right;\n    }\n</style>\n<table border=\"1\" class=\"dataframe\">\n  <thead>\n    <tr style=\"text-align: right;\">\n      <th></th>\n      <th>name</th>\n      <th>noserve_nobreak_won</th>\n      <th>noserve_nobreak_faced</th>\n      <th>serve_nobreak_won</th>\n      <th>serve_nobreak_faced</th>\n      <th>noserve_break_won</th>\n      <th>noserve_break_faced</th>\n      <th>serve_break_won</th>\n      <th>serve_break_faced</th>\n      <th>serve_nobreak_pct</th>\n      <th>serve_break_pct</th>\n      <th>noserve_nobreak_pct</th>\n      <th>noserve_break_pct</th>\n      <th>serve_choke_pct</th>\n      <th>noserve_choke_pct</th>\n      <th>choke_pct</th>\n    </tr>\n  </thead>\n  <tbody>\n    <tr>\n      <th>0</th>\n      <td>D Brown</td>\n      <td>622</td>\n      <td>2052</td>\n      <td>1359</td>\n      <td>2176</td>\n      <td>45</td>\n      <td>110</td>\n      <td>129</td>\n      <td>204</td>\n      <td>0.625220</td>\n      <td>0.621711</td>\n      <td>0.305762</td>\n      <td>0.404762</td>\n      <td>-0.016491</td>\n      <td>-0.059000</td>\n      <td>-0.037745</td>\n    </tr>\n    <tr>\n      <th>1</th>\n      <td>M Jaziri</td>\n      <td>767</td>\n      <td>2273</td>\n      <td>1348</td>\n      <td>2346</td>\n      <td>65</td>\n      <td>171</td>\n      <td>205</td>\n      <td>326</td>\n      <td>0.577269</td>\n      <td>0.622066</td>\n      <td>0.338390</td>\n      <td>0.387454</td>\n      <td>-0.064797</td>\n      <td>-0.009064</td>\n      <td>-0.036930</td>\n    </tr>\n    <tr>\n      <th>2</th>\n      <td>D Koepfer</td>\n      <td>754</td>\n      <td>2043</td>\n      <td>1351</td>\n      <td>2230</td>\n      <td>86</td>\n      <td>194</td>\n      <td>164</td>\n      <td>255</td>\n      <td>0.607296</td>\n      <td>0.630986</td>\n      <td>0.368642</td>\n      <td>0.428571</td>\n      <td>-0.043690</td>\n      <td>-0.019929</td>\n      <td>-0.031810</td>\n    </tr>\n    <tr>\n      <th>3</th>\n      <td>M Giron</td>\n      <td>512</td>\n      <td>1564</td>\n      <td>999</td>\n      <td>1658</td>\n      <td>62</td>\n      <td>139</td>\n      <td>117</td>\n      <td>202</td>\n      <td>0.604664</td>\n      <td>0.586093</td>\n      <td>0.329327</td>\n      <td>0.426778</td>\n      <td>-0.001428</td>\n      <td>-0.057451</td>\n      <td>-0.029440</td>\n    </tr>\n    <tr>\n      <th>4</th>\n      <td>J Vesely</td>\n      <td>1462</td>\n      <td>4563</td>\n      <td>3058</td>\n      <td>4667</td>\n      <td>127</td>\n      <td>317</td>\n      <td>264</td>\n      <td>396</td>\n      <td>0.654919</td>\n      <td>0.653226</td>\n      <td>0.321252</td>\n      <td>0.400480</td>\n      <td>-0.018307</td>\n      <td>-0.039227</td>\n      <td>-0.028767</td>\n    </tr>\n    <tr>\n      <th>...</th>\n      <td>...</td>\n      <td>...</td>\n      <td>...</td>\n      <td>...</td>\n      <td>...</td>\n      <td>...</td>\n      <td>...</td>\n      <td>...</td>\n      <td>...</td>\n      <td>...</td>\n      <td>...</td>\n      <td>...</td>\n      <td>...</td>\n      <td>...</td>\n      <td>...</td>\n      <td>...</td>\n    </tr>\n    <tr>\n      <th>189</th>\n      <td>R Albot</td>\n      <td>1226</td>\n      <td>3279</td>\n      <td>1876</td>\n      <td>3132</td>\n      <td>118</td>\n      <td>328</td>\n      <td>179</td>\n      <td>346</td>\n      <td>0.600248</td>\n      <td>0.535874</td>\n      <td>0.373483</td>\n      <td>0.369159</td>\n      <td>0.044373</td>\n      <td>0.044324</td>\n      <td>0.044349</td>\n    </tr>\n    <tr>\n      <th>190</th>\n      <td>K Majchrzak</td>\n      <td>387</td>\n      <td>1151</td>\n      <td>681</td>\n      <td>1088</td>\n      <td>27</td>\n      <td>105</td>\n      <td>71</td>\n      <td>131</td>\n      <td>0.627104</td>\n      <td>0.567100</td>\n      <td>0.338129</td>\n      <td>0.326829</td>\n      <td>0.040005</td>\n      <td>0.051300</td>\n      <td>0.045653</td>\n    </tr>\n    <tr>\n      <th>191</th>\n      <td>I Ivashka</td>\n      <td>457</td>\n      <td>1221</td>\n      <td>781</td>\n      <td>1190</td>\n      <td>43</td>\n      <td>118</td>\n      <td>53</td>\n      <td>97</td>\n      <td>0.655039</td>\n      <td>0.573604</td>\n      <td>0.373202</td>\n      <td>0.380734</td>\n      <td>0.061435</td>\n      <td>0.032468</td>\n      <td>0.046951</td>\n    </tr>\n    <tr>\n      <th>192</th>\n      <td>M Fish</td>\n      <td>986</td>\n      <td>2519</td>\n      <td>1622</td>\n      <td>2386</td>\n      <td>98</td>\n      <td>265</td>\n      <td>98</td>\n      <td>157</td>\n      <td>0.678198</td>\n      <td>0.614786</td>\n      <td>0.390225</td>\n      <td>0.378082</td>\n      <td>0.043412</td>\n      <td>0.052143</td>\n      <td>0.047778</td>\n    </tr>\n    <tr>\n      <th>193</th>\n      <td>E Ruusuvuori</td>\n      <td>296</td>\n      <td>725</td>\n      <td>416</td>\n      <td>674</td>\n      <td>36</td>\n      <td>105</td>\n      <td>33</td>\n      <td>71</td>\n      <td>0.620155</td>\n      <td>0.543860</td>\n      <td>0.402424</td>\n      <td>0.370732</td>\n      <td>0.056295</td>\n      <td>0.071693</td>\n      <td>0.063994</td>\n    </tr>\n  </tbody>\n</table>\n<p>194 rows × 16 columns</p>\n</div>"
     },
     "execution_count": 164,
     "metadata": {},
     "output_type": "execute_result"
    }
   ],
   "source": [
    "df"
   ],
   "metadata": {
    "collapsed": false,
    "pycharm": {
     "name": "#%%\n"
    }
   }
  },
  {
   "cell_type": "code",
   "execution_count": 165,
   "outputs": [
    {
     "data": {
      "application/vnd.plotly.v1+json": {
       "config": {
        "plotlyServerURL": "https://plot.ly"
       },
       "data": [
        {
         "hovertemplate": "<b>%{hovertext}</b><br><br>noserve_choke_pct=%{x}<br>choke_pct=%{y}<extra></extra>",
         "hovertext": [
          "D Brown",
          "M Jaziri",
          "D Koepfer",
          "M Giron",
          "J Vesely",
          "J Duckworth",
          "L Lacko",
          "P Gojowczyk",
          "T Kokkinakis",
          "J Millman",
          "V Troicki",
          "B Tomic",
          "C Berlocq",
          "J Ward",
          "K Khachanov",
          "F Bagnis",
          "L Rosol",
          "L Kubot",
          "D Young",
          "M Matosevic",
          "S Darcis",
          "M Kukushkin",
          "Q Halys",
          "Y Sugita",
          "I Karlovic",
          "P Kohlschreiber",
          "H Chung",
          "G Simon",
          "J Donaldson",
          "F Delbonis",
          "J Nieminen",
          "J Sinner",
          "P Martinez",
          "P Lorenzi",
          "B Klahn",
          "F Verdasco",
          "J Wilfried Tsonga",
          "S Johnson",
          "L Sonego",
          "M Mcdonald",
          "C Norrie",
          "R Opelka",
          "V Pospisil",
          "S Giraldo",
          "R Harrison",
          "T Gabashvili",
          "N Mahut",
          "J Benneteau",
          "D Lajovic",
          "A Bublik",
          "A De Minaur",
          "K Edmund",
          "A Ramos-Vinolas",
          "B Coric",
          "R Soderling",
          "T Sandgren",
          "I Dodig",
          "T Smyczek",
          "M Youzhny",
          "M Berrettini",
          "H Laaksonen",
          "D Kudla",
          "R Nadal",
          "D Shapovalov",
          "J Melzer",
          "T Ito",
          "T Bellucci",
          "M Russell",
          "P Carreno Busta",
          "A Popyrin",
          "M Klizan",
          "T Berdych",
          "D Evans",
          "N Kyrgios",
          "P Cuevas",
          "M Zverev",
          "B Van De Zandschulp",
          "A Roddick",
          "T Fritz",
          "E Gulbis",
          "S Stakhovsky",
          "R Dutra Silva",
          "A Bedene",
          "B Paire",
          "G Garcia-Lopez",
          "S Wawrinka",
          "R Bautista Agut",
          "J Sock",
          "D Sela",
          "J Janowicz",
          "G Pella",
          "F Mayer",
          "M Polmans",
          "L Djere",
          "F Fognini",
          "T Monteiro",
          "T Haas",
          "P Andujar",
          "A Mannarino",
          "C Garin",
          "F Lopez",
          "D Dzumhur",
          "M Copil",
          "R Stepanek",
          "S Travaglia",
          "E Roger-Vasselin",
          "Y Lu",
          "A Davidovich Fokina",
          "N Basilashvili",
          "G Monfils",
          "N Almagro",
          "J Tipsarevic",
          "A Dolgopolov",
          "F Tiafoe",
          "J Isner",
          "T Fabbiano",
          "A Seppi",
          "H Hurkacz",
          "T Robredo",
          "M Raonic",
          "S Robert",
          "D Schwartzman",
          "J Ignacio Chela",
          "S Caruso",
          "N Gombos",
          "R Haase",
          "S Kwon",
          "J Munar",
          "G Dimitrov",
          "S Bolelli",
          "M Baghdatis",
          "C Alcaraz",
          "B Becker",
          "K Nishikori",
          "J Lennard Struff",
          "F Krajinovic",
          "R Bemelmans",
          "R Carballes Baena",
          "G Muller",
          "C Ruud",
          "Y Nishioka",
          "E Donskoy",
          "J Struff",
          "M Kecmanovic",
          "A Falla",
          "J Londero",
          "M Granollers",
          "D Nalbandian",
          "L Mayer",
          "L Hewitt",
          "J Thompson",
          "S Querrey",
          "L Pouille",
          "M Ymer",
          "A Murray",
          "A Zverev",
          "N Djokovic",
          "P Herbert",
          "D Medvedev",
          "A Rublev",
          "P Mathieu",
          "K Anderson",
          "U Humbert",
          "B Kavcic",
          "A Kuznetsov",
          "G Barrere",
          "T Daniel",
          "J Chardy",
          "D Thiem",
          "J Sousa",
          "L Harris",
          "M Cilic",
          "R Berankis",
          "C Moutet",
          "D Istomin",
          "S Tsitsipas",
          "R Gasquet",
          "R Federer",
          "M Cecchinato",
          "T Kamke",
          "D Goffin",
          "D Ferrer",
          "F Auger Aliassime",
          "M Ebden",
          "S Korda",
          "J Martin Del Potro",
          "J Monaco",
          "M Fucsovics",
          "P Petzschner",
          "R Albot",
          "K Majchrzak",
          "I Ivashka",
          "M Fish",
          "E Ruusuvuori"
         ],
         "legendgroup": "",
         "marker": {
          "color": "#636efa",
          "symbol": "circle"
         },
         "mode": "markers",
         "name": "",
         "orientation": "v",
         "selected": {
          "marker": {
           "color": "red"
          }
         },
         "selectedpoints": [
          62,
          77,
          85,
          149,
          154,
          156,
          158,
          168,
          171,
          177,
          185
         ],
         "showlegend": false,
         "type": "scatter",
         "unselected": {
          "marker": {
           "color": "blue"
          }
         },
         "x": [
          -0.0589998229775181,
          -0.0090636511927698,
          -0.0199293380441303,
          -0.0574513196009012,
          -0.0392272036970466,
          3.864043991564E-4,
          -0.0666713293759576,
          -0.0125338482693184,
          -0.0146451082488352,
          -0.0467513951272628,
          -0.0160923649100001,
          -0.0023774403470715,
          -0.0244389912807393,
          0.0131960829139512,
          -0.0213544894514214,
          -0.0051567163695929,
          -0.0329134684903287,
          -0.0449999178347821,
          -0.0156200980207257,
          0.0110281396089845,
          -0.0205260587909762,
          6.560127511429E-4,
          -0.0079605034344839,
          -0.0284967542453823,
          -0.0498166778448468,
          -0.0234326023188695,
          -0.0303007918371685,
          -0.0172518423072772,
          -0.0294074271499645,
          6.241151072675E-4,
          -0.0135960591133004,
          -0.0258266129032257,
          0.0309384603262154,
          -0.0162617781604944,
          -0.0418425281199786,
          0.006748510479698,
          -0.0053231358388104,
          -0.0053858518691524,
          -0.0415881155562515,
          -0.0234533349920342,
          0.0090429302875147,
          -0.031842463205021,
          -0.0484526707043263,
          -0.0178936452629832,
          -0.0203190919418553,
          0.022005364795733,
          -0.0294523339096073,
          -8.436627903264E-4,
          -0.0010322436184504,
          0.0030783758262511,
          0.0092589010651175,
          -0.0174302887522634,
          0.0031323290666011,
          -0.0255205847733004,
          -0.0445648604269294,
          -0.0124753954445214,
          -0.0022295500478672,
          0.0120110815747796,
          -0.0092586523288277,
          -0.0137314646115675,
          -0.0156491408330742,
          -0.0035117622604183,
          0.0033990380565419,
          0.0243124364091727,
          -0.0215631877343836,
          0.0080365296803653,
          -0.0084366152878263,
          0.0208923032627046,
          0.0171119612742036,
          0.0141949038086377,
          0.0200423749452047,
          0.0055474836939894,
          0.0185770309552201,
          -0.0235809992012999,
          -0.0104399418309577,
          0.02772051119395,
          0.0081415929203539,
          -0.0381817886812045,
          0.0021453621453621,
          -9.433373021294E-4,
          -0.0111314195055023,
          -0.0032606941081517,
          -0.008158922875425,
          0.0225986417654673,
          -1.009594451701E-4,
          0.0240255427876423,
          0.0044053925719749,
          -0.0066477459273023,
          0.0015720545147936,
          0.0213633864760857,
          0.0215641818390015,
          0.0306407198356281,
          0.0096988252583583,
          0.019690851520207,
          -0.0032653272520203,
          -0.026601609649715,
          0.0059233815717852,
          0.0160351660767404,
          -0.0217375579877371,
          0.0163042355937833,
          0.0083148308895719,
          -0.0043460764587524,
          -0.0125140749369054,
          0.0194424449460135,
          -0.0150840212035007,
          0.0227631281599085,
          0.004746325272641,
          0.0142592592592592,
          -0.0105763131430339,
          0.0066449085906899,
          0.006113147589256,
          0.0136529323929947,
          -0.0017102679595985,
          -0.0182772564048402,
          0.0116027786080002,
          0.01219294081042,
          0.0021931068173721,
          0.0034941686665824,
          0.0196480643539467,
          0.02715976636734,
          0.0236343366778149,
          0.0122188856736693,
          0.035541539799913,
          0.0562401145774955,
          0.0143595797426514,
          0.0013132833181383,
          0.0088200136803507,
          0.0446468066712294,
          0.0411925673461362,
          0.0121226688413416,
          0.0229929960908659,
          0.0110236387176626,
          -0.0346852158835027,
          0.0055476667317985,
          0.0288590212779738,
          0.0053936472623902,
          -9.472880061115E-4,
          0.008623354591436,
          0.0407741490125058,
          0.0367394745172523,
          0.0376317543729704,
          0.0270875179340029,
          -0.0084577456713679,
          0.0419569657711662,
          0.0127627487425234,
          -0.0032804706982543,
          0.0383574304276772,
          0.0447826086956521,
          0.009317099125184,
          0.0198998130809287,
          0.0115918799682233,
          -0.0089562009581288,
          0.0185212449088102,
          0.0139750778816199,
          0.0163570960864456,
          -0.0061308583517957,
          0.027400843185966,
          0.0101842275371687,
          -0.0042904490022516,
          0.0159175057716694,
          0.0258275606889925,
          0.0319199271139252,
          0.0376401394133023,
          0.00774214113132,
          -0.0132919005189671,
          0.0168875273707259,
          0.0249265407365007,
          0.0117243365156719,
          0.0407028827084163,
          0.0229627533620266,
          -0.0152209137162654,
          0.0379834053354795,
          0.032675840868772,
          0.0277198424605698,
          0.0210891186178498,
          0.0012144063448629,
          0.022872708134788,
          0.0311259741278931,
          0.0245535246442692,
          0.0440563304359544,
          0.0144926077155715,
          0.0279565589464806,
          0.0333845969876103,
          0.0069079383101523,
          0.0363944261374551,
          0.0212134780124536,
          0.0606568300809138,
          0.0175682382133995,
          0.0406693286824551,
          0.044324400571977,
          0.0513002281101947,
          0.0324681746522303,
          0.052143085042393,
          0.0716925351071692
         ],
         "xaxis": "x",
         "y": [
          -0.0377453328188857,
          -0.0369301841313505,
          -0.0318095580990162,
          -0.029439821739439,
          -0.0287668868658128,
          -0.0276363077773459,
          -0.0265135858268544,
          -0.0259417838396333,
          -0.0247573146911865,
          -0.0225115457126702,
          -0.0215967359756103,
          -0.0213587571524274,
          -0.0209715597983476,
          -0.0186077125814632,
          -0.0168724154319324,
          -0.0164131262622069,
          -0.0162440689629687,
          -0.0158036176242756,
          -0.0153284456550501,
          -0.0148535216323194,
          -0.0147080449437906,
          -0.0143106532216299,
          -0.0131208964634564,
          -0.0130141773572965,
          -0.0128408929003565,
          -0.0127567899083438,
          -0.012034321296059,
          -0.011245653822975,
          -0.011104114678526,
          -0.0110418764468469,
          -0.0109258378593047,
          -0.0105242400689362,
          -0.0103041974676204,
          -0.0102043380172809,
          -0.0100596237742349,
          -0.0099865675118366,
          -0.0098451746173135,
          -0.0098286517434825,
          -0.0096093392249861,
          -0.0092829104656458,
          -0.0076932548239013,
          -0.0067968436454317,
          -0.00657320978004,
          -0.006237663566299,
          -0.0060768692608755,
          -0.0059234913041049,
          -0.0055767172684136,
          -0.0047071511763259,
          -0.0044296101653502,
          -0.0042084959073921,
          -0.003851776115788,
          -0.0034995311733491,
          -0.002636922702475,
          -0.0022675636559352,
          -0.0021329796640141,
          -0.0017984013901336,
          -0.001336198626994,
          -5.806549551305E-4,
          -1.617048110496E-4,
          1.536841739143E-4,
          1.971974212719E-4,
          7.218423793844E-4,
          8.423695519896E-4,
          0.0016755516803393,
          0.0020062565525967,
          0.0020335320157551,
          0.0022111507570802,
          0.002298590887839,
          0.0024264716398696,
          0.0027635797415923,
          0.0028190690851589,
          0.0030296618753998,
          0.0030507396535296,
          0.0033070148990622,
          0.003658396649205,
          0.0037558161904569,
          0.0040000417431958,
          0.0041458575963388,
          0.0041936715978266,
          0.0041979275200173,
          0.0043791095139482,
          0.0044126767301992,
          0.0044219568735917,
          0.004461730109645,
          0.0050575132103605,
          0.0051646852760958,
          0.0051942492043936,
          0.0054756085585846,
          0.0058009305603035,
          0.0059258744701792,
          0.0061278863979788,
          0.0064403998614072,
          0.006702689331864,
          0.0068263055905949,
          0.0068647027851804,
          0.0068757544866499,
          0.0069048726040744,
          0.0069807830702748,
          0.0071593265848985,
          0.0073594761890624,
          0.0077193495615264,
          0.0081057273981895,
          0.00827498944,
          0.0084048069297871,
          0.0084490056812366,
          0.0084604092794755,
          0.0086152319560725,
          0.0087289557897486,
          0.008986764563723,
          0.0090758048202154,
          0.0090894003117899,
          0.0094250287082274,
          0.0094951660955867,
          0.0099982235888939,
          0.0105189410525765,
          0.0105660793870141,
          0.0106517470348154,
          0.0106876178651669,
          0.0109547012209592,
          0.0110537316896975,
          0.0116117901209109,
          0.0117860004276167,
          0.0118611387295817,
          0.0121291958908801,
          0.0125617181433331,
          0.0130778916457533,
          0.0134366214157513,
          0.0135291204851106,
          0.013568949349107,
          0.0139059944289061,
          0.0139513639326406,
          0.0139901894117343,
          0.0143383256883348,
          0.0144094554649742,
          0.0147407656359667,
          0.0149820538783155,
          0.015048121053593,
          0.0150975239704337,
          0.0153698560320175,
          0.0162164481526506,
          0.0165092486155544,
          0.0171299973644175,
          0.0171858163129097,
          0.0173698158940953,
          0.0173888139867153,
          0.0176001032495768,
          0.0181106515096731,
          0.0181257807148326,
          0.0185258693165586,
          0.0186909102987112,
          0.0188035383914538,
          0.0188384604110259,
          0.0205049815147212,
          0.0207693588496246,
          0.020802495176964,
          0.0209214875708385,
          0.0209355216057524,
          0.021062005567954,
          0.0219917747557815,
          0.0232076408333035,
          0.0235320586700374,
          0.0240523270457475,
          0.0241154233940639,
          0.0243373942109574,
          0.0252265882295962,
          0.0262218715150041,
          0.0264227401700773,
          0.0266095856528692,
          0.0266646067829552,
          0.026848693703069,
          0.0275767089172683,
          0.0286829816336888,
          0.0291240351474296,
          0.0292248213390374,
          0.0296972380296024,
          0.0297671906866561,
          0.0313295484321002,
          0.032130169349882,
          0.032146064903134,
          0.0322862980001022,
          0.0322929880286307,
          0.0329924272089398,
          0.0338338258368966,
          0.035546092821244,
          0.0356402332394272,
          0.0362579584846418,
          0.036277288896644,
          0.0401205847814583,
          0.0413409536494036,
          0.0443487429312844,
          0.0456525190575023,
          0.0469514367142236,
          0.047777500555449,
          0.063993962372026
         ],
         "yaxis": "y"
        }
       ],
       "layout": {
        "legend": {
         "tracegroupgap": 0
        },
        "margin": {
         "t": 60
        },
        "template": {
         "data": {
          "bar": [
           {
            "error_x": {
             "color": "#f2f5fa"
            },
            "error_y": {
             "color": "#f2f5fa"
            },
            "marker": {
             "line": {
              "color": "rgb(17,17,17)",
              "width": 0.5
             }
            },
            "type": "bar"
           }
          ],
          "barpolar": [
           {
            "marker": {
             "line": {
              "color": "rgb(17,17,17)",
              "width": 0.5
             }
            },
            "type": "barpolar"
           }
          ],
          "carpet": [
           {
            "aaxis": {
             "endlinecolor": "#A2B1C6",
             "gridcolor": "#506784",
             "linecolor": "#506784",
             "minorgridcolor": "#506784",
             "startlinecolor": "#A2B1C6"
            },
            "baxis": {
             "endlinecolor": "#A2B1C6",
             "gridcolor": "#506784",
             "linecolor": "#506784",
             "minorgridcolor": "#506784",
             "startlinecolor": "#A2B1C6"
            },
            "type": "carpet"
           }
          ],
          "choropleth": [
           {
            "colorbar": {
             "outlinewidth": 0,
             "ticks": ""
            },
            "type": "choropleth"
           }
          ],
          "contour": [
           {
            "colorbar": {
             "outlinewidth": 0,
             "ticks": ""
            },
            "colorscale": [
             [
              0.0,
              "#0d0887"
             ],
             [
              0.1111111111111111,
              "#46039f"
             ],
             [
              0.2222222222222222,
              "#7201a8"
             ],
             [
              0.3333333333333333,
              "#9c179e"
             ],
             [
              0.4444444444444444,
              "#bd3786"
             ],
             [
              0.5555555555555556,
              "#d8576b"
             ],
             [
              0.6666666666666666,
              "#ed7953"
             ],
             [
              0.7777777777777778,
              "#fb9f3a"
             ],
             [
              0.8888888888888888,
              "#fdca26"
             ],
             [
              1.0,
              "#f0f921"
             ]
            ],
            "type": "contour"
           }
          ],
          "contourcarpet": [
           {
            "colorbar": {
             "outlinewidth": 0,
             "ticks": ""
            },
            "type": "contourcarpet"
           }
          ],
          "heatmap": [
           {
            "colorbar": {
             "outlinewidth": 0,
             "ticks": ""
            },
            "colorscale": [
             [
              0.0,
              "#0d0887"
             ],
             [
              0.1111111111111111,
              "#46039f"
             ],
             [
              0.2222222222222222,
              "#7201a8"
             ],
             [
              0.3333333333333333,
              "#9c179e"
             ],
             [
              0.4444444444444444,
              "#bd3786"
             ],
             [
              0.5555555555555556,
              "#d8576b"
             ],
             [
              0.6666666666666666,
              "#ed7953"
             ],
             [
              0.7777777777777778,
              "#fb9f3a"
             ],
             [
              0.8888888888888888,
              "#fdca26"
             ],
             [
              1.0,
              "#f0f921"
             ]
            ],
            "type": "heatmap"
           }
          ],
          "heatmapgl": [
           {
            "colorbar": {
             "outlinewidth": 0,
             "ticks": ""
            },
            "colorscale": [
             [
              0.0,
              "#0d0887"
             ],
             [
              0.1111111111111111,
              "#46039f"
             ],
             [
              0.2222222222222222,
              "#7201a8"
             ],
             [
              0.3333333333333333,
              "#9c179e"
             ],
             [
              0.4444444444444444,
              "#bd3786"
             ],
             [
              0.5555555555555556,
              "#d8576b"
             ],
             [
              0.6666666666666666,
              "#ed7953"
             ],
             [
              0.7777777777777778,
              "#fb9f3a"
             ],
             [
              0.8888888888888888,
              "#fdca26"
             ],
             [
              1.0,
              "#f0f921"
             ]
            ],
            "type": "heatmapgl"
           }
          ],
          "histogram": [
           {
            "marker": {
             "colorbar": {
              "outlinewidth": 0,
              "ticks": ""
             }
            },
            "type": "histogram"
           }
          ],
          "histogram2d": [
           {
            "colorbar": {
             "outlinewidth": 0,
             "ticks": ""
            },
            "colorscale": [
             [
              0.0,
              "#0d0887"
             ],
             [
              0.1111111111111111,
              "#46039f"
             ],
             [
              0.2222222222222222,
              "#7201a8"
             ],
             [
              0.3333333333333333,
              "#9c179e"
             ],
             [
              0.4444444444444444,
              "#bd3786"
             ],
             [
              0.5555555555555556,
              "#d8576b"
             ],
             [
              0.6666666666666666,
              "#ed7953"
             ],
             [
              0.7777777777777778,
              "#fb9f3a"
             ],
             [
              0.8888888888888888,
              "#fdca26"
             ],
             [
              1.0,
              "#f0f921"
             ]
            ],
            "type": "histogram2d"
           }
          ],
          "histogram2dcontour": [
           {
            "colorbar": {
             "outlinewidth": 0,
             "ticks": ""
            },
            "colorscale": [
             [
              0.0,
              "#0d0887"
             ],
             [
              0.1111111111111111,
              "#46039f"
             ],
             [
              0.2222222222222222,
              "#7201a8"
             ],
             [
              0.3333333333333333,
              "#9c179e"
             ],
             [
              0.4444444444444444,
              "#bd3786"
             ],
             [
              0.5555555555555556,
              "#d8576b"
             ],
             [
              0.6666666666666666,
              "#ed7953"
             ],
             [
              0.7777777777777778,
              "#fb9f3a"
             ],
             [
              0.8888888888888888,
              "#fdca26"
             ],
             [
              1.0,
              "#f0f921"
             ]
            ],
            "type": "histogram2dcontour"
           }
          ],
          "mesh3d": [
           {
            "colorbar": {
             "outlinewidth": 0,
             "ticks": ""
            },
            "type": "mesh3d"
           }
          ],
          "parcoords": [
           {
            "line": {
             "colorbar": {
              "outlinewidth": 0,
              "ticks": ""
             }
            },
            "type": "parcoords"
           }
          ],
          "pie": [
           {
            "automargin": true,
            "type": "pie"
           }
          ],
          "scatter": [
           {
            "marker": {
             "line": {
              "color": "#283442"
             }
            },
            "type": "scatter"
           }
          ],
          "scatter3d": [
           {
            "line": {
             "colorbar": {
              "outlinewidth": 0,
              "ticks": ""
             }
            },
            "marker": {
             "colorbar": {
              "outlinewidth": 0,
              "ticks": ""
             }
            },
            "type": "scatter3d"
           }
          ],
          "scattercarpet": [
           {
            "marker": {
             "colorbar": {
              "outlinewidth": 0,
              "ticks": ""
             }
            },
            "type": "scattercarpet"
           }
          ],
          "scattergeo": [
           {
            "marker": {
             "colorbar": {
              "outlinewidth": 0,
              "ticks": ""
             }
            },
            "type": "scattergeo"
           }
          ],
          "scattergl": [
           {
            "marker": {
             "line": {
              "color": "#283442"
             }
            },
            "type": "scattergl"
           }
          ],
          "scattermapbox": [
           {
            "marker": {
             "colorbar": {
              "outlinewidth": 0,
              "ticks": ""
             }
            },
            "type": "scattermapbox"
           }
          ],
          "scatterpolar": [
           {
            "marker": {
             "colorbar": {
              "outlinewidth": 0,
              "ticks": ""
             }
            },
            "type": "scatterpolar"
           }
          ],
          "scatterpolargl": [
           {
            "marker": {
             "colorbar": {
              "outlinewidth": 0,
              "ticks": ""
             }
            },
            "type": "scatterpolargl"
           }
          ],
          "scatterternary": [
           {
            "marker": {
             "colorbar": {
              "outlinewidth": 0,
              "ticks": ""
             }
            },
            "type": "scatterternary"
           }
          ],
          "surface": [
           {
            "colorbar": {
             "outlinewidth": 0,
             "ticks": ""
            },
            "colorscale": [
             [
              0.0,
              "#0d0887"
             ],
             [
              0.1111111111111111,
              "#46039f"
             ],
             [
              0.2222222222222222,
              "#7201a8"
             ],
             [
              0.3333333333333333,
              "#9c179e"
             ],
             [
              0.4444444444444444,
              "#bd3786"
             ],
             [
              0.5555555555555556,
              "#d8576b"
             ],
             [
              0.6666666666666666,
              "#ed7953"
             ],
             [
              0.7777777777777778,
              "#fb9f3a"
             ],
             [
              0.8888888888888888,
              "#fdca26"
             ],
             [
              1.0,
              "#f0f921"
             ]
            ],
            "type": "surface"
           }
          ],
          "table": [
           {
            "cells": {
             "fill": {
              "color": "#506784"
             },
             "line": {
              "color": "rgb(17,17,17)"
             }
            },
            "header": {
             "fill": {
              "color": "#2a3f5f"
             },
             "line": {
              "color": "rgb(17,17,17)"
             }
            },
            "type": "table"
           }
          ]
         },
         "layout": {
          "annotationdefaults": {
           "arrowcolor": "#f2f5fa",
           "arrowhead": 0,
           "arrowwidth": 1
          },
          "autotypenumbers": "strict",
          "coloraxis": {
           "colorbar": {
            "outlinewidth": 0,
            "ticks": ""
           }
          },
          "colorscale": {
           "diverging": [
            [
             0,
             "#8e0152"
            ],
            [
             0.1,
             "#c51b7d"
            ],
            [
             0.2,
             "#de77ae"
            ],
            [
             0.3,
             "#f1b6da"
            ],
            [
             0.4,
             "#fde0ef"
            ],
            [
             0.5,
             "#f7f7f7"
            ],
            [
             0.6,
             "#e6f5d0"
            ],
            [
             0.7,
             "#b8e186"
            ],
            [
             0.8,
             "#7fbc41"
            ],
            [
             0.9,
             "#4d9221"
            ],
            [
             1,
             "#276419"
            ]
           ],
           "sequential": [
            [
             0.0,
             "#0d0887"
            ],
            [
             0.1111111111111111,
             "#46039f"
            ],
            [
             0.2222222222222222,
             "#7201a8"
            ],
            [
             0.3333333333333333,
             "#9c179e"
            ],
            [
             0.4444444444444444,
             "#bd3786"
            ],
            [
             0.5555555555555556,
             "#d8576b"
            ],
            [
             0.6666666666666666,
             "#ed7953"
            ],
            [
             0.7777777777777778,
             "#fb9f3a"
            ],
            [
             0.8888888888888888,
             "#fdca26"
            ],
            [
             1.0,
             "#f0f921"
            ]
           ],
           "sequentialminus": [
            [
             0.0,
             "#0d0887"
            ],
            [
             0.1111111111111111,
             "#46039f"
            ],
            [
             0.2222222222222222,
             "#7201a8"
            ],
            [
             0.3333333333333333,
             "#9c179e"
            ],
            [
             0.4444444444444444,
             "#bd3786"
            ],
            [
             0.5555555555555556,
             "#d8576b"
            ],
            [
             0.6666666666666666,
             "#ed7953"
            ],
            [
             0.7777777777777778,
             "#fb9f3a"
            ],
            [
             0.8888888888888888,
             "#fdca26"
            ],
            [
             1.0,
             "#f0f921"
            ]
           ]
          },
          "colorway": [
           "#636efa",
           "#EF553B",
           "#00cc96",
           "#ab63fa",
           "#FFA15A",
           "#19d3f3",
           "#FF6692",
           "#B6E880",
           "#FF97FF",
           "#FECB52"
          ],
          "font": {
           "color": "#f2f5fa"
          },
          "geo": {
           "bgcolor": "rgb(17,17,17)",
           "lakecolor": "rgb(17,17,17)",
           "landcolor": "rgb(17,17,17)",
           "showlakes": true,
           "showland": true,
           "subunitcolor": "#506784"
          },
          "hoverlabel": {
           "align": "left"
          },
          "hovermode": "closest",
          "mapbox": {
           "style": "dark"
          },
          "paper_bgcolor": "rgb(17,17,17)",
          "plot_bgcolor": "rgb(17,17,17)",
          "polar": {
           "angularaxis": {
            "gridcolor": "#506784",
            "linecolor": "#506784",
            "ticks": ""
           },
           "bgcolor": "rgb(17,17,17)",
           "radialaxis": {
            "gridcolor": "#506784",
            "linecolor": "#506784",
            "ticks": ""
           }
          },
          "scene": {
           "xaxis": {
            "backgroundcolor": "rgb(17,17,17)",
            "gridcolor": "#506784",
            "gridwidth": 2,
            "linecolor": "#506784",
            "showbackground": true,
            "ticks": "",
            "zerolinecolor": "#C8D4E3"
           },
           "yaxis": {
            "backgroundcolor": "rgb(17,17,17)",
            "gridcolor": "#506784",
            "gridwidth": 2,
            "linecolor": "#506784",
            "showbackground": true,
            "ticks": "",
            "zerolinecolor": "#C8D4E3"
           },
           "zaxis": {
            "backgroundcolor": "rgb(17,17,17)",
            "gridcolor": "#506784",
            "gridwidth": 2,
            "linecolor": "#506784",
            "showbackground": true,
            "ticks": "",
            "zerolinecolor": "#C8D4E3"
           }
          },
          "shapedefaults": {
           "line": {
            "color": "#f2f5fa"
           }
          },
          "sliderdefaults": {
           "bgcolor": "#C8D4E3",
           "bordercolor": "rgb(17,17,17)",
           "borderwidth": 1,
           "tickwidth": 0
          },
          "ternary": {
           "aaxis": {
            "gridcolor": "#506784",
            "linecolor": "#506784",
            "ticks": ""
           },
           "baxis": {
            "gridcolor": "#506784",
            "linecolor": "#506784",
            "ticks": ""
           },
           "bgcolor": "rgb(17,17,17)",
           "caxis": {
            "gridcolor": "#506784",
            "linecolor": "#506784",
            "ticks": ""
           }
          },
          "title": {
           "x": 0.05
          },
          "updatemenudefaults": {
           "bgcolor": "#506784",
           "borderwidth": 0
          },
          "xaxis": {
           "automargin": true,
           "gridcolor": "#283442",
           "linecolor": "#506784",
           "ticks": "",
           "title": {
            "standoff": 15
           },
           "zerolinecolor": "#283442",
           "zerolinewidth": 2
          },
          "yaxis": {
           "automargin": true,
           "gridcolor": "#283442",
           "linecolor": "#506784",
           "ticks": "",
           "title": {
            "standoff": 15
           },
           "zerolinecolor": "#283442",
           "zerolinewidth": 2
          }
         }
        },
        "xaxis": {
         "anchor": "y",
         "domain": [
          0.0,
          1.0
         ],
         "title": {
          "text": "noserve_choke_pct"
         }
        },
        "yaxis": {
         "anchor": "x",
         "domain": [
          0.0,
          1.0
         ],
         "title": {
          "text": "choke_pct"
         }
        }
       }
      },
      "text/html": "<div>                            <div id=\"44e1a04a-6d27-482b-87c1-67d47b356034\" class=\"plotly-graph-div\" style=\"height:525px; width:100%;\"></div>            <script type=\"text/javascript\">                require([\"plotly\"], function(Plotly) {                    window.PLOTLYENV=window.PLOTLYENV || {};                                    if (document.getElementById(\"44e1a04a-6d27-482b-87c1-67d47b356034\")) {                    Plotly.newPlot(                        \"44e1a04a-6d27-482b-87c1-67d47b356034\",                        [{\"hovertemplate\": \"<b>%{hovertext}</b><br><br>noserve_choke_pct=%{x}<br>choke_pct=%{y}<extra></extra>\", \"hovertext\": [\"D Brown\", \"M Jaziri\", \"D Koepfer\", \"M Giron\", \"J Vesely\", \"J Duckworth\", \"L Lacko\", \"P Gojowczyk\", \"T Kokkinakis\", \"J Millman\", \"V Troicki\", \"B Tomic\", \"C Berlocq\", \"J Ward\", \"K Khachanov\", \"F Bagnis\", \"L Rosol\", \"L Kubot\", \"D Young\", \"M Matosevic\", \"S Darcis\", \"M Kukushkin\", \"Q Halys\", \"Y Sugita\", \"I Karlovic\", \"P Kohlschreiber\", \"H Chung\", \"G Simon\", \"J Donaldson\", \"F Delbonis\", \"J Nieminen\", \"J Sinner\", \"P Martinez\", \"P Lorenzi\", \"B Klahn\", \"F Verdasco\", \"J Wilfried Tsonga\", \"S Johnson\", \"L Sonego\", \"M Mcdonald\", \"C Norrie\", \"R Opelka\", \"V Pospisil\", \"S Giraldo\", \"R Harrison\", \"T Gabashvili\", \"N Mahut\", \"J Benneteau\", \"D Lajovic\", \"A Bublik\", \"A De Minaur\", \"K Edmund\", \"A Ramos-Vinolas\", \"B Coric\", \"R Soderling\", \"T Sandgren\", \"I Dodig\", \"T Smyczek\", \"M Youzhny\", \"M Berrettini\", \"H Laaksonen\", \"D Kudla\", \"R Nadal\", \"D Shapovalov\", \"J Melzer\", \"T Ito\", \"T Bellucci\", \"M Russell\", \"P Carreno Busta\", \"A Popyrin\", \"M Klizan\", \"T Berdych\", \"D Evans\", \"N Kyrgios\", \"P Cuevas\", \"M Zverev\", \"B Van De Zandschulp\", \"A Roddick\", \"T Fritz\", \"E Gulbis\", \"S Stakhovsky\", \"R Dutra Silva\", \"A Bedene\", \"B Paire\", \"G Garcia-Lopez\", \"S Wawrinka\", \"R Bautista Agut\", \"J Sock\", \"D Sela\", \"J Janowicz\", \"G Pella\", \"F Mayer\", \"M Polmans\", \"L Djere\", \"F Fognini\", \"T Monteiro\", \"T Haas\", \"P Andujar\", \"A Mannarino\", \"C Garin\", \"F Lopez\", \"D Dzumhur\", \"M Copil\", \"R Stepanek\", \"S Travaglia\", \"E Roger-Vasselin\", \"Y Lu\", \"A Davidovich Fokina\", \"N Basilashvili\", \"G Monfils\", \"N Almagro\", \"J Tipsarevic\", \"A Dolgopolov\", \"F Tiafoe\", \"J Isner\", \"T Fabbiano\", \"A Seppi\", \"H Hurkacz\", \"T Robredo\", \"M Raonic\", \"S Robert\", \"D Schwartzman\", \"J Ignacio Chela\", \"S Caruso\", \"N Gombos\", \"R Haase\", \"S Kwon\", \"J Munar\", \"G Dimitrov\", \"S Bolelli\", \"M Baghdatis\", \"C Alcaraz\", \"B Becker\", \"K Nishikori\", \"J Lennard Struff\", \"F Krajinovic\", \"R Bemelmans\", \"R Carballes Baena\", \"G Muller\", \"C Ruud\", \"Y Nishioka\", \"E Donskoy\", \"J Struff\", \"M Kecmanovic\", \"A Falla\", \"J Londero\", \"M Granollers\", \"D Nalbandian\", \"L Mayer\", \"L Hewitt\", \"J Thompson\", \"S Querrey\", \"L Pouille\", \"M Ymer\", \"A Murray\", \"A Zverev\", \"N Djokovic\", \"P Herbert\", \"D Medvedev\", \"A Rublev\", \"P Mathieu\", \"K Anderson\", \"U Humbert\", \"B Kavcic\", \"A Kuznetsov\", \"G Barrere\", \"T Daniel\", \"J Chardy\", \"D Thiem\", \"J Sousa\", \"L Harris\", \"M Cilic\", \"R Berankis\", \"C Moutet\", \"D Istomin\", \"S Tsitsipas\", \"R Gasquet\", \"R Federer\", \"M Cecchinato\", \"T Kamke\", \"D Goffin\", \"D Ferrer\", \"F Auger Aliassime\", \"M Ebden\", \"S Korda\", \"J Martin Del Potro\", \"J Monaco\", \"M Fucsovics\", \"P Petzschner\", \"R Albot\", \"K Majchrzak\", \"I Ivashka\", \"M Fish\", \"E Ruusuvuori\"], \"legendgroup\": \"\", \"marker\": {\"color\": \"#636efa\", \"symbol\": \"circle\"}, \"mode\": \"markers\", \"name\": \"\", \"orientation\": \"v\", \"selected\": {\"marker\": {\"color\": \"red\"}}, \"selectedpoints\": [62, 77, 85, 149, 154, 156, 158, 168, 171, 177, 185], \"showlegend\": false, \"type\": \"scatter\", \"unselected\": {\"marker\": {\"color\": \"blue\"}}, \"x\": [-0.0589998229775181, -0.0090636511927698, -0.0199293380441303, -0.0574513196009012, -0.0392272036970466, 0.0003864043991564, -0.0666713293759576, -0.0125338482693184, -0.0146451082488352, -0.0467513951272628, -0.0160923649100001, -0.0023774403470715, -0.0244389912807393, 0.0131960829139512, -0.0213544894514214, -0.0051567163695929, -0.0329134684903287, -0.0449999178347821, -0.0156200980207257, 0.0110281396089845, -0.0205260587909762, 0.0006560127511429, -0.0079605034344839, -0.0284967542453823, -0.0498166778448468, -0.0234326023188695, -0.0303007918371685, -0.0172518423072772, -0.0294074271499645, 0.0006241151072675, -0.0135960591133004, -0.0258266129032257, 0.0309384603262154, -0.0162617781604944, -0.0418425281199786, 0.006748510479698, -0.0053231358388104, -0.0053858518691524, -0.0415881155562515, -0.0234533349920342, 0.0090429302875147, -0.031842463205021, -0.0484526707043263, -0.0178936452629832, -0.0203190919418553, 0.022005364795733, -0.0294523339096073, -0.0008436627903264, -0.0010322436184504, 0.0030783758262511, 0.0092589010651175, -0.0174302887522634, 0.0031323290666011, -0.0255205847733004, -0.0445648604269294, -0.0124753954445214, -0.0022295500478672, 0.0120110815747796, -0.0092586523288277, -0.0137314646115675, -0.0156491408330742, -0.0035117622604183, 0.0033990380565419, 0.0243124364091727, -0.0215631877343836, 0.0080365296803653, -0.0084366152878263, 0.0208923032627046, 0.0171119612742036, 0.0141949038086377, 0.0200423749452047, 0.0055474836939894, 0.0185770309552201, -0.0235809992012999, -0.0104399418309577, 0.02772051119395, 0.0081415929203539, -0.0381817886812045, 0.0021453621453621, -0.0009433373021294, -0.0111314195055023, -0.0032606941081517, -0.008158922875425, 0.0225986417654673, -0.0001009594451701, 0.0240255427876423, 0.0044053925719749, -0.0066477459273023, 0.0015720545147936, 0.0213633864760857, 0.0215641818390015, 0.0306407198356281, 0.0096988252583583, 0.019690851520207, -0.0032653272520203, -0.026601609649715, 0.0059233815717852, 0.0160351660767404, -0.0217375579877371, 0.0163042355937833, 0.0083148308895719, -0.0043460764587524, -0.0125140749369054, 0.0194424449460135, -0.0150840212035007, 0.0227631281599085, 0.004746325272641, 0.0142592592592592, -0.0105763131430339, 0.0066449085906899, 0.006113147589256, 0.0136529323929947, -0.0017102679595985, -0.0182772564048402, 0.0116027786080002, 0.01219294081042, 0.0021931068173721, 0.0034941686665824, 0.0196480643539467, 0.02715976636734, 0.0236343366778149, 0.0122188856736693, 0.035541539799913, 0.0562401145774955, 0.0143595797426514, 0.0013132833181383, 0.0088200136803507, 0.0446468066712294, 0.0411925673461362, 0.0121226688413416, 0.0229929960908659, 0.0110236387176626, -0.0346852158835027, 0.0055476667317985, 0.0288590212779738, 0.0053936472623902, -0.0009472880061115, 0.008623354591436, 0.0407741490125058, 0.0367394745172523, 0.0376317543729704, 0.0270875179340029, -0.0084577456713679, 0.0419569657711662, 0.0127627487425234, -0.0032804706982543, 0.0383574304276772, 0.0447826086956521, 0.009317099125184, 0.0198998130809287, 0.0115918799682233, -0.0089562009581288, 0.0185212449088102, 0.0139750778816199, 0.0163570960864456, -0.0061308583517957, 0.027400843185966, 0.0101842275371687, -0.0042904490022516, 0.0159175057716694, 0.0258275606889925, 0.0319199271139252, 0.0376401394133023, 0.00774214113132, -0.0132919005189671, 0.0168875273707259, 0.0249265407365007, 0.0117243365156719, 0.0407028827084163, 0.0229627533620266, -0.0152209137162654, 0.0379834053354795, 0.032675840868772, 0.0277198424605698, 0.0210891186178498, 0.0012144063448629, 0.022872708134788, 0.0311259741278931, 0.0245535246442692, 0.0440563304359544, 0.0144926077155715, 0.0279565589464806, 0.0333845969876103, 0.0069079383101523, 0.0363944261374551, 0.0212134780124536, 0.0606568300809138, 0.0175682382133995, 0.0406693286824551, 0.044324400571977, 0.0513002281101947, 0.0324681746522303, 0.052143085042393, 0.0716925351071692], \"xaxis\": \"x\", \"y\": [-0.0377453328188857, -0.0369301841313505, -0.0318095580990162, -0.029439821739439, -0.0287668868658128, -0.0276363077773459, -0.0265135858268544, -0.0259417838396333, -0.0247573146911865, -0.0225115457126702, -0.0215967359756103, -0.0213587571524274, -0.0209715597983476, -0.0186077125814632, -0.0168724154319324, -0.0164131262622069, -0.0162440689629687, -0.0158036176242756, -0.0153284456550501, -0.0148535216323194, -0.0147080449437906, -0.0143106532216299, -0.0131208964634564, -0.0130141773572965, -0.0128408929003565, -0.0127567899083438, -0.012034321296059, -0.011245653822975, -0.011104114678526, -0.0110418764468469, -0.0109258378593047, -0.0105242400689362, -0.0103041974676204, -0.0102043380172809, -0.0100596237742349, -0.0099865675118366, -0.0098451746173135, -0.0098286517434825, -0.0096093392249861, -0.0092829104656458, -0.0076932548239013, -0.0067968436454317, -0.00657320978004, -0.006237663566299, -0.0060768692608755, -0.0059234913041049, -0.0055767172684136, -0.0047071511763259, -0.0044296101653502, -0.0042084959073921, -0.003851776115788, -0.0034995311733491, -0.002636922702475, -0.0022675636559352, -0.0021329796640141, -0.0017984013901336, -0.001336198626994, -0.0005806549551305, -0.0001617048110496, 0.0001536841739143, 0.0001971974212719, 0.0007218423793844, 0.0008423695519896, 0.0016755516803393, 0.0020062565525967, 0.0020335320157551, 0.0022111507570802, 0.002298590887839, 0.0024264716398696, 0.0027635797415923, 0.0028190690851589, 0.0030296618753998, 0.0030507396535296, 0.0033070148990622, 0.003658396649205, 0.0037558161904569, 0.0040000417431958, 0.0041458575963388, 0.0041936715978266, 0.0041979275200173, 0.0043791095139482, 0.0044126767301992, 0.0044219568735917, 0.004461730109645, 0.0050575132103605, 0.0051646852760958, 0.0051942492043936, 0.0054756085585846, 0.0058009305603035, 0.0059258744701792, 0.0061278863979788, 0.0064403998614072, 0.006702689331864, 0.0068263055905949, 0.0068647027851804, 0.0068757544866499, 0.0069048726040744, 0.0069807830702748, 0.0071593265848985, 0.0073594761890624, 0.0077193495615264, 0.0081057273981895, 0.00827498944, 0.0084048069297871, 0.0084490056812366, 0.0084604092794755, 0.0086152319560725, 0.0087289557897486, 0.008986764563723, 0.0090758048202154, 0.0090894003117899, 0.0094250287082274, 0.0094951660955867, 0.0099982235888939, 0.0105189410525765, 0.0105660793870141, 0.0106517470348154, 0.0106876178651669, 0.0109547012209592, 0.0110537316896975, 0.0116117901209109, 0.0117860004276167, 0.0118611387295817, 0.0121291958908801, 0.0125617181433331, 0.0130778916457533, 0.0134366214157513, 0.0135291204851106, 0.013568949349107, 0.0139059944289061, 0.0139513639326406, 0.0139901894117343, 0.0143383256883348, 0.0144094554649742, 0.0147407656359667, 0.0149820538783155, 0.015048121053593, 0.0150975239704337, 0.0153698560320175, 0.0162164481526506, 0.0165092486155544, 0.0171299973644175, 0.0171858163129097, 0.0173698158940953, 0.0173888139867153, 0.0176001032495768, 0.0181106515096731, 0.0181257807148326, 0.0185258693165586, 0.0186909102987112, 0.0188035383914538, 0.0188384604110259, 0.0205049815147212, 0.0207693588496246, 0.020802495176964, 0.0209214875708385, 0.0209355216057524, 0.021062005567954, 0.0219917747557815, 0.0232076408333035, 0.0235320586700374, 0.0240523270457475, 0.0241154233940639, 0.0243373942109574, 0.0252265882295962, 0.0262218715150041, 0.0264227401700773, 0.0266095856528692, 0.0266646067829552, 0.026848693703069, 0.0275767089172683, 0.0286829816336888, 0.0291240351474296, 0.0292248213390374, 0.0296972380296024, 0.0297671906866561, 0.0313295484321002, 0.032130169349882, 0.032146064903134, 0.0322862980001022, 0.0322929880286307, 0.0329924272089398, 0.0338338258368966, 0.035546092821244, 0.0356402332394272, 0.0362579584846418, 0.036277288896644, 0.0401205847814583, 0.0413409536494036, 0.0443487429312844, 0.0456525190575023, 0.0469514367142236, 0.047777500555449, 0.063993962372026], \"yaxis\": \"y\"}],                        {\"legend\": {\"tracegroupgap\": 0}, \"margin\": {\"t\": 60}, \"template\": {\"data\": {\"bar\": [{\"error_x\": {\"color\": \"#f2f5fa\"}, \"error_y\": {\"color\": \"#f2f5fa\"}, \"marker\": {\"line\": {\"color\": \"rgb(17,17,17)\", \"width\": 0.5}}, \"type\": \"bar\"}], \"barpolar\": [{\"marker\": {\"line\": {\"color\": \"rgb(17,17,17)\", \"width\": 0.5}}, \"type\": \"barpolar\"}], \"carpet\": [{\"aaxis\": {\"endlinecolor\": \"#A2B1C6\", \"gridcolor\": \"#506784\", \"linecolor\": \"#506784\", \"minorgridcolor\": \"#506784\", \"startlinecolor\": \"#A2B1C6\"}, \"baxis\": {\"endlinecolor\": \"#A2B1C6\", \"gridcolor\": \"#506784\", \"linecolor\": \"#506784\", \"minorgridcolor\": \"#506784\", \"startlinecolor\": \"#A2B1C6\"}, \"type\": \"carpet\"}], \"choropleth\": [{\"colorbar\": {\"outlinewidth\": 0, \"ticks\": \"\"}, \"type\": \"choropleth\"}], \"contour\": [{\"colorbar\": {\"outlinewidth\": 0, \"ticks\": \"\"}, \"colorscale\": [[0.0, \"#0d0887\"], [0.1111111111111111, \"#46039f\"], [0.2222222222222222, \"#7201a8\"], [0.3333333333333333, \"#9c179e\"], [0.4444444444444444, \"#bd3786\"], [0.5555555555555556, \"#d8576b\"], [0.6666666666666666, \"#ed7953\"], [0.7777777777777778, \"#fb9f3a\"], [0.8888888888888888, \"#fdca26\"], [1.0, \"#f0f921\"]], \"type\": \"contour\"}], \"contourcarpet\": [{\"colorbar\": {\"outlinewidth\": 0, \"ticks\": \"\"}, \"type\": \"contourcarpet\"}], \"heatmap\": [{\"colorbar\": {\"outlinewidth\": 0, \"ticks\": \"\"}, \"colorscale\": [[0.0, \"#0d0887\"], [0.1111111111111111, \"#46039f\"], [0.2222222222222222, \"#7201a8\"], [0.3333333333333333, \"#9c179e\"], [0.4444444444444444, \"#bd3786\"], [0.5555555555555556, \"#d8576b\"], [0.6666666666666666, \"#ed7953\"], [0.7777777777777778, \"#fb9f3a\"], [0.8888888888888888, \"#fdca26\"], [1.0, \"#f0f921\"]], \"type\": \"heatmap\"}], \"heatmapgl\": [{\"colorbar\": {\"outlinewidth\": 0, \"ticks\": \"\"}, \"colorscale\": [[0.0, \"#0d0887\"], [0.1111111111111111, \"#46039f\"], [0.2222222222222222, \"#7201a8\"], [0.3333333333333333, \"#9c179e\"], [0.4444444444444444, \"#bd3786\"], [0.5555555555555556, \"#d8576b\"], [0.6666666666666666, \"#ed7953\"], [0.7777777777777778, \"#fb9f3a\"], [0.8888888888888888, \"#fdca26\"], [1.0, \"#f0f921\"]], \"type\": \"heatmapgl\"}], \"histogram\": [{\"marker\": {\"colorbar\": {\"outlinewidth\": 0, \"ticks\": \"\"}}, \"type\": \"histogram\"}], \"histogram2d\": [{\"colorbar\": {\"outlinewidth\": 0, \"ticks\": \"\"}, \"colorscale\": [[0.0, \"#0d0887\"], [0.1111111111111111, \"#46039f\"], [0.2222222222222222, \"#7201a8\"], [0.3333333333333333, \"#9c179e\"], [0.4444444444444444, \"#bd3786\"], [0.5555555555555556, \"#d8576b\"], [0.6666666666666666, \"#ed7953\"], [0.7777777777777778, \"#fb9f3a\"], [0.8888888888888888, \"#fdca26\"], [1.0, \"#f0f921\"]], \"type\": \"histogram2d\"}], \"histogram2dcontour\": [{\"colorbar\": {\"outlinewidth\": 0, \"ticks\": \"\"}, \"colorscale\": [[0.0, \"#0d0887\"], [0.1111111111111111, \"#46039f\"], [0.2222222222222222, \"#7201a8\"], [0.3333333333333333, \"#9c179e\"], [0.4444444444444444, \"#bd3786\"], [0.5555555555555556, \"#d8576b\"], [0.6666666666666666, \"#ed7953\"], [0.7777777777777778, \"#fb9f3a\"], [0.8888888888888888, \"#fdca26\"], [1.0, \"#f0f921\"]], \"type\": \"histogram2dcontour\"}], \"mesh3d\": [{\"colorbar\": {\"outlinewidth\": 0, \"ticks\": \"\"}, \"type\": \"mesh3d\"}], \"parcoords\": [{\"line\": {\"colorbar\": {\"outlinewidth\": 0, \"ticks\": \"\"}}, \"type\": \"parcoords\"}], \"pie\": [{\"automargin\": true, \"type\": \"pie\"}], \"scatter\": [{\"marker\": {\"line\": {\"color\": \"#283442\"}}, \"type\": \"scatter\"}], \"scatter3d\": [{\"line\": {\"colorbar\": {\"outlinewidth\": 0, \"ticks\": \"\"}}, \"marker\": {\"colorbar\": {\"outlinewidth\": 0, \"ticks\": \"\"}}, \"type\": \"scatter3d\"}], \"scattercarpet\": [{\"marker\": {\"colorbar\": {\"outlinewidth\": 0, \"ticks\": \"\"}}, \"type\": \"scattercarpet\"}], \"scattergeo\": [{\"marker\": {\"colorbar\": {\"outlinewidth\": 0, \"ticks\": \"\"}}, \"type\": \"scattergeo\"}], \"scattergl\": [{\"marker\": {\"line\": {\"color\": \"#283442\"}}, \"type\": \"scattergl\"}], \"scattermapbox\": [{\"marker\": {\"colorbar\": {\"outlinewidth\": 0, \"ticks\": \"\"}}, \"type\": \"scattermapbox\"}], \"scatterpolar\": [{\"marker\": {\"colorbar\": {\"outlinewidth\": 0, \"ticks\": \"\"}}, \"type\": \"scatterpolar\"}], \"scatterpolargl\": [{\"marker\": {\"colorbar\": {\"outlinewidth\": 0, \"ticks\": \"\"}}, \"type\": \"scatterpolargl\"}], \"scatterternary\": [{\"marker\": {\"colorbar\": {\"outlinewidth\": 0, \"ticks\": \"\"}}, \"type\": \"scatterternary\"}], \"surface\": [{\"colorbar\": {\"outlinewidth\": 0, \"ticks\": \"\"}, \"colorscale\": [[0.0, \"#0d0887\"], [0.1111111111111111, \"#46039f\"], [0.2222222222222222, \"#7201a8\"], [0.3333333333333333, \"#9c179e\"], [0.4444444444444444, \"#bd3786\"], [0.5555555555555556, \"#d8576b\"], [0.6666666666666666, \"#ed7953\"], [0.7777777777777778, \"#fb9f3a\"], [0.8888888888888888, \"#fdca26\"], [1.0, \"#f0f921\"]], \"type\": \"surface\"}], \"table\": [{\"cells\": {\"fill\": {\"color\": \"#506784\"}, \"line\": {\"color\": \"rgb(17,17,17)\"}}, \"header\": {\"fill\": {\"color\": \"#2a3f5f\"}, \"line\": {\"color\": \"rgb(17,17,17)\"}}, \"type\": \"table\"}]}, \"layout\": {\"annotationdefaults\": {\"arrowcolor\": \"#f2f5fa\", \"arrowhead\": 0, \"arrowwidth\": 1}, \"autotypenumbers\": \"strict\", \"coloraxis\": {\"colorbar\": {\"outlinewidth\": 0, \"ticks\": \"\"}}, \"colorscale\": {\"diverging\": [[0, \"#8e0152\"], [0.1, \"#c51b7d\"], [0.2, \"#de77ae\"], [0.3, \"#f1b6da\"], [0.4, \"#fde0ef\"], [0.5, \"#f7f7f7\"], [0.6, \"#e6f5d0\"], [0.7, \"#b8e186\"], [0.8, \"#7fbc41\"], [0.9, \"#4d9221\"], [1, \"#276419\"]], \"sequential\": [[0.0, \"#0d0887\"], [0.1111111111111111, \"#46039f\"], [0.2222222222222222, \"#7201a8\"], [0.3333333333333333, \"#9c179e\"], [0.4444444444444444, \"#bd3786\"], [0.5555555555555556, \"#d8576b\"], [0.6666666666666666, \"#ed7953\"], [0.7777777777777778, \"#fb9f3a\"], [0.8888888888888888, \"#fdca26\"], [1.0, \"#f0f921\"]], \"sequentialminus\": [[0.0, \"#0d0887\"], [0.1111111111111111, \"#46039f\"], [0.2222222222222222, \"#7201a8\"], [0.3333333333333333, \"#9c179e\"], [0.4444444444444444, \"#bd3786\"], [0.5555555555555556, \"#d8576b\"], [0.6666666666666666, \"#ed7953\"], [0.7777777777777778, \"#fb9f3a\"], [0.8888888888888888, \"#fdca26\"], [1.0, \"#f0f921\"]]}, \"colorway\": [\"#636efa\", \"#EF553B\", \"#00cc96\", \"#ab63fa\", \"#FFA15A\", \"#19d3f3\", \"#FF6692\", \"#B6E880\", \"#FF97FF\", \"#FECB52\"], \"font\": {\"color\": \"#f2f5fa\"}, \"geo\": {\"bgcolor\": \"rgb(17,17,17)\", \"lakecolor\": \"rgb(17,17,17)\", \"landcolor\": \"rgb(17,17,17)\", \"showlakes\": true, \"showland\": true, \"subunitcolor\": \"#506784\"}, \"hoverlabel\": {\"align\": \"left\"}, \"hovermode\": \"closest\", \"mapbox\": {\"style\": \"dark\"}, \"paper_bgcolor\": \"rgb(17,17,17)\", \"plot_bgcolor\": \"rgb(17,17,17)\", \"polar\": {\"angularaxis\": {\"gridcolor\": \"#506784\", \"linecolor\": \"#506784\", \"ticks\": \"\"}, \"bgcolor\": \"rgb(17,17,17)\", \"radialaxis\": {\"gridcolor\": \"#506784\", \"linecolor\": \"#506784\", \"ticks\": \"\"}}, \"scene\": {\"xaxis\": {\"backgroundcolor\": \"rgb(17,17,17)\", \"gridcolor\": \"#506784\", \"gridwidth\": 2, \"linecolor\": \"#506784\", \"showbackground\": true, \"ticks\": \"\", \"zerolinecolor\": \"#C8D4E3\"}, \"yaxis\": {\"backgroundcolor\": \"rgb(17,17,17)\", \"gridcolor\": \"#506784\", \"gridwidth\": 2, \"linecolor\": \"#506784\", \"showbackground\": true, \"ticks\": \"\", \"zerolinecolor\": \"#C8D4E3\"}, \"zaxis\": {\"backgroundcolor\": \"rgb(17,17,17)\", \"gridcolor\": \"#506784\", \"gridwidth\": 2, \"linecolor\": \"#506784\", \"showbackground\": true, \"ticks\": \"\", \"zerolinecolor\": \"#C8D4E3\"}}, \"shapedefaults\": {\"line\": {\"color\": \"#f2f5fa\"}}, \"sliderdefaults\": {\"bgcolor\": \"#C8D4E3\", \"bordercolor\": \"rgb(17,17,17)\", \"borderwidth\": 1, \"tickwidth\": 0}, \"ternary\": {\"aaxis\": {\"gridcolor\": \"#506784\", \"linecolor\": \"#506784\", \"ticks\": \"\"}, \"baxis\": {\"gridcolor\": \"#506784\", \"linecolor\": \"#506784\", \"ticks\": \"\"}, \"bgcolor\": \"rgb(17,17,17)\", \"caxis\": {\"gridcolor\": \"#506784\", \"linecolor\": \"#506784\", \"ticks\": \"\"}}, \"title\": {\"x\": 0.05}, \"updatemenudefaults\": {\"bgcolor\": \"#506784\", \"borderwidth\": 0}, \"xaxis\": {\"automargin\": true, \"gridcolor\": \"#283442\", \"linecolor\": \"#506784\", \"ticks\": \"\", \"title\": {\"standoff\": 15}, \"zerolinecolor\": \"#283442\", \"zerolinewidth\": 2}, \"yaxis\": {\"automargin\": true, \"gridcolor\": \"#283442\", \"linecolor\": \"#506784\", \"ticks\": \"\", \"title\": {\"standoff\": 15}, \"zerolinecolor\": \"#283442\", \"zerolinewidth\": 2}}}, \"xaxis\": {\"anchor\": \"y\", \"domain\": [0.0, 1.0], \"title\": {\"text\": \"noserve_choke_pct\"}}, \"yaxis\": {\"anchor\": \"x\", \"domain\": [0.0, 1.0], \"title\": {\"text\": \"choke_pct\"}}},                        {\"responsive\": true}                    ).then(function(){\n                            \nvar gd = document.getElementById('44e1a04a-6d27-482b-87c1-67d47b356034');\nvar x = new MutationObserver(function (mutations, observer) {{\n        var display = window.getComputedStyle(gd).display;\n        if (!display || display === 'none') {{\n            console.log([gd, 'removed!']);\n            Plotly.purge(gd);\n            observer.disconnect();\n        }}\n}});\n\n// Listen for the removal of the full notebook cells\nvar notebookContainer = gd.closest('#notebook-container');\nif (notebookContainer) {{\n    x.observe(notebookContainer, {childList: true});\n}}\n\n// Listen for the clearing of the current output cell\nvar outputEl = gd.closest('.output');\nif (outputEl) {{\n    x.observe(outputEl, {childList: true});\n}}\n\n                        })                };                });            </script>        </div>"
     },
     "metadata": {},
     "output_type": "display_data"
    }
   ],
   "source": [
    "fig = px.scatter(data_frame=df, x=\"noserve_choke_pct\", y=\"choke_pct\", hover_name='name')\n",
    "inds = [62, 77, 85, 149, 154, 156, 158, 168, 171, 177, 185]\n",
    "fig.data[0].update(selectedpoints=inds,\n",
    "                   selected=dict(marker=dict(color='red')),\n",
    "                   unselected=dict(marker=dict(color='blue')))\n",
    "fig.show()"
   ],
   "metadata": {
    "collapsed": false,
    "pycharm": {
     "name": "#%%\n"
    }
   }
  },
  {
   "cell_type": "code",
   "execution_count": 166,
   "outputs": [
    {
     "data": {
      "application/vnd.plotly.v1+json": {
       "config": {
        "plotlyServerURL": "https://plot.ly"
       },
       "data": [
        {
         "hovertemplate": "<b>%{hovertext}</b><br><br>serve_choke_pct=%{x}<br>choke_pct=%{y}<extra></extra>",
         "hovertext": [
          "D Brown",
          "M Jaziri",
          "D Koepfer",
          "M Giron",
          "J Vesely",
          "J Duckworth",
          "L Lacko",
          "P Gojowczyk",
          "T Kokkinakis",
          "J Millman",
          "V Troicki",
          "B Tomic",
          "C Berlocq",
          "J Ward",
          "K Khachanov",
          "F Bagnis",
          "L Rosol",
          "L Kubot",
          "D Young",
          "M Matosevic",
          "S Darcis",
          "M Kukushkin",
          "Q Halys",
          "Y Sugita",
          "I Karlovic",
          "P Kohlschreiber",
          "H Chung",
          "G Simon",
          "J Donaldson",
          "F Delbonis",
          "J Nieminen",
          "J Sinner",
          "P Martinez",
          "P Lorenzi",
          "B Klahn",
          "F Verdasco",
          "J Wilfried Tsonga",
          "S Johnson",
          "L Sonego",
          "M Mcdonald",
          "C Norrie",
          "R Opelka",
          "V Pospisil",
          "S Giraldo",
          "R Harrison",
          "T Gabashvili",
          "N Mahut",
          "J Benneteau",
          "D Lajovic",
          "A Bublik",
          "A De Minaur",
          "K Edmund",
          "A Ramos-Vinolas",
          "B Coric",
          "R Soderling",
          "T Sandgren",
          "I Dodig",
          "T Smyczek",
          "M Youzhny",
          "M Berrettini",
          "H Laaksonen",
          "D Kudla",
          "R Nadal",
          "D Shapovalov",
          "J Melzer",
          "T Ito",
          "T Bellucci",
          "M Russell",
          "P Carreno Busta",
          "A Popyrin",
          "M Klizan",
          "T Berdych",
          "D Evans",
          "N Kyrgios",
          "P Cuevas",
          "M Zverev",
          "B Van De Zandschulp",
          "A Roddick",
          "T Fritz",
          "E Gulbis",
          "S Stakhovsky",
          "R Dutra Silva",
          "A Bedene",
          "B Paire",
          "G Garcia-Lopez",
          "S Wawrinka",
          "R Bautista Agut",
          "J Sock",
          "D Sela",
          "J Janowicz",
          "G Pella",
          "F Mayer",
          "M Polmans",
          "L Djere",
          "F Fognini",
          "T Monteiro",
          "T Haas",
          "P Andujar",
          "A Mannarino",
          "C Garin",
          "F Lopez",
          "D Dzumhur",
          "M Copil",
          "R Stepanek",
          "S Travaglia",
          "E Roger-Vasselin",
          "Y Lu",
          "A Davidovich Fokina",
          "N Basilashvili",
          "G Monfils",
          "N Almagro",
          "J Tipsarevic",
          "A Dolgopolov",
          "F Tiafoe",
          "J Isner",
          "T Fabbiano",
          "A Seppi",
          "H Hurkacz",
          "T Robredo",
          "M Raonic",
          "S Robert",
          "D Schwartzman",
          "J Ignacio Chela",
          "S Caruso",
          "N Gombos",
          "R Haase",
          "S Kwon",
          "J Munar",
          "G Dimitrov",
          "S Bolelli",
          "M Baghdatis",
          "C Alcaraz",
          "B Becker",
          "K Nishikori",
          "J Lennard Struff",
          "F Krajinovic",
          "R Bemelmans",
          "R Carballes Baena",
          "G Muller",
          "C Ruud",
          "Y Nishioka",
          "E Donskoy",
          "J Struff",
          "M Kecmanovic",
          "A Falla",
          "J Londero",
          "M Granollers",
          "D Nalbandian",
          "L Mayer",
          "L Hewitt",
          "J Thompson",
          "S Querrey",
          "L Pouille",
          "M Ymer",
          "A Murray",
          "A Zverev",
          "N Djokovic",
          "P Herbert",
          "D Medvedev",
          "A Rublev",
          "P Mathieu",
          "K Anderson",
          "U Humbert",
          "B Kavcic",
          "A Kuznetsov",
          "G Barrere",
          "T Daniel",
          "J Chardy",
          "D Thiem",
          "J Sousa",
          "L Harris",
          "M Cilic",
          "R Berankis",
          "C Moutet",
          "D Istomin",
          "S Tsitsipas",
          "R Gasquet",
          "R Federer",
          "M Cecchinato",
          "T Kamke",
          "D Goffin",
          "D Ferrer",
          "F Auger Aliassime",
          "M Ebden",
          "S Korda",
          "J Martin Del Potro",
          "J Monaco",
          "M Fucsovics",
          "P Petzschner",
          "R Albot",
          "K Majchrzak",
          "I Ivashka",
          "M Fish",
          "E Ruusuvuori"
         ],
         "legendgroup": "",
         "marker": {
          "color": "#636efa",
          "symbol": "circle"
         },
         "mode": "markers",
         "name": "",
         "orientation": "v",
         "selected": {
          "marker": {
           "color": "red"
          }
         },
         "selectedpoints": [
          62,
          77,
          85,
          149,
          154,
          156,
          158,
          168,
          171,
          177,
          185
         ],
         "showlegend": false,
         "type": "scatter",
         "unselected": {
          "marker": {
           "color": "blue"
          }
         },
         "x": [
          -0.0164908426602534,
          -0.0647967170699311,
          -0.043689778153902,
          -0.0014283238779769,
          -0.0183065700345791,
          -0.0556590199538482,
          0.0136441577222488,
          -0.0393497194099482,
          -0.0348695211335379,
          0.0017283037019222,
          -0.0271011070412205,
          -0.0403400739577833,
          -0.017504128315956,
          -0.0504115080768777,
          -0.0123903414124434,
          -0.027669536154821,
          4.253305643911E-4,
          0.0133926825862309,
          -0.0150367932893746,
          -0.0407351828736235,
          -0.0088900310966051,
          -0.0292773191944028,
          -0.0182812894924288,
          0.0024683995307891,
          0.0241348920441336,
          -0.002080977497818,
          0.0062321492450504,
          -0.0052394653386727,
          0.0071991977929124,
          -0.0227078680009614,
          -0.0082556166053091,
          0.0047781327653532,
          -0.0515468552614564,
          -0.0041468978740675,
          0.0217232805715086,
          -0.0267216455033714,
          -0.0143672133958166,
          -0.0142714516178127,
          0.0223694371062792,
          0.0048875140607424,
          -0.0244294399353174,
          0.0182487759141576,
          0.0353062511442462,
          0.005418318130385,
          0.0081653534201041,
          -0.0338523474039429,
          0.0182988993727799,
          -0.0085706395623253,
          -0.00782697671225,
          -0.0114953676410354,
          -0.0169624532966936,
          0.0104312264055651,
          -0.0084061744715512,
          0.0209854574614298,
          0.0402989010989011,
          0.0088785926642541,
          -4.428472061209E-4,
          -0.0131723914850407,
          0.0089352427067285,
          0.0140388329593962,
          0.0160435356756181,
          0.0049554470191872,
          -0.0017142989525626,
          -0.0209613330484939,
          0.0255757008395771,
          -0.003969465648855,
          0.0128589168019868,
          -0.0162951214870265,
          -0.0122590179944643,
          -0.008667744325453,
          -0.0144042367748869,
          5.118400568103E-4,
          -0.0124755516481608,
          0.0301950289994245,
          0.0177567351293678,
          -0.0202088788130362,
          -1.415094339622E-4,
          0.0464735038738821,
          0.0062419810502911,
          0.0093391923421642,
          0.0198896385333987,
          0.0120860475685501,
          0.0170028366226085,
          -0.0136751815461771,
          0.0102159858658912,
          -0.0136961722354505,
          0.0059831058368122,
          0.0175989630444716,
          0.0100298066058134,
          -0.0095116375357272,
          -0.0093084090430437,
          -0.0177599201128136,
          0.0037065534053696,
          -0.0060382403390172,
          0.0169947328223811,
          0.0403531186230148,
          0.0078863636363636,
          -0.0020735999361908,
          0.0360562111575341,
          -0.0015852832156585,
          0.007123868233481,
          0.0205575312551315,
          0.0290640538169054,
          -0.0026328310864392,
          0.0319820325659741,
          -0.0058423096009574,
          0.012484138639504,
          0.0031986523202379,
          0.02854984227048,
          0.0115067010497409,
          0.0120656530343238,
          0.00519712502346,
          0.020700600150772,
          0.038273703582628,
          0.0094351034971528,
          0.0089392179636082,
          0.0191103872522586,
          0.0178810670637513,
          0.0022613380879717,
          -0.0050523029879449,
          -4.10756435993E-4,
          0.011353115181564,
          -0.0118192623407495,
          -0.0319817227957352,
          0.0107638565440149,
          0.0248424999733683,
          0.0180532291511519,
          -0.0175885657010081,
          -0.0140546686479221,
          0.0156893200164705,
          0.0049097317744153,
          0.0169567401058059,
          0.0633618672601723,
          0.0232712441981499,
          6.225099939595E-4,
          0.0245704604942407,
          0.0310435301132975,
          0.0215716933494314,
          -0.0100344369484708,
          -0.0043065782119511,
          -0.0046132571418615,
          0.0071724767948321,
          0.0428293782971873,
          -0.0072173339829755,
          0.0220148792309072,
          0.0384806771974081,
          -0.002136127408331,
          -0.0085310472659869,
          0.0277346395079332,
          0.0174820075164937,
          0.0260151968146842,
          0.0466331217801806,
          0.0224887181206322,
          0.0275636398176292,
          0.0252478942674824,
          0.0479738334934728,
          0.0144702000255389,
          0.0319397835987392,
          0.0482739985138147,
          0.0304977758949375,
          0.0212365566510823,
          0.0161847269775698,
          0.0105907073748254,
          0.0409326472905947,
          0.0637450769781596,
          0.0355562156592823,
          0.027918939603654,
          0.0414948347900665,
          0.0126263308574942,
          0.0307346340441114,
          0.0703743315508021,
          0.0193825579318981,
          0.0255722294260872,
          0.030729800217505,
          0.0383053574413551,
          0.0583199750284493,
          0.0397863887294125,
          0.033134364571871,
          0.0397386051619989,
          0.0205162655642501,
          0.0500933683416898,
          0.038028295471399,
          0.0342830546861829,
          0.0641842473323357,
          0.0348860403413994,
          0.05130243895683,
          0.0118977477123743,
          0.0626729313495171,
          0.0420125786163521,
          0.0443730852905918,
          0.0400048100048099,
          0.0614346987762168,
          0.043411916068505,
          0.0562953896368828
         ],
         "xaxis": "x",
         "y": [
          -0.0377453328188857,
          -0.0369301841313505,
          -0.0318095580990162,
          -0.029439821739439,
          -0.0287668868658128,
          -0.0276363077773459,
          -0.0265135858268544,
          -0.0259417838396333,
          -0.0247573146911865,
          -0.0225115457126702,
          -0.0215967359756103,
          -0.0213587571524274,
          -0.0209715597983476,
          -0.0186077125814632,
          -0.0168724154319324,
          -0.0164131262622069,
          -0.0162440689629687,
          -0.0158036176242756,
          -0.0153284456550501,
          -0.0148535216323194,
          -0.0147080449437906,
          -0.0143106532216299,
          -0.0131208964634564,
          -0.0130141773572965,
          -0.0128408929003565,
          -0.0127567899083438,
          -0.012034321296059,
          -0.011245653822975,
          -0.011104114678526,
          -0.0110418764468469,
          -0.0109258378593047,
          -0.0105242400689362,
          -0.0103041974676204,
          -0.0102043380172809,
          -0.0100596237742349,
          -0.0099865675118366,
          -0.0098451746173135,
          -0.0098286517434825,
          -0.0096093392249861,
          -0.0092829104656458,
          -0.0076932548239013,
          -0.0067968436454317,
          -0.00657320978004,
          -0.006237663566299,
          -0.0060768692608755,
          -0.0059234913041049,
          -0.0055767172684136,
          -0.0047071511763259,
          -0.0044296101653502,
          -0.0042084959073921,
          -0.003851776115788,
          -0.0034995311733491,
          -0.002636922702475,
          -0.0022675636559352,
          -0.0021329796640141,
          -0.0017984013901336,
          -0.001336198626994,
          -5.806549551305E-4,
          -1.617048110496E-4,
          1.536841739143E-4,
          1.971974212719E-4,
          7.218423793844E-4,
          8.423695519896E-4,
          0.0016755516803393,
          0.0020062565525967,
          0.0020335320157551,
          0.0022111507570802,
          0.002298590887839,
          0.0024264716398696,
          0.0027635797415923,
          0.0028190690851589,
          0.0030296618753998,
          0.0030507396535296,
          0.0033070148990622,
          0.003658396649205,
          0.0037558161904569,
          0.0040000417431958,
          0.0041458575963388,
          0.0041936715978266,
          0.0041979275200173,
          0.0043791095139482,
          0.0044126767301992,
          0.0044219568735917,
          0.004461730109645,
          0.0050575132103605,
          0.0051646852760958,
          0.0051942492043936,
          0.0054756085585846,
          0.0058009305603035,
          0.0059258744701792,
          0.0061278863979788,
          0.0064403998614072,
          0.006702689331864,
          0.0068263055905949,
          0.0068647027851804,
          0.0068757544866499,
          0.0069048726040744,
          0.0069807830702748,
          0.0071593265848985,
          0.0073594761890624,
          0.0077193495615264,
          0.0081057273981895,
          0.00827498944,
          0.0084048069297871,
          0.0084490056812366,
          0.0084604092794755,
          0.0086152319560725,
          0.0087289557897486,
          0.008986764563723,
          0.0090758048202154,
          0.0090894003117899,
          0.0094250287082274,
          0.0094951660955867,
          0.0099982235888939,
          0.0105189410525765,
          0.0105660793870141,
          0.0106517470348154,
          0.0106876178651669,
          0.0109547012209592,
          0.0110537316896975,
          0.0116117901209109,
          0.0117860004276167,
          0.0118611387295817,
          0.0121291958908801,
          0.0125617181433331,
          0.0130778916457533,
          0.0134366214157513,
          0.0135291204851106,
          0.013568949349107,
          0.0139059944289061,
          0.0139513639326406,
          0.0139901894117343,
          0.0143383256883348,
          0.0144094554649742,
          0.0147407656359667,
          0.0149820538783155,
          0.015048121053593,
          0.0150975239704337,
          0.0153698560320175,
          0.0162164481526506,
          0.0165092486155544,
          0.0171299973644175,
          0.0171858163129097,
          0.0173698158940953,
          0.0173888139867153,
          0.0176001032495768,
          0.0181106515096731,
          0.0181257807148326,
          0.0185258693165586,
          0.0186909102987112,
          0.0188035383914538,
          0.0188384604110259,
          0.0205049815147212,
          0.0207693588496246,
          0.020802495176964,
          0.0209214875708385,
          0.0209355216057524,
          0.021062005567954,
          0.0219917747557815,
          0.0232076408333035,
          0.0235320586700374,
          0.0240523270457475,
          0.0241154233940639,
          0.0243373942109574,
          0.0252265882295962,
          0.0262218715150041,
          0.0264227401700773,
          0.0266095856528692,
          0.0266646067829552,
          0.026848693703069,
          0.0275767089172683,
          0.0286829816336888,
          0.0291240351474296,
          0.0292248213390374,
          0.0296972380296024,
          0.0297671906866561,
          0.0313295484321002,
          0.032130169349882,
          0.032146064903134,
          0.0322862980001022,
          0.0322929880286307,
          0.0329924272089398,
          0.0338338258368966,
          0.035546092821244,
          0.0356402332394272,
          0.0362579584846418,
          0.036277288896644,
          0.0401205847814583,
          0.0413409536494036,
          0.0443487429312844,
          0.0456525190575023,
          0.0469514367142236,
          0.047777500555449,
          0.063993962372026
         ],
         "yaxis": "y"
        }
       ],
       "layout": {
        "legend": {
         "tracegroupgap": 0
        },
        "margin": {
         "t": 60
        },
        "template": {
         "data": {
          "bar": [
           {
            "error_x": {
             "color": "#f2f5fa"
            },
            "error_y": {
             "color": "#f2f5fa"
            },
            "marker": {
             "line": {
              "color": "rgb(17,17,17)",
              "width": 0.5
             }
            },
            "type": "bar"
           }
          ],
          "barpolar": [
           {
            "marker": {
             "line": {
              "color": "rgb(17,17,17)",
              "width": 0.5
             }
            },
            "type": "barpolar"
           }
          ],
          "carpet": [
           {
            "aaxis": {
             "endlinecolor": "#A2B1C6",
             "gridcolor": "#506784",
             "linecolor": "#506784",
             "minorgridcolor": "#506784",
             "startlinecolor": "#A2B1C6"
            },
            "baxis": {
             "endlinecolor": "#A2B1C6",
             "gridcolor": "#506784",
             "linecolor": "#506784",
             "minorgridcolor": "#506784",
             "startlinecolor": "#A2B1C6"
            },
            "type": "carpet"
           }
          ],
          "choropleth": [
           {
            "colorbar": {
             "outlinewidth": 0,
             "ticks": ""
            },
            "type": "choropleth"
           }
          ],
          "contour": [
           {
            "colorbar": {
             "outlinewidth": 0,
             "ticks": ""
            },
            "colorscale": [
             [
              0.0,
              "#0d0887"
             ],
             [
              0.1111111111111111,
              "#46039f"
             ],
             [
              0.2222222222222222,
              "#7201a8"
             ],
             [
              0.3333333333333333,
              "#9c179e"
             ],
             [
              0.4444444444444444,
              "#bd3786"
             ],
             [
              0.5555555555555556,
              "#d8576b"
             ],
             [
              0.6666666666666666,
              "#ed7953"
             ],
             [
              0.7777777777777778,
              "#fb9f3a"
             ],
             [
              0.8888888888888888,
              "#fdca26"
             ],
             [
              1.0,
              "#f0f921"
             ]
            ],
            "type": "contour"
           }
          ],
          "contourcarpet": [
           {
            "colorbar": {
             "outlinewidth": 0,
             "ticks": ""
            },
            "type": "contourcarpet"
           }
          ],
          "heatmap": [
           {
            "colorbar": {
             "outlinewidth": 0,
             "ticks": ""
            },
            "colorscale": [
             [
              0.0,
              "#0d0887"
             ],
             [
              0.1111111111111111,
              "#46039f"
             ],
             [
              0.2222222222222222,
              "#7201a8"
             ],
             [
              0.3333333333333333,
              "#9c179e"
             ],
             [
              0.4444444444444444,
              "#bd3786"
             ],
             [
              0.5555555555555556,
              "#d8576b"
             ],
             [
              0.6666666666666666,
              "#ed7953"
             ],
             [
              0.7777777777777778,
              "#fb9f3a"
             ],
             [
              0.8888888888888888,
              "#fdca26"
             ],
             [
              1.0,
              "#f0f921"
             ]
            ],
            "type": "heatmap"
           }
          ],
          "heatmapgl": [
           {
            "colorbar": {
             "outlinewidth": 0,
             "ticks": ""
            },
            "colorscale": [
             [
              0.0,
              "#0d0887"
             ],
             [
              0.1111111111111111,
              "#46039f"
             ],
             [
              0.2222222222222222,
              "#7201a8"
             ],
             [
              0.3333333333333333,
              "#9c179e"
             ],
             [
              0.4444444444444444,
              "#bd3786"
             ],
             [
              0.5555555555555556,
              "#d8576b"
             ],
             [
              0.6666666666666666,
              "#ed7953"
             ],
             [
              0.7777777777777778,
              "#fb9f3a"
             ],
             [
              0.8888888888888888,
              "#fdca26"
             ],
             [
              1.0,
              "#f0f921"
             ]
            ],
            "type": "heatmapgl"
           }
          ],
          "histogram": [
           {
            "marker": {
             "colorbar": {
              "outlinewidth": 0,
              "ticks": ""
             }
            },
            "type": "histogram"
           }
          ],
          "histogram2d": [
           {
            "colorbar": {
             "outlinewidth": 0,
             "ticks": ""
            },
            "colorscale": [
             [
              0.0,
              "#0d0887"
             ],
             [
              0.1111111111111111,
              "#46039f"
             ],
             [
              0.2222222222222222,
              "#7201a8"
             ],
             [
              0.3333333333333333,
              "#9c179e"
             ],
             [
              0.4444444444444444,
              "#bd3786"
             ],
             [
              0.5555555555555556,
              "#d8576b"
             ],
             [
              0.6666666666666666,
              "#ed7953"
             ],
             [
              0.7777777777777778,
              "#fb9f3a"
             ],
             [
              0.8888888888888888,
              "#fdca26"
             ],
             [
              1.0,
              "#f0f921"
             ]
            ],
            "type": "histogram2d"
           }
          ],
          "histogram2dcontour": [
           {
            "colorbar": {
             "outlinewidth": 0,
             "ticks": ""
            },
            "colorscale": [
             [
              0.0,
              "#0d0887"
             ],
             [
              0.1111111111111111,
              "#46039f"
             ],
             [
              0.2222222222222222,
              "#7201a8"
             ],
             [
              0.3333333333333333,
              "#9c179e"
             ],
             [
              0.4444444444444444,
              "#bd3786"
             ],
             [
              0.5555555555555556,
              "#d8576b"
             ],
             [
              0.6666666666666666,
              "#ed7953"
             ],
             [
              0.7777777777777778,
              "#fb9f3a"
             ],
             [
              0.8888888888888888,
              "#fdca26"
             ],
             [
              1.0,
              "#f0f921"
             ]
            ],
            "type": "histogram2dcontour"
           }
          ],
          "mesh3d": [
           {
            "colorbar": {
             "outlinewidth": 0,
             "ticks": ""
            },
            "type": "mesh3d"
           }
          ],
          "parcoords": [
           {
            "line": {
             "colorbar": {
              "outlinewidth": 0,
              "ticks": ""
             }
            },
            "type": "parcoords"
           }
          ],
          "pie": [
           {
            "automargin": true,
            "type": "pie"
           }
          ],
          "scatter": [
           {
            "marker": {
             "line": {
              "color": "#283442"
             }
            },
            "type": "scatter"
           }
          ],
          "scatter3d": [
           {
            "line": {
             "colorbar": {
              "outlinewidth": 0,
              "ticks": ""
             }
            },
            "marker": {
             "colorbar": {
              "outlinewidth": 0,
              "ticks": ""
             }
            },
            "type": "scatter3d"
           }
          ],
          "scattercarpet": [
           {
            "marker": {
             "colorbar": {
              "outlinewidth": 0,
              "ticks": ""
             }
            },
            "type": "scattercarpet"
           }
          ],
          "scattergeo": [
           {
            "marker": {
             "colorbar": {
              "outlinewidth": 0,
              "ticks": ""
             }
            },
            "type": "scattergeo"
           }
          ],
          "scattergl": [
           {
            "marker": {
             "line": {
              "color": "#283442"
             }
            },
            "type": "scattergl"
           }
          ],
          "scattermapbox": [
           {
            "marker": {
             "colorbar": {
              "outlinewidth": 0,
              "ticks": ""
             }
            },
            "type": "scattermapbox"
           }
          ],
          "scatterpolar": [
           {
            "marker": {
             "colorbar": {
              "outlinewidth": 0,
              "ticks": ""
             }
            },
            "type": "scatterpolar"
           }
          ],
          "scatterpolargl": [
           {
            "marker": {
             "colorbar": {
              "outlinewidth": 0,
              "ticks": ""
             }
            },
            "type": "scatterpolargl"
           }
          ],
          "scatterternary": [
           {
            "marker": {
             "colorbar": {
              "outlinewidth": 0,
              "ticks": ""
             }
            },
            "type": "scatterternary"
           }
          ],
          "surface": [
           {
            "colorbar": {
             "outlinewidth": 0,
             "ticks": ""
            },
            "colorscale": [
             [
              0.0,
              "#0d0887"
             ],
             [
              0.1111111111111111,
              "#46039f"
             ],
             [
              0.2222222222222222,
              "#7201a8"
             ],
             [
              0.3333333333333333,
              "#9c179e"
             ],
             [
              0.4444444444444444,
              "#bd3786"
             ],
             [
              0.5555555555555556,
              "#d8576b"
             ],
             [
              0.6666666666666666,
              "#ed7953"
             ],
             [
              0.7777777777777778,
              "#fb9f3a"
             ],
             [
              0.8888888888888888,
              "#fdca26"
             ],
             [
              1.0,
              "#f0f921"
             ]
            ],
            "type": "surface"
           }
          ],
          "table": [
           {
            "cells": {
             "fill": {
              "color": "#506784"
             },
             "line": {
              "color": "rgb(17,17,17)"
             }
            },
            "header": {
             "fill": {
              "color": "#2a3f5f"
             },
             "line": {
              "color": "rgb(17,17,17)"
             }
            },
            "type": "table"
           }
          ]
         },
         "layout": {
          "annotationdefaults": {
           "arrowcolor": "#f2f5fa",
           "arrowhead": 0,
           "arrowwidth": 1
          },
          "autotypenumbers": "strict",
          "coloraxis": {
           "colorbar": {
            "outlinewidth": 0,
            "ticks": ""
           }
          },
          "colorscale": {
           "diverging": [
            [
             0,
             "#8e0152"
            ],
            [
             0.1,
             "#c51b7d"
            ],
            [
             0.2,
             "#de77ae"
            ],
            [
             0.3,
             "#f1b6da"
            ],
            [
             0.4,
             "#fde0ef"
            ],
            [
             0.5,
             "#f7f7f7"
            ],
            [
             0.6,
             "#e6f5d0"
            ],
            [
             0.7,
             "#b8e186"
            ],
            [
             0.8,
             "#7fbc41"
            ],
            [
             0.9,
             "#4d9221"
            ],
            [
             1,
             "#276419"
            ]
           ],
           "sequential": [
            [
             0.0,
             "#0d0887"
            ],
            [
             0.1111111111111111,
             "#46039f"
            ],
            [
             0.2222222222222222,
             "#7201a8"
            ],
            [
             0.3333333333333333,
             "#9c179e"
            ],
            [
             0.4444444444444444,
             "#bd3786"
            ],
            [
             0.5555555555555556,
             "#d8576b"
            ],
            [
             0.6666666666666666,
             "#ed7953"
            ],
            [
             0.7777777777777778,
             "#fb9f3a"
            ],
            [
             0.8888888888888888,
             "#fdca26"
            ],
            [
             1.0,
             "#f0f921"
            ]
           ],
           "sequentialminus": [
            [
             0.0,
             "#0d0887"
            ],
            [
             0.1111111111111111,
             "#46039f"
            ],
            [
             0.2222222222222222,
             "#7201a8"
            ],
            [
             0.3333333333333333,
             "#9c179e"
            ],
            [
             0.4444444444444444,
             "#bd3786"
            ],
            [
             0.5555555555555556,
             "#d8576b"
            ],
            [
             0.6666666666666666,
             "#ed7953"
            ],
            [
             0.7777777777777778,
             "#fb9f3a"
            ],
            [
             0.8888888888888888,
             "#fdca26"
            ],
            [
             1.0,
             "#f0f921"
            ]
           ]
          },
          "colorway": [
           "#636efa",
           "#EF553B",
           "#00cc96",
           "#ab63fa",
           "#FFA15A",
           "#19d3f3",
           "#FF6692",
           "#B6E880",
           "#FF97FF",
           "#FECB52"
          ],
          "font": {
           "color": "#f2f5fa"
          },
          "geo": {
           "bgcolor": "rgb(17,17,17)",
           "lakecolor": "rgb(17,17,17)",
           "landcolor": "rgb(17,17,17)",
           "showlakes": true,
           "showland": true,
           "subunitcolor": "#506784"
          },
          "hoverlabel": {
           "align": "left"
          },
          "hovermode": "closest",
          "mapbox": {
           "style": "dark"
          },
          "paper_bgcolor": "rgb(17,17,17)",
          "plot_bgcolor": "rgb(17,17,17)",
          "polar": {
           "angularaxis": {
            "gridcolor": "#506784",
            "linecolor": "#506784",
            "ticks": ""
           },
           "bgcolor": "rgb(17,17,17)",
           "radialaxis": {
            "gridcolor": "#506784",
            "linecolor": "#506784",
            "ticks": ""
           }
          },
          "scene": {
           "xaxis": {
            "backgroundcolor": "rgb(17,17,17)",
            "gridcolor": "#506784",
            "gridwidth": 2,
            "linecolor": "#506784",
            "showbackground": true,
            "ticks": "",
            "zerolinecolor": "#C8D4E3"
           },
           "yaxis": {
            "backgroundcolor": "rgb(17,17,17)",
            "gridcolor": "#506784",
            "gridwidth": 2,
            "linecolor": "#506784",
            "showbackground": true,
            "ticks": "",
            "zerolinecolor": "#C8D4E3"
           },
           "zaxis": {
            "backgroundcolor": "rgb(17,17,17)",
            "gridcolor": "#506784",
            "gridwidth": 2,
            "linecolor": "#506784",
            "showbackground": true,
            "ticks": "",
            "zerolinecolor": "#C8D4E3"
           }
          },
          "shapedefaults": {
           "line": {
            "color": "#f2f5fa"
           }
          },
          "sliderdefaults": {
           "bgcolor": "#C8D4E3",
           "bordercolor": "rgb(17,17,17)",
           "borderwidth": 1,
           "tickwidth": 0
          },
          "ternary": {
           "aaxis": {
            "gridcolor": "#506784",
            "linecolor": "#506784",
            "ticks": ""
           },
           "baxis": {
            "gridcolor": "#506784",
            "linecolor": "#506784",
            "ticks": ""
           },
           "bgcolor": "rgb(17,17,17)",
           "caxis": {
            "gridcolor": "#506784",
            "linecolor": "#506784",
            "ticks": ""
           }
          },
          "title": {
           "x": 0.05
          },
          "updatemenudefaults": {
           "bgcolor": "#506784",
           "borderwidth": 0
          },
          "xaxis": {
           "automargin": true,
           "gridcolor": "#283442",
           "linecolor": "#506784",
           "ticks": "",
           "title": {
            "standoff": 15
           },
           "zerolinecolor": "#283442",
           "zerolinewidth": 2
          },
          "yaxis": {
           "automargin": true,
           "gridcolor": "#283442",
           "linecolor": "#506784",
           "ticks": "",
           "title": {
            "standoff": 15
           },
           "zerolinecolor": "#283442",
           "zerolinewidth": 2
          }
         }
        },
        "xaxis": {
         "anchor": "y",
         "domain": [
          0.0,
          1.0
         ],
         "title": {
          "text": "serve_choke_pct"
         }
        },
        "yaxis": {
         "anchor": "x",
         "domain": [
          0.0,
          1.0
         ],
         "title": {
          "text": "choke_pct"
         }
        }
       }
      },
      "text/html": "<div>                            <div id=\"e043821f-456d-419f-a247-431dff088f0b\" class=\"plotly-graph-div\" style=\"height:525px; width:100%;\"></div>            <script type=\"text/javascript\">                require([\"plotly\"], function(Plotly) {                    window.PLOTLYENV=window.PLOTLYENV || {};                                    if (document.getElementById(\"e043821f-456d-419f-a247-431dff088f0b\")) {                    Plotly.newPlot(                        \"e043821f-456d-419f-a247-431dff088f0b\",                        [{\"hovertemplate\": \"<b>%{hovertext}</b><br><br>serve_choke_pct=%{x}<br>choke_pct=%{y}<extra></extra>\", \"hovertext\": [\"D Brown\", \"M Jaziri\", \"D Koepfer\", \"M Giron\", \"J Vesely\", \"J Duckworth\", \"L Lacko\", \"P Gojowczyk\", \"T Kokkinakis\", \"J Millman\", \"V Troicki\", \"B Tomic\", \"C Berlocq\", \"J Ward\", \"K Khachanov\", \"F Bagnis\", \"L Rosol\", \"L Kubot\", \"D Young\", \"M Matosevic\", \"S Darcis\", \"M Kukushkin\", \"Q Halys\", \"Y Sugita\", \"I Karlovic\", \"P Kohlschreiber\", \"H Chung\", \"G Simon\", \"J Donaldson\", \"F Delbonis\", \"J Nieminen\", \"J Sinner\", \"P Martinez\", \"P Lorenzi\", \"B Klahn\", \"F Verdasco\", \"J Wilfried Tsonga\", \"S Johnson\", \"L Sonego\", \"M Mcdonald\", \"C Norrie\", \"R Opelka\", \"V Pospisil\", \"S Giraldo\", \"R Harrison\", \"T Gabashvili\", \"N Mahut\", \"J Benneteau\", \"D Lajovic\", \"A Bublik\", \"A De Minaur\", \"K Edmund\", \"A Ramos-Vinolas\", \"B Coric\", \"R Soderling\", \"T Sandgren\", \"I Dodig\", \"T Smyczek\", \"M Youzhny\", \"M Berrettini\", \"H Laaksonen\", \"D Kudla\", \"R Nadal\", \"D Shapovalov\", \"J Melzer\", \"T Ito\", \"T Bellucci\", \"M Russell\", \"P Carreno Busta\", \"A Popyrin\", \"M Klizan\", \"T Berdych\", \"D Evans\", \"N Kyrgios\", \"P Cuevas\", \"M Zverev\", \"B Van De Zandschulp\", \"A Roddick\", \"T Fritz\", \"E Gulbis\", \"S Stakhovsky\", \"R Dutra Silva\", \"A Bedene\", \"B Paire\", \"G Garcia-Lopez\", \"S Wawrinka\", \"R Bautista Agut\", \"J Sock\", \"D Sela\", \"J Janowicz\", \"G Pella\", \"F Mayer\", \"M Polmans\", \"L Djere\", \"F Fognini\", \"T Monteiro\", \"T Haas\", \"P Andujar\", \"A Mannarino\", \"C Garin\", \"F Lopez\", \"D Dzumhur\", \"M Copil\", \"R Stepanek\", \"S Travaglia\", \"E Roger-Vasselin\", \"Y Lu\", \"A Davidovich Fokina\", \"N Basilashvili\", \"G Monfils\", \"N Almagro\", \"J Tipsarevic\", \"A Dolgopolov\", \"F Tiafoe\", \"J Isner\", \"T Fabbiano\", \"A Seppi\", \"H Hurkacz\", \"T Robredo\", \"M Raonic\", \"S Robert\", \"D Schwartzman\", \"J Ignacio Chela\", \"S Caruso\", \"N Gombos\", \"R Haase\", \"S Kwon\", \"J Munar\", \"G Dimitrov\", \"S Bolelli\", \"M Baghdatis\", \"C Alcaraz\", \"B Becker\", \"K Nishikori\", \"J Lennard Struff\", \"F Krajinovic\", \"R Bemelmans\", \"R Carballes Baena\", \"G Muller\", \"C Ruud\", \"Y Nishioka\", \"E Donskoy\", \"J Struff\", \"M Kecmanovic\", \"A Falla\", \"J Londero\", \"M Granollers\", \"D Nalbandian\", \"L Mayer\", \"L Hewitt\", \"J Thompson\", \"S Querrey\", \"L Pouille\", \"M Ymer\", \"A Murray\", \"A Zverev\", \"N Djokovic\", \"P Herbert\", \"D Medvedev\", \"A Rublev\", \"P Mathieu\", \"K Anderson\", \"U Humbert\", \"B Kavcic\", \"A Kuznetsov\", \"G Barrere\", \"T Daniel\", \"J Chardy\", \"D Thiem\", \"J Sousa\", \"L Harris\", \"M Cilic\", \"R Berankis\", \"C Moutet\", \"D Istomin\", \"S Tsitsipas\", \"R Gasquet\", \"R Federer\", \"M Cecchinato\", \"T Kamke\", \"D Goffin\", \"D Ferrer\", \"F Auger Aliassime\", \"M Ebden\", \"S Korda\", \"J Martin Del Potro\", \"J Monaco\", \"M Fucsovics\", \"P Petzschner\", \"R Albot\", \"K Majchrzak\", \"I Ivashka\", \"M Fish\", \"E Ruusuvuori\"], \"legendgroup\": \"\", \"marker\": {\"color\": \"#636efa\", \"symbol\": \"circle\"}, \"mode\": \"markers\", \"name\": \"\", \"orientation\": \"v\", \"selected\": {\"marker\": {\"color\": \"red\"}}, \"selectedpoints\": [62, 77, 85, 149, 154, 156, 158, 168, 171, 177, 185], \"showlegend\": false, \"type\": \"scatter\", \"unselected\": {\"marker\": {\"color\": \"blue\"}}, \"x\": [-0.0164908426602534, -0.0647967170699311, -0.043689778153902, -0.0014283238779769, -0.0183065700345791, -0.0556590199538482, 0.0136441577222488, -0.0393497194099482, -0.0348695211335379, 0.0017283037019222, -0.0271011070412205, -0.0403400739577833, -0.017504128315956, -0.0504115080768777, -0.0123903414124434, -0.027669536154821, 0.0004253305643911, 0.0133926825862309, -0.0150367932893746, -0.0407351828736235, -0.0088900310966051, -0.0292773191944028, -0.0182812894924288, 0.0024683995307891, 0.0241348920441336, -0.002080977497818, 0.0062321492450504, -0.0052394653386727, 0.0071991977929124, -0.0227078680009614, -0.0082556166053091, 0.0047781327653532, -0.0515468552614564, -0.0041468978740675, 0.0217232805715086, -0.0267216455033714, -0.0143672133958166, -0.0142714516178127, 0.0223694371062792, 0.0048875140607424, -0.0244294399353174, 0.0182487759141576, 0.0353062511442462, 0.005418318130385, 0.0081653534201041, -0.0338523474039429, 0.0182988993727799, -0.0085706395623253, -0.00782697671225, -0.0114953676410354, -0.0169624532966936, 0.0104312264055651, -0.0084061744715512, 0.0209854574614298, 0.0402989010989011, 0.0088785926642541, -0.0004428472061209, -0.0131723914850407, 0.0089352427067285, 0.0140388329593962, 0.0160435356756181, 0.0049554470191872, -0.0017142989525626, -0.0209613330484939, 0.0255757008395771, -0.003969465648855, 0.0128589168019868, -0.0162951214870265, -0.0122590179944643, -0.008667744325453, -0.0144042367748869, 0.0005118400568103, -0.0124755516481608, 0.0301950289994245, 0.0177567351293678, -0.0202088788130362, -0.0001415094339622, 0.0464735038738821, 0.0062419810502911, 0.0093391923421642, 0.0198896385333987, 0.0120860475685501, 0.0170028366226085, -0.0136751815461771, 0.0102159858658912, -0.0136961722354505, 0.0059831058368122, 0.0175989630444716, 0.0100298066058134, -0.0095116375357272, -0.0093084090430437, -0.0177599201128136, 0.0037065534053696, -0.0060382403390172, 0.0169947328223811, 0.0403531186230148, 0.0078863636363636, -0.0020735999361908, 0.0360562111575341, -0.0015852832156585, 0.007123868233481, 0.0205575312551315, 0.0290640538169054, -0.0026328310864392, 0.0319820325659741, -0.0058423096009574, 0.012484138639504, 0.0031986523202379, 0.02854984227048, 0.0115067010497409, 0.0120656530343238, 0.00519712502346, 0.020700600150772, 0.038273703582628, 0.0094351034971528, 0.0089392179636082, 0.0191103872522586, 0.0178810670637513, 0.0022613380879717, -0.0050523029879449, -0.000410756435993, 0.011353115181564, -0.0118192623407495, -0.0319817227957352, 0.0107638565440149, 0.0248424999733683, 0.0180532291511519, -0.0175885657010081, -0.0140546686479221, 0.0156893200164705, 0.0049097317744153, 0.0169567401058059, 0.0633618672601723, 0.0232712441981499, 0.0006225099939595, 0.0245704604942407, 0.0310435301132975, 0.0215716933494314, -0.0100344369484708, -0.0043065782119511, -0.0046132571418615, 0.0071724767948321, 0.0428293782971873, -0.0072173339829755, 0.0220148792309072, 0.0384806771974081, -0.002136127408331, -0.0085310472659869, 0.0277346395079332, 0.0174820075164937, 0.0260151968146842, 0.0466331217801806, 0.0224887181206322, 0.0275636398176292, 0.0252478942674824, 0.0479738334934728, 0.0144702000255389, 0.0319397835987392, 0.0482739985138147, 0.0304977758949375, 0.0212365566510823, 0.0161847269775698, 0.0105907073748254, 0.0409326472905947, 0.0637450769781596, 0.0355562156592823, 0.027918939603654, 0.0414948347900665, 0.0126263308574942, 0.0307346340441114, 0.0703743315508021, 0.0193825579318981, 0.0255722294260872, 0.030729800217505, 0.0383053574413551, 0.0583199750284493, 0.0397863887294125, 0.033134364571871, 0.0397386051619989, 0.0205162655642501, 0.0500933683416898, 0.038028295471399, 0.0342830546861829, 0.0641842473323357, 0.0348860403413994, 0.05130243895683, 0.0118977477123743, 0.0626729313495171, 0.0420125786163521, 0.0443730852905918, 0.0400048100048099, 0.0614346987762168, 0.043411916068505, 0.0562953896368828], \"xaxis\": \"x\", \"y\": [-0.0377453328188857, -0.0369301841313505, -0.0318095580990162, -0.029439821739439, -0.0287668868658128, -0.0276363077773459, -0.0265135858268544, -0.0259417838396333, -0.0247573146911865, -0.0225115457126702, -0.0215967359756103, -0.0213587571524274, -0.0209715597983476, -0.0186077125814632, -0.0168724154319324, -0.0164131262622069, -0.0162440689629687, -0.0158036176242756, -0.0153284456550501, -0.0148535216323194, -0.0147080449437906, -0.0143106532216299, -0.0131208964634564, -0.0130141773572965, -0.0128408929003565, -0.0127567899083438, -0.012034321296059, -0.011245653822975, -0.011104114678526, -0.0110418764468469, -0.0109258378593047, -0.0105242400689362, -0.0103041974676204, -0.0102043380172809, -0.0100596237742349, -0.0099865675118366, -0.0098451746173135, -0.0098286517434825, -0.0096093392249861, -0.0092829104656458, -0.0076932548239013, -0.0067968436454317, -0.00657320978004, -0.006237663566299, -0.0060768692608755, -0.0059234913041049, -0.0055767172684136, -0.0047071511763259, -0.0044296101653502, -0.0042084959073921, -0.003851776115788, -0.0034995311733491, -0.002636922702475, -0.0022675636559352, -0.0021329796640141, -0.0017984013901336, -0.001336198626994, -0.0005806549551305, -0.0001617048110496, 0.0001536841739143, 0.0001971974212719, 0.0007218423793844, 0.0008423695519896, 0.0016755516803393, 0.0020062565525967, 0.0020335320157551, 0.0022111507570802, 0.002298590887839, 0.0024264716398696, 0.0027635797415923, 0.0028190690851589, 0.0030296618753998, 0.0030507396535296, 0.0033070148990622, 0.003658396649205, 0.0037558161904569, 0.0040000417431958, 0.0041458575963388, 0.0041936715978266, 0.0041979275200173, 0.0043791095139482, 0.0044126767301992, 0.0044219568735917, 0.004461730109645, 0.0050575132103605, 0.0051646852760958, 0.0051942492043936, 0.0054756085585846, 0.0058009305603035, 0.0059258744701792, 0.0061278863979788, 0.0064403998614072, 0.006702689331864, 0.0068263055905949, 0.0068647027851804, 0.0068757544866499, 0.0069048726040744, 0.0069807830702748, 0.0071593265848985, 0.0073594761890624, 0.0077193495615264, 0.0081057273981895, 0.00827498944, 0.0084048069297871, 0.0084490056812366, 0.0084604092794755, 0.0086152319560725, 0.0087289557897486, 0.008986764563723, 0.0090758048202154, 0.0090894003117899, 0.0094250287082274, 0.0094951660955867, 0.0099982235888939, 0.0105189410525765, 0.0105660793870141, 0.0106517470348154, 0.0106876178651669, 0.0109547012209592, 0.0110537316896975, 0.0116117901209109, 0.0117860004276167, 0.0118611387295817, 0.0121291958908801, 0.0125617181433331, 0.0130778916457533, 0.0134366214157513, 0.0135291204851106, 0.013568949349107, 0.0139059944289061, 0.0139513639326406, 0.0139901894117343, 0.0143383256883348, 0.0144094554649742, 0.0147407656359667, 0.0149820538783155, 0.015048121053593, 0.0150975239704337, 0.0153698560320175, 0.0162164481526506, 0.0165092486155544, 0.0171299973644175, 0.0171858163129097, 0.0173698158940953, 0.0173888139867153, 0.0176001032495768, 0.0181106515096731, 0.0181257807148326, 0.0185258693165586, 0.0186909102987112, 0.0188035383914538, 0.0188384604110259, 0.0205049815147212, 0.0207693588496246, 0.020802495176964, 0.0209214875708385, 0.0209355216057524, 0.021062005567954, 0.0219917747557815, 0.0232076408333035, 0.0235320586700374, 0.0240523270457475, 0.0241154233940639, 0.0243373942109574, 0.0252265882295962, 0.0262218715150041, 0.0264227401700773, 0.0266095856528692, 0.0266646067829552, 0.026848693703069, 0.0275767089172683, 0.0286829816336888, 0.0291240351474296, 0.0292248213390374, 0.0296972380296024, 0.0297671906866561, 0.0313295484321002, 0.032130169349882, 0.032146064903134, 0.0322862980001022, 0.0322929880286307, 0.0329924272089398, 0.0338338258368966, 0.035546092821244, 0.0356402332394272, 0.0362579584846418, 0.036277288896644, 0.0401205847814583, 0.0413409536494036, 0.0443487429312844, 0.0456525190575023, 0.0469514367142236, 0.047777500555449, 0.063993962372026], \"yaxis\": \"y\"}],                        {\"legend\": {\"tracegroupgap\": 0}, \"margin\": {\"t\": 60}, \"template\": {\"data\": {\"bar\": [{\"error_x\": {\"color\": \"#f2f5fa\"}, \"error_y\": {\"color\": \"#f2f5fa\"}, \"marker\": {\"line\": {\"color\": \"rgb(17,17,17)\", \"width\": 0.5}}, \"type\": \"bar\"}], \"barpolar\": [{\"marker\": {\"line\": {\"color\": \"rgb(17,17,17)\", \"width\": 0.5}}, \"type\": \"barpolar\"}], \"carpet\": [{\"aaxis\": {\"endlinecolor\": \"#A2B1C6\", \"gridcolor\": \"#506784\", \"linecolor\": \"#506784\", \"minorgridcolor\": \"#506784\", \"startlinecolor\": \"#A2B1C6\"}, \"baxis\": {\"endlinecolor\": \"#A2B1C6\", \"gridcolor\": \"#506784\", \"linecolor\": \"#506784\", \"minorgridcolor\": \"#506784\", \"startlinecolor\": \"#A2B1C6\"}, \"type\": \"carpet\"}], \"choropleth\": [{\"colorbar\": {\"outlinewidth\": 0, \"ticks\": \"\"}, \"type\": \"choropleth\"}], \"contour\": [{\"colorbar\": {\"outlinewidth\": 0, \"ticks\": \"\"}, \"colorscale\": [[0.0, \"#0d0887\"], [0.1111111111111111, \"#46039f\"], [0.2222222222222222, \"#7201a8\"], [0.3333333333333333, \"#9c179e\"], [0.4444444444444444, \"#bd3786\"], [0.5555555555555556, \"#d8576b\"], [0.6666666666666666, \"#ed7953\"], [0.7777777777777778, \"#fb9f3a\"], [0.8888888888888888, \"#fdca26\"], [1.0, \"#f0f921\"]], \"type\": \"contour\"}], \"contourcarpet\": [{\"colorbar\": {\"outlinewidth\": 0, \"ticks\": \"\"}, \"type\": \"contourcarpet\"}], \"heatmap\": [{\"colorbar\": {\"outlinewidth\": 0, \"ticks\": \"\"}, \"colorscale\": [[0.0, \"#0d0887\"], [0.1111111111111111, \"#46039f\"], [0.2222222222222222, \"#7201a8\"], [0.3333333333333333, \"#9c179e\"], [0.4444444444444444, \"#bd3786\"], [0.5555555555555556, \"#d8576b\"], [0.6666666666666666, \"#ed7953\"], [0.7777777777777778, \"#fb9f3a\"], [0.8888888888888888, \"#fdca26\"], [1.0, \"#f0f921\"]], \"type\": \"heatmap\"}], \"heatmapgl\": [{\"colorbar\": {\"outlinewidth\": 0, \"ticks\": \"\"}, \"colorscale\": [[0.0, \"#0d0887\"], [0.1111111111111111, \"#46039f\"], [0.2222222222222222, \"#7201a8\"], [0.3333333333333333, \"#9c179e\"], [0.4444444444444444, \"#bd3786\"], [0.5555555555555556, \"#d8576b\"], [0.6666666666666666, \"#ed7953\"], [0.7777777777777778, \"#fb9f3a\"], [0.8888888888888888, \"#fdca26\"], [1.0, \"#f0f921\"]], \"type\": \"heatmapgl\"}], \"histogram\": [{\"marker\": {\"colorbar\": {\"outlinewidth\": 0, \"ticks\": \"\"}}, \"type\": \"histogram\"}], \"histogram2d\": [{\"colorbar\": {\"outlinewidth\": 0, \"ticks\": \"\"}, \"colorscale\": [[0.0, \"#0d0887\"], [0.1111111111111111, \"#46039f\"], [0.2222222222222222, \"#7201a8\"], [0.3333333333333333, \"#9c179e\"], [0.4444444444444444, \"#bd3786\"], [0.5555555555555556, \"#d8576b\"], [0.6666666666666666, \"#ed7953\"], [0.7777777777777778, \"#fb9f3a\"], [0.8888888888888888, \"#fdca26\"], [1.0, \"#f0f921\"]], \"type\": \"histogram2d\"}], \"histogram2dcontour\": [{\"colorbar\": {\"outlinewidth\": 0, \"ticks\": \"\"}, \"colorscale\": [[0.0, \"#0d0887\"], [0.1111111111111111, \"#46039f\"], [0.2222222222222222, \"#7201a8\"], [0.3333333333333333, \"#9c179e\"], [0.4444444444444444, \"#bd3786\"], [0.5555555555555556, \"#d8576b\"], [0.6666666666666666, \"#ed7953\"], [0.7777777777777778, \"#fb9f3a\"], [0.8888888888888888, \"#fdca26\"], [1.0, \"#f0f921\"]], \"type\": \"histogram2dcontour\"}], \"mesh3d\": [{\"colorbar\": {\"outlinewidth\": 0, \"ticks\": \"\"}, \"type\": \"mesh3d\"}], \"parcoords\": [{\"line\": {\"colorbar\": {\"outlinewidth\": 0, \"ticks\": \"\"}}, \"type\": \"parcoords\"}], \"pie\": [{\"automargin\": true, \"type\": \"pie\"}], \"scatter\": [{\"marker\": {\"line\": {\"color\": \"#283442\"}}, \"type\": \"scatter\"}], \"scatter3d\": [{\"line\": {\"colorbar\": {\"outlinewidth\": 0, \"ticks\": \"\"}}, \"marker\": {\"colorbar\": {\"outlinewidth\": 0, \"ticks\": \"\"}}, \"type\": \"scatter3d\"}], \"scattercarpet\": [{\"marker\": {\"colorbar\": {\"outlinewidth\": 0, \"ticks\": \"\"}}, \"type\": \"scattercarpet\"}], \"scattergeo\": [{\"marker\": {\"colorbar\": {\"outlinewidth\": 0, \"ticks\": \"\"}}, \"type\": \"scattergeo\"}], \"scattergl\": [{\"marker\": {\"line\": {\"color\": \"#283442\"}}, \"type\": \"scattergl\"}], \"scattermapbox\": [{\"marker\": {\"colorbar\": {\"outlinewidth\": 0, \"ticks\": \"\"}}, \"type\": \"scattermapbox\"}], \"scatterpolar\": [{\"marker\": {\"colorbar\": {\"outlinewidth\": 0, \"ticks\": \"\"}}, \"type\": \"scatterpolar\"}], \"scatterpolargl\": [{\"marker\": {\"colorbar\": {\"outlinewidth\": 0, \"ticks\": \"\"}}, \"type\": \"scatterpolargl\"}], \"scatterternary\": [{\"marker\": {\"colorbar\": {\"outlinewidth\": 0, \"ticks\": \"\"}}, \"type\": \"scatterternary\"}], \"surface\": [{\"colorbar\": {\"outlinewidth\": 0, \"ticks\": \"\"}, \"colorscale\": [[0.0, \"#0d0887\"], [0.1111111111111111, \"#46039f\"], [0.2222222222222222, \"#7201a8\"], [0.3333333333333333, \"#9c179e\"], [0.4444444444444444, \"#bd3786\"], [0.5555555555555556, \"#d8576b\"], [0.6666666666666666, \"#ed7953\"], [0.7777777777777778, \"#fb9f3a\"], [0.8888888888888888, \"#fdca26\"], [1.0, \"#f0f921\"]], \"type\": \"surface\"}], \"table\": [{\"cells\": {\"fill\": {\"color\": \"#506784\"}, \"line\": {\"color\": \"rgb(17,17,17)\"}}, \"header\": {\"fill\": {\"color\": \"#2a3f5f\"}, \"line\": {\"color\": \"rgb(17,17,17)\"}}, \"type\": \"table\"}]}, \"layout\": {\"annotationdefaults\": {\"arrowcolor\": \"#f2f5fa\", \"arrowhead\": 0, \"arrowwidth\": 1}, \"autotypenumbers\": \"strict\", \"coloraxis\": {\"colorbar\": {\"outlinewidth\": 0, \"ticks\": \"\"}}, \"colorscale\": {\"diverging\": [[0, \"#8e0152\"], [0.1, \"#c51b7d\"], [0.2, \"#de77ae\"], [0.3, \"#f1b6da\"], [0.4, \"#fde0ef\"], [0.5, \"#f7f7f7\"], [0.6, \"#e6f5d0\"], [0.7, \"#b8e186\"], [0.8, \"#7fbc41\"], [0.9, \"#4d9221\"], [1, \"#276419\"]], \"sequential\": [[0.0, \"#0d0887\"], [0.1111111111111111, \"#46039f\"], [0.2222222222222222, \"#7201a8\"], [0.3333333333333333, \"#9c179e\"], [0.4444444444444444, \"#bd3786\"], [0.5555555555555556, \"#d8576b\"], [0.6666666666666666, \"#ed7953\"], [0.7777777777777778, \"#fb9f3a\"], [0.8888888888888888, \"#fdca26\"], [1.0, \"#f0f921\"]], \"sequentialminus\": [[0.0, \"#0d0887\"], [0.1111111111111111, \"#46039f\"], [0.2222222222222222, \"#7201a8\"], [0.3333333333333333, \"#9c179e\"], [0.4444444444444444, \"#bd3786\"], [0.5555555555555556, \"#d8576b\"], [0.6666666666666666, \"#ed7953\"], [0.7777777777777778, \"#fb9f3a\"], [0.8888888888888888, \"#fdca26\"], [1.0, \"#f0f921\"]]}, \"colorway\": [\"#636efa\", \"#EF553B\", \"#00cc96\", \"#ab63fa\", \"#FFA15A\", \"#19d3f3\", \"#FF6692\", \"#B6E880\", \"#FF97FF\", \"#FECB52\"], \"font\": {\"color\": \"#f2f5fa\"}, \"geo\": {\"bgcolor\": \"rgb(17,17,17)\", \"lakecolor\": \"rgb(17,17,17)\", \"landcolor\": \"rgb(17,17,17)\", \"showlakes\": true, \"showland\": true, \"subunitcolor\": \"#506784\"}, \"hoverlabel\": {\"align\": \"left\"}, \"hovermode\": \"closest\", \"mapbox\": {\"style\": \"dark\"}, \"paper_bgcolor\": \"rgb(17,17,17)\", \"plot_bgcolor\": \"rgb(17,17,17)\", \"polar\": {\"angularaxis\": {\"gridcolor\": \"#506784\", \"linecolor\": \"#506784\", \"ticks\": \"\"}, \"bgcolor\": \"rgb(17,17,17)\", \"radialaxis\": {\"gridcolor\": \"#506784\", \"linecolor\": \"#506784\", \"ticks\": \"\"}}, \"scene\": {\"xaxis\": {\"backgroundcolor\": \"rgb(17,17,17)\", \"gridcolor\": \"#506784\", \"gridwidth\": 2, \"linecolor\": \"#506784\", \"showbackground\": true, \"ticks\": \"\", \"zerolinecolor\": \"#C8D4E3\"}, \"yaxis\": {\"backgroundcolor\": \"rgb(17,17,17)\", \"gridcolor\": \"#506784\", \"gridwidth\": 2, \"linecolor\": \"#506784\", \"showbackground\": true, \"ticks\": \"\", \"zerolinecolor\": \"#C8D4E3\"}, \"zaxis\": {\"backgroundcolor\": \"rgb(17,17,17)\", \"gridcolor\": \"#506784\", \"gridwidth\": 2, \"linecolor\": \"#506784\", \"showbackground\": true, \"ticks\": \"\", \"zerolinecolor\": \"#C8D4E3\"}}, \"shapedefaults\": {\"line\": {\"color\": \"#f2f5fa\"}}, \"sliderdefaults\": {\"bgcolor\": \"#C8D4E3\", \"bordercolor\": \"rgb(17,17,17)\", \"borderwidth\": 1, \"tickwidth\": 0}, \"ternary\": {\"aaxis\": {\"gridcolor\": \"#506784\", \"linecolor\": \"#506784\", \"ticks\": \"\"}, \"baxis\": {\"gridcolor\": \"#506784\", \"linecolor\": \"#506784\", \"ticks\": \"\"}, \"bgcolor\": \"rgb(17,17,17)\", \"caxis\": {\"gridcolor\": \"#506784\", \"linecolor\": \"#506784\", \"ticks\": \"\"}}, \"title\": {\"x\": 0.05}, \"updatemenudefaults\": {\"bgcolor\": \"#506784\", \"borderwidth\": 0}, \"xaxis\": {\"automargin\": true, \"gridcolor\": \"#283442\", \"linecolor\": \"#506784\", \"ticks\": \"\", \"title\": {\"standoff\": 15}, \"zerolinecolor\": \"#283442\", \"zerolinewidth\": 2}, \"yaxis\": {\"automargin\": true, \"gridcolor\": \"#283442\", \"linecolor\": \"#506784\", \"ticks\": \"\", \"title\": {\"standoff\": 15}, \"zerolinecolor\": \"#283442\", \"zerolinewidth\": 2}}}, \"xaxis\": {\"anchor\": \"y\", \"domain\": [0.0, 1.0], \"title\": {\"text\": \"serve_choke_pct\"}}, \"yaxis\": {\"anchor\": \"x\", \"domain\": [0.0, 1.0], \"title\": {\"text\": \"choke_pct\"}}},                        {\"responsive\": true}                    ).then(function(){\n                            \nvar gd = document.getElementById('e043821f-456d-419f-a247-431dff088f0b');\nvar x = new MutationObserver(function (mutations, observer) {{\n        var display = window.getComputedStyle(gd).display;\n        if (!display || display === 'none') {{\n            console.log([gd, 'removed!']);\n            Plotly.purge(gd);\n            observer.disconnect();\n        }}\n}});\n\n// Listen for the removal of the full notebook cells\nvar notebookContainer = gd.closest('#notebook-container');\nif (notebookContainer) {{\n    x.observe(notebookContainer, {childList: true});\n}}\n\n// Listen for the clearing of the current output cell\nvar outputEl = gd.closest('.output');\nif (outputEl) {{\n    x.observe(outputEl, {childList: true});\n}}\n\n                        })                };                });            </script>        </div>"
     },
     "metadata": {},
     "output_type": "display_data"
    }
   ],
   "source": [
    "fig = px.scatter(data_frame=df, x=\"serve_choke_pct\", y=\"choke_pct\", hover_name='name')\n",
    "inds = [62, 77, 85, 149, 154, 156, 158, 168, 171, 177, 185]\n",
    "fig.data[0].update(selectedpoints=inds,\n",
    "                   selected=dict(marker=dict(color='red')),\n",
    "                   unselected=dict(marker=dict(color='blue')))\n",
    "fig.show()"
   ],
   "metadata": {
    "collapsed": false,
    "pycharm": {
     "name": "#%%\n"
    }
   }
  },
  {
   "cell_type": "code",
   "execution_count": 167,
   "outputs": [
    {
     "data": {
      "text/plain": "['D Goffin',\n 'D Ferrer',\n 'F Auger Aliassime',\n 'M Ebden',\n 'S Korda',\n 'J Martin Del Potro',\n 'J Monaco',\n 'M Fucsovics',\n 'P Petzschner',\n 'R Albot']"
     },
     "execution_count": 167,
     "metadata": {},
     "output_type": "execute_result"
    }
   ],
   "source": [
    "[df.iloc[:, 0][i] for i in range(180, 190)]"
   ],
   "metadata": {
    "collapsed": false,
    "pycharm": {
     "name": "#%%\n"
    }
   }
  },
  {
   "cell_type": "code",
   "execution_count": 170,
   "outputs": [
    {
     "data": {
      "application/vnd.plotly.v1+json": {
       "config": {
        "plotlyServerURL": "https://plot.ly"
       },
       "data": [
        {
         "hovertemplate": "<b>%{hovertext}</b><br><br>serve_choke_pct=%{x}<br>noserve_choke_pct=%{y}<extra></extra>",
         "hovertext": [
          "D Brown",
          "M Jaziri",
          "D Koepfer",
          "M Giron",
          "J Vesely",
          "J Duckworth",
          "L Lacko",
          "P Gojowczyk",
          "T Kokkinakis",
          "J Millman",
          "V Troicki",
          "B Tomic",
          "C Berlocq",
          "J Ward",
          "K Khachanov",
          "F Bagnis",
          "L Rosol",
          "L Kubot",
          "D Young",
          "M Matosevic",
          "S Darcis",
          "M Kukushkin",
          "Q Halys",
          "Y Sugita",
          "I Karlovic",
          "P Kohlschreiber",
          "H Chung",
          "G Simon",
          "J Donaldson",
          "F Delbonis",
          "J Nieminen",
          "J Sinner",
          "P Martinez",
          "P Lorenzi",
          "B Klahn",
          "F Verdasco",
          "J Wilfried Tsonga",
          "S Johnson",
          "L Sonego",
          "M Mcdonald",
          "C Norrie",
          "R Opelka",
          "V Pospisil",
          "S Giraldo",
          "R Harrison",
          "T Gabashvili",
          "N Mahut",
          "J Benneteau",
          "D Lajovic",
          "A Bublik",
          "A De Minaur",
          "K Edmund",
          "A Ramos-Vinolas",
          "B Coric",
          "R Soderling",
          "T Sandgren",
          "I Dodig",
          "T Smyczek",
          "M Youzhny",
          "M Berrettini",
          "H Laaksonen",
          "D Kudla",
          "R Nadal",
          "D Shapovalov",
          "J Melzer",
          "T Ito",
          "T Bellucci",
          "M Russell",
          "P Carreno Busta",
          "A Popyrin",
          "M Klizan",
          "T Berdych",
          "D Evans",
          "N Kyrgios",
          "P Cuevas",
          "M Zverev",
          "B Van De Zandschulp",
          "A Roddick",
          "T Fritz",
          "E Gulbis",
          "S Stakhovsky",
          "R Dutra Silva",
          "A Bedene",
          "B Paire",
          "G Garcia-Lopez",
          "S Wawrinka",
          "R Bautista Agut",
          "J Sock",
          "D Sela",
          "J Janowicz",
          "G Pella",
          "F Mayer",
          "M Polmans",
          "L Djere",
          "F Fognini",
          "T Monteiro",
          "T Haas",
          "P Andujar",
          "A Mannarino",
          "C Garin",
          "F Lopez",
          "D Dzumhur",
          "M Copil",
          "R Stepanek",
          "S Travaglia",
          "E Roger-Vasselin",
          "Y Lu",
          "A Davidovich Fokina",
          "N Basilashvili",
          "G Monfils",
          "N Almagro",
          "J Tipsarevic",
          "A Dolgopolov",
          "F Tiafoe",
          "J Isner",
          "T Fabbiano",
          "A Seppi",
          "H Hurkacz",
          "T Robredo",
          "M Raonic",
          "S Robert",
          "D Schwartzman",
          "J Ignacio Chela",
          "S Caruso",
          "N Gombos",
          "R Haase",
          "S Kwon",
          "J Munar",
          "G Dimitrov",
          "S Bolelli",
          "M Baghdatis",
          "C Alcaraz",
          "B Becker",
          "K Nishikori",
          "J Lennard Struff",
          "F Krajinovic",
          "R Bemelmans",
          "R Carballes Baena",
          "G Muller",
          "C Ruud",
          "Y Nishioka",
          "E Donskoy",
          "J Struff",
          "M Kecmanovic",
          "A Falla",
          "J Londero",
          "M Granollers",
          "D Nalbandian",
          "L Mayer",
          "L Hewitt",
          "J Thompson",
          "S Querrey",
          "L Pouille",
          "M Ymer",
          "A Murray",
          "A Zverev",
          "N Djokovic",
          "P Herbert",
          "D Medvedev",
          "A Rublev",
          "P Mathieu",
          "K Anderson",
          "U Humbert",
          "B Kavcic",
          "A Kuznetsov",
          "G Barrere",
          "T Daniel",
          "J Chardy",
          "D Thiem",
          "J Sousa",
          "L Harris",
          "M Cilic",
          "R Berankis",
          "C Moutet",
          "D Istomin",
          "S Tsitsipas",
          "R Gasquet",
          "R Federer",
          "M Cecchinato",
          "T Kamke",
          "D Goffin",
          "D Ferrer",
          "F Auger Aliassime",
          "M Ebden",
          "S Korda",
          "J Martin Del Potro",
          "J Monaco",
          "M Fucsovics",
          "P Petzschner",
          "R Albot",
          "K Majchrzak",
          "I Ivashka",
          "M Fish",
          "E Ruusuvuori"
         ],
         "legendgroup": "",
         "marker": {
          "color": "#636efa",
          "symbol": "circle"
         },
         "mode": "markers",
         "name": "",
         "orientation": "v",
         "selected": {
          "marker": {
           "color": "red"
          }
         },
         "selectedpoints": [
          62,
          77,
          85,
          149,
          154,
          156,
          158,
          168,
          171,
          177,
          185
         ],
         "showlegend": false,
         "type": "scatter",
         "unselected": {
          "marker": {
           "color": "blue"
          }
         },
         "x": [
          -0.0164908426602534,
          -0.0647967170699311,
          -0.043689778153902,
          -0.0014283238779769,
          -0.0183065700345791,
          -0.0556590199538482,
          0.0136441577222488,
          -0.0393497194099482,
          -0.0348695211335379,
          0.0017283037019222,
          -0.0271011070412205,
          -0.0403400739577833,
          -0.017504128315956,
          -0.0504115080768777,
          -0.0123903414124434,
          -0.027669536154821,
          4.253305643911E-4,
          0.0133926825862309,
          -0.0150367932893746,
          -0.0407351828736235,
          -0.0088900310966051,
          -0.0292773191944028,
          -0.0182812894924288,
          0.0024683995307891,
          0.0241348920441336,
          -0.002080977497818,
          0.0062321492450504,
          -0.0052394653386727,
          0.0071991977929124,
          -0.0227078680009614,
          -0.0082556166053091,
          0.0047781327653532,
          -0.0515468552614564,
          -0.0041468978740675,
          0.0217232805715086,
          -0.0267216455033714,
          -0.0143672133958166,
          -0.0142714516178127,
          0.0223694371062792,
          0.0048875140607424,
          -0.0244294399353174,
          0.0182487759141576,
          0.0353062511442462,
          0.005418318130385,
          0.0081653534201041,
          -0.0338523474039429,
          0.0182988993727799,
          -0.0085706395623253,
          -0.00782697671225,
          -0.0114953676410354,
          -0.0169624532966936,
          0.0104312264055651,
          -0.0084061744715512,
          0.0209854574614298,
          0.0402989010989011,
          0.0088785926642541,
          -4.428472061209E-4,
          -0.0131723914850407,
          0.0089352427067285,
          0.0140388329593962,
          0.0160435356756181,
          0.0049554470191872,
          -0.0017142989525626,
          -0.0209613330484939,
          0.0255757008395771,
          -0.003969465648855,
          0.0128589168019868,
          -0.0162951214870265,
          -0.0122590179944643,
          -0.008667744325453,
          -0.0144042367748869,
          5.118400568103E-4,
          -0.0124755516481608,
          0.0301950289994245,
          0.0177567351293678,
          -0.0202088788130362,
          -1.415094339622E-4,
          0.0464735038738821,
          0.0062419810502911,
          0.0093391923421642,
          0.0198896385333987,
          0.0120860475685501,
          0.0170028366226085,
          -0.0136751815461771,
          0.0102159858658912,
          -0.0136961722354505,
          0.0059831058368122,
          0.0175989630444716,
          0.0100298066058134,
          -0.0095116375357272,
          -0.0093084090430437,
          -0.0177599201128136,
          0.0037065534053696,
          -0.0060382403390172,
          0.0169947328223811,
          0.0403531186230148,
          0.0078863636363636,
          -0.0020735999361908,
          0.0360562111575341,
          -0.0015852832156585,
          0.007123868233481,
          0.0205575312551315,
          0.0290640538169054,
          -0.0026328310864392,
          0.0319820325659741,
          -0.0058423096009574,
          0.012484138639504,
          0.0031986523202379,
          0.02854984227048,
          0.0115067010497409,
          0.0120656530343238,
          0.00519712502346,
          0.020700600150772,
          0.038273703582628,
          0.0094351034971528,
          0.0089392179636082,
          0.0191103872522586,
          0.0178810670637513,
          0.0022613380879717,
          -0.0050523029879449,
          -4.10756435993E-4,
          0.011353115181564,
          -0.0118192623407495,
          -0.0319817227957352,
          0.0107638565440149,
          0.0248424999733683,
          0.0180532291511519,
          -0.0175885657010081,
          -0.0140546686479221,
          0.0156893200164705,
          0.0049097317744153,
          0.0169567401058059,
          0.0633618672601723,
          0.0232712441981499,
          6.225099939595E-4,
          0.0245704604942407,
          0.0310435301132975,
          0.0215716933494314,
          -0.0100344369484708,
          -0.0043065782119511,
          -0.0046132571418615,
          0.0071724767948321,
          0.0428293782971873,
          -0.0072173339829755,
          0.0220148792309072,
          0.0384806771974081,
          -0.002136127408331,
          -0.0085310472659869,
          0.0277346395079332,
          0.0174820075164937,
          0.0260151968146842,
          0.0466331217801806,
          0.0224887181206322,
          0.0275636398176292,
          0.0252478942674824,
          0.0479738334934728,
          0.0144702000255389,
          0.0319397835987392,
          0.0482739985138147,
          0.0304977758949375,
          0.0212365566510823,
          0.0161847269775698,
          0.0105907073748254,
          0.0409326472905947,
          0.0637450769781596,
          0.0355562156592823,
          0.027918939603654,
          0.0414948347900665,
          0.0126263308574942,
          0.0307346340441114,
          0.0703743315508021,
          0.0193825579318981,
          0.0255722294260872,
          0.030729800217505,
          0.0383053574413551,
          0.0583199750284493,
          0.0397863887294125,
          0.033134364571871,
          0.0397386051619989,
          0.0205162655642501,
          0.0500933683416898,
          0.038028295471399,
          0.0342830546861829,
          0.0641842473323357,
          0.0348860403413994,
          0.05130243895683,
          0.0118977477123743,
          0.0626729313495171,
          0.0420125786163521,
          0.0443730852905918,
          0.0400048100048099,
          0.0614346987762168,
          0.043411916068505,
          0.0562953896368828
         ],
         "xaxis": "x",
         "y": [
          -0.0589998229775181,
          -0.0090636511927698,
          -0.0199293380441303,
          -0.0574513196009012,
          -0.0392272036970466,
          3.864043991564E-4,
          -0.0666713293759576,
          -0.0125338482693184,
          -0.0146451082488352,
          -0.0467513951272628,
          -0.0160923649100001,
          -0.0023774403470715,
          -0.0244389912807393,
          0.0131960829139512,
          -0.0213544894514214,
          -0.0051567163695929,
          -0.0329134684903287,
          -0.0449999178347821,
          -0.0156200980207257,
          0.0110281396089845,
          -0.0205260587909762,
          6.560127511429E-4,
          -0.0079605034344839,
          -0.0284967542453823,
          -0.0498166778448468,
          -0.0234326023188695,
          -0.0303007918371685,
          -0.0172518423072772,
          -0.0294074271499645,
          6.241151072675E-4,
          -0.0135960591133004,
          -0.0258266129032257,
          0.0309384603262154,
          -0.0162617781604944,
          -0.0418425281199786,
          0.006748510479698,
          -0.0053231358388104,
          -0.0053858518691524,
          -0.0415881155562515,
          -0.0234533349920342,
          0.0090429302875147,
          -0.031842463205021,
          -0.0484526707043263,
          -0.0178936452629832,
          -0.0203190919418553,
          0.022005364795733,
          -0.0294523339096073,
          -8.436627903264E-4,
          -0.0010322436184504,
          0.0030783758262511,
          0.0092589010651175,
          -0.0174302887522634,
          0.0031323290666011,
          -0.0255205847733004,
          -0.0445648604269294,
          -0.0124753954445214,
          -0.0022295500478672,
          0.0120110815747796,
          -0.0092586523288277,
          -0.0137314646115675,
          -0.0156491408330742,
          -0.0035117622604183,
          0.0033990380565419,
          0.0243124364091727,
          -0.0215631877343836,
          0.0080365296803653,
          -0.0084366152878263,
          0.0208923032627046,
          0.0171119612742036,
          0.0141949038086377,
          0.0200423749452047,
          0.0055474836939894,
          0.0185770309552201,
          -0.0235809992012999,
          -0.0104399418309577,
          0.02772051119395,
          0.0081415929203539,
          -0.0381817886812045,
          0.0021453621453621,
          -9.433373021294E-4,
          -0.0111314195055023,
          -0.0032606941081517,
          -0.008158922875425,
          0.0225986417654673,
          -1.009594451701E-4,
          0.0240255427876423,
          0.0044053925719749,
          -0.0066477459273023,
          0.0015720545147936,
          0.0213633864760857,
          0.0215641818390015,
          0.0306407198356281,
          0.0096988252583583,
          0.019690851520207,
          -0.0032653272520203,
          -0.026601609649715,
          0.0059233815717852,
          0.0160351660767404,
          -0.0217375579877371,
          0.0163042355937833,
          0.0083148308895719,
          -0.0043460764587524,
          -0.0125140749369054,
          0.0194424449460135,
          -0.0150840212035007,
          0.0227631281599085,
          0.004746325272641,
          0.0142592592592592,
          -0.0105763131430339,
          0.0066449085906899,
          0.006113147589256,
          0.0136529323929947,
          -0.0017102679595985,
          -0.0182772564048402,
          0.0116027786080002,
          0.01219294081042,
          0.0021931068173721,
          0.0034941686665824,
          0.0196480643539467,
          0.02715976636734,
          0.0236343366778149,
          0.0122188856736693,
          0.035541539799913,
          0.0562401145774955,
          0.0143595797426514,
          0.0013132833181383,
          0.0088200136803507,
          0.0446468066712294,
          0.0411925673461362,
          0.0121226688413416,
          0.0229929960908659,
          0.0110236387176626,
          -0.0346852158835027,
          0.0055476667317985,
          0.0288590212779738,
          0.0053936472623902,
          -9.472880061115E-4,
          0.008623354591436,
          0.0407741490125058,
          0.0367394745172523,
          0.0376317543729704,
          0.0270875179340029,
          -0.0084577456713679,
          0.0419569657711662,
          0.0127627487425234,
          -0.0032804706982543,
          0.0383574304276772,
          0.0447826086956521,
          0.009317099125184,
          0.0198998130809287,
          0.0115918799682233,
          -0.0089562009581288,
          0.0185212449088102,
          0.0139750778816199,
          0.0163570960864456,
          -0.0061308583517957,
          0.027400843185966,
          0.0101842275371687,
          -0.0042904490022516,
          0.0159175057716694,
          0.0258275606889925,
          0.0319199271139252,
          0.0376401394133023,
          0.00774214113132,
          -0.0132919005189671,
          0.0168875273707259,
          0.0249265407365007,
          0.0117243365156719,
          0.0407028827084163,
          0.0229627533620266,
          -0.0152209137162654,
          0.0379834053354795,
          0.032675840868772,
          0.0277198424605698,
          0.0210891186178498,
          0.0012144063448629,
          0.022872708134788,
          0.0311259741278931,
          0.0245535246442692,
          0.0440563304359544,
          0.0144926077155715,
          0.0279565589464806,
          0.0333845969876103,
          0.0069079383101523,
          0.0363944261374551,
          0.0212134780124536,
          0.0606568300809138,
          0.0175682382133995,
          0.0406693286824551,
          0.044324400571977,
          0.0513002281101947,
          0.0324681746522303,
          0.052143085042393,
          0.0716925351071692
         ],
         "yaxis": "y"
        }
       ],
       "layout": {
        "legend": {
         "tracegroupgap": 0
        },
        "margin": {
         "t": 60
        },
        "template": {
         "data": {
          "bar": [
           {
            "error_x": {
             "color": "#f2f5fa"
            },
            "error_y": {
             "color": "#f2f5fa"
            },
            "marker": {
             "line": {
              "color": "rgb(17,17,17)",
              "width": 0.5
             }
            },
            "type": "bar"
           }
          ],
          "barpolar": [
           {
            "marker": {
             "line": {
              "color": "rgb(17,17,17)",
              "width": 0.5
             }
            },
            "type": "barpolar"
           }
          ],
          "carpet": [
           {
            "aaxis": {
             "endlinecolor": "#A2B1C6",
             "gridcolor": "#506784",
             "linecolor": "#506784",
             "minorgridcolor": "#506784",
             "startlinecolor": "#A2B1C6"
            },
            "baxis": {
             "endlinecolor": "#A2B1C6",
             "gridcolor": "#506784",
             "linecolor": "#506784",
             "minorgridcolor": "#506784",
             "startlinecolor": "#A2B1C6"
            },
            "type": "carpet"
           }
          ],
          "choropleth": [
           {
            "colorbar": {
             "outlinewidth": 0,
             "ticks": ""
            },
            "type": "choropleth"
           }
          ],
          "contour": [
           {
            "colorbar": {
             "outlinewidth": 0,
             "ticks": ""
            },
            "colorscale": [
             [
              0.0,
              "#0d0887"
             ],
             [
              0.1111111111111111,
              "#46039f"
             ],
             [
              0.2222222222222222,
              "#7201a8"
             ],
             [
              0.3333333333333333,
              "#9c179e"
             ],
             [
              0.4444444444444444,
              "#bd3786"
             ],
             [
              0.5555555555555556,
              "#d8576b"
             ],
             [
              0.6666666666666666,
              "#ed7953"
             ],
             [
              0.7777777777777778,
              "#fb9f3a"
             ],
             [
              0.8888888888888888,
              "#fdca26"
             ],
             [
              1.0,
              "#f0f921"
             ]
            ],
            "type": "contour"
           }
          ],
          "contourcarpet": [
           {
            "colorbar": {
             "outlinewidth": 0,
             "ticks": ""
            },
            "type": "contourcarpet"
           }
          ],
          "heatmap": [
           {
            "colorbar": {
             "outlinewidth": 0,
             "ticks": ""
            },
            "colorscale": [
             [
              0.0,
              "#0d0887"
             ],
             [
              0.1111111111111111,
              "#46039f"
             ],
             [
              0.2222222222222222,
              "#7201a8"
             ],
             [
              0.3333333333333333,
              "#9c179e"
             ],
             [
              0.4444444444444444,
              "#bd3786"
             ],
             [
              0.5555555555555556,
              "#d8576b"
             ],
             [
              0.6666666666666666,
              "#ed7953"
             ],
             [
              0.7777777777777778,
              "#fb9f3a"
             ],
             [
              0.8888888888888888,
              "#fdca26"
             ],
             [
              1.0,
              "#f0f921"
             ]
            ],
            "type": "heatmap"
           }
          ],
          "heatmapgl": [
           {
            "colorbar": {
             "outlinewidth": 0,
             "ticks": ""
            },
            "colorscale": [
             [
              0.0,
              "#0d0887"
             ],
             [
              0.1111111111111111,
              "#46039f"
             ],
             [
              0.2222222222222222,
              "#7201a8"
             ],
             [
              0.3333333333333333,
              "#9c179e"
             ],
             [
              0.4444444444444444,
              "#bd3786"
             ],
             [
              0.5555555555555556,
              "#d8576b"
             ],
             [
              0.6666666666666666,
              "#ed7953"
             ],
             [
              0.7777777777777778,
              "#fb9f3a"
             ],
             [
              0.8888888888888888,
              "#fdca26"
             ],
             [
              1.0,
              "#f0f921"
             ]
            ],
            "type": "heatmapgl"
           }
          ],
          "histogram": [
           {
            "marker": {
             "colorbar": {
              "outlinewidth": 0,
              "ticks": ""
             }
            },
            "type": "histogram"
           }
          ],
          "histogram2d": [
           {
            "colorbar": {
             "outlinewidth": 0,
             "ticks": ""
            },
            "colorscale": [
             [
              0.0,
              "#0d0887"
             ],
             [
              0.1111111111111111,
              "#46039f"
             ],
             [
              0.2222222222222222,
              "#7201a8"
             ],
             [
              0.3333333333333333,
              "#9c179e"
             ],
             [
              0.4444444444444444,
              "#bd3786"
             ],
             [
              0.5555555555555556,
              "#d8576b"
             ],
             [
              0.6666666666666666,
              "#ed7953"
             ],
             [
              0.7777777777777778,
              "#fb9f3a"
             ],
             [
              0.8888888888888888,
              "#fdca26"
             ],
             [
              1.0,
              "#f0f921"
             ]
            ],
            "type": "histogram2d"
           }
          ],
          "histogram2dcontour": [
           {
            "colorbar": {
             "outlinewidth": 0,
             "ticks": ""
            },
            "colorscale": [
             [
              0.0,
              "#0d0887"
             ],
             [
              0.1111111111111111,
              "#46039f"
             ],
             [
              0.2222222222222222,
              "#7201a8"
             ],
             [
              0.3333333333333333,
              "#9c179e"
             ],
             [
              0.4444444444444444,
              "#bd3786"
             ],
             [
              0.5555555555555556,
              "#d8576b"
             ],
             [
              0.6666666666666666,
              "#ed7953"
             ],
             [
              0.7777777777777778,
              "#fb9f3a"
             ],
             [
              0.8888888888888888,
              "#fdca26"
             ],
             [
              1.0,
              "#f0f921"
             ]
            ],
            "type": "histogram2dcontour"
           }
          ],
          "mesh3d": [
           {
            "colorbar": {
             "outlinewidth": 0,
             "ticks": ""
            },
            "type": "mesh3d"
           }
          ],
          "parcoords": [
           {
            "line": {
             "colorbar": {
              "outlinewidth": 0,
              "ticks": ""
             }
            },
            "type": "parcoords"
           }
          ],
          "pie": [
           {
            "automargin": true,
            "type": "pie"
           }
          ],
          "scatter": [
           {
            "marker": {
             "line": {
              "color": "#283442"
             }
            },
            "type": "scatter"
           }
          ],
          "scatter3d": [
           {
            "line": {
             "colorbar": {
              "outlinewidth": 0,
              "ticks": ""
             }
            },
            "marker": {
             "colorbar": {
              "outlinewidth": 0,
              "ticks": ""
             }
            },
            "type": "scatter3d"
           }
          ],
          "scattercarpet": [
           {
            "marker": {
             "colorbar": {
              "outlinewidth": 0,
              "ticks": ""
             }
            },
            "type": "scattercarpet"
           }
          ],
          "scattergeo": [
           {
            "marker": {
             "colorbar": {
              "outlinewidth": 0,
              "ticks": ""
             }
            },
            "type": "scattergeo"
           }
          ],
          "scattergl": [
           {
            "marker": {
             "line": {
              "color": "#283442"
             }
            },
            "type": "scattergl"
           }
          ],
          "scattermapbox": [
           {
            "marker": {
             "colorbar": {
              "outlinewidth": 0,
              "ticks": ""
             }
            },
            "type": "scattermapbox"
           }
          ],
          "scatterpolar": [
           {
            "marker": {
             "colorbar": {
              "outlinewidth": 0,
              "ticks": ""
             }
            },
            "type": "scatterpolar"
           }
          ],
          "scatterpolargl": [
           {
            "marker": {
             "colorbar": {
              "outlinewidth": 0,
              "ticks": ""
             }
            },
            "type": "scatterpolargl"
           }
          ],
          "scatterternary": [
           {
            "marker": {
             "colorbar": {
              "outlinewidth": 0,
              "ticks": ""
             }
            },
            "type": "scatterternary"
           }
          ],
          "surface": [
           {
            "colorbar": {
             "outlinewidth": 0,
             "ticks": ""
            },
            "colorscale": [
             [
              0.0,
              "#0d0887"
             ],
             [
              0.1111111111111111,
              "#46039f"
             ],
             [
              0.2222222222222222,
              "#7201a8"
             ],
             [
              0.3333333333333333,
              "#9c179e"
             ],
             [
              0.4444444444444444,
              "#bd3786"
             ],
             [
              0.5555555555555556,
              "#d8576b"
             ],
             [
              0.6666666666666666,
              "#ed7953"
             ],
             [
              0.7777777777777778,
              "#fb9f3a"
             ],
             [
              0.8888888888888888,
              "#fdca26"
             ],
             [
              1.0,
              "#f0f921"
             ]
            ],
            "type": "surface"
           }
          ],
          "table": [
           {
            "cells": {
             "fill": {
              "color": "#506784"
             },
             "line": {
              "color": "rgb(17,17,17)"
             }
            },
            "header": {
             "fill": {
              "color": "#2a3f5f"
             },
             "line": {
              "color": "rgb(17,17,17)"
             }
            },
            "type": "table"
           }
          ]
         },
         "layout": {
          "annotationdefaults": {
           "arrowcolor": "#f2f5fa",
           "arrowhead": 0,
           "arrowwidth": 1
          },
          "autotypenumbers": "strict",
          "coloraxis": {
           "colorbar": {
            "outlinewidth": 0,
            "ticks": ""
           }
          },
          "colorscale": {
           "diverging": [
            [
             0,
             "#8e0152"
            ],
            [
             0.1,
             "#c51b7d"
            ],
            [
             0.2,
             "#de77ae"
            ],
            [
             0.3,
             "#f1b6da"
            ],
            [
             0.4,
             "#fde0ef"
            ],
            [
             0.5,
             "#f7f7f7"
            ],
            [
             0.6,
             "#e6f5d0"
            ],
            [
             0.7,
             "#b8e186"
            ],
            [
             0.8,
             "#7fbc41"
            ],
            [
             0.9,
             "#4d9221"
            ],
            [
             1,
             "#276419"
            ]
           ],
           "sequential": [
            [
             0.0,
             "#0d0887"
            ],
            [
             0.1111111111111111,
             "#46039f"
            ],
            [
             0.2222222222222222,
             "#7201a8"
            ],
            [
             0.3333333333333333,
             "#9c179e"
            ],
            [
             0.4444444444444444,
             "#bd3786"
            ],
            [
             0.5555555555555556,
             "#d8576b"
            ],
            [
             0.6666666666666666,
             "#ed7953"
            ],
            [
             0.7777777777777778,
             "#fb9f3a"
            ],
            [
             0.8888888888888888,
             "#fdca26"
            ],
            [
             1.0,
             "#f0f921"
            ]
           ],
           "sequentialminus": [
            [
             0.0,
             "#0d0887"
            ],
            [
             0.1111111111111111,
             "#46039f"
            ],
            [
             0.2222222222222222,
             "#7201a8"
            ],
            [
             0.3333333333333333,
             "#9c179e"
            ],
            [
             0.4444444444444444,
             "#bd3786"
            ],
            [
             0.5555555555555556,
             "#d8576b"
            ],
            [
             0.6666666666666666,
             "#ed7953"
            ],
            [
             0.7777777777777778,
             "#fb9f3a"
            ],
            [
             0.8888888888888888,
             "#fdca26"
            ],
            [
             1.0,
             "#f0f921"
            ]
           ]
          },
          "colorway": [
           "#636efa",
           "#EF553B",
           "#00cc96",
           "#ab63fa",
           "#FFA15A",
           "#19d3f3",
           "#FF6692",
           "#B6E880",
           "#FF97FF",
           "#FECB52"
          ],
          "font": {
           "color": "#f2f5fa"
          },
          "geo": {
           "bgcolor": "rgb(17,17,17)",
           "lakecolor": "rgb(17,17,17)",
           "landcolor": "rgb(17,17,17)",
           "showlakes": true,
           "showland": true,
           "subunitcolor": "#506784"
          },
          "hoverlabel": {
           "align": "left"
          },
          "hovermode": "closest",
          "mapbox": {
           "style": "dark"
          },
          "paper_bgcolor": "rgb(17,17,17)",
          "plot_bgcolor": "rgb(17,17,17)",
          "polar": {
           "angularaxis": {
            "gridcolor": "#506784",
            "linecolor": "#506784",
            "ticks": ""
           },
           "bgcolor": "rgb(17,17,17)",
           "radialaxis": {
            "gridcolor": "#506784",
            "linecolor": "#506784",
            "ticks": ""
           }
          },
          "scene": {
           "xaxis": {
            "backgroundcolor": "rgb(17,17,17)",
            "gridcolor": "#506784",
            "gridwidth": 2,
            "linecolor": "#506784",
            "showbackground": true,
            "ticks": "",
            "zerolinecolor": "#C8D4E3"
           },
           "yaxis": {
            "backgroundcolor": "rgb(17,17,17)",
            "gridcolor": "#506784",
            "gridwidth": 2,
            "linecolor": "#506784",
            "showbackground": true,
            "ticks": "",
            "zerolinecolor": "#C8D4E3"
           },
           "zaxis": {
            "backgroundcolor": "rgb(17,17,17)",
            "gridcolor": "#506784",
            "gridwidth": 2,
            "linecolor": "#506784",
            "showbackground": true,
            "ticks": "",
            "zerolinecolor": "#C8D4E3"
           }
          },
          "shapedefaults": {
           "line": {
            "color": "#f2f5fa"
           }
          },
          "sliderdefaults": {
           "bgcolor": "#C8D4E3",
           "bordercolor": "rgb(17,17,17)",
           "borderwidth": 1,
           "tickwidth": 0
          },
          "ternary": {
           "aaxis": {
            "gridcolor": "#506784",
            "linecolor": "#506784",
            "ticks": ""
           },
           "baxis": {
            "gridcolor": "#506784",
            "linecolor": "#506784",
            "ticks": ""
           },
           "bgcolor": "rgb(17,17,17)",
           "caxis": {
            "gridcolor": "#506784",
            "linecolor": "#506784",
            "ticks": ""
           }
          },
          "title": {
           "x": 0.05
          },
          "updatemenudefaults": {
           "bgcolor": "#506784",
           "borderwidth": 0
          },
          "xaxis": {
           "automargin": true,
           "gridcolor": "#283442",
           "linecolor": "#506784",
           "ticks": "",
           "title": {
            "standoff": 15
           },
           "zerolinecolor": "#283442",
           "zerolinewidth": 2
          },
          "yaxis": {
           "automargin": true,
           "gridcolor": "#283442",
           "linecolor": "#506784",
           "ticks": "",
           "title": {
            "standoff": 15
           },
           "zerolinecolor": "#283442",
           "zerolinewidth": 2
          }
         }
        },
        "xaxis": {
         "anchor": "y",
         "domain": [
          0.0,
          1.0
         ],
         "title": {
          "text": "serve_choke_pct"
         }
        },
        "yaxis": {
         "anchor": "x",
         "domain": [
          0.0,
          1.0
         ],
         "title": {
          "text": "noserve_choke_pct"
         }
        }
       }
      },
      "text/html": "<div>                            <div id=\"f26a6a61-49dc-4834-b3eb-bbdb18fd257b\" class=\"plotly-graph-div\" style=\"height:525px; width:100%;\"></div>            <script type=\"text/javascript\">                require([\"plotly\"], function(Plotly) {                    window.PLOTLYENV=window.PLOTLYENV || {};                                    if (document.getElementById(\"f26a6a61-49dc-4834-b3eb-bbdb18fd257b\")) {                    Plotly.newPlot(                        \"f26a6a61-49dc-4834-b3eb-bbdb18fd257b\",                        [{\"hovertemplate\": \"<b>%{hovertext}</b><br><br>serve_choke_pct=%{x}<br>noserve_choke_pct=%{y}<extra></extra>\", \"hovertext\": [\"D Brown\", \"M Jaziri\", \"D Koepfer\", \"M Giron\", \"J Vesely\", \"J Duckworth\", \"L Lacko\", \"P Gojowczyk\", \"T Kokkinakis\", \"J Millman\", \"V Troicki\", \"B Tomic\", \"C Berlocq\", \"J Ward\", \"K Khachanov\", \"F Bagnis\", \"L Rosol\", \"L Kubot\", \"D Young\", \"M Matosevic\", \"S Darcis\", \"M Kukushkin\", \"Q Halys\", \"Y Sugita\", \"I Karlovic\", \"P Kohlschreiber\", \"H Chung\", \"G Simon\", \"J Donaldson\", \"F Delbonis\", \"J Nieminen\", \"J Sinner\", \"P Martinez\", \"P Lorenzi\", \"B Klahn\", \"F Verdasco\", \"J Wilfried Tsonga\", \"S Johnson\", \"L Sonego\", \"M Mcdonald\", \"C Norrie\", \"R Opelka\", \"V Pospisil\", \"S Giraldo\", \"R Harrison\", \"T Gabashvili\", \"N Mahut\", \"J Benneteau\", \"D Lajovic\", \"A Bublik\", \"A De Minaur\", \"K Edmund\", \"A Ramos-Vinolas\", \"B Coric\", \"R Soderling\", \"T Sandgren\", \"I Dodig\", \"T Smyczek\", \"M Youzhny\", \"M Berrettini\", \"H Laaksonen\", \"D Kudla\", \"R Nadal\", \"D Shapovalov\", \"J Melzer\", \"T Ito\", \"T Bellucci\", \"M Russell\", \"P Carreno Busta\", \"A Popyrin\", \"M Klizan\", \"T Berdych\", \"D Evans\", \"N Kyrgios\", \"P Cuevas\", \"M Zverev\", \"B Van De Zandschulp\", \"A Roddick\", \"T Fritz\", \"E Gulbis\", \"S Stakhovsky\", \"R Dutra Silva\", \"A Bedene\", \"B Paire\", \"G Garcia-Lopez\", \"S Wawrinka\", \"R Bautista Agut\", \"J Sock\", \"D Sela\", \"J Janowicz\", \"G Pella\", \"F Mayer\", \"M Polmans\", \"L Djere\", \"F Fognini\", \"T Monteiro\", \"T Haas\", \"P Andujar\", \"A Mannarino\", \"C Garin\", \"F Lopez\", \"D Dzumhur\", \"M Copil\", \"R Stepanek\", \"S Travaglia\", \"E Roger-Vasselin\", \"Y Lu\", \"A Davidovich Fokina\", \"N Basilashvili\", \"G Monfils\", \"N Almagro\", \"J Tipsarevic\", \"A Dolgopolov\", \"F Tiafoe\", \"J Isner\", \"T Fabbiano\", \"A Seppi\", \"H Hurkacz\", \"T Robredo\", \"M Raonic\", \"S Robert\", \"D Schwartzman\", \"J Ignacio Chela\", \"S Caruso\", \"N Gombos\", \"R Haase\", \"S Kwon\", \"J Munar\", \"G Dimitrov\", \"S Bolelli\", \"M Baghdatis\", \"C Alcaraz\", \"B Becker\", \"K Nishikori\", \"J Lennard Struff\", \"F Krajinovic\", \"R Bemelmans\", \"R Carballes Baena\", \"G Muller\", \"C Ruud\", \"Y Nishioka\", \"E Donskoy\", \"J Struff\", \"M Kecmanovic\", \"A Falla\", \"J Londero\", \"M Granollers\", \"D Nalbandian\", \"L Mayer\", \"L Hewitt\", \"J Thompson\", \"S Querrey\", \"L Pouille\", \"M Ymer\", \"A Murray\", \"A Zverev\", \"N Djokovic\", \"P Herbert\", \"D Medvedev\", \"A Rublev\", \"P Mathieu\", \"K Anderson\", \"U Humbert\", \"B Kavcic\", \"A Kuznetsov\", \"G Barrere\", \"T Daniel\", \"J Chardy\", \"D Thiem\", \"J Sousa\", \"L Harris\", \"M Cilic\", \"R Berankis\", \"C Moutet\", \"D Istomin\", \"S Tsitsipas\", \"R Gasquet\", \"R Federer\", \"M Cecchinato\", \"T Kamke\", \"D Goffin\", \"D Ferrer\", \"F Auger Aliassime\", \"M Ebden\", \"S Korda\", \"J Martin Del Potro\", \"J Monaco\", \"M Fucsovics\", \"P Petzschner\", \"R Albot\", \"K Majchrzak\", \"I Ivashka\", \"M Fish\", \"E Ruusuvuori\"], \"legendgroup\": \"\", \"marker\": {\"color\": \"#636efa\", \"symbol\": \"circle\"}, \"mode\": \"markers\", \"name\": \"\", \"orientation\": \"v\", \"selected\": {\"marker\": {\"color\": \"red\"}}, \"selectedpoints\": [62, 77, 85, 149, 154, 156, 158, 168, 171, 177, 185], \"showlegend\": false, \"type\": \"scatter\", \"unselected\": {\"marker\": {\"color\": \"blue\"}}, \"x\": [-0.0164908426602534, -0.0647967170699311, -0.043689778153902, -0.0014283238779769, -0.0183065700345791, -0.0556590199538482, 0.0136441577222488, -0.0393497194099482, -0.0348695211335379, 0.0017283037019222, -0.0271011070412205, -0.0403400739577833, -0.017504128315956, -0.0504115080768777, -0.0123903414124434, -0.027669536154821, 0.0004253305643911, 0.0133926825862309, -0.0150367932893746, -0.0407351828736235, -0.0088900310966051, -0.0292773191944028, -0.0182812894924288, 0.0024683995307891, 0.0241348920441336, -0.002080977497818, 0.0062321492450504, -0.0052394653386727, 0.0071991977929124, -0.0227078680009614, -0.0082556166053091, 0.0047781327653532, -0.0515468552614564, -0.0041468978740675, 0.0217232805715086, -0.0267216455033714, -0.0143672133958166, -0.0142714516178127, 0.0223694371062792, 0.0048875140607424, -0.0244294399353174, 0.0182487759141576, 0.0353062511442462, 0.005418318130385, 0.0081653534201041, -0.0338523474039429, 0.0182988993727799, -0.0085706395623253, -0.00782697671225, -0.0114953676410354, -0.0169624532966936, 0.0104312264055651, -0.0084061744715512, 0.0209854574614298, 0.0402989010989011, 0.0088785926642541, -0.0004428472061209, -0.0131723914850407, 0.0089352427067285, 0.0140388329593962, 0.0160435356756181, 0.0049554470191872, -0.0017142989525626, -0.0209613330484939, 0.0255757008395771, -0.003969465648855, 0.0128589168019868, -0.0162951214870265, -0.0122590179944643, -0.008667744325453, -0.0144042367748869, 0.0005118400568103, -0.0124755516481608, 0.0301950289994245, 0.0177567351293678, -0.0202088788130362, -0.0001415094339622, 0.0464735038738821, 0.0062419810502911, 0.0093391923421642, 0.0198896385333987, 0.0120860475685501, 0.0170028366226085, -0.0136751815461771, 0.0102159858658912, -0.0136961722354505, 0.0059831058368122, 0.0175989630444716, 0.0100298066058134, -0.0095116375357272, -0.0093084090430437, -0.0177599201128136, 0.0037065534053696, -0.0060382403390172, 0.0169947328223811, 0.0403531186230148, 0.0078863636363636, -0.0020735999361908, 0.0360562111575341, -0.0015852832156585, 0.007123868233481, 0.0205575312551315, 0.0290640538169054, -0.0026328310864392, 0.0319820325659741, -0.0058423096009574, 0.012484138639504, 0.0031986523202379, 0.02854984227048, 0.0115067010497409, 0.0120656530343238, 0.00519712502346, 0.020700600150772, 0.038273703582628, 0.0094351034971528, 0.0089392179636082, 0.0191103872522586, 0.0178810670637513, 0.0022613380879717, -0.0050523029879449, -0.000410756435993, 0.011353115181564, -0.0118192623407495, -0.0319817227957352, 0.0107638565440149, 0.0248424999733683, 0.0180532291511519, -0.0175885657010081, -0.0140546686479221, 0.0156893200164705, 0.0049097317744153, 0.0169567401058059, 0.0633618672601723, 0.0232712441981499, 0.0006225099939595, 0.0245704604942407, 0.0310435301132975, 0.0215716933494314, -0.0100344369484708, -0.0043065782119511, -0.0046132571418615, 0.0071724767948321, 0.0428293782971873, -0.0072173339829755, 0.0220148792309072, 0.0384806771974081, -0.002136127408331, -0.0085310472659869, 0.0277346395079332, 0.0174820075164937, 0.0260151968146842, 0.0466331217801806, 0.0224887181206322, 0.0275636398176292, 0.0252478942674824, 0.0479738334934728, 0.0144702000255389, 0.0319397835987392, 0.0482739985138147, 0.0304977758949375, 0.0212365566510823, 0.0161847269775698, 0.0105907073748254, 0.0409326472905947, 0.0637450769781596, 0.0355562156592823, 0.027918939603654, 0.0414948347900665, 0.0126263308574942, 0.0307346340441114, 0.0703743315508021, 0.0193825579318981, 0.0255722294260872, 0.030729800217505, 0.0383053574413551, 0.0583199750284493, 0.0397863887294125, 0.033134364571871, 0.0397386051619989, 0.0205162655642501, 0.0500933683416898, 0.038028295471399, 0.0342830546861829, 0.0641842473323357, 0.0348860403413994, 0.05130243895683, 0.0118977477123743, 0.0626729313495171, 0.0420125786163521, 0.0443730852905918, 0.0400048100048099, 0.0614346987762168, 0.043411916068505, 0.0562953896368828], \"xaxis\": \"x\", \"y\": [-0.0589998229775181, -0.0090636511927698, -0.0199293380441303, -0.0574513196009012, -0.0392272036970466, 0.0003864043991564, -0.0666713293759576, -0.0125338482693184, -0.0146451082488352, -0.0467513951272628, -0.0160923649100001, -0.0023774403470715, -0.0244389912807393, 0.0131960829139512, -0.0213544894514214, -0.0051567163695929, -0.0329134684903287, -0.0449999178347821, -0.0156200980207257, 0.0110281396089845, -0.0205260587909762, 0.0006560127511429, -0.0079605034344839, -0.0284967542453823, -0.0498166778448468, -0.0234326023188695, -0.0303007918371685, -0.0172518423072772, -0.0294074271499645, 0.0006241151072675, -0.0135960591133004, -0.0258266129032257, 0.0309384603262154, -0.0162617781604944, -0.0418425281199786, 0.006748510479698, -0.0053231358388104, -0.0053858518691524, -0.0415881155562515, -0.0234533349920342, 0.0090429302875147, -0.031842463205021, -0.0484526707043263, -0.0178936452629832, -0.0203190919418553, 0.022005364795733, -0.0294523339096073, -0.0008436627903264, -0.0010322436184504, 0.0030783758262511, 0.0092589010651175, -0.0174302887522634, 0.0031323290666011, -0.0255205847733004, -0.0445648604269294, -0.0124753954445214, -0.0022295500478672, 0.0120110815747796, -0.0092586523288277, -0.0137314646115675, -0.0156491408330742, -0.0035117622604183, 0.0033990380565419, 0.0243124364091727, -0.0215631877343836, 0.0080365296803653, -0.0084366152878263, 0.0208923032627046, 0.0171119612742036, 0.0141949038086377, 0.0200423749452047, 0.0055474836939894, 0.0185770309552201, -0.0235809992012999, -0.0104399418309577, 0.02772051119395, 0.0081415929203539, -0.0381817886812045, 0.0021453621453621, -0.0009433373021294, -0.0111314195055023, -0.0032606941081517, -0.008158922875425, 0.0225986417654673, -0.0001009594451701, 0.0240255427876423, 0.0044053925719749, -0.0066477459273023, 0.0015720545147936, 0.0213633864760857, 0.0215641818390015, 0.0306407198356281, 0.0096988252583583, 0.019690851520207, -0.0032653272520203, -0.026601609649715, 0.0059233815717852, 0.0160351660767404, -0.0217375579877371, 0.0163042355937833, 0.0083148308895719, -0.0043460764587524, -0.0125140749369054, 0.0194424449460135, -0.0150840212035007, 0.0227631281599085, 0.004746325272641, 0.0142592592592592, -0.0105763131430339, 0.0066449085906899, 0.006113147589256, 0.0136529323929947, -0.0017102679595985, -0.0182772564048402, 0.0116027786080002, 0.01219294081042, 0.0021931068173721, 0.0034941686665824, 0.0196480643539467, 0.02715976636734, 0.0236343366778149, 0.0122188856736693, 0.035541539799913, 0.0562401145774955, 0.0143595797426514, 0.0013132833181383, 0.0088200136803507, 0.0446468066712294, 0.0411925673461362, 0.0121226688413416, 0.0229929960908659, 0.0110236387176626, -0.0346852158835027, 0.0055476667317985, 0.0288590212779738, 0.0053936472623902, -0.0009472880061115, 0.008623354591436, 0.0407741490125058, 0.0367394745172523, 0.0376317543729704, 0.0270875179340029, -0.0084577456713679, 0.0419569657711662, 0.0127627487425234, -0.0032804706982543, 0.0383574304276772, 0.0447826086956521, 0.009317099125184, 0.0198998130809287, 0.0115918799682233, -0.0089562009581288, 0.0185212449088102, 0.0139750778816199, 0.0163570960864456, -0.0061308583517957, 0.027400843185966, 0.0101842275371687, -0.0042904490022516, 0.0159175057716694, 0.0258275606889925, 0.0319199271139252, 0.0376401394133023, 0.00774214113132, -0.0132919005189671, 0.0168875273707259, 0.0249265407365007, 0.0117243365156719, 0.0407028827084163, 0.0229627533620266, -0.0152209137162654, 0.0379834053354795, 0.032675840868772, 0.0277198424605698, 0.0210891186178498, 0.0012144063448629, 0.022872708134788, 0.0311259741278931, 0.0245535246442692, 0.0440563304359544, 0.0144926077155715, 0.0279565589464806, 0.0333845969876103, 0.0069079383101523, 0.0363944261374551, 0.0212134780124536, 0.0606568300809138, 0.0175682382133995, 0.0406693286824551, 0.044324400571977, 0.0513002281101947, 0.0324681746522303, 0.052143085042393, 0.0716925351071692], \"yaxis\": \"y\"}],                        {\"legend\": {\"tracegroupgap\": 0}, \"margin\": {\"t\": 60}, \"template\": {\"data\": {\"bar\": [{\"error_x\": {\"color\": \"#f2f5fa\"}, \"error_y\": {\"color\": \"#f2f5fa\"}, \"marker\": {\"line\": {\"color\": \"rgb(17,17,17)\", \"width\": 0.5}}, \"type\": \"bar\"}], \"barpolar\": [{\"marker\": {\"line\": {\"color\": \"rgb(17,17,17)\", \"width\": 0.5}}, \"type\": \"barpolar\"}], \"carpet\": [{\"aaxis\": {\"endlinecolor\": \"#A2B1C6\", \"gridcolor\": \"#506784\", \"linecolor\": \"#506784\", \"minorgridcolor\": \"#506784\", \"startlinecolor\": \"#A2B1C6\"}, \"baxis\": {\"endlinecolor\": \"#A2B1C6\", \"gridcolor\": \"#506784\", \"linecolor\": \"#506784\", \"minorgridcolor\": \"#506784\", \"startlinecolor\": \"#A2B1C6\"}, \"type\": \"carpet\"}], \"choropleth\": [{\"colorbar\": {\"outlinewidth\": 0, \"ticks\": \"\"}, \"type\": \"choropleth\"}], \"contour\": [{\"colorbar\": {\"outlinewidth\": 0, \"ticks\": \"\"}, \"colorscale\": [[0.0, \"#0d0887\"], [0.1111111111111111, \"#46039f\"], [0.2222222222222222, \"#7201a8\"], [0.3333333333333333, \"#9c179e\"], [0.4444444444444444, \"#bd3786\"], [0.5555555555555556, \"#d8576b\"], [0.6666666666666666, \"#ed7953\"], [0.7777777777777778, \"#fb9f3a\"], [0.8888888888888888, \"#fdca26\"], [1.0, \"#f0f921\"]], \"type\": \"contour\"}], \"contourcarpet\": [{\"colorbar\": {\"outlinewidth\": 0, \"ticks\": \"\"}, \"type\": \"contourcarpet\"}], \"heatmap\": [{\"colorbar\": {\"outlinewidth\": 0, \"ticks\": \"\"}, \"colorscale\": [[0.0, \"#0d0887\"], [0.1111111111111111, \"#46039f\"], [0.2222222222222222, \"#7201a8\"], [0.3333333333333333, \"#9c179e\"], [0.4444444444444444, \"#bd3786\"], [0.5555555555555556, \"#d8576b\"], [0.6666666666666666, \"#ed7953\"], [0.7777777777777778, \"#fb9f3a\"], [0.8888888888888888, \"#fdca26\"], [1.0, \"#f0f921\"]], \"type\": \"heatmap\"}], \"heatmapgl\": [{\"colorbar\": {\"outlinewidth\": 0, \"ticks\": \"\"}, \"colorscale\": [[0.0, \"#0d0887\"], [0.1111111111111111, \"#46039f\"], [0.2222222222222222, \"#7201a8\"], [0.3333333333333333, \"#9c179e\"], [0.4444444444444444, \"#bd3786\"], [0.5555555555555556, \"#d8576b\"], [0.6666666666666666, \"#ed7953\"], [0.7777777777777778, \"#fb9f3a\"], [0.8888888888888888, \"#fdca26\"], [1.0, \"#f0f921\"]], \"type\": \"heatmapgl\"}], \"histogram\": [{\"marker\": {\"colorbar\": {\"outlinewidth\": 0, \"ticks\": \"\"}}, \"type\": \"histogram\"}], \"histogram2d\": [{\"colorbar\": {\"outlinewidth\": 0, \"ticks\": \"\"}, \"colorscale\": [[0.0, \"#0d0887\"], [0.1111111111111111, \"#46039f\"], [0.2222222222222222, \"#7201a8\"], [0.3333333333333333, \"#9c179e\"], [0.4444444444444444, \"#bd3786\"], [0.5555555555555556, \"#d8576b\"], [0.6666666666666666, \"#ed7953\"], [0.7777777777777778, \"#fb9f3a\"], [0.8888888888888888, \"#fdca26\"], [1.0, \"#f0f921\"]], \"type\": \"histogram2d\"}], \"histogram2dcontour\": [{\"colorbar\": {\"outlinewidth\": 0, \"ticks\": \"\"}, \"colorscale\": [[0.0, \"#0d0887\"], [0.1111111111111111, \"#46039f\"], [0.2222222222222222, \"#7201a8\"], [0.3333333333333333, \"#9c179e\"], [0.4444444444444444, \"#bd3786\"], [0.5555555555555556, \"#d8576b\"], [0.6666666666666666, \"#ed7953\"], [0.7777777777777778, \"#fb9f3a\"], [0.8888888888888888, \"#fdca26\"], [1.0, \"#f0f921\"]], \"type\": \"histogram2dcontour\"}], \"mesh3d\": [{\"colorbar\": {\"outlinewidth\": 0, \"ticks\": \"\"}, \"type\": \"mesh3d\"}], \"parcoords\": [{\"line\": {\"colorbar\": {\"outlinewidth\": 0, \"ticks\": \"\"}}, \"type\": \"parcoords\"}], \"pie\": [{\"automargin\": true, \"type\": \"pie\"}], \"scatter\": [{\"marker\": {\"line\": {\"color\": \"#283442\"}}, \"type\": \"scatter\"}], \"scatter3d\": [{\"line\": {\"colorbar\": {\"outlinewidth\": 0, \"ticks\": \"\"}}, \"marker\": {\"colorbar\": {\"outlinewidth\": 0, \"ticks\": \"\"}}, \"type\": \"scatter3d\"}], \"scattercarpet\": [{\"marker\": {\"colorbar\": {\"outlinewidth\": 0, \"ticks\": \"\"}}, \"type\": \"scattercarpet\"}], \"scattergeo\": [{\"marker\": {\"colorbar\": {\"outlinewidth\": 0, \"ticks\": \"\"}}, \"type\": \"scattergeo\"}], \"scattergl\": [{\"marker\": {\"line\": {\"color\": \"#283442\"}}, \"type\": \"scattergl\"}], \"scattermapbox\": [{\"marker\": {\"colorbar\": {\"outlinewidth\": 0, \"ticks\": \"\"}}, \"type\": \"scattermapbox\"}], \"scatterpolar\": [{\"marker\": {\"colorbar\": {\"outlinewidth\": 0, \"ticks\": \"\"}}, \"type\": \"scatterpolar\"}], \"scatterpolargl\": [{\"marker\": {\"colorbar\": {\"outlinewidth\": 0, \"ticks\": \"\"}}, \"type\": \"scatterpolargl\"}], \"scatterternary\": [{\"marker\": {\"colorbar\": {\"outlinewidth\": 0, \"ticks\": \"\"}}, \"type\": \"scatterternary\"}], \"surface\": [{\"colorbar\": {\"outlinewidth\": 0, \"ticks\": \"\"}, \"colorscale\": [[0.0, \"#0d0887\"], [0.1111111111111111, \"#46039f\"], [0.2222222222222222, \"#7201a8\"], [0.3333333333333333, \"#9c179e\"], [0.4444444444444444, \"#bd3786\"], [0.5555555555555556, \"#d8576b\"], [0.6666666666666666, \"#ed7953\"], [0.7777777777777778, \"#fb9f3a\"], [0.8888888888888888, \"#fdca26\"], [1.0, \"#f0f921\"]], \"type\": \"surface\"}], \"table\": [{\"cells\": {\"fill\": {\"color\": \"#506784\"}, \"line\": {\"color\": \"rgb(17,17,17)\"}}, \"header\": {\"fill\": {\"color\": \"#2a3f5f\"}, \"line\": {\"color\": \"rgb(17,17,17)\"}}, \"type\": \"table\"}]}, \"layout\": {\"annotationdefaults\": {\"arrowcolor\": \"#f2f5fa\", \"arrowhead\": 0, \"arrowwidth\": 1}, \"autotypenumbers\": \"strict\", \"coloraxis\": {\"colorbar\": {\"outlinewidth\": 0, \"ticks\": \"\"}}, \"colorscale\": {\"diverging\": [[0, \"#8e0152\"], [0.1, \"#c51b7d\"], [0.2, \"#de77ae\"], [0.3, \"#f1b6da\"], [0.4, \"#fde0ef\"], [0.5, \"#f7f7f7\"], [0.6, \"#e6f5d0\"], [0.7, \"#b8e186\"], [0.8, \"#7fbc41\"], [0.9, \"#4d9221\"], [1, \"#276419\"]], \"sequential\": [[0.0, \"#0d0887\"], [0.1111111111111111, \"#46039f\"], [0.2222222222222222, \"#7201a8\"], [0.3333333333333333, \"#9c179e\"], [0.4444444444444444, \"#bd3786\"], [0.5555555555555556, \"#d8576b\"], [0.6666666666666666, \"#ed7953\"], [0.7777777777777778, \"#fb9f3a\"], [0.8888888888888888, \"#fdca26\"], [1.0, \"#f0f921\"]], \"sequentialminus\": [[0.0, \"#0d0887\"], [0.1111111111111111, \"#46039f\"], [0.2222222222222222, \"#7201a8\"], [0.3333333333333333, \"#9c179e\"], [0.4444444444444444, \"#bd3786\"], [0.5555555555555556, \"#d8576b\"], [0.6666666666666666, \"#ed7953\"], [0.7777777777777778, \"#fb9f3a\"], [0.8888888888888888, \"#fdca26\"], [1.0, \"#f0f921\"]]}, \"colorway\": [\"#636efa\", \"#EF553B\", \"#00cc96\", \"#ab63fa\", \"#FFA15A\", \"#19d3f3\", \"#FF6692\", \"#B6E880\", \"#FF97FF\", \"#FECB52\"], \"font\": {\"color\": \"#f2f5fa\"}, \"geo\": {\"bgcolor\": \"rgb(17,17,17)\", \"lakecolor\": \"rgb(17,17,17)\", \"landcolor\": \"rgb(17,17,17)\", \"showlakes\": true, \"showland\": true, \"subunitcolor\": \"#506784\"}, \"hoverlabel\": {\"align\": \"left\"}, \"hovermode\": \"closest\", \"mapbox\": {\"style\": \"dark\"}, \"paper_bgcolor\": \"rgb(17,17,17)\", \"plot_bgcolor\": \"rgb(17,17,17)\", \"polar\": {\"angularaxis\": {\"gridcolor\": \"#506784\", \"linecolor\": \"#506784\", \"ticks\": \"\"}, \"bgcolor\": \"rgb(17,17,17)\", \"radialaxis\": {\"gridcolor\": \"#506784\", \"linecolor\": \"#506784\", \"ticks\": \"\"}}, \"scene\": {\"xaxis\": {\"backgroundcolor\": \"rgb(17,17,17)\", \"gridcolor\": \"#506784\", \"gridwidth\": 2, \"linecolor\": \"#506784\", \"showbackground\": true, \"ticks\": \"\", \"zerolinecolor\": \"#C8D4E3\"}, \"yaxis\": {\"backgroundcolor\": \"rgb(17,17,17)\", \"gridcolor\": \"#506784\", \"gridwidth\": 2, \"linecolor\": \"#506784\", \"showbackground\": true, \"ticks\": \"\", \"zerolinecolor\": \"#C8D4E3\"}, \"zaxis\": {\"backgroundcolor\": \"rgb(17,17,17)\", \"gridcolor\": \"#506784\", \"gridwidth\": 2, \"linecolor\": \"#506784\", \"showbackground\": true, \"ticks\": \"\", \"zerolinecolor\": \"#C8D4E3\"}}, \"shapedefaults\": {\"line\": {\"color\": \"#f2f5fa\"}}, \"sliderdefaults\": {\"bgcolor\": \"#C8D4E3\", \"bordercolor\": \"rgb(17,17,17)\", \"borderwidth\": 1, \"tickwidth\": 0}, \"ternary\": {\"aaxis\": {\"gridcolor\": \"#506784\", \"linecolor\": \"#506784\", \"ticks\": \"\"}, \"baxis\": {\"gridcolor\": \"#506784\", \"linecolor\": \"#506784\", \"ticks\": \"\"}, \"bgcolor\": \"rgb(17,17,17)\", \"caxis\": {\"gridcolor\": \"#506784\", \"linecolor\": \"#506784\", \"ticks\": \"\"}}, \"title\": {\"x\": 0.05}, \"updatemenudefaults\": {\"bgcolor\": \"#506784\", \"borderwidth\": 0}, \"xaxis\": {\"automargin\": true, \"gridcolor\": \"#283442\", \"linecolor\": \"#506784\", \"ticks\": \"\", \"title\": {\"standoff\": 15}, \"zerolinecolor\": \"#283442\", \"zerolinewidth\": 2}, \"yaxis\": {\"automargin\": true, \"gridcolor\": \"#283442\", \"linecolor\": \"#506784\", \"ticks\": \"\", \"title\": {\"standoff\": 15}, \"zerolinecolor\": \"#283442\", \"zerolinewidth\": 2}}}, \"xaxis\": {\"anchor\": \"y\", \"domain\": [0.0, 1.0], \"title\": {\"text\": \"serve_choke_pct\"}}, \"yaxis\": {\"anchor\": \"x\", \"domain\": [0.0, 1.0], \"title\": {\"text\": \"noserve_choke_pct\"}}},                        {\"responsive\": true}                    ).then(function(){\n                            \nvar gd = document.getElementById('f26a6a61-49dc-4834-b3eb-bbdb18fd257b');\nvar x = new MutationObserver(function (mutations, observer) {{\n        var display = window.getComputedStyle(gd).display;\n        if (!display || display === 'none') {{\n            console.log([gd, 'removed!']);\n            Plotly.purge(gd);\n            observer.disconnect();\n        }}\n}});\n\n// Listen for the removal of the full notebook cells\nvar notebookContainer = gd.closest('#notebook-container');\nif (notebookContainer) {{\n    x.observe(notebookContainer, {childList: true});\n}}\n\n// Listen for the clearing of the current output cell\nvar outputEl = gd.closest('.output');\nif (outputEl) {{\n    x.observe(outputEl, {childList: true});\n}}\n\n                        })                };                });            </script>        </div>"
     },
     "metadata": {},
     "output_type": "display_data"
    }
   ],
   "source": [
    "fig = px.scatter(data_frame=df, x=\"serve_choke_pct\", y=\"noserve_choke_pct\", hover_name='name')\n",
    "inds = [62, 77, 85, 149, 154, 156, 158, 168, 171, 177, 185]\n",
    "fig.data[0].update(selectedpoints=inds,\n",
    "                   selected=dict(marker=dict(color='red')),\n",
    "                   unselected=dict(marker=dict(color='blue')))\n",
    "fig.show()\n",
    "pio.write_image(fig, \"../plots/choking.png\", engine=\"auto\")"
   ],
   "metadata": {
    "collapsed": false,
    "pycharm": {
     "name": "#%%\n"
    }
   }
  },
  {
   "cell_type": "code",
   "execution_count": null,
   "outputs": [],
   "source": [],
   "metadata": {
    "collapsed": false,
    "pycharm": {
     "name": "#%%\n"
    }
   }
  }
 ],
 "metadata": {
  "kernelspec": {
   "display_name": "Python 3.7.3 64-bit",
   "language": "python",
   "name": "python3"
  },
  "language_info": {
   "codemirror_mode": {
    "name": "ipython",
    "version": 3
   },
   "file_extension": ".py",
   "mimetype": "text/x-python",
   "name": "python",
   "nbconvert_exporter": "python",
   "pygments_lexer": "ipython3",
   "version": "3.7.3"
  },
  "orig_nbformat": 4,
  "vscode": {
   "interpreter": {
    "hash": "aee8b7b246df8f9039afb4144a1f6fd8d2ca17a180786b69acc140d282b71a49"
   }
  }
 },
 "nbformat": 4,
 "nbformat_minor": 2
}