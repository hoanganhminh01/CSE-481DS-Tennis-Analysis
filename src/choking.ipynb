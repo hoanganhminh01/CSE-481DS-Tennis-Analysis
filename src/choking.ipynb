{
 "cells": [
  {
   "cell_type": "code",
   "execution_count": 220,
   "metadata": {
    "pycharm": {
     "name": "#%%\n"
    }
   },
   "outputs": [],
   "source": [
    "import pandas as pd\n",
    "from matplotlib import pyplot as plt"
   ]
  },
  {
   "cell_type": "markdown",
   "metadata": {
    "pycharm": {
     "name": "#%% md\n"
    }
   },
   "source": [
    "### Read in the match points from 2011-2021 for grand-slam tournaments"
   ]
  },
  {
   "cell_type": "code",
   "execution_count": 221,
   "metadata": {
    "pycharm": {
     "name": "#%%\n"
    }
   },
   "outputs": [],
   "source": [
    "points_2011 = pd.read_csv(f\"../data/grand-slam-point-data/combined-points/2011-combined-points.csv\", encoding='unicode_escape', low_memory=False)\n",
    "match_2011 = pd.read_csv(f\"../data/grand-slam-point-data/combined-matches/2011-combined-matches.csv\", encoding='unicode_escape', low_memory=False)\n",
    "combined = pd.merge(points_2011, match_2011, on=\"match_id\", how=\"inner\")\n",
    "for i in range(2012, 2022):\n",
    "    points = pd.read_csv(f\"../data/grand-slam-point-data/combined-points/{i}-combined-points.csv\", encoding='unicode_escape', low_memory=False)\n",
    "    match = pd.read_csv(f\"../data/grand-slam-point-data/combined-matches/{i}-combined-matches.csv\", encoding='unicode_escape', low_memory=False)\n",
    "    cur_year = pd.merge(points, match, on=\"match_id\", how=\"inner\")\n",
    "    combined = pd.concat([combined, cur_year], sort=True)\n",
    "\n",
    "points = combined"
   ]
  },
  {
   "cell_type": "markdown",
   "metadata": {
    "pycharm": {
     "name": "#%% md\n"
    }
   },
   "source": [
    "P1BreakPoint == 1 if P1 is returning and is one point from winning the game (\"breaking\" the opponent's serve point)"
   ]
  },
  {
   "cell_type": "code",
   "execution_count": 222,
   "metadata": {},
   "outputs": [
    {
     "data": {
      "text/plain": [
       "Index(['ElapsedTime', 'GameNo', 'GameWinner', 'History', 'P1Ace',\n",
       "       'P1BreakPoint', 'P1BreakPointMissed', 'P1BreakPointWon',\n",
       "       'P1DistanceRun', 'P1DoubleFault', 'P1FirstSrvIn', 'P1FirstSrvWon',\n",
       "       'P1ForcedError', 'P1GamesWon', 'P1Momentum', 'P1NetPoint',\n",
       "       'P1NetPointWon', 'P1PointsWon', 'P1Score', 'P1SecondSrvIn',\n",
       "       'P1SecondSrvWon', 'P1TurningPoint', 'P1UnfErr', 'P1Winner', 'P2Ace',\n",
       "       'P2BreakPoint', 'P2BreakPointMissed', 'P2BreakPointWon',\n",
       "       'P2DistanceRun', 'P2DoubleFault', 'P2FirstSrvIn', 'P2FirstSrvWon',\n",
       "       'P2ForcedError', 'P2GamesWon', 'P2Momentum', 'P2NetPoint',\n",
       "       'P2NetPointWon', 'P2PointsWon', 'P2Score', 'P2SecondSrvIn',\n",
       "       'P2SecondSrvWon', 'P2TurningPoint', 'P2UnfErr', 'P2Winner',\n",
       "       'PointNumber', 'PointServer', 'PointWinner', 'Rally', 'RallyCount',\n",
       "       'ReturnDepth', 'ServeDepth', 'ServeIndicator', 'ServeNumber',\n",
       "       'ServeWidth', 'Serve_Direction', 'ServingTo', 'SetNo', 'SetWinner',\n",
       "       'Speed_KMH', 'Speed_MPH', 'Unnamed: 0_x', 'Unnamed: 0_y', 'Unnamed: 18',\n",
       "       'WinnerShotType', 'WinnerType', 'Winner_BH', 'Winner_FH', 'court_id',\n",
       "       'court_name', 'event_name', 'match_id', 'match_id_num_x',\n",
       "       'match_id_num_y', 'match_num', 'nation1', 'nation2', 'player1',\n",
       "       'player1_new', 'player1id', 'player2', 'player2_new', 'player2id',\n",
       "       'round', 'slam', 'status', 'winner', 'year'],\n",
       "      dtype='object')"
      ]
     },
     "execution_count": 222,
     "metadata": {},
     "output_type": "execute_result"
    }
   ],
   "source": [
    "points.columns"
   ]
  },
  {
   "cell_type": "code",
   "execution_count": 223,
   "metadata": {},
   "outputs": [],
   "source": [
    "real_points = points[points['PointWinner'].ge(1)]"
   ]
  },
  {
   "cell_type": "code",
   "execution_count": 224,
   "metadata": {},
   "outputs": [
    {
     "data": {
      "text/plain": [
       "0"
      ]
     },
     "execution_count": 224,
     "metadata": {},
     "output_type": "execute_result"
    }
   ],
   "source": [
    "real_points[real_points[\"PointServer\"].isna()][\"match_id\"].nunique()"
   ]
  },
  {
   "cell_type": "code",
   "execution_count": 225,
   "metadata": {},
   "outputs": [
    {
     "data": {
      "text/plain": [
       "1        2.0\n",
       "2        2.0\n",
       "3        2.0\n",
       "4        2.0\n",
       "5        1.0\n",
       "        ... \n",
       "87477    2.0\n",
       "87478    2.0\n",
       "87479    2.0\n",
       "87480    2.0\n",
       "87481    2.0\n",
       "Name: PointServer, Length: 1017411, dtype: float64"
      ]
     },
     "execution_count": 225,
     "metadata": {},
     "output_type": "execute_result"
    }
   ],
   "source": [
    "real_points[\"PointServer\"]"
   ]
  },
  {
   "cell_type": "code",
   "execution_count": 226,
   "metadata": {},
   "outputs": [],
   "source": [
    "# P1 has a breakpoint when P2 is serving, and P1 is up 0-40, 15-40, 30-40, or 40-AD\n",
    "p1_breakpoint =\\\n",
    "  (real_points[\"PointServer\"] == 2) &\\\n",
    "  (((real_points[\"P1Score\"] == \"40\") &\n",
    "    (real_points[\"P2Score\"] != \"40\") &\n",
    "    (real_points[\"P2Score\"] != \"AD\")) |\n",
    "  (real_points[\"P1Score\"] == \"AD\"))\n",
    "p2_breakpoint =\\\n",
    "  (real_points[\"PointServer\"] == 1) &\\\n",
    "  (((real_points[\"P2Score\"] == \"40\") &\n",
    "    (real_points[\"P1Score\"] != \"40\") &\n",
    "    (real_points[\"P1Score\"] != \"AD\")) |\n",
    "  (real_points[\"P2Score\"] == \"AD\"))\n",
    "real_points.loc[:, \"P1BreakPoint\"] = p1_breakpoint.shift(1, fill_value=False) # P1Score is P1's score after the point is played\n",
    "real_points.loc[:, \"P2BreakPoint\"] = p2_breakpoint.shift(1, fill_value=False)"
   ]
  },
  {
   "cell_type": "code",
   "execution_count": 227,
   "metadata": {},
   "outputs": [
    {
     "data": {
      "text/plain": [
       "1        False\n",
       "2        False\n",
       "3        False\n",
       "4         True\n",
       "5        False\n",
       "         ...  \n",
       "87477     True\n",
       "87478    False\n",
       "87479     True\n",
       "87480    False\n",
       "87481     True\n",
       "Length: 1017411, dtype: bool"
      ]
     },
     "execution_count": 227,
     "metadata": {},
     "output_type": "execute_result"
    }
   ],
   "source": [
    "p1_breakpoint.shift(1, fill_value=False)"
   ]
  },
  {
   "cell_type": "code",
   "execution_count": 228,
   "metadata": {},
   "outputs": [
    {
     "data": {
      "text/html": [
       "<div>\n",
       "<style scoped>\n",
       "    .dataframe tbody tr th:only-of-type {\n",
       "        vertical-align: middle;\n",
       "    }\n",
       "\n",
       "    .dataframe tbody tr th {\n",
       "        vertical-align: top;\n",
       "    }\n",
       "\n",
       "    .dataframe thead th {\n",
       "        text-align: right;\n",
       "    }\n",
       "</style>\n",
       "<table border=\"1\" class=\"dataframe\">\n",
       "  <thead>\n",
       "    <tr style=\"text-align: right;\">\n",
       "      <th></th>\n",
       "      <th>P1Score</th>\n",
       "      <th>P2Score</th>\n",
       "      <th>PointServer</th>\n",
       "      <th>PointWinner</th>\n",
       "      <th>P1BreakPoint</th>\n",
       "    </tr>\n",
       "  </thead>\n",
       "  <tbody>\n",
       "    <tr>\n",
       "      <td>1</td>\n",
       "      <td>15</td>\n",
       "      <td>0</td>\n",
       "      <td>2.0</td>\n",
       "      <td>1.0</td>\n",
       "      <td>False</td>\n",
       "    </tr>\n",
       "    <tr>\n",
       "      <td>2</td>\n",
       "      <td>30</td>\n",
       "      <td>0</td>\n",
       "      <td>2.0</td>\n",
       "      <td>1.0</td>\n",
       "      <td>False</td>\n",
       "    </tr>\n",
       "    <tr>\n",
       "      <td>3</td>\n",
       "      <td>40</td>\n",
       "      <td>0</td>\n",
       "      <td>2.0</td>\n",
       "      <td>1.0</td>\n",
       "      <td>False</td>\n",
       "    </tr>\n",
       "    <tr>\n",
       "      <td>4</td>\n",
       "      <td>0</td>\n",
       "      <td>0</td>\n",
       "      <td>2.0</td>\n",
       "      <td>1.0</td>\n",
       "      <td>True</td>\n",
       "    </tr>\n",
       "    <tr>\n",
       "      <td>5</td>\n",
       "      <td>15</td>\n",
       "      <td>0</td>\n",
       "      <td>1.0</td>\n",
       "      <td>1.0</td>\n",
       "      <td>False</td>\n",
       "    </tr>\n",
       "    <tr>\n",
       "      <td>6</td>\n",
       "      <td>30</td>\n",
       "      <td>0</td>\n",
       "      <td>1.0</td>\n",
       "      <td>1.0</td>\n",
       "      <td>False</td>\n",
       "    </tr>\n",
       "  </tbody>\n",
       "</table>\n",
       "</div>"
      ],
      "text/plain": [
       "  P1Score P2Score  PointServer  PointWinner  P1BreakPoint\n",
       "1      15       0          2.0          1.0         False\n",
       "2      30       0          2.0          1.0         False\n",
       "3      40       0          2.0          1.0         False\n",
       "4       0       0          2.0          1.0          True\n",
       "5      15       0          1.0          1.0         False\n",
       "6      30       0          1.0          1.0         False"
      ]
     },
     "execution_count": 228,
     "metadata": {},
     "output_type": "execute_result"
    }
   ],
   "source": [
    "real_points[[\"P1Score\", \"P2Score\", \"PointServer\", \"PointWinner\", \"P1BreakPoint\"]][:6]"
   ]
  },
  {
   "cell_type": "code",
   "execution_count": 229,
   "metadata": {},
   "outputs": [],
   "source": [
    "bp_groups = real_points.groupby(by=[\"player1_new\", \"player2_new\", \"P1BreakPoint\", \"P2BreakPoint\", \"PointWinner\", \"PointServer\"])\n",
    "counts_by_bp = bp_groups.size().reset_index(name=\"count\")"
   ]
  },
  {
   "cell_type": "code",
   "execution_count": 230,
   "metadata": {},
   "outputs": [],
   "source": [
    "unique_players = set(counts_by_bp[\"player1_new\"].unique().tolist() + counts_by_bp[\"player2_new\"].unique().tolist())\n",
    "player_bps_dict = dict()\n",
    "for p in unique_players:\n",
    "  player_bps_dict[p] = {\n",
    "    'noserve_nobreak_won': 0,\n",
    "    'noserve_nobreak_faced': 0,\n",
    "    'serve_nobreak_won': 0,\n",
    "    'serve_nobreak_faced': 0,\n",
    "    'noserve_break_won': 0,\n",
    "    'noserve_break_faced': 0,\n",
    "    'serve_break_won': 0,\n",
    "    'serve_break_faced': 0,\n",
    "  }"
   ]
  },
  {
   "cell_type": "code",
   "execution_count": 231,
   "metadata": {},
   "outputs": [],
   "source": [
    "for row in counts_by_bp.to_dict(\"records\"):\n",
    "  if row[\"P1BreakPoint\"]:\n",
    "    if row[\"PointWinner\"] == 1:\n",
    "      player_bps_dict[row[\"player1_new\"]][\"noserve_break_won\"] += row[\"count\"]\n",
    "      player_bps_dict[row[\"player1_new\"]][\"noserve_break_faced\"] += row[\"count\"]\n",
    "      player_bps_dict[row[\"player2_new\"]][\"serve_break_faced\"] += row[\"count\"]\n",
    "    else:\n",
    "      player_bps_dict[row[\"player2_new\"]][\"serve_break_won\"] += row[\"count\"]\n",
    "      player_bps_dict[row[\"player1_new\"]][\"noserve_break_faced\"] += row[\"count\"]\n",
    "      player_bps_dict[row[\"player2_new\"]][\"serve_break_faced\"] += row[\"count\"]\n",
    "  elif row[\"P2BreakPoint\"]:\n",
    "    if row[\"PointWinner\"] == 1:\n",
    "      player_bps_dict[row[\"player1_new\"]][\"serve_break_won\"] += row[\"count\"]\n",
    "      player_bps_dict[row[\"player1_new\"]][\"serve_break_faced\"] += row[\"count\"]\n",
    "      player_bps_dict[row[\"player2_new\"]][\"noserve_break_faced\"] += row[\"count\"]\n",
    "    else:\n",
    "      player_bps_dict[row[\"player2_new\"]][\"noserve_break_won\"] += row[\"count\"]\n",
    "      player_bps_dict[row[\"player1_new\"]][\"serve_break_faced\"] += row[\"count\"]\n",
    "      player_bps_dict[row[\"player2_new\"]][\"noserve_break_faced\"] += row[\"count\"]\n",
    "  else:\n",
    "    if row[\"PointWinner\"] == 1:\n",
    "      if row[\"PointServer\"] == 1:\n",
    "        player_bps_dict[row[\"player1_new\"]][\"serve_nobreak_won\"] += row[\"count\"]\n",
    "        player_bps_dict[row[\"player1_new\"]][\"serve_nobreak_faced\"] += row[\"count\"]\n",
    "        player_bps_dict[row[\"player2_new\"]][\"noserve_nobreak_faced\"] += row[\"count\"]\n",
    "      else:\n",
    "        player_bps_dict[row[\"player1_new\"]][\"noserve_nobreak_won\"] += row[\"count\"]\n",
    "        player_bps_dict[row[\"player1_new\"]][\"noserve_nobreak_faced\"] += row[\"count\"]\n",
    "        player_bps_dict[row[\"player2_new\"]][\"serve_nobreak_faced\"] += row[\"count\"]\n",
    "    else:\n",
    "      if row[\"PointServer\"] == 1:\n",
    "        player_bps_dict[row[\"player2_new\"]][\"noserve_nobreak_won\"] += row[\"count\"]\n",
    "        player_bps_dict[row[\"player1_new\"]][\"serve_nobreak_faced\"] += row[\"count\"]\n",
    "        player_bps_dict[row[\"player2_new\"]][\"noserve_nobreak_faced\"] += row[\"count\"]\n",
    "      else:\n",
    "        player_bps_dict[row[\"player2_new\"]][\"serve_nobreak_won\"] += row[\"count\"]\n",
    "        player_bps_dict[row[\"player1_new\"]][\"noserve_nobreak_faced\"] += row[\"count\"]\n",
    "        player_bps_dict[row[\"player2_new\"]][\"serve_nobreak_faced\"] += row[\"count\"]"
   ]
  },
  {
   "cell_type": "code",
   "execution_count": 232,
   "metadata": {},
   "outputs": [],
   "source": [
    "player_bps = pd.DataFrame.from_dict(player_bps_dict, orient=\"index\")"
   ]
  },
  {
   "cell_type": "code",
   "execution_count": 233,
   "metadata": {},
   "outputs": [
    {
     "data": {
      "text/plain": [
       "0.22083842083842084"
      ]
     },
     "execution_count": 233,
     "metadata": {},
     "output_type": "execute_result"
    }
   ],
   "source": [
    "18991 / 85995"
   ]
  },
  {
   "cell_type": "code",
   "execution_count": 234,
   "metadata": {},
   "outputs": [
    {
     "data": {
      "text/plain": [
       "noserve_nobreak_won      334318\n",
       "noserve_nobreak_faced    931416\n",
       "serve_nobreak_won        597098\n",
       "serve_nobreak_faced      931416\n",
       "noserve_break_won         34029\n",
       "noserve_break_faced       85995\n",
       "serve_break_won           51966\n",
       "serve_break_faced         85995\n",
       "dtype: int64"
      ]
     },
     "execution_count": 234,
     "metadata": {},
     "output_type": "execute_result"
    }
   ],
   "source": [
    "player_bps.aggregate(\"sum\")"
   ]
  },
  {
   "cell_type": "code",
   "execution_count": 235,
   "metadata": {},
   "outputs": [
    {
     "data": {
      "text/html": [
       "<div>\n",
       "<style scoped>\n",
       "    .dataframe tbody tr th:only-of-type {\n",
       "        vertical-align: middle;\n",
       "    }\n",
       "\n",
       "    .dataframe tbody tr th {\n",
       "        vertical-align: top;\n",
       "    }\n",
       "\n",
       "    .dataframe thead th {\n",
       "        text-align: right;\n",
       "    }\n",
       "</style>\n",
       "<table border=\"1\" class=\"dataframe\">\n",
       "  <thead>\n",
       "    <tr style=\"text-align: right;\">\n",
       "      <th></th>\n",
       "      <th>noserve_nobreak_won</th>\n",
       "      <th>noserve_nobreak_faced</th>\n",
       "      <th>serve_nobreak_won</th>\n",
       "      <th>serve_nobreak_faced</th>\n",
       "      <th>noserve_break_won</th>\n",
       "      <th>noserve_break_faced</th>\n",
       "      <th>serve_break_won</th>\n",
       "      <th>serve_break_faced</th>\n",
       "    </tr>\n",
       "  </thead>\n",
       "  <tbody>\n",
       "    <tr>\n",
       "      <td>C Altamirano</td>\n",
       "      <td>15</td>\n",
       "      <td>62</td>\n",
       "      <td>30</td>\n",
       "      <td>62</td>\n",
       "      <td>0</td>\n",
       "      <td>0</td>\n",
       "      <td>5</td>\n",
       "      <td>12</td>\n",
       "    </tr>\n",
       "    <tr>\n",
       "      <td>C Niland</td>\n",
       "      <td>6</td>\n",
       "      <td>30</td>\n",
       "      <td>7</td>\n",
       "      <td>24</td>\n",
       "      <td>0</td>\n",
       "      <td>0</td>\n",
       "      <td>1</td>\n",
       "      <td>6</td>\n",
       "    </tr>\n",
       "    <tr>\n",
       "      <td>S Riffice</td>\n",
       "      <td>18</td>\n",
       "      <td>81</td>\n",
       "      <td>48</td>\n",
       "      <td>86</td>\n",
       "      <td>1</td>\n",
       "      <td>1</td>\n",
       "      <td>6</td>\n",
       "      <td>10</td>\n",
       "    </tr>\n",
       "    <tr>\n",
       "      <td>M Crugnola</td>\n",
       "      <td>18</td>\n",
       "      <td>64</td>\n",
       "      <td>35</td>\n",
       "      <td>70</td>\n",
       "      <td>1</td>\n",
       "      <td>1</td>\n",
       "      <td>4</td>\n",
       "      <td>11</td>\n",
       "    </tr>\n",
       "    <tr>\n",
       "      <td>B Mott</td>\n",
       "      <td>23</td>\n",
       "      <td>81</td>\n",
       "      <td>43</td>\n",
       "      <td>70</td>\n",
       "      <td>1</td>\n",
       "      <td>1</td>\n",
       "      <td>3</td>\n",
       "      <td>8</td>\n",
       "    </tr>\n",
       "    <tr>\n",
       "      <td>...</td>\n",
       "      <td>...</td>\n",
       "      <td>...</td>\n",
       "      <td>...</td>\n",
       "      <td>...</td>\n",
       "      <td>...</td>\n",
       "      <td>...</td>\n",
       "      <td>...</td>\n",
       "      <td>...</td>\n",
       "    </tr>\n",
       "    <tr>\n",
       "      <td>K Nishikori</td>\n",
       "      <td>5210</td>\n",
       "      <td>13142</td>\n",
       "      <td>8392</td>\n",
       "      <td>13032</td>\n",
       "      <td>652</td>\n",
       "      <td>1507</td>\n",
       "      <td>677</td>\n",
       "      <td>1127</td>\n",
       "    </tr>\n",
       "    <tr>\n",
       "      <td>A Murray</td>\n",
       "      <td>6711</td>\n",
       "      <td>16068</td>\n",
       "      <td>10578</td>\n",
       "      <td>15950</td>\n",
       "      <td>871</td>\n",
       "      <td>1966</td>\n",
       "      <td>745</td>\n",
       "      <td>1203</td>\n",
       "    </tr>\n",
       "    <tr>\n",
       "      <td>R Federer</td>\n",
       "      <td>7720</td>\n",
       "      <td>19267</td>\n",
       "      <td>13106</td>\n",
       "      <td>18309</td>\n",
       "      <td>897</td>\n",
       "      <td>2189</td>\n",
       "      <td>644</td>\n",
       "      <td>963</td>\n",
       "    </tr>\n",
       "    <tr>\n",
       "      <td>R Nadal</td>\n",
       "      <td>7359</td>\n",
       "      <td>17174</td>\n",
       "      <td>11693</td>\n",
       "      <td>16995</td>\n",
       "      <td>1079</td>\n",
       "      <td>2308</td>\n",
       "      <td>819</td>\n",
       "      <td>1213</td>\n",
       "    </tr>\n",
       "    <tr>\n",
       "      <td>N Djokovic</td>\n",
       "      <td>10392</td>\n",
       "      <td>24055</td>\n",
       "      <td>16197</td>\n",
       "      <td>23384</td>\n",
       "      <td>1440</td>\n",
       "      <td>3231</td>\n",
       "      <td>1023</td>\n",
       "      <td>1546</td>\n",
       "    </tr>\n",
       "  </tbody>\n",
       "</table>\n",
       "<p>448 rows × 8 columns</p>\n",
       "</div>"
      ],
      "text/plain": [
       "              noserve_nobreak_won  noserve_nobreak_faced  serve_nobreak_won  \\\n",
       "C Altamirano                   15                     62                 30   \n",
       "C Niland                        6                     30                  7   \n",
       "S Riffice                      18                     81                 48   \n",
       "M Crugnola                     18                     64                 35   \n",
       "B Mott                         23                     81                 43   \n",
       "...                           ...                    ...                ...   \n",
       "K Nishikori                  5210                  13142               8392   \n",
       "A Murray                     6711                  16068              10578   \n",
       "R Federer                    7720                  19267              13106   \n",
       "R Nadal                      7359                  17174              11693   \n",
       "N Djokovic                  10392                  24055              16197   \n",
       "\n",
       "              serve_nobreak_faced  noserve_break_won  noserve_break_faced  \\\n",
       "C Altamirano                   62                  0                    0   \n",
       "C Niland                       24                  0                    0   \n",
       "S Riffice                      86                  1                    1   \n",
       "M Crugnola                     70                  1                    1   \n",
       "B Mott                         70                  1                    1   \n",
       "...                           ...                ...                  ...   \n",
       "K Nishikori                 13032                652                 1507   \n",
       "A Murray                    15950                871                 1966   \n",
       "R Federer                   18309                897                 2189   \n",
       "R Nadal                     16995               1079                 2308   \n",
       "N Djokovic                  23384               1440                 3231   \n",
       "\n",
       "              serve_break_won  serve_break_faced  \n",
       "C Altamirano                5                 12  \n",
       "C Niland                    1                  6  \n",
       "S Riffice                   6                 10  \n",
       "M Crugnola                  4                 11  \n",
       "B Mott                      3                  8  \n",
       "...                       ...                ...  \n",
       "K Nishikori               677               1127  \n",
       "A Murray                  745               1203  \n",
       "R Federer                 644                963  \n",
       "R Nadal                   819               1213  \n",
       "N Djokovic               1023               1546  \n",
       "\n",
       "[448 rows x 8 columns]"
      ]
     },
     "execution_count": 235,
     "metadata": {},
     "output_type": "execute_result"
    }
   ],
   "source": [
    "player_bps.sort_values(\"noserve_break_faced\")"
   ]
  },
  {
   "cell_type": "code",
   "execution_count": 236,
   "metadata": {
    "pycharm": {
     "name": "#%%\n"
    }
   },
   "outputs": [],
   "source": [
    "# laplace smoothing assuming 64% serve win pct over 100 ghost points. assume 60% for break points\n",
    "player_bps[\"serve_nobreak_pct\"] = (player_bps[\"serve_nobreak_won\"] + 64) / (player_bps[\"serve_nobreak_faced\"] + 100)\n",
    "player_bps[\"serve_break_pct\"] = (player_bps[\"serve_break_won\"] + 60) / (player_bps[\"serve_break_faced\"] + 100)\n",
    "player_bps[\"noserve_nobreak_pct\"] = (player_bps[\"noserve_nobreak_won\"] + 36) / (player_bps[\"noserve_nobreak_faced\"] + 100)\n",
    "player_bps[\"noserve_break_pct\"] = (player_bps[\"noserve_break_won\"] + 40) / (player_bps[\"noserve_break_faced\"] + 100)\n",
    "\n",
    "player_bps[\"serve_choke_pct\"] = player_bps[\"serve_nobreak_pct\"] - player_bps[\"serve_break_pct\"] - 0.02 # correcting for 4% difference in averages\n",
    "player_bps[\"noserve_choke_pct\"] = player_bps[\"noserve_nobreak_pct\"] - player_bps[\"noserve_break_pct\"] + 0.04\n",
    "player_bps[\"choke_pct\"] = (player_bps[\"serve_choke_pct\"] + player_bps[\"noserve_choke_pct\"]) / 2"
   ]
  },
  {
   "cell_type": "code",
   "execution_count": 237,
   "metadata": {},
   "outputs": [
    {
     "data": {
      "text/plain": [
       "noserve_nobreak_won       746.245536\n",
       "noserve_nobreak_faced    2079.053571\n",
       "serve_nobreak_won        1332.808036\n",
       "serve_nobreak_faced      2079.053571\n",
       "noserve_break_won          75.957589\n",
       "noserve_break_faced       191.953125\n",
       "serve_break_won           115.995536\n",
       "serve_break_faced         191.953125\n",
       "serve_nobreak_pct           0.616997\n",
       "serve_break_pct             0.594404\n",
       "noserve_nobreak_pct         0.342857\n",
       "noserve_break_pct           0.392082\n",
       "serve_choke_pct             0.002593\n",
       "noserve_choke_pct          -0.009225\n",
       "choke_pct                  -0.003316\n",
       "dtype: float64"
      ]
     },
     "execution_count": 237,
     "metadata": {},
     "output_type": "execute_result"
    }
   ],
   "source": [
    "player_bps.agg(\"mean\")"
   ]
  },
  {
   "cell_type": "code",
   "execution_count": 238,
   "metadata": {},
   "outputs": [],
   "source": [
    "chokiest = player_bps[player_bps[\"noserve_break_faced\"].ge(100)].sort_values(\"choke_pct\")"
   ]
  },
  {
   "cell_type": "code",
   "execution_count": 239,
   "metadata": {},
   "outputs": [],
   "source": [
    "chokiest.to_csv(\"../data/chokiest.csv\")"
   ]
  }
 ],
 "metadata": {
  "kernelspec": {
   "display_name": "Python 3.7.3 64-bit",
   "language": "python",
   "name": "python3"
  },
  "language_info": {
   "codemirror_mode": {
    "name": "ipython",
    "version": 3
   },
   "file_extension": ".py",
   "mimetype": "text/x-python",
   "name": "python",
   "nbconvert_exporter": "python",
   "pygments_lexer": "ipython3",
   "version": "3.7.3"
  },
  "orig_nbformat": 4,
  "vscode": {
   "interpreter": {
    "hash": "aee8b7b246df8f9039afb4144a1f6fd8d2ca17a180786b69acc140d282b71a49"
   }
  }
 },
 "nbformat": 4,
 "nbformat_minor": 2
}
