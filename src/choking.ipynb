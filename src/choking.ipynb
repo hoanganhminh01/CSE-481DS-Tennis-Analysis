{
 "cells": [
  {
   "cell_type": "code",
   "execution_count": 220,
   "metadata": {
    "pycharm": {
     "name": "#%%\n"
    }
   },
   "outputs": [],
   "source": [
    "import pandas as pd\n",
    "from matplotlib import pyplot as plt"
   ]
  },
  {
   "cell_type": "markdown",
   "metadata": {
    "pycharm": {
     "name": "#%% md\n"
    }
   },
   "source": [
    "### Read in the match points from 2011-2021 for grand-slam tournaments"
   ]
  },
  {
   "cell_type": "code",
   "execution_count": 269,
   "metadata": {
    "pycharm": {
     "name": "#%%\n"
    }
   },
   "outputs": [],
   "source": [
    "points_2011 = pd.read_csv(f\"../data/grand-slam-point-data/combined-points/2011-combined-points.csv\", encoding='unicode_escape', low_memory=False)\n",
    "match_2011 = pd.read_csv(f\"../data/grand-slam-point-data/combined-matches/2011-combined-matches.csv\", encoding='unicode_escape', low_memory=False)\n",
    "combined = pd.merge(points_2011, match_2011, on=\"match_id\", how=\"inner\")\n",
    "for i in range(10):\n",
    "    points = pd.read_csv(f\"../data/grand-slam-point-data/combined-points/{2012 + i}-combined-points.csv\", encoding='unicode_escape', low_memory=False)\n",
    "    match = pd.read_csv(f\"../data/grand-slam-point-data/combined-matches/{2012 + i}-combined-matches.csv\", encoding='unicode_escape', low_memory=False)\n",
    "    cur_year = pd.merge(points, match, on=\"match_id\", how=\"inner\")\n",
    "    combined = pd.concat([combined, cur_year])\n",
    "\n",
    "points = combined"
   ]
  },
  {
   "cell_type": "markdown",
   "metadata": {
    "pycharm": {
     "name": "#%% md\n"
    }
   },
   "source": [
    "P1BreakPoint == 1 if P1 is returning and is one point from winning the game (\"breaking\" the opponent's serve point)"
   ]
  },
  {
   "cell_type": "markdown",
   "metadata": {
    "pycharm": {
     "name": "#%% md\n"
    }
   },
   "source": [
    "### Add features for player win percentages"
   ]
  },
  {
   "cell_type": "code",
   "execution_count": 270,
   "metadata": {
    "pycharm": {
     "name": "#%%\n"
    }
   },
   "outputs": [],
   "source": [
    "points[\"TotalPts\"] = points[\"P1PointsWon\"] + points[\"P2PointsWon\"]\n",
    "points[\"P1WinPct\"] = points[\"P1PointsWon\"] / points[\"TotalPts\"]\n",
    "points[\"P2WinPct\"] = points[\"P2PointsWon\"] / points[\"TotalPts\"]\n",
    "\n",
    "# points[\"P1BreakPts\"] = points[\"P1BreakPoint\"].cumsum()\n",
    "# points[\"P2BreakPts\"] = points[\"P2BreakPoint\"].cumsum()\n",
    "# points[\"P1BreakPtsWon\"] = points[\"P1BreakPointWon\"].cumsum()\n",
    "# points[\"P2BreakPtsWon\"] = points[\"P2BreakPointWon\"].cumsum()\n",
    "\n",
    "# points[\"P1BreakPtWinPct\"] = points[\"P1BreakPtsWon\"] / (points[\"P1BreakPts\"] + points[\"P2BreakPts\"])\n",
    "# points[\"P2BreakPtWinPct\"] = points[\"P2BreakPtsWon\"] / (points[\"P1BreakPts\"] + points[\"P2BreakPts\"])\n"
   ]
  },
  {
   "cell_type": "markdown",
   "metadata": {
    "pycharm": {
     "name": "#%% md\n"
    }
   },
   "source": [
    "### Group data by match"
   ]
  },
  {
   "cell_type": "code",
   "execution_count": 271,
   "metadata": {
    "pycharm": {
     "name": "#%%\n"
    }
   },
   "outputs": [],
   "source": [
    "grouped_total = points.groupby([\"match_id\", \"P1BreakPoint\", \"P2BreakPoint\", \"player1\", \"player2\"])\n",
    "\n",
    "grouped_total[[\"P1WinPct\", \"P2WinPct\"]].describe().to_csv(\"../data/choking-data/choking_by_match.csv\")"
   ]
  },
  {
   "cell_type": "code",
   "execution_count": 278,
   "metadata": {
    "pycharm": {
     "name": "#%%\n"
    }
   },
   "outputs": [],
   "source": [
    "grouped_total_p1 = points.groupby([\"player1\",\"P1BreakPoint\", \"P2BreakPoint\"])\n",
    "\n",
    "grouped_total_p1[[\"P1WinPct\"]].describe().to_csv(\"../data/choking-data/choking_by_player.csv\")"
   ]
  }
 ],
 "metadata": {
  "kernelspec": {
   "display_name": "Python 3.8.8 ('base')",
   "language": "python",
   "name": "python3"
  },
  "language_info": {
   "codemirror_mode": {
    "name": "ipython",
    "version": 3
   },
   "file_extension": ".py",
   "mimetype": "text/x-python",
   "name": "python",
   "nbconvert_exporter": "python",
   "pygments_lexer": "ipython3",
   "version": "3.8.8"
  },
  "orig_nbformat": 4,
  "vscode": {
   "interpreter": {
    "hash": "a3c61eb7c18efb38ea5e9ac657d44aaf2821a30600e7b399e4303b6e668ed047"
   }
  }
 },
 "nbformat": 4,
 "nbformat_minor": 2
}