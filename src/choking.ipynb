{
 "cells": [
  {
   "cell_type": "code",
   "execution_count": 1,
   "metadata": {
    "pycharm": {
     "name": "#%%\n"
    }
   },
   "outputs": [],
   "source": [
    "import pandas as pd\n",
    "from matplotlib import pyplot as plt"
   ]
  },
  {
   "cell_type": "markdown",
   "metadata": {
    "pycharm": {
     "name": "#%% md\n"
    }
   },
   "source": [
    "### Read in the match points from 2011-2021 for grand-slam tournaments"
   ]
  },
  {
   "cell_type": "code",
   "execution_count": 2,
   "metadata": {
    "pycharm": {
     "name": "#%%\n"
    }
   },
   "outputs": [
    {
     "data": {
      "text/plain": "       ElapsedTime  GameNo  GameWinner  History  P1Ace  P1BreakPoint  \\\n0         00:00:00     1.0         0.0      0.0    0.0           0.0   \n1          0:00:00     1.0         0.0  21020.0    0.0           0.0   \n2          0:00:23     1.0         0.0  22020.0    0.0           0.0   \n3          0:00:59     1.0         0.0  22020.0    0.0           0.0   \n4          0:01:57     1.0         1.0  21022.0    0.0           1.0   \n...            ...     ...         ...      ...    ...           ...   \n114556     3:20:13     9.0         0.0  21410.0    0.0           1.0   \n114557     3:20:44     9.0         0.0  12410.0    0.0           0.0   \n114558     3:21:37     9.0         0.0  21010.0    0.0           1.0   \n114559     3:22:30     9.0         0.0  21020.0    0.0           0.0   \n114560     3:23:27     9.0         1.0  22024.0    0.0           1.0   \n\n        P1BreakPointMissed  P1BreakPointWon  P1DistanceRun  P1DoubleFault  \\\n0                      0.0              0.0            NaN            0.0   \n1                      0.0              0.0            NaN            0.0   \n2                      0.0              0.0            NaN            0.0   \n3                      0.0              0.0            NaN            0.0   \n4                      0.0              1.0            NaN            0.0   \n...                    ...              ...            ...            ...   \n114556                 1.0              0.0         27.687            0.0   \n114557                 0.0              0.0         28.870            0.0   \n114558                 1.0              0.0         31.068            0.0   \n114559                 0.0              0.0         14.625            0.0   \n114560                 1.0              1.0         51.453            0.0   \n\n        ...  player1_new  player1id            player2   player2_new  \\\n0       ...      R Nadal    atpn409      Marcos Daniel      M Daniel   \n1       ...      R Nadal    atpn409      Marcos Daniel      M Daniel   \n2       ...      R Nadal    atpn409      Marcos Daniel      M Daniel   \n3       ...      R Nadal    atpn409      Marcos Daniel      M Daniel   \n4       ...      R Nadal    atpn409      Marcos Daniel      M Daniel   \n...     ...          ...        ...                ...           ...   \n114556  ...   N Djokovic        NaN  Matteo Berrettini  M Berrettini   \n114557  ...   N Djokovic        NaN  Matteo Berrettini  M Berrettini   \n114558  ...   N Djokovic        NaN  Matteo Berrettini  M Berrettini   \n114559  ...   N Djokovic        NaN  Matteo Berrettini  M Berrettini   \n114560  ...   N Djokovic        NaN  Matteo Berrettini  M Berrettini   \n\n        player2id    round       slam   status winner  year  \n0         atpd339  Round 1    ausopen  Retired    1.0  2011  \n1         atpd339  Round 1    ausopen  Retired    1.0  2011  \n2         atpd339  Round 1    ausopen  Retired    1.0  2011  \n3         atpd339  Round 1    ausopen  Retired    1.0  2011  \n4         atpd339  Round 1    ausopen  Retired    1.0  2011  \n...           ...      ...        ...      ...    ...   ...  \n114556        NaN      NaN  wimbledon      NaN    NaN  2021  \n114557        NaN      NaN  wimbledon      NaN    NaN  2021  \n114558        NaN      NaN  wimbledon      NaN    NaN  2021  \n114559        NaN      NaN  wimbledon      NaN    NaN  2021  \n114560        NaN      NaN  wimbledon      NaN    NaN  2021  \n\n[1020105 rows x 87 columns]",
      "text/html": "<div>\n<style scoped>\n    .dataframe tbody tr th:only-of-type {\n        vertical-align: middle;\n    }\n\n    .dataframe tbody tr th {\n        vertical-align: top;\n    }\n\n    .dataframe thead th {\n        text-align: right;\n    }\n</style>\n<table border=\"1\" class=\"dataframe\">\n  <thead>\n    <tr style=\"text-align: right;\">\n      <th></th>\n      <th>ElapsedTime</th>\n      <th>GameNo</th>\n      <th>GameWinner</th>\n      <th>History</th>\n      <th>P1Ace</th>\n      <th>P1BreakPoint</th>\n      <th>P1BreakPointMissed</th>\n      <th>P1BreakPointWon</th>\n      <th>P1DistanceRun</th>\n      <th>P1DoubleFault</th>\n      <th>...</th>\n      <th>player1_new</th>\n      <th>player1id</th>\n      <th>player2</th>\n      <th>player2_new</th>\n      <th>player2id</th>\n      <th>round</th>\n      <th>slam</th>\n      <th>status</th>\n      <th>winner</th>\n      <th>year</th>\n    </tr>\n  </thead>\n  <tbody>\n    <tr>\n      <th>0</th>\n      <td>00:00:00</td>\n      <td>1.0</td>\n      <td>0.0</td>\n      <td>0.0</td>\n      <td>0.0</td>\n      <td>0.0</td>\n      <td>0.0</td>\n      <td>0.0</td>\n      <td>NaN</td>\n      <td>0.0</td>\n      <td>...</td>\n      <td>R Nadal</td>\n      <td>atpn409</td>\n      <td>Marcos Daniel</td>\n      <td>M Daniel</td>\n      <td>atpd339</td>\n      <td>Round 1</td>\n      <td>ausopen</td>\n      <td>Retired</td>\n      <td>1.0</td>\n      <td>2011</td>\n    </tr>\n    <tr>\n      <th>1</th>\n      <td>0:00:00</td>\n      <td>1.0</td>\n      <td>0.0</td>\n      <td>21020.0</td>\n      <td>0.0</td>\n      <td>0.0</td>\n      <td>0.0</td>\n      <td>0.0</td>\n      <td>NaN</td>\n      <td>0.0</td>\n      <td>...</td>\n      <td>R Nadal</td>\n      <td>atpn409</td>\n      <td>Marcos Daniel</td>\n      <td>M Daniel</td>\n      <td>atpd339</td>\n      <td>Round 1</td>\n      <td>ausopen</td>\n      <td>Retired</td>\n      <td>1.0</td>\n      <td>2011</td>\n    </tr>\n    <tr>\n      <th>2</th>\n      <td>0:00:23</td>\n      <td>1.0</td>\n      <td>0.0</td>\n      <td>22020.0</td>\n      <td>0.0</td>\n      <td>0.0</td>\n      <td>0.0</td>\n      <td>0.0</td>\n      <td>NaN</td>\n      <td>0.0</td>\n      <td>...</td>\n      <td>R Nadal</td>\n      <td>atpn409</td>\n      <td>Marcos Daniel</td>\n      <td>M Daniel</td>\n      <td>atpd339</td>\n      <td>Round 1</td>\n      <td>ausopen</td>\n      <td>Retired</td>\n      <td>1.0</td>\n      <td>2011</td>\n    </tr>\n    <tr>\n      <th>3</th>\n      <td>0:00:59</td>\n      <td>1.0</td>\n      <td>0.0</td>\n      <td>22020.0</td>\n      <td>0.0</td>\n      <td>0.0</td>\n      <td>0.0</td>\n      <td>0.0</td>\n      <td>NaN</td>\n      <td>0.0</td>\n      <td>...</td>\n      <td>R Nadal</td>\n      <td>atpn409</td>\n      <td>Marcos Daniel</td>\n      <td>M Daniel</td>\n      <td>atpd339</td>\n      <td>Round 1</td>\n      <td>ausopen</td>\n      <td>Retired</td>\n      <td>1.0</td>\n      <td>2011</td>\n    </tr>\n    <tr>\n      <th>4</th>\n      <td>0:01:57</td>\n      <td>1.0</td>\n      <td>1.0</td>\n      <td>21022.0</td>\n      <td>0.0</td>\n      <td>1.0</td>\n      <td>0.0</td>\n      <td>1.0</td>\n      <td>NaN</td>\n      <td>0.0</td>\n      <td>...</td>\n      <td>R Nadal</td>\n      <td>atpn409</td>\n      <td>Marcos Daniel</td>\n      <td>M Daniel</td>\n      <td>atpd339</td>\n      <td>Round 1</td>\n      <td>ausopen</td>\n      <td>Retired</td>\n      <td>1.0</td>\n      <td>2011</td>\n    </tr>\n    <tr>\n      <th>...</th>\n      <td>...</td>\n      <td>...</td>\n      <td>...</td>\n      <td>...</td>\n      <td>...</td>\n      <td>...</td>\n      <td>...</td>\n      <td>...</td>\n      <td>...</td>\n      <td>...</td>\n      <td>...</td>\n      <td>...</td>\n      <td>...</td>\n      <td>...</td>\n      <td>...</td>\n      <td>...</td>\n      <td>...</td>\n      <td>...</td>\n      <td>...</td>\n      <td>...</td>\n      <td>...</td>\n    </tr>\n    <tr>\n      <th>114556</th>\n      <td>3:20:13</td>\n      <td>9.0</td>\n      <td>0.0</td>\n      <td>21410.0</td>\n      <td>0.0</td>\n      <td>1.0</td>\n      <td>1.0</td>\n      <td>0.0</td>\n      <td>27.687</td>\n      <td>0.0</td>\n      <td>...</td>\n      <td>N Djokovic</td>\n      <td>NaN</td>\n      <td>Matteo Berrettini</td>\n      <td>M Berrettini</td>\n      <td>NaN</td>\n      <td>NaN</td>\n      <td>wimbledon</td>\n      <td>NaN</td>\n      <td>NaN</td>\n      <td>2021</td>\n    </tr>\n    <tr>\n      <th>114557</th>\n      <td>3:20:44</td>\n      <td>9.0</td>\n      <td>0.0</td>\n      <td>12410.0</td>\n      <td>0.0</td>\n      <td>0.0</td>\n      <td>0.0</td>\n      <td>0.0</td>\n      <td>28.870</td>\n      <td>0.0</td>\n      <td>...</td>\n      <td>N Djokovic</td>\n      <td>NaN</td>\n      <td>Matteo Berrettini</td>\n      <td>M Berrettini</td>\n      <td>NaN</td>\n      <td>NaN</td>\n      <td>wimbledon</td>\n      <td>NaN</td>\n      <td>NaN</td>\n      <td>2021</td>\n    </tr>\n    <tr>\n      <th>114558</th>\n      <td>3:21:37</td>\n      <td>9.0</td>\n      <td>0.0</td>\n      <td>21010.0</td>\n      <td>0.0</td>\n      <td>1.0</td>\n      <td>1.0</td>\n      <td>0.0</td>\n      <td>31.068</td>\n      <td>0.0</td>\n      <td>...</td>\n      <td>N Djokovic</td>\n      <td>NaN</td>\n      <td>Matteo Berrettini</td>\n      <td>M Berrettini</td>\n      <td>NaN</td>\n      <td>NaN</td>\n      <td>wimbledon</td>\n      <td>NaN</td>\n      <td>NaN</td>\n      <td>2021</td>\n    </tr>\n    <tr>\n      <th>114559</th>\n      <td>3:22:30</td>\n      <td>9.0</td>\n      <td>0.0</td>\n      <td>21020.0</td>\n      <td>0.0</td>\n      <td>0.0</td>\n      <td>0.0</td>\n      <td>0.0</td>\n      <td>14.625</td>\n      <td>0.0</td>\n      <td>...</td>\n      <td>N Djokovic</td>\n      <td>NaN</td>\n      <td>Matteo Berrettini</td>\n      <td>M Berrettini</td>\n      <td>NaN</td>\n      <td>NaN</td>\n      <td>wimbledon</td>\n      <td>NaN</td>\n      <td>NaN</td>\n      <td>2021</td>\n    </tr>\n    <tr>\n      <th>114560</th>\n      <td>3:23:27</td>\n      <td>9.0</td>\n      <td>1.0</td>\n      <td>22024.0</td>\n      <td>0.0</td>\n      <td>1.0</td>\n      <td>1.0</td>\n      <td>1.0</td>\n      <td>51.453</td>\n      <td>0.0</td>\n      <td>...</td>\n      <td>N Djokovic</td>\n      <td>NaN</td>\n      <td>Matteo Berrettini</td>\n      <td>M Berrettini</td>\n      <td>NaN</td>\n      <td>NaN</td>\n      <td>wimbledon</td>\n      <td>NaN</td>\n      <td>NaN</td>\n      <td>2021</td>\n    </tr>\n  </tbody>\n</table>\n<p>1020105 rows × 87 columns</p>\n</div>"
     },
     "execution_count": 2,
     "metadata": {},
     "output_type": "execute_result"
    }
   ],
   "source": [
    "points_2011 = pd.read_csv(f\"../data/grand-slam-point-data/combined-points/2011-combined-points.csv\", encoding='unicode_escape', low_memory=False)\n",
    "match_2011 = pd.read_csv(f\"../data/grand-slam-point-data/combined-matches/2011-combined-matches.csv\", encoding='unicode_escape', low_memory=False)\n",
    "combined = pd.merge(points_2011, match_2011, on=\"match_id\", how=\"inner\")\n",
    "for i in range(2012, 2022):\n",
    "    points = pd.read_csv(f\"../data/grand-slam-point-data/combined-points/{i}-combined-points.csv\", encoding='unicode_escape', low_memory=False)\n",
    "    match = pd.read_csv(f\"../data/grand-slam-point-data/combined-matches/{i}-combined-matches.csv\", encoding='unicode_escape', low_memory=False)\n",
    "    cur_year = pd.merge(points, match, on=\"match_id\", how=\"inner\")\n",
    "    combined = pd.concat([combined, cur_year], sort=True)\n",
    "\n",
    "points = combined\n",
    "points"
   ]
  },
  {
   "cell_type": "markdown",
   "metadata": {
    "pycharm": {
     "name": "#%% md\n"
    }
   },
   "source": [
    "P1BreakPoint == 1 if P1 is receiveing and is one point from winning the game (\"breaking\" the opponent's serve point)"
   ]
  },
  {
   "cell_type": "code",
   "execution_count": 3,
   "metadata": {
    "pycharm": {
     "name": "#%%\n"
    }
   },
   "outputs": [
    {
     "data": {
      "text/plain": "Index(['ElapsedTime', 'GameNo', 'GameWinner', 'History', 'P1Ace',\n       'P1BreakPoint', 'P1BreakPointMissed', 'P1BreakPointWon',\n       'P1DistanceRun', 'P1DoubleFault', 'P1FirstSrvIn', 'P1FirstSrvWon',\n       'P1ForcedError', 'P1GamesWon', 'P1Momentum', 'P1NetPoint',\n       'P1NetPointWon', 'P1PointsWon', 'P1Score', 'P1SecondSrvIn',\n       'P1SecondSrvWon', 'P1TurningPoint', 'P1UnfErr', 'P1Winner', 'P2Ace',\n       'P2BreakPoint', 'P2BreakPointMissed', 'P2BreakPointWon',\n       'P2DistanceRun', 'P2DoubleFault', 'P2FirstSrvIn', 'P2FirstSrvWon',\n       'P2ForcedError', 'P2GamesWon', 'P2Momentum', 'P2NetPoint',\n       'P2NetPointWon', 'P2PointsWon', 'P2Score', 'P2SecondSrvIn',\n       'P2SecondSrvWon', 'P2TurningPoint', 'P2UnfErr', 'P2Winner',\n       'PointNumber', 'PointServer', 'PointWinner', 'Rally', 'RallyCount',\n       'ReturnDepth', 'ServeDepth', 'ServeIndicator', 'ServeNumber',\n       'ServeWidth', 'Serve_Direction', 'ServingTo', 'SetNo', 'SetWinner',\n       'Speed_KMH', 'Speed_MPH', 'Unnamed: 0_x', 'Unnamed: 0_y', 'Unnamed: 18',\n       'WinnerShotType', 'WinnerType', 'Winner_BH', 'Winner_FH', 'court_id',\n       'court_name', 'event_name', 'match_id', 'match_id_num_x',\n       'match_id_num_y', 'match_num', 'nation1', 'nation2', 'player1',\n       'player1_new', 'player1id', 'player2', 'player2_new', 'player2id',\n       'round', 'slam', 'status', 'winner', 'year'],\n      dtype='object')"
     },
     "execution_count": 3,
     "metadata": {},
     "output_type": "execute_result"
    }
   ],
   "source": [
    "points.columns"
   ]
  },
  {
   "cell_type": "code",
   "execution_count": 4,
   "metadata": {
    "pycharm": {
     "name": "#%%\n"
    }
   },
   "outputs": [],
   "source": [
    "real_points = points[points['PointWinner'].ge(1)]"
   ]
  },
  {
   "cell_type": "code",
   "execution_count": 5,
   "metadata": {
    "pycharm": {
     "name": "#%%\n"
    }
   },
   "outputs": [
    {
     "data": {
      "text/plain": "0"
     },
     "execution_count": 5,
     "metadata": {},
     "output_type": "execute_result"
    }
   ],
   "source": [
    "real_points[real_points[\"PointServer\"].isna()][\"match_id\"].nunique()"
   ]
  },
  {
   "cell_type": "code",
   "execution_count": 6,
   "metadata": {
    "pycharm": {
     "name": "#%%\n"
    }
   },
   "outputs": [
    {
     "data": {
      "text/plain": "1         2.0\n2         2.0\n3         2.0\n4         2.0\n5         1.0\n         ... \n114556    2.0\n114557    2.0\n114558    2.0\n114559    2.0\n114560    2.0\nName: PointServer, Length: 1015928, dtype: float64"
     },
     "execution_count": 6,
     "metadata": {},
     "output_type": "execute_result"
    }
   ],
   "source": [
    "real_points[\"PointServer\"]"
   ]
  },
  {
   "cell_type": "code",
   "execution_count": 7,
   "metadata": {
    "pycharm": {
     "name": "#%%\n"
    }
   },
   "outputs": [
    {
     "name": "stderr",
     "output_type": "stream",
     "text": [
      "C:\\Users\\anhmi\\miniconda3\\lib\\site-packages\\pandas\\core\\indexing.py:1773: SettingWithCopyWarning: \n",
      "A value is trying to be set on a copy of a slice from a DataFrame.\n",
      "Try using .loc[row_indexer,col_indexer] = value instead\n",
      "\n",
      "See the caveats in the documentation: https://pandas.pydata.org/pandas-docs/stable/user_guide/indexing.html#returning-a-view-versus-a-copy\n",
      "  self._setitem_single_column(ilocs[0], value, pi)\n"
     ]
    }
   ],
   "source": [
    "# P1 has a breakpoint when P2 is serving, and P1 is up 0-40, 15-40, 30-40, or 40-AD\n",
    "p1_breakpoint =\\\n",
    "  (real_points[\"PointServer\"] == 2) &\\\n",
    "  (((real_points[\"P1Score\"] == \"40\") &\n",
    "    (real_points[\"P2Score\"] != \"40\") &\n",
    "    (real_points[\"P2Score\"] != \"AD\")) |\n",
    "  (real_points[\"P1Score\"] == \"AD\"))\n",
    "p2_breakpoint =\\\n",
    "  (real_points[\"PointServer\"] == 1) &\\\n",
    "  (((real_points[\"P2Score\"] == \"40\") &\n",
    "    (real_points[\"P1Score\"] != \"40\") &\n",
    "    (real_points[\"P1Score\"] != \"AD\")) |\n",
    "  (real_points[\"P2Score\"] == \"AD\"))\n",
    "real_points.loc[:, \"P1BreakPoint\"] = p1_breakpoint.shift(1, fill_value=False) # P1Score is P1's score after the point is played\n",
    "real_points.loc[:, \"P2BreakPoint\"] = p2_breakpoint.shift(1, fill_value=False)"
   ]
  },
  {
   "cell_type": "code",
   "execution_count": 8,
   "metadata": {
    "pycharm": {
     "name": "#%%\n"
    }
   },
   "outputs": [
    {
     "data": {
      "text/plain": "1         False\n2         False\n3         False\n4          True\n5         False\n          ...  \n114556     True\n114557    False\n114558     True\n114559    False\n114560     True\nLength: 1015928, dtype: bool"
     },
     "execution_count": 8,
     "metadata": {},
     "output_type": "execute_result"
    }
   ],
   "source": [
    "p1_breakpoint.shift(1, fill_value=False)"
   ]
  },
  {
   "cell_type": "code",
   "execution_count": 9,
   "metadata": {
    "pycharm": {
     "name": "#%%\n"
    }
   },
   "outputs": [
    {
     "data": {
      "text/plain": "  P1Score P2Score  PointServer  PointWinner  P1BreakPoint\n1      15       0          2.0          1.0         False\n2      30       0          2.0          1.0         False\n3      40       0          2.0          1.0         False\n4       0       0          2.0          1.0          True\n5      15       0          1.0          1.0         False\n6      30       0          1.0          1.0         False",
      "text/html": "<div>\n<style scoped>\n    .dataframe tbody tr th:only-of-type {\n        vertical-align: middle;\n    }\n\n    .dataframe tbody tr th {\n        vertical-align: top;\n    }\n\n    .dataframe thead th {\n        text-align: right;\n    }\n</style>\n<table border=\"1\" class=\"dataframe\">\n  <thead>\n    <tr style=\"text-align: right;\">\n      <th></th>\n      <th>P1Score</th>\n      <th>P2Score</th>\n      <th>PointServer</th>\n      <th>PointWinner</th>\n      <th>P1BreakPoint</th>\n    </tr>\n  </thead>\n  <tbody>\n    <tr>\n      <th>1</th>\n      <td>15</td>\n      <td>0</td>\n      <td>2.0</td>\n      <td>1.0</td>\n      <td>False</td>\n    </tr>\n    <tr>\n      <th>2</th>\n      <td>30</td>\n      <td>0</td>\n      <td>2.0</td>\n      <td>1.0</td>\n      <td>False</td>\n    </tr>\n    <tr>\n      <th>3</th>\n      <td>40</td>\n      <td>0</td>\n      <td>2.0</td>\n      <td>1.0</td>\n      <td>False</td>\n    </tr>\n    <tr>\n      <th>4</th>\n      <td>0</td>\n      <td>0</td>\n      <td>2.0</td>\n      <td>1.0</td>\n      <td>True</td>\n    </tr>\n    <tr>\n      <th>5</th>\n      <td>15</td>\n      <td>0</td>\n      <td>1.0</td>\n      <td>1.0</td>\n      <td>False</td>\n    </tr>\n    <tr>\n      <th>6</th>\n      <td>30</td>\n      <td>0</td>\n      <td>1.0</td>\n      <td>1.0</td>\n      <td>False</td>\n    </tr>\n  </tbody>\n</table>\n</div>"
     },
     "execution_count": 9,
     "metadata": {},
     "output_type": "execute_result"
    }
   ],
   "source": [
    "real_points[[\"P1Score\", \"P2Score\", \"PointServer\", \"PointWinner\", \"P1BreakPoint\"]][:6]"
   ]
  },
  {
   "cell_type": "code",
   "execution_count": 10,
   "metadata": {
    "pycharm": {
     "name": "#%%\n"
    }
   },
   "outputs": [],
   "source": [
    "bp_groups = real_points.groupby(by=[\"player1_new\", \"player2_new\", \"P1BreakPoint\", \"P2BreakPoint\", \"PointWinner\", \"PointServer\"])\n",
    "counts_by_bp = bp_groups.size().reset_index(name=\"count\")"
   ]
  },
  {
   "cell_type": "code",
   "execution_count": 11,
   "metadata": {
    "pycharm": {
     "name": "#%%\n"
    }
   },
   "outputs": [],
   "source": [
    "unique_players = set(counts_by_bp[\"player1_new\"].unique().tolist() + counts_by_bp[\"player2_new\"].unique().tolist())\n",
    "player_bps_dict = dict()\n",
    "for p in unique_players:\n",
    "  player_bps_dict[p] = {\n",
    "    'receive_nobreak_won': 0,\n",
    "    'receive_nobreak_faced': 0,\n",
    "    'serve_nobreak_won': 0,\n",
    "    'serve_nobreak_faced': 0,\n",
    "    'receive_break_won': 0,\n",
    "    'receive_break_faced': 0,\n",
    "    'serve_break_won': 0,\n",
    "    'serve_break_faced': 0,\n",
    "  }"
   ]
  },
  {
   "cell_type": "code",
   "execution_count": 12,
   "outputs": [
    {
     "name": "stdout",
     "output_type": "stream",
     "text": [
      "A Arnaboldi\n",
      "A Balazs\n",
      "A Beck\n",
      "A Bedene\n",
      "A Bogomolov Jr.\n",
      "A Bolt\n",
      "A Bublik\n",
      "A Cazaux\n",
      "A Clement\n",
      "A Davidovich Fokina\n",
      "A De Greef\n",
      "A De Minaur\n",
      "A Dolgopolov\n",
      "A Falla\n",
      "A Gensse\n",
      "A Giannessi\n",
      "A Golubev\n",
      "A Gonzalez\n",
      "A Haider-Maurer\n",
      "A Harris\n",
      "A Hoang\n",
      "A Karatsev\n",
      "A Krajicek\n",
      "A Kudryavtsev\n",
      "A Kuznetsov\n",
      "A Mannarino\n",
      "A Martin\n",
      "A Menendez Maceiras\n",
      "A Michon\n",
      "A Molcan\n",
      "A Montanes\n",
      "A Muller\n",
      "A Murray\n",
      "A Nedovyesov\n",
      "A Olivetti\n",
      "A Pavic\n",
      "A Pavlasek\n",
      "A Popyrin\n",
      "A Ramos-Vinolas\n",
      "A Rinderknech\n",
      "A Roddick\n",
      "A Rublev\n",
      "A Seppi\n",
      "A Tabilo\n",
      "A Ungur\n",
      "A Vatutin\n",
      "A Veic\n",
      "A Vukic\n",
      "A Ward\n",
      "A Weintraub\n",
      "A Whittington\n",
      "A Zverev\n",
      "A de Minaur\n",
      "B Baker\n",
      "B Becker\n",
      "B Bonzi\n",
      "B Coric\n",
      "B Fratangelo\n",
      "B Kavcic\n",
      "B Klahn\n",
      "B Klein\n",
      "B Mitchell\n",
      "B Mott\n",
      "B Nakashima\n",
      "B Paire\n",
      "B Phau\n",
      "B Reynolds\n",
      "B Rola\n",
      "B Schnur\n",
      "B Tomic\n",
      "B Van De Zandschulp\n",
      "B Zapata Miralles\n",
      "C Alcaraz\n",
      "C Altamirano\n",
      "C Ball\n",
      "C Berlocq\n",
      "C Eubanks\n",
      "C Garin\n",
      "C Harrison\n",
      "C Hemery\n",
      "C Ilkel\n",
      "C Lindell\n",
      "C Moutet\n",
      "C Niland\n",
      "C Norrie\n",
      "C O'Connell\n",
      "C Ruud\n",
      "C Stebe\n",
      "C Taberner\n",
      "D Altmaier\n",
      "D Brands\n",
      "D Brown\n",
      "D Cox\n",
      "D Dzumhur\n",
      "D Elahi Galan\n",
      "D Evans\n",
      "D Ferrer\n",
      "D Galan\n",
      "D Gimeno-Traver\n",
      "D Goffin\n",
      "D Gremelmayr\n",
      "D Guez\n",
      "D Istomin\n",
      "D Junqueira\n",
      "D King\n",
      "D Koepfer\n",
      "D Kudla\n",
      "D Lajovic\n",
      "D Masur\n",
      "D Medvedev\n",
      "D Munoz-De La Nava\n",
      "D Nalbandian\n",
      "D Novak\n",
      "D Novikov\n",
      "D Schwartzman\n",
      "D Sela\n",
      "D Shapovalov\n",
      "D Smethurst\n",
      "D Thiem\n",
      "D Tursunov\n",
      "D Udomchoke\n",
      "D Wu\n",
      "D Young\n",
      "E Benchetrit\n",
      "E Couacaud\n",
      "E Donskoy\n",
      "E Escobedo\n",
      "E Gerasimov\n",
      "E Gomez\n",
      "E Gulbis\n",
      "E Nava\n",
      "E Prodon\n",
      "E Roger-Vasselin\n",
      "E Ruusuvuori\n",
      "E Schwank\n",
      "E Ymer\n",
      "F Arguello\n",
      "F Auger Aliassime\n",
      "F Bagnis\n",
      "F Cerundolo\n",
      "F Cipolla\n",
      "F Coria\n",
      "F Dancevic\n",
      "F Delbonis\n",
      "F Ferreira Silva\n",
      "F Fognini\n",
      "F Gaio\n",
      "F Gil\n",
      "F Gonzalez\n",
      "F Krajinovic\n",
      "F Lopez\n",
      "F Mayer\n",
      "F Serra\n",
      "F Skugor\n",
      "F Tiafoe\n",
      "F Verdasco\n",
      "F Volandri\n",
      "G Andreozzi\n",
      "G Barrere\n",
      "G Blancaneaux\n",
      "G Dimitrov\n",
      "G Elias\n",
      "G Garcia-Lopez\n",
      "G Gigounon\n",
      "G Jones\n",
      "G Mager\n",
      "G Melzer\n",
      "G Monfils\n",
      "G Muller\n",
      "G Pella\n",
      "G Rufin\n",
      "G Sakharov\n",
      "G Simon\n",
      "G Soeda\n",
      "G Zemlja\n",
      "H Chung\n",
      "H Dellien\n",
      "H Gaston\n",
      "H Hurkacz\n",
      "H Laaksonen\n",
      "H Mayot\n",
      "H Moriya\n",
      "H Vitus Nodskov Rune\n",
      "H Zeballos\n",
      "I Andreev\n",
      "I Cervantes\n",
      "I Dodig\n",
      "I Ivashka\n",
      "I Karlovic\n",
      "I Kunitsyn\n",
      "I Ljubicic\n",
      "I Marchenko\n",
      "I Sijsling\n",
      "J Aragone\n",
      "J Baker\n",
      "J Benneteau\n",
      "J Blake\n",
      "J Brooksby\n",
      "J Carlos Ferrero\n",
      "J Chardy\n",
      "J Clarke\n",
      "J Dasnieres De Veigy\n",
      "J Donaldson\n",
      "J Draper\n",
      "J Duckworth\n",
      "J Goodall\n",
      "J Hajek\n",
      "J Hernych\n",
      "J Huta Galung\n",
      "J Ignacio Chela\n",
      "J Isner\n",
      "J Janowicz\n",
      "J Jung\n",
      "J Kovalik\n",
      "J Kubler\n",
      "J Lennard Struff\n",
      "J Levine\n",
      "J Lisnard\n",
      "J Londero\n",
      "J Martin Del Potro\n",
      "J McGee\n",
      "J Melzer\n",
      "J Millman\n",
      "J Monaco\n",
      "J Munar\n",
      "J Nieminen\n",
      "J Patrick Smith\n",
      "J Reister\n",
      "J Rodionov\n",
      "J Satral\n",
      "J Sinner\n",
      "J Smith\n",
      "J Sock\n",
      "J Sousa\n",
      "J Souza\n",
      "J Struff\n",
      "J Thompson\n",
      "J Tipsarevic\n",
      "J Vesely\n",
      "J Wang\n",
      "J Ward\n",
      "J Wilfried Tsonga\n",
      "J Wolf\n",
      "J Zopp\n",
      "K Anderson\n",
      "K Beck\n",
      "K Coppejans\n",
      "K De Schepper\n",
      "K Edmund\n",
      "K Khachanov\n",
      "K King\n",
      "K Kravchuk\n",
      "K Majchrzak\n",
      "K Nishikori\n",
      "L Broady\n",
      "L Djere\n",
      "L Giustino\n",
      "L Harris\n",
      "L Hewitt\n",
      "L Kubot\n",
      "L Lacko\n",
      "L Lokoli\n",
      "L Mayer\n",
      "L Musetti\n",
      "L Pouille\n",
      "L Rosol\n",
      "L Saville\n",
      "L Sonego\n",
      "L Sorensen\n",
      "L Tu\n",
      "L Vanni\n",
      "M Alund\n",
      "M Bachinger\n",
      "M Baghdatis\n",
      "M Barton\n",
      "M Basic\n",
      "M Berrer\n",
      "M Berrettini\n",
      "M Bourgue\n",
      "M Cecchinato\n",
      "M Chiudinelli\n",
      "M Cilic\n",
      "M Copil\n",
      "M Cressy\n",
      "M Crugnola\n",
      "M Daniel\n",
      "M Ebden\n",
      "M Fish\n",
      "M Fucsovics\n",
      "M Gicquel\n",
      "M Giron\n",
      "M Gonzalez\n",
      "M Granollers\n",
      "M Hamou\n",
      "M Ilhan\n",
      "M Janvier\n",
      "M Jaziri\n",
      "M Kecmanovic\n",
      "M Klizan\n",
      "M Krueger\n",
      "M Kukushkin\n",
      "M Llodra\n",
      "M Marterer\n",
      "M Matosevic\n",
      "M McDonald\n",
      "M Mecir\n",
      "M Mmoh\n",
      "M Polmans\n",
      "M Przysiezny\n",
      "M Purcell\n",
      "M Raonic\n",
      "M Russell\n",
      "M Safwat\n",
      "M Teixeira\n",
      "M Tomas Barrios Vera\n",
      "M Torpegaard\n",
      "M Trungelliti\n",
      "M Vilella Martinez\n",
      "M Willis\n",
      "M Ymer\n",
      "M Youzhny\n",
      "M Zverev\n",
      "N Almagro\n",
      "N Basilashvili\n",
      "N Davydenko\n",
      "N Devilder\n",
      "N Djokovic\n",
      "N Gombos\n",
      "N Jarry\n",
      "N Kicker\n",
      "N Kyrgios\n",
      "N Mahut\n",
      "N Milojevic\n",
      "N Rubin\n",
      "O Golding\n",
      "O Jasika\n",
      "O Otte\n",
      "O Rochus\n",
      "P Andujar\n",
      "P Carreno Busta\n",
      "P Cuevas\n",
      "P Gojowczyk\n",
      "P Gunneswaran\n",
      "P Herbert\n",
      "P Jubb\n",
      "P Kohlschreiber\n",
      "P Lorenzi\n",
      "P Luczak\n",
      "P Martinez\n",
      "P Mathieu\n",
      "P Petzschner\n",
      "P Polansky\n",
      "P Riba\n",
      "P Sousa\n",
      "P Starace\n",
      "Q Halys\n",
      "R Albot\n",
      "R Bautista Agut\n",
      "R Bemelmans\n",
      "R Berankis\n",
      "R Carballes Baena\n",
      "R Dutra Silva\n",
      "R Federer\n",
      "R Gasquet\n",
      "R Ginepri\n",
      "R Haase\n",
      "R Harrison\n",
      "R Jouan\n",
      "R Kendrick\n",
      "R Machado\n",
      "R Mello\n",
      "R Molleker\n",
      "R Nadal\n",
      "R Olivo\n",
      "R Opelka\n",
      "R Ram\n",
      "R Ramirez Hidalgo\n",
      "R Safiullin\n",
      "R Schuettler\n",
      "R Soderling\n",
      "R Stepanek\n",
      "R Sweeting\n",
      "R Williams\n",
      "S Bolelli\n",
      "S Bubka\n",
      "S Caruso\n",
      "S Darcis\n",
      "S Devvarman\n",
      "S Diez\n",
      "S Giraldo\n",
      "S Greul\n",
      "S Groth\n",
      "S Johnson\n",
      "S Korda\n",
      "S Kwon\n",
      "S Nagal\n",
      "S Napolitano\n",
      "S Ofner\n",
      "S Querrey\n",
      "S Riffice\n",
      "S Robert\n",
      "S Stakhovsky\n",
      "S Travaglia\n",
      "S Tsitsipas\n",
      "S Wawrinka\n",
      "T Bellucci\n",
      "T Berdych\n",
      "T Daniel\n",
      "T De Bakker\n",
      "T Fabbiano\n",
      "T Fritz\n",
      "T Gabashvili\n",
      "T Griekspoor\n",
      "T Haas\n",
      "T Ito\n",
      "T Kamke\n",
      "T Kokkinakis\n",
      "T Lamasine\n",
      "T Machac\n",
      "T Monteiro\n",
      "T Paul\n",
      "T Puetz\n",
      "T Robredo\n",
      "T Sandgren\n",
      "T Schoorel\n",
      "T Seyboth Wild\n",
      "T Smyczek\n",
      "T Son Kwiatkowski\n",
      "U Blanch\n",
      "U Humbert\n",
      "V Estrella Burgos\n",
      "V Hanescu\n",
      "V Millot\n",
      "V Pospisil\n",
      "V Safranek\n",
      "V Troicki\n",
      "W Odesnik\n",
      "X Malisse\n",
      "Y Bhambri\n",
      "Y Hanfmann\n",
      "Y Lu\n",
      "Y Maden\n",
      "Y Nishioka\n",
      "Y Sugita\n",
      "Y Uchiyama\n",
      "Z Li\n",
      "Z Svajda\n",
      "Z Zhang\n",
      "448\n"
     ]
    }
   ],
   "source": [
    "print('\\n'.join(sorted(unique_players)))\n",
    "print(len(unique_players))"
   ],
   "metadata": {
    "collapsed": false,
    "pycharm": {
     "name": "#%%\n"
    }
   }
  },
  {
   "cell_type": "code",
   "execution_count": 13,
   "metadata": {
    "pycharm": {
     "name": "#%%\n"
    }
   },
   "outputs": [],
   "source": [
    "for row in counts_by_bp.to_dict(\"records\"):\n",
    "  if row[\"P1BreakPoint\"]:\n",
    "    if row[\"PointWinner\"] == 1:\n",
    "      player_bps_dict[row[\"player1_new\"]][\"receive_break_won\"] += row[\"count\"]\n",
    "      player_bps_dict[row[\"player1_new\"]][\"receive_break_faced\"] += row[\"count\"]\n",
    "      player_bps_dict[row[\"player2_new\"]][\"serve_break_faced\"] += row[\"count\"]\n",
    "    else:\n",
    "      player_bps_dict[row[\"player2_new\"]][\"serve_break_won\"] += row[\"count\"]\n",
    "      player_bps_dict[row[\"player1_new\"]][\"receive_break_faced\"] += row[\"count\"]\n",
    "      player_bps_dict[row[\"player2_new\"]][\"serve_break_faced\"] += row[\"count\"]\n",
    "  elif row[\"P2BreakPoint\"]:\n",
    "    if row[\"PointWinner\"] == 1:\n",
    "      player_bps_dict[row[\"player1_new\"]][\"serve_break_won\"] += row[\"count\"]\n",
    "      player_bps_dict[row[\"player1_new\"]][\"serve_break_faced\"] += row[\"count\"]\n",
    "      player_bps_dict[row[\"player2_new\"]][\"receive_break_faced\"] += row[\"count\"]\n",
    "    else:\n",
    "      player_bps_dict[row[\"player2_new\"]][\"receive_break_won\"] += row[\"count\"]\n",
    "      player_bps_dict[row[\"player1_new\"]][\"serve_break_faced\"] += row[\"count\"]\n",
    "      player_bps_dict[row[\"player2_new\"]][\"receive_break_faced\"] += row[\"count\"]\n",
    "  else:\n",
    "    if row[\"PointWinner\"] == 1:\n",
    "      if row[\"PointServer\"] == 1:\n",
    "        player_bps_dict[row[\"player1_new\"]][\"serve_nobreak_won\"] += row[\"count\"]\n",
    "        player_bps_dict[row[\"player1_new\"]][\"serve_nobreak_faced\"] += row[\"count\"]\n",
    "        player_bps_dict[row[\"player2_new\"]][\"receive_nobreak_faced\"] += row[\"count\"]\n",
    "      else:\n",
    "        player_bps_dict[row[\"player1_new\"]][\"receive_nobreak_won\"] += row[\"count\"]\n",
    "        player_bps_dict[row[\"player1_new\"]][\"receive_nobreak_faced\"] += row[\"count\"]\n",
    "        player_bps_dict[row[\"player2_new\"]][\"serve_nobreak_faced\"] += row[\"count\"]\n",
    "    else:\n",
    "      if row[\"PointServer\"] == 1:\n",
    "        player_bps_dict[row[\"player2_new\"]][\"receive_nobreak_won\"] += row[\"count\"]\n",
    "        player_bps_dict[row[\"player1_new\"]][\"serve_nobreak_faced\"] += row[\"count\"]\n",
    "        player_bps_dict[row[\"player2_new\"]][\"receive_nobreak_faced\"] += row[\"count\"]\n",
    "      else:\n",
    "        player_bps_dict[row[\"player2_new\"]][\"serve_nobreak_won\"] += row[\"count\"]\n",
    "        player_bps_dict[row[\"player1_new\"]][\"receive_nobreak_faced\"] += row[\"count\"]\n",
    "        player_bps_dict[row[\"player2_new\"]][\"serve_nobreak_faced\"] += row[\"count\"]"
   ]
  },
  {
   "cell_type": "code",
   "execution_count": 14,
   "metadata": {
    "pycharm": {
     "name": "#%%\n"
    }
   },
   "outputs": [],
   "source": [
    "player_bps = pd.DataFrame.from_dict(player_bps_dict, orient=\"index\")"
   ]
  },
  {
   "cell_type": "code",
   "execution_count": 15,
   "metadata": {
    "pycharm": {
     "name": "#%%\n"
    }
   },
   "outputs": [
    {
     "data": {
      "text/plain": "0.22083842083842084"
     },
     "execution_count": 15,
     "metadata": {},
     "output_type": "execute_result"
    }
   ],
   "source": [
    "18991 / 85995"
   ]
  },
  {
   "cell_type": "code",
   "execution_count": 16,
   "metadata": {
    "pycharm": {
     "name": "#%%\n"
    }
   },
   "outputs": [
    {
     "data": {
      "text/plain": "receive_nobreak_won      333804\nreceive_nobreak_faced    929239\nserve_nobreak_won        595435\nserve_nobreak_faced      929239\nreceive_break_won         34558\nreceive_break_faced       86689\nserve_break_won           52131\nserve_break_faced         86689\ndtype: int64"
     },
     "execution_count": 16,
     "metadata": {},
     "output_type": "execute_result"
    }
   ],
   "source": [
    "player_bps.aggregate(\"sum\")"
   ]
  },
  {
   "cell_type": "code",
   "execution_count": 17,
   "metadata": {
    "pycharm": {
     "name": "#%%\n"
    }
   },
   "outputs": [
    {
     "data": {
      "text/plain": "              receive_nobreak_won  receive_nobreak_faced  serve_nobreak_won  \\\nC Niland                        6                     30                  7   \nC Altamirano                   15                     62                 30   \nC Lindell                      12                     62                 30   \nB Mott                         23                     81                 43   \nM Crugnola                     18                     64                 35   \n...                           ...                    ...                ...   \nS Wawrinka                   5508                  14784              10144   \nA Murray                     6711                  16068              10578   \nR Federer                    7417                  18504              12585   \nR Nadal                      7332                  17095              11621   \nN Djokovic                  10370                  24036              16195   \n\n              serve_nobreak_faced  receive_break_won  receive_break_faced  \\\nC Niland                       24                  0                    0   \nC Altamirano                   62                  0                    0   \nC Lindell                      62                  0                    1   \nB Mott                         70                  1                    1   \nM Crugnola                     70                  1                    1   \n...                           ...                ...                  ...   \nS Wawrinka                  15097                580                 1478   \nA Murray                    15950                871                 1966   \nR Federer                   17600                864                 2119   \nR Nadal                     16894               1086                 2314   \nN Djokovic                  23376               1455                 3245   \n\n              serve_break_won  serve_break_faced  \nC Niland                    1                  6  \nC Altamirano                5                 12  \nC Lindell                   7                 13  \nB Mott                      3                  8  \nM Crugnola                  4                 11  \n...                       ...                ...  \nS Wawrinka                734               1094  \nA Murray                  745               1203  \nR Federer                 622                933  \nR Nadal                   814               1212  \nN Djokovic               1032               1571  \n\n[448 rows x 8 columns]",
      "text/html": "<div>\n<style scoped>\n    .dataframe tbody tr th:only-of-type {\n        vertical-align: middle;\n    }\n\n    .dataframe tbody tr th {\n        vertical-align: top;\n    }\n\n    .dataframe thead th {\n        text-align: right;\n    }\n</style>\n<table border=\"1\" class=\"dataframe\">\n  <thead>\n    <tr style=\"text-align: right;\">\n      <th></th>\n      <th>receive_nobreak_won</th>\n      <th>receive_nobreak_faced</th>\n      <th>serve_nobreak_won</th>\n      <th>serve_nobreak_faced</th>\n      <th>receive_break_won</th>\n      <th>receive_break_faced</th>\n      <th>serve_break_won</th>\n      <th>serve_break_faced</th>\n    </tr>\n  </thead>\n  <tbody>\n    <tr>\n      <th>C Niland</th>\n      <td>6</td>\n      <td>30</td>\n      <td>7</td>\n      <td>24</td>\n      <td>0</td>\n      <td>0</td>\n      <td>1</td>\n      <td>6</td>\n    </tr>\n    <tr>\n      <th>C Altamirano</th>\n      <td>15</td>\n      <td>62</td>\n      <td>30</td>\n      <td>62</td>\n      <td>0</td>\n      <td>0</td>\n      <td>5</td>\n      <td>12</td>\n    </tr>\n    <tr>\n      <th>C Lindell</th>\n      <td>12</td>\n      <td>62</td>\n      <td>30</td>\n      <td>62</td>\n      <td>0</td>\n      <td>1</td>\n      <td>7</td>\n      <td>13</td>\n    </tr>\n    <tr>\n      <th>B Mott</th>\n      <td>23</td>\n      <td>81</td>\n      <td>43</td>\n      <td>70</td>\n      <td>1</td>\n      <td>1</td>\n      <td>3</td>\n      <td>8</td>\n    </tr>\n    <tr>\n      <th>M Crugnola</th>\n      <td>18</td>\n      <td>64</td>\n      <td>35</td>\n      <td>70</td>\n      <td>1</td>\n      <td>1</td>\n      <td>4</td>\n      <td>11</td>\n    </tr>\n    <tr>\n      <th>...</th>\n      <td>...</td>\n      <td>...</td>\n      <td>...</td>\n      <td>...</td>\n      <td>...</td>\n      <td>...</td>\n      <td>...</td>\n      <td>...</td>\n    </tr>\n    <tr>\n      <th>S Wawrinka</th>\n      <td>5508</td>\n      <td>14784</td>\n      <td>10144</td>\n      <td>15097</td>\n      <td>580</td>\n      <td>1478</td>\n      <td>734</td>\n      <td>1094</td>\n    </tr>\n    <tr>\n      <th>A Murray</th>\n      <td>6711</td>\n      <td>16068</td>\n      <td>10578</td>\n      <td>15950</td>\n      <td>871</td>\n      <td>1966</td>\n      <td>745</td>\n      <td>1203</td>\n    </tr>\n    <tr>\n      <th>R Federer</th>\n      <td>7417</td>\n      <td>18504</td>\n      <td>12585</td>\n      <td>17600</td>\n      <td>864</td>\n      <td>2119</td>\n      <td>622</td>\n      <td>933</td>\n    </tr>\n    <tr>\n      <th>R Nadal</th>\n      <td>7332</td>\n      <td>17095</td>\n      <td>11621</td>\n      <td>16894</td>\n      <td>1086</td>\n      <td>2314</td>\n      <td>814</td>\n      <td>1212</td>\n    </tr>\n    <tr>\n      <th>N Djokovic</th>\n      <td>10370</td>\n      <td>24036</td>\n      <td>16195</td>\n      <td>23376</td>\n      <td>1455</td>\n      <td>3245</td>\n      <td>1032</td>\n      <td>1571</td>\n    </tr>\n  </tbody>\n</table>\n<p>448 rows × 8 columns</p>\n</div>"
     },
     "execution_count": 17,
     "metadata": {},
     "output_type": "execute_result"
    }
   ],
   "source": [
    "player_bps.sort_values(\"receive_break_faced\")"
   ]
  },
  {
   "cell_type": "code",
   "execution_count": 18,
   "metadata": {
    "pycharm": {
     "name": "#%%\n"
    }
   },
   "outputs": [],
   "source": [
    "# laplace smoothing assuming 64% serve win pct over 100 ghost points. assume 60% for break points\n",
    "player_bps[\"serve_nobreak_pct\"] = (player_bps[\"serve_nobreak_won\"] + 64) / (player_bps[\"serve_nobreak_faced\"] + 100)\n",
    "player_bps[\"serve_break_pct\"] = (player_bps[\"serve_break_won\"] + 60) / (player_bps[\"serve_break_faced\"] + 100)\n",
    "player_bps[\"receive_nobreak_pct\"] = (player_bps[\"receive_nobreak_won\"] + 36) / (player_bps[\"receive_nobreak_faced\"] + 100)\n",
    "player_bps[\"receive_break_pct\"] = (player_bps[\"receive_break_won\"] + 40) / (player_bps[\"receive_break_faced\"] + 100)\n",
    "\n",
    "player_bps[\"serve_choke_pct\"] = player_bps[\"serve_nobreak_pct\"] - player_bps[\"serve_break_pct\"] - 0.02 # correcting for 4% difference in averages\n",
    "player_bps[\"receive_choke_pct\"] = player_bps[\"receive_nobreak_pct\"] - player_bps[\"receive_break_pct\"] + 0.04\n",
    "player_bps[\"choke_pct\"] = (player_bps[\"serve_choke_pct\"] + player_bps[\"receive_choke_pct\"]) / 2"
   ]
  },
  {
   "cell_type": "code",
   "execution_count": 19,
   "metadata": {
    "pycharm": {
     "name": "#%%\n"
    }
   },
   "outputs": [
    {
     "data": {
      "text/plain": "receive_nobreak_won       745.098214\nreceive_nobreak_faced    2074.194196\nserve_nobreak_won        1329.095982\nserve_nobreak_faced      2074.194196\nreceive_break_won          77.138393\nreceive_break_faced       193.502232\nserve_break_won           116.363839\nserve_break_faced         193.502232\nserve_nobreak_pct           0.616931\nserve_break_pct             0.593171\nreceive_nobreak_pct         0.342856\nreceive_break_pct           0.393387\nserve_choke_pct             0.003760\nreceive_choke_pct          -0.010531\nchoke_pct                  -0.003386\ndtype: float64"
     },
     "execution_count": 19,
     "metadata": {},
     "output_type": "execute_result"
    }
   ],
   "source": [
    "player_bps.agg(\"mean\")"
   ]
  },
  {
   "cell_type": "code",
   "execution_count": 49,
   "metadata": {
    "pycharm": {
     "name": "#%%\n"
    }
   },
   "outputs": [],
   "source": [
    "chokiest = player_bps[player_bps[\"receive_break_faced\"].ge(100)].sort_values(\"choke_pct\")\n",
    "all = player_bps.sort_values(\"choke_pct\")"
   ]
  },
  {
   "cell_type": "code",
   "execution_count": 50,
   "metadata": {
    "pycharm": {
     "name": "#%%\n"
    }
   },
   "outputs": [],
   "source": [
    "chokiest.to_csv(\"../data/chokiest.csv\")\n",
    "all.to_csv(\"../data/all.csv\")"
   ]
  },
  {
   "cell_type": "code",
   "execution_count": 51,
   "outputs": [],
   "source": [
    "import seaborn as sns\n",
    "import plotly.express as px\n",
    "import plotly.graph_objects as go\n",
    "import plotly.io as pio"
   ],
   "metadata": {
    "collapsed": false,
    "pycharm": {
     "name": "#%%\n"
    }
   }
  },
  {
   "cell_type": "code",
   "execution_count": 64,
   "outputs": [],
   "source": [
    "df = pd.read_csv(f\"../data/chokiest - Copy.csv\")"
   ],
   "metadata": {
    "collapsed": false,
    "pycharm": {
     "name": "#%%\n"
    }
   }
  },
  {
   "cell_type": "code",
   "execution_count": 65,
   "outputs": [
    {
     "data": {
      "text/plain": "             name  receive_nobreak_won  receive_nobreak_faced  \\\n0         D Brown                  622                   2052   \n1        M Jaziri                  750                   2203   \n2    T Kokkinakis                  573                   1784   \n3         M Giron                  521                   1599   \n4     P Gojowczyk                  645                   1838   \n..            ...                  ...                    ...   \n191  P Petzschner                  406                   1157   \n192     I Ivashka                  488                   1302   \n193  E Ruusuvuori                  397                    974   \n194        M Fish                  986                   2519   \n195   K Majchrzak                  389                   1146   \n\n     serve_nobreak_won  serve_nobreak_faced  receive_break_won  \\\n0                 1359                 2176                 45   \n1                 1301                 2261                 65   \n2                 1170                 1881                 46   \n3                 1027                 1706                 64   \n4                 1105                 1878                 67   \n..                 ...                  ...                ...   \n191                684                 1100                 33   \n192                818                 1262                 47   \n193                569                  941                 51   \n194               1622                 2386                 98   \n195                679                 1094                 30   \n\n     receive_break_faced  serve_break_won  serve_break_faced  \\\n0                    110              129                204   \n1                    171              199                315   \n2                    117              130                198   \n3                    143              123                213   \n4                    163              151                245   \n..                   ...              ...                ...   \n191                  108               59                112   \n192                  130               62                113   \n193                  138               61                117   \n194                  265               98                157   \n195                  109               66                129   \n\n     serve_nobreak_pct  serve_break_pct  receive_nobreak_pct  \\\n0             0.625220         0.621711             0.305762   \n1             0.578145         0.624096             0.341294   \n2             0.622918         0.637584             0.323248   \n3             0.604097         0.584665             0.327840   \n4             0.591001         0.611594             0.351393   \n..                 ...              ...                  ...   \n191           0.623333         0.561321             0.351631   \n192           0.647577         0.572770             0.373752   \n193           0.608069         0.557604             0.403166   \n194           0.678198         0.614786             0.390225   \n195           0.622278         0.550218             0.341091   \n\n     receive_break_pct  serve_choke_pct  receive_choke_pct  choke_pct  \n0             0.404762        -0.016491          -0.059000  -0.037745  \n1             0.387454        -0.065952          -0.006160  -0.036056  \n2             0.396313        -0.034666          -0.033065  -0.033866  \n3             0.427984        -0.000567          -0.060144  -0.030355  \n4             0.406844        -0.040593          -0.015451  -0.028022  \n..                 ...              ...                ...        ...  \n191           0.350962         0.042013           0.040669   0.041341  \n192           0.378261         0.054807           0.035491   0.045149  \n193           0.382353         0.030465           0.060813   0.045639  \n194           0.378082         0.043412           0.052143   0.047778  \n195           0.334928         0.052060           0.046163   0.049111  \n\n[196 rows x 16 columns]",
      "text/html": "<div>\n<style scoped>\n    .dataframe tbody tr th:only-of-type {\n        vertical-align: middle;\n    }\n\n    .dataframe tbody tr th {\n        vertical-align: top;\n    }\n\n    .dataframe thead th {\n        text-align: right;\n    }\n</style>\n<table border=\"1\" class=\"dataframe\">\n  <thead>\n    <tr style=\"text-align: right;\">\n      <th></th>\n      <th>name</th>\n      <th>receive_nobreak_won</th>\n      <th>receive_nobreak_faced</th>\n      <th>serve_nobreak_won</th>\n      <th>serve_nobreak_faced</th>\n      <th>receive_break_won</th>\n      <th>receive_break_faced</th>\n      <th>serve_break_won</th>\n      <th>serve_break_faced</th>\n      <th>serve_nobreak_pct</th>\n      <th>serve_break_pct</th>\n      <th>receive_nobreak_pct</th>\n      <th>receive_break_pct</th>\n      <th>serve_choke_pct</th>\n      <th>receive_choke_pct</th>\n      <th>choke_pct</th>\n    </tr>\n  </thead>\n  <tbody>\n    <tr>\n      <th>0</th>\n      <td>D Brown</td>\n      <td>622</td>\n      <td>2052</td>\n      <td>1359</td>\n      <td>2176</td>\n      <td>45</td>\n      <td>110</td>\n      <td>129</td>\n      <td>204</td>\n      <td>0.625220</td>\n      <td>0.621711</td>\n      <td>0.305762</td>\n      <td>0.404762</td>\n      <td>-0.016491</td>\n      <td>-0.059000</td>\n      <td>-0.037745</td>\n    </tr>\n    <tr>\n      <th>1</th>\n      <td>M Jaziri</td>\n      <td>750</td>\n      <td>2203</td>\n      <td>1301</td>\n      <td>2261</td>\n      <td>65</td>\n      <td>171</td>\n      <td>199</td>\n      <td>315</td>\n      <td>0.578145</td>\n      <td>0.624096</td>\n      <td>0.341294</td>\n      <td>0.387454</td>\n      <td>-0.065952</td>\n      <td>-0.006160</td>\n      <td>-0.036056</td>\n    </tr>\n    <tr>\n      <th>2</th>\n      <td>T Kokkinakis</td>\n      <td>573</td>\n      <td>1784</td>\n      <td>1170</td>\n      <td>1881</td>\n      <td>46</td>\n      <td>117</td>\n      <td>130</td>\n      <td>198</td>\n      <td>0.622918</td>\n      <td>0.637584</td>\n      <td>0.323248</td>\n      <td>0.396313</td>\n      <td>-0.034666</td>\n      <td>-0.033065</td>\n      <td>-0.033866</td>\n    </tr>\n    <tr>\n      <th>3</th>\n      <td>M Giron</td>\n      <td>521</td>\n      <td>1599</td>\n      <td>1027</td>\n      <td>1706</td>\n      <td>64</td>\n      <td>143</td>\n      <td>123</td>\n      <td>213</td>\n      <td>0.604097</td>\n      <td>0.584665</td>\n      <td>0.327840</td>\n      <td>0.427984</td>\n      <td>-0.000567</td>\n      <td>-0.060144</td>\n      <td>-0.030355</td>\n    </tr>\n    <tr>\n      <th>4</th>\n      <td>P Gojowczyk</td>\n      <td>645</td>\n      <td>1838</td>\n      <td>1105</td>\n      <td>1878</td>\n      <td>67</td>\n      <td>163</td>\n      <td>151</td>\n      <td>245</td>\n      <td>0.591001</td>\n      <td>0.611594</td>\n      <td>0.351393</td>\n      <td>0.406844</td>\n      <td>-0.040593</td>\n      <td>-0.015451</td>\n      <td>-0.028022</td>\n    </tr>\n    <tr>\n      <th>...</th>\n      <td>...</td>\n      <td>...</td>\n      <td>...</td>\n      <td>...</td>\n      <td>...</td>\n      <td>...</td>\n      <td>...</td>\n      <td>...</td>\n      <td>...</td>\n      <td>...</td>\n      <td>...</td>\n      <td>...</td>\n      <td>...</td>\n      <td>...</td>\n      <td>...</td>\n      <td>...</td>\n    </tr>\n    <tr>\n      <th>191</th>\n      <td>P Petzschner</td>\n      <td>406</td>\n      <td>1157</td>\n      <td>684</td>\n      <td>1100</td>\n      <td>33</td>\n      <td>108</td>\n      <td>59</td>\n      <td>112</td>\n      <td>0.623333</td>\n      <td>0.561321</td>\n      <td>0.351631</td>\n      <td>0.350962</td>\n      <td>0.042013</td>\n      <td>0.040669</td>\n      <td>0.041341</td>\n    </tr>\n    <tr>\n      <th>192</th>\n      <td>I Ivashka</td>\n      <td>488</td>\n      <td>1302</td>\n      <td>818</td>\n      <td>1262</td>\n      <td>47</td>\n      <td>130</td>\n      <td>62</td>\n      <td>113</td>\n      <td>0.647577</td>\n      <td>0.572770</td>\n      <td>0.373752</td>\n      <td>0.378261</td>\n      <td>0.054807</td>\n      <td>0.035491</td>\n      <td>0.045149</td>\n    </tr>\n    <tr>\n      <th>193</th>\n      <td>E Ruusuvuori</td>\n      <td>397</td>\n      <td>974</td>\n      <td>569</td>\n      <td>941</td>\n      <td>51</td>\n      <td>138</td>\n      <td>61</td>\n      <td>117</td>\n      <td>0.608069</td>\n      <td>0.557604</td>\n      <td>0.403166</td>\n      <td>0.382353</td>\n      <td>0.030465</td>\n      <td>0.060813</td>\n      <td>0.045639</td>\n    </tr>\n    <tr>\n      <th>194</th>\n      <td>M Fish</td>\n      <td>986</td>\n      <td>2519</td>\n      <td>1622</td>\n      <td>2386</td>\n      <td>98</td>\n      <td>265</td>\n      <td>98</td>\n      <td>157</td>\n      <td>0.678198</td>\n      <td>0.614786</td>\n      <td>0.390225</td>\n      <td>0.378082</td>\n      <td>0.043412</td>\n      <td>0.052143</td>\n      <td>0.047778</td>\n    </tr>\n    <tr>\n      <th>195</th>\n      <td>K Majchrzak</td>\n      <td>389</td>\n      <td>1146</td>\n      <td>679</td>\n      <td>1094</td>\n      <td>30</td>\n      <td>109</td>\n      <td>66</td>\n      <td>129</td>\n      <td>0.622278</td>\n      <td>0.550218</td>\n      <td>0.341091</td>\n      <td>0.334928</td>\n      <td>0.052060</td>\n      <td>0.046163</td>\n      <td>0.049111</td>\n    </tr>\n  </tbody>\n</table>\n<p>196 rows × 16 columns</p>\n</div>"
     },
     "execution_count": 65,
     "metadata": {},
     "output_type": "execute_result"
    }
   ],
   "source": [
    "df"
   ],
   "metadata": {
    "collapsed": false,
    "pycharm": {
     "name": "#%%\n"
    }
   }
  },
  {
   "cell_type": "code",
   "execution_count": 69,
   "outputs": [
    {
     "data": {
      "application/vnd.plotly.v1+json": {
       "config": {
        "plotlyServerURL": "https://plot.ly"
       },
       "data": [
        {
         "hovertemplate": "<b>%{hovertext}</b><br><br>serve_choke_pct=%{x}<br>receive_choke_pct=%{y}<extra></extra>",
         "hovertext": [
          "D Brown",
          "M Jaziri",
          "T Kokkinakis",
          "M Giron",
          "P Gojowczyk",
          "D Koepfer",
          "J Vesely",
          "L Lacko",
          "J Duckworth",
          "V Troicki",
          "C Berlocq",
          "B Tomic",
          "M Kukushkin",
          "J Millman",
          "F Bagnis",
          "L Rosol",
          "L Kubot",
          "D Young",
          "M Matosevic",
          "I Karlovic",
          "K Khachanov",
          "P Kohlschreiber",
          "H Chung",
          "J Donaldson",
          "J Nieminen",
          "G Simon",
          "M McDonald",
          "D Shapovalov",
          "F Verdasco",
          "P Martinez",
          "D Lajovic",
          "Q Halys",
          "M Berrettini",
          "B Klahn",
          "Y Sugita",
          "F Delbonis",
          "S Johnson",
          "D Evans",
          "S Darcis",
          "V Pospisil",
          "S Giraldo",
          "R Harrison",
          "T Gabashvili",
          "N Mahut",
          "J Wilfried Tsonga",
          "J Benneteau",
          "P Lorenzi",
          "A Popyrin",
          "M Zverev",
          "R Soderling",
          "H Laaksonen",
          "C Norrie",
          "K Edmund",
          "A De Minaur",
          "T Sandgren",
          "I Dodig",
          "D Kudla",
          "T Smyczek",
          "N Gombos",
          "M Youzhny",
          "A Bublik",
          "J Sinner",
          "M Polmans",
          "P Cuevas",
          "B Coric",
          "S Caruso",
          "R Nadal",
          "T Berdych",
          "J Melzer",
          "T Ito",
          "P Carreno Busta",
          "T Bellucci",
          "M Russell",
          "T Fritz",
          "R Bautista Agut",
          "B Van De Zandschulp",
          "S Wawrinka",
          "R Opelka",
          "B Paire",
          "F Lopez",
          "A Roddick",
          "N Basilashvili",
          "R Dutra Silva",
          "P Andujar",
          "T Paul",
          "L Djere",
          "F Tiafoe",
          "G Garcia-Lopez",
          "A Mannarino",
          "J Sock",
          "M Klizan",
          "G Pella",
          "D Sela",
          "J Janowicz",
          "S Stakhovsky",
          "A Ramos-Vinolas",
          "F Mayer",
          "T Haas",
          "Y Lu",
          "N Kyrgios",
          "E Gulbis",
          "T Monteiro",
          "C Alcaraz",
          "R Stepanek",
          "E Roger-Vasselin",
          "A Davidovich Fokina",
          "A Bedene",
          "D Dzumhur",
          "F Krajinovic",
          "N Almagro",
          "C Ruud",
          "T Fabbiano",
          "A Dolgopolov",
          "G Monfils",
          "F Fognini",
          "M Raonic",
          "J Isner",
          "A Seppi",
          "M Kecmanovic",
          "L Sonego",
          "M Ymer",
          "T Robredo",
          "S Travaglia",
          "S Robert",
          "J Ignacio Chela",
          "D Schwartzman",
          "Y Nishioka",
          "J Londero",
          "S Bolelli",
          "B Becker",
          "M Granollers",
          "M Baghdatis",
          "L Mayer",
          "J Tipsarevic",
          "K Nishikori",
          "A Karatsev",
          "G Muller",
          "J Munar",
          "C Moutet",
          "R Haase",
          "G Dimitrov",
          "P Herbert",
          "E Donskoy",
          "C Garin",
          "A Falla",
          "S Kwon",
          "J Struff",
          "R Bemelmans",
          "E Gerasimov",
          "D Nalbandian",
          "J Lennard Struff",
          "L Hewitt",
          "D Medvedev",
          "L Pouille",
          "T Daniel",
          "A Murray",
          "J Thompson",
          "N Djokovic",
          "H Hurkacz",
          "S Querrey",
          "A Rublev",
          "P Mathieu",
          "B Kavcic",
          "A Zverev",
          "A Kuznetsov",
          "R Carballes Baena",
          "R Berankis",
          "J Chardy",
          "K Anderson",
          "D Goffin",
          "D Thiem",
          "U Humbert",
          "M Cilic",
          "G Barrere",
          "S Tsitsipas",
          "D Istomin",
          "R Gasquet",
          "T Kamke",
          "M Cecchinato",
          "D Ferrer",
          "L Harris",
          "R Federer",
          "F Auger Aliassime",
          "J Sousa",
          "S Korda",
          "J Martin Del Potro",
          "J Monaco",
          "M Fucsovics",
          "M Ebden",
          "R Albot",
          "A Bolt",
          "P Petzschner",
          "I Ivashka",
          "E Ruusuvuori",
          "M Fish",
          "K Majchrzak"
         ],
         "legendgroup": "",
         "marker": {
          "color": "#636efa",
          "symbol": "circle"
         },
         "mode": "markers",
         "name": "",
         "orientation": "v",
         "selected": {
          "marker": {
           "color": "red"
          }
         },
         "selectedpoints": [
          66,
          76,
          152,
          155,
          157,
          170,
          172,
          181
         ],
         "showlegend": false,
         "type": "scatter",
         "unselected": {
          "marker": {
           "color": "blue"
          }
         },
         "x": [
          -0.0164908426602534,
          -0.0659515316666922,
          -0.0346661742933709,
          -5.670838065518E-4,
          -0.0405931917762048,
          -0.0316551022655859,
          -0.0082757372422078,
          0.0136441577222488,
          -0.0496191626226435,
          -0.0272379677837256,
          -0.017504128315956,
          -0.0408812056454718,
          -0.026941107010903,
          0.0091196718798498,
          -0.027669536154821,
          4.253305643911E-4,
          0.0133926825862309,
          -0.0150367932893746,
          -0.0407351828736235,
          0.0204222667108143,
          -0.0023551795147282,
          -0.0021079226049787,
          0.0062321492450504,
          0.0071991977929124,
          -0.0082556166053091,
          -0.004648503150874,
          0.0084317412561113,
          -0.0309977057690082,
          -0.0274853717569181,
          -0.042028485110056,
          -0.0055277669278312,
          -0.0076958792803249,
          0.0095697451356535,
          0.0214731978236165,
          0.0085805417292696,
          -0.0160103090741638,
          -0.0122309388549607,
          -0.0147215880571881,
          0.0055835014808784,
          0.0384714491857348,
          0.005418318130385,
          0.0081653534201041,
          -0.0338523474039429,
          0.0182988993727799,
          -0.0089302564367882,
          -0.0085706395623253,
          0.0027910002069596,
          -0.0033499195690347,
          -0.020485454220953,
          0.0402989010989011,
          0.0123466911853028,
          -0.0135104692790143,
          0.0107762672302306,
          -0.0086195281004539,
          0.0038196830021306,
          -4.428472061209E-4,
          0.0011124401913875,
          -0.0131723914850407,
          0.00298127694142,
          0.0089352427067285,
          -0.0043778054893511,
          0.0127490243279716,
          -0.0083275467863493,
          0.0198369262780963,
          0.0279120350898275,
          -0.0346303103454582,
          0.0014370853988639,
          -7.324218029411E-4,
          0.0255757008395771,
          -0.003969465648855,
          -0.0085844116261672,
          0.0128589168019868,
          -0.0162951214870265,
          0.006389723709892,
          0.0086983273331395,
          0.0048125336610829,
          -0.0132801027796965,
          0.0400256900072458,
          -0.0174951276846399,
          0.0078136773034605,
          0.0464735038738821,
          0.025701300112266,
          0.0120860475685501,
          -0.0013017091406488,
          0.0246312684365781,
          -0.0047706641184902,
          0.0351860201897165,
          0.0102159858658912,
          0.0334643115131755,
          0.0175989630444716,
          -0.0094061246935287,
          0.0051664077400123,
          0.0100298066058134,
          -0.0095116375357272,
          0.0251886160034128,
          0.0022841622258531,
          -0.0177599201128136,
          0.0078863636363636,
          0.0156293496004811,
          0.0381870594335096,
          0.0151254174347209,
          0.0431119855714051,
          0.0179490428738743,
          -0.0026328310864392,
          -0.0058423096009574,
          0.0031986523202379,
          0.028909845529233,
          0.020823271171673,
          0.0235509117586695,
          0.0120656530343238,
          -0.0090770564021087,
          0.0043849110451334,
          0.020700600150772,
          0.0121768758097666,
          0.0199298639471578,
          6.243248759265E-4,
          0.0087515944364222,
          0.0232764871816022,
          -0.0051849908160587,
          0.0568664153559512,
          0.0220827526366508,
          0.0022613380879717,
          0.0380419580419579,
          -4.10756435993E-4,
          -0.0118192623407495,
          0.0145706631359421,
          -0.0061284655119793,
          0.0453181313346354,
          0.0156893200164705,
          0.0633618672601723,
          -1.082744345156E-4,
          0.0060042372881356,
          0.026116137459421,
          0.0108369094278637,
          0.0244764956297561,
          0.0405879970347953,
          -0.0100344369484708,
          -0.0122547485555622,
          0.031247771836007,
          0.0300171749777635,
          -0.0087258723009432,
          0.0291835122218474,
          0.0071724767948321,
          0.0148997978051155,
          0.0220148792309072,
          0.034115011091574,
          0.0451194188177055,
          0.0329460838523174,
          -0.0067912389476261,
          -0.0085310472659869,
          0.0055179411240453,
          0.0174820075164937,
          0.0573149580908562,
          0.0219266978947923,
          0.0259856059613733,
          0.0252478942674824,
          0.0262496731025136,
          0.0190787581526402,
          0.040093673096769,
          0.0526626037226689,
          0.0353202792956891,
          0.0212365566510823,
          0.0409326472905947,
          0.0535143621584413,
          0.0637450769781596,
          0.0437071493578723,
          0.0168882127517859,
          0.0434742099702237,
          0.0207689025691037,
          0.0444552323830374,
          0.0148770357896852,
          0.0306339659975526,
          0.0209457576460968,
          0.0324099753858765,
          0.0655054666009909,
          0.0435183519086351,
          0.040991142622804,
          0.0205162655642501,
          0.0437720383344997,
          0.038028295471399,
          0.0843430253956569,
          0.034419796435154,
          0.0567957532663414,
          0.03986596691621,
          0.0348860403413994,
          0.05130243895683,
          0.0118977477123743,
          0.063056539984282,
          0.063935032478432,
          0.045761590209603,
          0.0640757056616087,
          0.0420125786163521,
          0.05480713945937,
          0.0304654776291849,
          0.043411916068505,
          0.0520597163400701
         ],
         "xaxis": "x",
         "y": [
          -0.0589998229775181,
          -0.006159910144477,
          -0.0330649564119874,
          -0.0601436332676931,
          -0.0154509176093891,
          -0.0232906790751781,
          -0.0449450549450549,
          -0.0666713293759576,
          -0.0033267602852244,
          -0.0168167898411661,
          -0.0244389912807393,
          0.0032448919790084,
          -0.0096311488967547,
          -0.0441366735089397,
          -0.0051567163695929,
          -0.0329134684903287,
          -0.0449999178347821,
          -0.0156200980207257,
          0.0110281396089845,
          -0.0489465373336341,
          -0.0225871909291427,
          -0.0224586430558963,
          -0.0303007918371685,
          -0.0294074271499645,
          -0.0135960591133004,
          -0.0170078694831119,
          -0.0300788189557086,
          0.0104318605743901,
          0.0074130333003871,
          0.0220895522388059,
          -0.0117729720530493,
          -0.0095789867378295,
          -0.0262405622019287,
          -0.0380324203465623,
          -0.0245663636760394,
          7.460312283714E-4,
          -0.0028524403661824,
          3.714983948088E-4,
          -0.0198480880041906,
          -0.0526640511635405,
          -0.0178936452629832,
          -0.0203190919418553,
          0.022005364795733,
          -0.0294523339096073,
          -0.0020196947503915,
          -8.436627903264E-4,
          -0.0109570640873631,
          -0.0026168043512892,
          0.0153685688496639,
          -0.0445648604269294,
          -0.0166067919009095,
          0.0099741792696421,
          -0.0142099030002256,
          0.0052676706171225,
          -0.0069922647425584,
          -0.0022295500478672,
          -0.0026403652545873,
          0.0120110815747796,
          -0.0038035853468433,
          -0.0092586523288277,
          0.0045961094625782,
          -0.0120634493883586,
          0.0092769030498388,
          -0.0181610434635548,
          -0.025797534863919,
          0.0367843225452076,
          0.0020509227817859,
          0.0046502806611149,
          -0.0215631877343836,
          0.0080365296803653,
          0.0129823427303223,
          -0.0084366152878263,
          0.0208923032627046,
          -0.0015847018782467,
          -0.0030690690814224,
          0.0011693089744849,
          0.0195781078787915,
          -0.0337033514665043,
          0.0238743730705675,
          1.814208450841E-4,
          -0.0381817886812045,
          -0.0173274263851619,
          -0.0032606941081517,
          0.0104294743453853,
          -0.0154029304029303,
          0.0144204985021667,
          -0.0253467128838876,
          -1.009594451701E-4,
          -0.0232901246711988,
          -0.0066477459273023,
          0.0207919492452417,
          0.0064024945500703,
          0.0015720545147936,
          0.0213633864760857,
          -0.0132178656182481,
          0.0100888960423927,
          0.0306407198356281,
          0.0059233815717852,
          -0.0016378515444905,
          -0.0241809298275244,
          2.49618829903E-4,
          -0.0266037099745379,
          -0.001346684203827,
          0.0194424449460135,
          0.0227631281599085,
          0.0142592592592592,
          -0.0114090390658648,
          -0.0031642552162329,
          -0.0056278763971071,
          0.006113147589256,
          0.0273529611749506,
          0.0143512734262373,
          -0.0017102679595985,
          0.0069538909289109,
          -1.633279039959E-4,
          0.0193373303562246,
          0.0112549862626309,
          -0.0030768671240337,
          0.0254530085299315,
          -0.036203068765579,
          -3.652684646761E-4,
          0.0196480643539467,
          -0.0150138016371597,
          0.0236343366778149,
          0.035541539799913,
          0.0096531105829223,
          0.0303890160183066,
          -0.0205516080009857,
          0.0121226688413416,
          -0.0346852158835027,
          0.0292668876533436,
          0.0232490377367747,
          0.003411729036729,
          0.0189603229881122,
          0.0055977129657832,
          -0.0103106235865977,
          0.0407741490125058,
          0.0435530621785881,
          2.174013314678E-4,
          0.002703045905277,
          0.0421127808361851,
          0.0044869008144862,
          0.0270875179340029,
          0.0196513361966117,
          0.0127627487425234,
          6.890147148076E-4,
          -0.0099881239608465,
          0.0027787676005293,
          0.0429757029757029,
          0.0447826086956521,
          0.0316412818325819,
          0.0198998130809287,
          -0.0190518764034745,
          0.0168801040066504,
          0.0153175863437872,
          0.0163570960864456,
          0.0164442013129102,
          0.0242044805395236,
          0.0038325984716534,
          -0.0084181067074857,
          0.0089991955063959,
          0.0258275606889925,
          0.00774214113132,
          -0.0046035095657738,
          -0.0132919005189671,
          0.0072868951827545,
          0.0342339836781706,
          0.007806757938131,
          0.0317020605658357,
          0.008340504884804,
          0.0385913191993249,
          0.0243315786977758,
          0.0340802258043295,
          0.0245072290754742,
          -0.0067742169268455,
          0.0161112451860488,
          0.0223234658685371,
          0.0440563304359544,
          0.0220306996135075,
          0.0279565589464806,
          -0.0176449224410435,
          0.0332220549080191,
          0.0127826780463997,
          0.0312883352832683,
          0.0363944261374551,
          0.0212134780124536,
          0.0606568300809138,
          0.0119189693897747,
          0.0122095448754742,
          0.0310856134157105,
          0.0151076912959126,
          0.0406693286824551,
          0.035490913601687,
          0.0608127943914996,
          0.052143085042393,
          0.0461632631118142
         ],
         "yaxis": "y"
        }
       ],
       "layout": {
        "legend": {
         "tracegroupgap": 0
        },
        "margin": {
         "t": 60
        },
        "template": {
         "data": {
          "bar": [
           {
            "error_x": {
             "color": "#f2f5fa"
            },
            "error_y": {
             "color": "#f2f5fa"
            },
            "marker": {
             "line": {
              "color": "rgb(17,17,17)",
              "width": 0.5
             }
            },
            "type": "bar"
           }
          ],
          "barpolar": [
           {
            "marker": {
             "line": {
              "color": "rgb(17,17,17)",
              "width": 0.5
             }
            },
            "type": "barpolar"
           }
          ],
          "carpet": [
           {
            "aaxis": {
             "endlinecolor": "#A2B1C6",
             "gridcolor": "#506784",
             "linecolor": "#506784",
             "minorgridcolor": "#506784",
             "startlinecolor": "#A2B1C6"
            },
            "baxis": {
             "endlinecolor": "#A2B1C6",
             "gridcolor": "#506784",
             "linecolor": "#506784",
             "minorgridcolor": "#506784",
             "startlinecolor": "#A2B1C6"
            },
            "type": "carpet"
           }
          ],
          "choropleth": [
           {
            "colorbar": {
             "outlinewidth": 0,
             "ticks": ""
            },
            "type": "choropleth"
           }
          ],
          "contour": [
           {
            "colorbar": {
             "outlinewidth": 0,
             "ticks": ""
            },
            "colorscale": [
             [
              0.0,
              "#0d0887"
             ],
             [
              0.1111111111111111,
              "#46039f"
             ],
             [
              0.2222222222222222,
              "#7201a8"
             ],
             [
              0.3333333333333333,
              "#9c179e"
             ],
             [
              0.4444444444444444,
              "#bd3786"
             ],
             [
              0.5555555555555556,
              "#d8576b"
             ],
             [
              0.6666666666666666,
              "#ed7953"
             ],
             [
              0.7777777777777778,
              "#fb9f3a"
             ],
             [
              0.8888888888888888,
              "#fdca26"
             ],
             [
              1.0,
              "#f0f921"
             ]
            ],
            "type": "contour"
           }
          ],
          "contourcarpet": [
           {
            "colorbar": {
             "outlinewidth": 0,
             "ticks": ""
            },
            "type": "contourcarpet"
           }
          ],
          "heatmap": [
           {
            "colorbar": {
             "outlinewidth": 0,
             "ticks": ""
            },
            "colorscale": [
             [
              0.0,
              "#0d0887"
             ],
             [
              0.1111111111111111,
              "#46039f"
             ],
             [
              0.2222222222222222,
              "#7201a8"
             ],
             [
              0.3333333333333333,
              "#9c179e"
             ],
             [
              0.4444444444444444,
              "#bd3786"
             ],
             [
              0.5555555555555556,
              "#d8576b"
             ],
             [
              0.6666666666666666,
              "#ed7953"
             ],
             [
              0.7777777777777778,
              "#fb9f3a"
             ],
             [
              0.8888888888888888,
              "#fdca26"
             ],
             [
              1.0,
              "#f0f921"
             ]
            ],
            "type": "heatmap"
           }
          ],
          "heatmapgl": [
           {
            "colorbar": {
             "outlinewidth": 0,
             "ticks": ""
            },
            "colorscale": [
             [
              0.0,
              "#0d0887"
             ],
             [
              0.1111111111111111,
              "#46039f"
             ],
             [
              0.2222222222222222,
              "#7201a8"
             ],
             [
              0.3333333333333333,
              "#9c179e"
             ],
             [
              0.4444444444444444,
              "#bd3786"
             ],
             [
              0.5555555555555556,
              "#d8576b"
             ],
             [
              0.6666666666666666,
              "#ed7953"
             ],
             [
              0.7777777777777778,
              "#fb9f3a"
             ],
             [
              0.8888888888888888,
              "#fdca26"
             ],
             [
              1.0,
              "#f0f921"
             ]
            ],
            "type": "heatmapgl"
           }
          ],
          "histogram": [
           {
            "marker": {
             "colorbar": {
              "outlinewidth": 0,
              "ticks": ""
             }
            },
            "type": "histogram"
           }
          ],
          "histogram2d": [
           {
            "colorbar": {
             "outlinewidth": 0,
             "ticks": ""
            },
            "colorscale": [
             [
              0.0,
              "#0d0887"
             ],
             [
              0.1111111111111111,
              "#46039f"
             ],
             [
              0.2222222222222222,
              "#7201a8"
             ],
             [
              0.3333333333333333,
              "#9c179e"
             ],
             [
              0.4444444444444444,
              "#bd3786"
             ],
             [
              0.5555555555555556,
              "#d8576b"
             ],
             [
              0.6666666666666666,
              "#ed7953"
             ],
             [
              0.7777777777777778,
              "#fb9f3a"
             ],
             [
              0.8888888888888888,
              "#fdca26"
             ],
             [
              1.0,
              "#f0f921"
             ]
            ],
            "type": "histogram2d"
           }
          ],
          "histogram2dcontour": [
           {
            "colorbar": {
             "outlinewidth": 0,
             "ticks": ""
            },
            "colorscale": [
             [
              0.0,
              "#0d0887"
             ],
             [
              0.1111111111111111,
              "#46039f"
             ],
             [
              0.2222222222222222,
              "#7201a8"
             ],
             [
              0.3333333333333333,
              "#9c179e"
             ],
             [
              0.4444444444444444,
              "#bd3786"
             ],
             [
              0.5555555555555556,
              "#d8576b"
             ],
             [
              0.6666666666666666,
              "#ed7953"
             ],
             [
              0.7777777777777778,
              "#fb9f3a"
             ],
             [
              0.8888888888888888,
              "#fdca26"
             ],
             [
              1.0,
              "#f0f921"
             ]
            ],
            "type": "histogram2dcontour"
           }
          ],
          "mesh3d": [
           {
            "colorbar": {
             "outlinewidth": 0,
             "ticks": ""
            },
            "type": "mesh3d"
           }
          ],
          "parcoords": [
           {
            "line": {
             "colorbar": {
              "outlinewidth": 0,
              "ticks": ""
             }
            },
            "type": "parcoords"
           }
          ],
          "pie": [
           {
            "automargin": true,
            "type": "pie"
           }
          ],
          "scatter": [
           {
            "marker": {
             "line": {
              "color": "#283442"
             }
            },
            "type": "scatter"
           }
          ],
          "scatter3d": [
           {
            "line": {
             "colorbar": {
              "outlinewidth": 0,
              "ticks": ""
             }
            },
            "marker": {
             "colorbar": {
              "outlinewidth": 0,
              "ticks": ""
             }
            },
            "type": "scatter3d"
           }
          ],
          "scattercarpet": [
           {
            "marker": {
             "colorbar": {
              "outlinewidth": 0,
              "ticks": ""
             }
            },
            "type": "scattercarpet"
           }
          ],
          "scattergeo": [
           {
            "marker": {
             "colorbar": {
              "outlinewidth": 0,
              "ticks": ""
             }
            },
            "type": "scattergeo"
           }
          ],
          "scattergl": [
           {
            "marker": {
             "line": {
              "color": "#283442"
             }
            },
            "type": "scattergl"
           }
          ],
          "scattermapbox": [
           {
            "marker": {
             "colorbar": {
              "outlinewidth": 0,
              "ticks": ""
             }
            },
            "type": "scattermapbox"
           }
          ],
          "scatterpolar": [
           {
            "marker": {
             "colorbar": {
              "outlinewidth": 0,
              "ticks": ""
             }
            },
            "type": "scatterpolar"
           }
          ],
          "scatterpolargl": [
           {
            "marker": {
             "colorbar": {
              "outlinewidth": 0,
              "ticks": ""
             }
            },
            "type": "scatterpolargl"
           }
          ],
          "scatterternary": [
           {
            "marker": {
             "colorbar": {
              "outlinewidth": 0,
              "ticks": ""
             }
            },
            "type": "scatterternary"
           }
          ],
          "surface": [
           {
            "colorbar": {
             "outlinewidth": 0,
             "ticks": ""
            },
            "colorscale": [
             [
              0.0,
              "#0d0887"
             ],
             [
              0.1111111111111111,
              "#46039f"
             ],
             [
              0.2222222222222222,
              "#7201a8"
             ],
             [
              0.3333333333333333,
              "#9c179e"
             ],
             [
              0.4444444444444444,
              "#bd3786"
             ],
             [
              0.5555555555555556,
              "#d8576b"
             ],
             [
              0.6666666666666666,
              "#ed7953"
             ],
             [
              0.7777777777777778,
              "#fb9f3a"
             ],
             [
              0.8888888888888888,
              "#fdca26"
             ],
             [
              1.0,
              "#f0f921"
             ]
            ],
            "type": "surface"
           }
          ],
          "table": [
           {
            "cells": {
             "fill": {
              "color": "#506784"
             },
             "line": {
              "color": "rgb(17,17,17)"
             }
            },
            "header": {
             "fill": {
              "color": "#2a3f5f"
             },
             "line": {
              "color": "rgb(17,17,17)"
             }
            },
            "type": "table"
           }
          ]
         },
         "layout": {
          "annotationdefaults": {
           "arrowcolor": "#f2f5fa",
           "arrowhead": 0,
           "arrowwidth": 1
          },
          "autotypenumbers": "strict",
          "coloraxis": {
           "colorbar": {
            "outlinewidth": 0,
            "ticks": ""
           }
          },
          "colorscale": {
           "diverging": [
            [
             0,
             "#8e0152"
            ],
            [
             0.1,
             "#c51b7d"
            ],
            [
             0.2,
             "#de77ae"
            ],
            [
             0.3,
             "#f1b6da"
            ],
            [
             0.4,
             "#fde0ef"
            ],
            [
             0.5,
             "#f7f7f7"
            ],
            [
             0.6,
             "#e6f5d0"
            ],
            [
             0.7,
             "#b8e186"
            ],
            [
             0.8,
             "#7fbc41"
            ],
            [
             0.9,
             "#4d9221"
            ],
            [
             1,
             "#276419"
            ]
           ],
           "sequential": [
            [
             0.0,
             "#0d0887"
            ],
            [
             0.1111111111111111,
             "#46039f"
            ],
            [
             0.2222222222222222,
             "#7201a8"
            ],
            [
             0.3333333333333333,
             "#9c179e"
            ],
            [
             0.4444444444444444,
             "#bd3786"
            ],
            [
             0.5555555555555556,
             "#d8576b"
            ],
            [
             0.6666666666666666,
             "#ed7953"
            ],
            [
             0.7777777777777778,
             "#fb9f3a"
            ],
            [
             0.8888888888888888,
             "#fdca26"
            ],
            [
             1.0,
             "#f0f921"
            ]
           ],
           "sequentialminus": [
            [
             0.0,
             "#0d0887"
            ],
            [
             0.1111111111111111,
             "#46039f"
            ],
            [
             0.2222222222222222,
             "#7201a8"
            ],
            [
             0.3333333333333333,
             "#9c179e"
            ],
            [
             0.4444444444444444,
             "#bd3786"
            ],
            [
             0.5555555555555556,
             "#d8576b"
            ],
            [
             0.6666666666666666,
             "#ed7953"
            ],
            [
             0.7777777777777778,
             "#fb9f3a"
            ],
            [
             0.8888888888888888,
             "#fdca26"
            ],
            [
             1.0,
             "#f0f921"
            ]
           ]
          },
          "colorway": [
           "#636efa",
           "#EF553B",
           "#00cc96",
           "#ab63fa",
           "#FFA15A",
           "#19d3f3",
           "#FF6692",
           "#B6E880",
           "#FF97FF",
           "#FECB52"
          ],
          "font": {
           "color": "#f2f5fa"
          },
          "geo": {
           "bgcolor": "rgb(17,17,17)",
           "lakecolor": "rgb(17,17,17)",
           "landcolor": "rgb(17,17,17)",
           "showlakes": true,
           "showland": true,
           "subunitcolor": "#506784"
          },
          "hoverlabel": {
           "align": "left"
          },
          "hovermode": "closest",
          "mapbox": {
           "style": "dark"
          },
          "paper_bgcolor": "rgb(17,17,17)",
          "plot_bgcolor": "rgb(17,17,17)",
          "polar": {
           "angularaxis": {
            "gridcolor": "#506784",
            "linecolor": "#506784",
            "ticks": ""
           },
           "bgcolor": "rgb(17,17,17)",
           "radialaxis": {
            "gridcolor": "#506784",
            "linecolor": "#506784",
            "ticks": ""
           }
          },
          "scene": {
           "xaxis": {
            "backgroundcolor": "rgb(17,17,17)",
            "gridcolor": "#506784",
            "gridwidth": 2,
            "linecolor": "#506784",
            "showbackground": true,
            "ticks": "",
            "zerolinecolor": "#C8D4E3"
           },
           "yaxis": {
            "backgroundcolor": "rgb(17,17,17)",
            "gridcolor": "#506784",
            "gridwidth": 2,
            "linecolor": "#506784",
            "showbackground": true,
            "ticks": "",
            "zerolinecolor": "#C8D4E3"
           },
           "zaxis": {
            "backgroundcolor": "rgb(17,17,17)",
            "gridcolor": "#506784",
            "gridwidth": 2,
            "linecolor": "#506784",
            "showbackground": true,
            "ticks": "",
            "zerolinecolor": "#C8D4E3"
           }
          },
          "shapedefaults": {
           "line": {
            "color": "#f2f5fa"
           }
          },
          "sliderdefaults": {
           "bgcolor": "#C8D4E3",
           "bordercolor": "rgb(17,17,17)",
           "borderwidth": 1,
           "tickwidth": 0
          },
          "ternary": {
           "aaxis": {
            "gridcolor": "#506784",
            "linecolor": "#506784",
            "ticks": ""
           },
           "baxis": {
            "gridcolor": "#506784",
            "linecolor": "#506784",
            "ticks": ""
           },
           "bgcolor": "rgb(17,17,17)",
           "caxis": {
            "gridcolor": "#506784",
            "linecolor": "#506784",
            "ticks": ""
           }
          },
          "title": {
           "x": 0.05
          },
          "updatemenudefaults": {
           "bgcolor": "#506784",
           "borderwidth": 0
          },
          "xaxis": {
           "automargin": true,
           "gridcolor": "#283442",
           "linecolor": "#506784",
           "ticks": "",
           "title": {
            "standoff": 15
           },
           "zerolinecolor": "#283442",
           "zerolinewidth": 2
          },
          "yaxis": {
           "automargin": true,
           "gridcolor": "#283442",
           "linecolor": "#506784",
           "ticks": "",
           "title": {
            "standoff": 15
           },
           "zerolinecolor": "#283442",
           "zerolinewidth": 2
          }
         }
        },
        "xaxis": {
         "anchor": "y",
         "domain": [
          0.0,
          1.0
         ],
         "title": {
          "text": "serve_choke_pct"
         }
        },
        "yaxis": {
         "anchor": "x",
         "domain": [
          0.0,
          1.0
         ],
         "title": {
          "text": "receive_choke_pct"
         }
        }
       }
      },
      "text/html": "<div>                            <div id=\"d1e529db-cd86-4657-972e-64da6cd64700\" class=\"plotly-graph-div\" style=\"height:525px; width:100%;\"></div>            <script type=\"text/javascript\">                require([\"plotly\"], function(Plotly) {                    window.PLOTLYENV=window.PLOTLYENV || {};                                    if (document.getElementById(\"d1e529db-cd86-4657-972e-64da6cd64700\")) {                    Plotly.newPlot(                        \"d1e529db-cd86-4657-972e-64da6cd64700\",                        [{\"hovertemplate\": \"<b>%{hovertext}</b><br><br>serve_choke_pct=%{x}<br>receive_choke_pct=%{y}<extra></extra>\", \"hovertext\": [\"D Brown\", \"M Jaziri\", \"T Kokkinakis\", \"M Giron\", \"P Gojowczyk\", \"D Koepfer\", \"J Vesely\", \"L Lacko\", \"J Duckworth\", \"V Troicki\", \"C Berlocq\", \"B Tomic\", \"M Kukushkin\", \"J Millman\", \"F Bagnis\", \"L Rosol\", \"L Kubot\", \"D Young\", \"M Matosevic\", \"I Karlovic\", \"K Khachanov\", \"P Kohlschreiber\", \"H Chung\", \"J Donaldson\", \"J Nieminen\", \"G Simon\", \"M McDonald\", \"D Shapovalov\", \"F Verdasco\", \"P Martinez\", \"D Lajovic\", \"Q Halys\", \"M Berrettini\", \"B Klahn\", \"Y Sugita\", \"F Delbonis\", \"S Johnson\", \"D Evans\", \"S Darcis\", \"V Pospisil\", \"S Giraldo\", \"R Harrison\", \"T Gabashvili\", \"N Mahut\", \"J Wilfried Tsonga\", \"J Benneteau\", \"P Lorenzi\", \"A Popyrin\", \"M Zverev\", \"R Soderling\", \"H Laaksonen\", \"C Norrie\", \"K Edmund\", \"A De Minaur\", \"T Sandgren\", \"I Dodig\", \"D Kudla\", \"T Smyczek\", \"N Gombos\", \"M Youzhny\", \"A Bublik\", \"J Sinner\", \"M Polmans\", \"P Cuevas\", \"B Coric\", \"S Caruso\", \"R Nadal\", \"T Berdych\", \"J Melzer\", \"T Ito\", \"P Carreno Busta\", \"T Bellucci\", \"M Russell\", \"T Fritz\", \"R Bautista Agut\", \"B Van De Zandschulp\", \"S Wawrinka\", \"R Opelka\", \"B Paire\", \"F Lopez\", \"A Roddick\", \"N Basilashvili\", \"R Dutra Silva\", \"P Andujar\", \"T Paul\", \"L Djere\", \"F Tiafoe\", \"G Garcia-Lopez\", \"A Mannarino\", \"J Sock\", \"M Klizan\", \"G Pella\", \"D Sela\", \"J Janowicz\", \"S Stakhovsky\", \"A Ramos-Vinolas\", \"F Mayer\", \"T Haas\", \"Y Lu\", \"N Kyrgios\", \"E Gulbis\", \"T Monteiro\", \"C Alcaraz\", \"R Stepanek\", \"E Roger-Vasselin\", \"A Davidovich Fokina\", \"A Bedene\", \"D Dzumhur\", \"F Krajinovic\", \"N Almagro\", \"C Ruud\", \"T Fabbiano\", \"A Dolgopolov\", \"G Monfils\", \"F Fognini\", \"M Raonic\", \"J Isner\", \"A Seppi\", \"M Kecmanovic\", \"L Sonego\", \"M Ymer\", \"T Robredo\", \"S Travaglia\", \"S Robert\", \"J Ignacio Chela\", \"D Schwartzman\", \"Y Nishioka\", \"J Londero\", \"S Bolelli\", \"B Becker\", \"M Granollers\", \"M Baghdatis\", \"L Mayer\", \"J Tipsarevic\", \"K Nishikori\", \"A Karatsev\", \"G Muller\", \"J Munar\", \"C Moutet\", \"R Haase\", \"G Dimitrov\", \"P Herbert\", \"E Donskoy\", \"C Garin\", \"A Falla\", \"S Kwon\", \"J Struff\", \"R Bemelmans\", \"E Gerasimov\", \"D Nalbandian\", \"J Lennard Struff\", \"L Hewitt\", \"D Medvedev\", \"L Pouille\", \"T Daniel\", \"A Murray\", \"J Thompson\", \"N Djokovic\", \"H Hurkacz\", \"S Querrey\", \"A Rublev\", \"P Mathieu\", \"B Kavcic\", \"A Zverev\", \"A Kuznetsov\", \"R Carballes Baena\", \"R Berankis\", \"J Chardy\", \"K Anderson\", \"D Goffin\", \"D Thiem\", \"U Humbert\", \"M Cilic\", \"G Barrere\", \"S Tsitsipas\", \"D Istomin\", \"R Gasquet\", \"T Kamke\", \"M Cecchinato\", \"D Ferrer\", \"L Harris\", \"R Federer\", \"F Auger Aliassime\", \"J Sousa\", \"S Korda\", \"J Martin Del Potro\", \"J Monaco\", \"M Fucsovics\", \"M Ebden\", \"R Albot\", \"A Bolt\", \"P Petzschner\", \"I Ivashka\", \"E Ruusuvuori\", \"M Fish\", \"K Majchrzak\"], \"legendgroup\": \"\", \"marker\": {\"color\": \"#636efa\", \"symbol\": \"circle\"}, \"mode\": \"markers\", \"name\": \"\", \"orientation\": \"v\", \"selected\": {\"marker\": {\"color\": \"red\"}}, \"selectedpoints\": [66, 76, 152, 155, 157, 170, 172, 181], \"showlegend\": false, \"type\": \"scatter\", \"unselected\": {\"marker\": {\"color\": \"blue\"}}, \"x\": [-0.0164908426602534, -0.0659515316666922, -0.0346661742933709, -0.0005670838065518, -0.0405931917762048, -0.0316551022655859, -0.0082757372422078, 0.0136441577222488, -0.0496191626226435, -0.0272379677837256, -0.017504128315956, -0.0408812056454718, -0.026941107010903, 0.0091196718798498, -0.027669536154821, 0.0004253305643911, 0.0133926825862309, -0.0150367932893746, -0.0407351828736235, 0.0204222667108143, -0.0023551795147282, -0.0021079226049787, 0.0062321492450504, 0.0071991977929124, -0.0082556166053091, -0.004648503150874, 0.0084317412561113, -0.0309977057690082, -0.0274853717569181, -0.042028485110056, -0.0055277669278312, -0.0076958792803249, 0.0095697451356535, 0.0214731978236165, 0.0085805417292696, -0.0160103090741638, -0.0122309388549607, -0.0147215880571881, 0.0055835014808784, 0.0384714491857348, 0.005418318130385, 0.0081653534201041, -0.0338523474039429, 0.0182988993727799, -0.0089302564367882, -0.0085706395623253, 0.0027910002069596, -0.0033499195690347, -0.020485454220953, 0.0402989010989011, 0.0123466911853028, -0.0135104692790143, 0.0107762672302306, -0.0086195281004539, 0.0038196830021306, -0.0004428472061209, 0.0011124401913875, -0.0131723914850407, 0.00298127694142, 0.0089352427067285, -0.0043778054893511, 0.0127490243279716, -0.0083275467863493, 0.0198369262780963, 0.0279120350898275, -0.0346303103454582, 0.0014370853988639, -0.0007324218029411, 0.0255757008395771, -0.003969465648855, -0.0085844116261672, 0.0128589168019868, -0.0162951214870265, 0.006389723709892, 0.0086983273331395, 0.0048125336610829, -0.0132801027796965, 0.0400256900072458, -0.0174951276846399, 0.0078136773034605, 0.0464735038738821, 0.025701300112266, 0.0120860475685501, -0.0013017091406488, 0.0246312684365781, -0.0047706641184902, 0.0351860201897165, 0.0102159858658912, 0.0334643115131755, 0.0175989630444716, -0.0094061246935287, 0.0051664077400123, 0.0100298066058134, -0.0095116375357272, 0.0251886160034128, 0.0022841622258531, -0.0177599201128136, 0.0078863636363636, 0.0156293496004811, 0.0381870594335096, 0.0151254174347209, 0.0431119855714051, 0.0179490428738743, -0.0026328310864392, -0.0058423096009574, 0.0031986523202379, 0.028909845529233, 0.020823271171673, 0.0235509117586695, 0.0120656530343238, -0.0090770564021087, 0.0043849110451334, 0.020700600150772, 0.0121768758097666, 0.0199298639471578, 0.0006243248759265, 0.0087515944364222, 0.0232764871816022, -0.0051849908160587, 0.0568664153559512, 0.0220827526366508, 0.0022613380879717, 0.0380419580419579, -0.000410756435993, -0.0118192623407495, 0.0145706631359421, -0.0061284655119793, 0.0453181313346354, 0.0156893200164705, 0.0633618672601723, -0.0001082744345156, 0.0060042372881356, 0.026116137459421, 0.0108369094278637, 0.0244764956297561, 0.0405879970347953, -0.0100344369484708, -0.0122547485555622, 0.031247771836007, 0.0300171749777635, -0.0087258723009432, 0.0291835122218474, 0.0071724767948321, 0.0148997978051155, 0.0220148792309072, 0.034115011091574, 0.0451194188177055, 0.0329460838523174, -0.0067912389476261, -0.0085310472659869, 0.0055179411240453, 0.0174820075164937, 0.0573149580908562, 0.0219266978947923, 0.0259856059613733, 0.0252478942674824, 0.0262496731025136, 0.0190787581526402, 0.040093673096769, 0.0526626037226689, 0.0353202792956891, 0.0212365566510823, 0.0409326472905947, 0.0535143621584413, 0.0637450769781596, 0.0437071493578723, 0.0168882127517859, 0.0434742099702237, 0.0207689025691037, 0.0444552323830374, 0.0148770357896852, 0.0306339659975526, 0.0209457576460968, 0.0324099753858765, 0.0655054666009909, 0.0435183519086351, 0.040991142622804, 0.0205162655642501, 0.0437720383344997, 0.038028295471399, 0.0843430253956569, 0.034419796435154, 0.0567957532663414, 0.03986596691621, 0.0348860403413994, 0.05130243895683, 0.0118977477123743, 0.063056539984282, 0.063935032478432, 0.045761590209603, 0.0640757056616087, 0.0420125786163521, 0.05480713945937, 0.0304654776291849, 0.043411916068505, 0.0520597163400701], \"xaxis\": \"x\", \"y\": [-0.0589998229775181, -0.006159910144477, -0.0330649564119874, -0.0601436332676931, -0.0154509176093891, -0.0232906790751781, -0.0449450549450549, -0.0666713293759576, -0.0033267602852244, -0.0168167898411661, -0.0244389912807393, 0.0032448919790084, -0.0096311488967547, -0.0441366735089397, -0.0051567163695929, -0.0329134684903287, -0.0449999178347821, -0.0156200980207257, 0.0110281396089845, -0.0489465373336341, -0.0225871909291427, -0.0224586430558963, -0.0303007918371685, -0.0294074271499645, -0.0135960591133004, -0.0170078694831119, -0.0300788189557086, 0.0104318605743901, 0.0074130333003871, 0.0220895522388059, -0.0117729720530493, -0.0095789867378295, -0.0262405622019287, -0.0380324203465623, -0.0245663636760394, 0.0007460312283714, -0.0028524403661824, 0.0003714983948088, -0.0198480880041906, -0.0526640511635405, -0.0178936452629832, -0.0203190919418553, 0.022005364795733, -0.0294523339096073, -0.0020196947503915, -0.0008436627903264, -0.0109570640873631, -0.0026168043512892, 0.0153685688496639, -0.0445648604269294, -0.0166067919009095, 0.0099741792696421, -0.0142099030002256, 0.0052676706171225, -0.0069922647425584, -0.0022295500478672, -0.0026403652545873, 0.0120110815747796, -0.0038035853468433, -0.0092586523288277, 0.0045961094625782, -0.0120634493883586, 0.0092769030498388, -0.0181610434635548, -0.025797534863919, 0.0367843225452076, 0.0020509227817859, 0.0046502806611149, -0.0215631877343836, 0.0080365296803653, 0.0129823427303223, -0.0084366152878263, 0.0208923032627046, -0.0015847018782467, -0.0030690690814224, 0.0011693089744849, 0.0195781078787915, -0.0337033514665043, 0.0238743730705675, 0.0001814208450841, -0.0381817886812045, -0.0173274263851619, -0.0032606941081517, 0.0104294743453853, -0.0154029304029303, 0.0144204985021667, -0.0253467128838876, -0.0001009594451701, -0.0232901246711988, -0.0066477459273023, 0.0207919492452417, 0.0064024945500703, 0.0015720545147936, 0.0213633864760857, -0.0132178656182481, 0.0100888960423927, 0.0306407198356281, 0.0059233815717852, -0.0016378515444905, -0.0241809298275244, 0.000249618829903, -0.0266037099745379, -0.001346684203827, 0.0194424449460135, 0.0227631281599085, 0.0142592592592592, -0.0114090390658648, -0.0031642552162329, -0.0056278763971071, 0.006113147589256, 0.0273529611749506, 0.0143512734262373, -0.0017102679595985, 0.0069538909289109, -0.0001633279039959, 0.0193373303562246, 0.0112549862626309, -0.0030768671240337, 0.0254530085299315, -0.036203068765579, -0.0003652684646761, 0.0196480643539467, -0.0150138016371597, 0.0236343366778149, 0.035541539799913, 0.0096531105829223, 0.0303890160183066, -0.0205516080009857, 0.0121226688413416, -0.0346852158835027, 0.0292668876533436, 0.0232490377367747, 0.003411729036729, 0.0189603229881122, 0.0055977129657832, -0.0103106235865977, 0.0407741490125058, 0.0435530621785881, 0.0002174013314678, 0.002703045905277, 0.0421127808361851, 0.0044869008144862, 0.0270875179340029, 0.0196513361966117, 0.0127627487425234, 0.0006890147148076, -0.0099881239608465, 0.0027787676005293, 0.0429757029757029, 0.0447826086956521, 0.0316412818325819, 0.0198998130809287, -0.0190518764034745, 0.0168801040066504, 0.0153175863437872, 0.0163570960864456, 0.0164442013129102, 0.0242044805395236, 0.0038325984716534, -0.0084181067074857, 0.0089991955063959, 0.0258275606889925, 0.00774214113132, -0.0046035095657738, -0.0132919005189671, 0.0072868951827545, 0.0342339836781706, 0.007806757938131, 0.0317020605658357, 0.008340504884804, 0.0385913191993249, 0.0243315786977758, 0.0340802258043295, 0.0245072290754742, -0.0067742169268455, 0.0161112451860488, 0.0223234658685371, 0.0440563304359544, 0.0220306996135075, 0.0279565589464806, -0.0176449224410435, 0.0332220549080191, 0.0127826780463997, 0.0312883352832683, 0.0363944261374551, 0.0212134780124536, 0.0606568300809138, 0.0119189693897747, 0.0122095448754742, 0.0310856134157105, 0.0151076912959126, 0.0406693286824551, 0.035490913601687, 0.0608127943914996, 0.052143085042393, 0.0461632631118142], \"yaxis\": \"y\"}],                        {\"legend\": {\"tracegroupgap\": 0}, \"margin\": {\"t\": 60}, \"template\": {\"data\": {\"bar\": [{\"error_x\": {\"color\": \"#f2f5fa\"}, \"error_y\": {\"color\": \"#f2f5fa\"}, \"marker\": {\"line\": {\"color\": \"rgb(17,17,17)\", \"width\": 0.5}}, \"type\": \"bar\"}], \"barpolar\": [{\"marker\": {\"line\": {\"color\": \"rgb(17,17,17)\", \"width\": 0.5}}, \"type\": \"barpolar\"}], \"carpet\": [{\"aaxis\": {\"endlinecolor\": \"#A2B1C6\", \"gridcolor\": \"#506784\", \"linecolor\": \"#506784\", \"minorgridcolor\": \"#506784\", \"startlinecolor\": \"#A2B1C6\"}, \"baxis\": {\"endlinecolor\": \"#A2B1C6\", \"gridcolor\": \"#506784\", \"linecolor\": \"#506784\", \"minorgridcolor\": \"#506784\", \"startlinecolor\": \"#A2B1C6\"}, \"type\": \"carpet\"}], \"choropleth\": [{\"colorbar\": {\"outlinewidth\": 0, \"ticks\": \"\"}, \"type\": \"choropleth\"}], \"contour\": [{\"colorbar\": {\"outlinewidth\": 0, \"ticks\": \"\"}, \"colorscale\": [[0.0, \"#0d0887\"], [0.1111111111111111, \"#46039f\"], [0.2222222222222222, \"#7201a8\"], [0.3333333333333333, \"#9c179e\"], [0.4444444444444444, \"#bd3786\"], [0.5555555555555556, \"#d8576b\"], [0.6666666666666666, \"#ed7953\"], [0.7777777777777778, \"#fb9f3a\"], [0.8888888888888888, \"#fdca26\"], [1.0, \"#f0f921\"]], \"type\": \"contour\"}], \"contourcarpet\": [{\"colorbar\": {\"outlinewidth\": 0, \"ticks\": \"\"}, \"type\": \"contourcarpet\"}], \"heatmap\": [{\"colorbar\": {\"outlinewidth\": 0, \"ticks\": \"\"}, \"colorscale\": [[0.0, \"#0d0887\"], [0.1111111111111111, \"#46039f\"], [0.2222222222222222, \"#7201a8\"], [0.3333333333333333, \"#9c179e\"], [0.4444444444444444, \"#bd3786\"], [0.5555555555555556, \"#d8576b\"], [0.6666666666666666, \"#ed7953\"], [0.7777777777777778, \"#fb9f3a\"], [0.8888888888888888, \"#fdca26\"], [1.0, \"#f0f921\"]], \"type\": \"heatmap\"}], \"heatmapgl\": [{\"colorbar\": {\"outlinewidth\": 0, \"ticks\": \"\"}, \"colorscale\": [[0.0, \"#0d0887\"], [0.1111111111111111, \"#46039f\"], [0.2222222222222222, \"#7201a8\"], [0.3333333333333333, \"#9c179e\"], [0.4444444444444444, \"#bd3786\"], [0.5555555555555556, \"#d8576b\"], [0.6666666666666666, \"#ed7953\"], [0.7777777777777778, \"#fb9f3a\"], [0.8888888888888888, \"#fdca26\"], [1.0, \"#f0f921\"]], \"type\": \"heatmapgl\"}], \"histogram\": [{\"marker\": {\"colorbar\": {\"outlinewidth\": 0, \"ticks\": \"\"}}, \"type\": \"histogram\"}], \"histogram2d\": [{\"colorbar\": {\"outlinewidth\": 0, \"ticks\": \"\"}, \"colorscale\": [[0.0, \"#0d0887\"], [0.1111111111111111, \"#46039f\"], [0.2222222222222222, \"#7201a8\"], [0.3333333333333333, \"#9c179e\"], [0.4444444444444444, \"#bd3786\"], [0.5555555555555556, \"#d8576b\"], [0.6666666666666666, \"#ed7953\"], [0.7777777777777778, \"#fb9f3a\"], [0.8888888888888888, \"#fdca26\"], [1.0, \"#f0f921\"]], \"type\": \"histogram2d\"}], \"histogram2dcontour\": [{\"colorbar\": {\"outlinewidth\": 0, \"ticks\": \"\"}, \"colorscale\": [[0.0, \"#0d0887\"], [0.1111111111111111, \"#46039f\"], [0.2222222222222222, \"#7201a8\"], [0.3333333333333333, \"#9c179e\"], [0.4444444444444444, \"#bd3786\"], [0.5555555555555556, \"#d8576b\"], [0.6666666666666666, \"#ed7953\"], [0.7777777777777778, \"#fb9f3a\"], [0.8888888888888888, \"#fdca26\"], [1.0, \"#f0f921\"]], \"type\": \"histogram2dcontour\"}], \"mesh3d\": [{\"colorbar\": {\"outlinewidth\": 0, \"ticks\": \"\"}, \"type\": \"mesh3d\"}], \"parcoords\": [{\"line\": {\"colorbar\": {\"outlinewidth\": 0, \"ticks\": \"\"}}, \"type\": \"parcoords\"}], \"pie\": [{\"automargin\": true, \"type\": \"pie\"}], \"scatter\": [{\"marker\": {\"line\": {\"color\": \"#283442\"}}, \"type\": \"scatter\"}], \"scatter3d\": [{\"line\": {\"colorbar\": {\"outlinewidth\": 0, \"ticks\": \"\"}}, \"marker\": {\"colorbar\": {\"outlinewidth\": 0, \"ticks\": \"\"}}, \"type\": \"scatter3d\"}], \"scattercarpet\": [{\"marker\": {\"colorbar\": {\"outlinewidth\": 0, \"ticks\": \"\"}}, \"type\": \"scattercarpet\"}], \"scattergeo\": [{\"marker\": {\"colorbar\": {\"outlinewidth\": 0, \"ticks\": \"\"}}, \"type\": \"scattergeo\"}], \"scattergl\": [{\"marker\": {\"line\": {\"color\": \"#283442\"}}, \"type\": \"scattergl\"}], \"scattermapbox\": [{\"marker\": {\"colorbar\": {\"outlinewidth\": 0, \"ticks\": \"\"}}, \"type\": \"scattermapbox\"}], \"scatterpolar\": [{\"marker\": {\"colorbar\": {\"outlinewidth\": 0, \"ticks\": \"\"}}, \"type\": \"scatterpolar\"}], \"scatterpolargl\": [{\"marker\": {\"colorbar\": {\"outlinewidth\": 0, \"ticks\": \"\"}}, \"type\": \"scatterpolargl\"}], \"scatterternary\": [{\"marker\": {\"colorbar\": {\"outlinewidth\": 0, \"ticks\": \"\"}}, \"type\": \"scatterternary\"}], \"surface\": [{\"colorbar\": {\"outlinewidth\": 0, \"ticks\": \"\"}, \"colorscale\": [[0.0, \"#0d0887\"], [0.1111111111111111, \"#46039f\"], [0.2222222222222222, \"#7201a8\"], [0.3333333333333333, \"#9c179e\"], [0.4444444444444444, \"#bd3786\"], [0.5555555555555556, \"#d8576b\"], [0.6666666666666666, \"#ed7953\"], [0.7777777777777778, \"#fb9f3a\"], [0.8888888888888888, \"#fdca26\"], [1.0, \"#f0f921\"]], \"type\": \"surface\"}], \"table\": [{\"cells\": {\"fill\": {\"color\": \"#506784\"}, \"line\": {\"color\": \"rgb(17,17,17)\"}}, \"header\": {\"fill\": {\"color\": \"#2a3f5f\"}, \"line\": {\"color\": \"rgb(17,17,17)\"}}, \"type\": \"table\"}]}, \"layout\": {\"annotationdefaults\": {\"arrowcolor\": \"#f2f5fa\", \"arrowhead\": 0, \"arrowwidth\": 1}, \"autotypenumbers\": \"strict\", \"coloraxis\": {\"colorbar\": {\"outlinewidth\": 0, \"ticks\": \"\"}}, \"colorscale\": {\"diverging\": [[0, \"#8e0152\"], [0.1, \"#c51b7d\"], [0.2, \"#de77ae\"], [0.3, \"#f1b6da\"], [0.4, \"#fde0ef\"], [0.5, \"#f7f7f7\"], [0.6, \"#e6f5d0\"], [0.7, \"#b8e186\"], [0.8, \"#7fbc41\"], [0.9, \"#4d9221\"], [1, \"#276419\"]], \"sequential\": [[0.0, \"#0d0887\"], [0.1111111111111111, \"#46039f\"], [0.2222222222222222, \"#7201a8\"], [0.3333333333333333, \"#9c179e\"], [0.4444444444444444, \"#bd3786\"], [0.5555555555555556, \"#d8576b\"], [0.6666666666666666, \"#ed7953\"], [0.7777777777777778, \"#fb9f3a\"], [0.8888888888888888, \"#fdca26\"], [1.0, \"#f0f921\"]], \"sequentialminus\": [[0.0, \"#0d0887\"], [0.1111111111111111, \"#46039f\"], [0.2222222222222222, \"#7201a8\"], [0.3333333333333333, \"#9c179e\"], [0.4444444444444444, \"#bd3786\"], [0.5555555555555556, \"#d8576b\"], [0.6666666666666666, \"#ed7953\"], [0.7777777777777778, \"#fb9f3a\"], [0.8888888888888888, \"#fdca26\"], [1.0, \"#f0f921\"]]}, \"colorway\": [\"#636efa\", \"#EF553B\", \"#00cc96\", \"#ab63fa\", \"#FFA15A\", \"#19d3f3\", \"#FF6692\", \"#B6E880\", \"#FF97FF\", \"#FECB52\"], \"font\": {\"color\": \"#f2f5fa\"}, \"geo\": {\"bgcolor\": \"rgb(17,17,17)\", \"lakecolor\": \"rgb(17,17,17)\", \"landcolor\": \"rgb(17,17,17)\", \"showlakes\": true, \"showland\": true, \"subunitcolor\": \"#506784\"}, \"hoverlabel\": {\"align\": \"left\"}, \"hovermode\": \"closest\", \"mapbox\": {\"style\": \"dark\"}, \"paper_bgcolor\": \"rgb(17,17,17)\", \"plot_bgcolor\": \"rgb(17,17,17)\", \"polar\": {\"angularaxis\": {\"gridcolor\": \"#506784\", \"linecolor\": \"#506784\", \"ticks\": \"\"}, \"bgcolor\": \"rgb(17,17,17)\", \"radialaxis\": {\"gridcolor\": \"#506784\", \"linecolor\": \"#506784\", \"ticks\": \"\"}}, \"scene\": {\"xaxis\": {\"backgroundcolor\": \"rgb(17,17,17)\", \"gridcolor\": \"#506784\", \"gridwidth\": 2, \"linecolor\": \"#506784\", \"showbackground\": true, \"ticks\": \"\", \"zerolinecolor\": \"#C8D4E3\"}, \"yaxis\": {\"backgroundcolor\": \"rgb(17,17,17)\", \"gridcolor\": \"#506784\", \"gridwidth\": 2, \"linecolor\": \"#506784\", \"showbackground\": true, \"ticks\": \"\", \"zerolinecolor\": \"#C8D4E3\"}, \"zaxis\": {\"backgroundcolor\": \"rgb(17,17,17)\", \"gridcolor\": \"#506784\", \"gridwidth\": 2, \"linecolor\": \"#506784\", \"showbackground\": true, \"ticks\": \"\", \"zerolinecolor\": \"#C8D4E3\"}}, \"shapedefaults\": {\"line\": {\"color\": \"#f2f5fa\"}}, \"sliderdefaults\": {\"bgcolor\": \"#C8D4E3\", \"bordercolor\": \"rgb(17,17,17)\", \"borderwidth\": 1, \"tickwidth\": 0}, \"ternary\": {\"aaxis\": {\"gridcolor\": \"#506784\", \"linecolor\": \"#506784\", \"ticks\": \"\"}, \"baxis\": {\"gridcolor\": \"#506784\", \"linecolor\": \"#506784\", \"ticks\": \"\"}, \"bgcolor\": \"rgb(17,17,17)\", \"caxis\": {\"gridcolor\": \"#506784\", \"linecolor\": \"#506784\", \"ticks\": \"\"}}, \"title\": {\"x\": 0.05}, \"updatemenudefaults\": {\"bgcolor\": \"#506784\", \"borderwidth\": 0}, \"xaxis\": {\"automargin\": true, \"gridcolor\": \"#283442\", \"linecolor\": \"#506784\", \"ticks\": \"\", \"title\": {\"standoff\": 15}, \"zerolinecolor\": \"#283442\", \"zerolinewidth\": 2}, \"yaxis\": {\"automargin\": true, \"gridcolor\": \"#283442\", \"linecolor\": \"#506784\", \"ticks\": \"\", \"title\": {\"standoff\": 15}, \"zerolinecolor\": \"#283442\", \"zerolinewidth\": 2}}}, \"xaxis\": {\"anchor\": \"y\", \"domain\": [0.0, 1.0], \"title\": {\"text\": \"serve_choke_pct\"}}, \"yaxis\": {\"anchor\": \"x\", \"domain\": [0.0, 1.0], \"title\": {\"text\": \"receive_choke_pct\"}}},                        {\"responsive\": true}                    ).then(function(){\n                            \nvar gd = document.getElementById('d1e529db-cd86-4657-972e-64da6cd64700');\nvar x = new MutationObserver(function (mutations, observer) {{\n        var display = window.getComputedStyle(gd).display;\n        if (!display || display === 'none') {{\n            console.log([gd, 'removed!']);\n            Plotly.purge(gd);\n            observer.disconnect();\n        }}\n}});\n\n// Listen for the removal of the full notebook cells\nvar notebookContainer = gd.closest('#notebook-container');\nif (notebookContainer) {{\n    x.observe(notebookContainer, {childList: true});\n}}\n\n// Listen for the clearing of the current output cell\nvar outputEl = gd.closest('.output');\nif (outputEl) {{\n    x.observe(outputEl, {childList: true});\n}}\n\n                        })                };                });            </script>        </div>"
     },
     "metadata": {},
     "output_type": "display_data"
    }
   ],
   "source": [
    "fig = px.scatter(data_frame=df, x=\"serve_choke_pct\", y=\"receive_choke_pct\", hover_name='name')\n",
    "inds = [66, 76, 152, 155, 157, 170, 172, 181]\n",
    "fig.data[0].update(selectedpoints=inds,\n",
    "                   selected=dict(marker=dict(color='red')),\n",
    "                   unselected=dict(marker=dict(color='blue')))\n",
    "fig.show()\n",
    "pio.write_image(fig, \"../plots/choking.png\", engine=\"auto\")"
   ],
   "metadata": {
    "collapsed": false,
    "pycharm": {
     "name": "#%%\n"
    }
   }
  },
  {
   "cell_type": "code",
   "execution_count": 70,
   "outputs": [
    {
     "data": {
      "application/vnd.plotly.v1+json": {
       "config": {
        "plotlyServerURL": "https://plot.ly"
       },
       "data": [
        {
         "hovertemplate": "<b>%{hovertext}</b><br><br>serve_choke_pct=%{x}<br>receive_choke_pct=%{y}<extra></extra>",
         "hovertext": [
          "D Brown",
          "M Jaziri",
          "T Kokkinakis",
          "M Giron",
          "P Gojowczyk",
          "D Koepfer",
          "J Vesely",
          "L Lacko",
          "J Duckworth",
          "V Troicki",
          "C Berlocq",
          "B Tomic",
          "M Kukushkin",
          "J Millman",
          "F Bagnis",
          "L Rosol",
          "L Kubot",
          "D Young",
          "M Matosevic",
          "I Karlovic",
          "K Khachanov",
          "P Kohlschreiber",
          "H Chung",
          "J Donaldson",
          "J Nieminen",
          "G Simon",
          "M McDonald",
          "D Shapovalov",
          "F Verdasco",
          "P Martinez",
          "D Lajovic",
          "Q Halys",
          "M Berrettini",
          "B Klahn",
          "Y Sugita",
          "F Delbonis",
          "S Johnson",
          "D Evans",
          "S Darcis",
          "V Pospisil",
          "S Giraldo",
          "R Harrison",
          "T Gabashvili",
          "N Mahut",
          "J Wilfried Tsonga",
          "J Benneteau",
          "P Lorenzi",
          "A Popyrin",
          "M Zverev",
          "R Soderling",
          "H Laaksonen",
          "C Norrie",
          "K Edmund",
          "A De Minaur",
          "T Sandgren",
          "I Dodig",
          "D Kudla",
          "T Smyczek",
          "N Gombos",
          "M Youzhny",
          "A Bublik",
          "J Sinner",
          "M Polmans",
          "P Cuevas",
          "B Coric",
          "S Caruso",
          "R Nadal",
          "T Berdych",
          "J Melzer",
          "T Ito",
          "P Carreno Busta",
          "T Bellucci",
          "M Russell",
          "T Fritz",
          "R Bautista Agut",
          "B Van De Zandschulp",
          "S Wawrinka",
          "R Opelka",
          "B Paire",
          "F Lopez",
          "A Roddick",
          "N Basilashvili",
          "R Dutra Silva",
          "P Andujar",
          "T Paul",
          "L Djere",
          "F Tiafoe",
          "G Garcia-Lopez",
          "A Mannarino",
          "J Sock",
          "M Klizan",
          "G Pella",
          "D Sela",
          "J Janowicz",
          "S Stakhovsky",
          "A Ramos-Vinolas",
          "F Mayer",
          "T Haas",
          "Y Lu",
          "N Kyrgios",
          "E Gulbis",
          "T Monteiro",
          "C Alcaraz",
          "R Stepanek",
          "E Roger-Vasselin",
          "A Davidovich Fokina",
          "A Bedene",
          "D Dzumhur",
          "F Krajinovic",
          "N Almagro",
          "C Ruud",
          "T Fabbiano",
          "A Dolgopolov",
          "G Monfils",
          "F Fognini",
          "M Raonic",
          "J Isner",
          "A Seppi",
          "M Kecmanovic",
          "L Sonego",
          "M Ymer",
          "T Robredo",
          "S Travaglia",
          "S Robert",
          "J Ignacio Chela",
          "D Schwartzman",
          "Y Nishioka",
          "J Londero",
          "S Bolelli",
          "B Becker",
          "M Granollers",
          "M Baghdatis",
          "L Mayer",
          "J Tipsarevic",
          "K Nishikori",
          "A Karatsev",
          "G Muller",
          "J Munar",
          "C Moutet",
          "R Haase",
          "G Dimitrov",
          "P Herbert",
          "E Donskoy",
          "C Garin",
          "A Falla",
          "S Kwon",
          "J Struff",
          "R Bemelmans",
          "E Gerasimov",
          "D Nalbandian",
          "J Lennard Struff",
          "L Hewitt",
          "D Medvedev",
          "L Pouille",
          "T Daniel",
          "A Murray",
          "J Thompson",
          "N Djokovic",
          "H Hurkacz",
          "S Querrey",
          "A Rublev",
          "P Mathieu",
          "B Kavcic",
          "A Zverev",
          "A Kuznetsov",
          "R Carballes Baena",
          "R Berankis",
          "J Chardy",
          "K Anderson",
          "D Goffin",
          "D Thiem",
          "U Humbert",
          "M Cilic",
          "G Barrere",
          "S Tsitsipas",
          "D Istomin",
          "R Gasquet",
          "T Kamke",
          "M Cecchinato",
          "D Ferrer",
          "L Harris",
          "R Federer",
          "F Auger Aliassime",
          "J Sousa",
          "S Korda",
          "J Martin Del Potro",
          "J Monaco",
          "M Fucsovics",
          "M Ebden",
          "R Albot",
          "A Bolt",
          "P Petzschner",
          "I Ivashka",
          "E Ruusuvuori",
          "M Fish",
          "K Majchrzak"
         ],
         "legendgroup": "",
         "marker": {
          "color": "#636efa",
          "symbol": "circle"
         },
         "mode": "markers",
         "name": "",
         "orientation": "v",
         "showlegend": false,
         "type": "scatter",
         "x": [
          -0.0164908426602534,
          -0.0659515316666922,
          -0.0346661742933709,
          -5.670838065518E-4,
          -0.0405931917762048,
          -0.0316551022655859,
          -0.0082757372422078,
          0.0136441577222488,
          -0.0496191626226435,
          -0.0272379677837256,
          -0.017504128315956,
          -0.0408812056454718,
          -0.026941107010903,
          0.0091196718798498,
          -0.027669536154821,
          4.253305643911E-4,
          0.0133926825862309,
          -0.0150367932893746,
          -0.0407351828736235,
          0.0204222667108143,
          -0.0023551795147282,
          -0.0021079226049787,
          0.0062321492450504,
          0.0071991977929124,
          -0.0082556166053091,
          -0.004648503150874,
          0.0084317412561113,
          -0.0309977057690082,
          -0.0274853717569181,
          -0.042028485110056,
          -0.0055277669278312,
          -0.0076958792803249,
          0.0095697451356535,
          0.0214731978236165,
          0.0085805417292696,
          -0.0160103090741638,
          -0.0122309388549607,
          -0.0147215880571881,
          0.0055835014808784,
          0.0384714491857348,
          0.005418318130385,
          0.0081653534201041,
          -0.0338523474039429,
          0.0182988993727799,
          -0.0089302564367882,
          -0.0085706395623253,
          0.0027910002069596,
          -0.0033499195690347,
          -0.020485454220953,
          0.0402989010989011,
          0.0123466911853028,
          -0.0135104692790143,
          0.0107762672302306,
          -0.0086195281004539,
          0.0038196830021306,
          -4.428472061209E-4,
          0.0011124401913875,
          -0.0131723914850407,
          0.00298127694142,
          0.0089352427067285,
          -0.0043778054893511,
          0.0127490243279716,
          -0.0083275467863493,
          0.0198369262780963,
          0.0279120350898275,
          -0.0346303103454582,
          0.0014370853988639,
          -7.324218029411E-4,
          0.0255757008395771,
          -0.003969465648855,
          -0.0085844116261672,
          0.0128589168019868,
          -0.0162951214870265,
          0.006389723709892,
          0.0086983273331395,
          0.0048125336610829,
          -0.0132801027796965,
          0.0400256900072458,
          -0.0174951276846399,
          0.0078136773034605,
          0.0464735038738821,
          0.025701300112266,
          0.0120860475685501,
          -0.0013017091406488,
          0.0246312684365781,
          -0.0047706641184902,
          0.0351860201897165,
          0.0102159858658912,
          0.0334643115131755,
          0.0175989630444716,
          -0.0094061246935287,
          0.0051664077400123,
          0.0100298066058134,
          -0.0095116375357272,
          0.0251886160034128,
          0.0022841622258531,
          -0.0177599201128136,
          0.0078863636363636,
          0.0156293496004811,
          0.0381870594335096,
          0.0151254174347209,
          0.0431119855714051,
          0.0179490428738743,
          -0.0026328310864392,
          -0.0058423096009574,
          0.0031986523202379,
          0.028909845529233,
          0.020823271171673,
          0.0235509117586695,
          0.0120656530343238,
          -0.0090770564021087,
          0.0043849110451334,
          0.020700600150772,
          0.0121768758097666,
          0.0199298639471578,
          6.243248759265E-4,
          0.0087515944364222,
          0.0232764871816022,
          -0.0051849908160587,
          0.0568664153559512,
          0.0220827526366508,
          0.0022613380879717,
          0.0380419580419579,
          -4.10756435993E-4,
          -0.0118192623407495,
          0.0145706631359421,
          -0.0061284655119793,
          0.0453181313346354,
          0.0156893200164705,
          0.0633618672601723,
          -1.082744345156E-4,
          0.0060042372881356,
          0.026116137459421,
          0.0108369094278637,
          0.0244764956297561,
          0.0405879970347953,
          -0.0100344369484708,
          -0.0122547485555622,
          0.031247771836007,
          0.0300171749777635,
          -0.0087258723009432,
          0.0291835122218474,
          0.0071724767948321,
          0.0148997978051155,
          0.0220148792309072,
          0.034115011091574,
          0.0451194188177055,
          0.0329460838523174,
          -0.0067912389476261,
          -0.0085310472659869,
          0.0055179411240453,
          0.0174820075164937,
          0.0573149580908562,
          0.0219266978947923,
          0.0259856059613733,
          0.0252478942674824,
          0.0262496731025136,
          0.0190787581526402,
          0.040093673096769,
          0.0526626037226689,
          0.0353202792956891,
          0.0212365566510823,
          0.0409326472905947,
          0.0535143621584413,
          0.0637450769781596,
          0.0437071493578723,
          0.0168882127517859,
          0.0434742099702237,
          0.0207689025691037,
          0.0444552323830374,
          0.0148770357896852,
          0.0306339659975526,
          0.0209457576460968,
          0.0324099753858765,
          0.0655054666009909,
          0.0435183519086351,
          0.040991142622804,
          0.0205162655642501,
          0.0437720383344997,
          0.038028295471399,
          0.0843430253956569,
          0.034419796435154,
          0.0567957532663414,
          0.03986596691621,
          0.0348860403413994,
          0.05130243895683,
          0.0118977477123743,
          0.063056539984282,
          0.063935032478432,
          0.045761590209603,
          0.0640757056616087,
          0.0420125786163521,
          0.05480713945937,
          0.0304654776291849,
          0.043411916068505,
          0.0520597163400701
         ],
         "xaxis": "x",
         "y": [
          -0.0589998229775181,
          -0.006159910144477,
          -0.0330649564119874,
          -0.0601436332676931,
          -0.0154509176093891,
          -0.0232906790751781,
          -0.0449450549450549,
          -0.0666713293759576,
          -0.0033267602852244,
          -0.0168167898411661,
          -0.0244389912807393,
          0.0032448919790084,
          -0.0096311488967547,
          -0.0441366735089397,
          -0.0051567163695929,
          -0.0329134684903287,
          -0.0449999178347821,
          -0.0156200980207257,
          0.0110281396089845,
          -0.0489465373336341,
          -0.0225871909291427,
          -0.0224586430558963,
          -0.0303007918371685,
          -0.0294074271499645,
          -0.0135960591133004,
          -0.0170078694831119,
          -0.0300788189557086,
          0.0104318605743901,
          0.0074130333003871,
          0.0220895522388059,
          -0.0117729720530493,
          -0.0095789867378295,
          -0.0262405622019287,
          -0.0380324203465623,
          -0.0245663636760394,
          7.460312283714E-4,
          -0.0028524403661824,
          3.714983948088E-4,
          -0.0198480880041906,
          -0.0526640511635405,
          -0.0178936452629832,
          -0.0203190919418553,
          0.022005364795733,
          -0.0294523339096073,
          -0.0020196947503915,
          -8.436627903264E-4,
          -0.0109570640873631,
          -0.0026168043512892,
          0.0153685688496639,
          -0.0445648604269294,
          -0.0166067919009095,
          0.0099741792696421,
          -0.0142099030002256,
          0.0052676706171225,
          -0.0069922647425584,
          -0.0022295500478672,
          -0.0026403652545873,
          0.0120110815747796,
          -0.0038035853468433,
          -0.0092586523288277,
          0.0045961094625782,
          -0.0120634493883586,
          0.0092769030498388,
          -0.0181610434635548,
          -0.025797534863919,
          0.0367843225452076,
          0.0020509227817859,
          0.0046502806611149,
          -0.0215631877343836,
          0.0080365296803653,
          0.0129823427303223,
          -0.0084366152878263,
          0.0208923032627046,
          -0.0015847018782467,
          -0.0030690690814224,
          0.0011693089744849,
          0.0195781078787915,
          -0.0337033514665043,
          0.0238743730705675,
          1.814208450841E-4,
          -0.0381817886812045,
          -0.0173274263851619,
          -0.0032606941081517,
          0.0104294743453853,
          -0.0154029304029303,
          0.0144204985021667,
          -0.0253467128838876,
          -1.009594451701E-4,
          -0.0232901246711988,
          -0.0066477459273023,
          0.0207919492452417,
          0.0064024945500703,
          0.0015720545147936,
          0.0213633864760857,
          -0.0132178656182481,
          0.0100888960423927,
          0.0306407198356281,
          0.0059233815717852,
          -0.0016378515444905,
          -0.0241809298275244,
          2.49618829903E-4,
          -0.0266037099745379,
          -0.001346684203827,
          0.0194424449460135,
          0.0227631281599085,
          0.0142592592592592,
          -0.0114090390658648,
          -0.0031642552162329,
          -0.0056278763971071,
          0.006113147589256,
          0.0273529611749506,
          0.0143512734262373,
          -0.0017102679595985,
          0.0069538909289109,
          -1.633279039959E-4,
          0.0193373303562246,
          0.0112549862626309,
          -0.0030768671240337,
          0.0254530085299315,
          -0.036203068765579,
          -3.652684646761E-4,
          0.0196480643539467,
          -0.0150138016371597,
          0.0236343366778149,
          0.035541539799913,
          0.0096531105829223,
          0.0303890160183066,
          -0.0205516080009857,
          0.0121226688413416,
          -0.0346852158835027,
          0.0292668876533436,
          0.0232490377367747,
          0.003411729036729,
          0.0189603229881122,
          0.0055977129657832,
          -0.0103106235865977,
          0.0407741490125058,
          0.0435530621785881,
          2.174013314678E-4,
          0.002703045905277,
          0.0421127808361851,
          0.0044869008144862,
          0.0270875179340029,
          0.0196513361966117,
          0.0127627487425234,
          6.890147148076E-4,
          -0.0099881239608465,
          0.0027787676005293,
          0.0429757029757029,
          0.0447826086956521,
          0.0316412818325819,
          0.0198998130809287,
          -0.0190518764034745,
          0.0168801040066504,
          0.0153175863437872,
          0.0163570960864456,
          0.0164442013129102,
          0.0242044805395236,
          0.0038325984716534,
          -0.0084181067074857,
          0.0089991955063959,
          0.0258275606889925,
          0.00774214113132,
          -0.0046035095657738,
          -0.0132919005189671,
          0.0072868951827545,
          0.0342339836781706,
          0.007806757938131,
          0.0317020605658357,
          0.008340504884804,
          0.0385913191993249,
          0.0243315786977758,
          0.0340802258043295,
          0.0245072290754742,
          -0.0067742169268455,
          0.0161112451860488,
          0.0223234658685371,
          0.0440563304359544,
          0.0220306996135075,
          0.0279565589464806,
          -0.0176449224410435,
          0.0332220549080191,
          0.0127826780463997,
          0.0312883352832683,
          0.0363944261374551,
          0.0212134780124536,
          0.0606568300809138,
          0.0119189693897747,
          0.0122095448754742,
          0.0310856134157105,
          0.0151076912959126,
          0.0406693286824551,
          0.035490913601687,
          0.0608127943914996,
          0.052143085042393,
          0.0461632631118142
         ],
         "yaxis": "y"
        }
       ],
       "layout": {
        "legend": {
         "tracegroupgap": 0
        },
        "margin": {
         "t": 60
        },
        "template": {
         "data": {
          "bar": [
           {
            "error_x": {
             "color": "#f2f5fa"
            },
            "error_y": {
             "color": "#f2f5fa"
            },
            "marker": {
             "line": {
              "color": "rgb(17,17,17)",
              "width": 0.5
             }
            },
            "type": "bar"
           }
          ],
          "barpolar": [
           {
            "marker": {
             "line": {
              "color": "rgb(17,17,17)",
              "width": 0.5
             }
            },
            "type": "barpolar"
           }
          ],
          "carpet": [
           {
            "aaxis": {
             "endlinecolor": "#A2B1C6",
             "gridcolor": "#506784",
             "linecolor": "#506784",
             "minorgridcolor": "#506784",
             "startlinecolor": "#A2B1C6"
            },
            "baxis": {
             "endlinecolor": "#A2B1C6",
             "gridcolor": "#506784",
             "linecolor": "#506784",
             "minorgridcolor": "#506784",
             "startlinecolor": "#A2B1C6"
            },
            "type": "carpet"
           }
          ],
          "choropleth": [
           {
            "colorbar": {
             "outlinewidth": 0,
             "ticks": ""
            },
            "type": "choropleth"
           }
          ],
          "contour": [
           {
            "colorbar": {
             "outlinewidth": 0,
             "ticks": ""
            },
            "colorscale": [
             [
              0.0,
              "#0d0887"
             ],
             [
              0.1111111111111111,
              "#46039f"
             ],
             [
              0.2222222222222222,
              "#7201a8"
             ],
             [
              0.3333333333333333,
              "#9c179e"
             ],
             [
              0.4444444444444444,
              "#bd3786"
             ],
             [
              0.5555555555555556,
              "#d8576b"
             ],
             [
              0.6666666666666666,
              "#ed7953"
             ],
             [
              0.7777777777777778,
              "#fb9f3a"
             ],
             [
              0.8888888888888888,
              "#fdca26"
             ],
             [
              1.0,
              "#f0f921"
             ]
            ],
            "type": "contour"
           }
          ],
          "contourcarpet": [
           {
            "colorbar": {
             "outlinewidth": 0,
             "ticks": ""
            },
            "type": "contourcarpet"
           }
          ],
          "heatmap": [
           {
            "colorbar": {
             "outlinewidth": 0,
             "ticks": ""
            },
            "colorscale": [
             [
              0.0,
              "#0d0887"
             ],
             [
              0.1111111111111111,
              "#46039f"
             ],
             [
              0.2222222222222222,
              "#7201a8"
             ],
             [
              0.3333333333333333,
              "#9c179e"
             ],
             [
              0.4444444444444444,
              "#bd3786"
             ],
             [
              0.5555555555555556,
              "#d8576b"
             ],
             [
              0.6666666666666666,
              "#ed7953"
             ],
             [
              0.7777777777777778,
              "#fb9f3a"
             ],
             [
              0.8888888888888888,
              "#fdca26"
             ],
             [
              1.0,
              "#f0f921"
             ]
            ],
            "type": "heatmap"
           }
          ],
          "heatmapgl": [
           {
            "colorbar": {
             "outlinewidth": 0,
             "ticks": ""
            },
            "colorscale": [
             [
              0.0,
              "#0d0887"
             ],
             [
              0.1111111111111111,
              "#46039f"
             ],
             [
              0.2222222222222222,
              "#7201a8"
             ],
             [
              0.3333333333333333,
              "#9c179e"
             ],
             [
              0.4444444444444444,
              "#bd3786"
             ],
             [
              0.5555555555555556,
              "#d8576b"
             ],
             [
              0.6666666666666666,
              "#ed7953"
             ],
             [
              0.7777777777777778,
              "#fb9f3a"
             ],
             [
              0.8888888888888888,
              "#fdca26"
             ],
             [
              1.0,
              "#f0f921"
             ]
            ],
            "type": "heatmapgl"
           }
          ],
          "histogram": [
           {
            "marker": {
             "colorbar": {
              "outlinewidth": 0,
              "ticks": ""
             }
            },
            "type": "histogram"
           }
          ],
          "histogram2d": [
           {
            "colorbar": {
             "outlinewidth": 0,
             "ticks": ""
            },
            "colorscale": [
             [
              0.0,
              "#0d0887"
             ],
             [
              0.1111111111111111,
              "#46039f"
             ],
             [
              0.2222222222222222,
              "#7201a8"
             ],
             [
              0.3333333333333333,
              "#9c179e"
             ],
             [
              0.4444444444444444,
              "#bd3786"
             ],
             [
              0.5555555555555556,
              "#d8576b"
             ],
             [
              0.6666666666666666,
              "#ed7953"
             ],
             [
              0.7777777777777778,
              "#fb9f3a"
             ],
             [
              0.8888888888888888,
              "#fdca26"
             ],
             [
              1.0,
              "#f0f921"
             ]
            ],
            "type": "histogram2d"
           }
          ],
          "histogram2dcontour": [
           {
            "colorbar": {
             "outlinewidth": 0,
             "ticks": ""
            },
            "colorscale": [
             [
              0.0,
              "#0d0887"
             ],
             [
              0.1111111111111111,
              "#46039f"
             ],
             [
              0.2222222222222222,
              "#7201a8"
             ],
             [
              0.3333333333333333,
              "#9c179e"
             ],
             [
              0.4444444444444444,
              "#bd3786"
             ],
             [
              0.5555555555555556,
              "#d8576b"
             ],
             [
              0.6666666666666666,
              "#ed7953"
             ],
             [
              0.7777777777777778,
              "#fb9f3a"
             ],
             [
              0.8888888888888888,
              "#fdca26"
             ],
             [
              1.0,
              "#f0f921"
             ]
            ],
            "type": "histogram2dcontour"
           }
          ],
          "mesh3d": [
           {
            "colorbar": {
             "outlinewidth": 0,
             "ticks": ""
            },
            "type": "mesh3d"
           }
          ],
          "parcoords": [
           {
            "line": {
             "colorbar": {
              "outlinewidth": 0,
              "ticks": ""
             }
            },
            "type": "parcoords"
           }
          ],
          "pie": [
           {
            "automargin": true,
            "type": "pie"
           }
          ],
          "scatter": [
           {
            "marker": {
             "line": {
              "color": "#283442"
             }
            },
            "type": "scatter"
           }
          ],
          "scatter3d": [
           {
            "line": {
             "colorbar": {
              "outlinewidth": 0,
              "ticks": ""
             }
            },
            "marker": {
             "colorbar": {
              "outlinewidth": 0,
              "ticks": ""
             }
            },
            "type": "scatter3d"
           }
          ],
          "scattercarpet": [
           {
            "marker": {
             "colorbar": {
              "outlinewidth": 0,
              "ticks": ""
             }
            },
            "type": "scattercarpet"
           }
          ],
          "scattergeo": [
           {
            "marker": {
             "colorbar": {
              "outlinewidth": 0,
              "ticks": ""
             }
            },
            "type": "scattergeo"
           }
          ],
          "scattergl": [
           {
            "marker": {
             "line": {
              "color": "#283442"
             }
            },
            "type": "scattergl"
           }
          ],
          "scattermapbox": [
           {
            "marker": {
             "colorbar": {
              "outlinewidth": 0,
              "ticks": ""
             }
            },
            "type": "scattermapbox"
           }
          ],
          "scatterpolar": [
           {
            "marker": {
             "colorbar": {
              "outlinewidth": 0,
              "ticks": ""
             }
            },
            "type": "scatterpolar"
           }
          ],
          "scatterpolargl": [
           {
            "marker": {
             "colorbar": {
              "outlinewidth": 0,
              "ticks": ""
             }
            },
            "type": "scatterpolargl"
           }
          ],
          "scatterternary": [
           {
            "marker": {
             "colorbar": {
              "outlinewidth": 0,
              "ticks": ""
             }
            },
            "type": "scatterternary"
           }
          ],
          "surface": [
           {
            "colorbar": {
             "outlinewidth": 0,
             "ticks": ""
            },
            "colorscale": [
             [
              0.0,
              "#0d0887"
             ],
             [
              0.1111111111111111,
              "#46039f"
             ],
             [
              0.2222222222222222,
              "#7201a8"
             ],
             [
              0.3333333333333333,
              "#9c179e"
             ],
             [
              0.4444444444444444,
              "#bd3786"
             ],
             [
              0.5555555555555556,
              "#d8576b"
             ],
             [
              0.6666666666666666,
              "#ed7953"
             ],
             [
              0.7777777777777778,
              "#fb9f3a"
             ],
             [
              0.8888888888888888,
              "#fdca26"
             ],
             [
              1.0,
              "#f0f921"
             ]
            ],
            "type": "surface"
           }
          ],
          "table": [
           {
            "cells": {
             "fill": {
              "color": "#506784"
             },
             "line": {
              "color": "rgb(17,17,17)"
             }
            },
            "header": {
             "fill": {
              "color": "#2a3f5f"
             },
             "line": {
              "color": "rgb(17,17,17)"
             }
            },
            "type": "table"
           }
          ]
         },
         "layout": {
          "annotationdefaults": {
           "arrowcolor": "#f2f5fa",
           "arrowhead": 0,
           "arrowwidth": 1
          },
          "autotypenumbers": "strict",
          "coloraxis": {
           "colorbar": {
            "outlinewidth": 0,
            "ticks": ""
           }
          },
          "colorscale": {
           "diverging": [
            [
             0,
             "#8e0152"
            ],
            [
             0.1,
             "#c51b7d"
            ],
            [
             0.2,
             "#de77ae"
            ],
            [
             0.3,
             "#f1b6da"
            ],
            [
             0.4,
             "#fde0ef"
            ],
            [
             0.5,
             "#f7f7f7"
            ],
            [
             0.6,
             "#e6f5d0"
            ],
            [
             0.7,
             "#b8e186"
            ],
            [
             0.8,
             "#7fbc41"
            ],
            [
             0.9,
             "#4d9221"
            ],
            [
             1,
             "#276419"
            ]
           ],
           "sequential": [
            [
             0.0,
             "#0d0887"
            ],
            [
             0.1111111111111111,
             "#46039f"
            ],
            [
             0.2222222222222222,
             "#7201a8"
            ],
            [
             0.3333333333333333,
             "#9c179e"
            ],
            [
             0.4444444444444444,
             "#bd3786"
            ],
            [
             0.5555555555555556,
             "#d8576b"
            ],
            [
             0.6666666666666666,
             "#ed7953"
            ],
            [
             0.7777777777777778,
             "#fb9f3a"
            ],
            [
             0.8888888888888888,
             "#fdca26"
            ],
            [
             1.0,
             "#f0f921"
            ]
           ],
           "sequentialminus": [
            [
             0.0,
             "#0d0887"
            ],
            [
             0.1111111111111111,
             "#46039f"
            ],
            [
             0.2222222222222222,
             "#7201a8"
            ],
            [
             0.3333333333333333,
             "#9c179e"
            ],
            [
             0.4444444444444444,
             "#bd3786"
            ],
            [
             0.5555555555555556,
             "#d8576b"
            ],
            [
             0.6666666666666666,
             "#ed7953"
            ],
            [
             0.7777777777777778,
             "#fb9f3a"
            ],
            [
             0.8888888888888888,
             "#fdca26"
            ],
            [
             1.0,
             "#f0f921"
            ]
           ]
          },
          "colorway": [
           "#636efa",
           "#EF553B",
           "#00cc96",
           "#ab63fa",
           "#FFA15A",
           "#19d3f3",
           "#FF6692",
           "#B6E880",
           "#FF97FF",
           "#FECB52"
          ],
          "font": {
           "color": "#f2f5fa"
          },
          "geo": {
           "bgcolor": "rgb(17,17,17)",
           "lakecolor": "rgb(17,17,17)",
           "landcolor": "rgb(17,17,17)",
           "showlakes": true,
           "showland": true,
           "subunitcolor": "#506784"
          },
          "hoverlabel": {
           "align": "left"
          },
          "hovermode": "closest",
          "mapbox": {
           "style": "dark"
          },
          "paper_bgcolor": "rgb(17,17,17)",
          "plot_bgcolor": "rgb(17,17,17)",
          "polar": {
           "angularaxis": {
            "gridcolor": "#506784",
            "linecolor": "#506784",
            "ticks": ""
           },
           "bgcolor": "rgb(17,17,17)",
           "radialaxis": {
            "gridcolor": "#506784",
            "linecolor": "#506784",
            "ticks": ""
           }
          },
          "scene": {
           "xaxis": {
            "backgroundcolor": "rgb(17,17,17)",
            "gridcolor": "#506784",
            "gridwidth": 2,
            "linecolor": "#506784",
            "showbackground": true,
            "ticks": "",
            "zerolinecolor": "#C8D4E3"
           },
           "yaxis": {
            "backgroundcolor": "rgb(17,17,17)",
            "gridcolor": "#506784",
            "gridwidth": 2,
            "linecolor": "#506784",
            "showbackground": true,
            "ticks": "",
            "zerolinecolor": "#C8D4E3"
           },
           "zaxis": {
            "backgroundcolor": "rgb(17,17,17)",
            "gridcolor": "#506784",
            "gridwidth": 2,
            "linecolor": "#506784",
            "showbackground": true,
            "ticks": "",
            "zerolinecolor": "#C8D4E3"
           }
          },
          "shapedefaults": {
           "line": {
            "color": "#f2f5fa"
           }
          },
          "sliderdefaults": {
           "bgcolor": "#C8D4E3",
           "bordercolor": "rgb(17,17,17)",
           "borderwidth": 1,
           "tickwidth": 0
          },
          "ternary": {
           "aaxis": {
            "gridcolor": "#506784",
            "linecolor": "#506784",
            "ticks": ""
           },
           "baxis": {
            "gridcolor": "#506784",
            "linecolor": "#506784",
            "ticks": ""
           },
           "bgcolor": "rgb(17,17,17)",
           "caxis": {
            "gridcolor": "#506784",
            "linecolor": "#506784",
            "ticks": ""
           }
          },
          "title": {
           "x": 0.05
          },
          "updatemenudefaults": {
           "bgcolor": "#506784",
           "borderwidth": 0
          },
          "xaxis": {
           "automargin": true,
           "gridcolor": "#283442",
           "linecolor": "#506784",
           "ticks": "",
           "title": {
            "standoff": 15
           },
           "zerolinecolor": "#283442",
           "zerolinewidth": 2
          },
          "yaxis": {
           "automargin": true,
           "gridcolor": "#283442",
           "linecolor": "#506784",
           "ticks": "",
           "title": {
            "standoff": 15
           },
           "zerolinecolor": "#283442",
           "zerolinewidth": 2
          }
         }
        },
        "xaxis": {
         "anchor": "y",
         "domain": [
          0.0,
          1.0
         ],
         "title": {
          "text": "serve_choke_pct"
         }
        },
        "yaxis": {
         "anchor": "x",
         "domain": [
          0.0,
          1.0
         ],
         "title": {
          "text": "receive_choke_pct"
         }
        }
       }
      },
      "text/html": "<div>                            <div id=\"20673149-816c-49f6-b653-e9cd52db4fc0\" class=\"plotly-graph-div\" style=\"height:525px; width:100%;\"></div>            <script type=\"text/javascript\">                require([\"plotly\"], function(Plotly) {                    window.PLOTLYENV=window.PLOTLYENV || {};                                    if (document.getElementById(\"20673149-816c-49f6-b653-e9cd52db4fc0\")) {                    Plotly.newPlot(                        \"20673149-816c-49f6-b653-e9cd52db4fc0\",                        [{\"hovertemplate\": \"<b>%{hovertext}</b><br><br>serve_choke_pct=%{x}<br>receive_choke_pct=%{y}<extra></extra>\", \"hovertext\": [\"D Brown\", \"M Jaziri\", \"T Kokkinakis\", \"M Giron\", \"P Gojowczyk\", \"D Koepfer\", \"J Vesely\", \"L Lacko\", \"J Duckworth\", \"V Troicki\", \"C Berlocq\", \"B Tomic\", \"M Kukushkin\", \"J Millman\", \"F Bagnis\", \"L Rosol\", \"L Kubot\", \"D Young\", \"M Matosevic\", \"I Karlovic\", \"K Khachanov\", \"P Kohlschreiber\", \"H Chung\", \"J Donaldson\", \"J Nieminen\", \"G Simon\", \"M McDonald\", \"D Shapovalov\", \"F Verdasco\", \"P Martinez\", \"D Lajovic\", \"Q Halys\", \"M Berrettini\", \"B Klahn\", \"Y Sugita\", \"F Delbonis\", \"S Johnson\", \"D Evans\", \"S Darcis\", \"V Pospisil\", \"S Giraldo\", \"R Harrison\", \"T Gabashvili\", \"N Mahut\", \"J Wilfried Tsonga\", \"J Benneteau\", \"P Lorenzi\", \"A Popyrin\", \"M Zverev\", \"R Soderling\", \"H Laaksonen\", \"C Norrie\", \"K Edmund\", \"A De Minaur\", \"T Sandgren\", \"I Dodig\", \"D Kudla\", \"T Smyczek\", \"N Gombos\", \"M Youzhny\", \"A Bublik\", \"J Sinner\", \"M Polmans\", \"P Cuevas\", \"B Coric\", \"S Caruso\", \"R Nadal\", \"T Berdych\", \"J Melzer\", \"T Ito\", \"P Carreno Busta\", \"T Bellucci\", \"M Russell\", \"T Fritz\", \"R Bautista Agut\", \"B Van De Zandschulp\", \"S Wawrinka\", \"R Opelka\", \"B Paire\", \"F Lopez\", \"A Roddick\", \"N Basilashvili\", \"R Dutra Silva\", \"P Andujar\", \"T Paul\", \"L Djere\", \"F Tiafoe\", \"G Garcia-Lopez\", \"A Mannarino\", \"J Sock\", \"M Klizan\", \"G Pella\", \"D Sela\", \"J Janowicz\", \"S Stakhovsky\", \"A Ramos-Vinolas\", \"F Mayer\", \"T Haas\", \"Y Lu\", \"N Kyrgios\", \"E Gulbis\", \"T Monteiro\", \"C Alcaraz\", \"R Stepanek\", \"E Roger-Vasselin\", \"A Davidovich Fokina\", \"A Bedene\", \"D Dzumhur\", \"F Krajinovic\", \"N Almagro\", \"C Ruud\", \"T Fabbiano\", \"A Dolgopolov\", \"G Monfils\", \"F Fognini\", \"M Raonic\", \"J Isner\", \"A Seppi\", \"M Kecmanovic\", \"L Sonego\", \"M Ymer\", \"T Robredo\", \"S Travaglia\", \"S Robert\", \"J Ignacio Chela\", \"D Schwartzman\", \"Y Nishioka\", \"J Londero\", \"S Bolelli\", \"B Becker\", \"M Granollers\", \"M Baghdatis\", \"L Mayer\", \"J Tipsarevic\", \"K Nishikori\", \"A Karatsev\", \"G Muller\", \"J Munar\", \"C Moutet\", \"R Haase\", \"G Dimitrov\", \"P Herbert\", \"E Donskoy\", \"C Garin\", \"A Falla\", \"S Kwon\", \"J Struff\", \"R Bemelmans\", \"E Gerasimov\", \"D Nalbandian\", \"J Lennard Struff\", \"L Hewitt\", \"D Medvedev\", \"L Pouille\", \"T Daniel\", \"A Murray\", \"J Thompson\", \"N Djokovic\", \"H Hurkacz\", \"S Querrey\", \"A Rublev\", \"P Mathieu\", \"B Kavcic\", \"A Zverev\", \"A Kuznetsov\", \"R Carballes Baena\", \"R Berankis\", \"J Chardy\", \"K Anderson\", \"D Goffin\", \"D Thiem\", \"U Humbert\", \"M Cilic\", \"G Barrere\", \"S Tsitsipas\", \"D Istomin\", \"R Gasquet\", \"T Kamke\", \"M Cecchinato\", \"D Ferrer\", \"L Harris\", \"R Federer\", \"F Auger Aliassime\", \"J Sousa\", \"S Korda\", \"J Martin Del Potro\", \"J Monaco\", \"M Fucsovics\", \"M Ebden\", \"R Albot\", \"A Bolt\", \"P Petzschner\", \"I Ivashka\", \"E Ruusuvuori\", \"M Fish\", \"K Majchrzak\"], \"legendgroup\": \"\", \"marker\": {\"color\": \"#636efa\", \"symbol\": \"circle\"}, \"mode\": \"markers\", \"name\": \"\", \"orientation\": \"v\", \"showlegend\": false, \"type\": \"scatter\", \"x\": [-0.0164908426602534, -0.0659515316666922, -0.0346661742933709, -0.0005670838065518, -0.0405931917762048, -0.0316551022655859, -0.0082757372422078, 0.0136441577222488, -0.0496191626226435, -0.0272379677837256, -0.017504128315956, -0.0408812056454718, -0.026941107010903, 0.0091196718798498, -0.027669536154821, 0.0004253305643911, 0.0133926825862309, -0.0150367932893746, -0.0407351828736235, 0.0204222667108143, -0.0023551795147282, -0.0021079226049787, 0.0062321492450504, 0.0071991977929124, -0.0082556166053091, -0.004648503150874, 0.0084317412561113, -0.0309977057690082, -0.0274853717569181, -0.042028485110056, -0.0055277669278312, -0.0076958792803249, 0.0095697451356535, 0.0214731978236165, 0.0085805417292696, -0.0160103090741638, -0.0122309388549607, -0.0147215880571881, 0.0055835014808784, 0.0384714491857348, 0.005418318130385, 0.0081653534201041, -0.0338523474039429, 0.0182988993727799, -0.0089302564367882, -0.0085706395623253, 0.0027910002069596, -0.0033499195690347, -0.020485454220953, 0.0402989010989011, 0.0123466911853028, -0.0135104692790143, 0.0107762672302306, -0.0086195281004539, 0.0038196830021306, -0.0004428472061209, 0.0011124401913875, -0.0131723914850407, 0.00298127694142, 0.0089352427067285, -0.0043778054893511, 0.0127490243279716, -0.0083275467863493, 0.0198369262780963, 0.0279120350898275, -0.0346303103454582, 0.0014370853988639, -0.0007324218029411, 0.0255757008395771, -0.003969465648855, -0.0085844116261672, 0.0128589168019868, -0.0162951214870265, 0.006389723709892, 0.0086983273331395, 0.0048125336610829, -0.0132801027796965, 0.0400256900072458, -0.0174951276846399, 0.0078136773034605, 0.0464735038738821, 0.025701300112266, 0.0120860475685501, -0.0013017091406488, 0.0246312684365781, -0.0047706641184902, 0.0351860201897165, 0.0102159858658912, 0.0334643115131755, 0.0175989630444716, -0.0094061246935287, 0.0051664077400123, 0.0100298066058134, -0.0095116375357272, 0.0251886160034128, 0.0022841622258531, -0.0177599201128136, 0.0078863636363636, 0.0156293496004811, 0.0381870594335096, 0.0151254174347209, 0.0431119855714051, 0.0179490428738743, -0.0026328310864392, -0.0058423096009574, 0.0031986523202379, 0.028909845529233, 0.020823271171673, 0.0235509117586695, 0.0120656530343238, -0.0090770564021087, 0.0043849110451334, 0.020700600150772, 0.0121768758097666, 0.0199298639471578, 0.0006243248759265, 0.0087515944364222, 0.0232764871816022, -0.0051849908160587, 0.0568664153559512, 0.0220827526366508, 0.0022613380879717, 0.0380419580419579, -0.000410756435993, -0.0118192623407495, 0.0145706631359421, -0.0061284655119793, 0.0453181313346354, 0.0156893200164705, 0.0633618672601723, -0.0001082744345156, 0.0060042372881356, 0.026116137459421, 0.0108369094278637, 0.0244764956297561, 0.0405879970347953, -0.0100344369484708, -0.0122547485555622, 0.031247771836007, 0.0300171749777635, -0.0087258723009432, 0.0291835122218474, 0.0071724767948321, 0.0148997978051155, 0.0220148792309072, 0.034115011091574, 0.0451194188177055, 0.0329460838523174, -0.0067912389476261, -0.0085310472659869, 0.0055179411240453, 0.0174820075164937, 0.0573149580908562, 0.0219266978947923, 0.0259856059613733, 0.0252478942674824, 0.0262496731025136, 0.0190787581526402, 0.040093673096769, 0.0526626037226689, 0.0353202792956891, 0.0212365566510823, 0.0409326472905947, 0.0535143621584413, 0.0637450769781596, 0.0437071493578723, 0.0168882127517859, 0.0434742099702237, 0.0207689025691037, 0.0444552323830374, 0.0148770357896852, 0.0306339659975526, 0.0209457576460968, 0.0324099753858765, 0.0655054666009909, 0.0435183519086351, 0.040991142622804, 0.0205162655642501, 0.0437720383344997, 0.038028295471399, 0.0843430253956569, 0.034419796435154, 0.0567957532663414, 0.03986596691621, 0.0348860403413994, 0.05130243895683, 0.0118977477123743, 0.063056539984282, 0.063935032478432, 0.045761590209603, 0.0640757056616087, 0.0420125786163521, 0.05480713945937, 0.0304654776291849, 0.043411916068505, 0.0520597163400701], \"xaxis\": \"x\", \"y\": [-0.0589998229775181, -0.006159910144477, -0.0330649564119874, -0.0601436332676931, -0.0154509176093891, -0.0232906790751781, -0.0449450549450549, -0.0666713293759576, -0.0033267602852244, -0.0168167898411661, -0.0244389912807393, 0.0032448919790084, -0.0096311488967547, -0.0441366735089397, -0.0051567163695929, -0.0329134684903287, -0.0449999178347821, -0.0156200980207257, 0.0110281396089845, -0.0489465373336341, -0.0225871909291427, -0.0224586430558963, -0.0303007918371685, -0.0294074271499645, -0.0135960591133004, -0.0170078694831119, -0.0300788189557086, 0.0104318605743901, 0.0074130333003871, 0.0220895522388059, -0.0117729720530493, -0.0095789867378295, -0.0262405622019287, -0.0380324203465623, -0.0245663636760394, 0.0007460312283714, -0.0028524403661824, 0.0003714983948088, -0.0198480880041906, -0.0526640511635405, -0.0178936452629832, -0.0203190919418553, 0.022005364795733, -0.0294523339096073, -0.0020196947503915, -0.0008436627903264, -0.0109570640873631, -0.0026168043512892, 0.0153685688496639, -0.0445648604269294, -0.0166067919009095, 0.0099741792696421, -0.0142099030002256, 0.0052676706171225, -0.0069922647425584, -0.0022295500478672, -0.0026403652545873, 0.0120110815747796, -0.0038035853468433, -0.0092586523288277, 0.0045961094625782, -0.0120634493883586, 0.0092769030498388, -0.0181610434635548, -0.025797534863919, 0.0367843225452076, 0.0020509227817859, 0.0046502806611149, -0.0215631877343836, 0.0080365296803653, 0.0129823427303223, -0.0084366152878263, 0.0208923032627046, -0.0015847018782467, -0.0030690690814224, 0.0011693089744849, 0.0195781078787915, -0.0337033514665043, 0.0238743730705675, 0.0001814208450841, -0.0381817886812045, -0.0173274263851619, -0.0032606941081517, 0.0104294743453853, -0.0154029304029303, 0.0144204985021667, -0.0253467128838876, -0.0001009594451701, -0.0232901246711988, -0.0066477459273023, 0.0207919492452417, 0.0064024945500703, 0.0015720545147936, 0.0213633864760857, -0.0132178656182481, 0.0100888960423927, 0.0306407198356281, 0.0059233815717852, -0.0016378515444905, -0.0241809298275244, 0.000249618829903, -0.0266037099745379, -0.001346684203827, 0.0194424449460135, 0.0227631281599085, 0.0142592592592592, -0.0114090390658648, -0.0031642552162329, -0.0056278763971071, 0.006113147589256, 0.0273529611749506, 0.0143512734262373, -0.0017102679595985, 0.0069538909289109, -0.0001633279039959, 0.0193373303562246, 0.0112549862626309, -0.0030768671240337, 0.0254530085299315, -0.036203068765579, -0.0003652684646761, 0.0196480643539467, -0.0150138016371597, 0.0236343366778149, 0.035541539799913, 0.0096531105829223, 0.0303890160183066, -0.0205516080009857, 0.0121226688413416, -0.0346852158835027, 0.0292668876533436, 0.0232490377367747, 0.003411729036729, 0.0189603229881122, 0.0055977129657832, -0.0103106235865977, 0.0407741490125058, 0.0435530621785881, 0.0002174013314678, 0.002703045905277, 0.0421127808361851, 0.0044869008144862, 0.0270875179340029, 0.0196513361966117, 0.0127627487425234, 0.0006890147148076, -0.0099881239608465, 0.0027787676005293, 0.0429757029757029, 0.0447826086956521, 0.0316412818325819, 0.0198998130809287, -0.0190518764034745, 0.0168801040066504, 0.0153175863437872, 0.0163570960864456, 0.0164442013129102, 0.0242044805395236, 0.0038325984716534, -0.0084181067074857, 0.0089991955063959, 0.0258275606889925, 0.00774214113132, -0.0046035095657738, -0.0132919005189671, 0.0072868951827545, 0.0342339836781706, 0.007806757938131, 0.0317020605658357, 0.008340504884804, 0.0385913191993249, 0.0243315786977758, 0.0340802258043295, 0.0245072290754742, -0.0067742169268455, 0.0161112451860488, 0.0223234658685371, 0.0440563304359544, 0.0220306996135075, 0.0279565589464806, -0.0176449224410435, 0.0332220549080191, 0.0127826780463997, 0.0312883352832683, 0.0363944261374551, 0.0212134780124536, 0.0606568300809138, 0.0119189693897747, 0.0122095448754742, 0.0310856134157105, 0.0151076912959126, 0.0406693286824551, 0.035490913601687, 0.0608127943914996, 0.052143085042393, 0.0461632631118142], \"yaxis\": \"y\"}],                        {\"legend\": {\"tracegroupgap\": 0}, \"margin\": {\"t\": 60}, \"template\": {\"data\": {\"bar\": [{\"error_x\": {\"color\": \"#f2f5fa\"}, \"error_y\": {\"color\": \"#f2f5fa\"}, \"marker\": {\"line\": {\"color\": \"rgb(17,17,17)\", \"width\": 0.5}}, \"type\": \"bar\"}], \"barpolar\": [{\"marker\": {\"line\": {\"color\": \"rgb(17,17,17)\", \"width\": 0.5}}, \"type\": \"barpolar\"}], \"carpet\": [{\"aaxis\": {\"endlinecolor\": \"#A2B1C6\", \"gridcolor\": \"#506784\", \"linecolor\": \"#506784\", \"minorgridcolor\": \"#506784\", \"startlinecolor\": \"#A2B1C6\"}, \"baxis\": {\"endlinecolor\": \"#A2B1C6\", \"gridcolor\": \"#506784\", \"linecolor\": \"#506784\", \"minorgridcolor\": \"#506784\", \"startlinecolor\": \"#A2B1C6\"}, \"type\": \"carpet\"}], \"choropleth\": [{\"colorbar\": {\"outlinewidth\": 0, \"ticks\": \"\"}, \"type\": \"choropleth\"}], \"contour\": [{\"colorbar\": {\"outlinewidth\": 0, \"ticks\": \"\"}, \"colorscale\": [[0.0, \"#0d0887\"], [0.1111111111111111, \"#46039f\"], [0.2222222222222222, \"#7201a8\"], [0.3333333333333333, \"#9c179e\"], [0.4444444444444444, \"#bd3786\"], [0.5555555555555556, \"#d8576b\"], [0.6666666666666666, \"#ed7953\"], [0.7777777777777778, \"#fb9f3a\"], [0.8888888888888888, \"#fdca26\"], [1.0, \"#f0f921\"]], \"type\": \"contour\"}], \"contourcarpet\": [{\"colorbar\": {\"outlinewidth\": 0, \"ticks\": \"\"}, \"type\": \"contourcarpet\"}], \"heatmap\": [{\"colorbar\": {\"outlinewidth\": 0, \"ticks\": \"\"}, \"colorscale\": [[0.0, \"#0d0887\"], [0.1111111111111111, \"#46039f\"], [0.2222222222222222, \"#7201a8\"], [0.3333333333333333, \"#9c179e\"], [0.4444444444444444, \"#bd3786\"], [0.5555555555555556, \"#d8576b\"], [0.6666666666666666, \"#ed7953\"], [0.7777777777777778, \"#fb9f3a\"], [0.8888888888888888, \"#fdca26\"], [1.0, \"#f0f921\"]], \"type\": \"heatmap\"}], \"heatmapgl\": [{\"colorbar\": {\"outlinewidth\": 0, \"ticks\": \"\"}, \"colorscale\": [[0.0, \"#0d0887\"], [0.1111111111111111, \"#46039f\"], [0.2222222222222222, \"#7201a8\"], [0.3333333333333333, \"#9c179e\"], [0.4444444444444444, \"#bd3786\"], [0.5555555555555556, \"#d8576b\"], [0.6666666666666666, \"#ed7953\"], [0.7777777777777778, \"#fb9f3a\"], [0.8888888888888888, \"#fdca26\"], [1.0, \"#f0f921\"]], \"type\": \"heatmapgl\"}], \"histogram\": [{\"marker\": {\"colorbar\": {\"outlinewidth\": 0, \"ticks\": \"\"}}, \"type\": \"histogram\"}], \"histogram2d\": [{\"colorbar\": {\"outlinewidth\": 0, \"ticks\": \"\"}, \"colorscale\": [[0.0, \"#0d0887\"], [0.1111111111111111, \"#46039f\"], [0.2222222222222222, \"#7201a8\"], [0.3333333333333333, \"#9c179e\"], [0.4444444444444444, \"#bd3786\"], [0.5555555555555556, \"#d8576b\"], [0.6666666666666666, \"#ed7953\"], [0.7777777777777778, \"#fb9f3a\"], [0.8888888888888888, \"#fdca26\"], [1.0, \"#f0f921\"]], \"type\": \"histogram2d\"}], \"histogram2dcontour\": [{\"colorbar\": {\"outlinewidth\": 0, \"ticks\": \"\"}, \"colorscale\": [[0.0, \"#0d0887\"], [0.1111111111111111, \"#46039f\"], [0.2222222222222222, \"#7201a8\"], [0.3333333333333333, \"#9c179e\"], [0.4444444444444444, \"#bd3786\"], [0.5555555555555556, \"#d8576b\"], [0.6666666666666666, \"#ed7953\"], [0.7777777777777778, \"#fb9f3a\"], [0.8888888888888888, \"#fdca26\"], [1.0, \"#f0f921\"]], \"type\": \"histogram2dcontour\"}], \"mesh3d\": [{\"colorbar\": {\"outlinewidth\": 0, \"ticks\": \"\"}, \"type\": \"mesh3d\"}], \"parcoords\": [{\"line\": {\"colorbar\": {\"outlinewidth\": 0, \"ticks\": \"\"}}, \"type\": \"parcoords\"}], \"pie\": [{\"automargin\": true, \"type\": \"pie\"}], \"scatter\": [{\"marker\": {\"line\": {\"color\": \"#283442\"}}, \"type\": \"scatter\"}], \"scatter3d\": [{\"line\": {\"colorbar\": {\"outlinewidth\": 0, \"ticks\": \"\"}}, \"marker\": {\"colorbar\": {\"outlinewidth\": 0, \"ticks\": \"\"}}, \"type\": \"scatter3d\"}], \"scattercarpet\": [{\"marker\": {\"colorbar\": {\"outlinewidth\": 0, \"ticks\": \"\"}}, \"type\": \"scattercarpet\"}], \"scattergeo\": [{\"marker\": {\"colorbar\": {\"outlinewidth\": 0, \"ticks\": \"\"}}, \"type\": \"scattergeo\"}], \"scattergl\": [{\"marker\": {\"line\": {\"color\": \"#283442\"}}, \"type\": \"scattergl\"}], \"scattermapbox\": [{\"marker\": {\"colorbar\": {\"outlinewidth\": 0, \"ticks\": \"\"}}, \"type\": \"scattermapbox\"}], \"scatterpolar\": [{\"marker\": {\"colorbar\": {\"outlinewidth\": 0, \"ticks\": \"\"}}, \"type\": \"scatterpolar\"}], \"scatterpolargl\": [{\"marker\": {\"colorbar\": {\"outlinewidth\": 0, \"ticks\": \"\"}}, \"type\": \"scatterpolargl\"}], \"scatterternary\": [{\"marker\": {\"colorbar\": {\"outlinewidth\": 0, \"ticks\": \"\"}}, \"type\": \"scatterternary\"}], \"surface\": [{\"colorbar\": {\"outlinewidth\": 0, \"ticks\": \"\"}, \"colorscale\": [[0.0, \"#0d0887\"], [0.1111111111111111, \"#46039f\"], [0.2222222222222222, \"#7201a8\"], [0.3333333333333333, \"#9c179e\"], [0.4444444444444444, \"#bd3786\"], [0.5555555555555556, \"#d8576b\"], [0.6666666666666666, \"#ed7953\"], [0.7777777777777778, \"#fb9f3a\"], [0.8888888888888888, \"#fdca26\"], [1.0, \"#f0f921\"]], \"type\": \"surface\"}], \"table\": [{\"cells\": {\"fill\": {\"color\": \"#506784\"}, \"line\": {\"color\": \"rgb(17,17,17)\"}}, \"header\": {\"fill\": {\"color\": \"#2a3f5f\"}, \"line\": {\"color\": \"rgb(17,17,17)\"}}, \"type\": \"table\"}]}, \"layout\": {\"annotationdefaults\": {\"arrowcolor\": \"#f2f5fa\", \"arrowhead\": 0, \"arrowwidth\": 1}, \"autotypenumbers\": \"strict\", \"coloraxis\": {\"colorbar\": {\"outlinewidth\": 0, \"ticks\": \"\"}}, \"colorscale\": {\"diverging\": [[0, \"#8e0152\"], [0.1, \"#c51b7d\"], [0.2, \"#de77ae\"], [0.3, \"#f1b6da\"], [0.4, \"#fde0ef\"], [0.5, \"#f7f7f7\"], [0.6, \"#e6f5d0\"], [0.7, \"#b8e186\"], [0.8, \"#7fbc41\"], [0.9, \"#4d9221\"], [1, \"#276419\"]], \"sequential\": [[0.0, \"#0d0887\"], [0.1111111111111111, \"#46039f\"], [0.2222222222222222, \"#7201a8\"], [0.3333333333333333, \"#9c179e\"], [0.4444444444444444, \"#bd3786\"], [0.5555555555555556, \"#d8576b\"], [0.6666666666666666, \"#ed7953\"], [0.7777777777777778, \"#fb9f3a\"], [0.8888888888888888, \"#fdca26\"], [1.0, \"#f0f921\"]], \"sequentialminus\": [[0.0, \"#0d0887\"], [0.1111111111111111, \"#46039f\"], [0.2222222222222222, \"#7201a8\"], [0.3333333333333333, \"#9c179e\"], [0.4444444444444444, \"#bd3786\"], [0.5555555555555556, \"#d8576b\"], [0.6666666666666666, \"#ed7953\"], [0.7777777777777778, \"#fb9f3a\"], [0.8888888888888888, \"#fdca26\"], [1.0, \"#f0f921\"]]}, \"colorway\": [\"#636efa\", \"#EF553B\", \"#00cc96\", \"#ab63fa\", \"#FFA15A\", \"#19d3f3\", \"#FF6692\", \"#B6E880\", \"#FF97FF\", \"#FECB52\"], \"font\": {\"color\": \"#f2f5fa\"}, \"geo\": {\"bgcolor\": \"rgb(17,17,17)\", \"lakecolor\": \"rgb(17,17,17)\", \"landcolor\": \"rgb(17,17,17)\", \"showlakes\": true, \"showland\": true, \"subunitcolor\": \"#506784\"}, \"hoverlabel\": {\"align\": \"left\"}, \"hovermode\": \"closest\", \"mapbox\": {\"style\": \"dark\"}, \"paper_bgcolor\": \"rgb(17,17,17)\", \"plot_bgcolor\": \"rgb(17,17,17)\", \"polar\": {\"angularaxis\": {\"gridcolor\": \"#506784\", \"linecolor\": \"#506784\", \"ticks\": \"\"}, \"bgcolor\": \"rgb(17,17,17)\", \"radialaxis\": {\"gridcolor\": \"#506784\", \"linecolor\": \"#506784\", \"ticks\": \"\"}}, \"scene\": {\"xaxis\": {\"backgroundcolor\": \"rgb(17,17,17)\", \"gridcolor\": \"#506784\", \"gridwidth\": 2, \"linecolor\": \"#506784\", \"showbackground\": true, \"ticks\": \"\", \"zerolinecolor\": \"#C8D4E3\"}, \"yaxis\": {\"backgroundcolor\": \"rgb(17,17,17)\", \"gridcolor\": \"#506784\", \"gridwidth\": 2, \"linecolor\": \"#506784\", \"showbackground\": true, \"ticks\": \"\", \"zerolinecolor\": \"#C8D4E3\"}, \"zaxis\": {\"backgroundcolor\": \"rgb(17,17,17)\", \"gridcolor\": \"#506784\", \"gridwidth\": 2, \"linecolor\": \"#506784\", \"showbackground\": true, \"ticks\": \"\", \"zerolinecolor\": \"#C8D4E3\"}}, \"shapedefaults\": {\"line\": {\"color\": \"#f2f5fa\"}}, \"sliderdefaults\": {\"bgcolor\": \"#C8D4E3\", \"bordercolor\": \"rgb(17,17,17)\", \"borderwidth\": 1, \"tickwidth\": 0}, \"ternary\": {\"aaxis\": {\"gridcolor\": \"#506784\", \"linecolor\": \"#506784\", \"ticks\": \"\"}, \"baxis\": {\"gridcolor\": \"#506784\", \"linecolor\": \"#506784\", \"ticks\": \"\"}, \"bgcolor\": \"rgb(17,17,17)\", \"caxis\": {\"gridcolor\": \"#506784\", \"linecolor\": \"#506784\", \"ticks\": \"\"}}, \"title\": {\"x\": 0.05}, \"updatemenudefaults\": {\"bgcolor\": \"#506784\", \"borderwidth\": 0}, \"xaxis\": {\"automargin\": true, \"gridcolor\": \"#283442\", \"linecolor\": \"#506784\", \"ticks\": \"\", \"title\": {\"standoff\": 15}, \"zerolinecolor\": \"#283442\", \"zerolinewidth\": 2}, \"yaxis\": {\"automargin\": true, \"gridcolor\": \"#283442\", \"linecolor\": \"#506784\", \"ticks\": \"\", \"title\": {\"standoff\": 15}, \"zerolinecolor\": \"#283442\", \"zerolinewidth\": 2}}}, \"xaxis\": {\"anchor\": \"y\", \"domain\": [0.0, 1.0], \"title\": {\"text\": \"serve_choke_pct\"}}, \"yaxis\": {\"anchor\": \"x\", \"domain\": [0.0, 1.0], \"title\": {\"text\": \"receive_choke_pct\"}}},                        {\"responsive\": true}                    ).then(function(){\n                            \nvar gd = document.getElementById('20673149-816c-49f6-b653-e9cd52db4fc0');\nvar x = new MutationObserver(function (mutations, observer) {{\n        var display = window.getComputedStyle(gd).display;\n        if (!display || display === 'none') {{\n            console.log([gd, 'removed!']);\n            Plotly.purge(gd);\n            observer.disconnect();\n        }}\n}});\n\n// Listen for the removal of the full notebook cells\nvar notebookContainer = gd.closest('#notebook-container');\nif (notebookContainer) {{\n    x.observe(notebookContainer, {childList: true});\n}}\n\n// Listen for the clearing of the current output cell\nvar outputEl = gd.closest('.output');\nif (outputEl) {{\n    x.observe(outputEl, {childList: true});\n}}\n\n                        })                };                });            </script>        </div>"
     },
     "metadata": {},
     "output_type": "display_data"
    }
   ],
   "source": [
    "fig = px.scatter(data_frame=df, x=\"serve_choke_pct\", y=\"receive_choke_pct\", hover_name='name')\n",
    "fig.show()"
   ],
   "metadata": {
    "collapsed": false,
    "pycharm": {
     "name": "#%%\n"
    }
   }
  },
  {
   "cell_type": "code",
   "execution_count": 71,
   "outputs": [
    {
     "data": {
      "text/plain": "           name  receive_nobreak_won  receive_nobreak_faced  \\\n66      R Nadal                 7332                  17095   \n76   S Wawrinka                 5508                  14784   \n152  D Medvedev                 2324                   5813   \n155    A Murray                 6711                  16068   \n157  N Djokovic                10370                  24036   \n170     D Thiem                 3963                  10121   \n172     M Cilic                 5217                  13707   \n181   R Federer                 7417                  18504   \n\n     serve_nobreak_won  serve_nobreak_faced  receive_break_won  \\\n66               11621                16894               1086   \n76               10144                15097                580   \n152               3868                 5749                316   \n155              10578                15950                871   \n157              16195                23376               1455   \n170               6522                 9847                463   \n172               9001                13227                533   \n181              12585                17600                864   \n\n     receive_break_faced  serve_break_won  serve_break_faced  \\\n66                  2314              814               1212   \n76                  1478              734               1094   \n152                  677              269                453   \n155                 1966              745               1203   \n157                 3245             1032               1571   \n170                 1181              502                796   \n172                 1383              624                970   \n181                 2119              622                933   \n\n     serve_nobreak_pct  serve_break_pct  receive_nobreak_pct  \\\n66            0.687596         0.666159             0.428497   \n76            0.671712         0.664992             0.372481   \n152           0.672252         0.594937             0.399121   \n155           0.663053         0.617805             0.417306   \n157           0.692580         0.653501             0.431140   \n170           0.662109         0.627232             0.391253   \n172           0.680198         0.639252             0.380459   \n181           0.714633         0.660213             0.400613   \n\n     receive_break_pct  serve_choke_pct  receive_choke_pct  choke_pct  \n66            0.466446         0.001437           0.002051   0.001744  \n76            0.392902        -0.013280           0.019578   0.003149  \n152           0.458172         0.057315          -0.019052   0.019132  \n155           0.440949         0.025248           0.016357   0.020802  \n157           0.446936         0.019079           0.024204   0.021642  \n170           0.392662         0.014877           0.038591   0.026734  \n172           0.386379         0.020946           0.034080   0.027513  \n181           0.407391         0.034420           0.033222   0.033821  ",
      "text/html": "<div>\n<style scoped>\n    .dataframe tbody tr th:only-of-type {\n        vertical-align: middle;\n    }\n\n    .dataframe tbody tr th {\n        vertical-align: top;\n    }\n\n    .dataframe thead th {\n        text-align: right;\n    }\n</style>\n<table border=\"1\" class=\"dataframe\">\n  <thead>\n    <tr style=\"text-align: right;\">\n      <th></th>\n      <th>name</th>\n      <th>receive_nobreak_won</th>\n      <th>receive_nobreak_faced</th>\n      <th>serve_nobreak_won</th>\n      <th>serve_nobreak_faced</th>\n      <th>receive_break_won</th>\n      <th>receive_break_faced</th>\n      <th>serve_break_won</th>\n      <th>serve_break_faced</th>\n      <th>serve_nobreak_pct</th>\n      <th>serve_break_pct</th>\n      <th>receive_nobreak_pct</th>\n      <th>receive_break_pct</th>\n      <th>serve_choke_pct</th>\n      <th>receive_choke_pct</th>\n      <th>choke_pct</th>\n    </tr>\n  </thead>\n  <tbody>\n    <tr>\n      <th>66</th>\n      <td>R Nadal</td>\n      <td>7332</td>\n      <td>17095</td>\n      <td>11621</td>\n      <td>16894</td>\n      <td>1086</td>\n      <td>2314</td>\n      <td>814</td>\n      <td>1212</td>\n      <td>0.687596</td>\n      <td>0.666159</td>\n      <td>0.428497</td>\n      <td>0.466446</td>\n      <td>0.001437</td>\n      <td>0.002051</td>\n      <td>0.001744</td>\n    </tr>\n    <tr>\n      <th>76</th>\n      <td>S Wawrinka</td>\n      <td>5508</td>\n      <td>14784</td>\n      <td>10144</td>\n      <td>15097</td>\n      <td>580</td>\n      <td>1478</td>\n      <td>734</td>\n      <td>1094</td>\n      <td>0.671712</td>\n      <td>0.664992</td>\n      <td>0.372481</td>\n      <td>0.392902</td>\n      <td>-0.013280</td>\n      <td>0.019578</td>\n      <td>0.003149</td>\n    </tr>\n    <tr>\n      <th>152</th>\n      <td>D Medvedev</td>\n      <td>2324</td>\n      <td>5813</td>\n      <td>3868</td>\n      <td>5749</td>\n      <td>316</td>\n      <td>677</td>\n      <td>269</td>\n      <td>453</td>\n      <td>0.672252</td>\n      <td>0.594937</td>\n      <td>0.399121</td>\n      <td>0.458172</td>\n      <td>0.057315</td>\n      <td>-0.019052</td>\n      <td>0.019132</td>\n    </tr>\n    <tr>\n      <th>155</th>\n      <td>A Murray</td>\n      <td>6711</td>\n      <td>16068</td>\n      <td>10578</td>\n      <td>15950</td>\n      <td>871</td>\n      <td>1966</td>\n      <td>745</td>\n      <td>1203</td>\n      <td>0.663053</td>\n      <td>0.617805</td>\n      <td>0.417306</td>\n      <td>0.440949</td>\n      <td>0.025248</td>\n      <td>0.016357</td>\n      <td>0.020802</td>\n    </tr>\n    <tr>\n      <th>157</th>\n      <td>N Djokovic</td>\n      <td>10370</td>\n      <td>24036</td>\n      <td>16195</td>\n      <td>23376</td>\n      <td>1455</td>\n      <td>3245</td>\n      <td>1032</td>\n      <td>1571</td>\n      <td>0.692580</td>\n      <td>0.653501</td>\n      <td>0.431140</td>\n      <td>0.446936</td>\n      <td>0.019079</td>\n      <td>0.024204</td>\n      <td>0.021642</td>\n    </tr>\n    <tr>\n      <th>170</th>\n      <td>D Thiem</td>\n      <td>3963</td>\n      <td>10121</td>\n      <td>6522</td>\n      <td>9847</td>\n      <td>463</td>\n      <td>1181</td>\n      <td>502</td>\n      <td>796</td>\n      <td>0.662109</td>\n      <td>0.627232</td>\n      <td>0.391253</td>\n      <td>0.392662</td>\n      <td>0.014877</td>\n      <td>0.038591</td>\n      <td>0.026734</td>\n    </tr>\n    <tr>\n      <th>172</th>\n      <td>M Cilic</td>\n      <td>5217</td>\n      <td>13707</td>\n      <td>9001</td>\n      <td>13227</td>\n      <td>533</td>\n      <td>1383</td>\n      <td>624</td>\n      <td>970</td>\n      <td>0.680198</td>\n      <td>0.639252</td>\n      <td>0.380459</td>\n      <td>0.386379</td>\n      <td>0.020946</td>\n      <td>0.034080</td>\n      <td>0.027513</td>\n    </tr>\n    <tr>\n      <th>181</th>\n      <td>R Federer</td>\n      <td>7417</td>\n      <td>18504</td>\n      <td>12585</td>\n      <td>17600</td>\n      <td>864</td>\n      <td>2119</td>\n      <td>622</td>\n      <td>933</td>\n      <td>0.714633</td>\n      <td>0.660213</td>\n      <td>0.400613</td>\n      <td>0.407391</td>\n      <td>0.034420</td>\n      <td>0.033222</td>\n      <td>0.033821</td>\n    </tr>\n  </tbody>\n</table>\n</div>"
     },
     "execution_count": 71,
     "metadata": {},
     "output_type": "execute_result"
    }
   ],
   "source": [
    "df2 = df.iloc[inds, range(0, 16)]\n",
    "df2"
   ],
   "metadata": {
    "collapsed": false,
    "pycharm": {
     "name": "#%%\n"
    }
   }
  },
  {
   "cell_type": "code",
   "execution_count": 72,
   "outputs": [
    {
     "data": {
      "application/vnd.plotly.v1+json": {
       "config": {
        "plotlyServerURL": "https://plot.ly"
       },
       "data": [
        {
         "hovertemplate": "<b>%{hovertext}</b><br><br>name=R Nadal<br>serve_choke_pct=%{x}<br>receive_choke_pct=%{y}<extra></extra>",
         "hovertext": [
          "R Nadal"
         ],
         "legendgroup": "R Nadal",
         "marker": {
          "color": "#636efa",
          "symbol": "circle"
         },
         "mode": "markers",
         "name": "R Nadal",
         "orientation": "v",
         "showlegend": true,
         "type": "scatter",
         "x": [
          0.0014370853988639
         ],
         "xaxis": "x",
         "y": [
          0.0020509227817859
         ],
         "yaxis": "y"
        },
        {
         "hovertemplate": "<b>%{hovertext}</b><br><br>name=S Wawrinka<br>serve_choke_pct=%{x}<br>receive_choke_pct=%{y}<extra></extra>",
         "hovertext": [
          "S Wawrinka"
         ],
         "legendgroup": "S Wawrinka",
         "marker": {
          "color": "#EF553B",
          "symbol": "circle"
         },
         "mode": "markers",
         "name": "S Wawrinka",
         "orientation": "v",
         "showlegend": true,
         "type": "scatter",
         "x": [
          -0.0132801027796965
         ],
         "xaxis": "x",
         "y": [
          0.0195781078787915
         ],
         "yaxis": "y"
        },
        {
         "hovertemplate": "<b>%{hovertext}</b><br><br>name=D Medvedev<br>serve_choke_pct=%{x}<br>receive_choke_pct=%{y}<extra></extra>",
         "hovertext": [
          "D Medvedev"
         ],
         "legendgroup": "D Medvedev",
         "marker": {
          "color": "#00cc96",
          "symbol": "circle"
         },
         "mode": "markers",
         "name": "D Medvedev",
         "orientation": "v",
         "showlegend": true,
         "type": "scatter",
         "x": [
          0.0573149580908562
         ],
         "xaxis": "x",
         "y": [
          -0.0190518764034745
         ],
         "yaxis": "y"
        },
        {
         "hovertemplate": "<b>%{hovertext}</b><br><br>name=A Murray<br>serve_choke_pct=%{x}<br>receive_choke_pct=%{y}<extra></extra>",
         "hovertext": [
          "A Murray"
         ],
         "legendgroup": "A Murray",
         "marker": {
          "color": "#ab63fa",
          "symbol": "circle"
         },
         "mode": "markers",
         "name": "A Murray",
         "orientation": "v",
         "showlegend": true,
         "type": "scatter",
         "x": [
          0.0252478942674824
         ],
         "xaxis": "x",
         "y": [
          0.0163570960864456
         ],
         "yaxis": "y"
        },
        {
         "hovertemplate": "<b>%{hovertext}</b><br><br>name=N Djokovic<br>serve_choke_pct=%{x}<br>receive_choke_pct=%{y}<extra></extra>",
         "hovertext": [
          "N Djokovic"
         ],
         "legendgroup": "N Djokovic",
         "marker": {
          "color": "#FFA15A",
          "symbol": "circle"
         },
         "mode": "markers",
         "name": "N Djokovic",
         "orientation": "v",
         "showlegend": true,
         "type": "scatter",
         "x": [
          0.0190787581526402
         ],
         "xaxis": "x",
         "y": [
          0.0242044805395236
         ],
         "yaxis": "y"
        },
        {
         "hovertemplate": "<b>%{hovertext}</b><br><br>name=D Thiem<br>serve_choke_pct=%{x}<br>receive_choke_pct=%{y}<extra></extra>",
         "hovertext": [
          "D Thiem"
         ],
         "legendgroup": "D Thiem",
         "marker": {
          "color": "#19d3f3",
          "symbol": "circle"
         },
         "mode": "markers",
         "name": "D Thiem",
         "orientation": "v",
         "showlegend": true,
         "type": "scatter",
         "x": [
          0.0148770357896852
         ],
         "xaxis": "x",
         "y": [
          0.0385913191993249
         ],
         "yaxis": "y"
        },
        {
         "hovertemplate": "<b>%{hovertext}</b><br><br>name=M Cilic<br>serve_choke_pct=%{x}<br>receive_choke_pct=%{y}<extra></extra>",
         "hovertext": [
          "M Cilic"
         ],
         "legendgroup": "M Cilic",
         "marker": {
          "color": "#FF6692",
          "symbol": "circle"
         },
         "mode": "markers",
         "name": "M Cilic",
         "orientation": "v",
         "showlegend": true,
         "type": "scatter",
         "x": [
          0.0209457576460968
         ],
         "xaxis": "x",
         "y": [
          0.0340802258043295
         ],
         "yaxis": "y"
        },
        {
         "hovertemplate": "<b>%{hovertext}</b><br><br>name=R Federer<br>serve_choke_pct=%{x}<br>receive_choke_pct=%{y}<extra></extra>",
         "hovertext": [
          "R Federer"
         ],
         "legendgroup": "R Federer",
         "marker": {
          "color": "#B6E880",
          "symbol": "circle"
         },
         "mode": "markers",
         "name": "R Federer",
         "orientation": "v",
         "showlegend": true,
         "type": "scatter",
         "x": [
          0.034419796435154
         ],
         "xaxis": "x",
         "y": [
          0.0332220549080191
         ],
         "yaxis": "y"
        }
       ],
       "layout": {
        "legend": {
         "title": {
          "text": "name"
         },
         "tracegroupgap": 0
        },
        "margin": {
         "t": 60
        },
        "template": {
         "data": {
          "bar": [
           {
            "error_x": {
             "color": "#f2f5fa"
            },
            "error_y": {
             "color": "#f2f5fa"
            },
            "marker": {
             "line": {
              "color": "rgb(17,17,17)",
              "width": 0.5
             }
            },
            "type": "bar"
           }
          ],
          "barpolar": [
           {
            "marker": {
             "line": {
              "color": "rgb(17,17,17)",
              "width": 0.5
             }
            },
            "type": "barpolar"
           }
          ],
          "carpet": [
           {
            "aaxis": {
             "endlinecolor": "#A2B1C6",
             "gridcolor": "#506784",
             "linecolor": "#506784",
             "minorgridcolor": "#506784",
             "startlinecolor": "#A2B1C6"
            },
            "baxis": {
             "endlinecolor": "#A2B1C6",
             "gridcolor": "#506784",
             "linecolor": "#506784",
             "minorgridcolor": "#506784",
             "startlinecolor": "#A2B1C6"
            },
            "type": "carpet"
           }
          ],
          "choropleth": [
           {
            "colorbar": {
             "outlinewidth": 0,
             "ticks": ""
            },
            "type": "choropleth"
           }
          ],
          "contour": [
           {
            "colorbar": {
             "outlinewidth": 0,
             "ticks": ""
            },
            "colorscale": [
             [
              0.0,
              "#0d0887"
             ],
             [
              0.1111111111111111,
              "#46039f"
             ],
             [
              0.2222222222222222,
              "#7201a8"
             ],
             [
              0.3333333333333333,
              "#9c179e"
             ],
             [
              0.4444444444444444,
              "#bd3786"
             ],
             [
              0.5555555555555556,
              "#d8576b"
             ],
             [
              0.6666666666666666,
              "#ed7953"
             ],
             [
              0.7777777777777778,
              "#fb9f3a"
             ],
             [
              0.8888888888888888,
              "#fdca26"
             ],
             [
              1.0,
              "#f0f921"
             ]
            ],
            "type": "contour"
           }
          ],
          "contourcarpet": [
           {
            "colorbar": {
             "outlinewidth": 0,
             "ticks": ""
            },
            "type": "contourcarpet"
           }
          ],
          "heatmap": [
           {
            "colorbar": {
             "outlinewidth": 0,
             "ticks": ""
            },
            "colorscale": [
             [
              0.0,
              "#0d0887"
             ],
             [
              0.1111111111111111,
              "#46039f"
             ],
             [
              0.2222222222222222,
              "#7201a8"
             ],
             [
              0.3333333333333333,
              "#9c179e"
             ],
             [
              0.4444444444444444,
              "#bd3786"
             ],
             [
              0.5555555555555556,
              "#d8576b"
             ],
             [
              0.6666666666666666,
              "#ed7953"
             ],
             [
              0.7777777777777778,
              "#fb9f3a"
             ],
             [
              0.8888888888888888,
              "#fdca26"
             ],
             [
              1.0,
              "#f0f921"
             ]
            ],
            "type": "heatmap"
           }
          ],
          "heatmapgl": [
           {
            "colorbar": {
             "outlinewidth": 0,
             "ticks": ""
            },
            "colorscale": [
             [
              0.0,
              "#0d0887"
             ],
             [
              0.1111111111111111,
              "#46039f"
             ],
             [
              0.2222222222222222,
              "#7201a8"
             ],
             [
              0.3333333333333333,
              "#9c179e"
             ],
             [
              0.4444444444444444,
              "#bd3786"
             ],
             [
              0.5555555555555556,
              "#d8576b"
             ],
             [
              0.6666666666666666,
              "#ed7953"
             ],
             [
              0.7777777777777778,
              "#fb9f3a"
             ],
             [
              0.8888888888888888,
              "#fdca26"
             ],
             [
              1.0,
              "#f0f921"
             ]
            ],
            "type": "heatmapgl"
           }
          ],
          "histogram": [
           {
            "marker": {
             "colorbar": {
              "outlinewidth": 0,
              "ticks": ""
             }
            },
            "type": "histogram"
           }
          ],
          "histogram2d": [
           {
            "colorbar": {
             "outlinewidth": 0,
             "ticks": ""
            },
            "colorscale": [
             [
              0.0,
              "#0d0887"
             ],
             [
              0.1111111111111111,
              "#46039f"
             ],
             [
              0.2222222222222222,
              "#7201a8"
             ],
             [
              0.3333333333333333,
              "#9c179e"
             ],
             [
              0.4444444444444444,
              "#bd3786"
             ],
             [
              0.5555555555555556,
              "#d8576b"
             ],
             [
              0.6666666666666666,
              "#ed7953"
             ],
             [
              0.7777777777777778,
              "#fb9f3a"
             ],
             [
              0.8888888888888888,
              "#fdca26"
             ],
             [
              1.0,
              "#f0f921"
             ]
            ],
            "type": "histogram2d"
           }
          ],
          "histogram2dcontour": [
           {
            "colorbar": {
             "outlinewidth": 0,
             "ticks": ""
            },
            "colorscale": [
             [
              0.0,
              "#0d0887"
             ],
             [
              0.1111111111111111,
              "#46039f"
             ],
             [
              0.2222222222222222,
              "#7201a8"
             ],
             [
              0.3333333333333333,
              "#9c179e"
             ],
             [
              0.4444444444444444,
              "#bd3786"
             ],
             [
              0.5555555555555556,
              "#d8576b"
             ],
             [
              0.6666666666666666,
              "#ed7953"
             ],
             [
              0.7777777777777778,
              "#fb9f3a"
             ],
             [
              0.8888888888888888,
              "#fdca26"
             ],
             [
              1.0,
              "#f0f921"
             ]
            ],
            "type": "histogram2dcontour"
           }
          ],
          "mesh3d": [
           {
            "colorbar": {
             "outlinewidth": 0,
             "ticks": ""
            },
            "type": "mesh3d"
           }
          ],
          "parcoords": [
           {
            "line": {
             "colorbar": {
              "outlinewidth": 0,
              "ticks": ""
             }
            },
            "type": "parcoords"
           }
          ],
          "pie": [
           {
            "automargin": true,
            "type": "pie"
           }
          ],
          "scatter": [
           {
            "marker": {
             "line": {
              "color": "#283442"
             }
            },
            "type": "scatter"
           }
          ],
          "scatter3d": [
           {
            "line": {
             "colorbar": {
              "outlinewidth": 0,
              "ticks": ""
             }
            },
            "marker": {
             "colorbar": {
              "outlinewidth": 0,
              "ticks": ""
             }
            },
            "type": "scatter3d"
           }
          ],
          "scattercarpet": [
           {
            "marker": {
             "colorbar": {
              "outlinewidth": 0,
              "ticks": ""
             }
            },
            "type": "scattercarpet"
           }
          ],
          "scattergeo": [
           {
            "marker": {
             "colorbar": {
              "outlinewidth": 0,
              "ticks": ""
             }
            },
            "type": "scattergeo"
           }
          ],
          "scattergl": [
           {
            "marker": {
             "line": {
              "color": "#283442"
             }
            },
            "type": "scattergl"
           }
          ],
          "scattermapbox": [
           {
            "marker": {
             "colorbar": {
              "outlinewidth": 0,
              "ticks": ""
             }
            },
            "type": "scattermapbox"
           }
          ],
          "scatterpolar": [
           {
            "marker": {
             "colorbar": {
              "outlinewidth": 0,
              "ticks": ""
             }
            },
            "type": "scatterpolar"
           }
          ],
          "scatterpolargl": [
           {
            "marker": {
             "colorbar": {
              "outlinewidth": 0,
              "ticks": ""
             }
            },
            "type": "scatterpolargl"
           }
          ],
          "scatterternary": [
           {
            "marker": {
             "colorbar": {
              "outlinewidth": 0,
              "ticks": ""
             }
            },
            "type": "scatterternary"
           }
          ],
          "surface": [
           {
            "colorbar": {
             "outlinewidth": 0,
             "ticks": ""
            },
            "colorscale": [
             [
              0.0,
              "#0d0887"
             ],
             [
              0.1111111111111111,
              "#46039f"
             ],
             [
              0.2222222222222222,
              "#7201a8"
             ],
             [
              0.3333333333333333,
              "#9c179e"
             ],
             [
              0.4444444444444444,
              "#bd3786"
             ],
             [
              0.5555555555555556,
              "#d8576b"
             ],
             [
              0.6666666666666666,
              "#ed7953"
             ],
             [
              0.7777777777777778,
              "#fb9f3a"
             ],
             [
              0.8888888888888888,
              "#fdca26"
             ],
             [
              1.0,
              "#f0f921"
             ]
            ],
            "type": "surface"
           }
          ],
          "table": [
           {
            "cells": {
             "fill": {
              "color": "#506784"
             },
             "line": {
              "color": "rgb(17,17,17)"
             }
            },
            "header": {
             "fill": {
              "color": "#2a3f5f"
             },
             "line": {
              "color": "rgb(17,17,17)"
             }
            },
            "type": "table"
           }
          ]
         },
         "layout": {
          "annotationdefaults": {
           "arrowcolor": "#f2f5fa",
           "arrowhead": 0,
           "arrowwidth": 1
          },
          "autotypenumbers": "strict",
          "coloraxis": {
           "colorbar": {
            "outlinewidth": 0,
            "ticks": ""
           }
          },
          "colorscale": {
           "diverging": [
            [
             0,
             "#8e0152"
            ],
            [
             0.1,
             "#c51b7d"
            ],
            [
             0.2,
             "#de77ae"
            ],
            [
             0.3,
             "#f1b6da"
            ],
            [
             0.4,
             "#fde0ef"
            ],
            [
             0.5,
             "#f7f7f7"
            ],
            [
             0.6,
             "#e6f5d0"
            ],
            [
             0.7,
             "#b8e186"
            ],
            [
             0.8,
             "#7fbc41"
            ],
            [
             0.9,
             "#4d9221"
            ],
            [
             1,
             "#276419"
            ]
           ],
           "sequential": [
            [
             0.0,
             "#0d0887"
            ],
            [
             0.1111111111111111,
             "#46039f"
            ],
            [
             0.2222222222222222,
             "#7201a8"
            ],
            [
             0.3333333333333333,
             "#9c179e"
            ],
            [
             0.4444444444444444,
             "#bd3786"
            ],
            [
             0.5555555555555556,
             "#d8576b"
            ],
            [
             0.6666666666666666,
             "#ed7953"
            ],
            [
             0.7777777777777778,
             "#fb9f3a"
            ],
            [
             0.8888888888888888,
             "#fdca26"
            ],
            [
             1.0,
             "#f0f921"
            ]
           ],
           "sequentialminus": [
            [
             0.0,
             "#0d0887"
            ],
            [
             0.1111111111111111,
             "#46039f"
            ],
            [
             0.2222222222222222,
             "#7201a8"
            ],
            [
             0.3333333333333333,
             "#9c179e"
            ],
            [
             0.4444444444444444,
             "#bd3786"
            ],
            [
             0.5555555555555556,
             "#d8576b"
            ],
            [
             0.6666666666666666,
             "#ed7953"
            ],
            [
             0.7777777777777778,
             "#fb9f3a"
            ],
            [
             0.8888888888888888,
             "#fdca26"
            ],
            [
             1.0,
             "#f0f921"
            ]
           ]
          },
          "colorway": [
           "#636efa",
           "#EF553B",
           "#00cc96",
           "#ab63fa",
           "#FFA15A",
           "#19d3f3",
           "#FF6692",
           "#B6E880",
           "#FF97FF",
           "#FECB52"
          ],
          "font": {
           "color": "#f2f5fa"
          },
          "geo": {
           "bgcolor": "rgb(17,17,17)",
           "lakecolor": "rgb(17,17,17)",
           "landcolor": "rgb(17,17,17)",
           "showlakes": true,
           "showland": true,
           "subunitcolor": "#506784"
          },
          "hoverlabel": {
           "align": "left"
          },
          "hovermode": "closest",
          "mapbox": {
           "style": "dark"
          },
          "paper_bgcolor": "rgb(17,17,17)",
          "plot_bgcolor": "rgb(17,17,17)",
          "polar": {
           "angularaxis": {
            "gridcolor": "#506784",
            "linecolor": "#506784",
            "ticks": ""
           },
           "bgcolor": "rgb(17,17,17)",
           "radialaxis": {
            "gridcolor": "#506784",
            "linecolor": "#506784",
            "ticks": ""
           }
          },
          "scene": {
           "xaxis": {
            "backgroundcolor": "rgb(17,17,17)",
            "gridcolor": "#506784",
            "gridwidth": 2,
            "linecolor": "#506784",
            "showbackground": true,
            "ticks": "",
            "zerolinecolor": "#C8D4E3"
           },
           "yaxis": {
            "backgroundcolor": "rgb(17,17,17)",
            "gridcolor": "#506784",
            "gridwidth": 2,
            "linecolor": "#506784",
            "showbackground": true,
            "ticks": "",
            "zerolinecolor": "#C8D4E3"
           },
           "zaxis": {
            "backgroundcolor": "rgb(17,17,17)",
            "gridcolor": "#506784",
            "gridwidth": 2,
            "linecolor": "#506784",
            "showbackground": true,
            "ticks": "",
            "zerolinecolor": "#C8D4E3"
           }
          },
          "shapedefaults": {
           "line": {
            "color": "#f2f5fa"
           }
          },
          "sliderdefaults": {
           "bgcolor": "#C8D4E3",
           "bordercolor": "rgb(17,17,17)",
           "borderwidth": 1,
           "tickwidth": 0
          },
          "ternary": {
           "aaxis": {
            "gridcolor": "#506784",
            "linecolor": "#506784",
            "ticks": ""
           },
           "baxis": {
            "gridcolor": "#506784",
            "linecolor": "#506784",
            "ticks": ""
           },
           "bgcolor": "rgb(17,17,17)",
           "caxis": {
            "gridcolor": "#506784",
            "linecolor": "#506784",
            "ticks": ""
           }
          },
          "title": {
           "x": 0.05
          },
          "updatemenudefaults": {
           "bgcolor": "#506784",
           "borderwidth": 0
          },
          "xaxis": {
           "automargin": true,
           "gridcolor": "#283442",
           "linecolor": "#506784",
           "ticks": "",
           "title": {
            "standoff": 15
           },
           "zerolinecolor": "#283442",
           "zerolinewidth": 2
          },
          "yaxis": {
           "automargin": true,
           "gridcolor": "#283442",
           "linecolor": "#506784",
           "ticks": "",
           "title": {
            "standoff": 15
           },
           "zerolinecolor": "#283442",
           "zerolinewidth": 2
          }
         }
        },
        "xaxis": {
         "anchor": "y",
         "domain": [
          0.0,
          1.0
         ],
         "title": {
          "text": "serve_choke_pct"
         }
        },
        "yaxis": {
         "anchor": "x",
         "domain": [
          0.0,
          1.0
         ],
         "title": {
          "text": "receive_choke_pct"
         }
        }
       }
      },
      "text/html": "<div>                            <div id=\"e465c346-9c1e-4040-bd5a-569592fb27e3\" class=\"plotly-graph-div\" style=\"height:525px; width:100%;\"></div>            <script type=\"text/javascript\">                require([\"plotly\"], function(Plotly) {                    window.PLOTLYENV=window.PLOTLYENV || {};                                    if (document.getElementById(\"e465c346-9c1e-4040-bd5a-569592fb27e3\")) {                    Plotly.newPlot(                        \"e465c346-9c1e-4040-bd5a-569592fb27e3\",                        [{\"hovertemplate\": \"<b>%{hovertext}</b><br><br>name=R Nadal<br>serve_choke_pct=%{x}<br>receive_choke_pct=%{y}<extra></extra>\", \"hovertext\": [\"R Nadal\"], \"legendgroup\": \"R Nadal\", \"marker\": {\"color\": \"#636efa\", \"symbol\": \"circle\"}, \"mode\": \"markers\", \"name\": \"R Nadal\", \"orientation\": \"v\", \"showlegend\": true, \"type\": \"scatter\", \"x\": [0.0014370853988639], \"xaxis\": \"x\", \"y\": [0.0020509227817859], \"yaxis\": \"y\"}, {\"hovertemplate\": \"<b>%{hovertext}</b><br><br>name=S Wawrinka<br>serve_choke_pct=%{x}<br>receive_choke_pct=%{y}<extra></extra>\", \"hovertext\": [\"S Wawrinka\"], \"legendgroup\": \"S Wawrinka\", \"marker\": {\"color\": \"#EF553B\", \"symbol\": \"circle\"}, \"mode\": \"markers\", \"name\": \"S Wawrinka\", \"orientation\": \"v\", \"showlegend\": true, \"type\": \"scatter\", \"x\": [-0.0132801027796965], \"xaxis\": \"x\", \"y\": [0.0195781078787915], \"yaxis\": \"y\"}, {\"hovertemplate\": \"<b>%{hovertext}</b><br><br>name=D Medvedev<br>serve_choke_pct=%{x}<br>receive_choke_pct=%{y}<extra></extra>\", \"hovertext\": [\"D Medvedev\"], \"legendgroup\": \"D Medvedev\", \"marker\": {\"color\": \"#00cc96\", \"symbol\": \"circle\"}, \"mode\": \"markers\", \"name\": \"D Medvedev\", \"orientation\": \"v\", \"showlegend\": true, \"type\": \"scatter\", \"x\": [0.0573149580908562], \"xaxis\": \"x\", \"y\": [-0.0190518764034745], \"yaxis\": \"y\"}, {\"hovertemplate\": \"<b>%{hovertext}</b><br><br>name=A Murray<br>serve_choke_pct=%{x}<br>receive_choke_pct=%{y}<extra></extra>\", \"hovertext\": [\"A Murray\"], \"legendgroup\": \"A Murray\", \"marker\": {\"color\": \"#ab63fa\", \"symbol\": \"circle\"}, \"mode\": \"markers\", \"name\": \"A Murray\", \"orientation\": \"v\", \"showlegend\": true, \"type\": \"scatter\", \"x\": [0.0252478942674824], \"xaxis\": \"x\", \"y\": [0.0163570960864456], \"yaxis\": \"y\"}, {\"hovertemplate\": \"<b>%{hovertext}</b><br><br>name=N Djokovic<br>serve_choke_pct=%{x}<br>receive_choke_pct=%{y}<extra></extra>\", \"hovertext\": [\"N Djokovic\"], \"legendgroup\": \"N Djokovic\", \"marker\": {\"color\": \"#FFA15A\", \"symbol\": \"circle\"}, \"mode\": \"markers\", \"name\": \"N Djokovic\", \"orientation\": \"v\", \"showlegend\": true, \"type\": \"scatter\", \"x\": [0.0190787581526402], \"xaxis\": \"x\", \"y\": [0.0242044805395236], \"yaxis\": \"y\"}, {\"hovertemplate\": \"<b>%{hovertext}</b><br><br>name=D Thiem<br>serve_choke_pct=%{x}<br>receive_choke_pct=%{y}<extra></extra>\", \"hovertext\": [\"D Thiem\"], \"legendgroup\": \"D Thiem\", \"marker\": {\"color\": \"#19d3f3\", \"symbol\": \"circle\"}, \"mode\": \"markers\", \"name\": \"D Thiem\", \"orientation\": \"v\", \"showlegend\": true, \"type\": \"scatter\", \"x\": [0.0148770357896852], \"xaxis\": \"x\", \"y\": [0.0385913191993249], \"yaxis\": \"y\"}, {\"hovertemplate\": \"<b>%{hovertext}</b><br><br>name=M Cilic<br>serve_choke_pct=%{x}<br>receive_choke_pct=%{y}<extra></extra>\", \"hovertext\": [\"M Cilic\"], \"legendgroup\": \"M Cilic\", \"marker\": {\"color\": \"#FF6692\", \"symbol\": \"circle\"}, \"mode\": \"markers\", \"name\": \"M Cilic\", \"orientation\": \"v\", \"showlegend\": true, \"type\": \"scatter\", \"x\": [0.0209457576460968], \"xaxis\": \"x\", \"y\": [0.0340802258043295], \"yaxis\": \"y\"}, {\"hovertemplate\": \"<b>%{hovertext}</b><br><br>name=R Federer<br>serve_choke_pct=%{x}<br>receive_choke_pct=%{y}<extra></extra>\", \"hovertext\": [\"R Federer\"], \"legendgroup\": \"R Federer\", \"marker\": {\"color\": \"#B6E880\", \"symbol\": \"circle\"}, \"mode\": \"markers\", \"name\": \"R Federer\", \"orientation\": \"v\", \"showlegend\": true, \"type\": \"scatter\", \"x\": [0.034419796435154], \"xaxis\": \"x\", \"y\": [0.0332220549080191], \"yaxis\": \"y\"}],                        {\"legend\": {\"title\": {\"text\": \"name\"}, \"tracegroupgap\": 0}, \"margin\": {\"t\": 60}, \"template\": {\"data\": {\"bar\": [{\"error_x\": {\"color\": \"#f2f5fa\"}, \"error_y\": {\"color\": \"#f2f5fa\"}, \"marker\": {\"line\": {\"color\": \"rgb(17,17,17)\", \"width\": 0.5}}, \"type\": \"bar\"}], \"barpolar\": [{\"marker\": {\"line\": {\"color\": \"rgb(17,17,17)\", \"width\": 0.5}}, \"type\": \"barpolar\"}], \"carpet\": [{\"aaxis\": {\"endlinecolor\": \"#A2B1C6\", \"gridcolor\": \"#506784\", \"linecolor\": \"#506784\", \"minorgridcolor\": \"#506784\", \"startlinecolor\": \"#A2B1C6\"}, \"baxis\": {\"endlinecolor\": \"#A2B1C6\", \"gridcolor\": \"#506784\", \"linecolor\": \"#506784\", \"minorgridcolor\": \"#506784\", \"startlinecolor\": \"#A2B1C6\"}, \"type\": \"carpet\"}], \"choropleth\": [{\"colorbar\": {\"outlinewidth\": 0, \"ticks\": \"\"}, \"type\": \"choropleth\"}], \"contour\": [{\"colorbar\": {\"outlinewidth\": 0, \"ticks\": \"\"}, \"colorscale\": [[0.0, \"#0d0887\"], [0.1111111111111111, \"#46039f\"], [0.2222222222222222, \"#7201a8\"], [0.3333333333333333, \"#9c179e\"], [0.4444444444444444, \"#bd3786\"], [0.5555555555555556, \"#d8576b\"], [0.6666666666666666, \"#ed7953\"], [0.7777777777777778, \"#fb9f3a\"], [0.8888888888888888, \"#fdca26\"], [1.0, \"#f0f921\"]], \"type\": \"contour\"}], \"contourcarpet\": [{\"colorbar\": {\"outlinewidth\": 0, \"ticks\": \"\"}, \"type\": \"contourcarpet\"}], \"heatmap\": [{\"colorbar\": {\"outlinewidth\": 0, \"ticks\": \"\"}, \"colorscale\": [[0.0, \"#0d0887\"], [0.1111111111111111, \"#46039f\"], [0.2222222222222222, \"#7201a8\"], [0.3333333333333333, \"#9c179e\"], [0.4444444444444444, \"#bd3786\"], [0.5555555555555556, \"#d8576b\"], [0.6666666666666666, \"#ed7953\"], [0.7777777777777778, \"#fb9f3a\"], [0.8888888888888888, \"#fdca26\"], [1.0, \"#f0f921\"]], \"type\": \"heatmap\"}], \"heatmapgl\": [{\"colorbar\": {\"outlinewidth\": 0, \"ticks\": \"\"}, \"colorscale\": [[0.0, \"#0d0887\"], [0.1111111111111111, \"#46039f\"], [0.2222222222222222, \"#7201a8\"], [0.3333333333333333, \"#9c179e\"], [0.4444444444444444, \"#bd3786\"], [0.5555555555555556, \"#d8576b\"], [0.6666666666666666, \"#ed7953\"], [0.7777777777777778, \"#fb9f3a\"], [0.8888888888888888, \"#fdca26\"], [1.0, \"#f0f921\"]], \"type\": \"heatmapgl\"}], \"histogram\": [{\"marker\": {\"colorbar\": {\"outlinewidth\": 0, \"ticks\": \"\"}}, \"type\": \"histogram\"}], \"histogram2d\": [{\"colorbar\": {\"outlinewidth\": 0, \"ticks\": \"\"}, \"colorscale\": [[0.0, \"#0d0887\"], [0.1111111111111111, \"#46039f\"], [0.2222222222222222, \"#7201a8\"], [0.3333333333333333, \"#9c179e\"], [0.4444444444444444, \"#bd3786\"], [0.5555555555555556, \"#d8576b\"], [0.6666666666666666, \"#ed7953\"], [0.7777777777777778, \"#fb9f3a\"], [0.8888888888888888, \"#fdca26\"], [1.0, \"#f0f921\"]], \"type\": \"histogram2d\"}], \"histogram2dcontour\": [{\"colorbar\": {\"outlinewidth\": 0, \"ticks\": \"\"}, \"colorscale\": [[0.0, \"#0d0887\"], [0.1111111111111111, \"#46039f\"], [0.2222222222222222, \"#7201a8\"], [0.3333333333333333, \"#9c179e\"], [0.4444444444444444, \"#bd3786\"], [0.5555555555555556, \"#d8576b\"], [0.6666666666666666, \"#ed7953\"], [0.7777777777777778, \"#fb9f3a\"], [0.8888888888888888, \"#fdca26\"], [1.0, \"#f0f921\"]], \"type\": \"histogram2dcontour\"}], \"mesh3d\": [{\"colorbar\": {\"outlinewidth\": 0, \"ticks\": \"\"}, \"type\": \"mesh3d\"}], \"parcoords\": [{\"line\": {\"colorbar\": {\"outlinewidth\": 0, \"ticks\": \"\"}}, \"type\": \"parcoords\"}], \"pie\": [{\"automargin\": true, \"type\": \"pie\"}], \"scatter\": [{\"marker\": {\"line\": {\"color\": \"#283442\"}}, \"type\": \"scatter\"}], \"scatter3d\": [{\"line\": {\"colorbar\": {\"outlinewidth\": 0, \"ticks\": \"\"}}, \"marker\": {\"colorbar\": {\"outlinewidth\": 0, \"ticks\": \"\"}}, \"type\": \"scatter3d\"}], \"scattercarpet\": [{\"marker\": {\"colorbar\": {\"outlinewidth\": 0, \"ticks\": \"\"}}, \"type\": \"scattercarpet\"}], \"scattergeo\": [{\"marker\": {\"colorbar\": {\"outlinewidth\": 0, \"ticks\": \"\"}}, \"type\": \"scattergeo\"}], \"scattergl\": [{\"marker\": {\"line\": {\"color\": \"#283442\"}}, \"type\": \"scattergl\"}], \"scattermapbox\": [{\"marker\": {\"colorbar\": {\"outlinewidth\": 0, \"ticks\": \"\"}}, \"type\": \"scattermapbox\"}], \"scatterpolar\": [{\"marker\": {\"colorbar\": {\"outlinewidth\": 0, \"ticks\": \"\"}}, \"type\": \"scatterpolar\"}], \"scatterpolargl\": [{\"marker\": {\"colorbar\": {\"outlinewidth\": 0, \"ticks\": \"\"}}, \"type\": \"scatterpolargl\"}], \"scatterternary\": [{\"marker\": {\"colorbar\": {\"outlinewidth\": 0, \"ticks\": \"\"}}, \"type\": \"scatterternary\"}], \"surface\": [{\"colorbar\": {\"outlinewidth\": 0, \"ticks\": \"\"}, \"colorscale\": [[0.0, \"#0d0887\"], [0.1111111111111111, \"#46039f\"], [0.2222222222222222, \"#7201a8\"], [0.3333333333333333, \"#9c179e\"], [0.4444444444444444, \"#bd3786\"], [0.5555555555555556, \"#d8576b\"], [0.6666666666666666, \"#ed7953\"], [0.7777777777777778, \"#fb9f3a\"], [0.8888888888888888, \"#fdca26\"], [1.0, \"#f0f921\"]], \"type\": \"surface\"}], \"table\": [{\"cells\": {\"fill\": {\"color\": \"#506784\"}, \"line\": {\"color\": \"rgb(17,17,17)\"}}, \"header\": {\"fill\": {\"color\": \"#2a3f5f\"}, \"line\": {\"color\": \"rgb(17,17,17)\"}}, \"type\": \"table\"}]}, \"layout\": {\"annotationdefaults\": {\"arrowcolor\": \"#f2f5fa\", \"arrowhead\": 0, \"arrowwidth\": 1}, \"autotypenumbers\": \"strict\", \"coloraxis\": {\"colorbar\": {\"outlinewidth\": 0, \"ticks\": \"\"}}, \"colorscale\": {\"diverging\": [[0, \"#8e0152\"], [0.1, \"#c51b7d\"], [0.2, \"#de77ae\"], [0.3, \"#f1b6da\"], [0.4, \"#fde0ef\"], [0.5, \"#f7f7f7\"], [0.6, \"#e6f5d0\"], [0.7, \"#b8e186\"], [0.8, \"#7fbc41\"], [0.9, \"#4d9221\"], [1, \"#276419\"]], \"sequential\": [[0.0, \"#0d0887\"], [0.1111111111111111, \"#46039f\"], [0.2222222222222222, \"#7201a8\"], [0.3333333333333333, \"#9c179e\"], [0.4444444444444444, \"#bd3786\"], [0.5555555555555556, \"#d8576b\"], [0.6666666666666666, \"#ed7953\"], [0.7777777777777778, \"#fb9f3a\"], [0.8888888888888888, \"#fdca26\"], [1.0, \"#f0f921\"]], \"sequentialminus\": [[0.0, \"#0d0887\"], [0.1111111111111111, \"#46039f\"], [0.2222222222222222, \"#7201a8\"], [0.3333333333333333, \"#9c179e\"], [0.4444444444444444, \"#bd3786\"], [0.5555555555555556, \"#d8576b\"], [0.6666666666666666, \"#ed7953\"], [0.7777777777777778, \"#fb9f3a\"], [0.8888888888888888, \"#fdca26\"], [1.0, \"#f0f921\"]]}, \"colorway\": [\"#636efa\", \"#EF553B\", \"#00cc96\", \"#ab63fa\", \"#FFA15A\", \"#19d3f3\", \"#FF6692\", \"#B6E880\", \"#FF97FF\", \"#FECB52\"], \"font\": {\"color\": \"#f2f5fa\"}, \"geo\": {\"bgcolor\": \"rgb(17,17,17)\", \"lakecolor\": \"rgb(17,17,17)\", \"landcolor\": \"rgb(17,17,17)\", \"showlakes\": true, \"showland\": true, \"subunitcolor\": \"#506784\"}, \"hoverlabel\": {\"align\": \"left\"}, \"hovermode\": \"closest\", \"mapbox\": {\"style\": \"dark\"}, \"paper_bgcolor\": \"rgb(17,17,17)\", \"plot_bgcolor\": \"rgb(17,17,17)\", \"polar\": {\"angularaxis\": {\"gridcolor\": \"#506784\", \"linecolor\": \"#506784\", \"ticks\": \"\"}, \"bgcolor\": \"rgb(17,17,17)\", \"radialaxis\": {\"gridcolor\": \"#506784\", \"linecolor\": \"#506784\", \"ticks\": \"\"}}, \"scene\": {\"xaxis\": {\"backgroundcolor\": \"rgb(17,17,17)\", \"gridcolor\": \"#506784\", \"gridwidth\": 2, \"linecolor\": \"#506784\", \"showbackground\": true, \"ticks\": \"\", \"zerolinecolor\": \"#C8D4E3\"}, \"yaxis\": {\"backgroundcolor\": \"rgb(17,17,17)\", \"gridcolor\": \"#506784\", \"gridwidth\": 2, \"linecolor\": \"#506784\", \"showbackground\": true, \"ticks\": \"\", \"zerolinecolor\": \"#C8D4E3\"}, \"zaxis\": {\"backgroundcolor\": \"rgb(17,17,17)\", \"gridcolor\": \"#506784\", \"gridwidth\": 2, \"linecolor\": \"#506784\", \"showbackground\": true, \"ticks\": \"\", \"zerolinecolor\": \"#C8D4E3\"}}, \"shapedefaults\": {\"line\": {\"color\": \"#f2f5fa\"}}, \"sliderdefaults\": {\"bgcolor\": \"#C8D4E3\", \"bordercolor\": \"rgb(17,17,17)\", \"borderwidth\": 1, \"tickwidth\": 0}, \"ternary\": {\"aaxis\": {\"gridcolor\": \"#506784\", \"linecolor\": \"#506784\", \"ticks\": \"\"}, \"baxis\": {\"gridcolor\": \"#506784\", \"linecolor\": \"#506784\", \"ticks\": \"\"}, \"bgcolor\": \"rgb(17,17,17)\", \"caxis\": {\"gridcolor\": \"#506784\", \"linecolor\": \"#506784\", \"ticks\": \"\"}}, \"title\": {\"x\": 0.05}, \"updatemenudefaults\": {\"bgcolor\": \"#506784\", \"borderwidth\": 0}, \"xaxis\": {\"automargin\": true, \"gridcolor\": \"#283442\", \"linecolor\": \"#506784\", \"ticks\": \"\", \"title\": {\"standoff\": 15}, \"zerolinecolor\": \"#283442\", \"zerolinewidth\": 2}, \"yaxis\": {\"automargin\": true, \"gridcolor\": \"#283442\", \"linecolor\": \"#506784\", \"ticks\": \"\", \"title\": {\"standoff\": 15}, \"zerolinecolor\": \"#283442\", \"zerolinewidth\": 2}}}, \"xaxis\": {\"anchor\": \"y\", \"domain\": [0.0, 1.0], \"title\": {\"text\": \"serve_choke_pct\"}}, \"yaxis\": {\"anchor\": \"x\", \"domain\": [0.0, 1.0], \"title\": {\"text\": \"receive_choke_pct\"}}},                        {\"responsive\": true}                    ).then(function(){\n                            \nvar gd = document.getElementById('e465c346-9c1e-4040-bd5a-569592fb27e3');\nvar x = new MutationObserver(function (mutations, observer) {{\n        var display = window.getComputedStyle(gd).display;\n        if (!display || display === 'none') {{\n            console.log([gd, 'removed!']);\n            Plotly.purge(gd);\n            observer.disconnect();\n        }}\n}});\n\n// Listen for the removal of the full notebook cells\nvar notebookContainer = gd.closest('#notebook-container');\nif (notebookContainer) {{\n    x.observe(notebookContainer, {childList: true});\n}}\n\n// Listen for the clearing of the current output cell\nvar outputEl = gd.closest('.output');\nif (outputEl) {{\n    x.observe(outputEl, {childList: true});\n}}\n\n                        })                };                });            </script>        </div>"
     },
     "metadata": {},
     "output_type": "display_data"
    }
   ],
   "source": [
    "fig = px.scatter(data_frame=df2, x=\"serve_choke_pct\", y=\"receive_choke_pct\", hover_name='name', color='name')\n",
    "fig.show()"
   ],
   "metadata": {
    "collapsed": false,
    "pycharm": {
     "name": "#%%\n"
    }
   }
  },
  {
   "cell_type": "code",
   "execution_count": 73,
   "outputs": [
    {
     "data": {
      "text/plain": "           name  receive_nobreak_won  receive_nobreak_faced  \\\n66      R Nadal                 7332                  17095   \n157  N Djokovic                10370                  24036   \n\n     serve_nobreak_won  serve_nobreak_faced  receive_break_won  \\\n66               11621                16894               1086   \n157              16195                23376               1455   \n\n     receive_break_faced  serve_break_won  serve_break_faced  \\\n66                  2314              814               1212   \n157                 3245             1032               1571   \n\n     serve_nobreak_pct  serve_break_pct  receive_nobreak_pct  \\\n66            0.687596         0.666159             0.428497   \n157           0.692580         0.653501             0.431140   \n\n     receive_break_pct  serve_choke_pct  receive_choke_pct  choke_pct  \n66            0.466446         0.001437           0.002051   0.001744  \n157           0.446936         0.019079           0.024204   0.021642  ",
      "text/html": "<div>\n<style scoped>\n    .dataframe tbody tr th:only-of-type {\n        vertical-align: middle;\n    }\n\n    .dataframe tbody tr th {\n        vertical-align: top;\n    }\n\n    .dataframe thead th {\n        text-align: right;\n    }\n</style>\n<table border=\"1\" class=\"dataframe\">\n  <thead>\n    <tr style=\"text-align: right;\">\n      <th></th>\n      <th>name</th>\n      <th>receive_nobreak_won</th>\n      <th>receive_nobreak_faced</th>\n      <th>serve_nobreak_won</th>\n      <th>serve_nobreak_faced</th>\n      <th>receive_break_won</th>\n      <th>receive_break_faced</th>\n      <th>serve_break_won</th>\n      <th>serve_break_faced</th>\n      <th>serve_nobreak_pct</th>\n      <th>serve_break_pct</th>\n      <th>receive_nobreak_pct</th>\n      <th>receive_break_pct</th>\n      <th>serve_choke_pct</th>\n      <th>receive_choke_pct</th>\n      <th>choke_pct</th>\n    </tr>\n  </thead>\n  <tbody>\n    <tr>\n      <th>66</th>\n      <td>R Nadal</td>\n      <td>7332</td>\n      <td>17095</td>\n      <td>11621</td>\n      <td>16894</td>\n      <td>1086</td>\n      <td>2314</td>\n      <td>814</td>\n      <td>1212</td>\n      <td>0.687596</td>\n      <td>0.666159</td>\n      <td>0.428497</td>\n      <td>0.466446</td>\n      <td>0.001437</td>\n      <td>0.002051</td>\n      <td>0.001744</td>\n    </tr>\n    <tr>\n      <th>157</th>\n      <td>N Djokovic</td>\n      <td>10370</td>\n      <td>24036</td>\n      <td>16195</td>\n      <td>23376</td>\n      <td>1455</td>\n      <td>3245</td>\n      <td>1032</td>\n      <td>1571</td>\n      <td>0.692580</td>\n      <td>0.653501</td>\n      <td>0.431140</td>\n      <td>0.446936</td>\n      <td>0.019079</td>\n      <td>0.024204</td>\n      <td>0.021642</td>\n    </tr>\n  </tbody>\n</table>\n</div>"
     },
     "execution_count": 73,
     "metadata": {},
     "output_type": "execute_result"
    }
   ],
   "source": [
    "#[66, 76, 80, 151, 152, 155, 157, 170, 172, 181, 185]\n",
    "df5 = df.iloc[[152, 170, 172], range(0, 16)]\n",
    "df3 = df.iloc[[76, 155, 181], range(0, 16)]\n",
    "df4 = df.iloc[[66, 157], range(0, 16)]\n",
    "df4"
   ],
   "metadata": {
    "collapsed": false,
    "pycharm": {
     "name": "#%%\n"
    }
   }
  },
  {
   "cell_type": "code",
   "execution_count": 87,
   "outputs": [
    {
     "data": {
      "text/plain": "<Figure size 1250x750 with 1 Axes>",
      "image/png": "[encoded data removed]"
     },
     "metadata": {},
     "output_type": "display_data"
    }
   ],
   "source": [
    "plt.rcParams[\"figure.figsize\"] = (12.5,7.5)\n",
    "plt.scatter(df.serve_choke_pct, df.receive_choke_pct, color=\"blue\", label=\"Players without Grand Slam\")\n",
    "plt.scatter(df5.serve_choke_pct, df5.receive_choke_pct, color=\"orange\", label=\"Players winning 1 Grand Slam\")\n",
    "plt.scatter(df3.serve_choke_pct, df3.receive_choke_pct, color=\"green\", label=\"Players winning more than 1 Grand Slam\")\n",
    "plt.scatter(df4.serve_choke_pct, df4.receive_choke_pct, color=\"red\", label=\"Players winning more than 10 Grand Slams\")\n",
    "for i in range(df2.shape[0]):\n",
    "    plt.annotate(df2.name.tolist()[i], (df2.serve_choke_pct.tolist()[i], df2.receive_choke_pct.tolist()[i]))\n",
    "sns.set_style(\"whitegrid\")\n",
    "plt.xlabel(\"Choking point when serving\", fontsize=15)\n",
    "plt.ylabel(\"Choking point when receiving\", fontsize=15)\n",
    "plt.title(\"Choking point of tennis players in Grand Slam 2011 - 2021\", fontsize=20)\n",
    "plt.legend()\n",
    "plt.savefig(\"../plots/choke.png\")"
   ],
   "metadata": {
    "collapsed": false,
    "pycharm": {
     "name": "#%%\n"
    }
   }
  },
  {
   "cell_type": "code",
   "execution_count": 91,
   "outputs": [
    {
     "data": {
      "text/plain": "<Figure size 1250x750 with 1 Axes>",
      "image/png": "[encoded data removed]"
     },
     "metadata": {},
     "output_type": "display_data"
    }
   ],
   "source": [
    "plt.figure(figsize=(12.5, 7.5), edgecolor='black')\n",
    "plt.scatter(df.serve_choke_pct, df.receive_choke_pct, color=\"blue\", label=\"Other players\")\n",
    "plt.scatter(df5.serve_choke_pct, df5.receive_choke_pct, color=\"orange\", label=\"Players winning 1 Grand Slam\")\n",
    "plt.scatter(df3.serve_choke_pct, df3.receive_choke_pct, color=\"green\", label=\"Players winning more than 1 Grand Slam\")\n",
    "plt.scatter(df4.serve_choke_pct, df4.receive_choke_pct, color=\"red\", label=\"Players winning more than 10 Grand Slams\")\n",
    "for i in range(df2.shape[0]):\n",
    "    plt.annotate(df2.name.tolist()[i], (df2.serve_choke_pct.tolist()[i], df2.receive_choke_pct.tolist()[i]), fontsize=10, weight='bold', ha='center', va='bottom')\n",
    "sns.set_style(\"whitegrid\")\n",
    "plt.xlabel(\"Choking point when serving\", fontsize=15)\n",
    "plt.ylabel(\"Choking point when receiving\", fontsize=15)\n",
    "plt.title(\"Choking point of Grand Slam champions 2011 - 2021\", fontsize=20)\n",
    "plt.legend(prop={'size': 10}, loc=3)\n",
    "plt.axhline(linewidth=1, color='black', linestyle='dashed')\n",
    "plt.axvline(linewidth=1, color='black', linestyle='dashed')\n",
    "plt.savefig(\"../plots/choke2.png\")"
   ],
   "metadata": {
    "collapsed": false,
    "pycharm": {
     "name": "#%%\n"
    }
   }
  },
  {
   "cell_type": "code",
   "execution_count": 76,
   "outputs": [
    {
     "data": {
      "text/plain": "             name  receive_nobreak_won  receive_nobreak_faced  \\\n0          A Ward                   37                    153   \n1       A Golubev                  146                    434   \n2    R Schuettler                   36                    134   \n3        O Rochus                   72                    323   \n4     T De Bakker                  116                    426   \n..            ...                  ...                    ...   \n443   N Milojevic                  110                    260   \n444     I Ivashka                  488                   1302   \n445  E Ruusuvuori                  397                    974   \n446        M Fish                  986                   2519   \n447   K Majchrzak                  389                   1146   \n\n     serve_nobreak_won  serve_nobreak_faced  receive_break_won  \\\n0                   83                  164                  1   \n1                  225                  456                 15   \n2                   74                  153                  1   \n3                  198                  357                  3   \n4                  280                  480                  7   \n..                 ...                  ...                ...   \n443                119                  184                 15   \n444                818                 1262                 47   \n445                569                  941                 51   \n446               1622                 2386                 98   \n447                679                 1094                 30   \n\n     receive_break_faced  serve_break_won  serve_break_faced  \\\n0                      2               19                 31   \n1                     32               53                 90   \n2                      2               20                 33   \n3                     10               26                 47   \n4                     19               46                 70   \n..                   ...              ...                ...   \n443                   42               16                 28   \n444                  130               62                113   \n445                  138               61                117   \n446                  265               98                157   \n447                  109               66                129   \n\n     serve_nobreak_pct  serve_break_pct  receive_nobreak_pct  \\\n0             0.556818         0.603053             0.288538   \n1             0.519784         0.594737             0.340824   \n2             0.545455         0.601504             0.307692   \n3             0.573304         0.585034             0.255319   \n4             0.593103         0.623529             0.288973   \n..                 ...              ...                  ...   \n443           0.644366         0.593750             0.405556   \n444           0.647577         0.572770             0.373752   \n445           0.608069         0.557604             0.403166   \n446           0.678198         0.614786             0.390225   \n447           0.622278         0.550218             0.341091   \n\n     receive_break_pct  serve_choke_pct  receive_choke_pct  choke_pct  \n0             0.401961        -0.066235          -0.073423  -0.069829  \n1             0.416667        -0.094953          -0.035843  -0.065398  \n2             0.401961        -0.076049          -0.054268  -0.065159  \n3             0.390909        -0.031730          -0.095590  -0.063660  \n4             0.394958        -0.050426          -0.065985  -0.058205  \n..                 ...              ...                ...        ...  \n443           0.387324         0.030616           0.058232   0.044424  \n444           0.378261         0.054807           0.035491   0.045149  \n445           0.382353         0.030465           0.060813   0.045639  \n446           0.378082         0.043412           0.052143   0.047778  \n447           0.334928         0.052060           0.046163   0.049111  \n\n[448 rows x 16 columns]",
      "text/html": "<div>\n<style scoped>\n    .dataframe tbody tr th:only-of-type {\n        vertical-align: middle;\n    }\n\n    .dataframe tbody tr th {\n        vertical-align: top;\n    }\n\n    .dataframe thead th {\n        text-align: right;\n    }\n</style>\n<table border=\"1\" class=\"dataframe\">\n  <thead>\n    <tr style=\"text-align: right;\">\n      <th></th>\n      <th>name</th>\n      <th>receive_nobreak_won</th>\n      <th>receive_nobreak_faced</th>\n      <th>serve_nobreak_won</th>\n      <th>serve_nobreak_faced</th>\n      <th>receive_break_won</th>\n      <th>receive_break_faced</th>\n      <th>serve_break_won</th>\n      <th>serve_break_faced</th>\n      <th>serve_nobreak_pct</th>\n      <th>serve_break_pct</th>\n      <th>receive_nobreak_pct</th>\n      <th>receive_break_pct</th>\n      <th>serve_choke_pct</th>\n      <th>receive_choke_pct</th>\n      <th>choke_pct</th>\n    </tr>\n  </thead>\n  <tbody>\n    <tr>\n      <th>0</th>\n      <td>A Ward</td>\n      <td>37</td>\n      <td>153</td>\n      <td>83</td>\n      <td>164</td>\n      <td>1</td>\n      <td>2</td>\n      <td>19</td>\n      <td>31</td>\n      <td>0.556818</td>\n      <td>0.603053</td>\n      <td>0.288538</td>\n      <td>0.401961</td>\n      <td>-0.066235</td>\n      <td>-0.073423</td>\n      <td>-0.069829</td>\n    </tr>\n    <tr>\n      <th>1</th>\n      <td>A Golubev</td>\n      <td>146</td>\n      <td>434</td>\n      <td>225</td>\n      <td>456</td>\n      <td>15</td>\n      <td>32</td>\n      <td>53</td>\n      <td>90</td>\n      <td>0.519784</td>\n      <td>0.594737</td>\n      <td>0.340824</td>\n      <td>0.416667</td>\n      <td>-0.094953</td>\n      <td>-0.035843</td>\n      <td>-0.065398</td>\n    </tr>\n    <tr>\n      <th>2</th>\n      <td>R Schuettler</td>\n      <td>36</td>\n      <td>134</td>\n      <td>74</td>\n      <td>153</td>\n      <td>1</td>\n      <td>2</td>\n      <td>20</td>\n      <td>33</td>\n      <td>0.545455</td>\n      <td>0.601504</td>\n      <td>0.307692</td>\n      <td>0.401961</td>\n      <td>-0.076049</td>\n      <td>-0.054268</td>\n      <td>-0.065159</td>\n    </tr>\n    <tr>\n      <th>3</th>\n      <td>O Rochus</td>\n      <td>72</td>\n      <td>323</td>\n      <td>198</td>\n      <td>357</td>\n      <td>3</td>\n      <td>10</td>\n      <td>26</td>\n      <td>47</td>\n      <td>0.573304</td>\n      <td>0.585034</td>\n      <td>0.255319</td>\n      <td>0.390909</td>\n      <td>-0.031730</td>\n      <td>-0.095590</td>\n      <td>-0.063660</td>\n    </tr>\n    <tr>\n      <th>4</th>\n      <td>T De Bakker</td>\n      <td>116</td>\n      <td>426</td>\n      <td>280</td>\n      <td>480</td>\n      <td>7</td>\n      <td>19</td>\n      <td>46</td>\n      <td>70</td>\n      <td>0.593103</td>\n      <td>0.623529</td>\n      <td>0.288973</td>\n      <td>0.394958</td>\n      <td>-0.050426</td>\n      <td>-0.065985</td>\n      <td>-0.058205</td>\n    </tr>\n    <tr>\n      <th>...</th>\n      <td>...</td>\n      <td>...</td>\n      <td>...</td>\n      <td>...</td>\n      <td>...</td>\n      <td>...</td>\n      <td>...</td>\n      <td>...</td>\n      <td>...</td>\n      <td>...</td>\n      <td>...</td>\n      <td>...</td>\n      <td>...</td>\n      <td>...</td>\n      <td>...</td>\n      <td>...</td>\n    </tr>\n    <tr>\n      <th>443</th>\n      <td>N Milojevic</td>\n      <td>110</td>\n      <td>260</td>\n      <td>119</td>\n      <td>184</td>\n      <td>15</td>\n      <td>42</td>\n      <td>16</td>\n      <td>28</td>\n      <td>0.644366</td>\n      <td>0.593750</td>\n      <td>0.405556</td>\n      <td>0.387324</td>\n      <td>0.030616</td>\n      <td>0.058232</td>\n      <td>0.044424</td>\n    </tr>\n    <tr>\n      <th>444</th>\n      <td>I Ivashka</td>\n      <td>488</td>\n      <td>1302</td>\n      <td>818</td>\n      <td>1262</td>\n      <td>47</td>\n      <td>130</td>\n      <td>62</td>\n      <td>113</td>\n      <td>0.647577</td>\n      <td>0.572770</td>\n      <td>0.373752</td>\n      <td>0.378261</td>\n      <td>0.054807</td>\n      <td>0.035491</td>\n      <td>0.045149</td>\n    </tr>\n    <tr>\n      <th>445</th>\n      <td>E Ruusuvuori</td>\n      <td>397</td>\n      <td>974</td>\n      <td>569</td>\n      <td>941</td>\n      <td>51</td>\n      <td>138</td>\n      <td>61</td>\n      <td>117</td>\n      <td>0.608069</td>\n      <td>0.557604</td>\n      <td>0.403166</td>\n      <td>0.382353</td>\n      <td>0.030465</td>\n      <td>0.060813</td>\n      <td>0.045639</td>\n    </tr>\n    <tr>\n      <th>446</th>\n      <td>M Fish</td>\n      <td>986</td>\n      <td>2519</td>\n      <td>1622</td>\n      <td>2386</td>\n      <td>98</td>\n      <td>265</td>\n      <td>98</td>\n      <td>157</td>\n      <td>0.678198</td>\n      <td>0.614786</td>\n      <td>0.390225</td>\n      <td>0.378082</td>\n      <td>0.043412</td>\n      <td>0.052143</td>\n      <td>0.047778</td>\n    </tr>\n    <tr>\n      <th>447</th>\n      <td>K Majchrzak</td>\n      <td>389</td>\n      <td>1146</td>\n      <td>679</td>\n      <td>1094</td>\n      <td>30</td>\n      <td>109</td>\n      <td>66</td>\n      <td>129</td>\n      <td>0.622278</td>\n      <td>0.550218</td>\n      <td>0.341091</td>\n      <td>0.334928</td>\n      <td>0.052060</td>\n      <td>0.046163</td>\n      <td>0.049111</td>\n    </tr>\n  </tbody>\n</table>\n<p>448 rows × 16 columns</p>\n</div>"
     },
     "execution_count": 76,
     "metadata": {},
     "output_type": "execute_result"
    }
   ],
   "source": [
    "df_all = pd.read_csv('../data/all - Copy.csv')\n",
    "df_all"
   ],
   "metadata": {
    "collapsed": false,
    "pycharm": {
     "name": "#%%\n"
    }
   }
  },
  {
   "cell_type": "code",
   "execution_count": 80,
   "outputs": [
    {
     "data": {
      "text/plain": "           name  receive_nobreak_won  receive_nobreak_faced  \\\n254     R Nadal                 7332                  17095   \n395  N Djokovic                10370                  24036   \n429   R Federer                 7417                  18504   \n391    A Murray                 6711                  16068   \n271  S Wawrinka                 5508                  14784   \n417     M Cilic                 5217                  13707   \n414     D Thiem                 3963                  10121   \n386  D Medvedev                 2324                   5813   \n\n     serve_nobreak_won  serve_nobreak_faced  receive_break_won  \\\n254              11621                16894               1086   \n395              16195                23376               1455   \n429              12585                17600                864   \n391              10578                15950                871   \n271              10144                15097                580   \n417               9001                13227                533   \n414               6522                 9847                463   \n386               3868                 5749                316   \n\n     receive_break_faced  serve_break_won  serve_break_faced  \\\n254                 2314              814               1212   \n395                 3245             1032               1571   \n429                 2119              622                933   \n391                 1966              745               1203   \n271                 1478              734               1094   \n417                 1383              624                970   \n414                 1181              502                796   \n386                  677              269                453   \n\n     serve_nobreak_pct  serve_break_pct  receive_nobreak_pct  \\\n254           0.687596         0.666159             0.428497   \n395           0.692580         0.653501             0.431140   \n429           0.714633         0.660213             0.400613   \n391           0.663053         0.617805             0.417306   \n271           0.671712         0.664992             0.372481   \n417           0.680198         0.639252             0.380459   \n414           0.662109         0.627232             0.391253   \n386           0.672252         0.594937             0.399121   \n\n     receive_break_pct  serve_choke_pct  receive_choke_pct  choke_pct  \n254           0.466446         0.001437           0.002051   0.001744  \n395           0.446936         0.019079           0.024204   0.021642  \n429           0.407391         0.034420           0.033222   0.033821  \n391           0.440949         0.025248           0.016357   0.020802  \n271           0.392902        -0.013280           0.019578   0.003149  \n417           0.386379         0.020946           0.034080   0.027513  \n414           0.392662         0.014877           0.038591   0.026734  \n386           0.458172         0.057315          -0.019052   0.019132  ",
      "text/html": "<div>\n<style scoped>\n    .dataframe tbody tr th:only-of-type {\n        vertical-align: middle;\n    }\n\n    .dataframe tbody tr th {\n        vertical-align: top;\n    }\n\n    .dataframe thead th {\n        text-align: right;\n    }\n</style>\n<table border=\"1\" class=\"dataframe\">\n  <thead>\n    <tr style=\"text-align: right;\">\n      <th></th>\n      <th>name</th>\n      <th>receive_nobreak_won</th>\n      <th>receive_nobreak_faced</th>\n      <th>serve_nobreak_won</th>\n      <th>serve_nobreak_faced</th>\n      <th>receive_break_won</th>\n      <th>receive_break_faced</th>\n      <th>serve_break_won</th>\n      <th>serve_break_faced</th>\n      <th>serve_nobreak_pct</th>\n      <th>serve_break_pct</th>\n      <th>receive_nobreak_pct</th>\n      <th>receive_break_pct</th>\n      <th>serve_choke_pct</th>\n      <th>receive_choke_pct</th>\n      <th>choke_pct</th>\n    </tr>\n  </thead>\n  <tbody>\n    <tr>\n      <th>254</th>\n      <td>R Nadal</td>\n      <td>7332</td>\n      <td>17095</td>\n      <td>11621</td>\n      <td>16894</td>\n      <td>1086</td>\n      <td>2314</td>\n      <td>814</td>\n      <td>1212</td>\n      <td>0.687596</td>\n      <td>0.666159</td>\n      <td>0.428497</td>\n      <td>0.466446</td>\n      <td>0.001437</td>\n      <td>0.002051</td>\n      <td>0.001744</td>\n    </tr>\n    <tr>\n      <th>395</th>\n      <td>N Djokovic</td>\n      <td>10370</td>\n      <td>24036</td>\n      <td>16195</td>\n      <td>23376</td>\n      <td>1455</td>\n      <td>3245</td>\n      <td>1032</td>\n      <td>1571</td>\n      <td>0.692580</td>\n      <td>0.653501</td>\n      <td>0.431140</td>\n      <td>0.446936</td>\n      <td>0.019079</td>\n      <td>0.024204</td>\n      <td>0.021642</td>\n    </tr>\n    <tr>\n      <th>429</th>\n      <td>R Federer</td>\n      <td>7417</td>\n      <td>18504</td>\n      <td>12585</td>\n      <td>17600</td>\n      <td>864</td>\n      <td>2119</td>\n      <td>622</td>\n      <td>933</td>\n      <td>0.714633</td>\n      <td>0.660213</td>\n      <td>0.400613</td>\n      <td>0.407391</td>\n      <td>0.034420</td>\n      <td>0.033222</td>\n      <td>0.033821</td>\n    </tr>\n    <tr>\n      <th>391</th>\n      <td>A Murray</td>\n      <td>6711</td>\n      <td>16068</td>\n      <td>10578</td>\n      <td>15950</td>\n      <td>871</td>\n      <td>1966</td>\n      <td>745</td>\n      <td>1203</td>\n      <td>0.663053</td>\n      <td>0.617805</td>\n      <td>0.417306</td>\n      <td>0.440949</td>\n      <td>0.025248</td>\n      <td>0.016357</td>\n      <td>0.020802</td>\n    </tr>\n    <tr>\n      <th>271</th>\n      <td>S Wawrinka</td>\n      <td>5508</td>\n      <td>14784</td>\n      <td>10144</td>\n      <td>15097</td>\n      <td>580</td>\n      <td>1478</td>\n      <td>734</td>\n      <td>1094</td>\n      <td>0.671712</td>\n      <td>0.664992</td>\n      <td>0.372481</td>\n      <td>0.392902</td>\n      <td>-0.013280</td>\n      <td>0.019578</td>\n      <td>0.003149</td>\n    </tr>\n    <tr>\n      <th>417</th>\n      <td>M Cilic</td>\n      <td>5217</td>\n      <td>13707</td>\n      <td>9001</td>\n      <td>13227</td>\n      <td>533</td>\n      <td>1383</td>\n      <td>624</td>\n      <td>970</td>\n      <td>0.680198</td>\n      <td>0.639252</td>\n      <td>0.380459</td>\n      <td>0.386379</td>\n      <td>0.020946</td>\n      <td>0.034080</td>\n      <td>0.027513</td>\n    </tr>\n    <tr>\n      <th>414</th>\n      <td>D Thiem</td>\n      <td>3963</td>\n      <td>10121</td>\n      <td>6522</td>\n      <td>9847</td>\n      <td>463</td>\n      <td>1181</td>\n      <td>502</td>\n      <td>796</td>\n      <td>0.662109</td>\n      <td>0.627232</td>\n      <td>0.391253</td>\n      <td>0.392662</td>\n      <td>0.014877</td>\n      <td>0.038591</td>\n      <td>0.026734</td>\n    </tr>\n    <tr>\n      <th>386</th>\n      <td>D Medvedev</td>\n      <td>2324</td>\n      <td>5813</td>\n      <td>3868</td>\n      <td>5749</td>\n      <td>316</td>\n      <td>677</td>\n      <td>269</td>\n      <td>453</td>\n      <td>0.672252</td>\n      <td>0.594937</td>\n      <td>0.399121</td>\n      <td>0.458172</td>\n      <td>0.057315</td>\n      <td>-0.019052</td>\n      <td>0.019132</td>\n    </tr>\n  </tbody>\n</table>\n</div>"
     },
     "execution_count": 80,
     "metadata": {},
     "output_type": "execute_result"
    }
   ],
   "source": [
    "inds_all = [254, 395, 429, 391, 271, 417, 414, 386]\n",
    "df2_all = df_all.iloc[inds_all, range(0, 16)]\n",
    "df5_all = df_all.iloc[[417, 414, 386], range(0, 16)]\n",
    "df3_all = df_all.iloc[[429, 391, 271], range(0, 16)]\n",
    "df4_all = df_all.iloc[[254, 395], range(0, 16)]\n",
    "df2_all"
   ],
   "metadata": {
    "collapsed": false,
    "pycharm": {
     "name": "#%%\n"
    }
   }
  },
  {
   "cell_type": "code",
   "execution_count": 93,
   "outputs": [
    {
     "data": {
      "text/plain": "<Figure size 1250x750 with 1 Axes>",
      "image/png": "[encoded data removed]"
     },
     "metadata": {},
     "output_type": "display_data"
    }
   ],
   "source": [
    "plt.figure(figsize=(12.5, 7.5), edgecolor='black')\n",
    "plt.scatter(df_all.serve_choke_pct, df_all.receive_choke_pct, color=\"blue\", label=\"Players without Grand Slam\")\n",
    "plt.scatter(df5_all.serve_choke_pct, df5_all.receive_choke_pct, color=\"orange\", label=\"Players winning 1 Grand Slam\")\n",
    "plt.scatter(df3_all.serve_choke_pct, df3_all.receive_choke_pct, color=\"green\", label=\"Players winning more than 1 Grand Slam\")\n",
    "plt.scatter(df4_all.serve_choke_pct, df4_all.receive_choke_pct, color=\"red\", label=\"Players winning more than 10 Grand Slams\")\n",
    "for i in range(df2_all.shape[0]):\n",
    "    plt.annotate(df2_all.name.tolist()[i], (df2_all.serve_choke_pct.tolist()[i], df2_all.receive_choke_pct.tolist()[i]), fontsize=10, weight='bold', ha='center', va='bottom')\n",
    "sns.set_style(\"whitegrid\")\n",
    "plt.xlabel(\"Choking point when serving\", fontsize=15)\n",
    "plt.ylabel(\"Choking point when receiving\", fontsize=15)\n",
    "plt.title(\"Choking point of tennis players in Grand Slam 2011 - 2021\", fontsize=20)\n",
    "plt.legend(prop={'size': 10}, loc=3)\n",
    "plt.axhline(linewidth=1, color='black', linestyle='dashed')\n",
    "plt.axvline(linewidth=1, color='black', linestyle='dashed')\n",
    "plt.savefig(\"../plots/choke3.png\")"
   ],
   "metadata": {
    "collapsed": false,
    "pycharm": {
     "name": "#%%\n"
    }
   }
  },
  {
   "cell_type": "code",
   "execution_count": 89,
   "outputs": [
    {
     "data": {
      "text/plain": "                   name  receive_nobreak_won  receive_nobreak_faced  \\\n157          N Djokovic                10370                  24036   \n66              R Nadal                 7332                  17095   \n155            A Murray                 6711                  16068   \n181           R Federer                 7417                  18504   \n168          K Anderson                 3652                  10792   \n172             M Cilic                 5217                  13707   \n76           S Wawrinka                 5508                  14784   \n115            M Raonic                 4164                  12027   \n179            D Ferrer                 4602                  10912   \n185  J Martin Del Potro                 3214                   8491   \n163            A Zverev                 3505                   9014   \n152          D Medvedev                 2324                   5813   \n174         S Tsitsipas                 1893                   5207   \n32         M Berrettini                 1725                   4921   \n\n     serve_nobreak_won  serve_nobreak_faced  receive_break_won  \\\n157              16195                23376               1455   \n66               11621                16894               1086   \n155              10578                15950                871   \n181              12585                17600                864   \n168               7280                10576                284   \n172               9001                13227                533   \n76               10144                15097                580   \n115               8413                11717                367   \n179               6912                10614                599   \n185               5681                 8312                342   \n163               5815                 8708                449   \n152               3868                 5749                316   \n174               3575                 5246                232   \n32                3332                 4820                191   \n\n     receive_break_faced  serve_break_won  serve_break_faced  \\\n157                 3245             1032               1571   \n66                  2314              814               1212   \n155                 1966              745               1203   \n181                 2119              622                933   \n168                  834              481                736   \n172                 1383              624                970   \n76                  1478              734               1094   \n115                 1009              473                665   \n179                 1375              523                883   \n185                  862              318                518   \n163                 1029              411                693   \n152                  677              269                453   \n174                  563              237                399   \n32                   454              234                345   \n\n     serve_nobreak_pct  serve_break_pct  receive_nobreak_pct  \\\n157           0.692580         0.653501             0.431140   \n66            0.687596         0.666159             0.428497   \n155           0.663053         0.617805             0.417306   \n181           0.714633         0.660213             0.400613   \n168           0.687898         0.647129             0.338597   \n172           0.680198         0.639252             0.380459   \n76            0.671712         0.664992             0.372481   \n115           0.717356         0.696732             0.346335   \n179           0.651111         0.593082             0.421177   \n185           0.682953         0.611650             0.378303   \n163           0.667461         0.593947             0.388523   \n152           0.672252         0.594937             0.399121   \n174           0.680696         0.595190             0.363482   \n32            0.690244         0.660674             0.350727   \n\n     receive_break_pct  serve_choke_pct  receive_choke_pct  choke_pct  \n157           0.446936         0.019079           0.024204   0.021642  \n66            0.466446         0.001437           0.002051   0.001744  \n155           0.440949         0.025248           0.016357   0.020802  \n181           0.407391         0.034420           0.033222   0.033821  \n168           0.346895         0.020769           0.031702   0.026235  \n172           0.386379         0.020946           0.034080   0.027513  \n76            0.392902        -0.013280           0.019578   0.003149  \n115           0.366997         0.000624           0.019337   0.009981  \n179           0.433220         0.038028           0.027957   0.032992  \n185           0.397089         0.051302           0.021213   0.036258  \n163           0.433127         0.053514          -0.004604   0.024455  \n152           0.458172         0.057315          -0.019052   0.019132  \n174           0.410256         0.065505          -0.006774   0.029366  \n32            0.416968         0.009570          -0.026241  -0.008335  ",
      "text/html": "<div>\n<style scoped>\n    .dataframe tbody tr th:only-of-type {\n        vertical-align: middle;\n    }\n\n    .dataframe tbody tr th {\n        vertical-align: top;\n    }\n\n    .dataframe thead th {\n        text-align: right;\n    }\n</style>\n<table border=\"1\" class=\"dataframe\">\n  <thead>\n    <tr style=\"text-align: right;\">\n      <th></th>\n      <th>name</th>\n      <th>receive_nobreak_won</th>\n      <th>receive_nobreak_faced</th>\n      <th>serve_nobreak_won</th>\n      <th>serve_nobreak_faced</th>\n      <th>receive_break_won</th>\n      <th>receive_break_faced</th>\n      <th>serve_break_won</th>\n      <th>serve_break_faced</th>\n      <th>serve_nobreak_pct</th>\n      <th>serve_break_pct</th>\n      <th>receive_nobreak_pct</th>\n      <th>receive_break_pct</th>\n      <th>serve_choke_pct</th>\n      <th>receive_choke_pct</th>\n      <th>choke_pct</th>\n    </tr>\n  </thead>\n  <tbody>\n    <tr>\n      <th>157</th>\n      <td>N Djokovic</td>\n      <td>10370</td>\n      <td>24036</td>\n      <td>16195</td>\n      <td>23376</td>\n      <td>1455</td>\n      <td>3245</td>\n      <td>1032</td>\n      <td>1571</td>\n      <td>0.692580</td>\n      <td>0.653501</td>\n      <td>0.431140</td>\n      <td>0.446936</td>\n      <td>0.019079</td>\n      <td>0.024204</td>\n      <td>0.021642</td>\n    </tr>\n    <tr>\n      <th>66</th>\n      <td>R Nadal</td>\n      <td>7332</td>\n      <td>17095</td>\n      <td>11621</td>\n      <td>16894</td>\n      <td>1086</td>\n      <td>2314</td>\n      <td>814</td>\n      <td>1212</td>\n      <td>0.687596</td>\n      <td>0.666159</td>\n      <td>0.428497</td>\n      <td>0.466446</td>\n      <td>0.001437</td>\n      <td>0.002051</td>\n      <td>0.001744</td>\n    </tr>\n    <tr>\n      <th>155</th>\n      <td>A Murray</td>\n      <td>6711</td>\n      <td>16068</td>\n      <td>10578</td>\n      <td>15950</td>\n      <td>871</td>\n      <td>1966</td>\n      <td>745</td>\n      <td>1203</td>\n      <td>0.663053</td>\n      <td>0.617805</td>\n      <td>0.417306</td>\n      <td>0.440949</td>\n      <td>0.025248</td>\n      <td>0.016357</td>\n      <td>0.020802</td>\n    </tr>\n    <tr>\n      <th>181</th>\n      <td>R Federer</td>\n      <td>7417</td>\n      <td>18504</td>\n      <td>12585</td>\n      <td>17600</td>\n      <td>864</td>\n      <td>2119</td>\n      <td>622</td>\n      <td>933</td>\n      <td>0.714633</td>\n      <td>0.660213</td>\n      <td>0.400613</td>\n      <td>0.407391</td>\n      <td>0.034420</td>\n      <td>0.033222</td>\n      <td>0.033821</td>\n    </tr>\n    <tr>\n      <th>168</th>\n      <td>K Anderson</td>\n      <td>3652</td>\n      <td>10792</td>\n      <td>7280</td>\n      <td>10576</td>\n      <td>284</td>\n      <td>834</td>\n      <td>481</td>\n      <td>736</td>\n      <td>0.687898</td>\n      <td>0.647129</td>\n      <td>0.338597</td>\n      <td>0.346895</td>\n      <td>0.020769</td>\n      <td>0.031702</td>\n      <td>0.026235</td>\n    </tr>\n    <tr>\n      <th>172</th>\n      <td>M Cilic</td>\n      <td>5217</td>\n      <td>13707</td>\n      <td>9001</td>\n      <td>13227</td>\n      <td>533</td>\n      <td>1383</td>\n      <td>624</td>\n      <td>970</td>\n      <td>0.680198</td>\n      <td>0.639252</td>\n      <td>0.380459</td>\n      <td>0.386379</td>\n      <td>0.020946</td>\n      <td>0.034080</td>\n      <td>0.027513</td>\n    </tr>\n    <tr>\n      <th>76</th>\n      <td>S Wawrinka</td>\n      <td>5508</td>\n      <td>14784</td>\n      <td>10144</td>\n      <td>15097</td>\n      <td>580</td>\n      <td>1478</td>\n      <td>734</td>\n      <td>1094</td>\n      <td>0.671712</td>\n      <td>0.664992</td>\n      <td>0.372481</td>\n      <td>0.392902</td>\n      <td>-0.013280</td>\n      <td>0.019578</td>\n      <td>0.003149</td>\n    </tr>\n    <tr>\n      <th>115</th>\n      <td>M Raonic</td>\n      <td>4164</td>\n      <td>12027</td>\n      <td>8413</td>\n      <td>11717</td>\n      <td>367</td>\n      <td>1009</td>\n      <td>473</td>\n      <td>665</td>\n      <td>0.717356</td>\n      <td>0.696732</td>\n      <td>0.346335</td>\n      <td>0.366997</td>\n      <td>0.000624</td>\n      <td>0.019337</td>\n      <td>0.009981</td>\n    </tr>\n    <tr>\n      <th>179</th>\n      <td>D Ferrer</td>\n      <td>4602</td>\n      <td>10912</td>\n      <td>6912</td>\n      <td>10614</td>\n      <td>599</td>\n      <td>1375</td>\n      <td>523</td>\n      <td>883</td>\n      <td>0.651111</td>\n      <td>0.593082</td>\n      <td>0.421177</td>\n      <td>0.433220</td>\n      <td>0.038028</td>\n      <td>0.027957</td>\n      <td>0.032992</td>\n    </tr>\n    <tr>\n      <th>185</th>\n      <td>J Martin Del Potro</td>\n      <td>3214</td>\n      <td>8491</td>\n      <td>5681</td>\n      <td>8312</td>\n      <td>342</td>\n      <td>862</td>\n      <td>318</td>\n      <td>518</td>\n      <td>0.682953</td>\n      <td>0.611650</td>\n      <td>0.378303</td>\n      <td>0.397089</td>\n      <td>0.051302</td>\n      <td>0.021213</td>\n      <td>0.036258</td>\n    </tr>\n    <tr>\n      <th>163</th>\n      <td>A Zverev</td>\n      <td>3505</td>\n      <td>9014</td>\n      <td>5815</td>\n      <td>8708</td>\n      <td>449</td>\n      <td>1029</td>\n      <td>411</td>\n      <td>693</td>\n      <td>0.667461</td>\n      <td>0.593947</td>\n      <td>0.388523</td>\n      <td>0.433127</td>\n      <td>0.053514</td>\n      <td>-0.004604</td>\n      <td>0.024455</td>\n    </tr>\n    <tr>\n      <th>152</th>\n      <td>D Medvedev</td>\n      <td>2324</td>\n      <td>5813</td>\n      <td>3868</td>\n      <td>5749</td>\n      <td>316</td>\n      <td>677</td>\n      <td>269</td>\n      <td>453</td>\n      <td>0.672252</td>\n      <td>0.594937</td>\n      <td>0.399121</td>\n      <td>0.458172</td>\n      <td>0.057315</td>\n      <td>-0.019052</td>\n      <td>0.019132</td>\n    </tr>\n    <tr>\n      <th>174</th>\n      <td>S Tsitsipas</td>\n      <td>1893</td>\n      <td>5207</td>\n      <td>3575</td>\n      <td>5246</td>\n      <td>232</td>\n      <td>563</td>\n      <td>237</td>\n      <td>399</td>\n      <td>0.680696</td>\n      <td>0.595190</td>\n      <td>0.363482</td>\n      <td>0.410256</td>\n      <td>0.065505</td>\n      <td>-0.006774</td>\n      <td>0.029366</td>\n    </tr>\n    <tr>\n      <th>32</th>\n      <td>M Berrettini</td>\n      <td>1725</td>\n      <td>4921</td>\n      <td>3332</td>\n      <td>4820</td>\n      <td>191</td>\n      <td>454</td>\n      <td>234</td>\n      <td>345</td>\n      <td>0.690244</td>\n      <td>0.660674</td>\n      <td>0.350727</td>\n      <td>0.416968</td>\n      <td>0.009570</td>\n      <td>-0.026241</td>\n      <td>-0.008335</td>\n    </tr>\n  </tbody>\n</table>\n</div>"
     },
     "execution_count": 89,
     "metadata": {},
     "output_type": "execute_result"
    }
   ],
   "source": [
    "inds_runnerup = [157, 66, 155, 181, 168, 172, 76, 115, 179, 185, 163, 152, 174, 32]\n",
    "df2_runnerup = df.iloc[inds_runnerup, range(0, 16)]\n",
    "df5_runnerup = df.iloc[[76, 115, 179, 185, 163, 152, 174, 32], range(0, 16)]\n",
    "df3_runnerup = df.iloc[[168, 172], range(0, 16)]\n",
    "df4_runnerup = df.iloc[[157, 66, 155, 181], range(0, 16)]\n",
    "df2_runnerup"
   ],
   "metadata": {
    "collapsed": false,
    "pycharm": {
     "name": "#%%\n"
    }
   }
  },
  {
   "cell_type": "code",
   "execution_count": 95,
   "outputs": [
    {
     "data": {
      "text/plain": "<Figure size 1250x750 with 1 Axes>",
      "image/png": "[encoded data removed]"
     },
     "metadata": {},
     "output_type": "display_data"
    }
   ],
   "source": [
    "plt.figure(figsize=(12.5, 7.5), edgecolor='black')\n",
    "plt.scatter(df.serve_choke_pct, df.receive_choke_pct, color=\"blue\", label=\"Other players\")\n",
    "plt.scatter(df5_runnerup.serve_choke_pct, df5_runnerup.receive_choke_pct, color=\"orange\", label=\"Players with 1 Grand Slam runner-up\")\n",
    "plt.scatter(df3_runnerup.serve_choke_pct, df3_runnerup.receive_choke_pct, color=\"green\", label=\"Players with more than 1 Grand Slam runner-up\")\n",
    "plt.scatter(df4_runnerup.serve_choke_pct, df4_runnerup.receive_choke_pct, color=\"red\", label=\"Players with more than 5 Grand Slam runner-ups\")\n",
    "for i in range(df2_runnerup.shape[0]):\n",
    "    plt.annotate(df2_runnerup.name.tolist()[i], (df2_runnerup.serve_choke_pct.tolist()[i], df2_runnerup.receive_choke_pct.tolist()[i]), fontsize=10, weight='bold', ha='center', va='bottom')\n",
    "sns.set_style(\"whitegrid\")\n",
    "plt.xlabel(\"Choking point when serving\", fontsize=15)\n",
    "plt.ylabel(\"Choking point when receiving\", fontsize=15)\n",
    "plt.title(\"Choking point of Grand Slam runner-ups 2011 - 2021\", fontsize=20)\n",
    "plt.legend(prop={'size': 10}, loc=3)\n",
    "plt.axhline(linewidth=1, color='black', linestyle='dashed')\n",
    "plt.axvline(linewidth=1, color='black', linestyle='dashed')\n",
    "plt.savefig(\"../plots/choke4.png\")"
   ],
   "metadata": {
    "collapsed": false,
    "pycharm": {
     "name": "#%%\n"
    }
   }
  },
  {
   "cell_type": "code",
   "execution_count": null,
   "outputs": [],
   "source": [],
   "metadata": {
    "collapsed": false,
    "pycharm": {
     "name": "#%%\n"
    }
   }
  }
 ],
 "metadata": {
  "kernelspec": {
   "display_name": "Python 3.7.3 64-bit",
   "language": "python",
   "name": "python3"
  },
  "language_info": {
   "codemirror_mode": {
    "name": "ipython",
    "version": 3
   },
   "file_extension": ".py",
   "mimetype": "text/x-python",
   "name": "python",
   "nbconvert_exporter": "python",
   "pygments_lexer": "ipython3",
   "version": "3.7.3"
  },
  "orig_nbformat": 4,
  "vscode": {
   "interpreter": {
    "hash": "aee8b7b246df8f9039afb4144a1f6fd8d2ca17a180786b69acc140d282b71a49"
   }
  }
 },
 "nbformat": 4,
 "nbformat_minor": 2
}