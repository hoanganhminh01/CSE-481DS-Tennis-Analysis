{
 "cells": [
  {
   "cell_type": "code",
   "execution_count": 37,
   "metadata": {
    "pycharm": {
     "name": "#%%\n"
    }
   },
   "outputs": [],
   "source": [
    "import pandas as pd\n",
    "from matplotlib import pyplot as plt"
   ]
  },
  {
   "cell_type": "markdown",
   "metadata": {
    "pycharm": {
     "name": "#%% md\n"
    }
   },
   "source": [
    "### Read in the match points from 2011-2021 for grand-slam tournaments"
   ]
  },
  {
   "cell_type": "code",
   "execution_count": 38,
   "metadata": {
    "pycharm": {
     "name": "#%%\n"
    }
   },
   "outputs": [
    {
     "data": {
      "text/plain": "        Unnamed: 0_x           match_id ElapsedTime  SetNo  P1GamesWon  \\\n0                  0  2011-ausopen-1101    00:00:00    1.0         0.0   \n1                  1  2011-ausopen-1101     0:00:00    1.0         0.0   \n2                  2  2011-ausopen-1101     0:00:23    1.0         0.0   \n3                  3  2011-ausopen-1101     0:00:59    1.0         0.0   \n4                  4  2011-ausopen-1101     0:01:57    1.0         1.0   \n...              ...                ...         ...    ...         ...   \n262820         27074  2021-ausopen-1701         NaN    3.0         NaN   \n262821         27075  2021-ausopen-1701         NaN    3.0         NaN   \n262822         27076  2021-ausopen-1701         NaN    3.0         NaN   \n262823         27077  2021-ausopen-1701         NaN    3.0         NaN   \n262824         27078  2021-ausopen-1701         NaN    3.0         NaN   \n\n        P2GamesWon  SetWinner  GameNo  GameWinner  PointNumber  ...    round  \\\n0              0.0        0.0     1.0         0.0            0  ...  Round 1   \n1              0.0        0.0     1.0         0.0            1  ...  Round 1   \n2              0.0        0.0     1.0         0.0            2  ...  Round 1   \n3              0.0        0.0     1.0         0.0            3  ...  Round 1   \n4              0.0        0.0     1.0         1.0            4  ...  Round 1   \n...            ...        ...     ...         ...          ...  ...      ...   \n262820         NaN        NaN    28.0         NaN          151  ...      NaN   \n262821         NaN        NaN    28.0         NaN          152  ...      NaN   \n262822         NaN        NaN    28.0         NaN          153  ...      NaN   \n262823         NaN        NaN    28.0         NaN          154  ...      NaN   \n262824         NaN        NaN    28.0         NaN          155  ...      NaN   \n\n             court_name  court_id  player1id player2id nation1  nation2  \\\n0       Rod Laver Arena         A    atpn409   atpd339     ESP      BRA   \n1       Rod Laver Arena         A    atpn409   atpd339     ESP      BRA   \n2       Rod Laver Arena         A    atpn409   atpd339     ESP      BRA   \n3       Rod Laver Arena         A    atpn409   atpd339     ESP      BRA   \n4       Rod Laver Arena         A    atpn409   atpd339     ESP      BRA   \n...                 ...       ...        ...       ...     ...      ...   \n262820              NaN       NaN        NaN       NaN     NaN      NaN   \n262821              NaN       NaN        NaN       NaN     NaN      NaN   \n262822              NaN       NaN        NaN       NaN     NaN      NaN   \n262823              NaN       NaN        NaN       NaN     NaN      NaN   \n262824              NaN       NaN        NaN       NaN     NaN      NaN   \n\n        match_id_num_y  player1_new  player2_new  \n0                 1101      R Nadal     M Daniel  \n1                 1101      R Nadal     M Daniel  \n2                 1101      R Nadal     M Daniel  \n3                 1101      R Nadal     M Daniel  \n4                 1101      R Nadal     M Daniel  \n...                ...          ...          ...  \n262820            1701   N Djokovic   D Medvedev  \n262821            1701   N Djokovic   D Medvedev  \n262822            1701   N Djokovic   D Medvedev  \n262823            1701   N Djokovic   D Medvedev  \n262824            1701   N Djokovic   D Medvedev  \n\n[262825 rows x 86 columns]",
      "text/html": "<div>\n<style scoped>\n    .dataframe tbody tr th:only-of-type {\n        vertical-align: middle;\n    }\n\n    .dataframe tbody tr th {\n        vertical-align: top;\n    }\n\n    .dataframe thead th {\n        text-align: right;\n    }\n</style>\n<table border=\"1\" class=\"dataframe\">\n  <thead>\n    <tr style=\"text-align: right;\">\n      <th></th>\n      <th>Unnamed: 0_x</th>\n      <th>match_id</th>\n      <th>ElapsedTime</th>\n      <th>SetNo</th>\n      <th>P1GamesWon</th>\n      <th>P2GamesWon</th>\n      <th>SetWinner</th>\n      <th>GameNo</th>\n      <th>GameWinner</th>\n      <th>PointNumber</th>\n      <th>...</th>\n      <th>round</th>\n      <th>court_name</th>\n      <th>court_id</th>\n      <th>player1id</th>\n      <th>player2id</th>\n      <th>nation1</th>\n      <th>nation2</th>\n      <th>match_id_num_y</th>\n      <th>player1_new</th>\n      <th>player2_new</th>\n    </tr>\n  </thead>\n  <tbody>\n    <tr>\n      <th>0</th>\n      <td>0</td>\n      <td>2011-ausopen-1101</td>\n      <td>00:00:00</td>\n      <td>1.0</td>\n      <td>0.0</td>\n      <td>0.0</td>\n      <td>0.0</td>\n      <td>1.0</td>\n      <td>0.0</td>\n      <td>0</td>\n      <td>...</td>\n      <td>Round 1</td>\n      <td>Rod Laver Arena</td>\n      <td>A</td>\n      <td>atpn409</td>\n      <td>atpd339</td>\n      <td>ESP</td>\n      <td>BRA</td>\n      <td>1101</td>\n      <td>R Nadal</td>\n      <td>M Daniel</td>\n    </tr>\n    <tr>\n      <th>1</th>\n      <td>1</td>\n      <td>2011-ausopen-1101</td>\n      <td>0:00:00</td>\n      <td>1.0</td>\n      <td>0.0</td>\n      <td>0.0</td>\n      <td>0.0</td>\n      <td>1.0</td>\n      <td>0.0</td>\n      <td>1</td>\n      <td>...</td>\n      <td>Round 1</td>\n      <td>Rod Laver Arena</td>\n      <td>A</td>\n      <td>atpn409</td>\n      <td>atpd339</td>\n      <td>ESP</td>\n      <td>BRA</td>\n      <td>1101</td>\n      <td>R Nadal</td>\n      <td>M Daniel</td>\n    </tr>\n    <tr>\n      <th>2</th>\n      <td>2</td>\n      <td>2011-ausopen-1101</td>\n      <td>0:00:23</td>\n      <td>1.0</td>\n      <td>0.0</td>\n      <td>0.0</td>\n      <td>0.0</td>\n      <td>1.0</td>\n      <td>0.0</td>\n      <td>2</td>\n      <td>...</td>\n      <td>Round 1</td>\n      <td>Rod Laver Arena</td>\n      <td>A</td>\n      <td>atpn409</td>\n      <td>atpd339</td>\n      <td>ESP</td>\n      <td>BRA</td>\n      <td>1101</td>\n      <td>R Nadal</td>\n      <td>M Daniel</td>\n    </tr>\n    <tr>\n      <th>3</th>\n      <td>3</td>\n      <td>2011-ausopen-1101</td>\n      <td>0:00:59</td>\n      <td>1.0</td>\n      <td>0.0</td>\n      <td>0.0</td>\n      <td>0.0</td>\n      <td>1.0</td>\n      <td>0.0</td>\n      <td>3</td>\n      <td>...</td>\n      <td>Round 1</td>\n      <td>Rod Laver Arena</td>\n      <td>A</td>\n      <td>atpn409</td>\n      <td>atpd339</td>\n      <td>ESP</td>\n      <td>BRA</td>\n      <td>1101</td>\n      <td>R Nadal</td>\n      <td>M Daniel</td>\n    </tr>\n    <tr>\n      <th>4</th>\n      <td>4</td>\n      <td>2011-ausopen-1101</td>\n      <td>0:01:57</td>\n      <td>1.0</td>\n      <td>1.0</td>\n      <td>0.0</td>\n      <td>0.0</td>\n      <td>1.0</td>\n      <td>1.0</td>\n      <td>4</td>\n      <td>...</td>\n      <td>Round 1</td>\n      <td>Rod Laver Arena</td>\n      <td>A</td>\n      <td>atpn409</td>\n      <td>atpd339</td>\n      <td>ESP</td>\n      <td>BRA</td>\n      <td>1101</td>\n      <td>R Nadal</td>\n      <td>M Daniel</td>\n    </tr>\n    <tr>\n      <th>...</th>\n      <td>...</td>\n      <td>...</td>\n      <td>...</td>\n      <td>...</td>\n      <td>...</td>\n      <td>...</td>\n      <td>...</td>\n      <td>...</td>\n      <td>...</td>\n      <td>...</td>\n      <td>...</td>\n      <td>...</td>\n      <td>...</td>\n      <td>...</td>\n      <td>...</td>\n      <td>...</td>\n      <td>...</td>\n      <td>...</td>\n      <td>...</td>\n      <td>...</td>\n      <td>...</td>\n    </tr>\n    <tr>\n      <th>262820</th>\n      <td>27074</td>\n      <td>2021-ausopen-1701</td>\n      <td>NaN</td>\n      <td>3.0</td>\n      <td>NaN</td>\n      <td>NaN</td>\n      <td>NaN</td>\n      <td>28.0</td>\n      <td>NaN</td>\n      <td>151</td>\n      <td>...</td>\n      <td>NaN</td>\n      <td>NaN</td>\n      <td>NaN</td>\n      <td>NaN</td>\n      <td>NaN</td>\n      <td>NaN</td>\n      <td>NaN</td>\n      <td>1701</td>\n      <td>N Djokovic</td>\n      <td>D Medvedev</td>\n    </tr>\n    <tr>\n      <th>262821</th>\n      <td>27075</td>\n      <td>2021-ausopen-1701</td>\n      <td>NaN</td>\n      <td>3.0</td>\n      <td>NaN</td>\n      <td>NaN</td>\n      <td>NaN</td>\n      <td>28.0</td>\n      <td>NaN</td>\n      <td>152</td>\n      <td>...</td>\n      <td>NaN</td>\n      <td>NaN</td>\n      <td>NaN</td>\n      <td>NaN</td>\n      <td>NaN</td>\n      <td>NaN</td>\n      <td>NaN</td>\n      <td>1701</td>\n      <td>N Djokovic</td>\n      <td>D Medvedev</td>\n    </tr>\n    <tr>\n      <th>262822</th>\n      <td>27076</td>\n      <td>2021-ausopen-1701</td>\n      <td>NaN</td>\n      <td>3.0</td>\n      <td>NaN</td>\n      <td>NaN</td>\n      <td>NaN</td>\n      <td>28.0</td>\n      <td>NaN</td>\n      <td>153</td>\n      <td>...</td>\n      <td>NaN</td>\n      <td>NaN</td>\n      <td>NaN</td>\n      <td>NaN</td>\n      <td>NaN</td>\n      <td>NaN</td>\n      <td>NaN</td>\n      <td>1701</td>\n      <td>N Djokovic</td>\n      <td>D Medvedev</td>\n    </tr>\n    <tr>\n      <th>262823</th>\n      <td>27077</td>\n      <td>2021-ausopen-1701</td>\n      <td>NaN</td>\n      <td>3.0</td>\n      <td>NaN</td>\n      <td>NaN</td>\n      <td>NaN</td>\n      <td>28.0</td>\n      <td>NaN</td>\n      <td>154</td>\n      <td>...</td>\n      <td>NaN</td>\n      <td>NaN</td>\n      <td>NaN</td>\n      <td>NaN</td>\n      <td>NaN</td>\n      <td>NaN</td>\n      <td>NaN</td>\n      <td>1701</td>\n      <td>N Djokovic</td>\n      <td>D Medvedev</td>\n    </tr>\n    <tr>\n      <th>262824</th>\n      <td>27078</td>\n      <td>2021-ausopen-1701</td>\n      <td>NaN</td>\n      <td>3.0</td>\n      <td>NaN</td>\n      <td>NaN</td>\n      <td>NaN</td>\n      <td>28.0</td>\n      <td>NaN</td>\n      <td>155</td>\n      <td>...</td>\n      <td>NaN</td>\n      <td>NaN</td>\n      <td>NaN</td>\n      <td>NaN</td>\n      <td>NaN</td>\n      <td>NaN</td>\n      <td>NaN</td>\n      <td>1701</td>\n      <td>N Djokovic</td>\n      <td>D Medvedev</td>\n    </tr>\n  </tbody>\n</table>\n<p>262825 rows × 86 columns</p>\n</div>"
     },
     "execution_count": 38,
     "metadata": {},
     "output_type": "execute_result"
    }
   ],
   "source": [
    "points_aus = pd.read_csv(f\"../data/grand-slam-point-data/combined-points-tour/ausopen-combined-points.csv\", encoding='unicode_escape', low_memory=False)\n",
    "match_aus = pd.read_csv(f\"../data/grand-slam-point-data/combined-matches-tour/ausopen-combined-matches.csv\", encoding='unicode_escape', low_memory=False)\n",
    "combined = pd.merge(points_aus, match_aus, on=\"match_id\", how=\"inner\")\n",
    "grand_slams = [\"ausopen\", \"frenchopen\", \"usopen\", \"wimbledon\"]\n",
    "\n",
    "points = combined\n",
    "points"
   ]
  },
  {
   "cell_type": "markdown",
   "metadata": {
    "pycharm": {
     "name": "#%% md\n"
    }
   },
   "source": [
    "P1BreakPoint == 1 if P1 is receiveing and is one point from winning the game (\"breaking\" the opponent's serve point)"
   ]
  },
  {
   "cell_type": "code",
   "execution_count": 39,
   "metadata": {
    "pycharm": {
     "name": "#%%\n"
    }
   },
   "outputs": [
    {
     "data": {
      "text/plain": "Index(['Unnamed: 0_x', 'match_id', 'ElapsedTime', 'SetNo', 'P1GamesWon',\n       'P2GamesWon', 'SetWinner', 'GameNo', 'GameWinner', 'PointNumber',\n       'PointWinner', 'PointServer', 'Speed_KMH', 'Rally', 'P1Score',\n       'P2Score', 'P1Momentum', 'P2Momentum', 'P1PointsWon', 'P2PointsWon',\n       'P1Ace', 'P2Ace', 'P1Winner', 'P2Winner', 'P1DoubleFault',\n       'P2DoubleFault', 'P1UnfErr', 'P2UnfErr', 'P1NetPoint', 'P2NetPoint',\n       'P1NetPointWon', 'P2NetPointWon', 'P1BreakPoint', 'P2BreakPoint',\n       'P1BreakPointWon', 'P2BreakPointWon', 'P1FirstSrvIn', 'P2FirstSrvIn',\n       'P1FirstSrvWon', 'P2FirstSrvWon', 'P1SecondSrvIn', 'P2SecondSrvIn',\n       'P1SecondSrvWon', 'P2SecondSrvWon', 'P1ForcedError', 'P2ForcedError',\n       'History', 'Speed_MPH', 'P1BreakPointMissed', 'P2BreakPointMissed',\n       'ServeIndicator', 'P1TurningPoint', 'P2TurningPoint', 'Serve_Direction',\n       'Winner_FH', 'Winner_BH', 'ServingTo', 'ServeNumber', 'WinnerType',\n       'WinnerShotType', 'P1DistanceRun', 'P2DistanceRun', 'RallyCount',\n       'ServeWidth', 'ServeDepth', 'ReturnDepth', 'match_id_num_x',\n       'Unnamed: 0_y', 'year', 'slam', 'match_num', 'player1', 'player2',\n       'status', 'winner', 'event_name', 'round', 'court_name', 'court_id',\n       'player1id', 'player2id', 'nation1', 'nation2', 'match_id_num_y',\n       'player1_new', 'player2_new'],\n      dtype='object')"
     },
     "execution_count": 39,
     "metadata": {},
     "output_type": "execute_result"
    }
   ],
   "source": [
    "points.columns"
   ]
  },
  {
   "cell_type": "code",
   "execution_count": 40,
   "metadata": {
    "pycharm": {
     "name": "#%%\n"
    }
   },
   "outputs": [],
   "source": [
    "real_points = points[points['PointWinner'].ge(1)]"
   ]
  },
  {
   "cell_type": "code",
   "execution_count": 41,
   "metadata": {
    "pycharm": {
     "name": "#%%\n"
    }
   },
   "outputs": [
    {
     "data": {
      "text/plain": "0"
     },
     "execution_count": 41,
     "metadata": {},
     "output_type": "execute_result"
    }
   ],
   "source": [
    "real_points[real_points[\"PointServer\"].isna()][\"match_id\"].nunique()"
   ]
  },
  {
   "cell_type": "code",
   "execution_count": 42,
   "metadata": {
    "pycharm": {
     "name": "#%%\n"
    }
   },
   "outputs": [
    {
     "data": {
      "text/plain": "1         2.0\n2         2.0\n3         2.0\n4         2.0\n5         1.0\n         ... \n262820    2.0\n262821    2.0\n262822    2.0\n262823    2.0\n262824    2.0\nName: PointServer, Length: 262399, dtype: float64"
     },
     "execution_count": 42,
     "metadata": {},
     "output_type": "execute_result"
    }
   ],
   "source": [
    "real_points[\"PointServer\"]"
   ]
  },
  {
   "cell_type": "code",
   "execution_count": 43,
   "metadata": {
    "pycharm": {
     "name": "#%%\n"
    }
   },
   "outputs": [
    {
     "name": "stderr",
     "output_type": "stream",
     "text": [
      "C:\\Users\\anhmi\\miniconda3\\lib\\site-packages\\pandas\\core\\indexing.py:1773: SettingWithCopyWarning: \n",
      "A value is trying to be set on a copy of a slice from a DataFrame.\n",
      "Try using .loc[row_indexer,col_indexer] = value instead\n",
      "\n",
      "See the caveats in the documentation: https://pandas.pydata.org/pandas-docs/stable/user_guide/indexing.html#returning-a-view-versus-a-copy\n",
      "  self._setitem_single_column(ilocs[0], value, pi)\n"
     ]
    }
   ],
   "source": [
    "# P1 has a breakpoint when P2 is serving, and P1 is up 0-40, 15-40, 30-40, or 40-AD\n",
    "p1_breakpoint =\\\n",
    "  (real_points[\"PointServer\"] == 2) &\\\n",
    "  (((real_points[\"P1Score\"] == \"40\") &\n",
    "    (real_points[\"P2Score\"] != \"40\") &\n",
    "    (real_points[\"P2Score\"] != \"AD\")) |\n",
    "  (real_points[\"P1Score\"] == \"AD\"))\n",
    "p2_breakpoint =\\\n",
    "  (real_points[\"PointServer\"] == 1) &\\\n",
    "  (((real_points[\"P2Score\"] == \"40\") &\n",
    "    (real_points[\"P1Score\"] != \"40\") &\n",
    "    (real_points[\"P1Score\"] != \"AD\")) |\n",
    "  (real_points[\"P2Score\"] == \"AD\"))\n",
    "real_points.loc[:, \"P1BreakPoint\"] = p1_breakpoint.shift(1, fill_value=False) # P1Score is P1's score after the point is played\n",
    "real_points.loc[:, \"P2BreakPoint\"] = p2_breakpoint.shift(1, fill_value=False)"
   ]
  },
  {
   "cell_type": "code",
   "execution_count": 44,
   "metadata": {
    "pycharm": {
     "name": "#%%\n"
    }
   },
   "outputs": [
    {
     "data": {
      "text/plain": "1         False\n2         False\n3         False\n4          True\n5         False\n          ...  \n262820    False\n262821    False\n262822    False\n262823    False\n262824     True\nLength: 262399, dtype: bool"
     },
     "execution_count": 44,
     "metadata": {},
     "output_type": "execute_result"
    }
   ],
   "source": [
    "p1_breakpoint.shift(1, fill_value=False)"
   ]
  },
  {
   "cell_type": "code",
   "execution_count": 45,
   "metadata": {
    "pycharm": {
     "name": "#%%\n"
    }
   },
   "outputs": [
    {
     "data": {
      "text/plain": "  P1Score P2Score  PointServer  PointWinner  P1BreakPoint\n1      15       0          2.0          1.0         False\n2      30       0          2.0          1.0         False\n3      40       0          2.0          1.0         False\n4       0       0          2.0          1.0          True\n5      15       0          1.0          1.0         False\n6      30       0          1.0          1.0         False",
      "text/html": "<div>\n<style scoped>\n    .dataframe tbody tr th:only-of-type {\n        vertical-align: middle;\n    }\n\n    .dataframe tbody tr th {\n        vertical-align: top;\n    }\n\n    .dataframe thead th {\n        text-align: right;\n    }\n</style>\n<table border=\"1\" class=\"dataframe\">\n  <thead>\n    <tr style=\"text-align: right;\">\n      <th></th>\n      <th>P1Score</th>\n      <th>P2Score</th>\n      <th>PointServer</th>\n      <th>PointWinner</th>\n      <th>P1BreakPoint</th>\n    </tr>\n  </thead>\n  <tbody>\n    <tr>\n      <th>1</th>\n      <td>15</td>\n      <td>0</td>\n      <td>2.0</td>\n      <td>1.0</td>\n      <td>False</td>\n    </tr>\n    <tr>\n      <th>2</th>\n      <td>30</td>\n      <td>0</td>\n      <td>2.0</td>\n      <td>1.0</td>\n      <td>False</td>\n    </tr>\n    <tr>\n      <th>3</th>\n      <td>40</td>\n      <td>0</td>\n      <td>2.0</td>\n      <td>1.0</td>\n      <td>False</td>\n    </tr>\n    <tr>\n      <th>4</th>\n      <td>0</td>\n      <td>0</td>\n      <td>2.0</td>\n      <td>1.0</td>\n      <td>True</td>\n    </tr>\n    <tr>\n      <th>5</th>\n      <td>15</td>\n      <td>0</td>\n      <td>1.0</td>\n      <td>1.0</td>\n      <td>False</td>\n    </tr>\n    <tr>\n      <th>6</th>\n      <td>30</td>\n      <td>0</td>\n      <td>1.0</td>\n      <td>1.0</td>\n      <td>False</td>\n    </tr>\n  </tbody>\n</table>\n</div>"
     },
     "execution_count": 45,
     "metadata": {},
     "output_type": "execute_result"
    }
   ],
   "source": [
    "real_points[[\"P1Score\", \"P2Score\", \"PointServer\", \"PointWinner\", \"P1BreakPoint\"]][:6]"
   ]
  },
  {
   "cell_type": "code",
   "execution_count": 46,
   "metadata": {
    "pycharm": {
     "name": "#%%\n"
    }
   },
   "outputs": [],
   "source": [
    "bp_groups = real_points.groupby(by=[\"player1_new\", \"player2_new\", \"P1BreakPoint\", \"P2BreakPoint\", \"PointWinner\", \"PointServer\"])\n",
    "counts_by_bp = bp_groups.size().reset_index(name=\"count\")"
   ]
  },
  {
   "cell_type": "code",
   "execution_count": 47,
   "metadata": {
    "pycharm": {
     "name": "#%%\n"
    }
   },
   "outputs": [],
   "source": [
    "unique_players = set(counts_by_bp[\"player1_new\"].unique().tolist() + counts_by_bp[\"player2_new\"].unique().tolist())\n",
    "player_bps_dict = dict()\n",
    "for p in unique_players:\n",
    "  player_bps_dict[p] = {\n",
    "    'receive_nobreak_won': 0,\n",
    "    'receive_nobreak_faced': 0,\n",
    "    'serve_nobreak_won': 0,\n",
    "    'serve_nobreak_faced': 0,\n",
    "    'receive_break_won': 0,\n",
    "    'receive_break_faced': 0,\n",
    "    'serve_break_won': 0,\n",
    "    'serve_break_faced': 0,\n",
    "  }"
   ]
  },
  {
   "cell_type": "code",
   "execution_count": 48,
   "metadata": {
    "collapsed": false,
    "pycharm": {
     "name": "#%%\n"
    }
   },
   "outputs": [
    {
     "name": "stdout",
     "output_type": "stream",
     "text": [
      "A Balazs\n",
      "A Bedene\n",
      "A Bolt\n",
      "A Bublik\n",
      "A Davidovich Fokina\n",
      "A De Minaur\n",
      "A Dolgopolov\n",
      "A Falla\n",
      "A Golubev\n",
      "A Gonzalez\n",
      "A Haider-Maurer\n",
      "A Harris\n",
      "A Karatsev\n",
      "A Krajicek\n",
      "A Kudryavtsev\n",
      "A Kuznetsov\n",
      "A Mannarino\n",
      "A Martin\n",
      "A Montanes\n",
      "A Muller\n",
      "A Murray\n",
      "A Nedovyesov\n",
      "A Pavlasek\n",
      "A Popyrin\n",
      "A Ramos-Vinolas\n",
      "A Roddick\n",
      "A Rublev\n",
      "A Seppi\n",
      "A Tabilo\n",
      "A Vukic\n",
      "A Weintraub\n",
      "A Whittington\n",
      "A Zverev\n",
      "B Baker\n",
      "B Becker\n",
      "B Coric\n",
      "B Fratangelo\n",
      "B Kavcic\n",
      "B Klahn\n",
      "B Mitchell\n",
      "B Mott\n",
      "B Paire\n",
      "B Tomic\n",
      "B Van De Zandschulp\n",
      "C Alcaraz\n",
      "C Ball\n",
      "C Berlocq\n",
      "C Eubanks\n",
      "C Garin\n",
      "C Moutet\n",
      "C Norrie\n",
      "C O'Connell\n",
      "C Ruud\n",
      "C Stebe\n",
      "D Brands\n",
      "D Brown\n",
      "D Dzumhur\n",
      "D Evans\n",
      "D Ferrer\n",
      "D Galan\n",
      "D Gimeno-Traver\n",
      "D Goffin\n",
      "D Guez\n",
      "D Istomin\n",
      "D Koepfer\n",
      "D Kudla\n",
      "D Lajovic\n",
      "D Medvedev\n",
      "D Munoz-De La Nava\n",
      "D Nalbandian\n",
      "D Novak\n",
      "D Schwartzman\n",
      "D Sela\n",
      "D Shapovalov\n",
      "D Thiem\n",
      "D Tursunov\n",
      "D Udomchoke\n",
      "D Wu\n",
      "D Young\n",
      "E Benchetrit\n",
      "E Donskoy\n",
      "E Escobedo\n",
      "E Gerasimov\n",
      "E Gulbis\n",
      "E Roger-Vasselin\n",
      "E Ruusuvuori\n",
      "E Schwank\n",
      "E Ymer\n",
      "F Auger-Aliassime\n",
      "F Bagnis\n",
      "F Cipolla\n",
      "F Coria\n",
      "F Dancevic\n",
      "F Delbonis\n",
      "F Ferreira Silva\n",
      "F Fognini\n",
      "F Gil\n",
      "F Krajinovic\n",
      "F Lopez\n",
      "F Mayer\n",
      "F Serra\n",
      "F Tiafoe\n",
      "F Verdasco\n",
      "F Volandri\n",
      "G Andreozzi\n",
      "G Barrere\n",
      "G Dimitrov\n",
      "G Elias\n",
      "G Garcia-Lopez\n",
      "G Jones\n",
      "G Mager\n",
      "G Melzer\n",
      "G Monfils\n",
      "G Muller\n",
      "G Pella\n",
      "G Rufin\n",
      "G Sakharov\n",
      "G Simon\n",
      "G Soeda\n",
      "G Zemlja\n",
      "H Chung\n",
      "H Dellien\n",
      "H Gaston\n",
      "H Hurkacz\n",
      "H Laaksonen\n",
      "H Moriya\n",
      "H Zeballos\n",
      "I Andreev\n",
      "I Cervantes\n",
      "I Dodig\n",
      "I Ivashka\n",
      "I Karlovic\n",
      "I Kunitsyn\n",
      "I Ljubicic\n",
      "I Marchenko\n",
      "I Sijsling\n",
      "J Benneteau\n",
      "J Chardy\n",
      "J Donaldson\n",
      "J Duckworth\n",
      "J Hajek\n",
      "J Hernych\n",
      "J Ignacio Chela\n",
      "J Isner\n",
      "J Janowicz\n",
      "J Kovalik\n",
      "J Kubler\n",
      "J Lennard Struff\n",
      "J Levine\n",
      "J Londero\n",
      "J Martin Del Potro\n",
      "J Melzer\n",
      "J Millman\n",
      "J Monaco\n",
      "J Munar\n",
      "J Nieminen\n",
      "J Sinner\n",
      "J Smith\n",
      "J Sock\n",
      "J Sousa\n",
      "J Souza\n",
      "J Struff\n",
      "J Thompson\n",
      "J Tipsarevic\n",
      "J Vesely\n",
      "J Wang\n",
      "J Ward\n",
      "J Wilfried Tsonga\n",
      "J Zopp\n",
      "K Anderson\n",
      "K Beck\n",
      "K Coppejans\n",
      "K De Schepper\n",
      "K Edmund\n",
      "K Khachanov\n",
      "K King\n",
      "K Kravchuk\n",
      "K Majchrzak\n",
      "K Nishikori\n",
      "L Djere\n",
      "L Giustino\n",
      "L Harris\n",
      "L Hewitt\n",
      "L Kubot\n",
      "L Lacko\n",
      "L Mayer\n",
      "L Pouille\n",
      "L Rosol\n",
      "L Saville\n",
      "L Sonego\n",
      "L Tu\n",
      "L Vanni\n",
      "M Bachinger\n",
      "M Baghdatis\n",
      "M Basic\n",
      "M Berrettini\n",
      "M Cecchinato\n",
      "M Cilic\n",
      "M Copil\n",
      "M Cressy\n",
      "M Crugnola\n",
      "M Daniel\n",
      "M Ebden\n",
      "M Fish\n",
      "M Fucsovics\n",
      "M Giron\n",
      "M Granollers\n",
      "M Ilhan\n",
      "M Jaziri\n",
      "M Kecmanovic\n",
      "M Klizan\n",
      "M Krueger\n",
      "M Kukushkin\n",
      "M Llodra\n",
      "M Marterer\n",
      "M Matosevic\n",
      "M McDonald\n",
      "M Mmoh\n",
      "M Polmans\n",
      "M Przysiezny\n",
      "M Purcell\n",
      "M Raonic\n",
      "M Russell\n",
      "M Safwat\n",
      "M Torpegaard\n",
      "M Trungelliti\n",
      "M Vilella Martinez\n",
      "M Ymer\n",
      "M Youzhny\n",
      "M Zverev\n",
      "N Almagro\n",
      "N Basilashvili\n",
      "N Davydenko\n",
      "N Djokovic\n",
      "N Gombos\n",
      "N Jarry\n",
      "N Kicker\n",
      "N Kyrgios\n",
      "N Mahut\n",
      "N Rubin\n",
      "O Jasika\n",
      "O Rochus\n",
      "P Andujar\n",
      "P Carreno Busta\n",
      "P Cuevas\n",
      "P Gojowczyk\n",
      "P Gunneswaran\n",
      "P Herbert\n",
      "P Kohlschreiber\n",
      "P Lorenzi\n",
      "P Luczak\n",
      "P Martinez\n",
      "P Mathieu\n",
      "P Petzschner\n",
      "P Polansky\n",
      "P Riba\n",
      "P Sousa\n",
      "P Starace\n",
      "Q Halys\n",
      "R Albot\n",
      "R Bautista Agut\n",
      "R Bemelmans\n",
      "R Berankis\n",
      "R Carballes Baena\n",
      "R Dutra Silva\n",
      "R Federer\n",
      "R Gasquet\n",
      "R Haase\n",
      "R Harrison\n",
      "R Machado\n",
      "R Mello\n",
      "R Molleker\n",
      "R Nadal\n",
      "R Olivo\n",
      "R Opelka\n",
      "R Ram\n",
      "R Safiullin\n",
      "R Schuettler\n",
      "R Soderling\n",
      "R Stepanek\n",
      "R Sweeting\n",
      "R Williams\n",
      "S Bolelli\n",
      "S Caruso\n",
      "S Darcis\n",
      "S Devvarman\n",
      "S Giraldo\n",
      "S Greul\n",
      "S Groth\n",
      "S Johnson\n",
      "S Kwon\n",
      "S Nagal\n",
      "S Querrey\n",
      "S Robert\n",
      "S Stakhovsky\n",
      "S Travaglia\n",
      "S Tsitsipas\n",
      "S Wawrinka\n",
      "T Bellucci\n",
      "T Berdych\n",
      "T Daniel\n",
      "T De Bakker\n",
      "T Fabbiano\n",
      "T Fritz\n",
      "T Gabashvili\n",
      "T Griekspoor\n",
      "T Haas\n",
      "T Ito\n",
      "T Kamke\n",
      "T Kokkinakis\n",
      "T Machac\n",
      "T Monteiro\n",
      "T Paul\n",
      "T Robredo\n",
      "T Sandgren\n",
      "T Smyczek\n",
      "U Humbert\n",
      "V Estrella Burgos\n",
      "V Hanescu\n",
      "V Millot\n",
      "V Pospisil\n",
      "V Safranek\n",
      "V Troicki\n",
      "X Malisse\n",
      "Y Bhambri\n",
      "Y Hanfmann\n",
      "Y Lu\n",
      "Y Nishioka\n",
      "Y Sugita\n",
      "Y Uchiyama\n",
      "Z Li\n",
      "Z Zhang\n",
      "332\n"
     ]
    }
   ],
   "source": [
    "print('\\n'.join(sorted(unique_players)))\n",
    "print(len(unique_players))"
   ]
  },
  {
   "cell_type": "code",
   "execution_count": 49,
   "metadata": {
    "pycharm": {
     "name": "#%%\n"
    }
   },
   "outputs": [],
   "source": [
    "for row in counts_by_bp.to_dict(\"records\"):\n",
    "  if row[\"P1BreakPoint\"]:\n",
    "    if row[\"PointWinner\"] == 1:\n",
    "      player_bps_dict[row[\"player1_new\"]][\"receive_break_won\"] += row[\"count\"]\n",
    "      player_bps_dict[row[\"player1_new\"]][\"receive_break_faced\"] += row[\"count\"]\n",
    "      player_bps_dict[row[\"player2_new\"]][\"serve_break_faced\"] += row[\"count\"]\n",
    "    else:\n",
    "      player_bps_dict[row[\"player2_new\"]][\"serve_break_won\"] += row[\"count\"]\n",
    "      player_bps_dict[row[\"player1_new\"]][\"receive_break_faced\"] += row[\"count\"]\n",
    "      player_bps_dict[row[\"player2_new\"]][\"serve_break_faced\"] += row[\"count\"]\n",
    "  elif row[\"P2BreakPoint\"]:\n",
    "    if row[\"PointWinner\"] == 1:\n",
    "      player_bps_dict[row[\"player1_new\"]][\"serve_break_won\"] += row[\"count\"]\n",
    "      player_bps_dict[row[\"player1_new\"]][\"serve_break_faced\"] += row[\"count\"]\n",
    "      player_bps_dict[row[\"player2_new\"]][\"receive_break_faced\"] += row[\"count\"]\n",
    "    else:\n",
    "      player_bps_dict[row[\"player2_new\"]][\"receive_break_won\"] += row[\"count\"]\n",
    "      player_bps_dict[row[\"player1_new\"]][\"serve_break_faced\"] += row[\"count\"]\n",
    "      player_bps_dict[row[\"player2_new\"]][\"receive_break_faced\"] += row[\"count\"]\n",
    "  else:\n",
    "    if row[\"PointWinner\"] == 1:\n",
    "      if row[\"PointServer\"] == 1:\n",
    "        player_bps_dict[row[\"player1_new\"]][\"serve_nobreak_won\"] += row[\"count\"]\n",
    "        player_bps_dict[row[\"player1_new\"]][\"serve_nobreak_faced\"] += row[\"count\"]\n",
    "        player_bps_dict[row[\"player2_new\"]][\"receive_nobreak_faced\"] += row[\"count\"]\n",
    "      else:\n",
    "        player_bps_dict[row[\"player1_new\"]][\"receive_nobreak_won\"] += row[\"count\"]\n",
    "        player_bps_dict[row[\"player1_new\"]][\"receive_nobreak_faced\"] += row[\"count\"]\n",
    "        player_bps_dict[row[\"player2_new\"]][\"serve_nobreak_faced\"] += row[\"count\"]\n",
    "    else:\n",
    "      if row[\"PointServer\"] == 1:\n",
    "        player_bps_dict[row[\"player2_new\"]][\"receive_nobreak_won\"] += row[\"count\"]\n",
    "        player_bps_dict[row[\"player1_new\"]][\"serve_nobreak_faced\"] += row[\"count\"]\n",
    "        player_bps_dict[row[\"player2_new\"]][\"receive_nobreak_faced\"] += row[\"count\"]\n",
    "      else:\n",
    "        player_bps_dict[row[\"player2_new\"]][\"serve_nobreak_won\"] += row[\"count\"]\n",
    "        player_bps_dict[row[\"player1_new\"]][\"receive_nobreak_faced\"] += row[\"count\"]\n",
    "        player_bps_dict[row[\"player2_new\"]][\"serve_nobreak_faced\"] += row[\"count\"]"
   ]
  },
  {
   "cell_type": "code",
   "execution_count": 50,
   "metadata": {
    "pycharm": {
     "name": "#%%\n"
    }
   },
   "outputs": [],
   "source": [
    "player_bps = pd.DataFrame.from_dict(player_bps_dict, orient=\"index\")"
   ]
  },
  {
   "cell_type": "code",
   "execution_count": 51,
   "outputs": [
    {
     "data": {
      "text/plain": "receive_nobreak_won       85949\nreceive_nobreak_faced    240336\nserve_nobreak_won        154387\nserve_nobreak_faced      240336\nreceive_break_won          8886\nreceive_break_faced       22063\nserve_break_won           13177\nserve_break_faced         22063\ndtype: int64"
     },
     "execution_count": 51,
     "metadata": {},
     "output_type": "execute_result"
    }
   ],
   "source": [
    "player_bps.aggregate(\"sum\")"
   ],
   "metadata": {
    "collapsed": false,
    "pycharm": {
     "name": "#%%\n"
    }
   }
  },
  {
   "cell_type": "code",
   "execution_count": 52,
   "outputs": [
    {
     "data": {
      "text/plain": "Index(['G Elias', 'T Fabbiano', 'P Carreno Busta', 'M Giron', 'K Edmund',\n       'C Norrie', 'S Giraldo', 'Z Li', 'T Bellucci', 'M Polmans',\n       ...\n       'M Fish', 'C Ruud', 'D Tursunov', 'B Tomic', 'D Galan', 'P Cuevas',\n       'I Dodig', 'F Cipolla', 'B Mott', 'S Greul'],\n      dtype='object', length=332)"
     },
     "execution_count": 52,
     "metadata": {},
     "output_type": "execute_result"
    }
   ],
   "source": [
    "player_bps.index"
   ],
   "metadata": {
    "collapsed": false,
    "pycharm": {
     "name": "#%%\n"
    }
   }
  },
  {
   "cell_type": "code",
   "execution_count": 53,
   "outputs": [],
   "source": [
    "# laplace smoothing assuming 64% serve win pct over 100 ghost points. assume 60% for break points\n",
    "player_bps[\"serve_nobreak_pct\"] = (player_bps[\"serve_nobreak_won\"] + 64) / (player_bps[\"serve_nobreak_faced\"] + 100)\n",
    "player_bps[\"serve_break_pct\"] = (player_bps[\"serve_break_won\"] + 60) / (player_bps[\"serve_break_faced\"] + 100)\n",
    "player_bps[\"receive_nobreak_pct\"] = (player_bps[\"receive_nobreak_won\"] + 36) / (player_bps[\"receive_nobreak_faced\"] + 100)\n",
    "player_bps[\"receive_break_pct\"] = (player_bps[\"receive_break_won\"] + 40) / (player_bps[\"receive_break_faced\"] + 100)\n",
    "\n",
    "player_bps[\"serve_choke_pct\"] = player_bps[\"serve_nobreak_pct\"] - player_bps[\"serve_break_pct\"] - 0.02 # correcting for 4% difference in averages\n",
    "player_bps[\"receive_choke_pct\"] = player_bps[\"receive_nobreak_pct\"] - player_bps[\"receive_break_pct\"] + 0.04\n",
    "player_bps[\"choke_pct\"] = (player_bps[\"serve_choke_pct\"] + player_bps[\"receive_choke_pct\"]) / 2"
   ],
   "metadata": {
    "collapsed": false,
    "pycharm": {
     "name": "#%%\n"
    }
   }
  },
  {
   "cell_type": "code",
   "execution_count": 54,
   "outputs": [
    {
     "data": {
      "text/plain": "                 receive_nobreak_won  receive_nobreak_faced  \\\nG Elias                           13                     64   \nT Fabbiano                       149                    458   \nP Carreno Busta                  651                   1816   \nM Giron                           46                    184   \nK Edmund                         380                   1101   \n...                              ...                    ...   \nP Cuevas                         291                    895   \nI Dodig                          288                    810   \nF Cipolla                         35                     96   \nB Mott                            23                     81   \nS Greul                           35                     95   \n\n                 serve_nobreak_won  serve_nobreak_faced  receive_break_won  \\\nG Elias                         28                   56                  0   \nT Fabbiano                     306                  472                 11   \nP Carreno Busta               1184                 1832                 72   \nM Giron                        118                  203                  3   \nK Edmund                       724                 1094                 33   \n...                            ...                  ...                ...   \nP Cuevas                       580                  906                 31   \nI Dodig                        478                  797                 27   \nF Cipolla                       48                   88                  3   \nB Mott                          43                   70                  1   \nS Greul                         50                  106                  5   \n\n                 receive_break_faced  serve_break_won  serve_break_faced  \\\nG Elias                            0                5                 11   \nT Fabbiano                        35               16                 30   \nP Carreno Busta                  169              100                162   \nM Giron                            9               18                 33   \nK Edmund                         100               44                 77   \n...                              ...              ...                ...   \nP Cuevas                          69               44                 83   \nI Dodig                           69               52                 90   \nF Cipolla                          7                6                 12   \nB Mott                             1                3                  8   \nS Greul                           10               15                 22   \n\n                 serve_nobreak_pct  serve_break_pct  receive_nobreak_pct  \\\nG Elias                   0.589744         0.585586             0.298780   \nT Fabbiano                0.646853         0.584615             0.331541   \nP Carreno Busta           0.645963         0.610687             0.358559   \nM Giron                   0.600660         0.586466             0.288732   \nK Edmund                  0.659966         0.587571             0.346378   \n...                            ...              ...                  ...   \nP Cuevas                  0.640159         0.568306             0.328643   \nI Dodig                   0.604236         0.589474             0.356044   \nF Cipolla                 0.595745         0.589286             0.362245   \nB Mott                    0.629412         0.583333             0.325967   \nS Greul                   0.553398         0.614754             0.364103   \n\n                 receive_break_pct  serve_choke_pct  receive_choke_pct  \\\nG Elias                   0.400000        -0.015842          -0.061220   \nT Fabbiano                0.377778         0.042238          -0.006237   \nP Carreno Busta           0.416357         0.015276          -0.017797   \nM Giron                   0.394495        -0.005806          -0.065763   \nK Edmund                  0.365000         0.052396           0.021378   \n...                            ...              ...                ...   \nP Cuevas                  0.420118         0.051853          -0.051475   \nI Dodig                   0.396450        -0.005237          -0.000406   \nF Cipolla                 0.401869        -0.013541           0.000376   \nB Mott                    0.405941         0.026078          -0.039974   \nS Greul                   0.409091        -0.081356          -0.004988   \n\n                 choke_pct  \nG Elias          -0.038531  \nT Fabbiano        0.018001  \nP Carreno Busta  -0.001261  \nM Giron          -0.035785  \nK Edmund          0.036887  \n...                    ...  \nP Cuevas          0.000189  \nI Dodig          -0.002822  \nF Cipolla        -0.006583  \nB Mott           -0.006948  \nS Greul          -0.043172  \n\n[332 rows x 15 columns]",
      "text/html": "<div>\n<style scoped>\n    .dataframe tbody tr th:only-of-type {\n        vertical-align: middle;\n    }\n\n    .dataframe tbody tr th {\n        vertical-align: top;\n    }\n\n    .dataframe thead th {\n        text-align: right;\n    }\n</style>\n<table border=\"1\" class=\"dataframe\">\n  <thead>\n    <tr style=\"text-align: right;\">\n      <th></th>\n      <th>receive_nobreak_won</th>\n      <th>receive_nobreak_faced</th>\n      <th>serve_nobreak_won</th>\n      <th>serve_nobreak_faced</th>\n      <th>receive_break_won</th>\n      <th>receive_break_faced</th>\n      <th>serve_break_won</th>\n      <th>serve_break_faced</th>\n      <th>serve_nobreak_pct</th>\n      <th>serve_break_pct</th>\n      <th>receive_nobreak_pct</th>\n      <th>receive_break_pct</th>\n      <th>serve_choke_pct</th>\n      <th>receive_choke_pct</th>\n      <th>choke_pct</th>\n    </tr>\n  </thead>\n  <tbody>\n    <tr>\n      <th>G Elias</th>\n      <td>13</td>\n      <td>64</td>\n      <td>28</td>\n      <td>56</td>\n      <td>0</td>\n      <td>0</td>\n      <td>5</td>\n      <td>11</td>\n      <td>0.589744</td>\n      <td>0.585586</td>\n      <td>0.298780</td>\n      <td>0.400000</td>\n      <td>-0.015842</td>\n      <td>-0.061220</td>\n      <td>-0.038531</td>\n    </tr>\n    <tr>\n      <th>T Fabbiano</th>\n      <td>149</td>\n      <td>458</td>\n      <td>306</td>\n      <td>472</td>\n      <td>11</td>\n      <td>35</td>\n      <td>16</td>\n      <td>30</td>\n      <td>0.646853</td>\n      <td>0.584615</td>\n      <td>0.331541</td>\n      <td>0.377778</td>\n      <td>0.042238</td>\n      <td>-0.006237</td>\n      <td>0.018001</td>\n    </tr>\n    <tr>\n      <th>P Carreno Busta</th>\n      <td>651</td>\n      <td>1816</td>\n      <td>1184</td>\n      <td>1832</td>\n      <td>72</td>\n      <td>169</td>\n      <td>100</td>\n      <td>162</td>\n      <td>0.645963</td>\n      <td>0.610687</td>\n      <td>0.358559</td>\n      <td>0.416357</td>\n      <td>0.015276</td>\n      <td>-0.017797</td>\n      <td>-0.001261</td>\n    </tr>\n    <tr>\n      <th>M Giron</th>\n      <td>46</td>\n      <td>184</td>\n      <td>118</td>\n      <td>203</td>\n      <td>3</td>\n      <td>9</td>\n      <td>18</td>\n      <td>33</td>\n      <td>0.600660</td>\n      <td>0.586466</td>\n      <td>0.288732</td>\n      <td>0.394495</td>\n      <td>-0.005806</td>\n      <td>-0.065763</td>\n      <td>-0.035785</td>\n    </tr>\n    <tr>\n      <th>K Edmund</th>\n      <td>380</td>\n      <td>1101</td>\n      <td>724</td>\n      <td>1094</td>\n      <td>33</td>\n      <td>100</td>\n      <td>44</td>\n      <td>77</td>\n      <td>0.659966</td>\n      <td>0.587571</td>\n      <td>0.346378</td>\n      <td>0.365000</td>\n      <td>0.052396</td>\n      <td>0.021378</td>\n      <td>0.036887</td>\n    </tr>\n    <tr>\n      <th>...</th>\n      <td>...</td>\n      <td>...</td>\n      <td>...</td>\n      <td>...</td>\n      <td>...</td>\n      <td>...</td>\n      <td>...</td>\n      <td>...</td>\n      <td>...</td>\n      <td>...</td>\n      <td>...</td>\n      <td>...</td>\n      <td>...</td>\n      <td>...</td>\n      <td>...</td>\n    </tr>\n    <tr>\n      <th>P Cuevas</th>\n      <td>291</td>\n      <td>895</td>\n      <td>580</td>\n      <td>906</td>\n      <td>31</td>\n      <td>69</td>\n      <td>44</td>\n      <td>83</td>\n      <td>0.640159</td>\n      <td>0.568306</td>\n      <td>0.328643</td>\n      <td>0.420118</td>\n      <td>0.051853</td>\n      <td>-0.051475</td>\n      <td>0.000189</td>\n    </tr>\n    <tr>\n      <th>I Dodig</th>\n      <td>288</td>\n      <td>810</td>\n      <td>478</td>\n      <td>797</td>\n      <td>27</td>\n      <td>69</td>\n      <td>52</td>\n      <td>90</td>\n      <td>0.604236</td>\n      <td>0.589474</td>\n      <td>0.356044</td>\n      <td>0.396450</td>\n      <td>-0.005237</td>\n      <td>-0.000406</td>\n      <td>-0.002822</td>\n    </tr>\n    <tr>\n      <th>F Cipolla</th>\n      <td>35</td>\n      <td>96</td>\n      <td>48</td>\n      <td>88</td>\n      <td>3</td>\n      <td>7</td>\n      <td>6</td>\n      <td>12</td>\n      <td>0.595745</td>\n      <td>0.589286</td>\n      <td>0.362245</td>\n      <td>0.401869</td>\n      <td>-0.013541</td>\n      <td>0.000376</td>\n      <td>-0.006583</td>\n    </tr>\n    <tr>\n      <th>B Mott</th>\n      <td>23</td>\n      <td>81</td>\n      <td>43</td>\n      <td>70</td>\n      <td>1</td>\n      <td>1</td>\n      <td>3</td>\n      <td>8</td>\n      <td>0.629412</td>\n      <td>0.583333</td>\n      <td>0.325967</td>\n      <td>0.405941</td>\n      <td>0.026078</td>\n      <td>-0.039974</td>\n      <td>-0.006948</td>\n    </tr>\n    <tr>\n      <th>S Greul</th>\n      <td>35</td>\n      <td>95</td>\n      <td>50</td>\n      <td>106</td>\n      <td>5</td>\n      <td>10</td>\n      <td>15</td>\n      <td>22</td>\n      <td>0.553398</td>\n      <td>0.614754</td>\n      <td>0.364103</td>\n      <td>0.409091</td>\n      <td>-0.081356</td>\n      <td>-0.004988</td>\n      <td>-0.043172</td>\n    </tr>\n  </tbody>\n</table>\n<p>332 rows × 15 columns</p>\n</div>"
     },
     "execution_count": 54,
     "metadata": {},
     "output_type": "execute_result"
    }
   ],
   "source": [
    "player_bps"
   ],
   "metadata": {
    "collapsed": false,
    "pycharm": {
     "name": "#%%\n"
    }
   }
  },
  {
   "cell_type": "code",
   "execution_count": 55,
   "outputs": [],
   "source": [
    "counts_by_bp[\"p1_choke_pct\"] = 0\n",
    "counts_by_bp[\"p2_choke_pct\"] = 0"
   ],
   "metadata": {
    "collapsed": false,
    "pycharm": {
     "name": "#%%\n"
    }
   }
  },
  {
   "cell_type": "code",
   "execution_count": 56,
   "outputs": [
    {
     "name": "stderr",
     "output_type": "stream",
     "text": [
      "C:\\Users\\anhmi\\miniconda3\\lib\\site-packages\\ipykernel_launcher.py:2: SettingWithCopyWarning: \n",
      "A value is trying to be set on a copy of a slice from a DataFrame\n",
      "\n",
      "See the caveats in the documentation: https://pandas.pydata.org/pandas-docs/stable/user_guide/indexing.html#returning-a-view-versus-a-copy\n",
      "  \n",
      "C:\\Users\\anhmi\\miniconda3\\lib\\site-packages\\ipykernel_launcher.py:3: SettingWithCopyWarning: \n",
      "A value is trying to be set on a copy of a slice from a DataFrame\n",
      "\n",
      "See the caveats in the documentation: https://pandas.pydata.org/pandas-docs/stable/user_guide/indexing.html#returning-a-view-versus-a-copy\n",
      "  This is separate from the ipykernel package so we can avoid doing imports until\n",
      "C:\\Users\\anhmi\\miniconda3\\lib\\site-packages\\ipykernel_launcher.py:2: SettingWithCopyWarning: \n",
      "A value is trying to be set on a copy of a slice from a DataFrame\n",
      "\n",
      "See the caveats in the documentation: https://pandas.pydata.org/pandas-docs/stable/user_guide/indexing.html#returning-a-view-versus-a-copy\n",
      "  \n",
      "C:\\Users\\anhmi\\miniconda3\\lib\\site-packages\\ipykernel_launcher.py:2: SettingWithCopyWarning: \n",
      "A value is trying to be set on a copy of a slice from a DataFrame\n",
      "\n",
      "See the caveats in the documentation: https://pandas.pydata.org/pandas-docs/stable/user_guide/indexing.html#returning-a-view-versus-a-copy\n",
      "  \n",
      "C:\\Users\\anhmi\\miniconda3\\lib\\site-packages\\ipykernel_launcher.py:3: SettingWithCopyWarning: \n",
      "A value is trying to be set on a copy of a slice from a DataFrame\n",
      "\n",
      "See the caveats in the documentation: https://pandas.pydata.org/pandas-docs/stable/user_guide/indexing.html#returning-a-view-versus-a-copy\n",
      "  This is separate from the ipykernel package so we can avoid doing imports until\n"
     ]
    }
   ],
   "source": [
    "for player, stats in player_bps.iterrows():\n",
    "   counts_by_bp[\"p1_choke_pct\"][counts_by_bp[\"player1_new\"] == player] = stats[\"choke_pct\"]\n",
    "   counts_by_bp[\"p2_choke_pct\"][counts_by_bp[\"player2_new\"] == player] = stats[\"choke_pct\"]"
   ],
   "metadata": {
    "collapsed": false,
    "pycharm": {
     "name": "#%%\n"
    }
   }
  },
  {
   "cell_type": "code",
   "execution_count": 57,
   "outputs": [],
   "source": [
    "swapped_counts_by_bp = counts_by_bp.copy()\n",
    "temp = swapped_counts_by_bp[\"player1_new\"].copy()\n",
    "swapped_counts_by_bp[\"player1_new\"] = swapped_counts_by_bp[\"player2_new\"].copy()\n",
    "swapped_counts_by_bp[\"player2_new\"] = temp\n",
    "temp = swapped_counts_by_bp[\"p1_choke_pct\"].copy()\n",
    "swapped_counts_by_bp[\"p1_choke_pct\"] = swapped_counts_by_bp[\"p2_choke_pct\"].copy()\n",
    "swapped_counts_by_bp[\"p2_choke_pct\"] = temp\n",
    "compare_opponents = counts_by_bp.append(swapped_counts_by_bp)\n",
    "compare_opponents[\"opp_choke_adj\"] = compare_opponents[\"count\"] * compare_opponents[\"p2_choke_pct\"]"
   ],
   "metadata": {
    "collapsed": false,
    "pycharm": {
     "name": "#%%\n"
    }
   }
  },
  {
   "cell_type": "code",
   "execution_count": 61,
   "outputs": [
    {
     "data": {
      "text/plain": "                 count  p1_choke_pct  opp_choke_adj\nplayer1_new                                        \nR Gasquet         4177      0.100279      -0.006211\nM Ebden           2586      0.037165      -0.005328\nK Khachanov       3294      0.009781      -0.005032\nJ Isner           4774      0.023143      -0.003555\nS Tsitsipas       3080      0.029998      -0.002936\n...                ...           ...            ...\nN Almagro         3481      0.012101       0.017097\nA Ramos-Vinolas   2593      0.000460       0.017590\nM Fucsovics       2993      0.031099       0.017655\nT Fritz           2639      0.019591       0.019431\nJ Duckworth       3226     -0.027875       0.020704\n\n[61 rows x 3 columns]",
      "text/html": "<div>\n<style scoped>\n    .dataframe tbody tr th:only-of-type {\n        vertical-align: middle;\n    }\n\n    .dataframe tbody tr th {\n        vertical-align: top;\n    }\n\n    .dataframe thead th {\n        text-align: right;\n    }\n</style>\n<table border=\"1\" class=\"dataframe\">\n  <thead>\n    <tr style=\"text-align: right;\">\n      <th></th>\n      <th>count</th>\n      <th>p1_choke_pct</th>\n      <th>opp_choke_adj</th>\n    </tr>\n    <tr>\n      <th>player1_new</th>\n      <th></th>\n      <th></th>\n      <th></th>\n    </tr>\n  </thead>\n  <tbody>\n    <tr>\n      <th>R Gasquet</th>\n      <td>4177</td>\n      <td>0.100279</td>\n      <td>-0.006211</td>\n    </tr>\n    <tr>\n      <th>M Ebden</th>\n      <td>2586</td>\n      <td>0.037165</td>\n      <td>-0.005328</td>\n    </tr>\n    <tr>\n      <th>K Khachanov</th>\n      <td>3294</td>\n      <td>0.009781</td>\n      <td>-0.005032</td>\n    </tr>\n    <tr>\n      <th>J Isner</th>\n      <td>4774</td>\n      <td>0.023143</td>\n      <td>-0.003555</td>\n    </tr>\n    <tr>\n      <th>S Tsitsipas</th>\n      <td>3080</td>\n      <td>0.029998</td>\n      <td>-0.002936</td>\n    </tr>\n    <tr>\n      <th>...</th>\n      <td>...</td>\n      <td>...</td>\n      <td>...</td>\n    </tr>\n    <tr>\n      <th>N Almagro</th>\n      <td>3481</td>\n      <td>0.012101</td>\n      <td>0.017097</td>\n    </tr>\n    <tr>\n      <th>A Ramos-Vinolas</th>\n      <td>2593</td>\n      <td>0.000460</td>\n      <td>0.017590</td>\n    </tr>\n    <tr>\n      <th>M Fucsovics</th>\n      <td>2993</td>\n      <td>0.031099</td>\n      <td>0.017655</td>\n    </tr>\n    <tr>\n      <th>T Fritz</th>\n      <td>2639</td>\n      <td>0.019591</td>\n      <td>0.019431</td>\n    </tr>\n    <tr>\n      <th>J Duckworth</th>\n      <td>3226</td>\n      <td>-0.027875</td>\n      <td>0.020704</td>\n    </tr>\n  </tbody>\n</table>\n<p>61 rows × 3 columns</p>\n</div>"
     },
     "execution_count": 61,
     "metadata": {},
     "output_type": "execute_result"
    }
   ],
   "source": [
    "avg_opponent_choking = compare_opponents.groupby(\"player1_new\").agg(\"sum\")\n",
    "avg_opponent_choking[\"p1_choke_pct\"] = avg_opponent_choking[\"p1_choke_pct\"] / avg_opponent_choking[\"count\"] * 30\n",
    "avg_opponent_choking[\"opp_choke_adj\"] /= avg_opponent_choking[\"count\"]\n",
    "sorted_opp_choking = avg_opponent_choking[avg_opponent_choking[\"count\"] > 2500].sort_values(by=\"opp_choke_adj\")\n",
    "sorted_opp_choking = sorted_opp_choking.filter([\"player1_new\", \"count\", \"p1_choke_pct\", \"opp_choke_adj\"])\n",
    "sorted_opp_choking.to_csv(\"../data/opponent_choking_aus.csv\")\n",
    "sorted_opp_choking"
   ],
   "metadata": {
    "collapsed": false,
    "pycharm": {
     "name": "#%%\n"
    }
   }
  },
  {
   "cell_type": "code",
   "execution_count": 62,
   "metadata": {
    "pycharm": {
     "name": "#%%\n"
    }
   },
   "outputs": [
    {
     "name": "stderr",
     "output_type": "stream",
     "text": [
      "C:\\Users\\anhmi\\miniconda3\\lib\\site-packages\\ipykernel_launcher.py:2: SettingWithCopyWarning: \n",
      "A value is trying to be set on a copy of a slice from a DataFrame\n",
      "\n",
      "See the caveats in the documentation: https://pandas.pydata.org/pandas-docs/stable/user_guide/indexing.html#returning-a-view-versus-a-copy\n",
      "  \n",
      "C:\\Users\\anhmi\\miniconda3\\lib\\site-packages\\ipykernel_launcher.py:3: SettingWithCopyWarning: \n",
      "A value is trying to be set on a copy of a slice from a DataFrame\n",
      "\n",
      "See the caveats in the documentation: https://pandas.pydata.org/pandas-docs/stable/user_guide/indexing.html#returning-a-view-versus-a-copy\n",
      "  This is separate from the ipykernel package so we can avoid doing imports until\n"
     ]
    }
   ],
   "source": [
    "for player, stats in player_bps.iterrows():\n",
    "   counts_by_bp[\"p1_choke_pct\"][counts_by_bp[\"player1_new\"] == player] = stats[\"choke_pct\"]\n",
    "   counts_by_bp[\"p2_choke_pct\"][counts_by_bp[\"player2_new\"] == player] = stats[\"choke_pct\"]"
   ]
  },
  {
   "cell_type": "code",
   "execution_count": 63,
   "metadata": {
    "pycharm": {
     "name": "#%%\n"
    }
   },
   "outputs": [],
   "source": [
    "swapped_counts_by_bp = counts_by_bp.copy()\n",
    "temp = swapped_counts_by_bp[\"player1_new\"].copy()\n",
    "swapped_counts_by_bp[\"player1_new\"] = swapped_counts_by_bp[\"player2_new\"].copy()\n",
    "swapped_counts_by_bp[\"player2_new\"] = temp\n",
    "temp = swapped_counts_by_bp[\"p1_choke_pct\"].copy()\n",
    "swapped_counts_by_bp[\"p1_choke_pct\"] = swapped_counts_by_bp[\"p2_choke_pct\"].copy()\n",
    "swapped_counts_by_bp[\"p2_choke_pct\"] = temp\n",
    "compare_opponents = counts_by_bp.append(swapped_counts_by_bp)\n",
    "compare_opponents[\"opp_choke_adj\"] = compare_opponents[\"count\"] * compare_opponents[\"p2_choke_pct\"]"
   ]
  },
  {
   "cell_type": "code",
   "execution_count": 64,
   "metadata": {
    "pycharm": {
     "name": "#%%\n"
    }
   },
   "outputs": [
    {
     "data": {
      "text/plain": "                 count  p1_choke_pct  opp_choke_adj\nplayer1_new                                        \nR Gasquet         4177      0.100279      -0.006211\nM Ebden           2586      0.037165      -0.005328\nK Khachanov       3294      0.009781      -0.005032\nJ Isner           4774      0.023143      -0.003555\nS Tsitsipas       3080      0.029998      -0.002936\n...                ...           ...            ...\nN Almagro         3481      0.012101       0.017097\nA Ramos-Vinolas   2593      0.000460       0.017590\nM Fucsovics       2993      0.031099       0.017655\nT Fritz           2639      0.019591       0.019431\nJ Duckworth       3226     -0.027875       0.020704\n\n[61 rows x 3 columns]",
      "text/html": "<div>\n<style scoped>\n    .dataframe tbody tr th:only-of-type {\n        vertical-align: middle;\n    }\n\n    .dataframe tbody tr th {\n        vertical-align: top;\n    }\n\n    .dataframe thead th {\n        text-align: right;\n    }\n</style>\n<table border=\"1\" class=\"dataframe\">\n  <thead>\n    <tr style=\"text-align: right;\">\n      <th></th>\n      <th>count</th>\n      <th>p1_choke_pct</th>\n      <th>opp_choke_adj</th>\n    </tr>\n    <tr>\n      <th>player1_new</th>\n      <th></th>\n      <th></th>\n      <th></th>\n    </tr>\n  </thead>\n  <tbody>\n    <tr>\n      <th>R Gasquet</th>\n      <td>4177</td>\n      <td>0.100279</td>\n      <td>-0.006211</td>\n    </tr>\n    <tr>\n      <th>M Ebden</th>\n      <td>2586</td>\n      <td>0.037165</td>\n      <td>-0.005328</td>\n    </tr>\n    <tr>\n      <th>K Khachanov</th>\n      <td>3294</td>\n      <td>0.009781</td>\n      <td>-0.005032</td>\n    </tr>\n    <tr>\n      <th>J Isner</th>\n      <td>4774</td>\n      <td>0.023143</td>\n      <td>-0.003555</td>\n    </tr>\n    <tr>\n      <th>S Tsitsipas</th>\n      <td>3080</td>\n      <td>0.029998</td>\n      <td>-0.002936</td>\n    </tr>\n    <tr>\n      <th>...</th>\n      <td>...</td>\n      <td>...</td>\n      <td>...</td>\n    </tr>\n    <tr>\n      <th>N Almagro</th>\n      <td>3481</td>\n      <td>0.012101</td>\n      <td>0.017097</td>\n    </tr>\n    <tr>\n      <th>A Ramos-Vinolas</th>\n      <td>2593</td>\n      <td>0.000460</td>\n      <td>0.017590</td>\n    </tr>\n    <tr>\n      <th>M Fucsovics</th>\n      <td>2993</td>\n      <td>0.031099</td>\n      <td>0.017655</td>\n    </tr>\n    <tr>\n      <th>T Fritz</th>\n      <td>2639</td>\n      <td>0.019591</td>\n      <td>0.019431</td>\n    </tr>\n    <tr>\n      <th>J Duckworth</th>\n      <td>3226</td>\n      <td>-0.027875</td>\n      <td>0.020704</td>\n    </tr>\n  </tbody>\n</table>\n<p>61 rows × 3 columns</p>\n</div>"
     },
     "execution_count": 64,
     "metadata": {},
     "output_type": "execute_result"
    }
   ],
   "source": [
    "avg_opponent_choking = compare_opponents.groupby(\"player1_new\").agg(\"sum\")\n",
    "avg_opponent_choking[\"p1_choke_pct\"] = avg_opponent_choking[\"p1_choke_pct\"] / avg_opponent_choking[\"count\"] * 30\n",
    "avg_opponent_choking[\"opp_choke_adj\"] /= avg_opponent_choking[\"count\"]\n",
    "sorted_opp_choking = avg_opponent_choking[avg_opponent_choking[\"count\"] > 2500].sort_values(by=\"opp_choke_adj\")\n",
    "sorted_opp_choking = sorted_opp_choking.filter([\"player1_new\", \"count\", \"p1_choke_pct\", \"opp_choke_adj\"])\n",
    "sorted_opp_choking.to_csv(\"../data/opponent_choking_aus.csv\")\n",
    "sorted_opp_choking"
   ]
  },
  {
   "cell_type": "code",
   "execution_count": 65,
   "metadata": {
    "pycharm": {
     "name": "#%%\n"
    }
   },
   "outputs": [],
   "source": [
    "chokiest = player_bps[player_bps[\"receive_break_faced\"].ge(100)].sort_values(\"choke_pct\")\n",
    "all = player_bps.sort_values(\"choke_pct\")"
   ]
  },
  {
   "cell_type": "code",
   "execution_count": 66,
   "metadata": {
    "pycharm": {
     "name": "#%%\n"
    }
   },
   "outputs": [],
   "source": [
    "chokiest.to_csv(\"../data/chokiest_aus.csv\")\n",
    "all.to_csv(\"../data/all_aus.csv\")"
   ]
  },
  {
   "cell_type": "code",
   "execution_count": 67,
   "metadata": {
    "collapsed": false,
    "pycharm": {
     "name": "#%%\n"
    }
   },
   "outputs": [],
   "source": [
    "import seaborn as sns\n",
    "import plotly.express as px\n",
    "import plotly.graph_objects as go\n",
    "import plotly.io as pio"
   ]
  },
  {
   "cell_type": "code",
   "execution_count": 77,
   "metadata": {
    "collapsed": false,
    "pycharm": {
     "name": "#%%\n"
    }
   },
   "outputs": [],
   "source": [
    "df = pd.read_csv(f\"../data/all_aus - Copy.csv\")"
   ]
  },
  {
   "cell_type": "code",
   "execution_count": 78,
   "metadata": {
    "collapsed": false,
    "pycharm": {
     "name": "#%%\n"
    }
   },
   "outputs": [
    {
     "data": {
      "text/plain": "                 name  receive_nobreak_won  receive_nobreak_faced  \\\n0           M Krueger                   13                     63   \n1             N Jarry                   33                    192   \n2           A Golubev                   26                     91   \n3             D Brown                   51                    248   \n4    F Ferreira Silva                   12                     63   \n..                ...                  ...                    ...   \n327        N Djokovic                 2767                   6385   \n328        I Ljubicic                  114                    320   \n329           J Sousa                  510                   1443   \n330         L Pouille                  378                   1169   \n331         R Gasquet                  809                   1938   \n\n     serve_nobreak_won  serve_nobreak_faced  receive_break_won  \\\n0                   45                   97                  1   \n1                  152                  241                  0   \n2                   50                  112                  3   \n3                  174                  309                  2   \n4                   52                   98                  2   \n..                 ...                  ...                ...   \n327               4293                 6061                385   \n328                209                  296                  9   \n329                866                 1350                 35   \n330                755                 1104                 24   \n331               1286                 1895                103   \n\n     receive_break_faced  serve_break_won  serve_break_faced  \\\n0                      2               14                 20   \n1                      1               16                 21   \n2                      4               16                 26   \n3                      9               21                 37   \n4                      2               13                 21   \n..                   ...              ...                ...   \n327                  854              220                351   \n328                   30                6                 11   \n329                  126               68                120   \n330                   86               39                 74   \n331                  240               47                104   \n\n     serve_nobreak_pct  serve_break_pct  receive_nobreak_pct  \\\n0             0.553299         0.616667             0.300613   \n1             0.633431         0.628099             0.236301   \n2             0.537736         0.603175             0.324607   \n3             0.581907         0.591241             0.250000   \n4             0.585859         0.603306             0.294479   \n..                 ...              ...                  ...   \n327           0.707190         0.620843             0.432228   \n328           0.689394         0.594595             0.357143   \n329           0.641379         0.581818             0.353856   \n330           0.680233         0.568966             0.326241   \n331           0.676692         0.524510             0.414622   \n\n     receive_break_pct  serve_choke_pct  receive_choke_pct  choke_pct  \n0             0.401961        -0.083367          -0.061347  -0.072357  \n1             0.396040        -0.014668          -0.119738  -0.067203  \n2             0.413462        -0.085439          -0.048854  -0.067146  \n3             0.385321        -0.029334          -0.095321  -0.062327  \n4             0.411765        -0.037447          -0.077286  -0.057367  \n..                 ...              ...                ...        ...  \n327           0.445493         0.066348           0.026736   0.046542  \n328           0.376923         0.074799           0.020220   0.047510  \n329           0.331858         0.039561           0.061998   0.050779  \n330           0.344086         0.091267           0.022155   0.056711  \n331           0.420588         0.132182           0.034034   0.083108  \n\n[332 rows x 16 columns]",
      "text/html": "<div>\n<style scoped>\n    .dataframe tbody tr th:only-of-type {\n        vertical-align: middle;\n    }\n\n    .dataframe tbody tr th {\n        vertical-align: top;\n    }\n\n    .dataframe thead th {\n        text-align: right;\n    }\n</style>\n<table border=\"1\" class=\"dataframe\">\n  <thead>\n    <tr style=\"text-align: right;\">\n      <th></th>\n      <th>name</th>\n      <th>receive_nobreak_won</th>\n      <th>receive_nobreak_faced</th>\n      <th>serve_nobreak_won</th>\n      <th>serve_nobreak_faced</th>\n      <th>receive_break_won</th>\n      <th>receive_break_faced</th>\n      <th>serve_break_won</th>\n      <th>serve_break_faced</th>\n      <th>serve_nobreak_pct</th>\n      <th>serve_break_pct</th>\n      <th>receive_nobreak_pct</th>\n      <th>receive_break_pct</th>\n      <th>serve_choke_pct</th>\n      <th>receive_choke_pct</th>\n      <th>choke_pct</th>\n    </tr>\n  </thead>\n  <tbody>\n    <tr>\n      <th>0</th>\n      <td>M Krueger</td>\n      <td>13</td>\n      <td>63</td>\n      <td>45</td>\n      <td>97</td>\n      <td>1</td>\n      <td>2</td>\n      <td>14</td>\n      <td>20</td>\n      <td>0.553299</td>\n      <td>0.616667</td>\n      <td>0.300613</td>\n      <td>0.401961</td>\n      <td>-0.083367</td>\n      <td>-0.061347</td>\n      <td>-0.072357</td>\n    </tr>\n    <tr>\n      <th>1</th>\n      <td>N Jarry</td>\n      <td>33</td>\n      <td>192</td>\n      <td>152</td>\n      <td>241</td>\n      <td>0</td>\n      <td>1</td>\n      <td>16</td>\n      <td>21</td>\n      <td>0.633431</td>\n      <td>0.628099</td>\n      <td>0.236301</td>\n      <td>0.396040</td>\n      <td>-0.014668</td>\n      <td>-0.119738</td>\n      <td>-0.067203</td>\n    </tr>\n    <tr>\n      <th>2</th>\n      <td>A Golubev</td>\n      <td>26</td>\n      <td>91</td>\n      <td>50</td>\n      <td>112</td>\n      <td>3</td>\n      <td>4</td>\n      <td>16</td>\n      <td>26</td>\n      <td>0.537736</td>\n      <td>0.603175</td>\n      <td>0.324607</td>\n      <td>0.413462</td>\n      <td>-0.085439</td>\n      <td>-0.048854</td>\n      <td>-0.067146</td>\n    </tr>\n    <tr>\n      <th>3</th>\n      <td>D Brown</td>\n      <td>51</td>\n      <td>248</td>\n      <td>174</td>\n      <td>309</td>\n      <td>2</td>\n      <td>9</td>\n      <td>21</td>\n      <td>37</td>\n      <td>0.581907</td>\n      <td>0.591241</td>\n      <td>0.250000</td>\n      <td>0.385321</td>\n      <td>-0.029334</td>\n      <td>-0.095321</td>\n      <td>-0.062327</td>\n    </tr>\n    <tr>\n      <th>4</th>\n      <td>F Ferreira Silva</td>\n      <td>12</td>\n      <td>63</td>\n      <td>52</td>\n      <td>98</td>\n      <td>2</td>\n      <td>2</td>\n      <td>13</td>\n      <td>21</td>\n      <td>0.585859</td>\n      <td>0.603306</td>\n      <td>0.294479</td>\n      <td>0.411765</td>\n      <td>-0.037447</td>\n      <td>-0.077286</td>\n      <td>-0.057367</td>\n    </tr>\n    <tr>\n      <th>...</th>\n      <td>...</td>\n      <td>...</td>\n      <td>...</td>\n      <td>...</td>\n      <td>...</td>\n      <td>...</td>\n      <td>...</td>\n      <td>...</td>\n      <td>...</td>\n      <td>...</td>\n      <td>...</td>\n      <td>...</td>\n      <td>...</td>\n      <td>...</td>\n      <td>...</td>\n      <td>...</td>\n    </tr>\n    <tr>\n      <th>327</th>\n      <td>N Djokovic</td>\n      <td>2767</td>\n      <td>6385</td>\n      <td>4293</td>\n      <td>6061</td>\n      <td>385</td>\n      <td>854</td>\n      <td>220</td>\n      <td>351</td>\n      <td>0.707190</td>\n      <td>0.620843</td>\n      <td>0.432228</td>\n      <td>0.445493</td>\n      <td>0.066348</td>\n      <td>0.026736</td>\n      <td>0.046542</td>\n    </tr>\n    <tr>\n      <th>328</th>\n      <td>I Ljubicic</td>\n      <td>114</td>\n      <td>320</td>\n      <td>209</td>\n      <td>296</td>\n      <td>9</td>\n      <td>30</td>\n      <td>6</td>\n      <td>11</td>\n      <td>0.689394</td>\n      <td>0.594595</td>\n      <td>0.357143</td>\n      <td>0.376923</td>\n      <td>0.074799</td>\n      <td>0.020220</td>\n      <td>0.047510</td>\n    </tr>\n    <tr>\n      <th>329</th>\n      <td>J Sousa</td>\n      <td>510</td>\n      <td>1443</td>\n      <td>866</td>\n      <td>1350</td>\n      <td>35</td>\n      <td>126</td>\n      <td>68</td>\n      <td>120</td>\n      <td>0.641379</td>\n      <td>0.581818</td>\n      <td>0.353856</td>\n      <td>0.331858</td>\n      <td>0.039561</td>\n      <td>0.061998</td>\n      <td>0.050779</td>\n    </tr>\n    <tr>\n      <th>330</th>\n      <td>L Pouille</td>\n      <td>378</td>\n      <td>1169</td>\n      <td>755</td>\n      <td>1104</td>\n      <td>24</td>\n      <td>86</td>\n      <td>39</td>\n      <td>74</td>\n      <td>0.680233</td>\n      <td>0.568966</td>\n      <td>0.326241</td>\n      <td>0.344086</td>\n      <td>0.091267</td>\n      <td>0.022155</td>\n      <td>0.056711</td>\n    </tr>\n    <tr>\n      <th>331</th>\n      <td>R Gasquet</td>\n      <td>809</td>\n      <td>1938</td>\n      <td>1286</td>\n      <td>1895</td>\n      <td>103</td>\n      <td>240</td>\n      <td>47</td>\n      <td>104</td>\n      <td>0.676692</td>\n      <td>0.524510</td>\n      <td>0.414622</td>\n      <td>0.420588</td>\n      <td>0.132182</td>\n      <td>0.034034</td>\n      <td>0.083108</td>\n    </tr>\n  </tbody>\n</table>\n<p>332 rows × 16 columns</p>\n</div>"
     },
     "execution_count": 78,
     "metadata": {},
     "output_type": "execute_result"
    }
   ],
   "source": [
    "df"
   ]
  },
  {
   "cell_type": "code",
   "execution_count": 79,
   "metadata": {
    "collapsed": false,
    "pycharm": {
     "name": "#%%\n"
    }
   },
   "outputs": [
    {
     "data": {
      "application/vnd.plotly.v1+json": {
       "config": {
        "plotlyServerURL": "https://plot.ly"
       },
       "data": [
        {
         "hovertemplate": "<b>%{hovertext}</b><br><br>serve_choke_pct=%{x}<br>receive_choke_pct=%{y}<extra></extra>",
         "hovertext": [
          "M Krueger",
          "N Jarry",
          "A Golubev",
          "D Brown",
          "F Ferreira Silva",
          "V Millot",
          "C O'Connell",
          "M Youzhny",
          "J Hernych",
          "T De Bakker",
          "D Young",
          "L Giustino",
          "A Nedovyesov",
          "X Malisse",
          "M Kecmanovic",
          "G Mager",
          "M Basic",
          "N Davydenko",
          "S Greul",
          "F Volandri",
          "A Balazs",
          "A Haider-Maurer",
          "J Hajek",
          "F Lopez",
          "G Jones",
          "V Estrella Burgos",
          "Z Zhang",
          "G Elias",
          "A Kudryavtsev",
          "L Saville",
          "H Dellien",
          "O Rochus",
          "G Rufin",
          "M Giron",
          "R Schuettler",
          "F Coria",
          "A Montanes",
          "F Dancevic",
          "B Fratangelo",
          "J Millman",
          "P Luczak",
          "E Schwank",
          "T Griekspoor",
          "J Duckworth",
          "T Smyczek",
          "A Falla",
          "F Bagnis",
          "D Munoz-De La Nava",
          "S Caruso",
          "T Kokkinakis",
          "J Souza",
          "M Safwat",
          "P Gojowczyk",
          "N Basilashvili",
          "L Vanni",
          "C Berlocq",
          "V Pospisil",
          "D Tursunov",
          "C Moutet",
          "M Crugnola",
          "D Gimeno-Traver",
          "C Ruud",
          "T Robredo",
          "J Smith",
          "J Londero",
          "D Shapovalov",
          "J Wang",
          "K De Schepper",
          "N Gombos",
          "T Gabashvili",
          "D Nalbandian",
          "Y Bhambri",
          "L Rosol",
          "R Molleker",
          "J Kovalik",
          "R Machado",
          "L Lacko",
          "D Evans",
          "M Vilella Martinez",
          "J Janowicz",
          "M Ilhan",
          "V Troicki",
          "M Przysiezny",
          "K King",
          "Y Hanfmann",
          "Y Sugita",
          "H Gaston",
          "J Kubler",
          "E Benchetrit",
          "F Verdasco",
          "I Kunitsyn",
          "H Zeballos",
          "R Bemelmans",
          "G Melzer",
          "M Llodra",
          "B Van De Zandschulp",
          "D Dzumhur",
          "M Klizan",
          "R Berankis",
          "H Moriya",
          "F Delbonis",
          "P Sousa",
          "G Zemlja",
          "T Sandgren",
          "K Majchrzak",
          "A Gonzalez",
          "O Jasika",
          "M Daniel",
          "A Weintraub",
          "C Garin",
          "M Torpegaard",
          "B Klahn",
          "J Wilfried Tsonga",
          "E Roger-Vasselin",
          "M Zverev",
          "M Ymer",
          "I Karlovic",
          "N Rubin",
          "R Olivo",
          "M Jaziri",
          "M Kukushkin",
          "M Russell",
          "D Kudla",
          "K Kravchuk",
          "G Simon",
          "A Martin",
          "K Beck",
          "R Safiullin",
          "J Vesely",
          "P Riba",
          "M Purcell",
          "P Kohlschreiber",
          "C Stebe",
          "F Mayer",
          "R Bautista Agut",
          "J Zopp",
          "D Lajovic",
          "R Harrison",
          "A Harris",
          "J Nieminen",
          "J Struff",
          "B Mott",
          "J Melzer",
          "Y Uchiyama",
          "F Cipolla",
          "R Sweeting",
          "E Ruusuvuori",
          "P Gunneswaran",
          "J Ward",
          "A Davidovich Fokina",
          "A Mannarino",
          "M Cecchinato",
          "S Nagal",
          "G Sakharov",
          "D Guez",
          "M McDonald",
          "N Kyrgios",
          "P Martinez",
          "Y Nishioka",
          "A Whittington",
          "E Donskoy",
          "J Thompson",
          "F Tiafoe",
          "P Starace",
          "I Dodig",
          "A Seppi",
          "I Andreev",
          "T Bellucci",
          "R Williams",
          "R Mello",
          "J Levine",
          "R Dutra Silva",
          "F Gil",
          "A De Minaur",
          "P Andujar",
          "A Tabilo",
          "P Carreno Busta",
          "I Cervantes",
          "B Mitchell",
          "S Groth",
          "A Vukic",
          "F Auger-Aliassime",
          "C Eubanks",
          "R Stepanek",
          "E Gerasimov",
          "P Polansky",
          "L Kubot",
          "B Tomic",
          "V Hanescu",
          "M Granollers",
          "P Lorenzi",
          "P Cuevas",
          "M Mmoh",
          "M Copil",
          "A Ramos-Vinolas",
          "T Monteiro",
          "G Andreozzi",
          "N Kicker",
          "R Haase",
          "M Bachinger",
          "D Koepfer",
          "B Becker",
          "P Herbert",
          "M Berrettini",
          "R Ram",
          "D Sela",
          "J Lennard Struff",
          "H Chung",
          "M Trungelliti",
          "S Darcis",
          "D Goffin",
          "A Muller",
          "T Kamke",
          "Q Halys",
          "K Anderson",
          "F Serra",
          "L Harris",
          "D Udomchoke",
          "S Kwon",
          "I Marchenko",
          "T Haas",
          "D Istomin",
          "T Daniel",
          "D Wu",
          "C Alcaraz",
          "S Bolelli",
          "F Krajinovic",
          "P Mathieu",
          "A Roddick",
          "S Travaglia",
          "K Coppejans",
          "A Dolgopolov",
          "A Murray",
          "C Ball",
          "D Medvedev",
          "D Galan",
          "A Kuznetsov",
          "L Sonego",
          "G Monfils",
          "K Khachanov",
          "L Tu",
          "R Albot",
          "U Humbert",
          "R Nadal",
          "A Pavlasek",
          "J Sock",
          "V Safranek",
          "D Novak",
          "S Giraldo",
          "G Soeda",
          "B Paire",
          "T Ito",
          "A Popyrin",
          "A Karatsev",
          "N Almagro",
          "L Mayer",
          "A Krajicek",
          "J Ignacio Chela",
          "B Baker",
          "J Benneteau",
          "S Wawrinka",
          "M Baghdatis",
          "M Marterer",
          "F Fognini",
          "J Donaldson",
          "A Zverev",
          "I Ivashka",
          "S Johnson",
          "J Martin Del Potro",
          "S Stakhovsky",
          "E Ymer",
          "T Fabbiano",
          "B Coric",
          "G Pella",
          "M Raonic",
          "J Chardy",
          "A Bedene",
          "N Mahut",
          "M Matosevic",
          "G Dimitrov",
          "S Robert",
          "L Djere",
          "A Bublik",
          "T Fritz",
          "M Polmans",
          "J Monaco",
          "I Sijsling",
          "M Fish",
          "H Laaksonen",
          "G Garcia-Lopez",
          "E Escobedo",
          "S Devvarman",
          "C Norrie",
          "J Munar",
          "G Muller",
          "J Isner",
          "M Cilic",
          "L Hewitt",
          "Z Li",
          "K Nishikori",
          "J Tipsarevic",
          "R Soderling",
          "D Brands",
          "D Schwartzman",
          "S Tsitsipas",
          "M Fucsovics",
          "T Paul",
          "T Berdych",
          "Y Lu",
          "E Gulbis",
          "R Opelka",
          "M Cressy",
          "D Ferrer",
          "R Carballes Baena",
          "J Sinner",
          "S Querrey",
          "G Barrere",
          "K Edmund",
          "M Ebden",
          "D Thiem",
          "P Petzschner",
          "B Kavcic",
          "A Bolt",
          "A Rublev",
          "T Machac",
          "R Federer",
          "H Hurkacz",
          "N Djokovic",
          "I Ljubicic",
          "J Sousa",
          "L Pouille",
          "R Gasquet"
         ],
         "legendgroup": "",
         "marker": {
          "color": "#636efa",
          "symbol": "circle"
         },
         "mode": "markers",
         "name": "",
         "orientation": "v",
         "selected": {
          "marker": {
           "color": "red"
          }
         },
         "selectedpoints": [
          327
         ],
         "showlegend": false,
         "type": "scatter",
         "unselected": {
          "marker": {
           "color": "blue"
          }
         },
         "x": [
          -0.0833671742808799,
          -0.0146680885097307,
          -0.0854387541179993,
          -0.0293337854478611,
          -0.037447199265381,
          -0.0602930402930402,
          -0.0098915187376725,
          -0.007154772208671,
          -0.0479025452565673,
          -0.0438819253875249,
          -0.0506349730124684,
          -0.039110275689223,
          -0.0306831324120356,
          -0.0828415300546448,
          -0.0339640614851699,
          -0.011764284618139,
          -0.0329658792650918,
          -0.0400636231722291,
          -0.0813560401082286,
          -0.0322898550724637,
          -0.0227777777777777,
          0.0056483328583642,
          -0.0563822992700729,
          -0.014510004987084,
          -0.0220873340569423,
          -0.0177450980392157,
          -0.0431639705323916,
          -0.0158419958419958,
          -0.0474654172244533,
          -0.0426043133476617,
          -0.0364461080491614,
          -0.0103245313444869,
          -0.0450698974836906,
          -0.005806099406933,
          -0.0302843315184513,
          -0.0188732923336932,
          -0.0018181818181818,
          -0.0230846346635819,
          -0.0496451914098973,
          -0.0026176080122714,
          -0.026315331010453,
          -0.0054928368057124,
          0.0061919377941477,
          -0.0376518883415435,
          -0.0312293144208037,
          -0.0096897768409476,
          -0.0221739130434782,
          -0.0227247367169085,
          -0.0324999999999999,
          -0.0059960552268245,
          -0.0511358139056148,
          -0.0326701843528109,
          -0.0409073658789028,
          -0.0148234725619884,
          -0.0118599062837918,
          -0.0222719225775994,
          0.0091636804675009,
          -0.0132459016393442,
          0.0048447204968944,
          -0.0142236354001059,
          -0.0042685494859407,
          -0.0150592566280234,
          -0.0471062271062271,
          -9.523809523809E-4,
          -0.0043797934349115,
          0.0092954357470486,
          0.0276957782790847,
          -0.0369756533392896,
          -0.0321319093793288,
          -0.0367800955698844,
          -0.0391077316797087,
          0.0224159201377536,
          -0.0236240968249264,
          0.0068210758510051,
          0.026021268793546,
          -0.0074119906123319,
          -0.0022743055555555,
          -0.0146346448645887,
          0.0204010175071076,
          -0.0211679162114305,
          -0.0176887519260401,
          -0.0211278749475736,
          -0.0271770334928229,
          -0.0453623188405797,
          -0.0224120064320171,
          0.0175754372054094,
          -0.0896761877828053,
          -0.0334704392629464,
          0.0139333876936587,
          -0.0306587172170131,
          0.0286082893132873,
          0.0594898470311716,
          0.0014572750018955,
          -0.0508823529411764,
          0.0044846847143727,
          -3.359683794465E-4,
          -0.001767243516636,
          -0.0128820843405855,
          -0.0130098158332266,
          -0.029691629955947,
          -0.0432773538024669,
          0.018059163059163,
          -0.0389207650273224,
          -0.01609464736963,
          -0.0026804123711341,
          -0.0110118130457113,
          -0.0121066956995101,
          -0.0360377358490565,
          0.0345965475712565,
          -3.144792507275E-4,
          0.0203439153439153,
          0.0475087719298246,
          0.002374241436381,
          -0.0144064364293142,
          -0.0328813559322034,
          -0.0358885657431501,
          0.0413105470725048,
          0.0037604974160207,
          -0.031427211046304,
          -0.0504873862598161,
          -0.0364124520560163,
          -0.0346705415525625,
          -0.0131425305966951,
          0.0433663366336634,
          0.0032903594405942,
          0.0166789280084077,
          -0.0094548138774649,
          -0.0309187109187108,
          0.0483455520644895,
          0.0230920245398772,
          -0.0030950495971685,
          0.0097872096292089,
          -0.0327194314523477,
          -0.0108648339060709,
          -0.0111679550174505,
          0.0086697247706422,
          0.0098607992815447,
          0.0120304695304695,
          0.0020394389960982,
          -0.0232812997769989,
          0.0224038341618115,
          0.0260784313725489,
          0.0192739859767462,
          0.0041511238641798,
          -0.0135410334346505,
          -0.0066666666666666,
          -0.0314590720764435,
          0.0123383084577113,
          -0.0222883295194507,
          -0.0377631578947368,
          0.0205458368421331,
          0.0344802687659829,
          -0.0323931623931623,
          0.014621578099839,
          0.0036582694414019,
          0.0317510944340212,
          0.0514492007149711,
          -0.0077930867778583,
          -0.0206432325358711,
          0.0092146877512731,
          -0.0268746334210848,
          -0.0282750880781907,
          0.0274889478337754,
          0.042688773215089,
          -0.0052373408437481,
          0.0117063463885315,
          0.0270850503276362,
          0.0137978380592108,
          0.0524559510967278,
          0.0107125307125306,
          -0.0110291130670276,
          0.009059829059829,
          0.0091256195312978,
          0.0059109311740891,
          -0.0073202066750453,
          0.0415191630191096,
          0.0152757100184912,
          -0.0195083579154374,
          -5.132777176335E-4,
          0.0645237162579758,
          0.0230899015796872,
          0.0478673844141469,
          0.0021290650406503,
          -0.0173836011536877,
          -0.03366930171278,
          0.0038787282564951,
          -0.007258575027453,
          -0.0040993289824876,
          0.0143821249430004,
          0.0532147867564533,
          0.0146242774566474,
          0.0518530347966843,
          0.0053347926860675,
          0.0500578990901571,
          0.0074624918460534,
          0.0672950935304573,
          0.0194144144144144,
          -0.0154248594279327,
          0.0363021850083496,
          1.113861386138E-4,
          0.0187692307692307,
          0.0607586953752069,
          0.0301368678864716,
          0.0680517435868304,
          0.0337849814848539,
          -0.0022547193322603,
          -0.0309890109890109,
          0.0314733577046638,
          0.0273970944309927,
          0.0392532039449396,
          0.0356509964024414,
          0.0113432323994375,
          -0.0166713501940318,
          0.0132600732600732,
          0.0170917439819458,
          0.041930226636109,
          0.0461077698803231,
          0.0278590420254771,
          0.0214642504384284,
          0.0445878173832397,
          0.0342315991368976,
          0.0141133520857023,
          0.0111629811629811,
          -0.0201238039652641,
          0.0086896551724138,
          0.0451751392908046,
          0.0267409948542023,
          0.0181433823529411,
          0.0190510731910339,
          0.0275187969924811,
          0.0325482747704969,
          0.022993735575338,
          0.0133528117209627,
          0.0443840104849279,
          0.0601956411930663,
          0.0313198022925649,
          0.0381936311863319,
          0.0584313725490195,
          0.0049110601344777,
          0.0084457918527319,
          0.0814579759862779,
          0.0129018075232047,
          0.0560481527604816,
          -0.013135460251046,
          0.0282809748864795,
          0.0109489227789881,
          0.0375524401813007,
          0.0227480916030533,
          0.0361450107681262,
          0.0233756805807622,
          -0.0367799284376853,
          0.0180479735318445,
          0.0255549037384672,
          0.033169014084507,
          0.0119176134910975,
          0.0730439608722798,
          0.0582407407407407,
          -0.0082817643186306,
          0.0191248391248391,
          0.0125689935064934,
          0.0205010007426894,
          -0.009978448275862,
          0.0568110666181288,
          0.0044516361021215,
          0.0239068100358422,
          0.017743158317375,
          -0.012860057119543,
          0.0523491849287607,
          0.0493044069332728,
          0.0272265155418168,
          0.0095899675919402,
          0.0422377622377622,
          0.0458329762641571,
          0.0334874608150469,
          0.0447324295070538,
          0.0086579772404047,
          0.0390421139554088,
          0.0302566295979469,
          -0.0078039331153435,
          -0.0039925556693371,
          -0.0032088612905932,
          0.0389547890106453,
          0.020625,
          0.0439757062917973,
          -9.932622182357E-4,
          -0.0098144986912484,
          0.0363128003494975,
          0.0298316498316498,
          0.0239894780211073,
          0.0445455891790491,
          0.0124722481585226,
          -0.0150280112044818,
          0.0232263404764093,
          -0.0077761413843888,
          0.0102447552447552,
          0.0682373721001753,
          0.0159775198083656,
          0.0111147186147185,
          0.0332708168568523,
          0.0391224111185344,
          0.0204568141027217,
          0.0709263477600607,
          0.0773615756224451,
          0.0503189631399945,
          0.0920195103648813,
          0.0422981884092415,
          0.0252416889198498,
          0.0363163655099035,
          0.0346063835631489,
          0.0433325641402169,
          0.1099845301212057,
          0.0791086315249454,
          0.0415117422412727,
          0.0834527590497947,
          0.038560794044665,
          0.0491785204044079,
          0.0250582819081202,
          0.0523958776935524,
          0.0563874423448891,
          0.0190310029752998,
          0.0270930232558139,
          0.0585984603022369,
          0.0522992700729926,
          0.0542805170097544,
          0.0421005834954153,
          0.042743518000373,
          0.0947411616161616,
          0.0663478191081803,
          0.0747993447993448,
          0.0395611285266457,
          0.0912670408981555,
          0.1321819254017396
         ],
         "xaxis": "x",
         "y": [
          -0.0613472873812101,
          -0.1197382340973823,
          -0.0488542086186064,
          -0.0953211009174312,
          -0.0772861782749909,
          -0.0459761583445793,
          -0.0927267714364488,
          -0.0949398237696109,
          -0.0533218507789869,
          -0.0551255383968904,
          -0.0456777493606138,
          -0.0541528115075658,
          -0.0622160343427311,
          -0.0088310150932228,
          -0.0571311475409836,
          -0.0764918414918414,
          -0.0543913742551782,
          -0.0468797868797868,
          -0.004988344988345,
          -0.0540507741665503,
          -0.0627027027027027,
          -0.0885153695225638,
          -0.0264542099966454,
          -0.06641702798581,
          -0.058192004074357,
          -0.0623907156673113,
          -0.0363122802763971,
          -0.0612195121951219,
          -0.0284523809523809,
          -0.0331346678798908,
          -0.0386460734593514,
          -0.0640453451354919,
          -0.0287869822485207,
          -0.0657630184778395,
          -0.0386743344993182,
          -0.0495690267582287,
          -0.0665393964546155,
          -0.0439160839160839,
          -0.0167551540098371,
          -0.0602436323366555,
          -0.036139546727782,
          -0.0559498553519768,
          -0.0647317130444992,
          -0.020552063333421,
          -0.026703216374269,
          -0.0482303275920297,
          -0.0349525616698292,
          -0.0332888559426735,
          -0.0225970798384591,
          -0.0487369873322463,
          -0.003307569623359,
          -0.0217047426257952,
          -0.0127555188500256,
          -0.038640657588026,
          -0.0413186813186813,
          -0.029776628600158,
          -0.061183412767889,
          -0.0383329329810232,
          -0.0561021505376344,
          -0.0366723013764791,
          -0.0465652453396186,
          -0.0354269166467638,
          -0.0032861205598616,
          -0.0486659872338143,
          -0.0448484848484848,
          -0.0583772819472616,
          -0.0764697114872778,
          -0.0112006668590298,
          -0.0150141852719872,
          -0.0100060625656778,
          -0.0071786943995502,
          -0.0672953645109842,
          -0.020320272572402,
          -0.0503659447348767,
          -0.0692595276046949,
          -0.034577861163227,
          -0.0396478296478296,
          -0.0269535522032383,
          -0.0618725460585925,
          -0.0195754499307799,
          -0.0226114081996435,
          -0.0191589322972875,
          -0.0111772106398274,
          0.0071139173901605,
          -0.0151820728291316,
          -0.0546873270614277,
          0.0536530136530136,
          -0.0019422206752523,
          -0.0492911377027273,
          -0.0045641879755723,
          -0.0634333134457883,
          -0.09364129435558,
          -0.0355940149914624,
          0.016929068914956,
          -0.0376354862657758,
          -0.0323270440251572,
          -0.0307668399976092,
          -0.0194415594189809,
          -0.0189125113451964,
          -0.002217104997374,
          0.0114789669861554,
          -0.0494645024271844,
          0.0077623261694058,
          -0.0149032766923119,
          -0.0278832116788321,
          -0.0188813710111675,
          -0.0175917546505781,
          0.0065296535525542,
          -0.0618630280766202,
          -0.0268147641831852,
          -0.0473015873015873,
          -0.0738949406923263,
          -0.0287225723258667,
          -0.0114359990096558,
          0.0074463937621832,
          0.0114170081448879,
          -0.0649467395296886,
          -0.0267900255529121,
          0.0084210526315789,
          0.0275156054931335,
          0.0136195772514984,
          0.0119024933059776,
          -0.0087081005586592,
          -0.0650755230321793,
          -0.0249100170899973,
          -0.0378825995807128,
          -0.0109262016796712,
          0.0110884353741496,
          -0.0676945929887106,
          -0.0420364979847738,
          -0.015685874553799,
          -0.0277789471511999,
          0.0150841750841751,
          -0.0064510873415031,
          -0.0060331942996176,
          -0.0245010395010394,
          -0.0256116450094366,
          -0.0275257731958763,
          -0.0169295900178253,
          0.0084754861476087,
          -0.0363117096587406,
          -0.0399737432306766,
          -0.0328356150891362,
          -0.0173563218390804,
          3.75739080679E-4,
          -0.006055796055796,
          0.0190163086800094,
          -0.0247463089013843,
          0.0099905684643744,
          0.0263794741843522,
          -0.0317578415585424,
          -0.0455983772819473,
          0.0219746376811593,
          -0.0248179271708683,
          -0.0135545521369316,
          -0.0414021535580524,
          -0.0610399809752504,
          -0.0013752913752913,
          0.0123101950400637,
          -0.0161403508771929,
          0.0207281657057441,
          0.0222627597194071,
          -0.0332996201214643,
          -0.0484940604566772,
          -4.057480980558E-4,
          -0.0173033023867481,
          -0.0320688673875924,
          -0.0186044138282944,
          -0.0567964650648991,
          -0.0139804257895268,
          0.0078353037097431,
          -0.0122054123162156,
          -0.0122157800155969,
          -0.0089905052930263,
          0.004245073965383,
          -0.0441932841932842,
          -0.0177973783672613,
          0.0170658263305322,
          -0.0019285368962334,
          -0.0661435719040563,
          -0.0245257210823669,
          -0.0492872313312377,
          -0.003531366034786,
          0.016107838212236,
          0.0324436090225563,
          -0.005045045045045,
          0.0061571146409069,
          0.0030121592509735,
          -0.0151965803469357,
          -0.0533218431983887,
          -0.01431538517993,
          -0.0514751271148642,
          -0.0047368421052631,
          -0.049434565156988,
          -0.0065373271387325,
          -0.0661972098320205,
          -0.0182210242587601,
          0.0175846376242571,
          -0.0338493688592277,
          0.0024610591900311,
          -0.0161910928843801,
          -0.0578942652329749,
          -0.0271046264629415,
          -0.0642901538694762,
          -0.0299921015857585,
          0.0065193120297251,
          0.0365601965601965,
          -0.0252827257386227,
          -0.0202459016393442,
          -0.0315440478328928,
          -0.0275800076501338,
          -0.0031225121627598,
          0.0250565148047985,
          -0.0043819477966433,
          -0.008163594470046,
          -0.0324485910129474,
          -0.035998480573041,
          -0.0171911196911197,
          -0.010158147127844,
          -0.0332533249113941,
          -0.0217780097425191,
          -0.0014539365600909,
          0.0016977225672878,
          0.0332926829268292,
          0.0047156496471565,
          -0.0315581938976377,
          -0.0130877268596164,
          -0.0039289539089494,
          -0.0038839550029603,
          -0.0122372559492018,
          -0.0169581280788177,
          -0.0066707516339869,
          0.0029896526237989,
          -0.0278821762349799,
          -0.0436298932384341,
          -0.0144144411841177,
          -0.0200955667307536,
          -0.0398859271330462,
          0.0142237338466718,
          0.0107312289683932,
          -0.062097672894133,
          0.0067695782670341,
          -0.0354812563323201,
          0.0350098978106507,
          -0.0061819010713471,
          0.0114269930516339,
          -0.0149855301236516,
          2.325778796367E-4,
          -0.0128598245412404,
          0.0010169491525423,
          0.0612128413411683,
          0.0066733231267611,
          -8.197590263195E-4,
          -0.0078882747563393,
          0.0133815152528031,
          -0.0464205073065832,
          -0.0300753785604696,
          0.0365288878739438,
          0.0094055944055944,
          0.0161752286417578,
          0.0090345282603914,
          0.0410537407797681,
          -0.025506719470233,
          0.0277179946675991,
          0.0082775996335318,
          0.0145900305556057,
          0.0452682479894125,
          -0.0195035476669392,
          -0.0150724637681159,
          0.0081087349634405,
          0.025978936683162,
          -0.0062365591397849,
          -0.0095352767215885,
          0.0030013255649064,
          -0.0078510607061586,
          0.0290276077791377,
          -0.0012774483524219,
          0.0077324973876698,
          0.0458081991977913,
          0.0421373639384451,
          0.0416991317355533,
          2.601156069364E-4,
          0.0187955809950766,
          -0.0034272094775766,
          0.0418270203256011,
          0.0520575907373644,
          0.0060781743890216,
          0.0129851837087236,
          0.0189905943293348,
          2.627257799671E-4,
          0.0326686217008797,
          0.062375561063844,
          0.0241892801076474,
          0.0565897604921995,
          0.0396167707636861,
          -0.0170859683459097,
          0.035217744341918,
          0.0405631118426752,
          0.0208080808080807,
          0.0154190731088885,
          0.0342245576256904,
          -0.0149464353006621,
          -0.0206900472586433,
          0.0082241355922522,
          -0.0333572248112526,
          0.0179481432428301,
          0.0362395034684191,
          0.0259182126153959,
          0.0285243171219187,
          0.0204284323271665,
          -0.0434606343426733,
          -0.01060706401766,
          0.0271307747396105,
          -0.0139227098125945,
          0.0313357775318207,
          0.0227843448420852,
          0.0470224719101123,
          0.0213780183180683,
          0.0181158758492811,
          0.0558560195033342,
          0.0478811369509044,
          0.0185763303119549,
          0.027521409346709,
          0.0262030633280096,
          0.0417000607164541,
          0.0458782260393052,
          -0.0028529108312136,
          0.026735556493052,
          0.0202197802197802,
          0.0619977173532768,
          0.0221551132463967,
          0.0340339433123592
         ],
         "yaxis": "y"
        }
       ],
       "layout": {
        "legend": {
         "tracegroupgap": 0
        },
        "margin": {
         "t": 60
        },
        "template": {
         "data": {
          "bar": [
           {
            "error_x": {
             "color": "#f2f5fa"
            },
            "error_y": {
             "color": "#f2f5fa"
            },
            "marker": {
             "line": {
              "color": "rgb(17,17,17)",
              "width": 0.5
             }
            },
            "type": "bar"
           }
          ],
          "barpolar": [
           {
            "marker": {
             "line": {
              "color": "rgb(17,17,17)",
              "width": 0.5
             }
            },
            "type": "barpolar"
           }
          ],
          "carpet": [
           {
            "aaxis": {
             "endlinecolor": "#A2B1C6",
             "gridcolor": "#506784",
             "linecolor": "#506784",
             "minorgridcolor": "#506784",
             "startlinecolor": "#A2B1C6"
            },
            "baxis": {
             "endlinecolor": "#A2B1C6",
             "gridcolor": "#506784",
             "linecolor": "#506784",
             "minorgridcolor": "#506784",
             "startlinecolor": "#A2B1C6"
            },
            "type": "carpet"
           }
          ],
          "choropleth": [
           {
            "colorbar": {
             "outlinewidth": 0,
             "ticks": ""
            },
            "type": "choropleth"
           }
          ],
          "contour": [
           {
            "colorbar": {
             "outlinewidth": 0,
             "ticks": ""
            },
            "colorscale": [
             [
              0.0,
              "#0d0887"
             ],
             [
              0.1111111111111111,
              "#46039f"
             ],
             [
              0.2222222222222222,
              "#7201a8"
             ],
             [
              0.3333333333333333,
              "#9c179e"
             ],
             [
              0.4444444444444444,
              "#bd3786"
             ],
             [
              0.5555555555555556,
              "#d8576b"
             ],
             [
              0.6666666666666666,
              "#ed7953"
             ],
             [
              0.7777777777777778,
              "#fb9f3a"
             ],
             [
              0.8888888888888888,
              "#fdca26"
             ],
             [
              1.0,
              "#f0f921"
             ]
            ],
            "type": "contour"
           }
          ],
          "contourcarpet": [
           {
            "colorbar": {
             "outlinewidth": 0,
             "ticks": ""
            },
            "type": "contourcarpet"
           }
          ],
          "heatmap": [
           {
            "colorbar": {
             "outlinewidth": 0,
             "ticks": ""
            },
            "colorscale": [
             [
              0.0,
              "#0d0887"
             ],
             [
              0.1111111111111111,
              "#46039f"
             ],
             [
              0.2222222222222222,
              "#7201a8"
             ],
             [
              0.3333333333333333,
              "#9c179e"
             ],
             [
              0.4444444444444444,
              "#bd3786"
             ],
             [
              0.5555555555555556,
              "#d8576b"
             ],
             [
              0.6666666666666666,
              "#ed7953"
             ],
             [
              0.7777777777777778,
              "#fb9f3a"
             ],
             [
              0.8888888888888888,
              "#fdca26"
             ],
             [
              1.0,
              "#f0f921"
             ]
            ],
            "type": "heatmap"
           }
          ],
          "heatmapgl": [
           {
            "colorbar": {
             "outlinewidth": 0,
             "ticks": ""
            },
            "colorscale": [
             [
              0.0,
              "#0d0887"
             ],
             [
              0.1111111111111111,
              "#46039f"
             ],
             [
              0.2222222222222222,
              "#7201a8"
             ],
             [
              0.3333333333333333,
              "#9c179e"
             ],
             [
              0.4444444444444444,
              "#bd3786"
             ],
             [
              0.5555555555555556,
              "#d8576b"
             ],
             [
              0.6666666666666666,
              "#ed7953"
             ],
             [
              0.7777777777777778,
              "#fb9f3a"
             ],
             [
              0.8888888888888888,
              "#fdca26"
             ],
             [
              1.0,
              "#f0f921"
             ]
            ],
            "type": "heatmapgl"
           }
          ],
          "histogram": [
           {
            "marker": {
             "colorbar": {
              "outlinewidth": 0,
              "ticks": ""
             }
            },
            "type": "histogram"
           }
          ],
          "histogram2d": [
           {
            "colorbar": {
             "outlinewidth": 0,
             "ticks": ""
            },
            "colorscale": [
             [
              0.0,
              "#0d0887"
             ],
             [
              0.1111111111111111,
              "#46039f"
             ],
             [
              0.2222222222222222,
              "#7201a8"
             ],
             [
              0.3333333333333333,
              "#9c179e"
             ],
             [
              0.4444444444444444,
              "#bd3786"
             ],
             [
              0.5555555555555556,
              "#d8576b"
             ],
             [
              0.6666666666666666,
              "#ed7953"
             ],
             [
              0.7777777777777778,
              "#fb9f3a"
             ],
             [
              0.8888888888888888,
              "#fdca26"
             ],
             [
              1.0,
              "#f0f921"
             ]
            ],
            "type": "histogram2d"
           }
          ],
          "histogram2dcontour": [
           {
            "colorbar": {
             "outlinewidth": 0,
             "ticks": ""
            },
            "colorscale": [
             [
              0.0,
              "#0d0887"
             ],
             [
              0.1111111111111111,
              "#46039f"
             ],
             [
              0.2222222222222222,
              "#7201a8"
             ],
             [
              0.3333333333333333,
              "#9c179e"
             ],
             [
              0.4444444444444444,
              "#bd3786"
             ],
             [
              0.5555555555555556,
              "#d8576b"
             ],
             [
              0.6666666666666666,
              "#ed7953"
             ],
             [
              0.7777777777777778,
              "#fb9f3a"
             ],
             [
              0.8888888888888888,
              "#fdca26"
             ],
             [
              1.0,
              "#f0f921"
             ]
            ],
            "type": "histogram2dcontour"
           }
          ],
          "mesh3d": [
           {
            "colorbar": {
             "outlinewidth": 0,
             "ticks": ""
            },
            "type": "mesh3d"
           }
          ],
          "parcoords": [
           {
            "line": {
             "colorbar": {
              "outlinewidth": 0,
              "ticks": ""
             }
            },
            "type": "parcoords"
           }
          ],
          "pie": [
           {
            "automargin": true,
            "type": "pie"
           }
          ],
          "scatter": [
           {
            "marker": {
             "line": {
              "color": "#283442"
             }
            },
            "type": "scatter"
           }
          ],
          "scatter3d": [
           {
            "line": {
             "colorbar": {
              "outlinewidth": 0,
              "ticks": ""
             }
            },
            "marker": {
             "colorbar": {
              "outlinewidth": 0,
              "ticks": ""
             }
            },
            "type": "scatter3d"
           }
          ],
          "scattercarpet": [
           {
            "marker": {
             "colorbar": {
              "outlinewidth": 0,
              "ticks": ""
             }
            },
            "type": "scattercarpet"
           }
          ],
          "scattergeo": [
           {
            "marker": {
             "colorbar": {
              "outlinewidth": 0,
              "ticks": ""
             }
            },
            "type": "scattergeo"
           }
          ],
          "scattergl": [
           {
            "marker": {
             "line": {
              "color": "#283442"
             }
            },
            "type": "scattergl"
           }
          ],
          "scattermapbox": [
           {
            "marker": {
             "colorbar": {
              "outlinewidth": 0,
              "ticks": ""
             }
            },
            "type": "scattermapbox"
           }
          ],
          "scatterpolar": [
           {
            "marker": {
             "colorbar": {
              "outlinewidth": 0,
              "ticks": ""
             }
            },
            "type": "scatterpolar"
           }
          ],
          "scatterpolargl": [
           {
            "marker": {
             "colorbar": {
              "outlinewidth": 0,
              "ticks": ""
             }
            },
            "type": "scatterpolargl"
           }
          ],
          "scatterternary": [
           {
            "marker": {
             "colorbar": {
              "outlinewidth": 0,
              "ticks": ""
             }
            },
            "type": "scatterternary"
           }
          ],
          "surface": [
           {
            "colorbar": {
             "outlinewidth": 0,
             "ticks": ""
            },
            "colorscale": [
             [
              0.0,
              "#0d0887"
             ],
             [
              0.1111111111111111,
              "#46039f"
             ],
             [
              0.2222222222222222,
              "#7201a8"
             ],
             [
              0.3333333333333333,
              "#9c179e"
             ],
             [
              0.4444444444444444,
              "#bd3786"
             ],
             [
              0.5555555555555556,
              "#d8576b"
             ],
             [
              0.6666666666666666,
              "#ed7953"
             ],
             [
              0.7777777777777778,
              "#fb9f3a"
             ],
             [
              0.8888888888888888,
              "#fdca26"
             ],
             [
              1.0,
              "#f0f921"
             ]
            ],
            "type": "surface"
           }
          ],
          "table": [
           {
            "cells": {
             "fill": {
              "color": "#506784"
             },
             "line": {
              "color": "rgb(17,17,17)"
             }
            },
            "header": {
             "fill": {
              "color": "#2a3f5f"
             },
             "line": {
              "color": "rgb(17,17,17)"
             }
            },
            "type": "table"
           }
          ]
         },
         "layout": {
          "annotationdefaults": {
           "arrowcolor": "#f2f5fa",
           "arrowhead": 0,
           "arrowwidth": 1
          },
          "autotypenumbers": "strict",
          "coloraxis": {
           "colorbar": {
            "outlinewidth": 0,
            "ticks": ""
           }
          },
          "colorscale": {
           "diverging": [
            [
             0,
             "#8e0152"
            ],
            [
             0.1,
             "#c51b7d"
            ],
            [
             0.2,
             "#de77ae"
            ],
            [
             0.3,
             "#f1b6da"
            ],
            [
             0.4,
             "#fde0ef"
            ],
            [
             0.5,
             "#f7f7f7"
            ],
            [
             0.6,
             "#e6f5d0"
            ],
            [
             0.7,
             "#b8e186"
            ],
            [
             0.8,
             "#7fbc41"
            ],
            [
             0.9,
             "#4d9221"
            ],
            [
             1,
             "#276419"
            ]
           ],
           "sequential": [
            [
             0.0,
             "#0d0887"
            ],
            [
             0.1111111111111111,
             "#46039f"
            ],
            [
             0.2222222222222222,
             "#7201a8"
            ],
            [
             0.3333333333333333,
             "#9c179e"
            ],
            [
             0.4444444444444444,
             "#bd3786"
            ],
            [
             0.5555555555555556,
             "#d8576b"
            ],
            [
             0.6666666666666666,
             "#ed7953"
            ],
            [
             0.7777777777777778,
             "#fb9f3a"
            ],
            [
             0.8888888888888888,
             "#fdca26"
            ],
            [
             1.0,
             "#f0f921"
            ]
           ],
           "sequentialminus": [
            [
             0.0,
             "#0d0887"
            ],
            [
             0.1111111111111111,
             "#46039f"
            ],
            [
             0.2222222222222222,
             "#7201a8"
            ],
            [
             0.3333333333333333,
             "#9c179e"
            ],
            [
             0.4444444444444444,
             "#bd3786"
            ],
            [
             0.5555555555555556,
             "#d8576b"
            ],
            [
             0.6666666666666666,
             "#ed7953"
            ],
            [
             0.7777777777777778,
             "#fb9f3a"
            ],
            [
             0.8888888888888888,
             "#fdca26"
            ],
            [
             1.0,
             "#f0f921"
            ]
           ]
          },
          "colorway": [
           "#636efa",
           "#EF553B",
           "#00cc96",
           "#ab63fa",
           "#FFA15A",
           "#19d3f3",
           "#FF6692",
           "#B6E880",
           "#FF97FF",
           "#FECB52"
          ],
          "font": {
           "color": "#f2f5fa"
          },
          "geo": {
           "bgcolor": "rgb(17,17,17)",
           "lakecolor": "rgb(17,17,17)",
           "landcolor": "rgb(17,17,17)",
           "showlakes": true,
           "showland": true,
           "subunitcolor": "#506784"
          },
          "hoverlabel": {
           "align": "left"
          },
          "hovermode": "closest",
          "mapbox": {
           "style": "dark"
          },
          "paper_bgcolor": "rgb(17,17,17)",
          "plot_bgcolor": "rgb(17,17,17)",
          "polar": {
           "angularaxis": {
            "gridcolor": "#506784",
            "linecolor": "#506784",
            "ticks": ""
           },
           "bgcolor": "rgb(17,17,17)",
           "radialaxis": {
            "gridcolor": "#506784",
            "linecolor": "#506784",
            "ticks": ""
           }
          },
          "scene": {
           "xaxis": {
            "backgroundcolor": "rgb(17,17,17)",
            "gridcolor": "#506784",
            "gridwidth": 2,
            "linecolor": "#506784",
            "showbackground": true,
            "ticks": "",
            "zerolinecolor": "#C8D4E3"
           },
           "yaxis": {
            "backgroundcolor": "rgb(17,17,17)",
            "gridcolor": "#506784",
            "gridwidth": 2,
            "linecolor": "#506784",
            "showbackground": true,
            "ticks": "",
            "zerolinecolor": "#C8D4E3"
           },
           "zaxis": {
            "backgroundcolor": "rgb(17,17,17)",
            "gridcolor": "#506784",
            "gridwidth": 2,
            "linecolor": "#506784",
            "showbackground": true,
            "ticks": "",
            "zerolinecolor": "#C8D4E3"
           }
          },
          "shapedefaults": {
           "line": {
            "color": "#f2f5fa"
           }
          },
          "sliderdefaults": {
           "bgcolor": "#C8D4E3",
           "bordercolor": "rgb(17,17,17)",
           "borderwidth": 1,
           "tickwidth": 0
          },
          "ternary": {
           "aaxis": {
            "gridcolor": "#506784",
            "linecolor": "#506784",
            "ticks": ""
           },
           "baxis": {
            "gridcolor": "#506784",
            "linecolor": "#506784",
            "ticks": ""
           },
           "bgcolor": "rgb(17,17,17)",
           "caxis": {
            "gridcolor": "#506784",
            "linecolor": "#506784",
            "ticks": ""
           }
          },
          "title": {
           "x": 0.05
          },
          "updatemenudefaults": {
           "bgcolor": "#506784",
           "borderwidth": 0
          },
          "xaxis": {
           "automargin": true,
           "gridcolor": "#283442",
           "linecolor": "#506784",
           "ticks": "",
           "title": {
            "standoff": 15
           },
           "zerolinecolor": "#283442",
           "zerolinewidth": 2
          },
          "yaxis": {
           "automargin": true,
           "gridcolor": "#283442",
           "linecolor": "#506784",
           "ticks": "",
           "title": {
            "standoff": 15
           },
           "zerolinecolor": "#283442",
           "zerolinewidth": 2
          }
         }
        },
        "xaxis": {
         "anchor": "y",
         "domain": [
          0.0,
          1.0
         ],
         "title": {
          "text": "serve_choke_pct"
         }
        },
        "yaxis": {
         "anchor": "x",
         "domain": [
          0.0,
          1.0
         ],
         "title": {
          "text": "receive_choke_pct"
         }
        }
       }
      },
      "text/html": "<div>                            <div id=\"b72a12c9-4b3b-4818-be3c-5d6a6ecfb446\" class=\"plotly-graph-div\" style=\"height:525px; width:100%;\"></div>            <script type=\"text/javascript\">                require([\"plotly\"], function(Plotly) {                    window.PLOTLYENV=window.PLOTLYENV || {};                                    if (document.getElementById(\"b72a12c9-4b3b-4818-be3c-5d6a6ecfb446\")) {                    Plotly.newPlot(                        \"b72a12c9-4b3b-4818-be3c-5d6a6ecfb446\",                        [{\"hovertemplate\": \"<b>%{hovertext}</b><br><br>serve_choke_pct=%{x}<br>receive_choke_pct=%{y}<extra></extra>\", \"hovertext\": [\"M Krueger\", \"N Jarry\", \"A Golubev\", \"D Brown\", \"F Ferreira Silva\", \"V Millot\", \"C O'Connell\", \"M Youzhny\", \"J Hernych\", \"T De Bakker\", \"D Young\", \"L Giustino\", \"A Nedovyesov\", \"X Malisse\", \"M Kecmanovic\", \"G Mager\", \"M Basic\", \"N Davydenko\", \"S Greul\", \"F Volandri\", \"A Balazs\", \"A Haider-Maurer\", \"J Hajek\", \"F Lopez\", \"G Jones\", \"V Estrella Burgos\", \"Z Zhang\", \"G Elias\", \"A Kudryavtsev\", \"L Saville\", \"H Dellien\", \"O Rochus\", \"G Rufin\", \"M Giron\", \"R Schuettler\", \"F Coria\", \"A Montanes\", \"F Dancevic\", \"B Fratangelo\", \"J Millman\", \"P Luczak\", \"E Schwank\", \"T Griekspoor\", \"J Duckworth\", \"T Smyczek\", \"A Falla\", \"F Bagnis\", \"D Munoz-De La Nava\", \"S Caruso\", \"T Kokkinakis\", \"J Souza\", \"M Safwat\", \"P Gojowczyk\", \"N Basilashvili\", \"L Vanni\", \"C Berlocq\", \"V Pospisil\", \"D Tursunov\", \"C Moutet\", \"M Crugnola\", \"D Gimeno-Traver\", \"C Ruud\", \"T Robredo\", \"J Smith\", \"J Londero\", \"D Shapovalov\", \"J Wang\", \"K De Schepper\", \"N Gombos\", \"T Gabashvili\", \"D Nalbandian\", \"Y Bhambri\", \"L Rosol\", \"R Molleker\", \"J Kovalik\", \"R Machado\", \"L Lacko\", \"D Evans\", \"M Vilella Martinez\", \"J Janowicz\", \"M Ilhan\", \"V Troicki\", \"M Przysiezny\", \"K King\", \"Y Hanfmann\", \"Y Sugita\", \"H Gaston\", \"J Kubler\", \"E Benchetrit\", \"F Verdasco\", \"I Kunitsyn\", \"H Zeballos\", \"R Bemelmans\", \"G Melzer\", \"M Llodra\", \"B Van De Zandschulp\", \"D Dzumhur\", \"M Klizan\", \"R Berankis\", \"H Moriya\", \"F Delbonis\", \"P Sousa\", \"G Zemlja\", \"T Sandgren\", \"K Majchrzak\", \"A Gonzalez\", \"O Jasika\", \"M Daniel\", \"A Weintraub\", \"C Garin\", \"M Torpegaard\", \"B Klahn\", \"J Wilfried Tsonga\", \"E Roger-Vasselin\", \"M Zverev\", \"M Ymer\", \"I Karlovic\", \"N Rubin\", \"R Olivo\", \"M Jaziri\", \"M Kukushkin\", \"M Russell\", \"D Kudla\", \"K Kravchuk\", \"G Simon\", \"A Martin\", \"K Beck\", \"R Safiullin\", \"J Vesely\", \"P Riba\", \"M Purcell\", \"P Kohlschreiber\", \"C Stebe\", \"F Mayer\", \"R Bautista Agut\", \"J Zopp\", \"D Lajovic\", \"R Harrison\", \"A Harris\", \"J Nieminen\", \"J Struff\", \"B Mott\", \"J Melzer\", \"Y Uchiyama\", \"F Cipolla\", \"R Sweeting\", \"E Ruusuvuori\", \"P Gunneswaran\", \"J Ward\", \"A Davidovich Fokina\", \"A Mannarino\", \"M Cecchinato\", \"S Nagal\", \"G Sakharov\", \"D Guez\", \"M McDonald\", \"N Kyrgios\", \"P Martinez\", \"Y Nishioka\", \"A Whittington\", \"E Donskoy\", \"J Thompson\", \"F Tiafoe\", \"P Starace\", \"I Dodig\", \"A Seppi\", \"I Andreev\", \"T Bellucci\", \"R Williams\", \"R Mello\", \"J Levine\", \"R Dutra Silva\", \"F Gil\", \"A De Minaur\", \"P Andujar\", \"A Tabilo\", \"P Carreno Busta\", \"I Cervantes\", \"B Mitchell\", \"S Groth\", \"A Vukic\", \"F Auger-Aliassime\", \"C Eubanks\", \"R Stepanek\", \"E Gerasimov\", \"P Polansky\", \"L Kubot\", \"B Tomic\", \"V Hanescu\", \"M Granollers\", \"P Lorenzi\", \"P Cuevas\", \"M Mmoh\", \"M Copil\", \"A Ramos-Vinolas\", \"T Monteiro\", \"G Andreozzi\", \"N Kicker\", \"R Haase\", \"M Bachinger\", \"D Koepfer\", \"B Becker\", \"P Herbert\", \"M Berrettini\", \"R Ram\", \"D Sela\", \"J Lennard Struff\", \"H Chung\", \"M Trungelliti\", \"S Darcis\", \"D Goffin\", \"A Muller\", \"T Kamke\", \"Q Halys\", \"K Anderson\", \"F Serra\", \"L Harris\", \"D Udomchoke\", \"S Kwon\", \"I Marchenko\", \"T Haas\", \"D Istomin\", \"T Daniel\", \"D Wu\", \"C Alcaraz\", \"S Bolelli\", \"F Krajinovic\", \"P Mathieu\", \"A Roddick\", \"S Travaglia\", \"K Coppejans\", \"A Dolgopolov\", \"A Murray\", \"C Ball\", \"D Medvedev\", \"D Galan\", \"A Kuznetsov\", \"L Sonego\", \"G Monfils\", \"K Khachanov\", \"L Tu\", \"R Albot\", \"U Humbert\", \"R Nadal\", \"A Pavlasek\", \"J Sock\", \"V Safranek\", \"D Novak\", \"S Giraldo\", \"G Soeda\", \"B Paire\", \"T Ito\", \"A Popyrin\", \"A Karatsev\", \"N Almagro\", \"L Mayer\", \"A Krajicek\", \"J Ignacio Chela\", \"B Baker\", \"J Benneteau\", \"S Wawrinka\", \"M Baghdatis\", \"M Marterer\", \"F Fognini\", \"J Donaldson\", \"A Zverev\", \"I Ivashka\", \"S Johnson\", \"J Martin Del Potro\", \"S Stakhovsky\", \"E Ymer\", \"T Fabbiano\", \"B Coric\", \"G Pella\", \"M Raonic\", \"J Chardy\", \"A Bedene\", \"N Mahut\", \"M Matosevic\", \"G Dimitrov\", \"S Robert\", \"L Djere\", \"A Bublik\", \"T Fritz\", \"M Polmans\", \"J Monaco\", \"I Sijsling\", \"M Fish\", \"H Laaksonen\", \"G Garcia-Lopez\", \"E Escobedo\", \"S Devvarman\", \"C Norrie\", \"J Munar\", \"G Muller\", \"J Isner\", \"M Cilic\", \"L Hewitt\", \"Z Li\", \"K Nishikori\", \"J Tipsarevic\", \"R Soderling\", \"D Brands\", \"D Schwartzman\", \"S Tsitsipas\", \"M Fucsovics\", \"T Paul\", \"T Berdych\", \"Y Lu\", \"E Gulbis\", \"R Opelka\", \"M Cressy\", \"D Ferrer\", \"R Carballes Baena\", \"J Sinner\", \"S Querrey\", \"G Barrere\", \"K Edmund\", \"M Ebden\", \"D Thiem\", \"P Petzschner\", \"B Kavcic\", \"A Bolt\", \"A Rublev\", \"T Machac\", \"R Federer\", \"H Hurkacz\", \"N Djokovic\", \"I Ljubicic\", \"J Sousa\", \"L Pouille\", \"R Gasquet\"], \"legendgroup\": \"\", \"marker\": {\"color\": \"#636efa\", \"symbol\": \"circle\"}, \"mode\": \"markers\", \"name\": \"\", \"orientation\": \"v\", \"selected\": {\"marker\": {\"color\": \"red\"}}, \"selectedpoints\": [327], \"showlegend\": false, \"type\": \"scatter\", \"unselected\": {\"marker\": {\"color\": \"blue\"}}, \"x\": [-0.0833671742808799, -0.0146680885097307, -0.0854387541179993, -0.0293337854478611, -0.037447199265381, -0.0602930402930402, -0.0098915187376725, -0.007154772208671, -0.0479025452565673, -0.0438819253875249, -0.0506349730124684, -0.039110275689223, -0.0306831324120356, -0.0828415300546448, -0.0339640614851699, -0.011764284618139, -0.0329658792650918, -0.0400636231722291, -0.0813560401082286, -0.0322898550724637, -0.0227777777777777, 0.0056483328583642, -0.0563822992700729, -0.014510004987084, -0.0220873340569423, -0.0177450980392157, -0.0431639705323916, -0.0158419958419958, -0.0474654172244533, -0.0426043133476617, -0.0364461080491614, -0.0103245313444869, -0.0450698974836906, -0.005806099406933, -0.0302843315184513, -0.0188732923336932, -0.0018181818181818, -0.0230846346635819, -0.0496451914098973, -0.0026176080122714, -0.026315331010453, -0.0054928368057124, 0.0061919377941477, -0.0376518883415435, -0.0312293144208037, -0.0096897768409476, -0.0221739130434782, -0.0227247367169085, -0.0324999999999999, -0.0059960552268245, -0.0511358139056148, -0.0326701843528109, -0.0409073658789028, -0.0148234725619884, -0.0118599062837918, -0.0222719225775994, 0.0091636804675009, -0.0132459016393442, 0.0048447204968944, -0.0142236354001059, -0.0042685494859407, -0.0150592566280234, -0.0471062271062271, -0.0009523809523809, -0.0043797934349115, 0.0092954357470486, 0.0276957782790847, -0.0369756533392896, -0.0321319093793288, -0.0367800955698844, -0.0391077316797087, 0.0224159201377536, -0.0236240968249264, 0.0068210758510051, 0.026021268793546, -0.0074119906123319, -0.0022743055555555, -0.0146346448645887, 0.0204010175071076, -0.0211679162114305, -0.0176887519260401, -0.0211278749475736, -0.0271770334928229, -0.0453623188405797, -0.0224120064320171, 0.0175754372054094, -0.0896761877828053, -0.0334704392629464, 0.0139333876936587, -0.0306587172170131, 0.0286082893132873, 0.0594898470311716, 0.0014572750018955, -0.0508823529411764, 0.0044846847143727, -0.0003359683794465, -0.001767243516636, -0.0128820843405855, -0.0130098158332266, -0.029691629955947, -0.0432773538024669, 0.018059163059163, -0.0389207650273224, -0.01609464736963, -0.0026804123711341, -0.0110118130457113, -0.0121066956995101, -0.0360377358490565, 0.0345965475712565, -0.0003144792507275, 0.0203439153439153, 0.0475087719298246, 0.002374241436381, -0.0144064364293142, -0.0328813559322034, -0.0358885657431501, 0.0413105470725048, 0.0037604974160207, -0.031427211046304, -0.0504873862598161, -0.0364124520560163, -0.0346705415525625, -0.0131425305966951, 0.0433663366336634, 0.0032903594405942, 0.0166789280084077, -0.0094548138774649, -0.0309187109187108, 0.0483455520644895, 0.0230920245398772, -0.0030950495971685, 0.0097872096292089, -0.0327194314523477, -0.0108648339060709, -0.0111679550174505, 0.0086697247706422, 0.0098607992815447, 0.0120304695304695, 0.0020394389960982, -0.0232812997769989, 0.0224038341618115, 0.0260784313725489, 0.0192739859767462, 0.0041511238641798, -0.0135410334346505, -0.0066666666666666, -0.0314590720764435, 0.0123383084577113, -0.0222883295194507, -0.0377631578947368, 0.0205458368421331, 0.0344802687659829, -0.0323931623931623, 0.014621578099839, 0.0036582694414019, 0.0317510944340212, 0.0514492007149711, -0.0077930867778583, -0.0206432325358711, 0.0092146877512731, -0.0268746334210848, -0.0282750880781907, 0.0274889478337754, 0.042688773215089, -0.0052373408437481, 0.0117063463885315, 0.0270850503276362, 0.0137978380592108, 0.0524559510967278, 0.0107125307125306, -0.0110291130670276, 0.009059829059829, 0.0091256195312978, 0.0059109311740891, -0.0073202066750453, 0.0415191630191096, 0.0152757100184912, -0.0195083579154374, -0.0005132777176335, 0.0645237162579758, 0.0230899015796872, 0.0478673844141469, 0.0021290650406503, -0.0173836011536877, -0.03366930171278, 0.0038787282564951, -0.007258575027453, -0.0040993289824876, 0.0143821249430004, 0.0532147867564533, 0.0146242774566474, 0.0518530347966843, 0.0053347926860675, 0.0500578990901571, 0.0074624918460534, 0.0672950935304573, 0.0194144144144144, -0.0154248594279327, 0.0363021850083496, 0.0001113861386138, 0.0187692307692307, 0.0607586953752069, 0.0301368678864716, 0.0680517435868304, 0.0337849814848539, -0.0022547193322603, -0.0309890109890109, 0.0314733577046638, 0.0273970944309927, 0.0392532039449396, 0.0356509964024414, 0.0113432323994375, -0.0166713501940318, 0.0132600732600732, 0.0170917439819458, 0.041930226636109, 0.0461077698803231, 0.0278590420254771, 0.0214642504384284, 0.0445878173832397, 0.0342315991368976, 0.0141133520857023, 0.0111629811629811, -0.0201238039652641, 0.0086896551724138, 0.0451751392908046, 0.0267409948542023, 0.0181433823529411, 0.0190510731910339, 0.0275187969924811, 0.0325482747704969, 0.022993735575338, 0.0133528117209627, 0.0443840104849279, 0.0601956411930663, 0.0313198022925649, 0.0381936311863319, 0.0584313725490195, 0.0049110601344777, 0.0084457918527319, 0.0814579759862779, 0.0129018075232047, 0.0560481527604816, -0.013135460251046, 0.0282809748864795, 0.0109489227789881, 0.0375524401813007, 0.0227480916030533, 0.0361450107681262, 0.0233756805807622, -0.0367799284376853, 0.0180479735318445, 0.0255549037384672, 0.033169014084507, 0.0119176134910975, 0.0730439608722798, 0.0582407407407407, -0.0082817643186306, 0.0191248391248391, 0.0125689935064934, 0.0205010007426894, -0.009978448275862, 0.0568110666181288, 0.0044516361021215, 0.0239068100358422, 0.017743158317375, -0.012860057119543, 0.0523491849287607, 0.0493044069332728, 0.0272265155418168, 0.0095899675919402, 0.0422377622377622, 0.0458329762641571, 0.0334874608150469, 0.0447324295070538, 0.0086579772404047, 0.0390421139554088, 0.0302566295979469, -0.0078039331153435, -0.0039925556693371, -0.0032088612905932, 0.0389547890106453, 0.020625, 0.0439757062917973, -0.0009932622182357, -0.0098144986912484, 0.0363128003494975, 0.0298316498316498, 0.0239894780211073, 0.0445455891790491, 0.0124722481585226, -0.0150280112044818, 0.0232263404764093, -0.0077761413843888, 0.0102447552447552, 0.0682373721001753, 0.0159775198083656, 0.0111147186147185, 0.0332708168568523, 0.0391224111185344, 0.0204568141027217, 0.0709263477600607, 0.0773615756224451, 0.0503189631399945, 0.0920195103648813, 0.0422981884092415, 0.0252416889198498, 0.0363163655099035, 0.0346063835631489, 0.0433325641402169, 0.1099845301212057, 0.0791086315249454, 0.0415117422412727, 0.0834527590497947, 0.038560794044665, 0.0491785204044079, 0.0250582819081202, 0.0523958776935524, 0.0563874423448891, 0.0190310029752998, 0.0270930232558139, 0.0585984603022369, 0.0522992700729926, 0.0542805170097544, 0.0421005834954153, 0.042743518000373, 0.0947411616161616, 0.0663478191081803, 0.0747993447993448, 0.0395611285266457, 0.0912670408981555, 0.1321819254017396], \"xaxis\": \"x\", \"y\": [-0.0613472873812101, -0.1197382340973823, -0.0488542086186064, -0.0953211009174312, -0.0772861782749909, -0.0459761583445793, -0.0927267714364488, -0.0949398237696109, -0.0533218507789869, -0.0551255383968904, -0.0456777493606138, -0.0541528115075658, -0.0622160343427311, -0.0088310150932228, -0.0571311475409836, -0.0764918414918414, -0.0543913742551782, -0.0468797868797868, -0.004988344988345, -0.0540507741665503, -0.0627027027027027, -0.0885153695225638, -0.0264542099966454, -0.06641702798581, -0.058192004074357, -0.0623907156673113, -0.0363122802763971, -0.0612195121951219, -0.0284523809523809, -0.0331346678798908, -0.0386460734593514, -0.0640453451354919, -0.0287869822485207, -0.0657630184778395, -0.0386743344993182, -0.0495690267582287, -0.0665393964546155, -0.0439160839160839, -0.0167551540098371, -0.0602436323366555, -0.036139546727782, -0.0559498553519768, -0.0647317130444992, -0.020552063333421, -0.026703216374269, -0.0482303275920297, -0.0349525616698292, -0.0332888559426735, -0.0225970798384591, -0.0487369873322463, -0.003307569623359, -0.0217047426257952, -0.0127555188500256, -0.038640657588026, -0.0413186813186813, -0.029776628600158, -0.061183412767889, -0.0383329329810232, -0.0561021505376344, -0.0366723013764791, -0.0465652453396186, -0.0354269166467638, -0.0032861205598616, -0.0486659872338143, -0.0448484848484848, -0.0583772819472616, -0.0764697114872778, -0.0112006668590298, -0.0150141852719872, -0.0100060625656778, -0.0071786943995502, -0.0672953645109842, -0.020320272572402, -0.0503659447348767, -0.0692595276046949, -0.034577861163227, -0.0396478296478296, -0.0269535522032383, -0.0618725460585925, -0.0195754499307799, -0.0226114081996435, -0.0191589322972875, -0.0111772106398274, 0.0071139173901605, -0.0151820728291316, -0.0546873270614277, 0.0536530136530136, -0.0019422206752523, -0.0492911377027273, -0.0045641879755723, -0.0634333134457883, -0.09364129435558, -0.0355940149914624, 0.016929068914956, -0.0376354862657758, -0.0323270440251572, -0.0307668399976092, -0.0194415594189809, -0.0189125113451964, -0.002217104997374, 0.0114789669861554, -0.0494645024271844, 0.0077623261694058, -0.0149032766923119, -0.0278832116788321, -0.0188813710111675, -0.0175917546505781, 0.0065296535525542, -0.0618630280766202, -0.0268147641831852, -0.0473015873015873, -0.0738949406923263, -0.0287225723258667, -0.0114359990096558, 0.0074463937621832, 0.0114170081448879, -0.0649467395296886, -0.0267900255529121, 0.0084210526315789, 0.0275156054931335, 0.0136195772514984, 0.0119024933059776, -0.0087081005586592, -0.0650755230321793, -0.0249100170899973, -0.0378825995807128, -0.0109262016796712, 0.0110884353741496, -0.0676945929887106, -0.0420364979847738, -0.015685874553799, -0.0277789471511999, 0.0150841750841751, -0.0064510873415031, -0.0060331942996176, -0.0245010395010394, -0.0256116450094366, -0.0275257731958763, -0.0169295900178253, 0.0084754861476087, -0.0363117096587406, -0.0399737432306766, -0.0328356150891362, -0.0173563218390804, 0.000375739080679, -0.006055796055796, 0.0190163086800094, -0.0247463089013843, 0.0099905684643744, 0.0263794741843522, -0.0317578415585424, -0.0455983772819473, 0.0219746376811593, -0.0248179271708683, -0.0135545521369316, -0.0414021535580524, -0.0610399809752504, -0.0013752913752913, 0.0123101950400637, -0.0161403508771929, 0.0207281657057441, 0.0222627597194071, -0.0332996201214643, -0.0484940604566772, -0.0004057480980558, -0.0173033023867481, -0.0320688673875924, -0.0186044138282944, -0.0567964650648991, -0.0139804257895268, 0.0078353037097431, -0.0122054123162156, -0.0122157800155969, -0.0089905052930263, 0.004245073965383, -0.0441932841932842, -0.0177973783672613, 0.0170658263305322, -0.0019285368962334, -0.0661435719040563, -0.0245257210823669, -0.0492872313312377, -0.003531366034786, 0.016107838212236, 0.0324436090225563, -0.005045045045045, 0.0061571146409069, 0.0030121592509735, -0.0151965803469357, -0.0533218431983887, -0.01431538517993, -0.0514751271148642, -0.0047368421052631, -0.049434565156988, -0.0065373271387325, -0.0661972098320205, -0.0182210242587601, 0.0175846376242571, -0.0338493688592277, 0.0024610591900311, -0.0161910928843801, -0.0578942652329749, -0.0271046264629415, -0.0642901538694762, -0.0299921015857585, 0.0065193120297251, 0.0365601965601965, -0.0252827257386227, -0.0202459016393442, -0.0315440478328928, -0.0275800076501338, -0.0031225121627598, 0.0250565148047985, -0.0043819477966433, -0.008163594470046, -0.0324485910129474, -0.035998480573041, -0.0171911196911197, -0.010158147127844, -0.0332533249113941, -0.0217780097425191, -0.0014539365600909, 0.0016977225672878, 0.0332926829268292, 0.0047156496471565, -0.0315581938976377, -0.0130877268596164, -0.0039289539089494, -0.0038839550029603, -0.0122372559492018, -0.0169581280788177, -0.0066707516339869, 0.0029896526237989, -0.0278821762349799, -0.0436298932384341, -0.0144144411841177, -0.0200955667307536, -0.0398859271330462, 0.0142237338466718, 0.0107312289683932, -0.062097672894133, 0.0067695782670341, -0.0354812563323201, 0.0350098978106507, -0.0061819010713471, 0.0114269930516339, -0.0149855301236516, 0.0002325778796367, -0.0128598245412404, 0.0010169491525423, 0.0612128413411683, 0.0066733231267611, -0.0008197590263195, -0.0078882747563393, 0.0133815152528031, -0.0464205073065832, -0.0300753785604696, 0.0365288878739438, 0.0094055944055944, 0.0161752286417578, 0.0090345282603914, 0.0410537407797681, -0.025506719470233, 0.0277179946675991, 0.0082775996335318, 0.0145900305556057, 0.0452682479894125, -0.0195035476669392, -0.0150724637681159, 0.0081087349634405, 0.025978936683162, -0.0062365591397849, -0.0095352767215885, 0.0030013255649064, -0.0078510607061586, 0.0290276077791377, -0.0012774483524219, 0.0077324973876698, 0.0458081991977913, 0.0421373639384451, 0.0416991317355533, 0.0002601156069364, 0.0187955809950766, -0.0034272094775766, 0.0418270203256011, 0.0520575907373644, 0.0060781743890216, 0.0129851837087236, 0.0189905943293348, 0.0002627257799671, 0.0326686217008797, 0.062375561063844, 0.0241892801076474, 0.0565897604921995, 0.0396167707636861, -0.0170859683459097, 0.035217744341918, 0.0405631118426752, 0.0208080808080807, 0.0154190731088885, 0.0342245576256904, -0.0149464353006621, -0.0206900472586433, 0.0082241355922522, -0.0333572248112526, 0.0179481432428301, 0.0362395034684191, 0.0259182126153959, 0.0285243171219187, 0.0204284323271665, -0.0434606343426733, -0.01060706401766, 0.0271307747396105, -0.0139227098125945, 0.0313357775318207, 0.0227843448420852, 0.0470224719101123, 0.0213780183180683, 0.0181158758492811, 0.0558560195033342, 0.0478811369509044, 0.0185763303119549, 0.027521409346709, 0.0262030633280096, 0.0417000607164541, 0.0458782260393052, -0.0028529108312136, 0.026735556493052, 0.0202197802197802, 0.0619977173532768, 0.0221551132463967, 0.0340339433123592], \"yaxis\": \"y\"}],                        {\"legend\": {\"tracegroupgap\": 0}, \"margin\": {\"t\": 60}, \"template\": {\"data\": {\"bar\": [{\"error_x\": {\"color\": \"#f2f5fa\"}, \"error_y\": {\"color\": \"#f2f5fa\"}, \"marker\": {\"line\": {\"color\": \"rgb(17,17,17)\", \"width\": 0.5}}, \"type\": \"bar\"}], \"barpolar\": [{\"marker\": {\"line\": {\"color\": \"rgb(17,17,17)\", \"width\": 0.5}}, \"type\": \"barpolar\"}], \"carpet\": [{\"aaxis\": {\"endlinecolor\": \"#A2B1C6\", \"gridcolor\": \"#506784\", \"linecolor\": \"#506784\", \"minorgridcolor\": \"#506784\", \"startlinecolor\": \"#A2B1C6\"}, \"baxis\": {\"endlinecolor\": \"#A2B1C6\", \"gridcolor\": \"#506784\", \"linecolor\": \"#506784\", \"minorgridcolor\": \"#506784\", \"startlinecolor\": \"#A2B1C6\"}, \"type\": \"carpet\"}], \"choropleth\": [{\"colorbar\": {\"outlinewidth\": 0, \"ticks\": \"\"}, \"type\": \"choropleth\"}], \"contour\": [{\"colorbar\": {\"outlinewidth\": 0, \"ticks\": \"\"}, \"colorscale\": [[0.0, \"#0d0887\"], [0.1111111111111111, \"#46039f\"], [0.2222222222222222, \"#7201a8\"], [0.3333333333333333, \"#9c179e\"], [0.4444444444444444, \"#bd3786\"], [0.5555555555555556, \"#d8576b\"], [0.6666666666666666, \"#ed7953\"], [0.7777777777777778, \"#fb9f3a\"], [0.8888888888888888, \"#fdca26\"], [1.0, \"#f0f921\"]], \"type\": \"contour\"}], \"contourcarpet\": [{\"colorbar\": {\"outlinewidth\": 0, \"ticks\": \"\"}, \"type\": \"contourcarpet\"}], \"heatmap\": [{\"colorbar\": {\"outlinewidth\": 0, \"ticks\": \"\"}, \"colorscale\": [[0.0, \"#0d0887\"], [0.1111111111111111, \"#46039f\"], [0.2222222222222222, \"#7201a8\"], [0.3333333333333333, \"#9c179e\"], [0.4444444444444444, \"#bd3786\"], [0.5555555555555556, \"#d8576b\"], [0.6666666666666666, \"#ed7953\"], [0.7777777777777778, \"#fb9f3a\"], [0.8888888888888888, \"#fdca26\"], [1.0, \"#f0f921\"]], \"type\": \"heatmap\"}], \"heatmapgl\": [{\"colorbar\": {\"outlinewidth\": 0, \"ticks\": \"\"}, \"colorscale\": [[0.0, \"#0d0887\"], [0.1111111111111111, \"#46039f\"], [0.2222222222222222, \"#7201a8\"], [0.3333333333333333, \"#9c179e\"], [0.4444444444444444, \"#bd3786\"], [0.5555555555555556, \"#d8576b\"], [0.6666666666666666, \"#ed7953\"], [0.7777777777777778, \"#fb9f3a\"], [0.8888888888888888, \"#fdca26\"], [1.0, \"#f0f921\"]], \"type\": \"heatmapgl\"}], \"histogram\": [{\"marker\": {\"colorbar\": {\"outlinewidth\": 0, \"ticks\": \"\"}}, \"type\": \"histogram\"}], \"histogram2d\": [{\"colorbar\": {\"outlinewidth\": 0, \"ticks\": \"\"}, \"colorscale\": [[0.0, \"#0d0887\"], [0.1111111111111111, \"#46039f\"], [0.2222222222222222, \"#7201a8\"], [0.3333333333333333, \"#9c179e\"], [0.4444444444444444, \"#bd3786\"], [0.5555555555555556, \"#d8576b\"], [0.6666666666666666, \"#ed7953\"], [0.7777777777777778, \"#fb9f3a\"], [0.8888888888888888, \"#fdca26\"], [1.0, \"#f0f921\"]], \"type\": \"histogram2d\"}], \"histogram2dcontour\": [{\"colorbar\": {\"outlinewidth\": 0, \"ticks\": \"\"}, \"colorscale\": [[0.0, \"#0d0887\"], [0.1111111111111111, \"#46039f\"], [0.2222222222222222, \"#7201a8\"], [0.3333333333333333, \"#9c179e\"], [0.4444444444444444, \"#bd3786\"], [0.5555555555555556, \"#d8576b\"], [0.6666666666666666, \"#ed7953\"], [0.7777777777777778, \"#fb9f3a\"], [0.8888888888888888, \"#fdca26\"], [1.0, \"#f0f921\"]], \"type\": \"histogram2dcontour\"}], \"mesh3d\": [{\"colorbar\": {\"outlinewidth\": 0, \"ticks\": \"\"}, \"type\": \"mesh3d\"}], \"parcoords\": [{\"line\": {\"colorbar\": {\"outlinewidth\": 0, \"ticks\": \"\"}}, \"type\": \"parcoords\"}], \"pie\": [{\"automargin\": true, \"type\": \"pie\"}], \"scatter\": [{\"marker\": {\"line\": {\"color\": \"#283442\"}}, \"type\": \"scatter\"}], \"scatter3d\": [{\"line\": {\"colorbar\": {\"outlinewidth\": 0, \"ticks\": \"\"}}, \"marker\": {\"colorbar\": {\"outlinewidth\": 0, \"ticks\": \"\"}}, \"type\": \"scatter3d\"}], \"scattercarpet\": [{\"marker\": {\"colorbar\": {\"outlinewidth\": 0, \"ticks\": \"\"}}, \"type\": \"scattercarpet\"}], \"scattergeo\": [{\"marker\": {\"colorbar\": {\"outlinewidth\": 0, \"ticks\": \"\"}}, \"type\": \"scattergeo\"}], \"scattergl\": [{\"marker\": {\"line\": {\"color\": \"#283442\"}}, \"type\": \"scattergl\"}], \"scattermapbox\": [{\"marker\": {\"colorbar\": {\"outlinewidth\": 0, \"ticks\": \"\"}}, \"type\": \"scattermapbox\"}], \"scatterpolar\": [{\"marker\": {\"colorbar\": {\"outlinewidth\": 0, \"ticks\": \"\"}}, \"type\": \"scatterpolar\"}], \"scatterpolargl\": [{\"marker\": {\"colorbar\": {\"outlinewidth\": 0, \"ticks\": \"\"}}, \"type\": \"scatterpolargl\"}], \"scatterternary\": [{\"marker\": {\"colorbar\": {\"outlinewidth\": 0, \"ticks\": \"\"}}, \"type\": \"scatterternary\"}], \"surface\": [{\"colorbar\": {\"outlinewidth\": 0, \"ticks\": \"\"}, \"colorscale\": [[0.0, \"#0d0887\"], [0.1111111111111111, \"#46039f\"], [0.2222222222222222, \"#7201a8\"], [0.3333333333333333, \"#9c179e\"], [0.4444444444444444, \"#bd3786\"], [0.5555555555555556, \"#d8576b\"], [0.6666666666666666, \"#ed7953\"], [0.7777777777777778, \"#fb9f3a\"], [0.8888888888888888, \"#fdca26\"], [1.0, \"#f0f921\"]], \"type\": \"surface\"}], \"table\": [{\"cells\": {\"fill\": {\"color\": \"#506784\"}, \"line\": {\"color\": \"rgb(17,17,17)\"}}, \"header\": {\"fill\": {\"color\": \"#2a3f5f\"}, \"line\": {\"color\": \"rgb(17,17,17)\"}}, \"type\": \"table\"}]}, \"layout\": {\"annotationdefaults\": {\"arrowcolor\": \"#f2f5fa\", \"arrowhead\": 0, \"arrowwidth\": 1}, \"autotypenumbers\": \"strict\", \"coloraxis\": {\"colorbar\": {\"outlinewidth\": 0, \"ticks\": \"\"}}, \"colorscale\": {\"diverging\": [[0, \"#8e0152\"], [0.1, \"#c51b7d\"], [0.2, \"#de77ae\"], [0.3, \"#f1b6da\"], [0.4, \"#fde0ef\"], [0.5, \"#f7f7f7\"], [0.6, \"#e6f5d0\"], [0.7, \"#b8e186\"], [0.8, \"#7fbc41\"], [0.9, \"#4d9221\"], [1, \"#276419\"]], \"sequential\": [[0.0, \"#0d0887\"], [0.1111111111111111, \"#46039f\"], [0.2222222222222222, \"#7201a8\"], [0.3333333333333333, \"#9c179e\"], [0.4444444444444444, \"#bd3786\"], [0.5555555555555556, \"#d8576b\"], [0.6666666666666666, \"#ed7953\"], [0.7777777777777778, \"#fb9f3a\"], [0.8888888888888888, \"#fdca26\"], [1.0, \"#f0f921\"]], \"sequentialminus\": [[0.0, \"#0d0887\"], [0.1111111111111111, \"#46039f\"], [0.2222222222222222, \"#7201a8\"], [0.3333333333333333, \"#9c179e\"], [0.4444444444444444, \"#bd3786\"], [0.5555555555555556, \"#d8576b\"], [0.6666666666666666, \"#ed7953\"], [0.7777777777777778, \"#fb9f3a\"], [0.8888888888888888, \"#fdca26\"], [1.0, \"#f0f921\"]]}, \"colorway\": [\"#636efa\", \"#EF553B\", \"#00cc96\", \"#ab63fa\", \"#FFA15A\", \"#19d3f3\", \"#FF6692\", \"#B6E880\", \"#FF97FF\", \"#FECB52\"], \"font\": {\"color\": \"#f2f5fa\"}, \"geo\": {\"bgcolor\": \"rgb(17,17,17)\", \"lakecolor\": \"rgb(17,17,17)\", \"landcolor\": \"rgb(17,17,17)\", \"showlakes\": true, \"showland\": true, \"subunitcolor\": \"#506784\"}, \"hoverlabel\": {\"align\": \"left\"}, \"hovermode\": \"closest\", \"mapbox\": {\"style\": \"dark\"}, \"paper_bgcolor\": \"rgb(17,17,17)\", \"plot_bgcolor\": \"rgb(17,17,17)\", \"polar\": {\"angularaxis\": {\"gridcolor\": \"#506784\", \"linecolor\": \"#506784\", \"ticks\": \"\"}, \"bgcolor\": \"rgb(17,17,17)\", \"radialaxis\": {\"gridcolor\": \"#506784\", \"linecolor\": \"#506784\", \"ticks\": \"\"}}, \"scene\": {\"xaxis\": {\"backgroundcolor\": \"rgb(17,17,17)\", \"gridcolor\": \"#506784\", \"gridwidth\": 2, \"linecolor\": \"#506784\", \"showbackground\": true, \"ticks\": \"\", \"zerolinecolor\": \"#C8D4E3\"}, \"yaxis\": {\"backgroundcolor\": \"rgb(17,17,17)\", \"gridcolor\": \"#506784\", \"gridwidth\": 2, \"linecolor\": \"#506784\", \"showbackground\": true, \"ticks\": \"\", \"zerolinecolor\": \"#C8D4E3\"}, \"zaxis\": {\"backgroundcolor\": \"rgb(17,17,17)\", \"gridcolor\": \"#506784\", \"gridwidth\": 2, \"linecolor\": \"#506784\", \"showbackground\": true, \"ticks\": \"\", \"zerolinecolor\": \"#C8D4E3\"}}, \"shapedefaults\": {\"line\": {\"color\": \"#f2f5fa\"}}, \"sliderdefaults\": {\"bgcolor\": \"#C8D4E3\", \"bordercolor\": \"rgb(17,17,17)\", \"borderwidth\": 1, \"tickwidth\": 0}, \"ternary\": {\"aaxis\": {\"gridcolor\": \"#506784\", \"linecolor\": \"#506784\", \"ticks\": \"\"}, \"baxis\": {\"gridcolor\": \"#506784\", \"linecolor\": \"#506784\", \"ticks\": \"\"}, \"bgcolor\": \"rgb(17,17,17)\", \"caxis\": {\"gridcolor\": \"#506784\", \"linecolor\": \"#506784\", \"ticks\": \"\"}}, \"title\": {\"x\": 0.05}, \"updatemenudefaults\": {\"bgcolor\": \"#506784\", \"borderwidth\": 0}, \"xaxis\": {\"automargin\": true, \"gridcolor\": \"#283442\", \"linecolor\": \"#506784\", \"ticks\": \"\", \"title\": {\"standoff\": 15}, \"zerolinecolor\": \"#283442\", \"zerolinewidth\": 2}, \"yaxis\": {\"automargin\": true, \"gridcolor\": \"#283442\", \"linecolor\": \"#506784\", \"ticks\": \"\", \"title\": {\"standoff\": 15}, \"zerolinecolor\": \"#283442\", \"zerolinewidth\": 2}}}, \"xaxis\": {\"anchor\": \"y\", \"domain\": [0.0, 1.0], \"title\": {\"text\": \"serve_choke_pct\"}}, \"yaxis\": {\"anchor\": \"x\", \"domain\": [0.0, 1.0], \"title\": {\"text\": \"receive_choke_pct\"}}},                        {\"responsive\": true}                    ).then(function(){\n                            \nvar gd = document.getElementById('b72a12c9-4b3b-4818-be3c-5d6a6ecfb446');\nvar x = new MutationObserver(function (mutations, observer) {{\n        var display = window.getComputedStyle(gd).display;\n        if (!display || display === 'none') {{\n            console.log([gd, 'removed!']);\n            Plotly.purge(gd);\n            observer.disconnect();\n        }}\n}});\n\n// Listen for the removal of the full notebook cells\nvar notebookContainer = gd.closest('#notebook-container');\nif (notebookContainer) {{\n    x.observe(notebookContainer, {childList: true});\n}}\n\n// Listen for the clearing of the current output cell\nvar outputEl = gd.closest('.output');\nif (outputEl) {{\n    x.observe(outputEl, {childList: true});\n}}\n\n                        })                };                });            </script>        </div>"
     },
     "metadata": {},
     "output_type": "display_data"
    }
   ],
   "source": [
    "fig = px.scatter(data_frame=df, x=\"serve_choke_pct\", y=\"receive_choke_pct\", hover_name='name')\n",
    "inds = [327]\n",
    "fig.data[0].update(selectedpoints=inds,\n",
    "                   selected=dict(marker=dict(color='red')),\n",
    "                   unselected=dict(marker=dict(color='blue')))\n",
    "fig.show()"
   ]
  },
  {
   "cell_type": "code",
   "execution_count": 73,
   "metadata": {
    "collapsed": false,
    "pycharm": {
     "name": "#%%\n"
    }
   },
   "outputs": [
    {
     "data": {
      "application/vnd.plotly.v1+json": {
       "config": {
        "plotlyServerURL": "https://plot.ly"
       },
       "data": [
        {
         "hovertemplate": "<b>%{hovertext}</b><br><br>serve_choke_pct=%{x}<br>receive_choke_pct=%{y}<extra></extra>",
         "hovertext": [
          "F Lopez",
          "J Millman",
          "N Basilashvili",
          "V Troicki",
          "F Verdasco",
          "R Berankis",
          "T Sandgren",
          "J Wilfried Tsonga",
          "G Simon",
          "P Kohlschreiber",
          "R Bautista Agut",
          "D Lajovic",
          "A Mannarino",
          "N Kyrgios",
          "Y Nishioka",
          "A Seppi",
          "P Carreno Busta",
          "B Tomic",
          "A Ramos-Vinolas",
          "D Sela",
          "D Goffin",
          "K Anderson",
          "D Istomin",
          "A Dolgopolov",
          "A Murray",
          "D Medvedev",
          "G Monfils",
          "K Khachanov",
          "R Nadal",
          "B Paire",
          "N Almagro",
          "J Benneteau",
          "S Wawrinka",
          "M Baghdatis",
          "F Fognini",
          "A Zverev",
          "J Martin Del Potro",
          "M Raonic",
          "J Chardy",
          "G Dimitrov",
          "T Fritz",
          "G Garcia-Lopez",
          "J Isner",
          "M Cilic",
          "L Hewitt",
          "K Nishikori",
          "D Schwartzman",
          "S Tsitsipas",
          "M Fucsovics",
          "T Berdych",
          "D Ferrer",
          "S Querrey",
          "K Edmund",
          "M Ebden",
          "D Thiem",
          "A Bolt",
          "A Rublev",
          "R Federer",
          "N Djokovic",
          "J Sousa",
          "R Gasquet"
         ],
         "legendgroup": "",
         "marker": {
          "color": "#636efa",
          "symbol": "circle"
         },
         "mode": "markers",
         "name": "",
         "orientation": "v",
         "showlegend": false,
         "type": "scatter",
         "x": [
          -0.014510004987084,
          -0.0026176080122714,
          -0.0148234725619884,
          -0.0211278749475736,
          -0.0306587172170131,
          -0.0130098158332266,
          -0.01609464736963,
          0.002374241436381,
          0.0032903594405942,
          0.0097872096292089,
          -0.0111679550174505,
          0.0098607992815447,
          0.0205458368421331,
          0.0514492007149711,
          -0.0206432325358711,
          0.0117063463885315,
          0.0152757100184912,
          -0.0040993289824876,
          0.0074624918460534,
          -0.0022547193322603,
          0.0356509964024414,
          0.0170917439819458,
          0.0141133520857023,
          0.022993735575338,
          0.0133528117209627,
          0.0601956411930663,
          0.0049110601344777,
          0.0084457918527319,
          -0.013135460251046,
          -0.0367799284376853,
          0.0119176134910975,
          0.0125689935064934,
          0.0205010007426894,
          -0.009978448275862,
          0.0044516361021215,
          0.017743158317375,
          0.0493044069332728,
          0.0447324295070538,
          0.0086579772404047,
          -0.0039925556693371,
          0.0439757062917973,
          0.0445455891790491,
          0.0682373721001753,
          0.0159775198083656,
          0.0111147186147185,
          0.0391224111185344,
          0.0503189631399945,
          0.0920195103648813,
          0.0422981884092415,
          0.0363163655099035,
          0.0415117422412727,
          0.0491785204044079,
          0.0523958776935524,
          0.0563874423448891,
          0.0190310029752998,
          0.0522992700729926,
          0.0542805170097544,
          0.042743518000373,
          0.0663478191081803,
          0.0395611285266457,
          0.1321819254017396
         ],
         "xaxis": "x",
         "y": [
          -0.06641702798581,
          -0.0602436323366555,
          -0.038640657588026,
          -0.0191589322972875,
          -0.0045641879755723,
          -0.0189125113451964,
          -0.0149032766923119,
          -0.0287225723258667,
          -0.0249100170899973,
          -0.0277789471511999,
          -0.0060331942996176,
          -0.0256116450094366,
          -0.0317578415585424,
          -0.0610399809752504,
          0.0123101950400637,
          -0.0173033023867481,
          -0.0177973783672613,
          0.0030121592509735,
          -0.0065373271387325,
          0.0065193120297251,
          -0.0275800076501338,
          -0.008163594470046,
          -0.0014539365600909,
          -0.0066707516339869,
          0.0029896526237989,
          -0.0436298932384341,
          0.0142237338466718,
          0.0107312289683932,
          0.0350098978106507,
          0.0612128413411683,
          0.0133815152528031,
          0.0161752286417578,
          0.0090345282603914,
          0.0410537407797681,
          0.0277179946675991,
          0.0145900305556057,
          -0.0150724637681159,
          -0.0078510607061586,
          0.0290276077791377,
          0.0421373639384451,
          -0.0034272094775766,
          2.627257799671E-4,
          -0.0170859683459097,
          0.035217744341918,
          0.0405631118426752,
          0.0154190731088885,
          0.0082241355922522,
          -0.0333572248112526,
          0.0179481432428301,
          0.0259182126153959,
          0.0271307747396105,
          0.0227843448420852,
          0.0213780183180683,
          0.0181158758492811,
          0.0558560195033342,
          0.027521409346709,
          0.0262030633280096,
          0.0458782260393052,
          0.026735556493052,
          0.0619977173532768,
          0.0340339433123592
         ],
         "yaxis": "y"
        }
       ],
       "layout": {
        "legend": {
         "tracegroupgap": 0
        },
        "margin": {
         "t": 60
        },
        "template": {
         "data": {
          "bar": [
           {
            "error_x": {
             "color": "#f2f5fa"
            },
            "error_y": {
             "color": "#f2f5fa"
            },
            "marker": {
             "line": {
              "color": "rgb(17,17,17)",
              "width": 0.5
             }
            },
            "type": "bar"
           }
          ],
          "barpolar": [
           {
            "marker": {
             "line": {
              "color": "rgb(17,17,17)",
              "width": 0.5
             }
            },
            "type": "barpolar"
           }
          ],
          "carpet": [
           {
            "aaxis": {
             "endlinecolor": "#A2B1C6",
             "gridcolor": "#506784",
             "linecolor": "#506784",
             "minorgridcolor": "#506784",
             "startlinecolor": "#A2B1C6"
            },
            "baxis": {
             "endlinecolor": "#A2B1C6",
             "gridcolor": "#506784",
             "linecolor": "#506784",
             "minorgridcolor": "#506784",
             "startlinecolor": "#A2B1C6"
            },
            "type": "carpet"
           }
          ],
          "choropleth": [
           {
            "colorbar": {
             "outlinewidth": 0,
             "ticks": ""
            },
            "type": "choropleth"
           }
          ],
          "contour": [
           {
            "colorbar": {
             "outlinewidth": 0,
             "ticks": ""
            },
            "colorscale": [
             [
              0.0,
              "#0d0887"
             ],
             [
              0.1111111111111111,
              "#46039f"
             ],
             [
              0.2222222222222222,
              "#7201a8"
             ],
             [
              0.3333333333333333,
              "#9c179e"
             ],
             [
              0.4444444444444444,
              "#bd3786"
             ],
             [
              0.5555555555555556,
              "#d8576b"
             ],
             [
              0.6666666666666666,
              "#ed7953"
             ],
             [
              0.7777777777777778,
              "#fb9f3a"
             ],
             [
              0.8888888888888888,
              "#fdca26"
             ],
             [
              1.0,
              "#f0f921"
             ]
            ],
            "type": "contour"
           }
          ],
          "contourcarpet": [
           {
            "colorbar": {
             "outlinewidth": 0,
             "ticks": ""
            },
            "type": "contourcarpet"
           }
          ],
          "heatmap": [
           {
            "colorbar": {
             "outlinewidth": 0,
             "ticks": ""
            },
            "colorscale": [
             [
              0.0,
              "#0d0887"
             ],
             [
              0.1111111111111111,
              "#46039f"
             ],
             [
              0.2222222222222222,
              "#7201a8"
             ],
             [
              0.3333333333333333,
              "#9c179e"
             ],
             [
              0.4444444444444444,
              "#bd3786"
             ],
             [
              0.5555555555555556,
              "#d8576b"
             ],
             [
              0.6666666666666666,
              "#ed7953"
             ],
             [
              0.7777777777777778,
              "#fb9f3a"
             ],
             [
              0.8888888888888888,
              "#fdca26"
             ],
             [
              1.0,
              "#f0f921"
             ]
            ],
            "type": "heatmap"
           }
          ],
          "heatmapgl": [
           {
            "colorbar": {
             "outlinewidth": 0,
             "ticks": ""
            },
            "colorscale": [
             [
              0.0,
              "#0d0887"
             ],
             [
              0.1111111111111111,
              "#46039f"
             ],
             [
              0.2222222222222222,
              "#7201a8"
             ],
             [
              0.3333333333333333,
              "#9c179e"
             ],
             [
              0.4444444444444444,
              "#bd3786"
             ],
             [
              0.5555555555555556,
              "#d8576b"
             ],
             [
              0.6666666666666666,
              "#ed7953"
             ],
             [
              0.7777777777777778,
              "#fb9f3a"
             ],
             [
              0.8888888888888888,
              "#fdca26"
             ],
             [
              1.0,
              "#f0f921"
             ]
            ],
            "type": "heatmapgl"
           }
          ],
          "histogram": [
           {
            "marker": {
             "colorbar": {
              "outlinewidth": 0,
              "ticks": ""
             }
            },
            "type": "histogram"
           }
          ],
          "histogram2d": [
           {
            "colorbar": {
             "outlinewidth": 0,
             "ticks": ""
            },
            "colorscale": [
             [
              0.0,
              "#0d0887"
             ],
             [
              0.1111111111111111,
              "#46039f"
             ],
             [
              0.2222222222222222,
              "#7201a8"
             ],
             [
              0.3333333333333333,
              "#9c179e"
             ],
             [
              0.4444444444444444,
              "#bd3786"
             ],
             [
              0.5555555555555556,
              "#d8576b"
             ],
             [
              0.6666666666666666,
              "#ed7953"
             ],
             [
              0.7777777777777778,
              "#fb9f3a"
             ],
             [
              0.8888888888888888,
              "#fdca26"
             ],
             [
              1.0,
              "#f0f921"
             ]
            ],
            "type": "histogram2d"
           }
          ],
          "histogram2dcontour": [
           {
            "colorbar": {
             "outlinewidth": 0,
             "ticks": ""
            },
            "colorscale": [
             [
              0.0,
              "#0d0887"
             ],
             [
              0.1111111111111111,
              "#46039f"
             ],
             [
              0.2222222222222222,
              "#7201a8"
             ],
             [
              0.3333333333333333,
              "#9c179e"
             ],
             [
              0.4444444444444444,
              "#bd3786"
             ],
             [
              0.5555555555555556,
              "#d8576b"
             ],
             [
              0.6666666666666666,
              "#ed7953"
             ],
             [
              0.7777777777777778,
              "#fb9f3a"
             ],
             [
              0.8888888888888888,
              "#fdca26"
             ],
             [
              1.0,
              "#f0f921"
             ]
            ],
            "type": "histogram2dcontour"
           }
          ],
          "mesh3d": [
           {
            "colorbar": {
             "outlinewidth": 0,
             "ticks": ""
            },
            "type": "mesh3d"
           }
          ],
          "parcoords": [
           {
            "line": {
             "colorbar": {
              "outlinewidth": 0,
              "ticks": ""
             }
            },
            "type": "parcoords"
           }
          ],
          "pie": [
           {
            "automargin": true,
            "type": "pie"
           }
          ],
          "scatter": [
           {
            "marker": {
             "line": {
              "color": "#283442"
             }
            },
            "type": "scatter"
           }
          ],
          "scatter3d": [
           {
            "line": {
             "colorbar": {
              "outlinewidth": 0,
              "ticks": ""
             }
            },
            "marker": {
             "colorbar": {
              "outlinewidth": 0,
              "ticks": ""
             }
            },
            "type": "scatter3d"
           }
          ],
          "scattercarpet": [
           {
            "marker": {
             "colorbar": {
              "outlinewidth": 0,
              "ticks": ""
             }
            },
            "type": "scattercarpet"
           }
          ],
          "scattergeo": [
           {
            "marker": {
             "colorbar": {
              "outlinewidth": 0,
              "ticks": ""
             }
            },
            "type": "scattergeo"
           }
          ],
          "scattergl": [
           {
            "marker": {
             "line": {
              "color": "#283442"
             }
            },
            "type": "scattergl"
           }
          ],
          "scattermapbox": [
           {
            "marker": {
             "colorbar": {
              "outlinewidth": 0,
              "ticks": ""
             }
            },
            "type": "scattermapbox"
           }
          ],
          "scatterpolar": [
           {
            "marker": {
             "colorbar": {
              "outlinewidth": 0,
              "ticks": ""
             }
            },
            "type": "scatterpolar"
           }
          ],
          "scatterpolargl": [
           {
            "marker": {
             "colorbar": {
              "outlinewidth": 0,
              "ticks": ""
             }
            },
            "type": "scatterpolargl"
           }
          ],
          "scatterternary": [
           {
            "marker": {
             "colorbar": {
              "outlinewidth": 0,
              "ticks": ""
             }
            },
            "type": "scatterternary"
           }
          ],
          "surface": [
           {
            "colorbar": {
             "outlinewidth": 0,
             "ticks": ""
            },
            "colorscale": [
             [
              0.0,
              "#0d0887"
             ],
             [
              0.1111111111111111,
              "#46039f"
             ],
             [
              0.2222222222222222,
              "#7201a8"
             ],
             [
              0.3333333333333333,
              "#9c179e"
             ],
             [
              0.4444444444444444,
              "#bd3786"
             ],
             [
              0.5555555555555556,
              "#d8576b"
             ],
             [
              0.6666666666666666,
              "#ed7953"
             ],
             [
              0.7777777777777778,
              "#fb9f3a"
             ],
             [
              0.8888888888888888,
              "#fdca26"
             ],
             [
              1.0,
              "#f0f921"
             ]
            ],
            "type": "surface"
           }
          ],
          "table": [
           {
            "cells": {
             "fill": {
              "color": "#506784"
             },
             "line": {
              "color": "rgb(17,17,17)"
             }
            },
            "header": {
             "fill": {
              "color": "#2a3f5f"
             },
             "line": {
              "color": "rgb(17,17,17)"
             }
            },
            "type": "table"
           }
          ]
         },
         "layout": {
          "annotationdefaults": {
           "arrowcolor": "#f2f5fa",
           "arrowhead": 0,
           "arrowwidth": 1
          },
          "autotypenumbers": "strict",
          "coloraxis": {
           "colorbar": {
            "outlinewidth": 0,
            "ticks": ""
           }
          },
          "colorscale": {
           "diverging": [
            [
             0,
             "#8e0152"
            ],
            [
             0.1,
             "#c51b7d"
            ],
            [
             0.2,
             "#de77ae"
            ],
            [
             0.3,
             "#f1b6da"
            ],
            [
             0.4,
             "#fde0ef"
            ],
            [
             0.5,
             "#f7f7f7"
            ],
            [
             0.6,
             "#e6f5d0"
            ],
            [
             0.7,
             "#b8e186"
            ],
            [
             0.8,
             "#7fbc41"
            ],
            [
             0.9,
             "#4d9221"
            ],
            [
             1,
             "#276419"
            ]
           ],
           "sequential": [
            [
             0.0,
             "#0d0887"
            ],
            [
             0.1111111111111111,
             "#46039f"
            ],
            [
             0.2222222222222222,
             "#7201a8"
            ],
            [
             0.3333333333333333,
             "#9c179e"
            ],
            [
             0.4444444444444444,
             "#bd3786"
            ],
            [
             0.5555555555555556,
             "#d8576b"
            ],
            [
             0.6666666666666666,
             "#ed7953"
            ],
            [
             0.7777777777777778,
             "#fb9f3a"
            ],
            [
             0.8888888888888888,
             "#fdca26"
            ],
            [
             1.0,
             "#f0f921"
            ]
           ],
           "sequentialminus": [
            [
             0.0,
             "#0d0887"
            ],
            [
             0.1111111111111111,
             "#46039f"
            ],
            [
             0.2222222222222222,
             "#7201a8"
            ],
            [
             0.3333333333333333,
             "#9c179e"
            ],
            [
             0.4444444444444444,
             "#bd3786"
            ],
            [
             0.5555555555555556,
             "#d8576b"
            ],
            [
             0.6666666666666666,
             "#ed7953"
            ],
            [
             0.7777777777777778,
             "#fb9f3a"
            ],
            [
             0.8888888888888888,
             "#fdca26"
            ],
            [
             1.0,
             "#f0f921"
            ]
           ]
          },
          "colorway": [
           "#636efa",
           "#EF553B",
           "#00cc96",
           "#ab63fa",
           "#FFA15A",
           "#19d3f3",
           "#FF6692",
           "#B6E880",
           "#FF97FF",
           "#FECB52"
          ],
          "font": {
           "color": "#f2f5fa"
          },
          "geo": {
           "bgcolor": "rgb(17,17,17)",
           "lakecolor": "rgb(17,17,17)",
           "landcolor": "rgb(17,17,17)",
           "showlakes": true,
           "showland": true,
           "subunitcolor": "#506784"
          },
          "hoverlabel": {
           "align": "left"
          },
          "hovermode": "closest",
          "mapbox": {
           "style": "dark"
          },
          "paper_bgcolor": "rgb(17,17,17)",
          "plot_bgcolor": "rgb(17,17,17)",
          "polar": {
           "angularaxis": {
            "gridcolor": "#506784",
            "linecolor": "#506784",
            "ticks": ""
           },
           "bgcolor": "rgb(17,17,17)",
           "radialaxis": {
            "gridcolor": "#506784",
            "linecolor": "#506784",
            "ticks": ""
           }
          },
          "scene": {
           "xaxis": {
            "backgroundcolor": "rgb(17,17,17)",
            "gridcolor": "#506784",
            "gridwidth": 2,
            "linecolor": "#506784",
            "showbackground": true,
            "ticks": "",
            "zerolinecolor": "#C8D4E3"
           },
           "yaxis": {
            "backgroundcolor": "rgb(17,17,17)",
            "gridcolor": "#506784",
            "gridwidth": 2,
            "linecolor": "#506784",
            "showbackground": true,
            "ticks": "",
            "zerolinecolor": "#C8D4E3"
           },
           "zaxis": {
            "backgroundcolor": "rgb(17,17,17)",
            "gridcolor": "#506784",
            "gridwidth": 2,
            "linecolor": "#506784",
            "showbackground": true,
            "ticks": "",
            "zerolinecolor": "#C8D4E3"
           }
          },
          "shapedefaults": {
           "line": {
            "color": "#f2f5fa"
           }
          },
          "sliderdefaults": {
           "bgcolor": "#C8D4E3",
           "bordercolor": "rgb(17,17,17)",
           "borderwidth": 1,
           "tickwidth": 0
          },
          "ternary": {
           "aaxis": {
            "gridcolor": "#506784",
            "linecolor": "#506784",
            "ticks": ""
           },
           "baxis": {
            "gridcolor": "#506784",
            "linecolor": "#506784",
            "ticks": ""
           },
           "bgcolor": "rgb(17,17,17)",
           "caxis": {
            "gridcolor": "#506784",
            "linecolor": "#506784",
            "ticks": ""
           }
          },
          "title": {
           "x": 0.05
          },
          "updatemenudefaults": {
           "bgcolor": "#506784",
           "borderwidth": 0
          },
          "xaxis": {
           "automargin": true,
           "gridcolor": "#283442",
           "linecolor": "#506784",
           "ticks": "",
           "title": {
            "standoff": 15
           },
           "zerolinecolor": "#283442",
           "zerolinewidth": 2
          },
          "yaxis": {
           "automargin": true,
           "gridcolor": "#283442",
           "linecolor": "#506784",
           "ticks": "",
           "title": {
            "standoff": 15
           },
           "zerolinecolor": "#283442",
           "zerolinewidth": 2
          }
         }
        },
        "xaxis": {
         "anchor": "y",
         "domain": [
          0.0,
          1.0
         ],
         "title": {
          "text": "serve_choke_pct"
         }
        },
        "yaxis": {
         "anchor": "x",
         "domain": [
          0.0,
          1.0
         ],
         "title": {
          "text": "receive_choke_pct"
         }
        }
       }
      },
      "text/html": "<div>                            <div id=\"434e0f64-0015-4bc8-b8c2-433e76fd898e\" class=\"plotly-graph-div\" style=\"height:525px; width:100%;\"></div>            <script type=\"text/javascript\">                require([\"plotly\"], function(Plotly) {                    window.PLOTLYENV=window.PLOTLYENV || {};                                    if (document.getElementById(\"434e0f64-0015-4bc8-b8c2-433e76fd898e\")) {                    Plotly.newPlot(                        \"434e0f64-0015-4bc8-b8c2-433e76fd898e\",                        [{\"hovertemplate\": \"<b>%{hovertext}</b><br><br>serve_choke_pct=%{x}<br>receive_choke_pct=%{y}<extra></extra>\", \"hovertext\": [\"F Lopez\", \"J Millman\", \"N Basilashvili\", \"V Troicki\", \"F Verdasco\", \"R Berankis\", \"T Sandgren\", \"J Wilfried Tsonga\", \"G Simon\", \"P Kohlschreiber\", \"R Bautista Agut\", \"D Lajovic\", \"A Mannarino\", \"N Kyrgios\", \"Y Nishioka\", \"A Seppi\", \"P Carreno Busta\", \"B Tomic\", \"A Ramos-Vinolas\", \"D Sela\", \"D Goffin\", \"K Anderson\", \"D Istomin\", \"A Dolgopolov\", \"A Murray\", \"D Medvedev\", \"G Monfils\", \"K Khachanov\", \"R Nadal\", \"B Paire\", \"N Almagro\", \"J Benneteau\", \"S Wawrinka\", \"M Baghdatis\", \"F Fognini\", \"A Zverev\", \"J Martin Del Potro\", \"M Raonic\", \"J Chardy\", \"G Dimitrov\", \"T Fritz\", \"G Garcia-Lopez\", \"J Isner\", \"M Cilic\", \"L Hewitt\", \"K Nishikori\", \"D Schwartzman\", \"S Tsitsipas\", \"M Fucsovics\", \"T Berdych\", \"D Ferrer\", \"S Querrey\", \"K Edmund\", \"M Ebden\", \"D Thiem\", \"A Bolt\", \"A Rublev\", \"R Federer\", \"N Djokovic\", \"J Sousa\", \"R Gasquet\"], \"legendgroup\": \"\", \"marker\": {\"color\": \"#636efa\", \"symbol\": \"circle\"}, \"mode\": \"markers\", \"name\": \"\", \"orientation\": \"v\", \"showlegend\": false, \"type\": \"scatter\", \"x\": [-0.014510004987084, -0.0026176080122714, -0.0148234725619884, -0.0211278749475736, -0.0306587172170131, -0.0130098158332266, -0.01609464736963, 0.002374241436381, 0.0032903594405942, 0.0097872096292089, -0.0111679550174505, 0.0098607992815447, 0.0205458368421331, 0.0514492007149711, -0.0206432325358711, 0.0117063463885315, 0.0152757100184912, -0.0040993289824876, 0.0074624918460534, -0.0022547193322603, 0.0356509964024414, 0.0170917439819458, 0.0141133520857023, 0.022993735575338, 0.0133528117209627, 0.0601956411930663, 0.0049110601344777, 0.0084457918527319, -0.013135460251046, -0.0367799284376853, 0.0119176134910975, 0.0125689935064934, 0.0205010007426894, -0.009978448275862, 0.0044516361021215, 0.017743158317375, 0.0493044069332728, 0.0447324295070538, 0.0086579772404047, -0.0039925556693371, 0.0439757062917973, 0.0445455891790491, 0.0682373721001753, 0.0159775198083656, 0.0111147186147185, 0.0391224111185344, 0.0503189631399945, 0.0920195103648813, 0.0422981884092415, 0.0363163655099035, 0.0415117422412727, 0.0491785204044079, 0.0523958776935524, 0.0563874423448891, 0.0190310029752998, 0.0522992700729926, 0.0542805170097544, 0.042743518000373, 0.0663478191081803, 0.0395611285266457, 0.1321819254017396], \"xaxis\": \"x\", \"y\": [-0.06641702798581, -0.0602436323366555, -0.038640657588026, -0.0191589322972875, -0.0045641879755723, -0.0189125113451964, -0.0149032766923119, -0.0287225723258667, -0.0249100170899973, -0.0277789471511999, -0.0060331942996176, -0.0256116450094366, -0.0317578415585424, -0.0610399809752504, 0.0123101950400637, -0.0173033023867481, -0.0177973783672613, 0.0030121592509735, -0.0065373271387325, 0.0065193120297251, -0.0275800076501338, -0.008163594470046, -0.0014539365600909, -0.0066707516339869, 0.0029896526237989, -0.0436298932384341, 0.0142237338466718, 0.0107312289683932, 0.0350098978106507, 0.0612128413411683, 0.0133815152528031, 0.0161752286417578, 0.0090345282603914, 0.0410537407797681, 0.0277179946675991, 0.0145900305556057, -0.0150724637681159, -0.0078510607061586, 0.0290276077791377, 0.0421373639384451, -0.0034272094775766, 0.0002627257799671, -0.0170859683459097, 0.035217744341918, 0.0405631118426752, 0.0154190731088885, 0.0082241355922522, -0.0333572248112526, 0.0179481432428301, 0.0259182126153959, 0.0271307747396105, 0.0227843448420852, 0.0213780183180683, 0.0181158758492811, 0.0558560195033342, 0.027521409346709, 0.0262030633280096, 0.0458782260393052, 0.026735556493052, 0.0619977173532768, 0.0340339433123592], \"yaxis\": \"y\"}],                        {\"legend\": {\"tracegroupgap\": 0}, \"margin\": {\"t\": 60}, \"template\": {\"data\": {\"bar\": [{\"error_x\": {\"color\": \"#f2f5fa\"}, \"error_y\": {\"color\": \"#f2f5fa\"}, \"marker\": {\"line\": {\"color\": \"rgb(17,17,17)\", \"width\": 0.5}}, \"type\": \"bar\"}], \"barpolar\": [{\"marker\": {\"line\": {\"color\": \"rgb(17,17,17)\", \"width\": 0.5}}, \"type\": \"barpolar\"}], \"carpet\": [{\"aaxis\": {\"endlinecolor\": \"#A2B1C6\", \"gridcolor\": \"#506784\", \"linecolor\": \"#506784\", \"minorgridcolor\": \"#506784\", \"startlinecolor\": \"#A2B1C6\"}, \"baxis\": {\"endlinecolor\": \"#A2B1C6\", \"gridcolor\": \"#506784\", \"linecolor\": \"#506784\", \"minorgridcolor\": \"#506784\", \"startlinecolor\": \"#A2B1C6\"}, \"type\": \"carpet\"}], \"choropleth\": [{\"colorbar\": {\"outlinewidth\": 0, \"ticks\": \"\"}, \"type\": \"choropleth\"}], \"contour\": [{\"colorbar\": {\"outlinewidth\": 0, \"ticks\": \"\"}, \"colorscale\": [[0.0, \"#0d0887\"], [0.1111111111111111, \"#46039f\"], [0.2222222222222222, \"#7201a8\"], [0.3333333333333333, \"#9c179e\"], [0.4444444444444444, \"#bd3786\"], [0.5555555555555556, \"#d8576b\"], [0.6666666666666666, \"#ed7953\"], [0.7777777777777778, \"#fb9f3a\"], [0.8888888888888888, \"#fdca26\"], [1.0, \"#f0f921\"]], \"type\": \"contour\"}], \"contourcarpet\": [{\"colorbar\": {\"outlinewidth\": 0, \"ticks\": \"\"}, \"type\": \"contourcarpet\"}], \"heatmap\": [{\"colorbar\": {\"outlinewidth\": 0, \"ticks\": \"\"}, \"colorscale\": [[0.0, \"#0d0887\"], [0.1111111111111111, \"#46039f\"], [0.2222222222222222, \"#7201a8\"], [0.3333333333333333, \"#9c179e\"], [0.4444444444444444, \"#bd3786\"], [0.5555555555555556, \"#d8576b\"], [0.6666666666666666, \"#ed7953\"], [0.7777777777777778, \"#fb9f3a\"], [0.8888888888888888, \"#fdca26\"], [1.0, \"#f0f921\"]], \"type\": \"heatmap\"}], \"heatmapgl\": [{\"colorbar\": {\"outlinewidth\": 0, \"ticks\": \"\"}, \"colorscale\": [[0.0, \"#0d0887\"], [0.1111111111111111, \"#46039f\"], [0.2222222222222222, \"#7201a8\"], [0.3333333333333333, \"#9c179e\"], [0.4444444444444444, \"#bd3786\"], [0.5555555555555556, \"#d8576b\"], [0.6666666666666666, \"#ed7953\"], [0.7777777777777778, \"#fb9f3a\"], [0.8888888888888888, \"#fdca26\"], [1.0, \"#f0f921\"]], \"type\": \"heatmapgl\"}], \"histogram\": [{\"marker\": {\"colorbar\": {\"outlinewidth\": 0, \"ticks\": \"\"}}, \"type\": \"histogram\"}], \"histogram2d\": [{\"colorbar\": {\"outlinewidth\": 0, \"ticks\": \"\"}, \"colorscale\": [[0.0, \"#0d0887\"], [0.1111111111111111, \"#46039f\"], [0.2222222222222222, \"#7201a8\"], [0.3333333333333333, \"#9c179e\"], [0.4444444444444444, \"#bd3786\"], [0.5555555555555556, \"#d8576b\"], [0.6666666666666666, \"#ed7953\"], [0.7777777777777778, \"#fb9f3a\"], [0.8888888888888888, \"#fdca26\"], [1.0, \"#f0f921\"]], \"type\": \"histogram2d\"}], \"histogram2dcontour\": [{\"colorbar\": {\"outlinewidth\": 0, \"ticks\": \"\"}, \"colorscale\": [[0.0, \"#0d0887\"], [0.1111111111111111, \"#46039f\"], [0.2222222222222222, \"#7201a8\"], [0.3333333333333333, \"#9c179e\"], [0.4444444444444444, \"#bd3786\"], [0.5555555555555556, \"#d8576b\"], [0.6666666666666666, \"#ed7953\"], [0.7777777777777778, \"#fb9f3a\"], [0.8888888888888888, \"#fdca26\"], [1.0, \"#f0f921\"]], \"type\": \"histogram2dcontour\"}], \"mesh3d\": [{\"colorbar\": {\"outlinewidth\": 0, \"ticks\": \"\"}, \"type\": \"mesh3d\"}], \"parcoords\": [{\"line\": {\"colorbar\": {\"outlinewidth\": 0, \"ticks\": \"\"}}, \"type\": \"parcoords\"}], \"pie\": [{\"automargin\": true, \"type\": \"pie\"}], \"scatter\": [{\"marker\": {\"line\": {\"color\": \"#283442\"}}, \"type\": \"scatter\"}], \"scatter3d\": [{\"line\": {\"colorbar\": {\"outlinewidth\": 0, \"ticks\": \"\"}}, \"marker\": {\"colorbar\": {\"outlinewidth\": 0, \"ticks\": \"\"}}, \"type\": \"scatter3d\"}], \"scattercarpet\": [{\"marker\": {\"colorbar\": {\"outlinewidth\": 0, \"ticks\": \"\"}}, \"type\": \"scattercarpet\"}], \"scattergeo\": [{\"marker\": {\"colorbar\": {\"outlinewidth\": 0, \"ticks\": \"\"}}, \"type\": \"scattergeo\"}], \"scattergl\": [{\"marker\": {\"line\": {\"color\": \"#283442\"}}, \"type\": \"scattergl\"}], \"scattermapbox\": [{\"marker\": {\"colorbar\": {\"outlinewidth\": 0, \"ticks\": \"\"}}, \"type\": \"scattermapbox\"}], \"scatterpolar\": [{\"marker\": {\"colorbar\": {\"outlinewidth\": 0, \"ticks\": \"\"}}, \"type\": \"scatterpolar\"}], \"scatterpolargl\": [{\"marker\": {\"colorbar\": {\"outlinewidth\": 0, \"ticks\": \"\"}}, \"type\": \"scatterpolargl\"}], \"scatterternary\": [{\"marker\": {\"colorbar\": {\"outlinewidth\": 0, \"ticks\": \"\"}}, \"type\": \"scatterternary\"}], \"surface\": [{\"colorbar\": {\"outlinewidth\": 0, \"ticks\": \"\"}, \"colorscale\": [[0.0, \"#0d0887\"], [0.1111111111111111, \"#46039f\"], [0.2222222222222222, \"#7201a8\"], [0.3333333333333333, \"#9c179e\"], [0.4444444444444444, \"#bd3786\"], [0.5555555555555556, \"#d8576b\"], [0.6666666666666666, \"#ed7953\"], [0.7777777777777778, \"#fb9f3a\"], [0.8888888888888888, \"#fdca26\"], [1.0, \"#f0f921\"]], \"type\": \"surface\"}], \"table\": [{\"cells\": {\"fill\": {\"color\": \"#506784\"}, \"line\": {\"color\": \"rgb(17,17,17)\"}}, \"header\": {\"fill\": {\"color\": \"#2a3f5f\"}, \"line\": {\"color\": \"rgb(17,17,17)\"}}, \"type\": \"table\"}]}, \"layout\": {\"annotationdefaults\": {\"arrowcolor\": \"#f2f5fa\", \"arrowhead\": 0, \"arrowwidth\": 1}, \"autotypenumbers\": \"strict\", \"coloraxis\": {\"colorbar\": {\"outlinewidth\": 0, \"ticks\": \"\"}}, \"colorscale\": {\"diverging\": [[0, \"#8e0152\"], [0.1, \"#c51b7d\"], [0.2, \"#de77ae\"], [0.3, \"#f1b6da\"], [0.4, \"#fde0ef\"], [0.5, \"#f7f7f7\"], [0.6, \"#e6f5d0\"], [0.7, \"#b8e186\"], [0.8, \"#7fbc41\"], [0.9, \"#4d9221\"], [1, \"#276419\"]], \"sequential\": [[0.0, \"#0d0887\"], [0.1111111111111111, \"#46039f\"], [0.2222222222222222, \"#7201a8\"], [0.3333333333333333, \"#9c179e\"], [0.4444444444444444, \"#bd3786\"], [0.5555555555555556, \"#d8576b\"], [0.6666666666666666, \"#ed7953\"], [0.7777777777777778, \"#fb9f3a\"], [0.8888888888888888, \"#fdca26\"], [1.0, \"#f0f921\"]], \"sequentialminus\": [[0.0, \"#0d0887\"], [0.1111111111111111, \"#46039f\"], [0.2222222222222222, \"#7201a8\"], [0.3333333333333333, \"#9c179e\"], [0.4444444444444444, \"#bd3786\"], [0.5555555555555556, \"#d8576b\"], [0.6666666666666666, \"#ed7953\"], [0.7777777777777778, \"#fb9f3a\"], [0.8888888888888888, \"#fdca26\"], [1.0, \"#f0f921\"]]}, \"colorway\": [\"#636efa\", \"#EF553B\", \"#00cc96\", \"#ab63fa\", \"#FFA15A\", \"#19d3f3\", \"#FF6692\", \"#B6E880\", \"#FF97FF\", \"#FECB52\"], \"font\": {\"color\": \"#f2f5fa\"}, \"geo\": {\"bgcolor\": \"rgb(17,17,17)\", \"lakecolor\": \"rgb(17,17,17)\", \"landcolor\": \"rgb(17,17,17)\", \"showlakes\": true, \"showland\": true, \"subunitcolor\": \"#506784\"}, \"hoverlabel\": {\"align\": \"left\"}, \"hovermode\": \"closest\", \"mapbox\": {\"style\": \"dark\"}, \"paper_bgcolor\": \"rgb(17,17,17)\", \"plot_bgcolor\": \"rgb(17,17,17)\", \"polar\": {\"angularaxis\": {\"gridcolor\": \"#506784\", \"linecolor\": \"#506784\", \"ticks\": \"\"}, \"bgcolor\": \"rgb(17,17,17)\", \"radialaxis\": {\"gridcolor\": \"#506784\", \"linecolor\": \"#506784\", \"ticks\": \"\"}}, \"scene\": {\"xaxis\": {\"backgroundcolor\": \"rgb(17,17,17)\", \"gridcolor\": \"#506784\", \"gridwidth\": 2, \"linecolor\": \"#506784\", \"showbackground\": true, \"ticks\": \"\", \"zerolinecolor\": \"#C8D4E3\"}, \"yaxis\": {\"backgroundcolor\": \"rgb(17,17,17)\", \"gridcolor\": \"#506784\", \"gridwidth\": 2, \"linecolor\": \"#506784\", \"showbackground\": true, \"ticks\": \"\", \"zerolinecolor\": \"#C8D4E3\"}, \"zaxis\": {\"backgroundcolor\": \"rgb(17,17,17)\", \"gridcolor\": \"#506784\", \"gridwidth\": 2, \"linecolor\": \"#506784\", \"showbackground\": true, \"ticks\": \"\", \"zerolinecolor\": \"#C8D4E3\"}}, \"shapedefaults\": {\"line\": {\"color\": \"#f2f5fa\"}}, \"sliderdefaults\": {\"bgcolor\": \"#C8D4E3\", \"bordercolor\": \"rgb(17,17,17)\", \"borderwidth\": 1, \"tickwidth\": 0}, \"ternary\": {\"aaxis\": {\"gridcolor\": \"#506784\", \"linecolor\": \"#506784\", \"ticks\": \"\"}, \"baxis\": {\"gridcolor\": \"#506784\", \"linecolor\": \"#506784\", \"ticks\": \"\"}, \"bgcolor\": \"rgb(17,17,17)\", \"caxis\": {\"gridcolor\": \"#506784\", \"linecolor\": \"#506784\", \"ticks\": \"\"}}, \"title\": {\"x\": 0.05}, \"updatemenudefaults\": {\"bgcolor\": \"#506784\", \"borderwidth\": 0}, \"xaxis\": {\"automargin\": true, \"gridcolor\": \"#283442\", \"linecolor\": \"#506784\", \"ticks\": \"\", \"title\": {\"standoff\": 15}, \"zerolinecolor\": \"#283442\", \"zerolinewidth\": 2}, \"yaxis\": {\"automargin\": true, \"gridcolor\": \"#283442\", \"linecolor\": \"#506784\", \"ticks\": \"\", \"title\": {\"standoff\": 15}, \"zerolinecolor\": \"#283442\", \"zerolinewidth\": 2}}}, \"xaxis\": {\"anchor\": \"y\", \"domain\": [0.0, 1.0], \"title\": {\"text\": \"serve_choke_pct\"}}, \"yaxis\": {\"anchor\": \"x\", \"domain\": [0.0, 1.0], \"title\": {\"text\": \"receive_choke_pct\"}}},                        {\"responsive\": true}                    ).then(function(){\n                            \nvar gd = document.getElementById('434e0f64-0015-4bc8-b8c2-433e76fd898e');\nvar x = new MutationObserver(function (mutations, observer) {{\n        var display = window.getComputedStyle(gd).display;\n        if (!display || display === 'none') {{\n            console.log([gd, 'removed!']);\n            Plotly.purge(gd);\n            observer.disconnect();\n        }}\n}});\n\n// Listen for the removal of the full notebook cells\nvar notebookContainer = gd.closest('#notebook-container');\nif (notebookContainer) {{\n    x.observe(notebookContainer, {childList: true});\n}}\n\n// Listen for the clearing of the current output cell\nvar outputEl = gd.closest('.output');\nif (outputEl) {{\n    x.observe(outputEl, {childList: true});\n}}\n\n                        })                };                });            </script>        </div>"
     },
     "metadata": {},
     "output_type": "display_data"
    }
   ],
   "source": [
    "fig = px.scatter(data_frame=df, x=\"serve_choke_pct\", y=\"receive_choke_pct\", hover_name='name')\n",
    "fig.show()"
   ]
  },
  {
   "cell_type": "code",
   "execution_count": 74,
   "metadata": {
    "collapsed": false,
    "pycharm": {
     "name": "#%%\n"
    }
   },
   "outputs": [
    {
     "ename": "IndexError",
     "evalue": "positional indexers are out-of-bounds",
     "output_type": "error",
     "traceback": [
      "\u001B[1;31m---------------------------------------------------------------------------\u001B[0m",
      "\u001B[1;31mIndexError\u001B[0m                                Traceback (most recent call last)",
      "\u001B[1;32m~\\AppData\\Local\\Temp\\ipykernel_19640\\315600056.py\u001B[0m in \u001B[0;36m<module>\u001B[1;34m\u001B[0m\n\u001B[1;32m----> 1\u001B[1;33m \u001B[0mdf2\u001B[0m \u001B[1;33m=\u001B[0m \u001B[0mdf\u001B[0m\u001B[1;33m.\u001B[0m\u001B[0miloc\u001B[0m\u001B[1;33m[\u001B[0m\u001B[0minds\u001B[0m\u001B[1;33m,\u001B[0m \u001B[0mrange\u001B[0m\u001B[1;33m(\u001B[0m\u001B[1;36m0\u001B[0m\u001B[1;33m,\u001B[0m \u001B[1;36m16\u001B[0m\u001B[1;33m)\u001B[0m\u001B[1;33m]\u001B[0m\u001B[1;33m\u001B[0m\u001B[1;33m\u001B[0m\u001B[0m\n\u001B[0m\u001B[0;32m      2\u001B[0m \u001B[0mdf2\u001B[0m\u001B[1;33m\u001B[0m\u001B[1;33m\u001B[0m\u001B[0m\n",
      "\u001B[1;32m~\\miniconda3\\lib\\site-packages\\pandas\\core\\indexing.py\u001B[0m in \u001B[0;36m__getitem__\u001B[1;34m(self, key)\u001B[0m\n\u001B[0;32m    923\u001B[0m                 \u001B[1;32mwith\u001B[0m \u001B[0msuppress\u001B[0m\u001B[1;33m(\u001B[0m\u001B[0mKeyError\u001B[0m\u001B[1;33m,\u001B[0m \u001B[0mIndexError\u001B[0m\u001B[1;33m)\u001B[0m\u001B[1;33m:\u001B[0m\u001B[1;33m\u001B[0m\u001B[1;33m\u001B[0m\u001B[0m\n\u001B[0;32m    924\u001B[0m                     \u001B[1;32mreturn\u001B[0m \u001B[0mself\u001B[0m\u001B[1;33m.\u001B[0m\u001B[0mobj\u001B[0m\u001B[1;33m.\u001B[0m\u001B[0m_get_value\u001B[0m\u001B[1;33m(\u001B[0m\u001B[1;33m*\u001B[0m\u001B[0mkey\u001B[0m\u001B[1;33m,\u001B[0m \u001B[0mtakeable\u001B[0m\u001B[1;33m=\u001B[0m\u001B[0mself\u001B[0m\u001B[1;33m.\u001B[0m\u001B[0m_takeable\u001B[0m\u001B[1;33m)\u001B[0m\u001B[1;33m\u001B[0m\u001B[1;33m\u001B[0m\u001B[0m\n\u001B[1;32m--> 925\u001B[1;33m             \u001B[1;32mreturn\u001B[0m \u001B[0mself\u001B[0m\u001B[1;33m.\u001B[0m\u001B[0m_getitem_tuple\u001B[0m\u001B[1;33m(\u001B[0m\u001B[0mkey\u001B[0m\u001B[1;33m)\u001B[0m\u001B[1;33m\u001B[0m\u001B[1;33m\u001B[0m\u001B[0m\n\u001B[0m\u001B[0;32m    926\u001B[0m         \u001B[1;32melse\u001B[0m\u001B[1;33m:\u001B[0m\u001B[1;33m\u001B[0m\u001B[1;33m\u001B[0m\u001B[0m\n\u001B[0;32m    927\u001B[0m             \u001B[1;31m# we by definition only have the 0th axis\u001B[0m\u001B[1;33m\u001B[0m\u001B[1;33m\u001B[0m\u001B[1;33m\u001B[0m\u001B[0m\n",
      "\u001B[1;32m~\\miniconda3\\lib\\site-packages\\pandas\\core\\indexing.py\u001B[0m in \u001B[0;36m_getitem_tuple\u001B[1;34m(self, tup)\u001B[0m\n\u001B[0;32m   1504\u001B[0m     \u001B[1;32mdef\u001B[0m \u001B[0m_getitem_tuple\u001B[0m\u001B[1;33m(\u001B[0m\u001B[0mself\u001B[0m\u001B[1;33m,\u001B[0m \u001B[0mtup\u001B[0m\u001B[1;33m:\u001B[0m \u001B[0mtuple\u001B[0m\u001B[1;33m)\u001B[0m\u001B[1;33m:\u001B[0m\u001B[1;33m\u001B[0m\u001B[1;33m\u001B[0m\u001B[0m\n\u001B[0;32m   1505\u001B[0m \u001B[1;33m\u001B[0m\u001B[0m\n\u001B[1;32m-> 1506\u001B[1;33m         \u001B[0mself\u001B[0m\u001B[1;33m.\u001B[0m\u001B[0m_has_valid_tuple\u001B[0m\u001B[1;33m(\u001B[0m\u001B[0mtup\u001B[0m\u001B[1;33m)\u001B[0m\u001B[1;33m\u001B[0m\u001B[1;33m\u001B[0m\u001B[0m\n\u001B[0m\u001B[0;32m   1507\u001B[0m         \u001B[1;32mwith\u001B[0m \u001B[0msuppress\u001B[0m\u001B[1;33m(\u001B[0m\u001B[0mIndexingError\u001B[0m\u001B[1;33m)\u001B[0m\u001B[1;33m:\u001B[0m\u001B[1;33m\u001B[0m\u001B[1;33m\u001B[0m\u001B[0m\n\u001B[0;32m   1508\u001B[0m             \u001B[1;32mreturn\u001B[0m \u001B[0mself\u001B[0m\u001B[1;33m.\u001B[0m\u001B[0m_getitem_lowerdim\u001B[0m\u001B[1;33m(\u001B[0m\u001B[0mtup\u001B[0m\u001B[1;33m)\u001B[0m\u001B[1;33m\u001B[0m\u001B[1;33m\u001B[0m\u001B[0m\n",
      "\u001B[1;32m~\\miniconda3\\lib\\site-packages\\pandas\\core\\indexing.py\u001B[0m in \u001B[0;36m_has_valid_tuple\u001B[1;34m(self, key)\u001B[0m\n\u001B[0;32m    752\u001B[0m         \u001B[1;32mfor\u001B[0m \u001B[0mi\u001B[0m\u001B[1;33m,\u001B[0m \u001B[0mk\u001B[0m \u001B[1;32min\u001B[0m \u001B[0menumerate\u001B[0m\u001B[1;33m(\u001B[0m\u001B[0mkey\u001B[0m\u001B[1;33m)\u001B[0m\u001B[1;33m:\u001B[0m\u001B[1;33m\u001B[0m\u001B[1;33m\u001B[0m\u001B[0m\n\u001B[0;32m    753\u001B[0m             \u001B[1;32mtry\u001B[0m\u001B[1;33m:\u001B[0m\u001B[1;33m\u001B[0m\u001B[1;33m\u001B[0m\u001B[0m\n\u001B[1;32m--> 754\u001B[1;33m                 \u001B[0mself\u001B[0m\u001B[1;33m.\u001B[0m\u001B[0m_validate_key\u001B[0m\u001B[1;33m(\u001B[0m\u001B[0mk\u001B[0m\u001B[1;33m,\u001B[0m \u001B[0mi\u001B[0m\u001B[1;33m)\u001B[0m\u001B[1;33m\u001B[0m\u001B[1;33m\u001B[0m\u001B[0m\n\u001B[0m\u001B[0;32m    755\u001B[0m             \u001B[1;32mexcept\u001B[0m \u001B[0mValueError\u001B[0m \u001B[1;32mas\u001B[0m \u001B[0merr\u001B[0m\u001B[1;33m:\u001B[0m\u001B[1;33m\u001B[0m\u001B[1;33m\u001B[0m\u001B[0m\n\u001B[0;32m    756\u001B[0m                 raise ValueError(\n",
      "\u001B[1;32m~\\miniconda3\\lib\\site-packages\\pandas\\core\\indexing.py\u001B[0m in \u001B[0;36m_validate_key\u001B[1;34m(self, key, axis)\u001B[0m\n\u001B[0;32m   1422\u001B[0m             \u001B[1;31m# check that the key does not exceed the maximum size of the index\u001B[0m\u001B[1;33m\u001B[0m\u001B[1;33m\u001B[0m\u001B[1;33m\u001B[0m\u001B[0m\n\u001B[0;32m   1423\u001B[0m             \u001B[1;32mif\u001B[0m \u001B[0mlen\u001B[0m\u001B[1;33m(\u001B[0m\u001B[0marr\u001B[0m\u001B[1;33m)\u001B[0m \u001B[1;32mand\u001B[0m \u001B[1;33m(\u001B[0m\u001B[0marr\u001B[0m\u001B[1;33m.\u001B[0m\u001B[0mmax\u001B[0m\u001B[1;33m(\u001B[0m\u001B[1;33m)\u001B[0m \u001B[1;33m>=\u001B[0m \u001B[0mlen_axis\u001B[0m \u001B[1;32mor\u001B[0m \u001B[0marr\u001B[0m\u001B[1;33m.\u001B[0m\u001B[0mmin\u001B[0m\u001B[1;33m(\u001B[0m\u001B[1;33m)\u001B[0m \u001B[1;33m<\u001B[0m \u001B[1;33m-\u001B[0m\u001B[0mlen_axis\u001B[0m\u001B[1;33m)\u001B[0m\u001B[1;33m:\u001B[0m\u001B[1;33m\u001B[0m\u001B[1;33m\u001B[0m\u001B[0m\n\u001B[1;32m-> 1424\u001B[1;33m                 \u001B[1;32mraise\u001B[0m \u001B[0mIndexError\u001B[0m\u001B[1;33m(\u001B[0m\u001B[1;34m\"positional indexers are out-of-bounds\"\u001B[0m\u001B[1;33m)\u001B[0m\u001B[1;33m\u001B[0m\u001B[1;33m\u001B[0m\u001B[0m\n\u001B[0m\u001B[0;32m   1425\u001B[0m         \u001B[1;32melse\u001B[0m\u001B[1;33m:\u001B[0m\u001B[1;33m\u001B[0m\u001B[1;33m\u001B[0m\u001B[0m\n\u001B[0;32m   1426\u001B[0m             \u001B[1;32mraise\u001B[0m \u001B[0mValueError\u001B[0m\u001B[1;33m(\u001B[0m\u001B[1;34mf\"Can only index by location with a [{self._valid_types}]\"\u001B[0m\u001B[1;33m)\u001B[0m\u001B[1;33m\u001B[0m\u001B[1;33m\u001B[0m\u001B[0m\n",
      "\u001B[1;31mIndexError\u001B[0m: positional indexers are out-of-bounds"
     ]
    }
   ],
   "source": [
    "df2 = df.iloc[inds, range(0, 16)]\n",
    "df2"
   ]
  },
  {
   "cell_type": "code",
   "execution_count": 28,
   "metadata": {
    "collapsed": false,
    "pycharm": {
     "name": "#%%\n"
    }
   },
   "outputs": [
    {
     "data": {
      "application/vnd.plotly.v1+json": {
       "config": {
        "plotlyServerURL": "https://plot.ly"
       },
       "data": [
        {
         "hovertemplate": "<b>%{hovertext}</b><br><br>name=R Nadal<br>serve_choke_pct=%{x}<br>receive_choke_pct=%{y}<extra></extra>",
         "hovertext": [
          "R Nadal"
         ],
         "legendgroup": "R Nadal",
         "marker": {
          "color": "#636efa",
          "symbol": "circle"
         },
         "mode": "markers",
         "name": "R Nadal",
         "orientation": "v",
         "showlegend": true,
         "type": "scatter",
         "x": [
          0.0014370853988639
         ],
         "xaxis": "x",
         "y": [
          0.0020509227817859
         ],
         "yaxis": "y"
        },
        {
         "hovertemplate": "<b>%{hovertext}</b><br><br>name=S Wawrinka<br>serve_choke_pct=%{x}<br>receive_choke_pct=%{y}<extra></extra>",
         "hovertext": [
          "S Wawrinka"
         ],
         "legendgroup": "S Wawrinka",
         "marker": {
          "color": "#EF553B",
          "symbol": "circle"
         },
         "mode": "markers",
         "name": "S Wawrinka",
         "orientation": "v",
         "showlegend": true,
         "type": "scatter",
         "x": [
          -0.0132801027796965
         ],
         "xaxis": "x",
         "y": [
          0.0195781078787915
         ],
         "yaxis": "y"
        },
        {
         "hovertemplate": "<b>%{hovertext}</b><br><br>name=D Medvedev<br>serve_choke_pct=%{x}<br>receive_choke_pct=%{y}<extra></extra>",
         "hovertext": [
          "D Medvedev"
         ],
         "legendgroup": "D Medvedev",
         "marker": {
          "color": "#00cc96",
          "symbol": "circle"
         },
         "mode": "markers",
         "name": "D Medvedev",
         "orientation": "v",
         "showlegend": true,
         "type": "scatter",
         "x": [
          0.0573149580908562
         ],
         "xaxis": "x",
         "y": [
          -0.0190518764034745
         ],
         "yaxis": "y"
        },
        {
         "hovertemplate": "<b>%{hovertext}</b><br><br>name=A Murray<br>serve_choke_pct=%{x}<br>receive_choke_pct=%{y}<extra></extra>",
         "hovertext": [
          "A Murray"
         ],
         "legendgroup": "A Murray",
         "marker": {
          "color": "#ab63fa",
          "symbol": "circle"
         },
         "mode": "markers",
         "name": "A Murray",
         "orientation": "v",
         "showlegend": true,
         "type": "scatter",
         "x": [
          0.0252478942674824
         ],
         "xaxis": "x",
         "y": [
          0.0163570960864456
         ],
         "yaxis": "y"
        },
        {
         "hovertemplate": "<b>%{hovertext}</b><br><br>name=N Djokovic<br>serve_choke_pct=%{x}<br>receive_choke_pct=%{y}<extra></extra>",
         "hovertext": [
          "N Djokovic"
         ],
         "legendgroup": "N Djokovic",
         "marker": {
          "color": "#FFA15A",
          "symbol": "circle"
         },
         "mode": "markers",
         "name": "N Djokovic",
         "orientation": "v",
         "showlegend": true,
         "type": "scatter",
         "x": [
          0.0190787581526402
         ],
         "xaxis": "x",
         "y": [
          0.0242044805395236
         ],
         "yaxis": "y"
        },
        {
         "hovertemplate": "<b>%{hovertext}</b><br><br>name=D Thiem<br>serve_choke_pct=%{x}<br>receive_choke_pct=%{y}<extra></extra>",
         "hovertext": [
          "D Thiem"
         ],
         "legendgroup": "D Thiem",
         "marker": {
          "color": "#19d3f3",
          "symbol": "circle"
         },
         "mode": "markers",
         "name": "D Thiem",
         "orientation": "v",
         "showlegend": true,
         "type": "scatter",
         "x": [
          0.0148770357896852
         ],
         "xaxis": "x",
         "y": [
          0.0385913191993249
         ],
         "yaxis": "y"
        },
        {
         "hovertemplate": "<b>%{hovertext}</b><br><br>name=M Cilic<br>serve_choke_pct=%{x}<br>receive_choke_pct=%{y}<extra></extra>",
         "hovertext": [
          "M Cilic"
         ],
         "legendgroup": "M Cilic",
         "marker": {
          "color": "#FF6692",
          "symbol": "circle"
         },
         "mode": "markers",
         "name": "M Cilic",
         "orientation": "v",
         "showlegend": true,
         "type": "scatter",
         "x": [
          0.0209457576460968
         ],
         "xaxis": "x",
         "y": [
          0.0340802258043295
         ],
         "yaxis": "y"
        },
        {
         "hovertemplate": "<b>%{hovertext}</b><br><br>name=R Federer<br>serve_choke_pct=%{x}<br>receive_choke_pct=%{y}<extra></extra>",
         "hovertext": [
          "R Federer"
         ],
         "legendgroup": "R Federer",
         "marker": {
          "color": "#B6E880",
          "symbol": "circle"
         },
         "mode": "markers",
         "name": "R Federer",
         "orientation": "v",
         "showlegend": true,
         "type": "scatter",
         "x": [
          0.034419796435154
         ],
         "xaxis": "x",
         "y": [
          0.0332220549080191
         ],
         "yaxis": "y"
        }
       ],
       "layout": {
        "legend": {
         "title": {
          "text": "name"
         },
         "tracegroupgap": 0
        },
        "margin": {
         "t": 60
        },
        "template": {
         "data": {
          "bar": [
           {
            "error_x": {
             "color": "#f2f5fa"
            },
            "error_y": {
             "color": "#f2f5fa"
            },
            "marker": {
             "line": {
              "color": "rgb(17,17,17)",
              "width": 0.5
             }
            },
            "type": "bar"
           }
          ],
          "barpolar": [
           {
            "marker": {
             "line": {
              "color": "rgb(17,17,17)",
              "width": 0.5
             }
            },
            "type": "barpolar"
           }
          ],
          "carpet": [
           {
            "aaxis": {
             "endlinecolor": "#A2B1C6",
             "gridcolor": "#506784",
             "linecolor": "#506784",
             "minorgridcolor": "#506784",
             "startlinecolor": "#A2B1C6"
            },
            "baxis": {
             "endlinecolor": "#A2B1C6",
             "gridcolor": "#506784",
             "linecolor": "#506784",
             "minorgridcolor": "#506784",
             "startlinecolor": "#A2B1C6"
            },
            "type": "carpet"
           }
          ],
          "choropleth": [
           {
            "colorbar": {
             "outlinewidth": 0,
             "ticks": ""
            },
            "type": "choropleth"
           }
          ],
          "contour": [
           {
            "colorbar": {
             "outlinewidth": 0,
             "ticks": ""
            },
            "colorscale": [
             [
              0,
              "#0d0887"
             ],
             [
              0.1111111111111111,
              "#46039f"
             ],
             [
              0.2222222222222222,
              "#7201a8"
             ],
             [
              0.3333333333333333,
              "#9c179e"
             ],
             [
              0.4444444444444444,
              "#bd3786"
             ],
             [
              0.5555555555555556,
              "#d8576b"
             ],
             [
              0.6666666666666666,
              "#ed7953"
             ],
             [
              0.7777777777777778,
              "#fb9f3a"
             ],
             [
              0.8888888888888888,
              "#fdca26"
             ],
             [
              1,
              "#f0f921"
             ]
            ],
            "type": "contour"
           }
          ],
          "contourcarpet": [
           {
            "colorbar": {
             "outlinewidth": 0,
             "ticks": ""
            },
            "type": "contourcarpet"
           }
          ],
          "heatmap": [
           {
            "colorbar": {
             "outlinewidth": 0,
             "ticks": ""
            },
            "colorscale": [
             [
              0,
              "#0d0887"
             ],
             [
              0.1111111111111111,
              "#46039f"
             ],
             [
              0.2222222222222222,
              "#7201a8"
             ],
             [
              0.3333333333333333,
              "#9c179e"
             ],
             [
              0.4444444444444444,
              "#bd3786"
             ],
             [
              0.5555555555555556,
              "#d8576b"
             ],
             [
              0.6666666666666666,
              "#ed7953"
             ],
             [
              0.7777777777777778,
              "#fb9f3a"
             ],
             [
              0.8888888888888888,
              "#fdca26"
             ],
             [
              1,
              "#f0f921"
             ]
            ],
            "type": "heatmap"
           }
          ],
          "heatmapgl": [
           {
            "colorbar": {
             "outlinewidth": 0,
             "ticks": ""
            },
            "colorscale": [
             [
              0,
              "#0d0887"
             ],
             [
              0.1111111111111111,
              "#46039f"
             ],
             [
              0.2222222222222222,
              "#7201a8"
             ],
             [
              0.3333333333333333,
              "#9c179e"
             ],
             [
              0.4444444444444444,
              "#bd3786"
             ],
             [
              0.5555555555555556,
              "#d8576b"
             ],
             [
              0.6666666666666666,
              "#ed7953"
             ],
             [
              0.7777777777777778,
              "#fb9f3a"
             ],
             [
              0.8888888888888888,
              "#fdca26"
             ],
             [
              1,
              "#f0f921"
             ]
            ],
            "type": "heatmapgl"
           }
          ],
          "histogram": [
           {
            "marker": {
             "colorbar": {
              "outlinewidth": 0,
              "ticks": ""
             }
            },
            "type": "histogram"
           }
          ],
          "histogram2d": [
           {
            "colorbar": {
             "outlinewidth": 0,
             "ticks": ""
            },
            "colorscale": [
             [
              0,
              "#0d0887"
             ],
             [
              0.1111111111111111,
              "#46039f"
             ],
             [
              0.2222222222222222,
              "#7201a8"
             ],
             [
              0.3333333333333333,
              "#9c179e"
             ],
             [
              0.4444444444444444,
              "#bd3786"
             ],
             [
              0.5555555555555556,
              "#d8576b"
             ],
             [
              0.6666666666666666,
              "#ed7953"
             ],
             [
              0.7777777777777778,
              "#fb9f3a"
             ],
             [
              0.8888888888888888,
              "#fdca26"
             ],
             [
              1,
              "#f0f921"
             ]
            ],
            "type": "histogram2d"
           }
          ],
          "histogram2dcontour": [
           {
            "colorbar": {
             "outlinewidth": 0,
             "ticks": ""
            },
            "colorscale": [
             [
              0,
              "#0d0887"
             ],
             [
              0.1111111111111111,
              "#46039f"
             ],
             [
              0.2222222222222222,
              "#7201a8"
             ],
             [
              0.3333333333333333,
              "#9c179e"
             ],
             [
              0.4444444444444444,
              "#bd3786"
             ],
             [
              0.5555555555555556,
              "#d8576b"
             ],
             [
              0.6666666666666666,
              "#ed7953"
             ],
             [
              0.7777777777777778,
              "#fb9f3a"
             ],
             [
              0.8888888888888888,
              "#fdca26"
             ],
             [
              1,
              "#f0f921"
             ]
            ],
            "type": "histogram2dcontour"
           }
          ],
          "mesh3d": [
           {
            "colorbar": {
             "outlinewidth": 0,
             "ticks": ""
            },
            "type": "mesh3d"
           }
          ],
          "parcoords": [
           {
            "line": {
             "colorbar": {
              "outlinewidth": 0,
              "ticks": ""
             }
            },
            "type": "parcoords"
           }
          ],
          "pie": [
           {
            "automargin": true,
            "type": "pie"
           }
          ],
          "scatter": [
           {
            "marker": {
             "line": {
              "color": "#283442"
             }
            },
            "type": "scatter"
           }
          ],
          "scatter3d": [
           {
            "line": {
             "colorbar": {
              "outlinewidth": 0,
              "ticks": ""
             }
            },
            "marker": {
             "colorbar": {
              "outlinewidth": 0,
              "ticks": ""
             }
            },
            "type": "scatter3d"
           }
          ],
          "scattercarpet": [
           {
            "marker": {
             "colorbar": {
              "outlinewidth": 0,
              "ticks": ""
             }
            },
            "type": "scattercarpet"
           }
          ],
          "scattergeo": [
           {
            "marker": {
             "colorbar": {
              "outlinewidth": 0,
              "ticks": ""
             }
            },
            "type": "scattergeo"
           }
          ],
          "scattergl": [
           {
            "marker": {
             "line": {
              "color": "#283442"
             }
            },
            "type": "scattergl"
           }
          ],
          "scattermapbox": [
           {
            "marker": {
             "colorbar": {
              "outlinewidth": 0,
              "ticks": ""
             }
            },
            "type": "scattermapbox"
           }
          ],
          "scatterpolar": [
           {
            "marker": {
             "colorbar": {
              "outlinewidth": 0,
              "ticks": ""
             }
            },
            "type": "scatterpolar"
           }
          ],
          "scatterpolargl": [
           {
            "marker": {
             "colorbar": {
              "outlinewidth": 0,
              "ticks": ""
             }
            },
            "type": "scatterpolargl"
           }
          ],
          "scatterternary": [
           {
            "marker": {
             "colorbar": {
              "outlinewidth": 0,
              "ticks": ""
             }
            },
            "type": "scatterternary"
           }
          ],
          "surface": [
           {
            "colorbar": {
             "outlinewidth": 0,
             "ticks": ""
            },
            "colorscale": [
             [
              0,
              "#0d0887"
             ],
             [
              0.1111111111111111,
              "#46039f"
             ],
             [
              0.2222222222222222,
              "#7201a8"
             ],
             [
              0.3333333333333333,
              "#9c179e"
             ],
             [
              0.4444444444444444,
              "#bd3786"
             ],
             [
              0.5555555555555556,
              "#d8576b"
             ],
             [
              0.6666666666666666,
              "#ed7953"
             ],
             [
              0.7777777777777778,
              "#fb9f3a"
             ],
             [
              0.8888888888888888,
              "#fdca26"
             ],
             [
              1,
              "#f0f921"
             ]
            ],
            "type": "surface"
           }
          ],
          "table": [
           {
            "cells": {
             "fill": {
              "color": "#506784"
             },
             "line": {
              "color": "rgb(17,17,17)"
             }
            },
            "header": {
             "fill": {
              "color": "#2a3f5f"
             },
             "line": {
              "color": "rgb(17,17,17)"
             }
            },
            "type": "table"
           }
          ]
         },
         "layout": {
          "annotationdefaults": {
           "arrowcolor": "#f2f5fa",
           "arrowhead": 0,
           "arrowwidth": 1
          },
          "autotypenumbers": "strict",
          "coloraxis": {
           "colorbar": {
            "outlinewidth": 0,
            "ticks": ""
           }
          },
          "colorscale": {
           "diverging": [
            [
             0,
             "#8e0152"
            ],
            [
             0.1,
             "#c51b7d"
            ],
            [
             0.2,
             "#de77ae"
            ],
            [
             0.3,
             "#f1b6da"
            ],
            [
             0.4,
             "#fde0ef"
            ],
            [
             0.5,
             "#f7f7f7"
            ],
            [
             0.6,
             "#e6f5d0"
            ],
            [
             0.7,
             "#b8e186"
            ],
            [
             0.8,
             "#7fbc41"
            ],
            [
             0.9,
             "#4d9221"
            ],
            [
             1,
             "#276419"
            ]
           ],
           "sequential": [
            [
             0,
             "#0d0887"
            ],
            [
             0.1111111111111111,
             "#46039f"
            ],
            [
             0.2222222222222222,
             "#7201a8"
            ],
            [
             0.3333333333333333,
             "#9c179e"
            ],
            [
             0.4444444444444444,
             "#bd3786"
            ],
            [
             0.5555555555555556,
             "#d8576b"
            ],
            [
             0.6666666666666666,
             "#ed7953"
            ],
            [
             0.7777777777777778,
             "#fb9f3a"
            ],
            [
             0.8888888888888888,
             "#fdca26"
            ],
            [
             1,
             "#f0f921"
            ]
           ],
           "sequentialminus": [
            [
             0,
             "#0d0887"
            ],
            [
             0.1111111111111111,
             "#46039f"
            ],
            [
             0.2222222222222222,
             "#7201a8"
            ],
            [
             0.3333333333333333,
             "#9c179e"
            ],
            [
             0.4444444444444444,
             "#bd3786"
            ],
            [
             0.5555555555555556,
             "#d8576b"
            ],
            [
             0.6666666666666666,
             "#ed7953"
            ],
            [
             0.7777777777777778,
             "#fb9f3a"
            ],
            [
             0.8888888888888888,
             "#fdca26"
            ],
            [
             1,
             "#f0f921"
            ]
           ]
          },
          "colorway": [
           "#636efa",
           "#EF553B",
           "#00cc96",
           "#ab63fa",
           "#FFA15A",
           "#19d3f3",
           "#FF6692",
           "#B6E880",
           "#FF97FF",
           "#FECB52"
          ],
          "font": {
           "color": "#f2f5fa"
          },
          "geo": {
           "bgcolor": "rgb(17,17,17)",
           "lakecolor": "rgb(17,17,17)",
           "landcolor": "rgb(17,17,17)",
           "showlakes": true,
           "showland": true,
           "subunitcolor": "#506784"
          },
          "hoverlabel": {
           "align": "left"
          },
          "hovermode": "closest",
          "mapbox": {
           "style": "dark"
          },
          "paper_bgcolor": "rgb(17,17,17)",
          "plot_bgcolor": "rgb(17,17,17)",
          "polar": {
           "angularaxis": {
            "gridcolor": "#506784",
            "linecolor": "#506784",
            "ticks": ""
           },
           "bgcolor": "rgb(17,17,17)",
           "radialaxis": {
            "gridcolor": "#506784",
            "linecolor": "#506784",
            "ticks": ""
           }
          },
          "scene": {
           "xaxis": {
            "backgroundcolor": "rgb(17,17,17)",
            "gridcolor": "#506784",
            "gridwidth": 2,
            "linecolor": "#506784",
            "showbackground": true,
            "ticks": "",
            "zerolinecolor": "#C8D4E3"
           },
           "yaxis": {
            "backgroundcolor": "rgb(17,17,17)",
            "gridcolor": "#506784",
            "gridwidth": 2,
            "linecolor": "#506784",
            "showbackground": true,
            "ticks": "",
            "zerolinecolor": "#C8D4E3"
           },
           "zaxis": {
            "backgroundcolor": "rgb(17,17,17)",
            "gridcolor": "#506784",
            "gridwidth": 2,
            "linecolor": "#506784",
            "showbackground": true,
            "ticks": "",
            "zerolinecolor": "#C8D4E3"
           }
          },
          "shapedefaults": {
           "line": {
            "color": "#f2f5fa"
           }
          },
          "sliderdefaults": {
           "bgcolor": "#C8D4E3",
           "bordercolor": "rgb(17,17,17)",
           "borderwidth": 1,
           "tickwidth": 0
          },
          "ternary": {
           "aaxis": {
            "gridcolor": "#506784",
            "linecolor": "#506784",
            "ticks": ""
           },
           "baxis": {
            "gridcolor": "#506784",
            "linecolor": "#506784",
            "ticks": ""
           },
           "bgcolor": "rgb(17,17,17)",
           "caxis": {
            "gridcolor": "#506784",
            "linecolor": "#506784",
            "ticks": ""
           }
          },
          "title": {
           "x": 0.05
          },
          "updatemenudefaults": {
           "bgcolor": "#506784",
           "borderwidth": 0
          },
          "xaxis": {
           "automargin": true,
           "gridcolor": "#283442",
           "linecolor": "#506784",
           "ticks": "",
           "title": {
            "standoff": 15
           },
           "zerolinecolor": "#283442",
           "zerolinewidth": 2
          },
          "yaxis": {
           "automargin": true,
           "gridcolor": "#283442",
           "linecolor": "#506784",
           "ticks": "",
           "title": {
            "standoff": 15
           },
           "zerolinecolor": "#283442",
           "zerolinewidth": 2
          }
         }
        },
        "xaxis": {
         "anchor": "y",
         "domain": [
          0,
          1
         ],
         "title": {
          "text": "serve_choke_pct"
         }
        },
        "yaxis": {
         "anchor": "x",
         "domain": [
          0,
          1
         ],
         "title": {
          "text": "receive_choke_pct"
         }
        }
       }
      },
      "text/html": [
       "<div>                            <div id=\"571c886e-770c-4f9c-855f-ff8546fd94c7\" class=\"plotly-graph-div\" style=\"height:525px; width:100%;\"></div>            <script type=\"text/javascript\">                require([\"plotly\"], function(Plotly) {                    window.PLOTLYENV=window.PLOTLYENV || {};                                    if (document.getElementById(\"571c886e-770c-4f9c-855f-ff8546fd94c7\")) {                    Plotly.newPlot(                        \"571c886e-770c-4f9c-855f-ff8546fd94c7\",                        [{\"hovertemplate\": \"<b>%{hovertext}</b><br><br>name=R Nadal<br>serve_choke_pct=%{x}<br>receive_choke_pct=%{y}<extra></extra>\", \"hovertext\": [\"R Nadal\"], \"legendgroup\": \"R Nadal\", \"marker\": {\"color\": \"#636efa\", \"symbol\": \"circle\"}, \"mode\": \"markers\", \"name\": \"R Nadal\", \"orientation\": \"v\", \"showlegend\": true, \"type\": \"scatter\", \"x\": [0.0014370853988639], \"xaxis\": \"x\", \"y\": [0.0020509227817859], \"yaxis\": \"y\"}, {\"hovertemplate\": \"<b>%{hovertext}</b><br><br>name=S Wawrinka<br>serve_choke_pct=%{x}<br>receive_choke_pct=%{y}<extra></extra>\", \"hovertext\": [\"S Wawrinka\"], \"legendgroup\": \"S Wawrinka\", \"marker\": {\"color\": \"#EF553B\", \"symbol\": \"circle\"}, \"mode\": \"markers\", \"name\": \"S Wawrinka\", \"orientation\": \"v\", \"showlegend\": true, \"type\": \"scatter\", \"x\": [-0.0132801027796965], \"xaxis\": \"x\", \"y\": [0.0195781078787915], \"yaxis\": \"y\"}, {\"hovertemplate\": \"<b>%{hovertext}</b><br><br>name=D Medvedev<br>serve_choke_pct=%{x}<br>receive_choke_pct=%{y}<extra></extra>\", \"hovertext\": [\"D Medvedev\"], \"legendgroup\": \"D Medvedev\", \"marker\": {\"color\": \"#00cc96\", \"symbol\": \"circle\"}, \"mode\": \"markers\", \"name\": \"D Medvedev\", \"orientation\": \"v\", \"showlegend\": true, \"type\": \"scatter\", \"x\": [0.0573149580908562], \"xaxis\": \"x\", \"y\": [-0.0190518764034745], \"yaxis\": \"y\"}, {\"hovertemplate\": \"<b>%{hovertext}</b><br><br>name=A Murray<br>serve_choke_pct=%{x}<br>receive_choke_pct=%{y}<extra></extra>\", \"hovertext\": [\"A Murray\"], \"legendgroup\": \"A Murray\", \"marker\": {\"color\": \"#ab63fa\", \"symbol\": \"circle\"}, \"mode\": \"markers\", \"name\": \"A Murray\", \"orientation\": \"v\", \"showlegend\": true, \"type\": \"scatter\", \"x\": [0.0252478942674824], \"xaxis\": \"x\", \"y\": [0.0163570960864456], \"yaxis\": \"y\"}, {\"hovertemplate\": \"<b>%{hovertext}</b><br><br>name=N Djokovic<br>serve_choke_pct=%{x}<br>receive_choke_pct=%{y}<extra></extra>\", \"hovertext\": [\"N Djokovic\"], \"legendgroup\": \"N Djokovic\", \"marker\": {\"color\": \"#FFA15A\", \"symbol\": \"circle\"}, \"mode\": \"markers\", \"name\": \"N Djokovic\", \"orientation\": \"v\", \"showlegend\": true, \"type\": \"scatter\", \"x\": [0.0190787581526402], \"xaxis\": \"x\", \"y\": [0.0242044805395236], \"yaxis\": \"y\"}, {\"hovertemplate\": \"<b>%{hovertext}</b><br><br>name=D Thiem<br>serve_choke_pct=%{x}<br>receive_choke_pct=%{y}<extra></extra>\", \"hovertext\": [\"D Thiem\"], \"legendgroup\": \"D Thiem\", \"marker\": {\"color\": \"#19d3f3\", \"symbol\": \"circle\"}, \"mode\": \"markers\", \"name\": \"D Thiem\", \"orientation\": \"v\", \"showlegend\": true, \"type\": \"scatter\", \"x\": [0.0148770357896852], \"xaxis\": \"x\", \"y\": [0.0385913191993249], \"yaxis\": \"y\"}, {\"hovertemplate\": \"<b>%{hovertext}</b><br><br>name=M Cilic<br>serve_choke_pct=%{x}<br>receive_choke_pct=%{y}<extra></extra>\", \"hovertext\": [\"M Cilic\"], \"legendgroup\": \"M Cilic\", \"marker\": {\"color\": \"#FF6692\", \"symbol\": \"circle\"}, \"mode\": \"markers\", \"name\": \"M Cilic\", \"orientation\": \"v\", \"showlegend\": true, \"type\": \"scatter\", \"x\": [0.0209457576460968], \"xaxis\": \"x\", \"y\": [0.0340802258043295], \"yaxis\": \"y\"}, {\"hovertemplate\": \"<b>%{hovertext}</b><br><br>name=R Federer<br>serve_choke_pct=%{x}<br>receive_choke_pct=%{y}<extra></extra>\", \"hovertext\": [\"R Federer\"], \"legendgroup\": \"R Federer\", \"marker\": {\"color\": \"#B6E880\", \"symbol\": \"circle\"}, \"mode\": \"markers\", \"name\": \"R Federer\", \"orientation\": \"v\", \"showlegend\": true, \"type\": \"scatter\", \"x\": [0.034419796435154], \"xaxis\": \"x\", \"y\": [0.0332220549080191], \"yaxis\": \"y\"}],                        {\"legend\": {\"title\": {\"text\": \"name\"}, \"tracegroupgap\": 0}, \"margin\": {\"t\": 60}, \"template\": {\"data\": {\"bar\": [{\"error_x\": {\"color\": \"#f2f5fa\"}, \"error_y\": {\"color\": \"#f2f5fa\"}, \"marker\": {\"line\": {\"color\": \"rgb(17,17,17)\", \"width\": 0.5}}, \"type\": \"bar\"}], \"barpolar\": [{\"marker\": {\"line\": {\"color\": \"rgb(17,17,17)\", \"width\": 0.5}}, \"type\": \"barpolar\"}], \"carpet\": [{\"aaxis\": {\"endlinecolor\": \"#A2B1C6\", \"gridcolor\": \"#506784\", \"linecolor\": \"#506784\", \"minorgridcolor\": \"#506784\", \"startlinecolor\": \"#A2B1C6\"}, \"baxis\": {\"endlinecolor\": \"#A2B1C6\", \"gridcolor\": \"#506784\", \"linecolor\": \"#506784\", \"minorgridcolor\": \"#506784\", \"startlinecolor\": \"#A2B1C6\"}, \"type\": \"carpet\"}], \"choropleth\": [{\"colorbar\": {\"outlinewidth\": 0, \"ticks\": \"\"}, \"type\": \"choropleth\"}], \"contour\": [{\"colorbar\": {\"outlinewidth\": 0, \"ticks\": \"\"}, \"colorscale\": [[0.0, \"#0d0887\"], [0.1111111111111111, \"#46039f\"], [0.2222222222222222, \"#7201a8\"], [0.3333333333333333, \"#9c179e\"], [0.4444444444444444, \"#bd3786\"], [0.5555555555555556, \"#d8576b\"], [0.6666666666666666, \"#ed7953\"], [0.7777777777777778, \"#fb9f3a\"], [0.8888888888888888, \"#fdca26\"], [1.0, \"#f0f921\"]], \"type\": \"contour\"}], \"contourcarpet\": [{\"colorbar\": {\"outlinewidth\": 0, \"ticks\": \"\"}, \"type\": \"contourcarpet\"}], \"heatmap\": [{\"colorbar\": {\"outlinewidth\": 0, \"ticks\": \"\"}, \"colorscale\": [[0.0, \"#0d0887\"], [0.1111111111111111, \"#46039f\"], [0.2222222222222222, \"#7201a8\"], [0.3333333333333333, \"#9c179e\"], [0.4444444444444444, \"#bd3786\"], [0.5555555555555556, \"#d8576b\"], [0.6666666666666666, \"#ed7953\"], [0.7777777777777778, \"#fb9f3a\"], [0.8888888888888888, \"#fdca26\"], [1.0, \"#f0f921\"]], \"type\": \"heatmap\"}], \"heatmapgl\": [{\"colorbar\": {\"outlinewidth\": 0, \"ticks\": \"\"}, \"colorscale\": [[0.0, \"#0d0887\"], [0.1111111111111111, \"#46039f\"], [0.2222222222222222, \"#7201a8\"], [0.3333333333333333, \"#9c179e\"], [0.4444444444444444, \"#bd3786\"], [0.5555555555555556, \"#d8576b\"], [0.6666666666666666, \"#ed7953\"], [0.7777777777777778, \"#fb9f3a\"], [0.8888888888888888, \"#fdca26\"], [1.0, \"#f0f921\"]], \"type\": \"heatmapgl\"}], \"histogram\": [{\"marker\": {\"colorbar\": {\"outlinewidth\": 0, \"ticks\": \"\"}}, \"type\": \"histogram\"}], \"histogram2d\": [{\"colorbar\": {\"outlinewidth\": 0, \"ticks\": \"\"}, \"colorscale\": [[0.0, \"#0d0887\"], [0.1111111111111111, \"#46039f\"], [0.2222222222222222, \"#7201a8\"], [0.3333333333333333, \"#9c179e\"], [0.4444444444444444, \"#bd3786\"], [0.5555555555555556, \"#d8576b\"], [0.6666666666666666, \"#ed7953\"], [0.7777777777777778, \"#fb9f3a\"], [0.8888888888888888, \"#fdca26\"], [1.0, \"#f0f921\"]], \"type\": \"histogram2d\"}], \"histogram2dcontour\": [{\"colorbar\": {\"outlinewidth\": 0, \"ticks\": \"\"}, \"colorscale\": [[0.0, \"#0d0887\"], [0.1111111111111111, \"#46039f\"], [0.2222222222222222, \"#7201a8\"], [0.3333333333333333, \"#9c179e\"], [0.4444444444444444, \"#bd3786\"], [0.5555555555555556, \"#d8576b\"], [0.6666666666666666, \"#ed7953\"], [0.7777777777777778, \"#fb9f3a\"], [0.8888888888888888, \"#fdca26\"], [1.0, \"#f0f921\"]], \"type\": \"histogram2dcontour\"}], \"mesh3d\": [{\"colorbar\": {\"outlinewidth\": 0, \"ticks\": \"\"}, \"type\": \"mesh3d\"}], \"parcoords\": [{\"line\": {\"colorbar\": {\"outlinewidth\": 0, \"ticks\": \"\"}}, \"type\": \"parcoords\"}], \"pie\": [{\"automargin\": true, \"type\": \"pie\"}], \"scatter\": [{\"marker\": {\"line\": {\"color\": \"#283442\"}}, \"type\": \"scatter\"}], \"scatter3d\": [{\"line\": {\"colorbar\": {\"outlinewidth\": 0, \"ticks\": \"\"}}, \"marker\": {\"colorbar\": {\"outlinewidth\": 0, \"ticks\": \"\"}}, \"type\": \"scatter3d\"}], \"scattercarpet\": [{\"marker\": {\"colorbar\": {\"outlinewidth\": 0, \"ticks\": \"\"}}, \"type\": \"scattercarpet\"}], \"scattergeo\": [{\"marker\": {\"colorbar\": {\"outlinewidth\": 0, \"ticks\": \"\"}}, \"type\": \"scattergeo\"}], \"scattergl\": [{\"marker\": {\"line\": {\"color\": \"#283442\"}}, \"type\": \"scattergl\"}], \"scattermapbox\": [{\"marker\": {\"colorbar\": {\"outlinewidth\": 0, \"ticks\": \"\"}}, \"type\": \"scattermapbox\"}], \"scatterpolar\": [{\"marker\": {\"colorbar\": {\"outlinewidth\": 0, \"ticks\": \"\"}}, \"type\": \"scatterpolar\"}], \"scatterpolargl\": [{\"marker\": {\"colorbar\": {\"outlinewidth\": 0, \"ticks\": \"\"}}, \"type\": \"scatterpolargl\"}], \"scatterternary\": [{\"marker\": {\"colorbar\": {\"outlinewidth\": 0, \"ticks\": \"\"}}, \"type\": \"scatterternary\"}], \"surface\": [{\"colorbar\": {\"outlinewidth\": 0, \"ticks\": \"\"}, \"colorscale\": [[0.0, \"#0d0887\"], [0.1111111111111111, \"#46039f\"], [0.2222222222222222, \"#7201a8\"], [0.3333333333333333, \"#9c179e\"], [0.4444444444444444, \"#bd3786\"], [0.5555555555555556, \"#d8576b\"], [0.6666666666666666, \"#ed7953\"], [0.7777777777777778, \"#fb9f3a\"], [0.8888888888888888, \"#fdca26\"], [1.0, \"#f0f921\"]], \"type\": \"surface\"}], \"table\": [{\"cells\": {\"fill\": {\"color\": \"#506784\"}, \"line\": {\"color\": \"rgb(17,17,17)\"}}, \"header\": {\"fill\": {\"color\": \"#2a3f5f\"}, \"line\": {\"color\": \"rgb(17,17,17)\"}}, \"type\": \"table\"}]}, \"layout\": {\"annotationdefaults\": {\"arrowcolor\": \"#f2f5fa\", \"arrowhead\": 0, \"arrowwidth\": 1}, \"autotypenumbers\": \"strict\", \"coloraxis\": {\"colorbar\": {\"outlinewidth\": 0, \"ticks\": \"\"}}, \"colorscale\": {\"diverging\": [[0, \"#8e0152\"], [0.1, \"#c51b7d\"], [0.2, \"#de77ae\"], [0.3, \"#f1b6da\"], [0.4, \"#fde0ef\"], [0.5, \"#f7f7f7\"], [0.6, \"#e6f5d0\"], [0.7, \"#b8e186\"], [0.8, \"#7fbc41\"], [0.9, \"#4d9221\"], [1, \"#276419\"]], \"sequential\": [[0.0, \"#0d0887\"], [0.1111111111111111, \"#46039f\"], [0.2222222222222222, \"#7201a8\"], [0.3333333333333333, \"#9c179e\"], [0.4444444444444444, \"#bd3786\"], [0.5555555555555556, \"#d8576b\"], [0.6666666666666666, \"#ed7953\"], [0.7777777777777778, \"#fb9f3a\"], [0.8888888888888888, \"#fdca26\"], [1.0, \"#f0f921\"]], \"sequentialminus\": [[0.0, \"#0d0887\"], [0.1111111111111111, \"#46039f\"], [0.2222222222222222, \"#7201a8\"], [0.3333333333333333, \"#9c179e\"], [0.4444444444444444, \"#bd3786\"], [0.5555555555555556, \"#d8576b\"], [0.6666666666666666, \"#ed7953\"], [0.7777777777777778, \"#fb9f3a\"], [0.8888888888888888, \"#fdca26\"], [1.0, \"#f0f921\"]]}, \"colorway\": [\"#636efa\", \"#EF553B\", \"#00cc96\", \"#ab63fa\", \"#FFA15A\", \"#19d3f3\", \"#FF6692\", \"#B6E880\", \"#FF97FF\", \"#FECB52\"], \"font\": {\"color\": \"#f2f5fa\"}, \"geo\": {\"bgcolor\": \"rgb(17,17,17)\", \"lakecolor\": \"rgb(17,17,17)\", \"landcolor\": \"rgb(17,17,17)\", \"showlakes\": true, \"showland\": true, \"subunitcolor\": \"#506784\"}, \"hoverlabel\": {\"align\": \"left\"}, \"hovermode\": \"closest\", \"mapbox\": {\"style\": \"dark\"}, \"paper_bgcolor\": \"rgb(17,17,17)\", \"plot_bgcolor\": \"rgb(17,17,17)\", \"polar\": {\"angularaxis\": {\"gridcolor\": \"#506784\", \"linecolor\": \"#506784\", \"ticks\": \"\"}, \"bgcolor\": \"rgb(17,17,17)\", \"radialaxis\": {\"gridcolor\": \"#506784\", \"linecolor\": \"#506784\", \"ticks\": \"\"}}, \"scene\": {\"xaxis\": {\"backgroundcolor\": \"rgb(17,17,17)\", \"gridcolor\": \"#506784\", \"gridwidth\": 2, \"linecolor\": \"#506784\", \"showbackground\": true, \"ticks\": \"\", \"zerolinecolor\": \"#C8D4E3\"}, \"yaxis\": {\"backgroundcolor\": \"rgb(17,17,17)\", \"gridcolor\": \"#506784\", \"gridwidth\": 2, \"linecolor\": \"#506784\", \"showbackground\": true, \"ticks\": \"\", \"zerolinecolor\": \"#C8D4E3\"}, \"zaxis\": {\"backgroundcolor\": \"rgb(17,17,17)\", \"gridcolor\": \"#506784\", \"gridwidth\": 2, \"linecolor\": \"#506784\", \"showbackground\": true, \"ticks\": \"\", \"zerolinecolor\": \"#C8D4E3\"}}, \"shapedefaults\": {\"line\": {\"color\": \"#f2f5fa\"}}, \"sliderdefaults\": {\"bgcolor\": \"#C8D4E3\", \"bordercolor\": \"rgb(17,17,17)\", \"borderwidth\": 1, \"tickwidth\": 0}, \"ternary\": {\"aaxis\": {\"gridcolor\": \"#506784\", \"linecolor\": \"#506784\", \"ticks\": \"\"}, \"baxis\": {\"gridcolor\": \"#506784\", \"linecolor\": \"#506784\", \"ticks\": \"\"}, \"bgcolor\": \"rgb(17,17,17)\", \"caxis\": {\"gridcolor\": \"#506784\", \"linecolor\": \"#506784\", \"ticks\": \"\"}}, \"title\": {\"x\": 0.05}, \"updatemenudefaults\": {\"bgcolor\": \"#506784\", \"borderwidth\": 0}, \"xaxis\": {\"automargin\": true, \"gridcolor\": \"#283442\", \"linecolor\": \"#506784\", \"ticks\": \"\", \"title\": {\"standoff\": 15}, \"zerolinecolor\": \"#283442\", \"zerolinewidth\": 2}, \"yaxis\": {\"automargin\": true, \"gridcolor\": \"#283442\", \"linecolor\": \"#506784\", \"ticks\": \"\", \"title\": {\"standoff\": 15}, \"zerolinecolor\": \"#283442\", \"zerolinewidth\": 2}}}, \"xaxis\": {\"anchor\": \"y\", \"domain\": [0.0, 1.0], \"title\": {\"text\": \"serve_choke_pct\"}}, \"yaxis\": {\"anchor\": \"x\", \"domain\": [0.0, 1.0], \"title\": {\"text\": \"receive_choke_pct\"}}},                        {\"responsive\": true}                    ).then(function(){\n",
       "                            \n",
       "var gd = document.getElementById('571c886e-770c-4f9c-855f-ff8546fd94c7');\n",
       "var x = new MutationObserver(function (mutations, observer) {{\n",
       "        var display = window.getComputedStyle(gd).display;\n",
       "        if (!display || display === 'none') {{\n",
       "            console.log([gd, 'removed!']);\n",
       "            Plotly.purge(gd);\n",
       "            observer.disconnect();\n",
       "        }}\n",
       "}});\n",
       "\n",
       "// Listen for the removal of the full notebook cells\n",
       "var notebookContainer = gd.closest('#notebook-container');\n",
       "if (notebookContainer) {{\n",
       "    x.observe(notebookContainer, {childList: true});\n",
       "}}\n",
       "\n",
       "// Listen for the clearing of the current output cell\n",
       "var outputEl = gd.closest('.output');\n",
       "if (outputEl) {{\n",
       "    x.observe(outputEl, {childList: true});\n",
       "}}\n",
       "\n",
       "                        })                };                });            </script>        </div>"
      ]
     },
     "metadata": {},
     "output_type": "display_data"
    }
   ],
   "source": [
    "fig = px.scatter(data_frame=df2, x=\"serve_choke_pct\", y=\"receive_choke_pct\", hover_name='name', color='name')\n",
    "fig.show()"
   ]
  },
  {
   "cell_type": "code",
   "execution_count": 29,
   "metadata": {
    "collapsed": false,
    "pycharm": {
     "name": "#%%\n"
    }
   },
   "outputs": [
    {
     "data": {
      "text/html": [
       "<div>\n",
       "<style scoped>\n",
       "    .dataframe tbody tr th:only-of-type {\n",
       "        vertical-align: middle;\n",
       "    }\n",
       "\n",
       "    .dataframe tbody tr th {\n",
       "        vertical-align: top;\n",
       "    }\n",
       "\n",
       "    .dataframe thead th {\n",
       "        text-align: right;\n",
       "    }\n",
       "</style>\n",
       "<table border=\"1\" class=\"dataframe\">\n",
       "  <thead>\n",
       "    <tr style=\"text-align: right;\">\n",
       "      <th></th>\n",
       "      <th>name</th>\n",
       "      <th>receive_nobreak_won</th>\n",
       "      <th>receive_nobreak_faced</th>\n",
       "      <th>serve_nobreak_won</th>\n",
       "      <th>serve_nobreak_faced</th>\n",
       "      <th>receive_break_won</th>\n",
       "      <th>receive_break_faced</th>\n",
       "      <th>serve_break_won</th>\n",
       "      <th>serve_break_faced</th>\n",
       "      <th>serve_nobreak_pct</th>\n",
       "      <th>serve_break_pct</th>\n",
       "      <th>receive_nobreak_pct</th>\n",
       "      <th>receive_break_pct</th>\n",
       "      <th>serve_choke_pct</th>\n",
       "      <th>receive_choke_pct</th>\n",
       "      <th>choke_pct</th>\n",
       "    </tr>\n",
       "  </thead>\n",
       "  <tbody>\n",
       "    <tr>\n",
       "      <th>66</th>\n",
       "      <td>R Nadal</td>\n",
       "      <td>7332</td>\n",
       "      <td>17095</td>\n",
       "      <td>11621</td>\n",
       "      <td>16894</td>\n",
       "      <td>1086</td>\n",
       "      <td>2314</td>\n",
       "      <td>814</td>\n",
       "      <td>1212</td>\n",
       "      <td>0.687596</td>\n",
       "      <td>0.666159</td>\n",
       "      <td>0.428497</td>\n",
       "      <td>0.466446</td>\n",
       "      <td>0.001437</td>\n",
       "      <td>0.002051</td>\n",
       "      <td>0.001744</td>\n",
       "    </tr>\n",
       "    <tr>\n",
       "      <th>157</th>\n",
       "      <td>N Djokovic</td>\n",
       "      <td>10370</td>\n",
       "      <td>24036</td>\n",
       "      <td>16195</td>\n",
       "      <td>23376</td>\n",
       "      <td>1455</td>\n",
       "      <td>3245</td>\n",
       "      <td>1032</td>\n",
       "      <td>1571</td>\n",
       "      <td>0.692580</td>\n",
       "      <td>0.653501</td>\n",
       "      <td>0.431140</td>\n",
       "      <td>0.446936</td>\n",
       "      <td>0.019079</td>\n",
       "      <td>0.024204</td>\n",
       "      <td>0.021642</td>\n",
       "    </tr>\n",
       "  </tbody>\n",
       "</table>\n",
       "</div>"
      ],
      "text/plain": [
       "           name  receive_nobreak_won  receive_nobreak_faced  \\\n",
       "66      R Nadal                 7332                  17095   \n",
       "157  N Djokovic                10370                  24036   \n",
       "\n",
       "     serve_nobreak_won  serve_nobreak_faced  receive_break_won  \\\n",
       "66               11621                16894               1086   \n",
       "157              16195                23376               1455   \n",
       "\n",
       "     receive_break_faced  serve_break_won  serve_break_faced  \\\n",
       "66                  2314              814               1212   \n",
       "157                 3245             1032               1571   \n",
       "\n",
       "     serve_nobreak_pct  serve_break_pct  receive_nobreak_pct  \\\n",
       "66            0.687596         0.666159             0.428497   \n",
       "157           0.692580         0.653501             0.431140   \n",
       "\n",
       "     receive_break_pct  serve_choke_pct  receive_choke_pct  choke_pct  \n",
       "66            0.466446         0.001437           0.002051   0.001744  \n",
       "157           0.446936         0.019079           0.024204   0.021642  "
      ]
     },
     "execution_count": 29,
     "metadata": {},
     "output_type": "execute_result"
    }
   ],
   "source": [
    "#[66, 76, 80, 151, 152, 155, 157, 170, 172, 181, 185]\n",
    "df5 = df.iloc[[152, 170, 172], range(0, 16)]\n",
    "df3 = df.iloc[[76, 155, 181], range(0, 16)]\n",
    "df4 = df.iloc[[66, 157], range(0, 16)]\n",
    "df4"
   ]
  },
  {
   "cell_type": "code",
   "execution_count": 30,
   "metadata": {
    "collapsed": false,
    "pycharm": {
     "name": "#%%\n"
    }
   },
   "outputs": [
    {
     "data": {
      "image/png": "[encoded data removed]",
      "text/plain": [
       "<Figure size 1250x750 with 1 Axes>"
      ]
     },
     "metadata": {},
     "output_type": "display_data"
    }
   ],
   "source": [
    "plt.rcParams[\"figure.figsize\"] = (12.5,7.5)\n",
    "plt.scatter(df.serve_choke_pct, df.receive_choke_pct, color=\"blue\", label=\"Players without Grand Slam\")\n",
    "plt.scatter(df5.serve_choke_pct, df5.receive_choke_pct, color=\"orange\", label=\"Players winning 1 Grand Slam\")\n",
    "plt.scatter(df3.serve_choke_pct, df3.receive_choke_pct, color=\"green\", label=\"Players winning more than 1 Grand Slam\")\n",
    "plt.scatter(df4.serve_choke_pct, df4.receive_choke_pct, color=\"red\", label=\"Players winning more than 10 Grand Slams\")\n",
    "for i in range(df2.shape[0]):\n",
    "    plt.annotate(df2.name.tolist()[i], (df2.serve_choke_pct.tolist()[i], df2.receive_choke_pct.tolist()[i]))\n",
    "sns.set_style(\"whitegrid\")\n",
    "plt.xlabel(\"Choking point when serving\", fontsize=15)\n",
    "plt.ylabel(\"Choking point when receiving\", fontsize=15)\n",
    "plt.title(\"Choking point of tennis players in Grand Slam 2011 - 2021\", fontsize=20)\n",
    "plt.legend()\n",
    "plt.savefig(\"../plots/choke.png\")"
   ]
  },
  {
   "cell_type": "code",
   "execution_count": 31,
   "metadata": {
    "collapsed": false,
    "pycharm": {
     "name": "#%%\n"
    }
   },
   "outputs": [
    {
     "data": {
      "image/png": "[encoded data removed]",
      "text/plain": [
       "<Figure size 1250x750 with 1 Axes>"
      ]
     },
     "metadata": {},
     "output_type": "display_data"
    }
   ],
   "source": [
    "plt.figure(figsize=(12.5, 7.5), edgecolor='black')\n",
    "plt.scatter(df.serve_choke_pct, df.receive_choke_pct, color=\"blue\", label=\"Other players\")\n",
    "plt.scatter(df5.serve_choke_pct, df5.receive_choke_pct, color=\"orange\", label=\"Players winning 1 Grand Slam\")\n",
    "plt.scatter(df3.serve_choke_pct, df3.receive_choke_pct, color=\"green\", label=\"Players winning more than 1 Grand Slam\")\n",
    "plt.scatter(df4.serve_choke_pct, df4.receive_choke_pct, color=\"red\", label=\"Players winning more than 10 Grand Slams\")\n",
    "for i in range(df2.shape[0]):\n",
    "    plt.annotate(df2.name.tolist()[i], (df2.serve_choke_pct.tolist()[i], df2.receive_choke_pct.tolist()[i]), fontsize=10, weight='bold', ha='center', va='bottom')\n",
    "sns.set_style(\"whitegrid\")\n",
    "plt.xlabel(\"Choking percentage when serving\", fontsize=15)\n",
    "plt.ylabel(\"Choking percentage when receiving\", fontsize=15)\n",
    "plt.title(\"Choking percentage of Grand Slam champions 2011 - 2021\", fontsize=20)\n",
    "plt.legend(prop={'size': 10}, loc=3)\n",
    "plt.axhline(linewidth=1, color='black', linestyle='dashed')\n",
    "plt.axvline(linewidth=1, color='black', linestyle='dashed')\n",
    "plt.savefig(\"../plots/choke2.png\")"
   ]
  },
  {
   "cell_type": "code",
   "execution_count": 32,
   "metadata": {
    "collapsed": false,
    "pycharm": {
     "name": "#%%\n"
    }
   },
   "outputs": [
    {
     "data": {
      "text/html": [
       "<div>\n",
       "<style scoped>\n",
       "    .dataframe tbody tr th:only-of-type {\n",
       "        vertical-align: middle;\n",
       "    }\n",
       "\n",
       "    .dataframe tbody tr th {\n",
       "        vertical-align: top;\n",
       "    }\n",
       "\n",
       "    .dataframe thead th {\n",
       "        text-align: right;\n",
       "    }\n",
       "</style>\n",
       "<table border=\"1\" class=\"dataframe\">\n",
       "  <thead>\n",
       "    <tr style=\"text-align: right;\">\n",
       "      <th></th>\n",
       "      <th>name</th>\n",
       "      <th>receive_nobreak_won</th>\n",
       "      <th>receive_nobreak_faced</th>\n",
       "      <th>serve_nobreak_won</th>\n",
       "      <th>serve_nobreak_faced</th>\n",
       "      <th>receive_break_won</th>\n",
       "      <th>receive_break_faced</th>\n",
       "      <th>serve_break_won</th>\n",
       "      <th>serve_break_faced</th>\n",
       "      <th>serve_nobreak_pct</th>\n",
       "      <th>serve_break_pct</th>\n",
       "      <th>receive_nobreak_pct</th>\n",
       "      <th>receive_break_pct</th>\n",
       "      <th>serve_choke_pct</th>\n",
       "      <th>receive_choke_pct</th>\n",
       "      <th>choke_pct</th>\n",
       "    </tr>\n",
       "  </thead>\n",
       "  <tbody>\n",
       "    <tr>\n",
       "      <th>0</th>\n",
       "      <td>A Ward</td>\n",
       "      <td>37</td>\n",
       "      <td>153</td>\n",
       "      <td>83</td>\n",
       "      <td>164</td>\n",
       "      <td>1</td>\n",
       "      <td>2</td>\n",
       "      <td>19</td>\n",
       "      <td>31</td>\n",
       "      <td>0.556818</td>\n",
       "      <td>0.603053</td>\n",
       "      <td>0.288538</td>\n",
       "      <td>0.401961</td>\n",
       "      <td>-0.066235</td>\n",
       "      <td>-0.073423</td>\n",
       "      <td>-0.069829</td>\n",
       "    </tr>\n",
       "    <tr>\n",
       "      <th>1</th>\n",
       "      <td>A Golubev</td>\n",
       "      <td>146</td>\n",
       "      <td>434</td>\n",
       "      <td>225</td>\n",
       "      <td>456</td>\n",
       "      <td>15</td>\n",
       "      <td>32</td>\n",
       "      <td>53</td>\n",
       "      <td>90</td>\n",
       "      <td>0.519784</td>\n",
       "      <td>0.594737</td>\n",
       "      <td>0.340824</td>\n",
       "      <td>0.416667</td>\n",
       "      <td>-0.094953</td>\n",
       "      <td>-0.035843</td>\n",
       "      <td>-0.065398</td>\n",
       "    </tr>\n",
       "    <tr>\n",
       "      <th>2</th>\n",
       "      <td>R Schuettler</td>\n",
       "      <td>36</td>\n",
       "      <td>134</td>\n",
       "      <td>74</td>\n",
       "      <td>153</td>\n",
       "      <td>1</td>\n",
       "      <td>2</td>\n",
       "      <td>20</td>\n",
       "      <td>33</td>\n",
       "      <td>0.545455</td>\n",
       "      <td>0.601504</td>\n",
       "      <td>0.307692</td>\n",
       "      <td>0.401961</td>\n",
       "      <td>-0.076049</td>\n",
       "      <td>-0.054268</td>\n",
       "      <td>-0.065159</td>\n",
       "    </tr>\n",
       "    <tr>\n",
       "      <th>3</th>\n",
       "      <td>O Rochus</td>\n",
       "      <td>72</td>\n",
       "      <td>323</td>\n",
       "      <td>198</td>\n",
       "      <td>357</td>\n",
       "      <td>3</td>\n",
       "      <td>10</td>\n",
       "      <td>26</td>\n",
       "      <td>47</td>\n",
       "      <td>0.573304</td>\n",
       "      <td>0.585034</td>\n",
       "      <td>0.255319</td>\n",
       "      <td>0.390909</td>\n",
       "      <td>-0.031730</td>\n",
       "      <td>-0.095590</td>\n",
       "      <td>-0.063660</td>\n",
       "    </tr>\n",
       "    <tr>\n",
       "      <th>4</th>\n",
       "      <td>T De Bakker</td>\n",
       "      <td>116</td>\n",
       "      <td>426</td>\n",
       "      <td>280</td>\n",
       "      <td>480</td>\n",
       "      <td>7</td>\n",
       "      <td>19</td>\n",
       "      <td>46</td>\n",
       "      <td>70</td>\n",
       "      <td>0.593103</td>\n",
       "      <td>0.623529</td>\n",
       "      <td>0.288973</td>\n",
       "      <td>0.394958</td>\n",
       "      <td>-0.050426</td>\n",
       "      <td>-0.065985</td>\n",
       "      <td>-0.058205</td>\n",
       "    </tr>\n",
       "    <tr>\n",
       "      <th>...</th>\n",
       "      <td>...</td>\n",
       "      <td>...</td>\n",
       "      <td>...</td>\n",
       "      <td>...</td>\n",
       "      <td>...</td>\n",
       "      <td>...</td>\n",
       "      <td>...</td>\n",
       "      <td>...</td>\n",
       "      <td>...</td>\n",
       "      <td>...</td>\n",
       "      <td>...</td>\n",
       "      <td>...</td>\n",
       "      <td>...</td>\n",
       "      <td>...</td>\n",
       "      <td>...</td>\n",
       "      <td>...</td>\n",
       "    </tr>\n",
       "    <tr>\n",
       "      <th>443</th>\n",
       "      <td>N Milojevic</td>\n",
       "      <td>110</td>\n",
       "      <td>260</td>\n",
       "      <td>119</td>\n",
       "      <td>184</td>\n",
       "      <td>15</td>\n",
       "      <td>42</td>\n",
       "      <td>16</td>\n",
       "      <td>28</td>\n",
       "      <td>0.644366</td>\n",
       "      <td>0.593750</td>\n",
       "      <td>0.405556</td>\n",
       "      <td>0.387324</td>\n",
       "      <td>0.030616</td>\n",
       "      <td>0.058232</td>\n",
       "      <td>0.044424</td>\n",
       "    </tr>\n",
       "    <tr>\n",
       "      <th>444</th>\n",
       "      <td>I Ivashka</td>\n",
       "      <td>488</td>\n",
       "      <td>1302</td>\n",
       "      <td>818</td>\n",
       "      <td>1262</td>\n",
       "      <td>47</td>\n",
       "      <td>130</td>\n",
       "      <td>62</td>\n",
       "      <td>113</td>\n",
       "      <td>0.647577</td>\n",
       "      <td>0.572770</td>\n",
       "      <td>0.373752</td>\n",
       "      <td>0.378261</td>\n",
       "      <td>0.054807</td>\n",
       "      <td>0.035491</td>\n",
       "      <td>0.045149</td>\n",
       "    </tr>\n",
       "    <tr>\n",
       "      <th>445</th>\n",
       "      <td>E Ruusuvuori</td>\n",
       "      <td>397</td>\n",
       "      <td>974</td>\n",
       "      <td>569</td>\n",
       "      <td>941</td>\n",
       "      <td>51</td>\n",
       "      <td>138</td>\n",
       "      <td>61</td>\n",
       "      <td>117</td>\n",
       "      <td>0.608069</td>\n",
       "      <td>0.557604</td>\n",
       "      <td>0.403166</td>\n",
       "      <td>0.382353</td>\n",
       "      <td>0.030465</td>\n",
       "      <td>0.060813</td>\n",
       "      <td>0.045639</td>\n",
       "    </tr>\n",
       "    <tr>\n",
       "      <th>446</th>\n",
       "      <td>M Fish</td>\n",
       "      <td>986</td>\n",
       "      <td>2519</td>\n",
       "      <td>1622</td>\n",
       "      <td>2386</td>\n",
       "      <td>98</td>\n",
       "      <td>265</td>\n",
       "      <td>98</td>\n",
       "      <td>157</td>\n",
       "      <td>0.678198</td>\n",
       "      <td>0.614786</td>\n",
       "      <td>0.390225</td>\n",
       "      <td>0.378082</td>\n",
       "      <td>0.043412</td>\n",
       "      <td>0.052143</td>\n",
       "      <td>0.047778</td>\n",
       "    </tr>\n",
       "    <tr>\n",
       "      <th>447</th>\n",
       "      <td>K Majchrzak</td>\n",
       "      <td>389</td>\n",
       "      <td>1146</td>\n",
       "      <td>679</td>\n",
       "      <td>1094</td>\n",
       "      <td>30</td>\n",
       "      <td>109</td>\n",
       "      <td>66</td>\n",
       "      <td>129</td>\n",
       "      <td>0.622278</td>\n",
       "      <td>0.550218</td>\n",
       "      <td>0.341091</td>\n",
       "      <td>0.334928</td>\n",
       "      <td>0.052060</td>\n",
       "      <td>0.046163</td>\n",
       "      <td>0.049111</td>\n",
       "    </tr>\n",
       "  </tbody>\n",
       "</table>\n",
       "<p>448 rows × 16 columns</p>\n",
       "</div>"
      ],
      "text/plain": [
       "             name  receive_nobreak_won  receive_nobreak_faced  \\\n",
       "0          A Ward                   37                    153   \n",
       "1       A Golubev                  146                    434   \n",
       "2    R Schuettler                   36                    134   \n",
       "3        O Rochus                   72                    323   \n",
       "4     T De Bakker                  116                    426   \n",
       "..            ...                  ...                    ...   \n",
       "443   N Milojevic                  110                    260   \n",
       "444     I Ivashka                  488                   1302   \n",
       "445  E Ruusuvuori                  397                    974   \n",
       "446        M Fish                  986                   2519   \n",
       "447   K Majchrzak                  389                   1146   \n",
       "\n",
       "     serve_nobreak_won  serve_nobreak_faced  receive_break_won  \\\n",
       "0                   83                  164                  1   \n",
       "1                  225                  456                 15   \n",
       "2                   74                  153                  1   \n",
       "3                  198                  357                  3   \n",
       "4                  280                  480                  7   \n",
       "..                 ...                  ...                ...   \n",
       "443                119                  184                 15   \n",
       "444                818                 1262                 47   \n",
       "445                569                  941                 51   \n",
       "446               1622                 2386                 98   \n",
       "447                679                 1094                 30   \n",
       "\n",
       "     receive_break_faced  serve_break_won  serve_break_faced  \\\n",
       "0                      2               19                 31   \n",
       "1                     32               53                 90   \n",
       "2                      2               20                 33   \n",
       "3                     10               26                 47   \n",
       "4                     19               46                 70   \n",
       "..                   ...              ...                ...   \n",
       "443                   42               16                 28   \n",
       "444                  130               62                113   \n",
       "445                  138               61                117   \n",
       "446                  265               98                157   \n",
       "447                  109               66                129   \n",
       "\n",
       "     serve_nobreak_pct  serve_break_pct  receive_nobreak_pct  \\\n",
       "0             0.556818         0.603053             0.288538   \n",
       "1             0.519784         0.594737             0.340824   \n",
       "2             0.545455         0.601504             0.307692   \n",
       "3             0.573304         0.585034             0.255319   \n",
       "4             0.593103         0.623529             0.288973   \n",
       "..                 ...              ...                  ...   \n",
       "443           0.644366         0.593750             0.405556   \n",
       "444           0.647577         0.572770             0.373752   \n",
       "445           0.608069         0.557604             0.403166   \n",
       "446           0.678198         0.614786             0.390225   \n",
       "447           0.622278         0.550218             0.341091   \n",
       "\n",
       "     receive_break_pct  serve_choke_pct  receive_choke_pct  choke_pct  \n",
       "0             0.401961        -0.066235          -0.073423  -0.069829  \n",
       "1             0.416667        -0.094953          -0.035843  -0.065398  \n",
       "2             0.401961        -0.076049          -0.054268  -0.065159  \n",
       "3             0.390909        -0.031730          -0.095590  -0.063660  \n",
       "4             0.394958        -0.050426          -0.065985  -0.058205  \n",
       "..                 ...              ...                ...        ...  \n",
       "443           0.387324         0.030616           0.058232   0.044424  \n",
       "444           0.378261         0.054807           0.035491   0.045149  \n",
       "445           0.382353         0.030465           0.060813   0.045639  \n",
       "446           0.378082         0.043412           0.052143   0.047778  \n",
       "447           0.334928         0.052060           0.046163   0.049111  \n",
       "\n",
       "[448 rows x 16 columns]"
      ]
     },
     "execution_count": 32,
     "metadata": {},
     "output_type": "execute_result"
    }
   ],
   "source": [
    "df_all = pd.read_csv('../data/all - Copy.csv')\n",
    "df_all"
   ]
  },
  {
   "cell_type": "code",
   "execution_count": 33,
   "metadata": {
    "collapsed": false,
    "pycharm": {
     "name": "#%%\n"
    }
   },
   "outputs": [
    {
     "data": {
      "text/html": [
       "<div>\n",
       "<style scoped>\n",
       "    .dataframe tbody tr th:only-of-type {\n",
       "        vertical-align: middle;\n",
       "    }\n",
       "\n",
       "    .dataframe tbody tr th {\n",
       "        vertical-align: top;\n",
       "    }\n",
       "\n",
       "    .dataframe thead th {\n",
       "        text-align: right;\n",
       "    }\n",
       "</style>\n",
       "<table border=\"1\" class=\"dataframe\">\n",
       "  <thead>\n",
       "    <tr style=\"text-align: right;\">\n",
       "      <th></th>\n",
       "      <th>name</th>\n",
       "      <th>receive_nobreak_won</th>\n",
       "      <th>receive_nobreak_faced</th>\n",
       "      <th>serve_nobreak_won</th>\n",
       "      <th>serve_nobreak_faced</th>\n",
       "      <th>receive_break_won</th>\n",
       "      <th>receive_break_faced</th>\n",
       "      <th>serve_break_won</th>\n",
       "      <th>serve_break_faced</th>\n",
       "      <th>serve_nobreak_pct</th>\n",
       "      <th>serve_break_pct</th>\n",
       "      <th>receive_nobreak_pct</th>\n",
       "      <th>receive_break_pct</th>\n",
       "      <th>serve_choke_pct</th>\n",
       "      <th>receive_choke_pct</th>\n",
       "      <th>choke_pct</th>\n",
       "    </tr>\n",
       "  </thead>\n",
       "  <tbody>\n",
       "    <tr>\n",
       "      <th>254</th>\n",
       "      <td>R Nadal</td>\n",
       "      <td>7332</td>\n",
       "      <td>17095</td>\n",
       "      <td>11621</td>\n",
       "      <td>16894</td>\n",
       "      <td>1086</td>\n",
       "      <td>2314</td>\n",
       "      <td>814</td>\n",
       "      <td>1212</td>\n",
       "      <td>0.687596</td>\n",
       "      <td>0.666159</td>\n",
       "      <td>0.428497</td>\n",
       "      <td>0.466446</td>\n",
       "      <td>0.001437</td>\n",
       "      <td>0.002051</td>\n",
       "      <td>0.001744</td>\n",
       "    </tr>\n",
       "    <tr>\n",
       "      <th>395</th>\n",
       "      <td>N Djokovic</td>\n",
       "      <td>10370</td>\n",
       "      <td>24036</td>\n",
       "      <td>16195</td>\n",
       "      <td>23376</td>\n",
       "      <td>1455</td>\n",
       "      <td>3245</td>\n",
       "      <td>1032</td>\n",
       "      <td>1571</td>\n",
       "      <td>0.692580</td>\n",
       "      <td>0.653501</td>\n",
       "      <td>0.431140</td>\n",
       "      <td>0.446936</td>\n",
       "      <td>0.019079</td>\n",
       "      <td>0.024204</td>\n",
       "      <td>0.021642</td>\n",
       "    </tr>\n",
       "    <tr>\n",
       "      <th>429</th>\n",
       "      <td>R Federer</td>\n",
       "      <td>7417</td>\n",
       "      <td>18504</td>\n",
       "      <td>12585</td>\n",
       "      <td>17600</td>\n",
       "      <td>864</td>\n",
       "      <td>2119</td>\n",
       "      <td>622</td>\n",
       "      <td>933</td>\n",
       "      <td>0.714633</td>\n",
       "      <td>0.660213</td>\n",
       "      <td>0.400613</td>\n",
       "      <td>0.407391</td>\n",
       "      <td>0.034420</td>\n",
       "      <td>0.033222</td>\n",
       "      <td>0.033821</td>\n",
       "    </tr>\n",
       "    <tr>\n",
       "      <th>391</th>\n",
       "      <td>A Murray</td>\n",
       "      <td>6711</td>\n",
       "      <td>16068</td>\n",
       "      <td>10578</td>\n",
       "      <td>15950</td>\n",
       "      <td>871</td>\n",
       "      <td>1966</td>\n",
       "      <td>745</td>\n",
       "      <td>1203</td>\n",
       "      <td>0.663053</td>\n",
       "      <td>0.617805</td>\n",
       "      <td>0.417306</td>\n",
       "      <td>0.440949</td>\n",
       "      <td>0.025248</td>\n",
       "      <td>0.016357</td>\n",
       "      <td>0.020802</td>\n",
       "    </tr>\n",
       "    <tr>\n",
       "      <th>271</th>\n",
       "      <td>S Wawrinka</td>\n",
       "      <td>5508</td>\n",
       "      <td>14784</td>\n",
       "      <td>10144</td>\n",
       "      <td>15097</td>\n",
       "      <td>580</td>\n",
       "      <td>1478</td>\n",
       "      <td>734</td>\n",
       "      <td>1094</td>\n",
       "      <td>0.671712</td>\n",
       "      <td>0.664992</td>\n",
       "      <td>0.372481</td>\n",
       "      <td>0.392902</td>\n",
       "      <td>-0.013280</td>\n",
       "      <td>0.019578</td>\n",
       "      <td>0.003149</td>\n",
       "    </tr>\n",
       "    <tr>\n",
       "      <th>417</th>\n",
       "      <td>M Cilic</td>\n",
       "      <td>5217</td>\n",
       "      <td>13707</td>\n",
       "      <td>9001</td>\n",
       "      <td>13227</td>\n",
       "      <td>533</td>\n",
       "      <td>1383</td>\n",
       "      <td>624</td>\n",
       "      <td>970</td>\n",
       "      <td>0.680198</td>\n",
       "      <td>0.639252</td>\n",
       "      <td>0.380459</td>\n",
       "      <td>0.386379</td>\n",
       "      <td>0.020946</td>\n",
       "      <td>0.034080</td>\n",
       "      <td>0.027513</td>\n",
       "    </tr>\n",
       "    <tr>\n",
       "      <th>414</th>\n",
       "      <td>D Thiem</td>\n",
       "      <td>3963</td>\n",
       "      <td>10121</td>\n",
       "      <td>6522</td>\n",
       "      <td>9847</td>\n",
       "      <td>463</td>\n",
       "      <td>1181</td>\n",
       "      <td>502</td>\n",
       "      <td>796</td>\n",
       "      <td>0.662109</td>\n",
       "      <td>0.627232</td>\n",
       "      <td>0.391253</td>\n",
       "      <td>0.392662</td>\n",
       "      <td>0.014877</td>\n",
       "      <td>0.038591</td>\n",
       "      <td>0.026734</td>\n",
       "    </tr>\n",
       "    <tr>\n",
       "      <th>386</th>\n",
       "      <td>D Medvedev</td>\n",
       "      <td>2324</td>\n",
       "      <td>5813</td>\n",
       "      <td>3868</td>\n",
       "      <td>5749</td>\n",
       "      <td>316</td>\n",
       "      <td>677</td>\n",
       "      <td>269</td>\n",
       "      <td>453</td>\n",
       "      <td>0.672252</td>\n",
       "      <td>0.594937</td>\n",
       "      <td>0.399121</td>\n",
       "      <td>0.458172</td>\n",
       "      <td>0.057315</td>\n",
       "      <td>-0.019052</td>\n",
       "      <td>0.019132</td>\n",
       "    </tr>\n",
       "  </tbody>\n",
       "</table>\n",
       "</div>"
      ],
      "text/plain": [
       "           name  receive_nobreak_won  receive_nobreak_faced  \\\n",
       "254     R Nadal                 7332                  17095   \n",
       "395  N Djokovic                10370                  24036   \n",
       "429   R Federer                 7417                  18504   \n",
       "391    A Murray                 6711                  16068   \n",
       "271  S Wawrinka                 5508                  14784   \n",
       "417     M Cilic                 5217                  13707   \n",
       "414     D Thiem                 3963                  10121   \n",
       "386  D Medvedev                 2324                   5813   \n",
       "\n",
       "     serve_nobreak_won  serve_nobreak_faced  receive_break_won  \\\n",
       "254              11621                16894               1086   \n",
       "395              16195                23376               1455   \n",
       "429              12585                17600                864   \n",
       "391              10578                15950                871   \n",
       "271              10144                15097                580   \n",
       "417               9001                13227                533   \n",
       "414               6522                 9847                463   \n",
       "386               3868                 5749                316   \n",
       "\n",
       "     receive_break_faced  serve_break_won  serve_break_faced  \\\n",
       "254                 2314              814               1212   \n",
       "395                 3245             1032               1571   \n",
       "429                 2119              622                933   \n",
       "391                 1966              745               1203   \n",
       "271                 1478              734               1094   \n",
       "417                 1383              624                970   \n",
       "414                 1181              502                796   \n",
       "386                  677              269                453   \n",
       "\n",
       "     serve_nobreak_pct  serve_break_pct  receive_nobreak_pct  \\\n",
       "254           0.687596         0.666159             0.428497   \n",
       "395           0.692580         0.653501             0.431140   \n",
       "429           0.714633         0.660213             0.400613   \n",
       "391           0.663053         0.617805             0.417306   \n",
       "271           0.671712         0.664992             0.372481   \n",
       "417           0.680198         0.639252             0.380459   \n",
       "414           0.662109         0.627232             0.391253   \n",
       "386           0.672252         0.594937             0.399121   \n",
       "\n",
       "     receive_break_pct  serve_choke_pct  receive_choke_pct  choke_pct  \n",
       "254           0.466446         0.001437           0.002051   0.001744  \n",
       "395           0.446936         0.019079           0.024204   0.021642  \n",
       "429           0.407391         0.034420           0.033222   0.033821  \n",
       "391           0.440949         0.025248           0.016357   0.020802  \n",
       "271           0.392902        -0.013280           0.019578   0.003149  \n",
       "417           0.386379         0.020946           0.034080   0.027513  \n",
       "414           0.392662         0.014877           0.038591   0.026734  \n",
       "386           0.458172         0.057315          -0.019052   0.019132  "
      ]
     },
     "execution_count": 33,
     "metadata": {},
     "output_type": "execute_result"
    }
   ],
   "source": [
    "inds_all = [254, 395, 429, 391, 271, 417, 414, 386]\n",
    "df2_all = df_all.iloc[inds_all, range(0, 16)]\n",
    "df5_all = df_all.iloc[[417, 414, 386], range(0, 16)]\n",
    "df3_all = df_all.iloc[[429, 391, 271], range(0, 16)]\n",
    "df4_all = df_all.iloc[[254, 395], range(0, 16)]\n",
    "df2_all"
   ]
  },
  {
   "cell_type": "code",
   "execution_count": 34,
   "metadata": {
    "collapsed": false,
    "pycharm": {
     "name": "#%%\n"
    }
   },
   "outputs": [
    {
     "data": {
      "image/png": "[encoded data removed]",
      "text/plain": [
       "<Figure size 1250x750 with 1 Axes>"
      ]
     },
     "metadata": {},
     "output_type": "display_data"
    }
   ],
   "source": [
    "plt.figure(figsize=(12.5, 7.5), edgecolor='black')\n",
    "plt.scatter(df_all.serve_choke_pct, df_all.receive_choke_pct, color=\"blue\", label=\"Players without Grand Slam\")\n",
    "plt.scatter(df5_all.serve_choke_pct, df5_all.receive_choke_pct, color=\"orange\", label=\"Players winning 1 Grand Slam\")\n",
    "plt.scatter(df3_all.serve_choke_pct, df3_all.receive_choke_pct, color=\"green\", label=\"Players winning more than 1 Grand Slam\")\n",
    "plt.scatter(df4_all.serve_choke_pct, df4_all.receive_choke_pct, color=\"red\", label=\"Players winning more than 10 Grand Slams\")\n",
    "for i in range(df2_all.shape[0]):\n",
    "    plt.annotate(df2_all.name.tolist()[i], (df2_all.serve_choke_pct.tolist()[i], df2_all.receive_choke_pct.tolist()[i]), fontsize=10, weight='bold', ha='center', va='bottom')\n",
    "sns.set_style(\"whitegrid\")\n",
    "plt.xlabel(\"Choking percentage when serving\", fontsize=15)\n",
    "plt.ylabel(\"Choking percentage when receiving\", fontsize=15)\n",
    "plt.title(\"Choking percentage of tennis players in Grand Slam 2011 - 2021\", fontsize=20)\n",
    "plt.legend(prop={'size': 10}, loc=3)\n",
    "plt.axhline(linewidth=1, color='black', linestyle='dashed')\n",
    "plt.axvline(linewidth=1, color='black', linestyle='dashed')\n",
    "plt.savefig(\"../plots/choke3.png\")"
   ]
  },
  {
   "cell_type": "code",
   "execution_count": 35,
   "metadata": {
    "collapsed": false,
    "pycharm": {
     "name": "#%%\n"
    }
   },
   "outputs": [
    {
     "data": {
      "text/html": [
       "<div>\n",
       "<style scoped>\n",
       "    .dataframe tbody tr th:only-of-type {\n",
       "        vertical-align: middle;\n",
       "    }\n",
       "\n",
       "    .dataframe tbody tr th {\n",
       "        vertical-align: top;\n",
       "    }\n",
       "\n",
       "    .dataframe thead th {\n",
       "        text-align: right;\n",
       "    }\n",
       "</style>\n",
       "<table border=\"1\" class=\"dataframe\">\n",
       "  <thead>\n",
       "    <tr style=\"text-align: right;\">\n",
       "      <th></th>\n",
       "      <th>name</th>\n",
       "      <th>receive_nobreak_won</th>\n",
       "      <th>receive_nobreak_faced</th>\n",
       "      <th>serve_nobreak_won</th>\n",
       "      <th>serve_nobreak_faced</th>\n",
       "      <th>receive_break_won</th>\n",
       "      <th>receive_break_faced</th>\n",
       "      <th>serve_break_won</th>\n",
       "      <th>serve_break_faced</th>\n",
       "      <th>serve_nobreak_pct</th>\n",
       "      <th>serve_break_pct</th>\n",
       "      <th>receive_nobreak_pct</th>\n",
       "      <th>receive_break_pct</th>\n",
       "      <th>serve_choke_pct</th>\n",
       "      <th>receive_choke_pct</th>\n",
       "      <th>choke_pct</th>\n",
       "    </tr>\n",
       "  </thead>\n",
       "  <tbody>\n",
       "    <tr>\n",
       "      <th>157</th>\n",
       "      <td>N Djokovic</td>\n",
       "      <td>10370</td>\n",
       "      <td>24036</td>\n",
       "      <td>16195</td>\n",
       "      <td>23376</td>\n",
       "      <td>1455</td>\n",
       "      <td>3245</td>\n",
       "      <td>1032</td>\n",
       "      <td>1571</td>\n",
       "      <td>0.692580</td>\n",
       "      <td>0.653501</td>\n",
       "      <td>0.431140</td>\n",
       "      <td>0.446936</td>\n",
       "      <td>0.019079</td>\n",
       "      <td>0.024204</td>\n",
       "      <td>0.021642</td>\n",
       "    </tr>\n",
       "    <tr>\n",
       "      <th>66</th>\n",
       "      <td>R Nadal</td>\n",
       "      <td>7332</td>\n",
       "      <td>17095</td>\n",
       "      <td>11621</td>\n",
       "      <td>16894</td>\n",
       "      <td>1086</td>\n",
       "      <td>2314</td>\n",
       "      <td>814</td>\n",
       "      <td>1212</td>\n",
       "      <td>0.687596</td>\n",
       "      <td>0.666159</td>\n",
       "      <td>0.428497</td>\n",
       "      <td>0.466446</td>\n",
       "      <td>0.001437</td>\n",
       "      <td>0.002051</td>\n",
       "      <td>0.001744</td>\n",
       "    </tr>\n",
       "    <tr>\n",
       "      <th>155</th>\n",
       "      <td>A Murray</td>\n",
       "      <td>6711</td>\n",
       "      <td>16068</td>\n",
       "      <td>10578</td>\n",
       "      <td>15950</td>\n",
       "      <td>871</td>\n",
       "      <td>1966</td>\n",
       "      <td>745</td>\n",
       "      <td>1203</td>\n",
       "      <td>0.663053</td>\n",
       "      <td>0.617805</td>\n",
       "      <td>0.417306</td>\n",
       "      <td>0.440949</td>\n",
       "      <td>0.025248</td>\n",
       "      <td>0.016357</td>\n",
       "      <td>0.020802</td>\n",
       "    </tr>\n",
       "    <tr>\n",
       "      <th>181</th>\n",
       "      <td>R Federer</td>\n",
       "      <td>7417</td>\n",
       "      <td>18504</td>\n",
       "      <td>12585</td>\n",
       "      <td>17600</td>\n",
       "      <td>864</td>\n",
       "      <td>2119</td>\n",
       "      <td>622</td>\n",
       "      <td>933</td>\n",
       "      <td>0.714633</td>\n",
       "      <td>0.660213</td>\n",
       "      <td>0.400613</td>\n",
       "      <td>0.407391</td>\n",
       "      <td>0.034420</td>\n",
       "      <td>0.033222</td>\n",
       "      <td>0.033821</td>\n",
       "    </tr>\n",
       "    <tr>\n",
       "      <th>168</th>\n",
       "      <td>K Anderson</td>\n",
       "      <td>3652</td>\n",
       "      <td>10792</td>\n",
       "      <td>7280</td>\n",
       "      <td>10576</td>\n",
       "      <td>284</td>\n",
       "      <td>834</td>\n",
       "      <td>481</td>\n",
       "      <td>736</td>\n",
       "      <td>0.687898</td>\n",
       "      <td>0.647129</td>\n",
       "      <td>0.338597</td>\n",
       "      <td>0.346895</td>\n",
       "      <td>0.020769</td>\n",
       "      <td>0.031702</td>\n",
       "      <td>0.026235</td>\n",
       "    </tr>\n",
       "    <tr>\n",
       "      <th>172</th>\n",
       "      <td>M Cilic</td>\n",
       "      <td>5217</td>\n",
       "      <td>13707</td>\n",
       "      <td>9001</td>\n",
       "      <td>13227</td>\n",
       "      <td>533</td>\n",
       "      <td>1383</td>\n",
       "      <td>624</td>\n",
       "      <td>970</td>\n",
       "      <td>0.680198</td>\n",
       "      <td>0.639252</td>\n",
       "      <td>0.380459</td>\n",
       "      <td>0.386379</td>\n",
       "      <td>0.020946</td>\n",
       "      <td>0.034080</td>\n",
       "      <td>0.027513</td>\n",
       "    </tr>\n",
       "    <tr>\n",
       "      <th>76</th>\n",
       "      <td>S Wawrinka</td>\n",
       "      <td>5508</td>\n",
       "      <td>14784</td>\n",
       "      <td>10144</td>\n",
       "      <td>15097</td>\n",
       "      <td>580</td>\n",
       "      <td>1478</td>\n",
       "      <td>734</td>\n",
       "      <td>1094</td>\n",
       "      <td>0.671712</td>\n",
       "      <td>0.664992</td>\n",
       "      <td>0.372481</td>\n",
       "      <td>0.392902</td>\n",
       "      <td>-0.013280</td>\n",
       "      <td>0.019578</td>\n",
       "      <td>0.003149</td>\n",
       "    </tr>\n",
       "    <tr>\n",
       "      <th>115</th>\n",
       "      <td>M Raonic</td>\n",
       "      <td>4164</td>\n",
       "      <td>12027</td>\n",
       "      <td>8413</td>\n",
       "      <td>11717</td>\n",
       "      <td>367</td>\n",
       "      <td>1009</td>\n",
       "      <td>473</td>\n",
       "      <td>665</td>\n",
       "      <td>0.717356</td>\n",
       "      <td>0.696732</td>\n",
       "      <td>0.346335</td>\n",
       "      <td>0.366997</td>\n",
       "      <td>0.000624</td>\n",
       "      <td>0.019337</td>\n",
       "      <td>0.009981</td>\n",
       "    </tr>\n",
       "    <tr>\n",
       "      <th>179</th>\n",
       "      <td>D Ferrer</td>\n",
       "      <td>4602</td>\n",
       "      <td>10912</td>\n",
       "      <td>6912</td>\n",
       "      <td>10614</td>\n",
       "      <td>599</td>\n",
       "      <td>1375</td>\n",
       "      <td>523</td>\n",
       "      <td>883</td>\n",
       "      <td>0.651111</td>\n",
       "      <td>0.593082</td>\n",
       "      <td>0.421177</td>\n",
       "      <td>0.433220</td>\n",
       "      <td>0.038028</td>\n",
       "      <td>0.027957</td>\n",
       "      <td>0.032992</td>\n",
       "    </tr>\n",
       "    <tr>\n",
       "      <th>185</th>\n",
       "      <td>J Martin Del Potro</td>\n",
       "      <td>3214</td>\n",
       "      <td>8491</td>\n",
       "      <td>5681</td>\n",
       "      <td>8312</td>\n",
       "      <td>342</td>\n",
       "      <td>862</td>\n",
       "      <td>318</td>\n",
       "      <td>518</td>\n",
       "      <td>0.682953</td>\n",
       "      <td>0.611650</td>\n",
       "      <td>0.378303</td>\n",
       "      <td>0.397089</td>\n",
       "      <td>0.051302</td>\n",
       "      <td>0.021213</td>\n",
       "      <td>0.036258</td>\n",
       "    </tr>\n",
       "    <tr>\n",
       "      <th>163</th>\n",
       "      <td>A Zverev</td>\n",
       "      <td>3505</td>\n",
       "      <td>9014</td>\n",
       "      <td>5815</td>\n",
       "      <td>8708</td>\n",
       "      <td>449</td>\n",
       "      <td>1029</td>\n",
       "      <td>411</td>\n",
       "      <td>693</td>\n",
       "      <td>0.667461</td>\n",
       "      <td>0.593947</td>\n",
       "      <td>0.388523</td>\n",
       "      <td>0.433127</td>\n",
       "      <td>0.053514</td>\n",
       "      <td>-0.004604</td>\n",
       "      <td>0.024455</td>\n",
       "    </tr>\n",
       "    <tr>\n",
       "      <th>152</th>\n",
       "      <td>D Medvedev</td>\n",
       "      <td>2324</td>\n",
       "      <td>5813</td>\n",
       "      <td>3868</td>\n",
       "      <td>5749</td>\n",
       "      <td>316</td>\n",
       "      <td>677</td>\n",
       "      <td>269</td>\n",
       "      <td>453</td>\n",
       "      <td>0.672252</td>\n",
       "      <td>0.594937</td>\n",
       "      <td>0.399121</td>\n",
       "      <td>0.458172</td>\n",
       "      <td>0.057315</td>\n",
       "      <td>-0.019052</td>\n",
       "      <td>0.019132</td>\n",
       "    </tr>\n",
       "    <tr>\n",
       "      <th>174</th>\n",
       "      <td>S Tsitsipas</td>\n",
       "      <td>1893</td>\n",
       "      <td>5207</td>\n",
       "      <td>3575</td>\n",
       "      <td>5246</td>\n",
       "      <td>232</td>\n",
       "      <td>563</td>\n",
       "      <td>237</td>\n",
       "      <td>399</td>\n",
       "      <td>0.680696</td>\n",
       "      <td>0.595190</td>\n",
       "      <td>0.363482</td>\n",
       "      <td>0.410256</td>\n",
       "      <td>0.065505</td>\n",
       "      <td>-0.006774</td>\n",
       "      <td>0.029366</td>\n",
       "    </tr>\n",
       "    <tr>\n",
       "      <th>32</th>\n",
       "      <td>M Berrettini</td>\n",
       "      <td>1725</td>\n",
       "      <td>4921</td>\n",
       "      <td>3332</td>\n",
       "      <td>4820</td>\n",
       "      <td>191</td>\n",
       "      <td>454</td>\n",
       "      <td>234</td>\n",
       "      <td>345</td>\n",
       "      <td>0.690244</td>\n",
       "      <td>0.660674</td>\n",
       "      <td>0.350727</td>\n",
       "      <td>0.416968</td>\n",
       "      <td>0.009570</td>\n",
       "      <td>-0.026241</td>\n",
       "      <td>-0.008335</td>\n",
       "    </tr>\n",
       "  </tbody>\n",
       "</table>\n",
       "</div>"
      ],
      "text/plain": [
       "                   name  receive_nobreak_won  receive_nobreak_faced  \\\n",
       "157          N Djokovic                10370                  24036   \n",
       "66              R Nadal                 7332                  17095   \n",
       "155            A Murray                 6711                  16068   \n",
       "181           R Federer                 7417                  18504   \n",
       "168          K Anderson                 3652                  10792   \n",
       "172             M Cilic                 5217                  13707   \n",
       "76           S Wawrinka                 5508                  14784   \n",
       "115            M Raonic                 4164                  12027   \n",
       "179            D Ferrer                 4602                  10912   \n",
       "185  J Martin Del Potro                 3214                   8491   \n",
       "163            A Zverev                 3505                   9014   \n",
       "152          D Medvedev                 2324                   5813   \n",
       "174         S Tsitsipas                 1893                   5207   \n",
       "32         M Berrettini                 1725                   4921   \n",
       "\n",
       "     serve_nobreak_won  serve_nobreak_faced  receive_break_won  \\\n",
       "157              16195                23376               1455   \n",
       "66               11621                16894               1086   \n",
       "155              10578                15950                871   \n",
       "181              12585                17600                864   \n",
       "168               7280                10576                284   \n",
       "172               9001                13227                533   \n",
       "76               10144                15097                580   \n",
       "115               8413                11717                367   \n",
       "179               6912                10614                599   \n",
       "185               5681                 8312                342   \n",
       "163               5815                 8708                449   \n",
       "152               3868                 5749                316   \n",
       "174               3575                 5246                232   \n",
       "32                3332                 4820                191   \n",
       "\n",
       "     receive_break_faced  serve_break_won  serve_break_faced  \\\n",
       "157                 3245             1032               1571   \n",
       "66                  2314              814               1212   \n",
       "155                 1966              745               1203   \n",
       "181                 2119              622                933   \n",
       "168                  834              481                736   \n",
       "172                 1383              624                970   \n",
       "76                  1478              734               1094   \n",
       "115                 1009              473                665   \n",
       "179                 1375              523                883   \n",
       "185                  862              318                518   \n",
       "163                 1029              411                693   \n",
       "152                  677              269                453   \n",
       "174                  563              237                399   \n",
       "32                   454              234                345   \n",
       "\n",
       "     serve_nobreak_pct  serve_break_pct  receive_nobreak_pct  \\\n",
       "157           0.692580         0.653501             0.431140   \n",
       "66            0.687596         0.666159             0.428497   \n",
       "155           0.663053         0.617805             0.417306   \n",
       "181           0.714633         0.660213             0.400613   \n",
       "168           0.687898         0.647129             0.338597   \n",
       "172           0.680198         0.639252             0.380459   \n",
       "76            0.671712         0.664992             0.372481   \n",
       "115           0.717356         0.696732             0.346335   \n",
       "179           0.651111         0.593082             0.421177   \n",
       "185           0.682953         0.611650             0.378303   \n",
       "163           0.667461         0.593947             0.388523   \n",
       "152           0.672252         0.594937             0.399121   \n",
       "174           0.680696         0.595190             0.363482   \n",
       "32            0.690244         0.660674             0.350727   \n",
       "\n",
       "     receive_break_pct  serve_choke_pct  receive_choke_pct  choke_pct  \n",
       "157           0.446936         0.019079           0.024204   0.021642  \n",
       "66            0.466446         0.001437           0.002051   0.001744  \n",
       "155           0.440949         0.025248           0.016357   0.020802  \n",
       "181           0.407391         0.034420           0.033222   0.033821  \n",
       "168           0.346895         0.020769           0.031702   0.026235  \n",
       "172           0.386379         0.020946           0.034080   0.027513  \n",
       "76            0.392902        -0.013280           0.019578   0.003149  \n",
       "115           0.366997         0.000624           0.019337   0.009981  \n",
       "179           0.433220         0.038028           0.027957   0.032992  \n",
       "185           0.397089         0.051302           0.021213   0.036258  \n",
       "163           0.433127         0.053514          -0.004604   0.024455  \n",
       "152           0.458172         0.057315          -0.019052   0.019132  \n",
       "174           0.410256         0.065505          -0.006774   0.029366  \n",
       "32            0.416968         0.009570          -0.026241  -0.008335  "
      ]
     },
     "execution_count": 35,
     "metadata": {},
     "output_type": "execute_result"
    }
   ],
   "source": [
    "inds_runnerup = [157, 66, 155, 181, 168, 172, 76, 115, 179, 185, 163, 152, 174, 32]\n",
    "df2_runnerup = df.iloc[inds_runnerup, range(0, 16)]\n",
    "df5_runnerup = df.iloc[[76, 115, 179, 185, 163, 152, 174, 32], range(0, 16)]\n",
    "df3_runnerup = df.iloc[[168, 172], range(0, 16)]\n",
    "df4_runnerup = df.iloc[[157, 66, 155, 181], range(0, 16)]\n",
    "df2_runnerup"
   ]
  },
  {
   "cell_type": "code",
   "execution_count": 36,
   "metadata": {
    "collapsed": false,
    "pycharm": {
     "name": "#%%\n"
    }
   },
   "outputs": [
    {
     "data": {
      "image/png": "[encoded data removed]",
      "text/plain": [
       "<Figure size 1250x750 with 1 Axes>"
      ]
     },
     "metadata": {},
     "output_type": "display_data"
    }
   ],
   "source": [
    "plt.figure(figsize=(12.5, 7.5), edgecolor='black')\n",
    "plt.scatter(df.serve_choke_pct, df.receive_choke_pct, color=\"blue\", label=\"Other players\")\n",
    "plt.scatter(df5_runnerup.serve_choke_pct, df5_runnerup.receive_choke_pct, color=\"orange\", label=\"Players with 1 Grand Slam runner-up\")\n",
    "plt.scatter(df3_runnerup.serve_choke_pct, df3_runnerup.receive_choke_pct, color=\"green\", label=\"Players with more than 1 Grand Slam runner-up\")\n",
    "plt.scatter(df4_runnerup.serve_choke_pct, df4_runnerup.receive_choke_pct, color=\"red\", label=\"Players with more than 5 Grand Slam runner-ups\")\n",
    "for i in range(df2_runnerup.shape[0]):\n",
    "    plt.annotate(df2_runnerup.name.tolist()[i], (df2_runnerup.serve_choke_pct.tolist()[i], df2_runnerup.receive_choke_pct.tolist()[i]), fontsize=10, weight='bold', ha='center', va='bottom')\n",
    "sns.set_style(\"whitegrid\")\n",
    "plt.xlabel(\"Choking percentage when serving\", fontsize=15)\n",
    "plt.ylabel(\"Choking percentage when receiving\", fontsize=15)\n",
    "plt.title(\"Choking percentage of Grand Slam runner-ups 2011 - 2021\", fontsize=20)\n",
    "plt.legend(prop={'size': 10}, loc=3)\n",
    "plt.axhline(linewidth=1, color='black', linestyle='dashed')\n",
    "plt.axvline(linewidth=1, color='black', linestyle='dashed')\n",
    "plt.savefig(\"../plots/choke4.png\")"
   ]
  },
  {
   "cell_type": "code",
   "execution_count": 36,
   "metadata": {
    "collapsed": false,
    "pycharm": {
     "name": "#%%\n"
    }
   },
   "outputs": [],
   "source": []
  }
 ],
 "metadata": {
  "kernelspec": {
   "display_name": "Python 3.7.3 64-bit",
   "language": "python",
   "name": "python3"
  },
  "language_info": {
   "codemirror_mode": {
    "name": "ipython",
    "version": 3
   },
   "file_extension": ".py",
   "mimetype": "text/x-python",
   "name": "python",
   "nbconvert_exporter": "python",
   "pygments_lexer": "ipython3",
   "version": "3.7.3"
  },
  "orig_nbformat": 4,
  "vscode": {
   "interpreter": {
    "hash": "aee8b7b246df8f9039afb4144a1f6fd8d2ca17a180786b69acc140d282b71a49"
   }
  }
 },
 "nbformat": 4,
 "nbformat_minor": 2
}