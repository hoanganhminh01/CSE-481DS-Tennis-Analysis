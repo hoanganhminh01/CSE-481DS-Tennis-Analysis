{
 "cells": [
  {
   "cell_type": "code",
   "execution_count": 16,
   "metadata": {
    "pycharm": {
     "name": "#%%\n"
    }
   },
   "outputs": [],
   "source": [
    "import pandas as pd\n",
    "import numpy as np"
   ]
  },
  {
   "cell_type": "code",
   "execution_count": 17,
   "metadata": {
    "pycharm": {
     "name": "#%%\n"
    }
   },
   "outputs": [
    {
     "data": {
      "text/plain": "                   match_id  SetNo  P1GamesWon  P2GamesWon  GameNo  \\\n0         2011-ausopen-1101    1.0         0.0         0.0     1.0   \n1         2011-ausopen-1101    1.0         0.0         0.0     1.0   \n2         2011-ausopen-1101    1.0         0.0         0.0     1.0   \n3         2011-ausopen-1101    1.0         0.0         0.0     1.0   \n4         2011-ausopen-1101    1.0         1.0         0.0     1.0   \n...                     ...    ...         ...         ...     ...   \n792718  2021-wimbledon-1701    4.0         5.0         3.0     9.0   \n792719  2021-wimbledon-1701    4.0         5.0         3.0     9.0   \n792720  2021-wimbledon-1701    4.0         5.0         3.0     9.0   \n792721  2021-wimbledon-1701    4.0         5.0         3.0     9.0   \n792722  2021-wimbledon-1701    4.0         6.0         3.0     9.0   \n\n        GameWinner PointNumber  PointWinner  PointServer P1Score P2Score  \\\n0              0.0           0          0.0          0.0       0       0   \n1              0.0           1          1.0          2.0      15       0   \n2              0.0           2          1.0          2.0      30       0   \n3              0.0           3          1.0          2.0      40       0   \n4              1.0           4          1.0          2.0       0       0   \n...            ...         ...          ...          ...     ...     ...   \n792718         0.0         272          2.0          2.0      40      40   \n792719         0.0         273          1.0          2.0      AD      40   \n792720         0.0         274          2.0          2.0      40      40   \n792721         0.0         275          1.0          2.0      AD      40   \n792722         1.0         276          1.0          2.0       0       0   \n\n        P1Winner  P2Winner  P1DoubleFault  P2DoubleFault  P1UnfErr  P2UnfErr  \\\n0            0.0       0.0            0.0            0.0       0.0       0.0   \n1            0.0       0.0            0.0            0.0       0.0       1.0   \n2            0.0       0.0            0.0            0.0       0.0       1.0   \n3            0.0       0.0            0.0            0.0       0.0       1.0   \n4            0.0       0.0            0.0            0.0       0.0       1.0   \n...          ...       ...            ...            ...       ...       ...   \n792718       0.0       1.0            0.0            0.0       0.0       0.0   \n792719       1.0       0.0            0.0            0.0       0.0       0.0   \n792720       0.0       1.0            0.0            0.0       0.0       0.0   \n792721       0.0       0.0            0.0            0.0       0.0       1.0   \n792722       0.0       0.0            0.0            0.0       0.0       1.0   \n\n        P1BreakPoint  P2BreakPoint  \n0                0.0           0.0  \n1                0.0           0.0  \n2                0.0           0.0  \n3                0.0           0.0  \n4                1.0           0.0  \n...              ...           ...  \n792718           1.0           0.0  \n792719           0.0           0.0  \n792720           1.0           0.0  \n792721           0.0           0.0  \n792722           1.0           0.0  \n\n[792723 rows x 19 columns]",
      "text/html": "<div>\n<style scoped>\n    .dataframe tbody tr th:only-of-type {\n        vertical-align: middle;\n    }\n\n    .dataframe tbody tr th {\n        vertical-align: top;\n    }\n\n    .dataframe thead th {\n        text-align: right;\n    }\n</style>\n<table border=\"1\" class=\"dataframe\">\n  <thead>\n    <tr style=\"text-align: right;\">\n      <th></th>\n      <th>match_id</th>\n      <th>SetNo</th>\n      <th>P1GamesWon</th>\n      <th>P2GamesWon</th>\n      <th>GameNo</th>\n      <th>GameWinner</th>\n      <th>PointNumber</th>\n      <th>PointWinner</th>\n      <th>PointServer</th>\n      <th>P1Score</th>\n      <th>P2Score</th>\n      <th>P1Winner</th>\n      <th>P2Winner</th>\n      <th>P1DoubleFault</th>\n      <th>P2DoubleFault</th>\n      <th>P1UnfErr</th>\n      <th>P2UnfErr</th>\n      <th>P1BreakPoint</th>\n      <th>P2BreakPoint</th>\n    </tr>\n  </thead>\n  <tbody>\n    <tr>\n      <th>0</th>\n      <td>2011-ausopen-1101</td>\n      <td>1.0</td>\n      <td>0.0</td>\n      <td>0.0</td>\n      <td>1.0</td>\n      <td>0.0</td>\n      <td>0</td>\n      <td>0.0</td>\n      <td>0.0</td>\n      <td>0</td>\n      <td>0</td>\n      <td>0.0</td>\n      <td>0.0</td>\n      <td>0.0</td>\n      <td>0.0</td>\n      <td>0.0</td>\n      <td>0.0</td>\n      <td>0.0</td>\n      <td>0.0</td>\n    </tr>\n    <tr>\n      <th>1</th>\n      <td>2011-ausopen-1101</td>\n      <td>1.0</td>\n      <td>0.0</td>\n      <td>0.0</td>\n      <td>1.0</td>\n      <td>0.0</td>\n      <td>1</td>\n      <td>1.0</td>\n      <td>2.0</td>\n      <td>15</td>\n      <td>0</td>\n      <td>0.0</td>\n      <td>0.0</td>\n      <td>0.0</td>\n      <td>0.0</td>\n      <td>0.0</td>\n      <td>1.0</td>\n      <td>0.0</td>\n      <td>0.0</td>\n    </tr>\n    <tr>\n      <th>2</th>\n      <td>2011-ausopen-1101</td>\n      <td>1.0</td>\n      <td>0.0</td>\n      <td>0.0</td>\n      <td>1.0</td>\n      <td>0.0</td>\n      <td>2</td>\n      <td>1.0</td>\n      <td>2.0</td>\n      <td>30</td>\n      <td>0</td>\n      <td>0.0</td>\n      <td>0.0</td>\n      <td>0.0</td>\n      <td>0.0</td>\n      <td>0.0</td>\n      <td>1.0</td>\n      <td>0.0</td>\n      <td>0.0</td>\n    </tr>\n    <tr>\n      <th>3</th>\n      <td>2011-ausopen-1101</td>\n      <td>1.0</td>\n      <td>0.0</td>\n      <td>0.0</td>\n      <td>1.0</td>\n      <td>0.0</td>\n      <td>3</td>\n      <td>1.0</td>\n      <td>2.0</td>\n      <td>40</td>\n      <td>0</td>\n      <td>0.0</td>\n      <td>0.0</td>\n      <td>0.0</td>\n      <td>0.0</td>\n      <td>0.0</td>\n      <td>1.0</td>\n      <td>0.0</td>\n      <td>0.0</td>\n    </tr>\n    <tr>\n      <th>4</th>\n      <td>2011-ausopen-1101</td>\n      <td>1.0</td>\n      <td>1.0</td>\n      <td>0.0</td>\n      <td>1.0</td>\n      <td>1.0</td>\n      <td>4</td>\n      <td>1.0</td>\n      <td>2.0</td>\n      <td>0</td>\n      <td>0</td>\n      <td>0.0</td>\n      <td>0.0</td>\n      <td>0.0</td>\n      <td>0.0</td>\n      <td>0.0</td>\n      <td>1.0</td>\n      <td>1.0</td>\n      <td>0.0</td>\n    </tr>\n    <tr>\n      <th>...</th>\n      <td>...</td>\n      <td>...</td>\n      <td>...</td>\n      <td>...</td>\n      <td>...</td>\n      <td>...</td>\n      <td>...</td>\n      <td>...</td>\n      <td>...</td>\n      <td>...</td>\n      <td>...</td>\n      <td>...</td>\n      <td>...</td>\n      <td>...</td>\n      <td>...</td>\n      <td>...</td>\n      <td>...</td>\n      <td>...</td>\n      <td>...</td>\n    </tr>\n    <tr>\n      <th>792718</th>\n      <td>2021-wimbledon-1701</td>\n      <td>4.0</td>\n      <td>5.0</td>\n      <td>3.0</td>\n      <td>9.0</td>\n      <td>0.0</td>\n      <td>272</td>\n      <td>2.0</td>\n      <td>2.0</td>\n      <td>40</td>\n      <td>40</td>\n      <td>0.0</td>\n      <td>1.0</td>\n      <td>0.0</td>\n      <td>0.0</td>\n      <td>0.0</td>\n      <td>0.0</td>\n      <td>1.0</td>\n      <td>0.0</td>\n    </tr>\n    <tr>\n      <th>792719</th>\n      <td>2021-wimbledon-1701</td>\n      <td>4.0</td>\n      <td>5.0</td>\n      <td>3.0</td>\n      <td>9.0</td>\n      <td>0.0</td>\n      <td>273</td>\n      <td>1.0</td>\n      <td>2.0</td>\n      <td>AD</td>\n      <td>40</td>\n      <td>1.0</td>\n      <td>0.0</td>\n      <td>0.0</td>\n      <td>0.0</td>\n      <td>0.0</td>\n      <td>0.0</td>\n      <td>0.0</td>\n      <td>0.0</td>\n    </tr>\n    <tr>\n      <th>792720</th>\n      <td>2021-wimbledon-1701</td>\n      <td>4.0</td>\n      <td>5.0</td>\n      <td>3.0</td>\n      <td>9.0</td>\n      <td>0.0</td>\n      <td>274</td>\n      <td>2.0</td>\n      <td>2.0</td>\n      <td>40</td>\n      <td>40</td>\n      <td>0.0</td>\n      <td>1.0</td>\n      <td>0.0</td>\n      <td>0.0</td>\n      <td>0.0</td>\n      <td>0.0</td>\n      <td>1.0</td>\n      <td>0.0</td>\n    </tr>\n    <tr>\n      <th>792721</th>\n      <td>2021-wimbledon-1701</td>\n      <td>4.0</td>\n      <td>5.0</td>\n      <td>3.0</td>\n      <td>9.0</td>\n      <td>0.0</td>\n      <td>275</td>\n      <td>1.0</td>\n      <td>2.0</td>\n      <td>AD</td>\n      <td>40</td>\n      <td>0.0</td>\n      <td>0.0</td>\n      <td>0.0</td>\n      <td>0.0</td>\n      <td>0.0</td>\n      <td>1.0</td>\n      <td>0.0</td>\n      <td>0.0</td>\n    </tr>\n    <tr>\n      <th>792722</th>\n      <td>2021-wimbledon-1701</td>\n      <td>4.0</td>\n      <td>6.0</td>\n      <td>3.0</td>\n      <td>9.0</td>\n      <td>1.0</td>\n      <td>276</td>\n      <td>1.0</td>\n      <td>2.0</td>\n      <td>0</td>\n      <td>0</td>\n      <td>0.0</td>\n      <td>0.0</td>\n      <td>0.0</td>\n      <td>0.0</td>\n      <td>0.0</td>\n      <td>1.0</td>\n      <td>1.0</td>\n      <td>0.0</td>\n    </tr>\n  </tbody>\n</table>\n<p>792723 rows × 19 columns</p>\n</div>"
     },
     "execution_count": 17,
     "metadata": {},
     "output_type": "execute_result"
    }
   ],
   "source": [
    "points_2011 = pd.read_csv(f\"../data/grand-slam-point-data/combined-points/2011-combined-points.csv\", encoding='unicode_escape', low_memory=False)\n",
    "match_2011 = pd.read_csv(f\"../data/grand-slam-point-data/combined-matches/2011-combined-matches.csv\", encoding='unicode_escape', low_memory=False)\n",
    "combined = pd.merge(points_2011, match_2011, on=\"match_id\", how=\"inner\")\n",
    "for i in range(2012, 2022):\n",
    "    points = pd.read_csv(f\"../data/grand-slam-point-data/combined-points/{i}-combined-points.csv\", encoding='unicode_escape', low_memory=False)\n",
    "    match = pd.read_csv(f\"../data/grand-slam-point-data/combined-matches/{i}-combined-matches.csv\", encoding='unicode_escape', low_memory=False)\n",
    "    cur_year = pd.merge(points, match, on=\"match_id\", how=\"inner\")\n",
    "    combined = pd.concat([combined, cur_year], sort=True)\n",
    "\n",
    "points = combined\n",
    "points = points[\n",
    "    [\"match_id\", \"SetNo\", \"P1GamesWon\", \"P2GamesWon\", \"GameNo\", \"GameWinner\", \"PointNumber\", \"PointWinner\", \"PointServer\", \"P1Score\", \n",
    "    \"P2Score\", \"P1Winner\", \"P2Winner\", \"P1DoubleFault\", \"P2DoubleFault\", \"P1UnfErr\", \"P2UnfErr\", \"P1BreakPoint\", \"P2BreakPoint\"]\n",
    "].dropna(how=\"any\")\n",
    "points = points.reset_index(drop=True)\n",
    "points"
   ]
  },
  {
   "cell_type": "code",
   "execution_count": 18,
   "metadata": {
    "pycharm": {
     "name": "#%%\n"
    }
   },
   "outputs": [
    {
     "name": "stderr",
     "output_type": "stream",
     "text": [
      "C:\\Users\\anhmi\\miniconda3\\lib\\site-packages\\ipykernel_launcher.py:8: SettingWithCopyWarning: \n",
      "A value is trying to be set on a copy of a slice from a DataFrame\n",
      "\n",
      "See the caveats in the documentation: https://pandas.pydata.org/pandas-docs/stable/user_guide/indexing.html#returning-a-view-versus-a-copy\n",
      "  \n",
      "C:\\Users\\anhmi\\miniconda3\\lib\\site-packages\\ipykernel_launcher.py:6: SettingWithCopyWarning: \n",
      "A value is trying to be set on a copy of a slice from a DataFrame\n",
      "\n",
      "See the caveats in the documentation: https://pandas.pydata.org/pandas-docs/stable/user_guide/indexing.html#returning-a-view-versus-a-copy\n",
      "  \n"
     ]
    },
    {
     "data": {
      "text/plain": "        P1Errors  P2Errors\n0            0.0       0.0\n1            0.0       1.0\n2            0.0       1.0\n3            0.0       1.0\n4            0.0       1.0\n...          ...       ...\n792718       0.0       0.0\n792719       0.0       0.0\n792720       0.0       0.0\n792721       0.0       1.0\n792722       0.0       1.0\n\n[792723 rows x 2 columns]",
      "text/html": "<div>\n<style scoped>\n    .dataframe tbody tr th:only-of-type {\n        vertical-align: middle;\n    }\n\n    .dataframe tbody tr th {\n        vertical-align: top;\n    }\n\n    .dataframe thead th {\n        text-align: right;\n    }\n</style>\n<table border=\"1\" class=\"dataframe\">\n  <thead>\n    <tr style=\"text-align: right;\">\n      <th></th>\n      <th>P1Errors</th>\n      <th>P2Errors</th>\n    </tr>\n  </thead>\n  <tbody>\n    <tr>\n      <th>0</th>\n      <td>0.0</td>\n      <td>0.0</td>\n    </tr>\n    <tr>\n      <th>1</th>\n      <td>0.0</td>\n      <td>1.0</td>\n    </tr>\n    <tr>\n      <th>2</th>\n      <td>0.0</td>\n      <td>1.0</td>\n    </tr>\n    <tr>\n      <th>3</th>\n      <td>0.0</td>\n      <td>1.0</td>\n    </tr>\n    <tr>\n      <th>4</th>\n      <td>0.0</td>\n      <td>1.0</td>\n    </tr>\n    <tr>\n      <th>...</th>\n      <td>...</td>\n      <td>...</td>\n    </tr>\n    <tr>\n      <th>792718</th>\n      <td>0.0</td>\n      <td>0.0</td>\n    </tr>\n    <tr>\n      <th>792719</th>\n      <td>0.0</td>\n      <td>0.0</td>\n    </tr>\n    <tr>\n      <th>792720</th>\n      <td>0.0</td>\n      <td>0.0</td>\n    </tr>\n    <tr>\n      <th>792721</th>\n      <td>0.0</td>\n      <td>1.0</td>\n    </tr>\n    <tr>\n      <th>792722</th>\n      <td>0.0</td>\n      <td>1.0</td>\n    </tr>\n  </tbody>\n</table>\n<p>792723 rows × 2 columns</p>\n</div>"
     },
     "execution_count": 18,
     "metadata": {},
     "output_type": "execute_result"
    }
   ],
   "source": [
    "match_errors = points.groupby([\"match_id\"])[[\"P1DoubleFault\", \"P1UnfErr\", \"P2DoubleFault\", \"P2UnfErr\"]].cumsum().groupby(level=0).cumsum().reset_index()\n",
    "points[\"P1Errors\"] = np.zeros(len(points))\n",
    "points[\"P2Errors\"] = np.zeros(len(points))\n",
    "for i in range(len(points)):\n",
    "    if (points[\"P1UnfErr\"][i] == 1) | (points[\"P1DoubleFault\"][i] == 1):\n",
    "        points[\"P1Errors\"][i] = 1\n",
    "    if (points[\"P2UnfErr\"][i] == 1) | (points[\"P2DoubleFault\"][i] == 1):\n",
    "        points[\"P2Errors\"][i] = 1\n",
    "points[[\"P1Errors\", \"P2Errors\"]]"
   ]
  },
  {
   "cell_type": "code",
   "execution_count": 19,
   "outputs": [
    {
     "data": {
      "text/plain": "                   match_id  SetNo  P1GamesWon  P2GamesWon  GameNo  \\\n0         2011-ausopen-1101    1.0         0.0         0.0     1.0   \n1         2011-ausopen-1101    1.0         0.0         0.0     1.0   \n2         2011-ausopen-1101    1.0         0.0         0.0     1.0   \n3         2011-ausopen-1101    1.0         0.0         0.0     1.0   \n4         2011-ausopen-1101    1.0         1.0         0.0     1.0   \n...                     ...    ...         ...         ...     ...   \n792718  2021-wimbledon-1701    4.0         5.0         3.0     9.0   \n792719  2021-wimbledon-1701    4.0         5.0         3.0     9.0   \n792720  2021-wimbledon-1701    4.0         5.0         3.0     9.0   \n792721  2021-wimbledon-1701    4.0         5.0         3.0     9.0   \n792722  2021-wimbledon-1701    4.0         6.0         3.0     9.0   \n\n        GameWinner PointNumber  PointWinner  PointServer P1Score  ...  \\\n0              0.0           0          0.0          0.0       0  ...   \n1              0.0           1          1.0          2.0      15  ...   \n2              0.0           2          1.0          2.0      30  ...   \n3              0.0           3          1.0          2.0      40  ...   \n4              1.0           4          1.0          2.0       0  ...   \n...            ...         ...          ...          ...     ...  ...   \n792718         0.0         272          2.0          2.0      40  ...   \n792719         0.0         273          1.0          2.0      AD  ...   \n792720         0.0         274          2.0          2.0      40  ...   \n792721         0.0         275          1.0          2.0      AD  ...   \n792722         1.0         276          1.0          2.0       0  ...   \n\n       P1Winner  P2Winner  P1DoubleFault  P2DoubleFault  P1UnfErr  P2UnfErr  \\\n0           0.0       0.0            0.0            0.0       0.0       0.0   \n1           0.0       0.0            0.0            0.0       0.0       1.0   \n2           0.0       0.0            0.0            0.0       0.0       1.0   \n3           0.0       0.0            0.0            0.0       0.0       1.0   \n4           0.0       0.0            0.0            0.0       0.0       1.0   \n...         ...       ...            ...            ...       ...       ...   \n792718      0.0       1.0            0.0            0.0       0.0       0.0   \n792719      1.0       0.0            0.0            0.0       0.0       0.0   \n792720      0.0       1.0            0.0            0.0       0.0       0.0   \n792721      0.0       0.0            0.0            0.0       0.0       1.0   \n792722      0.0       0.0            0.0            0.0       0.0       1.0   \n\n        P1BreakPoint  P2BreakPoint  P1Errors  P2Errors  \n0                0.0           0.0       0.0       0.0  \n1                0.0           0.0       0.0       1.0  \n2                0.0           0.0       0.0       1.0  \n3                0.0           0.0       0.0       1.0  \n4                1.0           0.0       0.0       1.0  \n...              ...           ...       ...       ...  \n792718           1.0           0.0       0.0       0.0  \n792719           0.0           0.0       0.0       0.0  \n792720           1.0           0.0       0.0       0.0  \n792721           0.0           0.0       0.0       1.0  \n792722           1.0           0.0       0.0       1.0  \n\n[792723 rows x 21 columns]",
      "text/html": "<div>\n<style scoped>\n    .dataframe tbody tr th:only-of-type {\n        vertical-align: middle;\n    }\n\n    .dataframe tbody tr th {\n        vertical-align: top;\n    }\n\n    .dataframe thead th {\n        text-align: right;\n    }\n</style>\n<table border=\"1\" class=\"dataframe\">\n  <thead>\n    <tr style=\"text-align: right;\">\n      <th></th>\n      <th>match_id</th>\n      <th>SetNo</th>\n      <th>P1GamesWon</th>\n      <th>P2GamesWon</th>\n      <th>GameNo</th>\n      <th>GameWinner</th>\n      <th>PointNumber</th>\n      <th>PointWinner</th>\n      <th>PointServer</th>\n      <th>P1Score</th>\n      <th>...</th>\n      <th>P1Winner</th>\n      <th>P2Winner</th>\n      <th>P1DoubleFault</th>\n      <th>P2DoubleFault</th>\n      <th>P1UnfErr</th>\n      <th>P2UnfErr</th>\n      <th>P1BreakPoint</th>\n      <th>P2BreakPoint</th>\n      <th>P1Errors</th>\n      <th>P2Errors</th>\n    </tr>\n  </thead>\n  <tbody>\n    <tr>\n      <th>0</th>\n      <td>2011-ausopen-1101</td>\n      <td>1.0</td>\n      <td>0.0</td>\n      <td>0.0</td>\n      <td>1.0</td>\n      <td>0.0</td>\n      <td>0</td>\n      <td>0.0</td>\n      <td>0.0</td>\n      <td>0</td>\n      <td>...</td>\n      <td>0.0</td>\n      <td>0.0</td>\n      <td>0.0</td>\n      <td>0.0</td>\n      <td>0.0</td>\n      <td>0.0</td>\n      <td>0.0</td>\n      <td>0.0</td>\n      <td>0.0</td>\n      <td>0.0</td>\n    </tr>\n    <tr>\n      <th>1</th>\n      <td>2011-ausopen-1101</td>\n      <td>1.0</td>\n      <td>0.0</td>\n      <td>0.0</td>\n      <td>1.0</td>\n      <td>0.0</td>\n      <td>1</td>\n      <td>1.0</td>\n      <td>2.0</td>\n      <td>15</td>\n      <td>...</td>\n      <td>0.0</td>\n      <td>0.0</td>\n      <td>0.0</td>\n      <td>0.0</td>\n      <td>0.0</td>\n      <td>1.0</td>\n      <td>0.0</td>\n      <td>0.0</td>\n      <td>0.0</td>\n      <td>1.0</td>\n    </tr>\n    <tr>\n      <th>2</th>\n      <td>2011-ausopen-1101</td>\n      <td>1.0</td>\n      <td>0.0</td>\n      <td>0.0</td>\n      <td>1.0</td>\n      <td>0.0</td>\n      <td>2</td>\n      <td>1.0</td>\n      <td>2.0</td>\n      <td>30</td>\n      <td>...</td>\n      <td>0.0</td>\n      <td>0.0</td>\n      <td>0.0</td>\n      <td>0.0</td>\n      <td>0.0</td>\n      <td>1.0</td>\n      <td>0.0</td>\n      <td>0.0</td>\n      <td>0.0</td>\n      <td>1.0</td>\n    </tr>\n    <tr>\n      <th>3</th>\n      <td>2011-ausopen-1101</td>\n      <td>1.0</td>\n      <td>0.0</td>\n      <td>0.0</td>\n      <td>1.0</td>\n      <td>0.0</td>\n      <td>3</td>\n      <td>1.0</td>\n      <td>2.0</td>\n      <td>40</td>\n      <td>...</td>\n      <td>0.0</td>\n      <td>0.0</td>\n      <td>0.0</td>\n      <td>0.0</td>\n      <td>0.0</td>\n      <td>1.0</td>\n      <td>0.0</td>\n      <td>0.0</td>\n      <td>0.0</td>\n      <td>1.0</td>\n    </tr>\n    <tr>\n      <th>4</th>\n      <td>2011-ausopen-1101</td>\n      <td>1.0</td>\n      <td>1.0</td>\n      <td>0.0</td>\n      <td>1.0</td>\n      <td>1.0</td>\n      <td>4</td>\n      <td>1.0</td>\n      <td>2.0</td>\n      <td>0</td>\n      <td>...</td>\n      <td>0.0</td>\n      <td>0.0</td>\n      <td>0.0</td>\n      <td>0.0</td>\n      <td>0.0</td>\n      <td>1.0</td>\n      <td>1.0</td>\n      <td>0.0</td>\n      <td>0.0</td>\n      <td>1.0</td>\n    </tr>\n    <tr>\n      <th>...</th>\n      <td>...</td>\n      <td>...</td>\n      <td>...</td>\n      <td>...</td>\n      <td>...</td>\n      <td>...</td>\n      <td>...</td>\n      <td>...</td>\n      <td>...</td>\n      <td>...</td>\n      <td>...</td>\n      <td>...</td>\n      <td>...</td>\n      <td>...</td>\n      <td>...</td>\n      <td>...</td>\n      <td>...</td>\n      <td>...</td>\n      <td>...</td>\n      <td>...</td>\n      <td>...</td>\n    </tr>\n    <tr>\n      <th>792718</th>\n      <td>2021-wimbledon-1701</td>\n      <td>4.0</td>\n      <td>5.0</td>\n      <td>3.0</td>\n      <td>9.0</td>\n      <td>0.0</td>\n      <td>272</td>\n      <td>2.0</td>\n      <td>2.0</td>\n      <td>40</td>\n      <td>...</td>\n      <td>0.0</td>\n      <td>1.0</td>\n      <td>0.0</td>\n      <td>0.0</td>\n      <td>0.0</td>\n      <td>0.0</td>\n      <td>1.0</td>\n      <td>0.0</td>\n      <td>0.0</td>\n      <td>0.0</td>\n    </tr>\n    <tr>\n      <th>792719</th>\n      <td>2021-wimbledon-1701</td>\n      <td>4.0</td>\n      <td>5.0</td>\n      <td>3.0</td>\n      <td>9.0</td>\n      <td>0.0</td>\n      <td>273</td>\n      <td>1.0</td>\n      <td>2.0</td>\n      <td>AD</td>\n      <td>...</td>\n      <td>1.0</td>\n      <td>0.0</td>\n      <td>0.0</td>\n      <td>0.0</td>\n      <td>0.0</td>\n      <td>0.0</td>\n      <td>0.0</td>\n      <td>0.0</td>\n      <td>0.0</td>\n      <td>0.0</td>\n    </tr>\n    <tr>\n      <th>792720</th>\n      <td>2021-wimbledon-1701</td>\n      <td>4.0</td>\n      <td>5.0</td>\n      <td>3.0</td>\n      <td>9.0</td>\n      <td>0.0</td>\n      <td>274</td>\n      <td>2.0</td>\n      <td>2.0</td>\n      <td>40</td>\n      <td>...</td>\n      <td>0.0</td>\n      <td>1.0</td>\n      <td>0.0</td>\n      <td>0.0</td>\n      <td>0.0</td>\n      <td>0.0</td>\n      <td>1.0</td>\n      <td>0.0</td>\n      <td>0.0</td>\n      <td>0.0</td>\n    </tr>\n    <tr>\n      <th>792721</th>\n      <td>2021-wimbledon-1701</td>\n      <td>4.0</td>\n      <td>5.0</td>\n      <td>3.0</td>\n      <td>9.0</td>\n      <td>0.0</td>\n      <td>275</td>\n      <td>1.0</td>\n      <td>2.0</td>\n      <td>AD</td>\n      <td>...</td>\n      <td>0.0</td>\n      <td>0.0</td>\n      <td>0.0</td>\n      <td>0.0</td>\n      <td>0.0</td>\n      <td>1.0</td>\n      <td>0.0</td>\n      <td>0.0</td>\n      <td>0.0</td>\n      <td>1.0</td>\n    </tr>\n    <tr>\n      <th>792722</th>\n      <td>2021-wimbledon-1701</td>\n      <td>4.0</td>\n      <td>6.0</td>\n      <td>3.0</td>\n      <td>9.0</td>\n      <td>1.0</td>\n      <td>276</td>\n      <td>1.0</td>\n      <td>2.0</td>\n      <td>0</td>\n      <td>...</td>\n      <td>0.0</td>\n      <td>0.0</td>\n      <td>0.0</td>\n      <td>0.0</td>\n      <td>0.0</td>\n      <td>1.0</td>\n      <td>1.0</td>\n      <td>0.0</td>\n      <td>0.0</td>\n      <td>1.0</td>\n    </tr>\n  </tbody>\n</table>\n<p>792723 rows × 21 columns</p>\n</div>"
     },
     "execution_count": 19,
     "metadata": {},
     "output_type": "execute_result"
    }
   ],
   "source": [
    "points"
   ],
   "metadata": {
    "collapsed": false,
    "pycharm": {
     "name": "#%%\n"
    }
   }
  },
  {
   "cell_type": "code",
   "execution_count": 20,
   "outputs": [
    {
     "data": {
      "text/plain": "                   match_id  SetNo  P1GamesWon  P2GamesWon  GameNo  \\\n0         2011-ausopen-1101    1.0         0.0         0.0     1.0   \n1         2011-ausopen-1101    1.0         0.0         0.0     1.0   \n2         2011-ausopen-1101    1.0         0.0         0.0     1.0   \n3         2011-ausopen-1101    1.0         0.0         0.0     1.0   \n4         2011-ausopen-1101    1.0         1.0         0.0     1.0   \n...                     ...    ...         ...         ...     ...   \n792718  2021-wimbledon-1701    4.0         5.0         3.0     9.0   \n792719  2021-wimbledon-1701    4.0         5.0         3.0     9.0   \n792720  2021-wimbledon-1701    4.0         5.0         3.0     9.0   \n792721  2021-wimbledon-1701    4.0         5.0         3.0     9.0   \n792722  2021-wimbledon-1701    4.0         6.0         3.0     9.0   \n\n        GameWinner PointNumber  PointWinner  PointServer P1Score  ...  \\\n0              0.0           0          0.0          0.0       0  ...   \n1              0.0           1          1.0          2.0      15  ...   \n2              0.0           2          1.0          2.0      30  ...   \n3              0.0           3          1.0          2.0      40  ...   \n4              1.0           4          1.0          2.0       0  ...   \n...            ...         ...          ...          ...     ...  ...   \n792718         0.0         272          2.0          2.0      40  ...   \n792719         0.0         273          1.0          2.0      AD  ...   \n792720         0.0         274          2.0          2.0      40  ...   \n792721         0.0         275          1.0          2.0      AD  ...   \n792722         1.0         276          1.0          2.0       0  ...   \n\n       P1DoubleFault  P2DoubleFault  P1UnfErr  P2UnfErr  P1BreakPoint  \\\n0                0.0            0.0       0.0       0.0           0.0   \n1                0.0            0.0       0.0       1.0           0.0   \n2                0.0            0.0       0.0       1.0           0.0   \n3                0.0            0.0       0.0       1.0           0.0   \n4                0.0            0.0       0.0       1.0           1.0   \n...              ...            ...       ...       ...           ...   \n792718           0.0            0.0       0.0       0.0           1.0   \n792719           0.0            0.0       0.0       0.0           0.0   \n792720           0.0            0.0       0.0       0.0           1.0   \n792721           0.0            0.0       0.0       1.0           0.0   \n792722           0.0            0.0       0.0       1.0           1.0   \n\n        P2BreakPoint  P1Errors  P2Errors  P1Pressure  P2Pressure  \n0                0.0       0.0       0.0         0.0         0.0  \n1                0.0       0.0       1.0         0.0         0.0  \n2                0.0       0.0       1.0         0.0         0.0  \n3                0.0       0.0       1.0         0.0         0.0  \n4                0.0       0.0       1.0         0.0         0.0  \n...              ...       ...       ...         ...         ...  \n792718           0.0       0.0       0.0         0.0         0.0  \n792719           0.0       0.0       0.0         0.0         0.0  \n792720           0.0       0.0       0.0         0.0         0.0  \n792721           0.0       0.0       1.0         0.0         0.0  \n792722           0.0       0.0       1.0         0.0         0.0  \n\n[792723 rows x 23 columns]",
      "text/html": "<div>\n<style scoped>\n    .dataframe tbody tr th:only-of-type {\n        vertical-align: middle;\n    }\n\n    .dataframe tbody tr th {\n        vertical-align: top;\n    }\n\n    .dataframe thead th {\n        text-align: right;\n    }\n</style>\n<table border=\"1\" class=\"dataframe\">\n  <thead>\n    <tr style=\"text-align: right;\">\n      <th></th>\n      <th>match_id</th>\n      <th>SetNo</th>\n      <th>P1GamesWon</th>\n      <th>P2GamesWon</th>\n      <th>GameNo</th>\n      <th>GameWinner</th>\n      <th>PointNumber</th>\n      <th>PointWinner</th>\n      <th>PointServer</th>\n      <th>P1Score</th>\n      <th>...</th>\n      <th>P1DoubleFault</th>\n      <th>P2DoubleFault</th>\n      <th>P1UnfErr</th>\n      <th>P2UnfErr</th>\n      <th>P1BreakPoint</th>\n      <th>P2BreakPoint</th>\n      <th>P1Errors</th>\n      <th>P2Errors</th>\n      <th>P1Pressure</th>\n      <th>P2Pressure</th>\n    </tr>\n  </thead>\n  <tbody>\n    <tr>\n      <th>0</th>\n      <td>2011-ausopen-1101</td>\n      <td>1.0</td>\n      <td>0.0</td>\n      <td>0.0</td>\n      <td>1.0</td>\n      <td>0.0</td>\n      <td>0</td>\n      <td>0.0</td>\n      <td>0.0</td>\n      <td>0</td>\n      <td>...</td>\n      <td>0.0</td>\n      <td>0.0</td>\n      <td>0.0</td>\n      <td>0.0</td>\n      <td>0.0</td>\n      <td>0.0</td>\n      <td>0.0</td>\n      <td>0.0</td>\n      <td>0.0</td>\n      <td>0.0</td>\n    </tr>\n    <tr>\n      <th>1</th>\n      <td>2011-ausopen-1101</td>\n      <td>1.0</td>\n      <td>0.0</td>\n      <td>0.0</td>\n      <td>1.0</td>\n      <td>0.0</td>\n      <td>1</td>\n      <td>1.0</td>\n      <td>2.0</td>\n      <td>15</td>\n      <td>...</td>\n      <td>0.0</td>\n      <td>0.0</td>\n      <td>0.0</td>\n      <td>1.0</td>\n      <td>0.0</td>\n      <td>0.0</td>\n      <td>0.0</td>\n      <td>1.0</td>\n      <td>0.0</td>\n      <td>0.0</td>\n    </tr>\n    <tr>\n      <th>2</th>\n      <td>2011-ausopen-1101</td>\n      <td>1.0</td>\n      <td>0.0</td>\n      <td>0.0</td>\n      <td>1.0</td>\n      <td>0.0</td>\n      <td>2</td>\n      <td>1.0</td>\n      <td>2.0</td>\n      <td>30</td>\n      <td>...</td>\n      <td>0.0</td>\n      <td>0.0</td>\n      <td>0.0</td>\n      <td>1.0</td>\n      <td>0.0</td>\n      <td>0.0</td>\n      <td>0.0</td>\n      <td>1.0</td>\n      <td>0.0</td>\n      <td>0.0</td>\n    </tr>\n    <tr>\n      <th>3</th>\n      <td>2011-ausopen-1101</td>\n      <td>1.0</td>\n      <td>0.0</td>\n      <td>0.0</td>\n      <td>1.0</td>\n      <td>0.0</td>\n      <td>3</td>\n      <td>1.0</td>\n      <td>2.0</td>\n      <td>40</td>\n      <td>...</td>\n      <td>0.0</td>\n      <td>0.0</td>\n      <td>0.0</td>\n      <td>1.0</td>\n      <td>0.0</td>\n      <td>0.0</td>\n      <td>0.0</td>\n      <td>1.0</td>\n      <td>0.0</td>\n      <td>0.0</td>\n    </tr>\n    <tr>\n      <th>4</th>\n      <td>2011-ausopen-1101</td>\n      <td>1.0</td>\n      <td>1.0</td>\n      <td>0.0</td>\n      <td>1.0</td>\n      <td>1.0</td>\n      <td>4</td>\n      <td>1.0</td>\n      <td>2.0</td>\n      <td>0</td>\n      <td>...</td>\n      <td>0.0</td>\n      <td>0.0</td>\n      <td>0.0</td>\n      <td>1.0</td>\n      <td>1.0</td>\n      <td>0.0</td>\n      <td>0.0</td>\n      <td>1.0</td>\n      <td>0.0</td>\n      <td>0.0</td>\n    </tr>\n    <tr>\n      <th>...</th>\n      <td>...</td>\n      <td>...</td>\n      <td>...</td>\n      <td>...</td>\n      <td>...</td>\n      <td>...</td>\n      <td>...</td>\n      <td>...</td>\n      <td>...</td>\n      <td>...</td>\n      <td>...</td>\n      <td>...</td>\n      <td>...</td>\n      <td>...</td>\n      <td>...</td>\n      <td>...</td>\n      <td>...</td>\n      <td>...</td>\n      <td>...</td>\n      <td>...</td>\n      <td>...</td>\n    </tr>\n    <tr>\n      <th>792718</th>\n      <td>2021-wimbledon-1701</td>\n      <td>4.0</td>\n      <td>5.0</td>\n      <td>3.0</td>\n      <td>9.0</td>\n      <td>0.0</td>\n      <td>272</td>\n      <td>2.0</td>\n      <td>2.0</td>\n      <td>40</td>\n      <td>...</td>\n      <td>0.0</td>\n      <td>0.0</td>\n      <td>0.0</td>\n      <td>0.0</td>\n      <td>1.0</td>\n      <td>0.0</td>\n      <td>0.0</td>\n      <td>0.0</td>\n      <td>0.0</td>\n      <td>0.0</td>\n    </tr>\n    <tr>\n      <th>792719</th>\n      <td>2021-wimbledon-1701</td>\n      <td>4.0</td>\n      <td>5.0</td>\n      <td>3.0</td>\n      <td>9.0</td>\n      <td>0.0</td>\n      <td>273</td>\n      <td>1.0</td>\n      <td>2.0</td>\n      <td>AD</td>\n      <td>...</td>\n      <td>0.0</td>\n      <td>0.0</td>\n      <td>0.0</td>\n      <td>0.0</td>\n      <td>0.0</td>\n      <td>0.0</td>\n      <td>0.0</td>\n      <td>0.0</td>\n      <td>0.0</td>\n      <td>0.0</td>\n    </tr>\n    <tr>\n      <th>792720</th>\n      <td>2021-wimbledon-1701</td>\n      <td>4.0</td>\n      <td>5.0</td>\n      <td>3.0</td>\n      <td>9.0</td>\n      <td>0.0</td>\n      <td>274</td>\n      <td>2.0</td>\n      <td>2.0</td>\n      <td>40</td>\n      <td>...</td>\n      <td>0.0</td>\n      <td>0.0</td>\n      <td>0.0</td>\n      <td>0.0</td>\n      <td>1.0</td>\n      <td>0.0</td>\n      <td>0.0</td>\n      <td>0.0</td>\n      <td>0.0</td>\n      <td>0.0</td>\n    </tr>\n    <tr>\n      <th>792721</th>\n      <td>2021-wimbledon-1701</td>\n      <td>4.0</td>\n      <td>5.0</td>\n      <td>3.0</td>\n      <td>9.0</td>\n      <td>0.0</td>\n      <td>275</td>\n      <td>1.0</td>\n      <td>2.0</td>\n      <td>AD</td>\n      <td>...</td>\n      <td>0.0</td>\n      <td>0.0</td>\n      <td>0.0</td>\n      <td>1.0</td>\n      <td>0.0</td>\n      <td>0.0</td>\n      <td>0.0</td>\n      <td>1.0</td>\n      <td>0.0</td>\n      <td>0.0</td>\n    </tr>\n    <tr>\n      <th>792722</th>\n      <td>2021-wimbledon-1701</td>\n      <td>4.0</td>\n      <td>6.0</td>\n      <td>3.0</td>\n      <td>9.0</td>\n      <td>1.0</td>\n      <td>276</td>\n      <td>1.0</td>\n      <td>2.0</td>\n      <td>0</td>\n      <td>...</td>\n      <td>0.0</td>\n      <td>0.0</td>\n      <td>0.0</td>\n      <td>1.0</td>\n      <td>1.0</td>\n      <td>0.0</td>\n      <td>0.0</td>\n      <td>1.0</td>\n      <td>0.0</td>\n      <td>0.0</td>\n    </tr>\n  </tbody>\n</table>\n<p>792723 rows × 23 columns</p>\n</div>"
     },
     "execution_count": 20,
     "metadata": {},
     "output_type": "execute_result"
    }
   ],
   "source": [
    "points[\"P1Pressure\"] = np.zeros(len(points))\n",
    "points[\"P2Pressure\"] = np.zeros(len(points))\n",
    "points"
   ],
   "metadata": {
    "collapsed": false,
    "pycharm": {
     "name": "#%%\n"
    }
   }
  },
  {
   "cell_type": "code",
   "execution_count": 21,
   "outputs": [
    {
     "name": "stderr",
     "output_type": "stream",
     "text": [
      "C:\\Users\\anhmi\\miniconda3\\lib\\site-packages\\ipykernel_launcher.py:23: SettingWithCopyWarning: \n",
      "A value is trying to be set on a copy of a slice from a DataFrame\n",
      "\n",
      "See the caveats in the documentation: https://pandas.pydata.org/pandas-docs/stable/user_guide/indexing.html#returning-a-view-versus-a-copy\n",
      "C:\\Users\\anhmi\\miniconda3\\lib\\site-packages\\ipykernel_launcher.py:29: SettingWithCopyWarning: \n",
      "A value is trying to be set on a copy of a slice from a DataFrame\n",
      "\n",
      "See the caveats in the documentation: https://pandas.pydata.org/pandas-docs/stable/user_guide/indexing.html#returning-a-view-versus-a-copy\n",
      "C:\\Users\\anhmi\\miniconda3\\lib\\site-packages\\ipykernel_launcher.py:5: SettingWithCopyWarning: \n",
      "A value is trying to be set on a copy of a slice from a DataFrame\n",
      "\n",
      "See the caveats in the documentation: https://pandas.pydata.org/pandas-docs/stable/user_guide/indexing.html#returning-a-view-versus-a-copy\n",
      "  \"\"\"\n",
      "C:\\Users\\anhmi\\miniconda3\\lib\\site-packages\\ipykernel_launcher.py:6: SettingWithCopyWarning: \n",
      "A value is trying to be set on a copy of a slice from a DataFrame\n",
      "\n",
      "See the caveats in the documentation: https://pandas.pydata.org/pandas-docs/stable/user_guide/indexing.html#returning-a-view-versus-a-copy\n",
      "  \n",
      "C:\\Users\\anhmi\\miniconda3\\lib\\site-packages\\ipykernel_launcher.py:12: SettingWithCopyWarning: \n",
      "A value is trying to be set on a copy of a slice from a DataFrame\n",
      "\n",
      "See the caveats in the documentation: https://pandas.pydata.org/pandas-docs/stable/user_guide/indexing.html#returning-a-view-versus-a-copy\n",
      "  if sys.path[0] == \"\":\n",
      "C:\\Users\\anhmi\\miniconda3\\lib\\site-packages\\ipykernel_launcher.py:21: SettingWithCopyWarning: \n",
      "A value is trying to be set on a copy of a slice from a DataFrame\n",
      "\n",
      "See the caveats in the documentation: https://pandas.pydata.org/pandas-docs/stable/user_guide/indexing.html#returning-a-view-versus-a-copy\n",
      "C:\\Users\\anhmi\\miniconda3\\lib\\site-packages\\ipykernel_launcher.py:27: SettingWithCopyWarning: \n",
      "A value is trying to be set on a copy of a slice from a DataFrame\n",
      "\n",
      "See the caveats in the documentation: https://pandas.pydata.org/pandas-docs/stable/user_guide/indexing.html#returning-a-view-versus-a-copy\n",
      "C:\\Users\\anhmi\\miniconda3\\lib\\site-packages\\ipykernel_launcher.py:10: SettingWithCopyWarning: \n",
      "A value is trying to be set on a copy of a slice from a DataFrame\n",
      "\n",
      "See the caveats in the documentation: https://pandas.pydata.org/pandas-docs/stable/user_guide/indexing.html#returning-a-view-versus-a-copy\n",
      "  # Remove the CWD from sys.path while we load stuff.\n",
      "C:\\Users\\anhmi\\miniconda3\\lib\\site-packages\\ipykernel_launcher.py:16: SettingWithCopyWarning: \n",
      "A value is trying to be set on a copy of a slice from a DataFrame\n",
      "\n",
      "See the caveats in the documentation: https://pandas.pydata.org/pandas-docs/stable/user_guide/indexing.html#returning-a-view-versus-a-copy\n",
      "  \n",
      "C:\\Users\\anhmi\\miniconda3\\lib\\site-packages\\ipykernel_launcher.py:17: SettingWithCopyWarning: \n",
      "A value is trying to be set on a copy of a slice from a DataFrame\n",
      "\n",
      "See the caveats in the documentation: https://pandas.pydata.org/pandas-docs/stable/user_guide/indexing.html#returning-a-view-versus-a-copy\n",
      "  app.launch_new_instance()\n"
     ]
    },
    {
     "data": {
      "text/plain": "                   match_id  SetNo  P1GamesWon  P2GamesWon  GameNo  \\\n0         2011-ausopen-1101    1.0         0.0         0.0     1.0   \n1         2011-ausopen-1101    1.0         0.0         0.0     1.0   \n2         2011-ausopen-1101    1.0         0.0         0.0     1.0   \n3         2011-ausopen-1101    1.0         0.0         0.0     1.0   \n4         2011-ausopen-1101    1.0         1.0         0.0     1.0   \n...                     ...    ...         ...         ...     ...   \n792718  2021-wimbledon-1701    4.0         5.0         3.0     9.0   \n792719  2021-wimbledon-1701    4.0         5.0         3.0     9.0   \n792720  2021-wimbledon-1701    4.0         5.0         3.0     9.0   \n792721  2021-wimbledon-1701    4.0         5.0         3.0     9.0   \n792722  2021-wimbledon-1701    4.0         6.0         3.0     9.0   \n\n        GameWinner PointNumber  PointWinner  PointServer P1Score  ...  \\\n0              0.0           0          0.0          0.0       0  ...   \n1              0.0           1          1.0          2.0      15  ...   \n2              0.0           2          1.0          2.0      30  ...   \n3              0.0           3          1.0          2.0      40  ...   \n4              1.0           4          1.0          2.0       0  ...   \n...            ...         ...          ...          ...     ...  ...   \n792718         0.0         272          2.0          2.0      40  ...   \n792719         0.0         273          1.0          2.0      AD  ...   \n792720         0.0         274          2.0          2.0      40  ...   \n792721         0.0         275          1.0          2.0      AD  ...   \n792722         1.0         276          1.0          2.0       0  ...   \n\n       P1DoubleFault  P2DoubleFault  P1UnfErr  P2UnfErr  P1BreakPoint  \\\n0                0.0            0.0       0.0       0.0           0.0   \n1                0.0            0.0       0.0       1.0           0.0   \n2                0.0            0.0       0.0       1.0           0.0   \n3                0.0            0.0       0.0       1.0           0.0   \n4                0.0            0.0       0.0       1.0           1.0   \n...              ...            ...       ...       ...           ...   \n792718           0.0            0.0       0.0       0.0           1.0   \n792719           0.0            0.0       0.0       0.0           0.0   \n792720           0.0            0.0       0.0       0.0           1.0   \n792721           0.0            0.0       0.0       1.0           0.0   \n792722           0.0            0.0       0.0       1.0           1.0   \n\n        P2BreakPoint  P1Errors  P2Errors  P1Pressure  P2Pressure  \n0                0.0       0.0       0.0         0.0         0.0  \n1                0.0       0.0       1.0         0.0         0.0  \n2                0.0       0.0       1.0         0.0         0.0  \n3                0.0       0.0       1.0         0.0         1.0  \n4                0.0       0.0       1.0         0.0         1.0  \n...              ...       ...       ...         ...         ...  \n792718           0.0       0.0       0.0         1.0         3.0  \n792719           0.0       0.0       0.0         1.0         3.0  \n792720           0.0       0.0       0.0         1.0         3.0  \n792721           0.0       0.0       1.0         1.0         3.0  \n792722           0.0       0.0       1.0         0.0         2.0  \n\n[792723 rows x 23 columns]",
      "text/html": "<div>\n<style scoped>\n    .dataframe tbody tr th:only-of-type {\n        vertical-align: middle;\n    }\n\n    .dataframe tbody tr th {\n        vertical-align: top;\n    }\n\n    .dataframe thead th {\n        text-align: right;\n    }\n</style>\n<table border=\"1\" class=\"dataframe\">\n  <thead>\n    <tr style=\"text-align: right;\">\n      <th></th>\n      <th>match_id</th>\n      <th>SetNo</th>\n      <th>P1GamesWon</th>\n      <th>P2GamesWon</th>\n      <th>GameNo</th>\n      <th>GameWinner</th>\n      <th>PointNumber</th>\n      <th>PointWinner</th>\n      <th>PointServer</th>\n      <th>P1Score</th>\n      <th>...</th>\n      <th>P1DoubleFault</th>\n      <th>P2DoubleFault</th>\n      <th>P1UnfErr</th>\n      <th>P2UnfErr</th>\n      <th>P1BreakPoint</th>\n      <th>P2BreakPoint</th>\n      <th>P1Errors</th>\n      <th>P2Errors</th>\n      <th>P1Pressure</th>\n      <th>P2Pressure</th>\n    </tr>\n  </thead>\n  <tbody>\n    <tr>\n      <th>0</th>\n      <td>2011-ausopen-1101</td>\n      <td>1.0</td>\n      <td>0.0</td>\n      <td>0.0</td>\n      <td>1.0</td>\n      <td>0.0</td>\n      <td>0</td>\n      <td>0.0</td>\n      <td>0.0</td>\n      <td>0</td>\n      <td>...</td>\n      <td>0.0</td>\n      <td>0.0</td>\n      <td>0.0</td>\n      <td>0.0</td>\n      <td>0.0</td>\n      <td>0.0</td>\n      <td>0.0</td>\n      <td>0.0</td>\n      <td>0.0</td>\n      <td>0.0</td>\n    </tr>\n    <tr>\n      <th>1</th>\n      <td>2011-ausopen-1101</td>\n      <td>1.0</td>\n      <td>0.0</td>\n      <td>0.0</td>\n      <td>1.0</td>\n      <td>0.0</td>\n      <td>1</td>\n      <td>1.0</td>\n      <td>2.0</td>\n      <td>15</td>\n      <td>...</td>\n      <td>0.0</td>\n      <td>0.0</td>\n      <td>0.0</td>\n      <td>1.0</td>\n      <td>0.0</td>\n      <td>0.0</td>\n      <td>0.0</td>\n      <td>1.0</td>\n      <td>0.0</td>\n      <td>0.0</td>\n    </tr>\n    <tr>\n      <th>2</th>\n      <td>2011-ausopen-1101</td>\n      <td>1.0</td>\n      <td>0.0</td>\n      <td>0.0</td>\n      <td>1.0</td>\n      <td>0.0</td>\n      <td>2</td>\n      <td>1.0</td>\n      <td>2.0</td>\n      <td>30</td>\n      <td>...</td>\n      <td>0.0</td>\n      <td>0.0</td>\n      <td>0.0</td>\n      <td>1.0</td>\n      <td>0.0</td>\n      <td>0.0</td>\n      <td>0.0</td>\n      <td>1.0</td>\n      <td>0.0</td>\n      <td>0.0</td>\n    </tr>\n    <tr>\n      <th>3</th>\n      <td>2011-ausopen-1101</td>\n      <td>1.0</td>\n      <td>0.0</td>\n      <td>0.0</td>\n      <td>1.0</td>\n      <td>0.0</td>\n      <td>3</td>\n      <td>1.0</td>\n      <td>2.0</td>\n      <td>40</td>\n      <td>...</td>\n      <td>0.0</td>\n      <td>0.0</td>\n      <td>0.0</td>\n      <td>1.0</td>\n      <td>0.0</td>\n      <td>0.0</td>\n      <td>0.0</td>\n      <td>1.0</td>\n      <td>0.0</td>\n      <td>1.0</td>\n    </tr>\n    <tr>\n      <th>4</th>\n      <td>2011-ausopen-1101</td>\n      <td>1.0</td>\n      <td>1.0</td>\n      <td>0.0</td>\n      <td>1.0</td>\n      <td>1.0</td>\n      <td>4</td>\n      <td>1.0</td>\n      <td>2.0</td>\n      <td>0</td>\n      <td>...</td>\n      <td>0.0</td>\n      <td>0.0</td>\n      <td>0.0</td>\n      <td>1.0</td>\n      <td>1.0</td>\n      <td>0.0</td>\n      <td>0.0</td>\n      <td>1.0</td>\n      <td>0.0</td>\n      <td>1.0</td>\n    </tr>\n    <tr>\n      <th>...</th>\n      <td>...</td>\n      <td>...</td>\n      <td>...</td>\n      <td>...</td>\n      <td>...</td>\n      <td>...</td>\n      <td>...</td>\n      <td>...</td>\n      <td>...</td>\n      <td>...</td>\n      <td>...</td>\n      <td>...</td>\n      <td>...</td>\n      <td>...</td>\n      <td>...</td>\n      <td>...</td>\n      <td>...</td>\n      <td>...</td>\n      <td>...</td>\n      <td>...</td>\n      <td>...</td>\n    </tr>\n    <tr>\n      <th>792718</th>\n      <td>2021-wimbledon-1701</td>\n      <td>4.0</td>\n      <td>5.0</td>\n      <td>3.0</td>\n      <td>9.0</td>\n      <td>0.0</td>\n      <td>272</td>\n      <td>2.0</td>\n      <td>2.0</td>\n      <td>40</td>\n      <td>...</td>\n      <td>0.0</td>\n      <td>0.0</td>\n      <td>0.0</td>\n      <td>0.0</td>\n      <td>1.0</td>\n      <td>0.0</td>\n      <td>0.0</td>\n      <td>0.0</td>\n      <td>1.0</td>\n      <td>3.0</td>\n    </tr>\n    <tr>\n      <th>792719</th>\n      <td>2021-wimbledon-1701</td>\n      <td>4.0</td>\n      <td>5.0</td>\n      <td>3.0</td>\n      <td>9.0</td>\n      <td>0.0</td>\n      <td>273</td>\n      <td>1.0</td>\n      <td>2.0</td>\n      <td>AD</td>\n      <td>...</td>\n      <td>0.0</td>\n      <td>0.0</td>\n      <td>0.0</td>\n      <td>0.0</td>\n      <td>0.0</td>\n      <td>0.0</td>\n      <td>0.0</td>\n      <td>0.0</td>\n      <td>1.0</td>\n      <td>3.0</td>\n    </tr>\n    <tr>\n      <th>792720</th>\n      <td>2021-wimbledon-1701</td>\n      <td>4.0</td>\n      <td>5.0</td>\n      <td>3.0</td>\n      <td>9.0</td>\n      <td>0.0</td>\n      <td>274</td>\n      <td>2.0</td>\n      <td>2.0</td>\n      <td>40</td>\n      <td>...</td>\n      <td>0.0</td>\n      <td>0.0</td>\n      <td>0.0</td>\n      <td>0.0</td>\n      <td>1.0</td>\n      <td>0.0</td>\n      <td>0.0</td>\n      <td>0.0</td>\n      <td>1.0</td>\n      <td>3.0</td>\n    </tr>\n    <tr>\n      <th>792721</th>\n      <td>2021-wimbledon-1701</td>\n      <td>4.0</td>\n      <td>5.0</td>\n      <td>3.0</td>\n      <td>9.0</td>\n      <td>0.0</td>\n      <td>275</td>\n      <td>1.0</td>\n      <td>2.0</td>\n      <td>AD</td>\n      <td>...</td>\n      <td>0.0</td>\n      <td>0.0</td>\n      <td>0.0</td>\n      <td>1.0</td>\n      <td>0.0</td>\n      <td>0.0</td>\n      <td>0.0</td>\n      <td>1.0</td>\n      <td>1.0</td>\n      <td>3.0</td>\n    </tr>\n    <tr>\n      <th>792722</th>\n      <td>2021-wimbledon-1701</td>\n      <td>4.0</td>\n      <td>6.0</td>\n      <td>3.0</td>\n      <td>9.0</td>\n      <td>1.0</td>\n      <td>276</td>\n      <td>1.0</td>\n      <td>2.0</td>\n      <td>0</td>\n      <td>...</td>\n      <td>0.0</td>\n      <td>0.0</td>\n      <td>0.0</td>\n      <td>1.0</td>\n      <td>1.0</td>\n      <td>0.0</td>\n      <td>0.0</td>\n      <td>1.0</td>\n      <td>0.0</td>\n      <td>2.0</td>\n    </tr>\n  </tbody>\n</table>\n<p>792723 rows × 23 columns</p>\n</div>"
     },
     "execution_count": 21,
     "metadata": {},
     "output_type": "execute_result"
    }
   ],
   "source": [
    "for i in range(len(points)):\n",
    "    # if late in the game\n",
    "    if (((points[\"P1Score\"][i] == '30') | (points[\"P1Score\"][i] == '40') | (points[\"P1Score\"][i] == 'AD'))\n",
    "        & ((points[\"P2Score\"][i] == '30') | (points[\"P2Score\"][i] == '40') | (points[\"P2Score\"][i] == 'AD'))):\n",
    "        points[\"P1Pressure\"][i] += 1\n",
    "        points[\"P2Pressure\"][i] += 1\n",
    "\n",
    "    #if opponent about to win the set and you're behind\n",
    "    if (points[\"P2GamesWon\"][i] >= 5) & (points[\"P1GamesWon\"][i] < points[\"P2GamesWon\"][i]):\n",
    "        points[\"P1Pressure\"][i] += 1\n",
    "    if (points[\"P1GamesWon\"][i] >= 5) & (points[\"P1GamesWon\"][i] > points[\"P2GamesWon\"][i]):\n",
    "        points[\"P2Pressure\"][i] += 1\n",
    "\n",
    "    # if deciding set\n",
    "    if points[\"SetNo\"][i] == 5:\n",
    "        points[\"P1Pressure\"][i] += 1\n",
    "        points[\"P2Pressure\"][i] += 1\n",
    "\n",
    "    # if facing a game point\n",
    "    if ((points[\"P2Score\"][i] == 'AD') & (points[\"P1Score\"][i] != 'AD')) | ((points[\"P2Score\"][i] == '40') & ((points[\"P1Score\"][i] == '30') | (points[\"P1Score\"][i] == '15') | (points[\"P1Score\"][i] == '0'))):\n",
    "        points[\"P1Pressure\"][i] += 1\n",
    "    if ((points[\"P1Score\"][i] == 'AD') & (points[\"P2Score\"][i] != 'AD')) | ((points[\"P1Score\"][i] == '40') & ((points[\"P2Score\"][i] == '30') | (points[\"P2Score\"][i] == '15') | (points[\"P2Score\"][i] == '0'))):\n",
    "        points[\"P2Pressure\"][i] += 1\n",
    "\n",
    "    # if facing break point\n",
    "    if points[\"P2BreakPoint\"][i] == 1:\n",
    "        points[\"P1Pressure\"][i] += 1\n",
    "    if points[\"P1BreakPoint\"][i] == 1:\n",
    "        points[\"P2Pressure\"][i] += 1\n",
    "points"
   ],
   "metadata": {
    "collapsed": false,
    "pycharm": {
     "name": "#%%\n"
    }
   }
  },
  {
   "cell_type": "code",
   "execution_count": 7,
   "outputs": [
    {
     "data": {
      "text/plain": "'15'"
     },
     "execution_count": 7,
     "metadata": {},
     "output_type": "execute_result"
    }
   ],
   "source": [
    "points.loc[points.index[12], \"P1Score\"]"
   ],
   "metadata": {
    "collapsed": false,
    "pycharm": {
     "name": "#%%\n"
    }
   }
  },
  {
   "cell_type": "code",
   "execution_count": 22,
   "outputs": [],
   "source": [
    "points.to_csv(\"../data/points-pressure.csv\")"
   ],
   "metadata": {
    "collapsed": false,
    "pycharm": {
     "name": "#%%\n"
    }
   }
  },
  {
   "cell_type": "code",
   "execution_count": 8,
   "outputs": [],
   "source": [],
   "metadata": {
    "collapsed": false,
    "pycharm": {
     "name": "#%%\n"
    }
   }
  }
 ],
 "metadata": {
  "kernelspec": {
   "display_name": "Python 3.9.10 64-bit",
   "language": "python",
   "name": "python3"
  },
  "language_info": {
   "codemirror_mode": {
    "name": "ipython",
    "version": 3
   },
   "file_extension": ".py",
   "mimetype": "text/x-python",
   "name": "python",
   "nbconvert_exporter": "python",
   "pygments_lexer": "ipython3",
   "version": "3.9.10"
  },
  "orig_nbformat": 4,
  "vscode": {
   "interpreter": {
    "hash": "e7370f93d1d0cde622a1f8e1c04877d8463912d04d973331ad4851f04de6915a"
   }
  }
 },
 "nbformat": 4,
 "nbformat_minor": 2
}