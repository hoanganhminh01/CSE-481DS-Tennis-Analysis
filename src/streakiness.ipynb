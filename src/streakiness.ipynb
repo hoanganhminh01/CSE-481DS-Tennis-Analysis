{
 "cells": [
  {
   "cell_type": "code",
   "execution_count": null,
   "outputs": [],
   "source": [
    "import pandas as pd\n",
    "import numpy as np\n",
    "import seaborn as sns\n",
    "from sklearn.linear_model import LinearRegression, LogisticRegression\n",
    "from matplotlib import pyplot as plt"
   ],
   "metadata": {
    "collapsed": false,
    "pycharm": {
     "name": "#%%\n"
    }
   }
  },
  {
   "cell_type": "code",
   "execution_count": null,
   "outputs": [],
   "source": [
    "SAMPLE_ORDER = list(range(530827))\n",
    "np.random.shuffle(SAMPLE_ORDER)"
   ],
   "metadata": {
    "collapsed": false,
    "pycharm": {
     "name": "#%%\n"
    }
   }
  },
  {
   "cell_type": "code",
   "execution_count": null,
   "outputs": [],
   "source": [
    "points = pd.read_csv(\"../data/flowchart-data/charting-m-points.csv\", encoding='unicode_escape')"
   ],
   "metadata": {
    "collapsed": false,
    "pycharm": {
     "name": "#%%\n"
    }
   }
  },
  {
   "cell_type": "code",
   "execution_count": null,
   "outputs": [],
   "source": [
    "points"
   ],
   "metadata": {
    "collapsed": false,
    "pycharm": {
     "name": "#%%\n"
    }
   }
  },
  {
   "cell_type": "markdown",
   "source": [
    "### plan\n",
    "\n",
    "go through each match and keep a column for who won each individual point. also who was serving for each point. so make a separate table out of this and then we can try making one with features for the last 10, etc.\n",
    "\n",
    "oh also we should keep a column for who was in the match"
   ],
   "metadata": {
    "collapsed": false,
    "pycharm": {
     "name": "#%% md\n"
    }
   }
  },
  {
   "cell_type": "code",
   "execution_count": null,
   "outputs": [],
   "source": [
    "trimmed = points[points[\"match_id\"] > \"1991\"][[\"match_id\", \"PtWinner\", \"isSvrWinner\"]]\n",
    "trimmed[\"p1Win\"] = trimmed[\"PtWinner\"] == 1\n",
    "trimmed[\"isSvrWinner\"] = trimmed[\"isSvrWinner\"] == 1\n",
    "trimmed[\"p1Served\"] = trimmed[\"p1Win\"] == trimmed[\"isSvrWinner\"]\n",
    "del(trimmed[\"PtWinner\"])"
   ],
   "metadata": {
    "collapsed": false,
    "pycharm": {
     "name": "#%%\n"
    }
   }
  },
  {
   "cell_type": "code",
   "execution_count": null,
   "outputs": [],
   "source": [
    "points_dict = trimmed.to_dict(\"records\")\n",
    "points_dict"
   ],
   "metadata": {
    "collapsed": false,
    "pycharm": {
     "name": "#%%\n"
    }
   }
  },
  {
   "cell_type": "code",
   "execution_count": null,
   "outputs": [],
   "source": [
    "current_match = \"\"\n",
    "p1Win_p1Served = 0\n",
    "p1Win_p2Served = 0\n",
    "p2Win_p1Served = 0\n",
    "p2Win_p2Served = 0\n",
    "last5_p1Served = []\n",
    "last5_p2Served = []\n",
    "\n",
    "for p in points_dict:\n",
    "  if p[\"match_id\"] != current_match:\n",
    "    p1Win_p1Served = 0\n",
    "    p1Win_p2Served = 0\n",
    "    p2Win_p1Served = 0\n",
    "    p2Win_p2Served = 0\n",
    "    last5_p1Served = [None] * 5\n",
    "    last5_p2Served = [None] * 5\n",
    "    current_match = p[\"match_id\"]\n",
    "  p[\"p1Win_p1Served\"] = p1Win_p1Served\n",
    "  p[\"p1Win_p2Served\"] = p1Win_p2Served\n",
    "  p[\"p2Win_p1Served\"] = p2Win_p1Served\n",
    "  p[\"p2Win_p2Served\"] = p2Win_p2Served\n",
    "  p[\"p1Served1\"] = last5_p1Served[-1]\n",
    "  p[\"p1Served2\"] = last5_p1Served[-2]\n",
    "  p[\"p1Served3\"] = last5_p1Served[-3]\n",
    "  p[\"p1Served4\"] = last5_p1Served[-4]\n",
    "  p[\"p1Served5\"] = last5_p1Served[-5]\n",
    "  p[\"p2Served1\"] = last5_p2Served[-1]\n",
    "  p[\"p2Served2\"] = last5_p2Served[-2]\n",
    "  p[\"p2Served3\"] = last5_p2Served[-3]\n",
    "  p[\"p2Served4\"] = last5_p2Served[-4]\n",
    "  p[\"p2Served5\"] = last5_p2Served[-5]\n",
    "  if p[\"p1Served\"]:\n",
    "    last5_p1Served.append(p[\"p1Win\"])\n",
    "    p1Win_p1Served += p[\"p1Win\"]\n",
    "    p2Win_p1Served += not p[\"p1Win\"]\n",
    "    last5_p1Served.pop(0)\n",
    "  else:\n",
    "    last5_p2Served.append(p[\"p1Win\"])\n",
    "    p1Win_p2Served += p[\"p1Win\"]\n",
    "    p2Win_p2Served += not p[\"p1Win\"]\n",
    "    last5_p2Served.pop(0)"
   ],
   "metadata": {
    "collapsed": false,
    "pycharm": {
     "name": "#%%\n"
    }
   }
  },
  {
   "cell_type": "code",
   "execution_count": null,
   "outputs": [],
   "source": [
    "with_last5 = pd.DataFrame.from_dict(points_dict)\n",
    "with_last5"
   ],
   "metadata": {
    "collapsed": false,
    "pycharm": {
     "name": "#%%\n"
    }
   }
  },
  {
   "cell_type": "code",
   "execution_count": null,
   "outputs": [],
   "source": [
    "with_last5 = with_last5.dropna(axis=0, how=\"any\")"
   ],
   "metadata": {
    "collapsed": false,
    "pycharm": {
     "name": "#%%\n"
    }
   }
  },
  {
   "cell_type": "code",
   "execution_count": null,
   "outputs": [],
   "source": [
    "serve_agg = with_last5.groupby(\"match_id\").max([\"p1Win_p1Served\", \"p2Win_p1Served\", \"p1Win_p2Served\", \"p2Win_p2Served\"])"
   ],
   "metadata": {
    "collapsed": false,
    "pycharm": {
     "name": "#%%\n"
    }
   }
  },
  {
   "cell_type": "code",
   "execution_count": null,
   "outputs": [],
   "source": [
    "serve_sums = serve_agg[[\"p1Win_p1Served\", \"p2Win_p1Served\", \"p1Win_p2Served\", \"p2Win_p2Served\"]].sum()"
   ],
   "metadata": {
    "collapsed": false,
    "pycharm": {
     "name": "#%%\n"
    }
   }
  },
  {
   "cell_type": "markdown",
   "source": [
    "the serving player wins about 64% of the time, basically"
   ],
   "metadata": {
    "collapsed": false,
    "pycharm": {
     "name": "#%% md\n"
    }
   }
  },
  {
   "cell_type": "code",
   "execution_count": null,
   "outputs": [],
   "source": [
    "(serve_sums[0] + serve_sums[3]) / sum(serve_sums)"
   ],
   "metadata": {
    "collapsed": false,
    "pycharm": {
     "name": "#%%\n"
    }
   }
  },
  {
   "cell_type": "code",
   "execution_count": null,
   "outputs": [],
   "source": [
    "win_pct = with_last5.copy()\n",
    "win_pct[\"pct_p1Served\"] = (win_pct[\"p1Win_p1Served\"] + 32) / (win_pct[\"p1Win_p1Served\"] + win_pct[\"p2Win_p1Served\"] + 50.0)\n",
    "win_pct[\"pct_p2Served\"] = (win_pct[\"p1Win_p2Served\"] + 18) / (win_pct[\"p1Win_p2Served\"] + win_pct[\"p2Win_p2Served\"] + 50.0)\n",
    "del(win_pct[\"p1Win_p1Served\"])\n",
    "del(win_pct[\"p2Win_p1Served\"])\n",
    "del(win_pct[\"p1Win_p2Served\"])\n",
    "del(win_pct[\"p2Win_p2Served\"])"
   ],
   "metadata": {
    "collapsed": false,
    "pycharm": {
     "name": "#%%\n"
    }
   }
  },
  {
   "cell_type": "code",
   "execution_count": null,
   "outputs": [],
   "source": [
    "win_pct_np = win_pct.iloc[:, 1:].to_numpy(\"float\")[SAMPLE_ORDER]"
   ],
   "metadata": {
    "collapsed": false,
    "pycharm": {
     "name": "#%%\n"
    }
   }
  },
  {
   "cell_type": "code",
   "execution_count": null,
   "outputs": [],
   "source": [
    "y = win_pct_np[:, 1]\n",
    "x_seq = win_pct_np[:, 2:]\n",
    "x_no_seq = win_pct_np[:, [2, 13, 14]]"
   ],
   "metadata": {
    "collapsed": false,
    "pycharm": {
     "name": "#%%\n"
    }
   }
  },
  {
   "cell_type": "code",
   "execution_count": null,
   "outputs": [],
   "source": [
    "server_wins = win_pct_np.copy()\n",
    "server_wins[win_pct_np[:, 2] == 0] = 1 - server_wins[win_pct_np[:, 2] == 0][:, list(range(0, 3)) + list(range(8, 13)) + list(range(3, 8)) + [14, 13]]\n",
    "server_wins"
   ],
   "metadata": {
    "collapsed": false,
    "pycharm": {
     "name": "#%%\n"
    }
   }
  },
  {
   "cell_type": "code",
   "execution_count": null,
   "outputs": [],
   "source": [
    "X = server_wins[:, 3:]\n",
    "y = server_wins[:, 1]\n",
    "np.mean(X, axis=0)"
   ],
   "metadata": {
    "collapsed": false,
    "pycharm": {
     "name": "#%%\n"
    }
   }
  },
  {
   "cell_type": "markdown",
   "source": [
    "the first two are your accuracy with all the features. the middle two are your accuracy only knowing each player's win % so far on points they've served. the last two are your accuracy only knowing the outcomes of the last 5 points each player has served."
   ],
   "metadata": {
    "collapsed": false,
    "pycharm": {
     "name": "#%% md\n"
    }
   }
  },
  {
   "cell_type": "code",
   "execution_count": null,
   "outputs": [],
   "source": [
    "linear_seq = LinearRegression().fit(X[:400000], y[:400000])\n",
    "linear_no_seq = LinearRegression().fit(X[:400000, 10:], y[:400000])\n",
    "linear_only_last5 = LinearRegression().fit(X[:400000, :10], y[:400000])\n",
    "log_seq = LogisticRegression().fit(X[:400000], y[:400000])\n",
    "log_no_seq = LogisticRegression().fit(X[:400000, 10:], y[:400000])\n",
    "log_only_last5 = LogisticRegression().fit(X[:400000, :10], y[:400000])\n",
    "\n",
    "(\n",
    "  np.mean(np.square(y[400000:] - log_seq.predict_proba(X[400000:, ])[:, 1])),\n",
    "  np.mean(np.square(y[400000:] - linear_seq.predict(X[400000:, ]))),\n",
    "  np.mean(np.square(y[400000:] - log_no_seq.predict_proba(X[400000:, 10:])[:, 1])),\n",
    "  np.mean(np.square(y[400000:] - linear_no_seq.predict(X[400000:, 10:]))),\n",
    "  np.mean(np.square(y[400000:] - linear_only_last5.predict(X[400000:, :10]))),\n",
    "  np.mean(np.square(y[400000:] - log_only_last5.predict(X[400000:, :10])))\n",
    ")\n",
    "  "
   ],
   "metadata": {
    "collapsed": false,
    "pycharm": {
     "name": "#%%\n"
    }
   }
  },
  {
   "cell_type": "markdown",
   "source": [
    "for comparison: your accuracy if you only know who serves"
   ],
   "metadata": {
    "collapsed": false,
    "pycharm": {
     "name": "#%% md\n"
    }
   }
  },
  {
   "cell_type": "code",
   "execution_count": null,
   "outputs": [],
   "source": [
    "np.square((1 - np.mean(y[:400000]))) * np.mean(y[400000:]) + np.square(np.mean(y[:400000])) * (1 - np.mean(y[400000:]))"
   ],
   "metadata": {
    "collapsed": false,
    "pycharm": {
     "name": "#%%\n"
    }
   }
  },
  {
   "cell_type": "code",
   "execution_count": null,
   "outputs": [],
   "source": [
    "plt.hist(log_seq.predict_proba(X)[:100, 1])\n",
    "plt.xlabel(\"Prediction\")\n",
    "plt.ylabel(\"Density\")\n",
    "plt.title(\"Prediction Densities for Logistic Regression with Sequential Data\")\n",
    "plt.savefig(\"../plots/logseq.png\")"
   ],
   "metadata": {
    "collapsed": false,
    "pycharm": {
     "name": "#%%\n"
    }
   }
  },
  {
   "cell_type": "code",
   "execution_count": null,
   "outputs": [],
   "source": [
    "p = sns.histplot(linear_seq.predict(X))\n",
    "p.set(xlabel = 'Prediction', ylabel = 'Density', title=\"Probability Densities for Linear Regression with Sequential Data\")"
   ],
   "metadata": {
    "collapsed": false,
    "pycharm": {
     "name": "#%%\n"
    }
   }
  },
  {
   "cell_type": "code",
   "execution_count": null,
   "outputs": [],
   "source": [
    "sns.histplot(linear_no_seq.predict(X[:, 0:2]))"
   ],
   "metadata": {
    "collapsed": false,
    "pycharm": {
     "name": "#%%\n"
    }
   }
  },
  {
   "cell_type": "code",
   "execution_count": null,
   "outputs": [],
   "source": [
    "sns.histplot(linear_only_last5.predict(X[:, 0:10]))"
   ],
   "metadata": {
    "collapsed": false,
    "pycharm": {
     "name": "#%%\n"
    }
   }
  },
  {
   "cell_type": "code",
   "execution_count": null,
   "outputs": [],
   "source": [
    "sns.histplot(log_only_last5.predict_proba(X[:,0:10]))"
   ],
   "metadata": {
    "collapsed": false,
    "pycharm": {
     "name": "#%%\n"
    }
   }
  },
  {
   "cell_type": "code",
   "execution_count": null,
   "outputs": [],
   "source": [
    "print(np.array2string(linear_seq.coef_, precision=5, suppress_small=True))"
   ],
   "metadata": {
    "collapsed": false,
    "pycharm": {
     "name": "#%%\n"
    }
   }
  },
  {
   "cell_type": "markdown",
   "source": [
    "### TA meeting feedback\n",
    "\n",
    "in presentation: list our variables both mathematically and in language\n",
    "\n",
    "add more features and see if that boosts performance\n",
    "\n",
    "try adding a \"# of points played in match\" feature (normalized)\n",
    "\n",
    "try LASSO or ridge regression?"
   ],
   "metadata": {
    "collapsed": false,
    "pycharm": {
     "name": "#%% md\n"
    }
   }
  }
 ],
 "metadata": {
  "kernelspec": {
   "display_name": "Python 3.9.13 ('base')",
   "language": "python",
   "name": "python3"
  },
  "language_info": {
   "codemirror_mode": {
    "name": "ipython",
    "version": 3
   },
   "file_extension": ".py",
   "mimetype": "text/x-python",
   "name": "python",
   "nbconvert_exporter": "python",
   "pygments_lexer": "ipython3",
   "version": "3.9.13"
  },
  "vscode": {
   "interpreter": {
    "hash": "3b5e62b5d0c8b834fbb62b2e3176b93acd783ba945016df0dfb83005ea9d1fae"
   }
  }
 },
 "nbformat": 4,
 "nbformat_minor": 2
}