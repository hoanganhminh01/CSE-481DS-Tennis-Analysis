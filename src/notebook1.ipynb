{
 "cells": [
  {
   "cell_type": "code",
   "execution_count": 39,
   "outputs": [],
   "source": [
    "import os\n",
    "import pandas as pd"
   ],
   "metadata": {
    "collapsed": false,
    "pycharm": {
     "name": "#%%\n"
    }
   }
  },
  {
   "cell_type": "code",
   "execution_count": 40,
   "outputs": [
    {
     "name": "stdout",
     "output_type": "stream",
     "text": [
      "Success!\n"
     ]
    }
   ],
   "source": [
    "if not os.path.exists(\"../data/grand-slam-point-data/combined-points/2011-combined-points.csv\"):\n",
    "    print(\"Missing dataset file\")\n",
    "print(\"Success!\")"
   ],
   "metadata": {
    "collapsed": false,
    "pycharm": {
     "name": "#%%\n"
    }
   }
  },
  {
   "cell_type": "code",
   "execution_count": 41,
   "outputs": [
    {
     "data": {
      "text/plain": "   Unnamed: 0           match_id ElapsedTime  SetNo  P1GamesWon  P2GamesWon  \\\n0           0  2011-ausopen-1101    00:00:00    1.0         0.0         0.0   \n1           1  2011-ausopen-1101     0:00:00    1.0         0.0         0.0   \n2           2  2011-ausopen-1101     0:00:23    1.0         0.0         0.0   \n3           3  2011-ausopen-1101     0:00:59    1.0         0.0         0.0   \n4           4  2011-ausopen-1101     0:01:57    1.0         1.0         0.0   \n\n   SetWinner  GameNo  GameWinner  PointNumber  ...  Speed_MPH  \\\n0          0     1.0           0            0  ...        0.0   \n1          0     1.0           0            1  ...      103.0   \n2          0     1.0           0            2  ...       82.0   \n3          0     1.0           0            3  ...       89.0   \n4          0     1.0           1            4  ...       85.0   \n\n   P1BreakPointMissed  P2BreakPointMissed  ServeIndicator P1TurningPoint  \\\n0                   0                   0               0              0   \n1                   0                   0               2              0   \n2                   0                   0               2              0   \n3                   0                   0               2              0   \n4                   0                   0               1              8   \n\n  P2TurningPoint  Serve_Direction  Winner_FH  Winner_BH  ServingTo  \n0              0              NaN        NaN        NaN        NaN  \n1              0              NaN        NaN        NaN        NaN  \n2              0              NaN        NaN        NaN        NaN  \n3              0              NaN        NaN        NaN        NaN  \n4              0              NaN        NaN        NaN        NaN  \n\n[5 rows x 57 columns]",
      "text/html": "<div>\n<style scoped>\n    .dataframe tbody tr th:only-of-type {\n        vertical-align: middle;\n    }\n\n    .dataframe tbody tr th {\n        vertical-align: top;\n    }\n\n    .dataframe thead th {\n        text-align: right;\n    }\n</style>\n<table border=\"1\" class=\"dataframe\">\n  <thead>\n    <tr style=\"text-align: right;\">\n      <th></th>\n      <th>Unnamed: 0</th>\n      <th>match_id</th>\n      <th>ElapsedTime</th>\n      <th>SetNo</th>\n      <th>P1GamesWon</th>\n      <th>P2GamesWon</th>\n      <th>SetWinner</th>\n      <th>GameNo</th>\n      <th>GameWinner</th>\n      <th>PointNumber</th>\n      <th>...</th>\n      <th>Speed_MPH</th>\n      <th>P1BreakPointMissed</th>\n      <th>P2BreakPointMissed</th>\n      <th>ServeIndicator</th>\n      <th>P1TurningPoint</th>\n      <th>P2TurningPoint</th>\n      <th>Serve_Direction</th>\n      <th>Winner_FH</th>\n      <th>Winner_BH</th>\n      <th>ServingTo</th>\n    </tr>\n  </thead>\n  <tbody>\n    <tr>\n      <th>0</th>\n      <td>0</td>\n      <td>2011-ausopen-1101</td>\n      <td>00:00:00</td>\n      <td>1.0</td>\n      <td>0.0</td>\n      <td>0.0</td>\n      <td>0</td>\n      <td>1.0</td>\n      <td>0</td>\n      <td>0</td>\n      <td>...</td>\n      <td>0.0</td>\n      <td>0</td>\n      <td>0</td>\n      <td>0</td>\n      <td>0</td>\n      <td>0</td>\n      <td>NaN</td>\n      <td>NaN</td>\n      <td>NaN</td>\n      <td>NaN</td>\n    </tr>\n    <tr>\n      <th>1</th>\n      <td>1</td>\n      <td>2011-ausopen-1101</td>\n      <td>0:00:00</td>\n      <td>1.0</td>\n      <td>0.0</td>\n      <td>0.0</td>\n      <td>0</td>\n      <td>1.0</td>\n      <td>0</td>\n      <td>1</td>\n      <td>...</td>\n      <td>103.0</td>\n      <td>0</td>\n      <td>0</td>\n      <td>2</td>\n      <td>0</td>\n      <td>0</td>\n      <td>NaN</td>\n      <td>NaN</td>\n      <td>NaN</td>\n      <td>NaN</td>\n    </tr>\n    <tr>\n      <th>2</th>\n      <td>2</td>\n      <td>2011-ausopen-1101</td>\n      <td>0:00:23</td>\n      <td>1.0</td>\n      <td>0.0</td>\n      <td>0.0</td>\n      <td>0</td>\n      <td>1.0</td>\n      <td>0</td>\n      <td>2</td>\n      <td>...</td>\n      <td>82.0</td>\n      <td>0</td>\n      <td>0</td>\n      <td>2</td>\n      <td>0</td>\n      <td>0</td>\n      <td>NaN</td>\n      <td>NaN</td>\n      <td>NaN</td>\n      <td>NaN</td>\n    </tr>\n    <tr>\n      <th>3</th>\n      <td>3</td>\n      <td>2011-ausopen-1101</td>\n      <td>0:00:59</td>\n      <td>1.0</td>\n      <td>0.0</td>\n      <td>0.0</td>\n      <td>0</td>\n      <td>1.0</td>\n      <td>0</td>\n      <td>3</td>\n      <td>...</td>\n      <td>89.0</td>\n      <td>0</td>\n      <td>0</td>\n      <td>2</td>\n      <td>0</td>\n      <td>0</td>\n      <td>NaN</td>\n      <td>NaN</td>\n      <td>NaN</td>\n      <td>NaN</td>\n    </tr>\n    <tr>\n      <th>4</th>\n      <td>4</td>\n      <td>2011-ausopen-1101</td>\n      <td>0:01:57</td>\n      <td>1.0</td>\n      <td>1.0</td>\n      <td>0.0</td>\n      <td>0</td>\n      <td>1.0</td>\n      <td>1</td>\n      <td>4</td>\n      <td>...</td>\n      <td>85.0</td>\n      <td>0</td>\n      <td>0</td>\n      <td>1</td>\n      <td>8</td>\n      <td>0</td>\n      <td>NaN</td>\n      <td>NaN</td>\n      <td>NaN</td>\n      <td>NaN</td>\n    </tr>\n  </tbody>\n</table>\n<p>5 rows × 57 columns</p>\n</div>"
     },
     "execution_count": 41,
     "metadata": {},
     "output_type": "execute_result"
    }
   ],
   "source": [
    "points_2011 = pd.read_csv(\"../data/grand-slam-point-data/combined-points/2011-combined-points.csv\", low_memory = False)\n",
    "points_2011.head()"
   ],
   "metadata": {
    "collapsed": false,
    "pycharm": {
     "name": "#%%\n"
    }
   }
  },
  {
   "cell_type": "code",
   "execution_count": 42,
   "outputs": [
    {
     "data": {
      "text/plain": "(114540, 57)"
     },
     "execution_count": 42,
     "metadata": {},
     "output_type": "execute_result"
    }
   ],
   "source": [
    "points_2011.shape"
   ],
   "metadata": {
    "collapsed": false,
    "pycharm": {
     "name": "#%%\n"
    }
   }
  },
  {
   "cell_type": "code",
   "execution_count": 43,
   "outputs": [
    {
     "data": {
      "text/plain": "   Unnamed: 0           match_id ElapsedTime  SetNo  P1GamesWon  P2GamesWon  \\\n0           0  2011-ausopen-1101    00:00:00    1.0         0.0         0.0   \n1           1  2011-ausopen-1101     0:00:00    1.0         0.0         0.0   \n2           2  2011-ausopen-1101     0:00:23    1.0         0.0         0.0   \n3           3  2011-ausopen-1101     0:00:59    1.0         0.0         0.0   \n4           4  2011-ausopen-1101     0:01:57    1.0         1.0         0.0   \n\n   SetWinner  GameNo  GameWinner  PointNumber  ...  P1BreakPointMissed  \\\n0          0     1.0           0            0  ...                   0   \n1          0     1.0           0            1  ...                   0   \n2          0     1.0           0            2  ...                   0   \n3          0     1.0           0            3  ...                   0   \n4          0     1.0           1            4  ...                   0   \n\n   P2BreakPointMissed  ServeIndicator  P1TurningPoint P2TurningPoint  \\\n0                   0               0               0              0   \n1                   0               2               0              0   \n2                   0               2               0              0   \n3                   0               2               0              0   \n4                   0               1               8              0   \n\n  Serve_Direction  Winner_FH  Winner_BH  ServingTo  match_id_num  \n0             NaN        NaN        NaN        NaN          1101  \n1             NaN        NaN        NaN        NaN          1101  \n2             NaN        NaN        NaN        NaN          1101  \n3             NaN        NaN        NaN        NaN          1101  \n4             NaN        NaN        NaN        NaN          1101  \n\n[5 rows x 58 columns]",
      "text/html": "<div>\n<style scoped>\n    .dataframe tbody tr th:only-of-type {\n        vertical-align: middle;\n    }\n\n    .dataframe tbody tr th {\n        vertical-align: top;\n    }\n\n    .dataframe thead th {\n        text-align: right;\n    }\n</style>\n<table border=\"1\" class=\"dataframe\">\n  <thead>\n    <tr style=\"text-align: right;\">\n      <th></th>\n      <th>Unnamed: 0</th>\n      <th>match_id</th>\n      <th>ElapsedTime</th>\n      <th>SetNo</th>\n      <th>P1GamesWon</th>\n      <th>P2GamesWon</th>\n      <th>SetWinner</th>\n      <th>GameNo</th>\n      <th>GameWinner</th>\n      <th>PointNumber</th>\n      <th>...</th>\n      <th>P1BreakPointMissed</th>\n      <th>P2BreakPointMissed</th>\n      <th>ServeIndicator</th>\n      <th>P1TurningPoint</th>\n      <th>P2TurningPoint</th>\n      <th>Serve_Direction</th>\n      <th>Winner_FH</th>\n      <th>Winner_BH</th>\n      <th>ServingTo</th>\n      <th>match_id_num</th>\n    </tr>\n  </thead>\n  <tbody>\n    <tr>\n      <th>0</th>\n      <td>0</td>\n      <td>2011-ausopen-1101</td>\n      <td>00:00:00</td>\n      <td>1.0</td>\n      <td>0.0</td>\n      <td>0.0</td>\n      <td>0</td>\n      <td>1.0</td>\n      <td>0</td>\n      <td>0</td>\n      <td>...</td>\n      <td>0</td>\n      <td>0</td>\n      <td>0</td>\n      <td>0</td>\n      <td>0</td>\n      <td>NaN</td>\n      <td>NaN</td>\n      <td>NaN</td>\n      <td>NaN</td>\n      <td>1101</td>\n    </tr>\n    <tr>\n      <th>1</th>\n      <td>1</td>\n      <td>2011-ausopen-1101</td>\n      <td>0:00:00</td>\n      <td>1.0</td>\n      <td>0.0</td>\n      <td>0.0</td>\n      <td>0</td>\n      <td>1.0</td>\n      <td>0</td>\n      <td>1</td>\n      <td>...</td>\n      <td>0</td>\n      <td>0</td>\n      <td>2</td>\n      <td>0</td>\n      <td>0</td>\n      <td>NaN</td>\n      <td>NaN</td>\n      <td>NaN</td>\n      <td>NaN</td>\n      <td>1101</td>\n    </tr>\n    <tr>\n      <th>2</th>\n      <td>2</td>\n      <td>2011-ausopen-1101</td>\n      <td>0:00:23</td>\n      <td>1.0</td>\n      <td>0.0</td>\n      <td>0.0</td>\n      <td>0</td>\n      <td>1.0</td>\n      <td>0</td>\n      <td>2</td>\n      <td>...</td>\n      <td>0</td>\n      <td>0</td>\n      <td>2</td>\n      <td>0</td>\n      <td>0</td>\n      <td>NaN</td>\n      <td>NaN</td>\n      <td>NaN</td>\n      <td>NaN</td>\n      <td>1101</td>\n    </tr>\n    <tr>\n      <th>3</th>\n      <td>3</td>\n      <td>2011-ausopen-1101</td>\n      <td>0:00:59</td>\n      <td>1.0</td>\n      <td>0.0</td>\n      <td>0.0</td>\n      <td>0</td>\n      <td>1.0</td>\n      <td>0</td>\n      <td>3</td>\n      <td>...</td>\n      <td>0</td>\n      <td>0</td>\n      <td>2</td>\n      <td>0</td>\n      <td>0</td>\n      <td>NaN</td>\n      <td>NaN</td>\n      <td>NaN</td>\n      <td>NaN</td>\n      <td>1101</td>\n    </tr>\n    <tr>\n      <th>4</th>\n      <td>4</td>\n      <td>2011-ausopen-1101</td>\n      <td>0:01:57</td>\n      <td>1.0</td>\n      <td>1.0</td>\n      <td>0.0</td>\n      <td>0</td>\n      <td>1.0</td>\n      <td>1</td>\n      <td>4</td>\n      <td>...</td>\n      <td>0</td>\n      <td>0</td>\n      <td>1</td>\n      <td>8</td>\n      <td>0</td>\n      <td>NaN</td>\n      <td>NaN</td>\n      <td>NaN</td>\n      <td>NaN</td>\n      <td>1101</td>\n    </tr>\n  </tbody>\n</table>\n<p>5 rows × 58 columns</p>\n</div>"
     },
     "execution_count": 43,
     "metadata": {},
     "output_type": "execute_result"
    }
   ],
   "source": [
    "points_2011['match_id_num'] = points_2011['match_id'].str.split('-').str[2]\n",
    "points_2011.head()"
   ],
   "metadata": {
    "collapsed": false,
    "pycharm": {
     "name": "#%%\n"
    }
   }
  },
  {
   "cell_type": "code",
   "execution_count": 44,
   "outputs": [],
   "source": [
    "points_2011['match_id_num'] = pd.to_numeric(points_2011['match_id_num'], errors='coerce')"
   ],
   "metadata": {
    "collapsed": false,
    "pycharm": {
     "name": "#%%\n"
    }
   }
  },
  {
   "cell_type": "code",
   "execution_count": 45,
   "outputs": [],
   "source": [
    "points_2011 = points_2011[points_2011['match_id_num'] < 2000]"
   ],
   "metadata": {
    "collapsed": false,
    "pycharm": {
     "name": "#%%\n"
    }
   }
  },
  {
   "cell_type": "code",
   "execution_count": 46,
   "outputs": [
    {
     "data": {
      "text/plain": "(70438, 58)"
     },
     "execution_count": 46,
     "metadata": {},
     "output_type": "execute_result"
    }
   ],
   "source": [
    "points_2011.shape"
   ],
   "metadata": {
    "collapsed": false,
    "pycharm": {
     "name": "#%%\n"
    }
   }
  },
  {
   "cell_type": "code",
   "execution_count": 47,
   "outputs": [
    {
     "data": {
      "text/plain": "(70438, 57)"
     },
     "execution_count": 47,
     "metadata": {},
     "output_type": "execute_result"
    }
   ],
   "source": [
    "points_2011.drop(columns=points_2011.columns[0], inplace=True, axis=1)\n",
    "points_2011.shape"
   ],
   "metadata": {
    "collapsed": false,
    "pycharm": {
     "name": "#%%\n"
    }
   }
  },
  {
   "cell_type": "code",
   "execution_count": 48,
   "outputs": [
    {
     "data": {
      "text/plain": "            match_id ElapsedTime  SetNo  P1GamesWon  P2GamesWon  SetWinner  \\\n0  2011-ausopen-1101    00:00:00    1.0         0.0         0.0          0   \n1  2011-ausopen-1101     0:00:00    1.0         0.0         0.0          0   \n2  2011-ausopen-1101     0:00:23    1.0         0.0         0.0          0   \n3  2011-ausopen-1101     0:00:59    1.0         0.0         0.0          0   \n4  2011-ausopen-1101     0:01:57    1.0         1.0         0.0          0   \n\n   GameNo  GameWinner  PointNumber  PointWinner  ...  P1BreakPointMissed  \\\n0     1.0           0            0          0.0  ...                   0   \n1     1.0           0            1          1.0  ...                   0   \n2     1.0           0            2          1.0  ...                   0   \n3     1.0           0            3          1.0  ...                   0   \n4     1.0           1            4          1.0  ...                   0   \n\n   P2BreakPointMissed  ServeIndicator P1TurningPoint P2TurningPoint  \\\n0                   0               0              0              0   \n1                   0               2              0              0   \n2                   0               2              0              0   \n3                   0               2              0              0   \n4                   0               1              8              0   \n\n   Serve_Direction  Winner_FH  Winner_BH  ServingTo  match_id_num  \n0              NaN        NaN        NaN        NaN          1101  \n1              NaN        NaN        NaN        NaN          1101  \n2              NaN        NaN        NaN        NaN          1101  \n3              NaN        NaN        NaN        NaN          1101  \n4              NaN        NaN        NaN        NaN          1101  \n\n[5 rows x 57 columns]",
      "text/html": "<div>\n<style scoped>\n    .dataframe tbody tr th:only-of-type {\n        vertical-align: middle;\n    }\n\n    .dataframe tbody tr th {\n        vertical-align: top;\n    }\n\n    .dataframe thead th {\n        text-align: right;\n    }\n</style>\n<table border=\"1\" class=\"dataframe\">\n  <thead>\n    <tr style=\"text-align: right;\">\n      <th></th>\n      <th>match_id</th>\n      <th>ElapsedTime</th>\n      <th>SetNo</th>\n      <th>P1GamesWon</th>\n      <th>P2GamesWon</th>\n      <th>SetWinner</th>\n      <th>GameNo</th>\n      <th>GameWinner</th>\n      <th>PointNumber</th>\n      <th>PointWinner</th>\n      <th>...</th>\n      <th>P1BreakPointMissed</th>\n      <th>P2BreakPointMissed</th>\n      <th>ServeIndicator</th>\n      <th>P1TurningPoint</th>\n      <th>P2TurningPoint</th>\n      <th>Serve_Direction</th>\n      <th>Winner_FH</th>\n      <th>Winner_BH</th>\n      <th>ServingTo</th>\n      <th>match_id_num</th>\n    </tr>\n  </thead>\n  <tbody>\n    <tr>\n      <th>0</th>\n      <td>2011-ausopen-1101</td>\n      <td>00:00:00</td>\n      <td>1.0</td>\n      <td>0.0</td>\n      <td>0.0</td>\n      <td>0</td>\n      <td>1.0</td>\n      <td>0</td>\n      <td>0</td>\n      <td>0.0</td>\n      <td>...</td>\n      <td>0</td>\n      <td>0</td>\n      <td>0</td>\n      <td>0</td>\n      <td>0</td>\n      <td>NaN</td>\n      <td>NaN</td>\n      <td>NaN</td>\n      <td>NaN</td>\n      <td>1101</td>\n    </tr>\n    <tr>\n      <th>1</th>\n      <td>2011-ausopen-1101</td>\n      <td>0:00:00</td>\n      <td>1.0</td>\n      <td>0.0</td>\n      <td>0.0</td>\n      <td>0</td>\n      <td>1.0</td>\n      <td>0</td>\n      <td>1</td>\n      <td>1.0</td>\n      <td>...</td>\n      <td>0</td>\n      <td>0</td>\n      <td>2</td>\n      <td>0</td>\n      <td>0</td>\n      <td>NaN</td>\n      <td>NaN</td>\n      <td>NaN</td>\n      <td>NaN</td>\n      <td>1101</td>\n    </tr>\n    <tr>\n      <th>2</th>\n      <td>2011-ausopen-1101</td>\n      <td>0:00:23</td>\n      <td>1.0</td>\n      <td>0.0</td>\n      <td>0.0</td>\n      <td>0</td>\n      <td>1.0</td>\n      <td>0</td>\n      <td>2</td>\n      <td>1.0</td>\n      <td>...</td>\n      <td>0</td>\n      <td>0</td>\n      <td>2</td>\n      <td>0</td>\n      <td>0</td>\n      <td>NaN</td>\n      <td>NaN</td>\n      <td>NaN</td>\n      <td>NaN</td>\n      <td>1101</td>\n    </tr>\n    <tr>\n      <th>3</th>\n      <td>2011-ausopen-1101</td>\n      <td>0:00:59</td>\n      <td>1.0</td>\n      <td>0.0</td>\n      <td>0.0</td>\n      <td>0</td>\n      <td>1.0</td>\n      <td>0</td>\n      <td>3</td>\n      <td>1.0</td>\n      <td>...</td>\n      <td>0</td>\n      <td>0</td>\n      <td>2</td>\n      <td>0</td>\n      <td>0</td>\n      <td>NaN</td>\n      <td>NaN</td>\n      <td>NaN</td>\n      <td>NaN</td>\n      <td>1101</td>\n    </tr>\n    <tr>\n      <th>4</th>\n      <td>2011-ausopen-1101</td>\n      <td>0:01:57</td>\n      <td>1.0</td>\n      <td>1.0</td>\n      <td>0.0</td>\n      <td>0</td>\n      <td>1.0</td>\n      <td>1</td>\n      <td>4</td>\n      <td>1.0</td>\n      <td>...</td>\n      <td>0</td>\n      <td>0</td>\n      <td>1</td>\n      <td>8</td>\n      <td>0</td>\n      <td>NaN</td>\n      <td>NaN</td>\n      <td>NaN</td>\n      <td>NaN</td>\n      <td>1101</td>\n    </tr>\n  </tbody>\n</table>\n<p>5 rows × 57 columns</p>\n</div>"
     },
     "execution_count": 48,
     "metadata": {},
     "output_type": "execute_result"
    }
   ],
   "source": [
    "points_2011.head()"
   ],
   "metadata": {
    "collapsed": false,
    "pycharm": {
     "name": "#%%\n"
    }
   }
  },
  {
   "cell_type": "code",
   "execution_count": 56,
   "outputs": [
    {
     "data": {
      "text/plain": "            match_id ElapsedTime  SetNo  P1GamesWon  P2GamesWon  SetWinner  \\\n0  2011-ausopen-1101    00:00:00    1.0         0.0         0.0          0   \n1  2011-ausopen-1101     0:00:00    1.0         0.0         0.0          0   \n2  2011-ausopen-1101     0:00:23    1.0         0.0         0.0          0   \n3  2011-ausopen-1101     0:00:59    1.0         0.0         0.0          0   \n4  2011-ausopen-1101     0:01:57    1.0         1.0         0.0          0   \n\n   GameNo  GameWinner  PointNumber  PointWinner  ...  P1BreakPointMissed  \\\n0     1.0           0            0          0.0  ...                   0   \n1     1.0           0            1          1.0  ...                   0   \n2     1.0           0            2          1.0  ...                   0   \n3     1.0           0            3          1.0  ...                   0   \n4     1.0           1            4          1.0  ...                   0   \n\n   P2BreakPointMissed  ServeIndicator P1TurningPoint P2TurningPoint  \\\n0                   0               0              0              0   \n1                   0               2              0              0   \n2                   0               2              0              0   \n3                   0               2              0              0   \n4                   0               1              8              0   \n\n   Serve_Direction  Winner_FH  Winner_BH  ServingTo  match_id_num  \n0              NaN        NaN        NaN        NaN          1101  \n1              NaN        NaN        NaN        NaN          1101  \n2              NaN        NaN        NaN        NaN          1101  \n3              NaN        NaN        NaN        NaN          1101  \n4              NaN        NaN        NaN        NaN          1101  \n\n[5 rows x 57 columns]",
      "text/html": "<div>\n<style scoped>\n    .dataframe tbody tr th:only-of-type {\n        vertical-align: middle;\n    }\n\n    .dataframe tbody tr th {\n        vertical-align: top;\n    }\n\n    .dataframe thead th {\n        text-align: right;\n    }\n</style>\n<table border=\"1\" class=\"dataframe\">\n  <thead>\n    <tr style=\"text-align: right;\">\n      <th></th>\n      <th>match_id</th>\n      <th>ElapsedTime</th>\n      <th>SetNo</th>\n      <th>P1GamesWon</th>\n      <th>P2GamesWon</th>\n      <th>SetWinner</th>\n      <th>GameNo</th>\n      <th>GameWinner</th>\n      <th>PointNumber</th>\n      <th>PointWinner</th>\n      <th>...</th>\n      <th>P1BreakPointMissed</th>\n      <th>P2BreakPointMissed</th>\n      <th>ServeIndicator</th>\n      <th>P1TurningPoint</th>\n      <th>P2TurningPoint</th>\n      <th>Serve_Direction</th>\n      <th>Winner_FH</th>\n      <th>Winner_BH</th>\n      <th>ServingTo</th>\n      <th>match_id_num</th>\n    </tr>\n  </thead>\n  <tbody>\n    <tr>\n      <th>0</th>\n      <td>2011-ausopen-1101</td>\n      <td>00:00:00</td>\n      <td>1.0</td>\n      <td>0.0</td>\n      <td>0.0</td>\n      <td>0</td>\n      <td>1.0</td>\n      <td>0</td>\n      <td>0</td>\n      <td>0.0</td>\n      <td>...</td>\n      <td>0</td>\n      <td>0</td>\n      <td>0</td>\n      <td>0</td>\n      <td>0</td>\n      <td>NaN</td>\n      <td>NaN</td>\n      <td>NaN</td>\n      <td>NaN</td>\n      <td>1101</td>\n    </tr>\n    <tr>\n      <th>1</th>\n      <td>2011-ausopen-1101</td>\n      <td>0:00:00</td>\n      <td>1.0</td>\n      <td>0.0</td>\n      <td>0.0</td>\n      <td>0</td>\n      <td>1.0</td>\n      <td>0</td>\n      <td>1</td>\n      <td>1.0</td>\n      <td>...</td>\n      <td>0</td>\n      <td>0</td>\n      <td>2</td>\n      <td>0</td>\n      <td>0</td>\n      <td>NaN</td>\n      <td>NaN</td>\n      <td>NaN</td>\n      <td>NaN</td>\n      <td>1101</td>\n    </tr>\n    <tr>\n      <th>2</th>\n      <td>2011-ausopen-1101</td>\n      <td>0:00:23</td>\n      <td>1.0</td>\n      <td>0.0</td>\n      <td>0.0</td>\n      <td>0</td>\n      <td>1.0</td>\n      <td>0</td>\n      <td>2</td>\n      <td>1.0</td>\n      <td>...</td>\n      <td>0</td>\n      <td>0</td>\n      <td>2</td>\n      <td>0</td>\n      <td>0</td>\n      <td>NaN</td>\n      <td>NaN</td>\n      <td>NaN</td>\n      <td>NaN</td>\n      <td>1101</td>\n    </tr>\n    <tr>\n      <th>3</th>\n      <td>2011-ausopen-1101</td>\n      <td>0:00:59</td>\n      <td>1.0</td>\n      <td>0.0</td>\n      <td>0.0</td>\n      <td>0</td>\n      <td>1.0</td>\n      <td>0</td>\n      <td>3</td>\n      <td>1.0</td>\n      <td>...</td>\n      <td>0</td>\n      <td>0</td>\n      <td>2</td>\n      <td>0</td>\n      <td>0</td>\n      <td>NaN</td>\n      <td>NaN</td>\n      <td>NaN</td>\n      <td>NaN</td>\n      <td>1101</td>\n    </tr>\n    <tr>\n      <th>4</th>\n      <td>2011-ausopen-1101</td>\n      <td>0:01:57</td>\n      <td>1.0</td>\n      <td>1.0</td>\n      <td>0.0</td>\n      <td>0</td>\n      <td>1.0</td>\n      <td>1</td>\n      <td>4</td>\n      <td>1.0</td>\n      <td>...</td>\n      <td>0</td>\n      <td>0</td>\n      <td>1</td>\n      <td>8</td>\n      <td>0</td>\n      <td>NaN</td>\n      <td>NaN</td>\n      <td>NaN</td>\n      <td>NaN</td>\n      <td>1101</td>\n    </tr>\n  </tbody>\n</table>\n<p>5 rows × 57 columns</p>\n</div>"
     },
     "execution_count": 56,
     "metadata": {},
     "output_type": "execute_result"
    }
   ],
   "source": [
    "import numpy as np\n",
    "points_2011 = points_2011[points_2011.columns.dropna()]\n",
    "points_2011.head()"
   ],
   "metadata": {
    "collapsed": false,
    "pycharm": {
     "name": "#%%\n"
    }
   }
  },
  {
   "cell_type": "code",
   "execution_count": null,
   "outputs": [],
   "source": [],
   "metadata": {
    "collapsed": false,
    "pycharm": {
     "name": "#%%\n"
    }
   }
  }
 ],
 "metadata": {
  "kernelspec": {
   "display_name": "Python 3",
   "language": "python",
   "name": "python3"
  },
  "language_info": {
   "codemirror_mode": {
    "name": "ipython",
    "version": 2
   },
   "file_extension": ".py",
   "mimetype": "text/x-python",
   "name": "python",
   "nbconvert_exporter": "python",
   "pygments_lexer": "ipython2",
   "version": "2.7.6"
  }
 },
 "nbformat": 4,
 "nbformat_minor": 0
}