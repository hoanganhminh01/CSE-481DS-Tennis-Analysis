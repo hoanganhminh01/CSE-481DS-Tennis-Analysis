{
 "cells": [
  {
   "cell_type": "code",
   "execution_count": 109,
   "outputs": [],
   "source": [
    "import pandas as pd\n",
    "import numpy as np"
   ],
   "metadata": {
    "collapsed": false,
    "pycharm": {
     "name": "#%%\n"
    }
   }
  },
  {
   "cell_type": "code",
   "execution_count": 110,
   "outputs": [
    {
     "data": {
      "text/plain": "        Unnamed: 0             match_id  SetNo  P1GamesWon  P2GamesWon  \\\n0                0    2011-ausopen-1101    1.0         0.0         0.0   \n1                1    2011-ausopen-1101    1.0         0.0         0.0   \n2                2    2011-ausopen-1101    1.0         0.0         0.0   \n3                3    2011-ausopen-1101    1.0         0.0         0.0   \n4                4    2011-ausopen-1101    1.0         1.0         0.0   \n...            ...                  ...    ...         ...         ...   \n792718      792718  2021-wimbledon-1701    4.0         5.0         3.0   \n792719      792719  2021-wimbledon-1701    4.0         5.0         3.0   \n792720      792720  2021-wimbledon-1701    4.0         5.0         3.0   \n792721      792721  2021-wimbledon-1701    4.0         5.0         3.0   \n792722      792722  2021-wimbledon-1701    4.0         6.0         3.0   \n\n        GameNo  GameWinner PointNumber  PointWinner  PointServer  ...  \\\n0          1.0         0.0           0          0.0          0.0  ...   \n1          1.0         0.0           1          1.0          2.0  ...   \n2          1.0         0.0           2          1.0          2.0  ...   \n3          1.0         0.0           3          1.0          2.0  ...   \n4          1.0         1.0           4          1.0          2.0  ...   \n...        ...         ...         ...          ...          ...  ...   \n792718     9.0         0.0         272          2.0          2.0  ...   \n792719     9.0         0.0         273          1.0          2.0  ...   \n792720     9.0         0.0         274          2.0          2.0  ...   \n792721     9.0         0.0         275          1.0          2.0  ...   \n792722     9.0         1.0         276          1.0          2.0  ...   \n\n       P1DoubleFault P2DoubleFault  P1UnfErr  P2UnfErr  P1BreakPoint  \\\n0                0.0           0.0       0.0       0.0           0.0   \n1                0.0           0.0       0.0       1.0           0.0   \n2                0.0           0.0       0.0       1.0           0.0   \n3                0.0           0.0       0.0       1.0           0.0   \n4                0.0           0.0       0.0       1.0           1.0   \n...              ...           ...       ...       ...           ...   \n792718           0.0           0.0       0.0       0.0           1.0   \n792719           0.0           0.0       0.0       0.0           0.0   \n792720           0.0           0.0       0.0       0.0           1.0   \n792721           0.0           0.0       0.0       1.0           0.0   \n792722           0.0           0.0       0.0       1.0           1.0   \n\n        P2BreakPoint  P1Errors  P2Errors  P1Pressure  P2Pressure  \n0                0.0       0.0       0.0         1.0         1.0  \n1                0.0       0.0       1.0         1.0         1.0  \n2                0.0       0.0       1.0         1.0         2.0  \n3                0.0       0.0       1.0         1.0         2.0  \n4                0.0       0.0       1.0         1.0         2.0  \n...              ...       ...       ...         ...         ...  \n792718           0.0       0.0       0.0         1.0         3.0  \n792719           0.0       0.0       0.0         1.0         3.0  \n792720           0.0       0.0       0.0         1.0         3.0  \n792721           0.0       0.0       1.0         1.0         3.0  \n792722           0.0       0.0       1.0         1.0         3.0  \n\n[792723 rows x 24 columns]",
      "text/html": "<div>\n<style scoped>\n    .dataframe tbody tr th:only-of-type {\n        vertical-align: middle;\n    }\n\n    .dataframe tbody tr th {\n        vertical-align: top;\n    }\n\n    .dataframe thead th {\n        text-align: right;\n    }\n</style>\n<table border=\"1\" class=\"dataframe\">\n  <thead>\n    <tr style=\"text-align: right;\">\n      <th></th>\n      <th>Unnamed: 0</th>\n      <th>match_id</th>\n      <th>SetNo</th>\n      <th>P1GamesWon</th>\n      <th>P2GamesWon</th>\n      <th>GameNo</th>\n      <th>GameWinner</th>\n      <th>PointNumber</th>\n      <th>PointWinner</th>\n      <th>PointServer</th>\n      <th>...</th>\n      <th>P1DoubleFault</th>\n      <th>P2DoubleFault</th>\n      <th>P1UnfErr</th>\n      <th>P2UnfErr</th>\n      <th>P1BreakPoint</th>\n      <th>P2BreakPoint</th>\n      <th>P1Errors</th>\n      <th>P2Errors</th>\n      <th>P1Pressure</th>\n      <th>P2Pressure</th>\n    </tr>\n  </thead>\n  <tbody>\n    <tr>\n      <th>0</th>\n      <td>0</td>\n      <td>2011-ausopen-1101</td>\n      <td>1.0</td>\n      <td>0.0</td>\n      <td>0.0</td>\n      <td>1.0</td>\n      <td>0.0</td>\n      <td>0</td>\n      <td>0.0</td>\n      <td>0.0</td>\n      <td>...</td>\n      <td>0.0</td>\n      <td>0.0</td>\n      <td>0.0</td>\n      <td>0.0</td>\n      <td>0.0</td>\n      <td>0.0</td>\n      <td>0.0</td>\n      <td>0.0</td>\n      <td>1.0</td>\n      <td>1.0</td>\n    </tr>\n    <tr>\n      <th>1</th>\n      <td>1</td>\n      <td>2011-ausopen-1101</td>\n      <td>1.0</td>\n      <td>0.0</td>\n      <td>0.0</td>\n      <td>1.0</td>\n      <td>0.0</td>\n      <td>1</td>\n      <td>1.0</td>\n      <td>2.0</td>\n      <td>...</td>\n      <td>0.0</td>\n      <td>0.0</td>\n      <td>0.0</td>\n      <td>1.0</td>\n      <td>0.0</td>\n      <td>0.0</td>\n      <td>0.0</td>\n      <td>1.0</td>\n      <td>1.0</td>\n      <td>1.0</td>\n    </tr>\n    <tr>\n      <th>2</th>\n      <td>2</td>\n      <td>2011-ausopen-1101</td>\n      <td>1.0</td>\n      <td>0.0</td>\n      <td>0.0</td>\n      <td>1.0</td>\n      <td>0.0</td>\n      <td>2</td>\n      <td>1.0</td>\n      <td>2.0</td>\n      <td>...</td>\n      <td>0.0</td>\n      <td>0.0</td>\n      <td>0.0</td>\n      <td>1.0</td>\n      <td>0.0</td>\n      <td>0.0</td>\n      <td>0.0</td>\n      <td>1.0</td>\n      <td>1.0</td>\n      <td>2.0</td>\n    </tr>\n    <tr>\n      <th>3</th>\n      <td>3</td>\n      <td>2011-ausopen-1101</td>\n      <td>1.0</td>\n      <td>0.0</td>\n      <td>0.0</td>\n      <td>1.0</td>\n      <td>0.0</td>\n      <td>3</td>\n      <td>1.0</td>\n      <td>2.0</td>\n      <td>...</td>\n      <td>0.0</td>\n      <td>0.0</td>\n      <td>0.0</td>\n      <td>1.0</td>\n      <td>0.0</td>\n      <td>0.0</td>\n      <td>0.0</td>\n      <td>1.0</td>\n      <td>1.0</td>\n      <td>2.0</td>\n    </tr>\n    <tr>\n      <th>4</th>\n      <td>4</td>\n      <td>2011-ausopen-1101</td>\n      <td>1.0</td>\n      <td>1.0</td>\n      <td>0.0</td>\n      <td>1.0</td>\n      <td>1.0</td>\n      <td>4</td>\n      <td>1.0</td>\n      <td>2.0</td>\n      <td>...</td>\n      <td>0.0</td>\n      <td>0.0</td>\n      <td>0.0</td>\n      <td>1.0</td>\n      <td>1.0</td>\n      <td>0.0</td>\n      <td>0.0</td>\n      <td>1.0</td>\n      <td>1.0</td>\n      <td>2.0</td>\n    </tr>\n    <tr>\n      <th>...</th>\n      <td>...</td>\n      <td>...</td>\n      <td>...</td>\n      <td>...</td>\n      <td>...</td>\n      <td>...</td>\n      <td>...</td>\n      <td>...</td>\n      <td>...</td>\n      <td>...</td>\n      <td>...</td>\n      <td>...</td>\n      <td>...</td>\n      <td>...</td>\n      <td>...</td>\n      <td>...</td>\n      <td>...</td>\n      <td>...</td>\n      <td>...</td>\n      <td>...</td>\n      <td>...</td>\n    </tr>\n    <tr>\n      <th>792718</th>\n      <td>792718</td>\n      <td>2021-wimbledon-1701</td>\n      <td>4.0</td>\n      <td>5.0</td>\n      <td>3.0</td>\n      <td>9.0</td>\n      <td>0.0</td>\n      <td>272</td>\n      <td>2.0</td>\n      <td>2.0</td>\n      <td>...</td>\n      <td>0.0</td>\n      <td>0.0</td>\n      <td>0.0</td>\n      <td>0.0</td>\n      <td>1.0</td>\n      <td>0.0</td>\n      <td>0.0</td>\n      <td>0.0</td>\n      <td>1.0</td>\n      <td>3.0</td>\n    </tr>\n    <tr>\n      <th>792719</th>\n      <td>792719</td>\n      <td>2021-wimbledon-1701</td>\n      <td>4.0</td>\n      <td>5.0</td>\n      <td>3.0</td>\n      <td>9.0</td>\n      <td>0.0</td>\n      <td>273</td>\n      <td>1.0</td>\n      <td>2.0</td>\n      <td>...</td>\n      <td>0.0</td>\n      <td>0.0</td>\n      <td>0.0</td>\n      <td>0.0</td>\n      <td>0.0</td>\n      <td>0.0</td>\n      <td>0.0</td>\n      <td>0.0</td>\n      <td>1.0</td>\n      <td>3.0</td>\n    </tr>\n    <tr>\n      <th>792720</th>\n      <td>792720</td>\n      <td>2021-wimbledon-1701</td>\n      <td>4.0</td>\n      <td>5.0</td>\n      <td>3.0</td>\n      <td>9.0</td>\n      <td>0.0</td>\n      <td>274</td>\n      <td>2.0</td>\n      <td>2.0</td>\n      <td>...</td>\n      <td>0.0</td>\n      <td>0.0</td>\n      <td>0.0</td>\n      <td>0.0</td>\n      <td>1.0</td>\n      <td>0.0</td>\n      <td>0.0</td>\n      <td>0.0</td>\n      <td>1.0</td>\n      <td>3.0</td>\n    </tr>\n    <tr>\n      <th>792721</th>\n      <td>792721</td>\n      <td>2021-wimbledon-1701</td>\n      <td>4.0</td>\n      <td>5.0</td>\n      <td>3.0</td>\n      <td>9.0</td>\n      <td>0.0</td>\n      <td>275</td>\n      <td>1.0</td>\n      <td>2.0</td>\n      <td>...</td>\n      <td>0.0</td>\n      <td>0.0</td>\n      <td>0.0</td>\n      <td>1.0</td>\n      <td>0.0</td>\n      <td>0.0</td>\n      <td>0.0</td>\n      <td>1.0</td>\n      <td>1.0</td>\n      <td>3.0</td>\n    </tr>\n    <tr>\n      <th>792722</th>\n      <td>792722</td>\n      <td>2021-wimbledon-1701</td>\n      <td>4.0</td>\n      <td>6.0</td>\n      <td>3.0</td>\n      <td>9.0</td>\n      <td>1.0</td>\n      <td>276</td>\n      <td>1.0</td>\n      <td>2.0</td>\n      <td>...</td>\n      <td>0.0</td>\n      <td>0.0</td>\n      <td>0.0</td>\n      <td>1.0</td>\n      <td>1.0</td>\n      <td>0.0</td>\n      <td>0.0</td>\n      <td>1.0</td>\n      <td>1.0</td>\n      <td>3.0</td>\n    </tr>\n  </tbody>\n</table>\n<p>792723 rows × 24 columns</p>\n</div>"
     },
     "execution_count": 110,
     "metadata": {},
     "output_type": "execute_result"
    }
   ],
   "source": [
    "points = pd.read_csv(f\"../data/points-pressure.csv\", encoding='unicode_escape', low_memory=False)\n",
    "points"
   ],
   "metadata": {
    "collapsed": false,
    "pycharm": {
     "name": "#%%\n"
    }
   }
  },
  {
   "cell_type": "code",
   "execution_count": 111,
   "outputs": [
    {
     "data": {
      "text/plain": "        Unnamed: 0             match_id  SetNo  P1GamesWon  P2GamesWon  \\\n0                0    2011-ausopen-1101    1.0         0.0         0.0   \n1                1    2011-ausopen-1101    1.0         0.0         0.0   \n2                2    2011-ausopen-1101    1.0         0.0         0.0   \n3                3    2011-ausopen-1101    1.0         0.0         0.0   \n4                4    2011-ausopen-1101    1.0         1.0         0.0   \n...            ...                  ...    ...         ...         ...   \n792718      792718  2021-wimbledon-1701    4.0         5.0         3.0   \n792719      792719  2021-wimbledon-1701    4.0         5.0         3.0   \n792720      792720  2021-wimbledon-1701    4.0         5.0         3.0   \n792721      792721  2021-wimbledon-1701    4.0         5.0         3.0   \n792722      792722  2021-wimbledon-1701    4.0         6.0         3.0   \n\n        GameNo  GameWinner PointNumber  PointWinner  PointServer  ...  \\\n0          1.0         0.0           0          0.0          0.0  ...   \n1          1.0         0.0           1          1.0          2.0  ...   \n2          1.0         0.0           2          1.0          2.0  ...   \n3          1.0         0.0           3          1.0          2.0  ...   \n4          1.0         1.0           4          1.0          2.0  ...   \n...        ...         ...         ...          ...          ...  ...   \n792718     9.0         0.0         272          2.0          2.0  ...   \n792719     9.0         0.0         273          1.0          2.0  ...   \n792720     9.0         0.0         274          2.0          2.0  ...   \n792721     9.0         0.0         275          1.0          2.0  ...   \n792722     9.0         1.0         276          1.0          2.0  ...   \n\n       P1UnfErr P2UnfErr  P1BreakPoint  P2BreakPoint  P1Errors  P2Errors  \\\n0           0.0      0.0           0.0           0.0       0.0       0.0   \n1           0.0      1.0           0.0           0.0       0.0       1.0   \n2           0.0      1.0           0.0           0.0       0.0       1.0   \n3           0.0      1.0           0.0           0.0       0.0       1.0   \n4           0.0      1.0           1.0           0.0       0.0       1.0   \n...         ...      ...           ...           ...       ...       ...   \n792718      0.0      0.0           1.0           0.0       0.0       0.0   \n792719      0.0      0.0           0.0           0.0       0.0       0.0   \n792720      0.0      0.0           1.0           0.0       0.0       0.0   \n792721      0.0      1.0           0.0           0.0       0.0       1.0   \n792722      0.0      1.0           1.0           0.0       0.0       1.0   \n\n        P1Pressure  P2Pressure  P1PostError  P2PostError  \n0              1.0         1.0          0.0          0.0  \n1              1.0         1.0          0.0          0.0  \n2              1.0         2.0          0.0          0.0  \n3              1.0         2.0          0.0          0.0  \n4              1.0         2.0          0.0          0.0  \n...            ...         ...          ...          ...  \n792718         1.0         3.0          0.0          0.0  \n792719         1.0         3.0          0.0          0.0  \n792720         1.0         3.0          0.0          0.0  \n792721         1.0         3.0          0.0          0.0  \n792722         1.0         3.0          0.0          0.0  \n\n[792723 rows x 26 columns]",
      "text/html": "<div>\n<style scoped>\n    .dataframe tbody tr th:only-of-type {\n        vertical-align: middle;\n    }\n\n    .dataframe tbody tr th {\n        vertical-align: top;\n    }\n\n    .dataframe thead th {\n        text-align: right;\n    }\n</style>\n<table border=\"1\" class=\"dataframe\">\n  <thead>\n    <tr style=\"text-align: right;\">\n      <th></th>\n      <th>Unnamed: 0</th>\n      <th>match_id</th>\n      <th>SetNo</th>\n      <th>P1GamesWon</th>\n      <th>P2GamesWon</th>\n      <th>GameNo</th>\n      <th>GameWinner</th>\n      <th>PointNumber</th>\n      <th>PointWinner</th>\n      <th>PointServer</th>\n      <th>...</th>\n      <th>P1UnfErr</th>\n      <th>P2UnfErr</th>\n      <th>P1BreakPoint</th>\n      <th>P2BreakPoint</th>\n      <th>P1Errors</th>\n      <th>P2Errors</th>\n      <th>P1Pressure</th>\n      <th>P2Pressure</th>\n      <th>P1PostError</th>\n      <th>P2PostError</th>\n    </tr>\n  </thead>\n  <tbody>\n    <tr>\n      <th>0</th>\n      <td>0</td>\n      <td>2011-ausopen-1101</td>\n      <td>1.0</td>\n      <td>0.0</td>\n      <td>0.0</td>\n      <td>1.0</td>\n      <td>0.0</td>\n      <td>0</td>\n      <td>0.0</td>\n      <td>0.0</td>\n      <td>...</td>\n      <td>0.0</td>\n      <td>0.0</td>\n      <td>0.0</td>\n      <td>0.0</td>\n      <td>0.0</td>\n      <td>0.0</td>\n      <td>1.0</td>\n      <td>1.0</td>\n      <td>0.0</td>\n      <td>0.0</td>\n    </tr>\n    <tr>\n      <th>1</th>\n      <td>1</td>\n      <td>2011-ausopen-1101</td>\n      <td>1.0</td>\n      <td>0.0</td>\n      <td>0.0</td>\n      <td>1.0</td>\n      <td>0.0</td>\n      <td>1</td>\n      <td>1.0</td>\n      <td>2.0</td>\n      <td>...</td>\n      <td>0.0</td>\n      <td>1.0</td>\n      <td>0.0</td>\n      <td>0.0</td>\n      <td>0.0</td>\n      <td>1.0</td>\n      <td>1.0</td>\n      <td>1.0</td>\n      <td>0.0</td>\n      <td>0.0</td>\n    </tr>\n    <tr>\n      <th>2</th>\n      <td>2</td>\n      <td>2011-ausopen-1101</td>\n      <td>1.0</td>\n      <td>0.0</td>\n      <td>0.0</td>\n      <td>1.0</td>\n      <td>0.0</td>\n      <td>2</td>\n      <td>1.0</td>\n      <td>2.0</td>\n      <td>...</td>\n      <td>0.0</td>\n      <td>1.0</td>\n      <td>0.0</td>\n      <td>0.0</td>\n      <td>0.0</td>\n      <td>1.0</td>\n      <td>1.0</td>\n      <td>2.0</td>\n      <td>0.0</td>\n      <td>0.0</td>\n    </tr>\n    <tr>\n      <th>3</th>\n      <td>3</td>\n      <td>2011-ausopen-1101</td>\n      <td>1.0</td>\n      <td>0.0</td>\n      <td>0.0</td>\n      <td>1.0</td>\n      <td>0.0</td>\n      <td>3</td>\n      <td>1.0</td>\n      <td>2.0</td>\n      <td>...</td>\n      <td>0.0</td>\n      <td>1.0</td>\n      <td>0.0</td>\n      <td>0.0</td>\n      <td>0.0</td>\n      <td>1.0</td>\n      <td>1.0</td>\n      <td>2.0</td>\n      <td>0.0</td>\n      <td>0.0</td>\n    </tr>\n    <tr>\n      <th>4</th>\n      <td>4</td>\n      <td>2011-ausopen-1101</td>\n      <td>1.0</td>\n      <td>1.0</td>\n      <td>0.0</td>\n      <td>1.0</td>\n      <td>1.0</td>\n      <td>4</td>\n      <td>1.0</td>\n      <td>2.0</td>\n      <td>...</td>\n      <td>0.0</td>\n      <td>1.0</td>\n      <td>1.0</td>\n      <td>0.0</td>\n      <td>0.0</td>\n      <td>1.0</td>\n      <td>1.0</td>\n      <td>2.0</td>\n      <td>0.0</td>\n      <td>0.0</td>\n    </tr>\n    <tr>\n      <th>...</th>\n      <td>...</td>\n      <td>...</td>\n      <td>...</td>\n      <td>...</td>\n      <td>...</td>\n      <td>...</td>\n      <td>...</td>\n      <td>...</td>\n      <td>...</td>\n      <td>...</td>\n      <td>...</td>\n      <td>...</td>\n      <td>...</td>\n      <td>...</td>\n      <td>...</td>\n      <td>...</td>\n      <td>...</td>\n      <td>...</td>\n      <td>...</td>\n      <td>...</td>\n      <td>...</td>\n    </tr>\n    <tr>\n      <th>792718</th>\n      <td>792718</td>\n      <td>2021-wimbledon-1701</td>\n      <td>4.0</td>\n      <td>5.0</td>\n      <td>3.0</td>\n      <td>9.0</td>\n      <td>0.0</td>\n      <td>272</td>\n      <td>2.0</td>\n      <td>2.0</td>\n      <td>...</td>\n      <td>0.0</td>\n      <td>0.0</td>\n      <td>1.0</td>\n      <td>0.0</td>\n      <td>0.0</td>\n      <td>0.0</td>\n      <td>1.0</td>\n      <td>3.0</td>\n      <td>0.0</td>\n      <td>0.0</td>\n    </tr>\n    <tr>\n      <th>792719</th>\n      <td>792719</td>\n      <td>2021-wimbledon-1701</td>\n      <td>4.0</td>\n      <td>5.0</td>\n      <td>3.0</td>\n      <td>9.0</td>\n      <td>0.0</td>\n      <td>273</td>\n      <td>1.0</td>\n      <td>2.0</td>\n      <td>...</td>\n      <td>0.0</td>\n      <td>0.0</td>\n      <td>0.0</td>\n      <td>0.0</td>\n      <td>0.0</td>\n      <td>0.0</td>\n      <td>1.0</td>\n      <td>3.0</td>\n      <td>0.0</td>\n      <td>0.0</td>\n    </tr>\n    <tr>\n      <th>792720</th>\n      <td>792720</td>\n      <td>2021-wimbledon-1701</td>\n      <td>4.0</td>\n      <td>5.0</td>\n      <td>3.0</td>\n      <td>9.0</td>\n      <td>0.0</td>\n      <td>274</td>\n      <td>2.0</td>\n      <td>2.0</td>\n      <td>...</td>\n      <td>0.0</td>\n      <td>0.0</td>\n      <td>1.0</td>\n      <td>0.0</td>\n      <td>0.0</td>\n      <td>0.0</td>\n      <td>1.0</td>\n      <td>3.0</td>\n      <td>0.0</td>\n      <td>0.0</td>\n    </tr>\n    <tr>\n      <th>792721</th>\n      <td>792721</td>\n      <td>2021-wimbledon-1701</td>\n      <td>4.0</td>\n      <td>5.0</td>\n      <td>3.0</td>\n      <td>9.0</td>\n      <td>0.0</td>\n      <td>275</td>\n      <td>1.0</td>\n      <td>2.0</td>\n      <td>...</td>\n      <td>0.0</td>\n      <td>1.0</td>\n      <td>0.0</td>\n      <td>0.0</td>\n      <td>0.0</td>\n      <td>1.0</td>\n      <td>1.0</td>\n      <td>3.0</td>\n      <td>0.0</td>\n      <td>0.0</td>\n    </tr>\n    <tr>\n      <th>792722</th>\n      <td>792722</td>\n      <td>2021-wimbledon-1701</td>\n      <td>4.0</td>\n      <td>6.0</td>\n      <td>3.0</td>\n      <td>9.0</td>\n      <td>1.0</td>\n      <td>276</td>\n      <td>1.0</td>\n      <td>2.0</td>\n      <td>...</td>\n      <td>0.0</td>\n      <td>1.0</td>\n      <td>1.0</td>\n      <td>0.0</td>\n      <td>0.0</td>\n      <td>1.0</td>\n      <td>1.0</td>\n      <td>3.0</td>\n      <td>0.0</td>\n      <td>0.0</td>\n    </tr>\n  </tbody>\n</table>\n<p>792723 rows × 26 columns</p>\n</div>"
     },
     "execution_count": 111,
     "metadata": {},
     "output_type": "execute_result"
    }
   ],
   "source": [
    "points[\"P1PostError\"] = np.zeros(len(points))\n",
    "points[\"P2PostError\"] = np.zeros(len(points))\n",
    "points"
   ],
   "metadata": {
    "collapsed": false,
    "pycharm": {
     "name": "#%%\n"
    }
   }
  },
  {
   "cell_type": "code",
   "execution_count": 112,
   "outputs": [
    {
     "name": "stderr",
     "output_type": "stream",
     "text": [
      "C:\\Users\\anhmi\\miniconda3\\lib\\site-packages\\ipykernel_launcher.py:5: SettingWithCopyWarning: \n",
      "A value is trying to be set on a copy of a slice from a DataFrame\n",
      "\n",
      "See the caveats in the documentation: https://pandas.pydata.org/pandas-docs/stable/user_guide/indexing.html#returning-a-view-versus-a-copy\n",
      "  \"\"\"\n",
      "C:\\Users\\anhmi\\miniconda3\\lib\\site-packages\\ipykernel_launcher.py:3: SettingWithCopyWarning: \n",
      "A value is trying to be set on a copy of a slice from a DataFrame\n",
      "\n",
      "See the caveats in the documentation: https://pandas.pydata.org/pandas-docs/stable/user_guide/indexing.html#returning-a-view-versus-a-copy\n",
      "  This is separate from the ipykernel package so we can avoid doing imports until\n"
     ]
    },
    {
     "data": {
      "text/plain": "        Unnamed: 0             match_id  SetNo  P1GamesWon  P2GamesWon  \\\n0                0    2011-ausopen-1101    1.0         0.0         0.0   \n1                1    2011-ausopen-1101    1.0         0.0         0.0   \n2                2    2011-ausopen-1101    1.0         0.0         0.0   \n3                3    2011-ausopen-1101    1.0         0.0         0.0   \n4                4    2011-ausopen-1101    1.0         1.0         0.0   \n...            ...                  ...    ...         ...         ...   \n792718      792718  2021-wimbledon-1701    4.0         5.0         3.0   \n792719      792719  2021-wimbledon-1701    4.0         5.0         3.0   \n792720      792720  2021-wimbledon-1701    4.0         5.0         3.0   \n792721      792721  2021-wimbledon-1701    4.0         5.0         3.0   \n792722      792722  2021-wimbledon-1701    4.0         6.0         3.0   \n\n        GameNo  GameWinner PointNumber  PointWinner  PointServer  ...  \\\n0          1.0         0.0           0          0.0          0.0  ...   \n1          1.0         0.0           1          1.0          2.0  ...   \n2          1.0         0.0           2          1.0          2.0  ...   \n3          1.0         0.0           3          1.0          2.0  ...   \n4          1.0         1.0           4          1.0          2.0  ...   \n...        ...         ...         ...          ...          ...  ...   \n792718     9.0         0.0         272          2.0          2.0  ...   \n792719     9.0         0.0         273          1.0          2.0  ...   \n792720     9.0         0.0         274          2.0          2.0  ...   \n792721     9.0         0.0         275          1.0          2.0  ...   \n792722     9.0         1.0         276          1.0          2.0  ...   \n\n       P1UnfErr P2UnfErr  P1BreakPoint  P2BreakPoint  P1Errors  P2Errors  \\\n0           0.0      0.0           0.0           0.0       0.0       0.0   \n1           0.0      1.0           0.0           0.0       0.0       1.0   \n2           0.0      1.0           0.0           0.0       0.0       1.0   \n3           0.0      1.0           0.0           0.0       0.0       1.0   \n4           0.0      1.0           1.0           0.0       0.0       1.0   \n...         ...      ...           ...           ...       ...       ...   \n792718      0.0      0.0           1.0           0.0       0.0       0.0   \n792719      0.0      0.0           0.0           0.0       0.0       0.0   \n792720      0.0      0.0           1.0           0.0       0.0       0.0   \n792721      0.0      1.0           0.0           0.0       0.0       1.0   \n792722      0.0      1.0           1.0           0.0       0.0       1.0   \n\n        P1Pressure  P2Pressure  P1PostError  P2PostError  \n0              1.0         1.0          0.0          0.0  \n1              1.0         1.0          0.0          0.0  \n2              1.0         2.0          0.0          1.0  \n3              1.0         2.0          0.0          1.0  \n4              1.0         2.0          0.0          1.0  \n...            ...         ...          ...          ...  \n792718         1.0         3.0          0.0          1.0  \n792719         1.0         3.0          0.0          0.0  \n792720         1.0         3.0          0.0          0.0  \n792721         1.0         3.0          0.0          0.0  \n792722         1.0         3.0          0.0          1.0  \n\n[792723 rows x 26 columns]",
      "text/html": "<div>\n<style scoped>\n    .dataframe tbody tr th:only-of-type {\n        vertical-align: middle;\n    }\n\n    .dataframe tbody tr th {\n        vertical-align: top;\n    }\n\n    .dataframe thead th {\n        text-align: right;\n    }\n</style>\n<table border=\"1\" class=\"dataframe\">\n  <thead>\n    <tr style=\"text-align: right;\">\n      <th></th>\n      <th>Unnamed: 0</th>\n      <th>match_id</th>\n      <th>SetNo</th>\n      <th>P1GamesWon</th>\n      <th>P2GamesWon</th>\n      <th>GameNo</th>\n      <th>GameWinner</th>\n      <th>PointNumber</th>\n      <th>PointWinner</th>\n      <th>PointServer</th>\n      <th>...</th>\n      <th>P1UnfErr</th>\n      <th>P2UnfErr</th>\n      <th>P1BreakPoint</th>\n      <th>P2BreakPoint</th>\n      <th>P1Errors</th>\n      <th>P2Errors</th>\n      <th>P1Pressure</th>\n      <th>P2Pressure</th>\n      <th>P1PostError</th>\n      <th>P2PostError</th>\n    </tr>\n  </thead>\n  <tbody>\n    <tr>\n      <th>0</th>\n      <td>0</td>\n      <td>2011-ausopen-1101</td>\n      <td>1.0</td>\n      <td>0.0</td>\n      <td>0.0</td>\n      <td>1.0</td>\n      <td>0.0</td>\n      <td>0</td>\n      <td>0.0</td>\n      <td>0.0</td>\n      <td>...</td>\n      <td>0.0</td>\n      <td>0.0</td>\n      <td>0.0</td>\n      <td>0.0</td>\n      <td>0.0</td>\n      <td>0.0</td>\n      <td>1.0</td>\n      <td>1.0</td>\n      <td>0.0</td>\n      <td>0.0</td>\n    </tr>\n    <tr>\n      <th>1</th>\n      <td>1</td>\n      <td>2011-ausopen-1101</td>\n      <td>1.0</td>\n      <td>0.0</td>\n      <td>0.0</td>\n      <td>1.0</td>\n      <td>0.0</td>\n      <td>1</td>\n      <td>1.0</td>\n      <td>2.0</td>\n      <td>...</td>\n      <td>0.0</td>\n      <td>1.0</td>\n      <td>0.0</td>\n      <td>0.0</td>\n      <td>0.0</td>\n      <td>1.0</td>\n      <td>1.0</td>\n      <td>1.0</td>\n      <td>0.0</td>\n      <td>0.0</td>\n    </tr>\n    <tr>\n      <th>2</th>\n      <td>2</td>\n      <td>2011-ausopen-1101</td>\n      <td>1.0</td>\n      <td>0.0</td>\n      <td>0.0</td>\n      <td>1.0</td>\n      <td>0.0</td>\n      <td>2</td>\n      <td>1.0</td>\n      <td>2.0</td>\n      <td>...</td>\n      <td>0.0</td>\n      <td>1.0</td>\n      <td>0.0</td>\n      <td>0.0</td>\n      <td>0.0</td>\n      <td>1.0</td>\n      <td>1.0</td>\n      <td>2.0</td>\n      <td>0.0</td>\n      <td>1.0</td>\n    </tr>\n    <tr>\n      <th>3</th>\n      <td>3</td>\n      <td>2011-ausopen-1101</td>\n      <td>1.0</td>\n      <td>0.0</td>\n      <td>0.0</td>\n      <td>1.0</td>\n      <td>0.0</td>\n      <td>3</td>\n      <td>1.0</td>\n      <td>2.0</td>\n      <td>...</td>\n      <td>0.0</td>\n      <td>1.0</td>\n      <td>0.0</td>\n      <td>0.0</td>\n      <td>0.0</td>\n      <td>1.0</td>\n      <td>1.0</td>\n      <td>2.0</td>\n      <td>0.0</td>\n      <td>1.0</td>\n    </tr>\n    <tr>\n      <th>4</th>\n      <td>4</td>\n      <td>2011-ausopen-1101</td>\n      <td>1.0</td>\n      <td>1.0</td>\n      <td>0.0</td>\n      <td>1.0</td>\n      <td>1.0</td>\n      <td>4</td>\n      <td>1.0</td>\n      <td>2.0</td>\n      <td>...</td>\n      <td>0.0</td>\n      <td>1.0</td>\n      <td>1.0</td>\n      <td>0.0</td>\n      <td>0.0</td>\n      <td>1.0</td>\n      <td>1.0</td>\n      <td>2.0</td>\n      <td>0.0</td>\n      <td>1.0</td>\n    </tr>\n    <tr>\n      <th>...</th>\n      <td>...</td>\n      <td>...</td>\n      <td>...</td>\n      <td>...</td>\n      <td>...</td>\n      <td>...</td>\n      <td>...</td>\n      <td>...</td>\n      <td>...</td>\n      <td>...</td>\n      <td>...</td>\n      <td>...</td>\n      <td>...</td>\n      <td>...</td>\n      <td>...</td>\n      <td>...</td>\n      <td>...</td>\n      <td>...</td>\n      <td>...</td>\n      <td>...</td>\n      <td>...</td>\n    </tr>\n    <tr>\n      <th>792718</th>\n      <td>792718</td>\n      <td>2021-wimbledon-1701</td>\n      <td>4.0</td>\n      <td>5.0</td>\n      <td>3.0</td>\n      <td>9.0</td>\n      <td>0.0</td>\n      <td>272</td>\n      <td>2.0</td>\n      <td>2.0</td>\n      <td>...</td>\n      <td>0.0</td>\n      <td>0.0</td>\n      <td>1.0</td>\n      <td>0.0</td>\n      <td>0.0</td>\n      <td>0.0</td>\n      <td>1.0</td>\n      <td>3.0</td>\n      <td>0.0</td>\n      <td>1.0</td>\n    </tr>\n    <tr>\n      <th>792719</th>\n      <td>792719</td>\n      <td>2021-wimbledon-1701</td>\n      <td>4.0</td>\n      <td>5.0</td>\n      <td>3.0</td>\n      <td>9.0</td>\n      <td>0.0</td>\n      <td>273</td>\n      <td>1.0</td>\n      <td>2.0</td>\n      <td>...</td>\n      <td>0.0</td>\n      <td>0.0</td>\n      <td>0.0</td>\n      <td>0.0</td>\n      <td>0.0</td>\n      <td>0.0</td>\n      <td>1.0</td>\n      <td>3.0</td>\n      <td>0.0</td>\n      <td>0.0</td>\n    </tr>\n    <tr>\n      <th>792720</th>\n      <td>792720</td>\n      <td>2021-wimbledon-1701</td>\n      <td>4.0</td>\n      <td>5.0</td>\n      <td>3.0</td>\n      <td>9.0</td>\n      <td>0.0</td>\n      <td>274</td>\n      <td>2.0</td>\n      <td>2.0</td>\n      <td>...</td>\n      <td>0.0</td>\n      <td>0.0</td>\n      <td>1.0</td>\n      <td>0.0</td>\n      <td>0.0</td>\n      <td>0.0</td>\n      <td>1.0</td>\n      <td>3.0</td>\n      <td>0.0</td>\n      <td>0.0</td>\n    </tr>\n    <tr>\n      <th>792721</th>\n      <td>792721</td>\n      <td>2021-wimbledon-1701</td>\n      <td>4.0</td>\n      <td>5.0</td>\n      <td>3.0</td>\n      <td>9.0</td>\n      <td>0.0</td>\n      <td>275</td>\n      <td>1.0</td>\n      <td>2.0</td>\n      <td>...</td>\n      <td>0.0</td>\n      <td>1.0</td>\n      <td>0.0</td>\n      <td>0.0</td>\n      <td>0.0</td>\n      <td>1.0</td>\n      <td>1.0</td>\n      <td>3.0</td>\n      <td>0.0</td>\n      <td>0.0</td>\n    </tr>\n    <tr>\n      <th>792722</th>\n      <td>792722</td>\n      <td>2021-wimbledon-1701</td>\n      <td>4.0</td>\n      <td>6.0</td>\n      <td>3.0</td>\n      <td>9.0</td>\n      <td>1.0</td>\n      <td>276</td>\n      <td>1.0</td>\n      <td>2.0</td>\n      <td>...</td>\n      <td>0.0</td>\n      <td>1.0</td>\n      <td>1.0</td>\n      <td>0.0</td>\n      <td>0.0</td>\n      <td>1.0</td>\n      <td>1.0</td>\n      <td>3.0</td>\n      <td>0.0</td>\n      <td>1.0</td>\n    </tr>\n  </tbody>\n</table>\n<p>792723 rows × 26 columns</p>\n</div>"
     },
     "execution_count": 112,
     "metadata": {},
     "output_type": "execute_result"
    }
   ],
   "source": [
    "for i in range(2, len(points)):\n",
    "    if (points[\"P1UnfErr\"][i - 1] == 1) | (points[\"P1DoubleFault\"][i - 1] == 1) & (points[\"match_id\"][i] == points[\"match_id\"][i - 1]):\n",
    "        points[\"P1PostError\"][i] = 1\n",
    "    if (points[\"P2UnfErr\"][i - 1] == 1) | (points[\"P2DoubleFault\"][i - 1] == 1) & (points[\"match_id\"][i] == points[\"match_id\"][i - 1]):\n",
    "        points[\"P2PostError\"][i] = 1\n",
    "points"
   ],
   "metadata": {
    "collapsed": false,
    "pycharm": {
     "name": "#%%\n"
    }
   }
  },
  {
   "cell_type": "code",
   "execution_count": 113,
   "outputs": [
    {
     "data": {
      "text/plain": "        Unnamed: 0  Unnamed: 0.1             match_id  SetNo  P1GamesWon  \\\n1                1             1    2011-ausopen-1101    1.0         0.0   \n2                2             2    2011-ausopen-1101    1.0         0.0   \n3                3             3    2011-ausopen-1101    1.0         0.0   \n5                5             5    2011-ausopen-1101    1.0         1.0   \n6                6             6    2011-ausopen-1101    1.0         1.0   \n...            ...           ...                  ...    ...         ...   \n792717      792717        792717  2021-wimbledon-1701    4.0         5.0   \n792718      792718        792718  2021-wimbledon-1701    4.0         5.0   \n792719      792719        792719  2021-wimbledon-1701    4.0         5.0   \n792720      792720        792720  2021-wimbledon-1701    4.0         5.0   \n792721      792721        792721  2021-wimbledon-1701    4.0         5.0   \n\n        P2GamesWon  GameNo  GameWinner PointNumber  PointWinner  ...  \\\n1              0.0     1.0         0.0           1          1.0  ...   \n2              0.0     1.0         0.0           2          1.0  ...   \n3              0.0     1.0         0.0           3          1.0  ...   \n5              0.0     2.0         0.0           5          1.0  ...   \n6              0.0     2.0         0.0           6          1.0  ...   \n...            ...     ...         ...         ...          ...  ...   \n792717         3.0     9.0         0.0         271          1.0  ...   \n792718         3.0     9.0         0.0         272          2.0  ...   \n792719         3.0     9.0         0.0         273          1.0  ...   \n792720         3.0     9.0         0.0         274          2.0  ...   \n792721         3.0     9.0         0.0         275          1.0  ...   \n\n        P1UnfErr P2UnfErr P1BreakPoint  P2BreakPoint  P1Errors  P2Errors  \\\n1            0.0      1.0          0.0           0.0       0.0       1.0   \n2            0.0      1.0          0.0           0.0       0.0       2.0   \n3            0.0      1.0          0.0           0.0       0.0       3.0   \n5            0.0      0.0          0.0           0.0       0.0       4.0   \n6            0.0      0.0          0.0           0.0       0.0       4.0   \n...          ...      ...          ...           ...       ...       ...   \n792717       0.0      1.0          0.0           0.0      25.0      49.0   \n792718       0.0      0.0          1.0           0.0      25.0      49.0   \n792719       0.0      0.0          0.0           0.0      25.0      49.0   \n792720       0.0      0.0          1.0           0.0      25.0      49.0   \n792721       0.0      1.0          0.0           0.0      25.0      50.0   \n\n        P1Pressure  P2Pressure  P1PostError  P2PostError  \n1              1.0         1.0          0.0          0.0  \n2              1.0         2.0          0.0          1.0  \n3              1.0         2.0          0.0          1.0  \n5              1.0         1.0          0.0          1.0  \n6              1.0         2.0          0.0          0.0  \n...            ...         ...          ...          ...  \n792717         1.0         3.0          0.0          0.0  \n792718         1.0         3.0          0.0          1.0  \n792719         1.0         3.0          0.0          0.0  \n792720         1.0         3.0          0.0          0.0  \n792721         1.0         3.0          0.0          0.0  \n\n[662372 rows x 27 columns]",
      "text/html": "<div>\n<style scoped>\n    .dataframe tbody tr th:only-of-type {\n        vertical-align: middle;\n    }\n\n    .dataframe tbody tr th {\n        vertical-align: top;\n    }\n\n    .dataframe thead th {\n        text-align: right;\n    }\n</style>\n<table border=\"1\" class=\"dataframe\">\n  <thead>\n    <tr style=\"text-align: right;\">\n      <th></th>\n      <th>Unnamed: 0</th>\n      <th>Unnamed: 0.1</th>\n      <th>match_id</th>\n      <th>SetNo</th>\n      <th>P1GamesWon</th>\n      <th>P2GamesWon</th>\n      <th>GameNo</th>\n      <th>GameWinner</th>\n      <th>PointNumber</th>\n      <th>PointWinner</th>\n      <th>...</th>\n      <th>P1UnfErr</th>\n      <th>P2UnfErr</th>\n      <th>P1BreakPoint</th>\n      <th>P2BreakPoint</th>\n      <th>P1Errors</th>\n      <th>P2Errors</th>\n      <th>P1Pressure</th>\n      <th>P2Pressure</th>\n      <th>P1PostError</th>\n      <th>P2PostError</th>\n    </tr>\n  </thead>\n  <tbody>\n    <tr>\n      <th>1</th>\n      <td>1</td>\n      <td>1</td>\n      <td>2011-ausopen-1101</td>\n      <td>1.0</td>\n      <td>0.0</td>\n      <td>0.0</td>\n      <td>1.0</td>\n      <td>0.0</td>\n      <td>1</td>\n      <td>1.0</td>\n      <td>...</td>\n      <td>0.0</td>\n      <td>1.0</td>\n      <td>0.0</td>\n      <td>0.0</td>\n      <td>0.0</td>\n      <td>1.0</td>\n      <td>1.0</td>\n      <td>1.0</td>\n      <td>0.0</td>\n      <td>0.0</td>\n    </tr>\n    <tr>\n      <th>2</th>\n      <td>2</td>\n      <td>2</td>\n      <td>2011-ausopen-1101</td>\n      <td>1.0</td>\n      <td>0.0</td>\n      <td>0.0</td>\n      <td>1.0</td>\n      <td>0.0</td>\n      <td>2</td>\n      <td>1.0</td>\n      <td>...</td>\n      <td>0.0</td>\n      <td>1.0</td>\n      <td>0.0</td>\n      <td>0.0</td>\n      <td>0.0</td>\n      <td>2.0</td>\n      <td>1.0</td>\n      <td>2.0</td>\n      <td>0.0</td>\n      <td>1.0</td>\n    </tr>\n    <tr>\n      <th>3</th>\n      <td>3</td>\n      <td>3</td>\n      <td>2011-ausopen-1101</td>\n      <td>1.0</td>\n      <td>0.0</td>\n      <td>0.0</td>\n      <td>1.0</td>\n      <td>0.0</td>\n      <td>3</td>\n      <td>1.0</td>\n      <td>...</td>\n      <td>0.0</td>\n      <td>1.0</td>\n      <td>0.0</td>\n      <td>0.0</td>\n      <td>0.0</td>\n      <td>3.0</td>\n      <td>1.0</td>\n      <td>2.0</td>\n      <td>0.0</td>\n      <td>1.0</td>\n    </tr>\n    <tr>\n      <th>5</th>\n      <td>5</td>\n      <td>5</td>\n      <td>2011-ausopen-1101</td>\n      <td>1.0</td>\n      <td>1.0</td>\n      <td>0.0</td>\n      <td>2.0</td>\n      <td>0.0</td>\n      <td>5</td>\n      <td>1.0</td>\n      <td>...</td>\n      <td>0.0</td>\n      <td>0.0</td>\n      <td>0.0</td>\n      <td>0.0</td>\n      <td>0.0</td>\n      <td>4.0</td>\n      <td>1.0</td>\n      <td>1.0</td>\n      <td>0.0</td>\n      <td>1.0</td>\n    </tr>\n    <tr>\n      <th>6</th>\n      <td>6</td>\n      <td>6</td>\n      <td>2011-ausopen-1101</td>\n      <td>1.0</td>\n      <td>1.0</td>\n      <td>0.0</td>\n      <td>2.0</td>\n      <td>0.0</td>\n      <td>6</td>\n      <td>1.0</td>\n      <td>...</td>\n      <td>0.0</td>\n      <td>0.0</td>\n      <td>0.0</td>\n      <td>0.0</td>\n      <td>0.0</td>\n      <td>4.0</td>\n      <td>1.0</td>\n      <td>2.0</td>\n      <td>0.0</td>\n      <td>0.0</td>\n    </tr>\n    <tr>\n      <th>...</th>\n      <td>...</td>\n      <td>...</td>\n      <td>...</td>\n      <td>...</td>\n      <td>...</td>\n      <td>...</td>\n      <td>...</td>\n      <td>...</td>\n      <td>...</td>\n      <td>...</td>\n      <td>...</td>\n      <td>...</td>\n      <td>...</td>\n      <td>...</td>\n      <td>...</td>\n      <td>...</td>\n      <td>...</td>\n      <td>...</td>\n      <td>...</td>\n      <td>...</td>\n      <td>...</td>\n    </tr>\n    <tr>\n      <th>792717</th>\n      <td>792717</td>\n      <td>792717</td>\n      <td>2021-wimbledon-1701</td>\n      <td>4.0</td>\n      <td>5.0</td>\n      <td>3.0</td>\n      <td>9.0</td>\n      <td>0.0</td>\n      <td>271</td>\n      <td>1.0</td>\n      <td>...</td>\n      <td>0.0</td>\n      <td>1.0</td>\n      <td>0.0</td>\n      <td>0.0</td>\n      <td>25.0</td>\n      <td>49.0</td>\n      <td>1.0</td>\n      <td>3.0</td>\n      <td>0.0</td>\n      <td>0.0</td>\n    </tr>\n    <tr>\n      <th>792718</th>\n      <td>792718</td>\n      <td>792718</td>\n      <td>2021-wimbledon-1701</td>\n      <td>4.0</td>\n      <td>5.0</td>\n      <td>3.0</td>\n      <td>9.0</td>\n      <td>0.0</td>\n      <td>272</td>\n      <td>2.0</td>\n      <td>...</td>\n      <td>0.0</td>\n      <td>0.0</td>\n      <td>1.0</td>\n      <td>0.0</td>\n      <td>25.0</td>\n      <td>49.0</td>\n      <td>1.0</td>\n      <td>3.0</td>\n      <td>0.0</td>\n      <td>1.0</td>\n    </tr>\n    <tr>\n      <th>792719</th>\n      <td>792719</td>\n      <td>792719</td>\n      <td>2021-wimbledon-1701</td>\n      <td>4.0</td>\n      <td>5.0</td>\n      <td>3.0</td>\n      <td>9.0</td>\n      <td>0.0</td>\n      <td>273</td>\n      <td>1.0</td>\n      <td>...</td>\n      <td>0.0</td>\n      <td>0.0</td>\n      <td>0.0</td>\n      <td>0.0</td>\n      <td>25.0</td>\n      <td>49.0</td>\n      <td>1.0</td>\n      <td>3.0</td>\n      <td>0.0</td>\n      <td>0.0</td>\n    </tr>\n    <tr>\n      <th>792720</th>\n      <td>792720</td>\n      <td>792720</td>\n      <td>2021-wimbledon-1701</td>\n      <td>4.0</td>\n      <td>5.0</td>\n      <td>3.0</td>\n      <td>9.0</td>\n      <td>0.0</td>\n      <td>274</td>\n      <td>2.0</td>\n      <td>...</td>\n      <td>0.0</td>\n      <td>0.0</td>\n      <td>1.0</td>\n      <td>0.0</td>\n      <td>25.0</td>\n      <td>49.0</td>\n      <td>1.0</td>\n      <td>3.0</td>\n      <td>0.0</td>\n      <td>0.0</td>\n    </tr>\n    <tr>\n      <th>792721</th>\n      <td>792721</td>\n      <td>792721</td>\n      <td>2021-wimbledon-1701</td>\n      <td>4.0</td>\n      <td>5.0</td>\n      <td>3.0</td>\n      <td>9.0</td>\n      <td>0.0</td>\n      <td>275</td>\n      <td>1.0</td>\n      <td>...</td>\n      <td>0.0</td>\n      <td>1.0</td>\n      <td>0.0</td>\n      <td>0.0</td>\n      <td>25.0</td>\n      <td>50.0</td>\n      <td>1.0</td>\n      <td>3.0</td>\n      <td>0.0</td>\n      <td>0.0</td>\n    </tr>\n  </tbody>\n</table>\n<p>662372 rows × 27 columns</p>\n</div>"
     },
     "execution_count": 113,
     "metadata": {},
     "output_type": "execute_result"
    }
   ],
   "source": [
    "points2 = pd.read_csv(f\"../data/points-pressure-posterror.csv\", encoding='unicode_escape', low_memory=False)\n",
    "points2 = points2[(points2[\"P1Score\"] != '0') | (points2['P2Score'] != '0')]\n",
    "points2"
   ],
   "metadata": {
    "collapsed": false,
    "pycharm": {
     "name": "#%%\n"
    }
   }
  },
  {
   "cell_type": "code",
   "execution_count": 114,
   "outputs": [],
   "source": [
    "points2[\"match\"] = points2['match_id'].str.split('-').str[2]\n",
    "points2[\"match2\"] = points2[\"match\"]\n",
    "points2[\"P1Code\"] = points2[\"match\"].astype(int) + 10000\n",
    "points2[\"P2Code\"] = points2[\"match\"].astype(int) + 20000"
   ],
   "metadata": {
    "collapsed": false,
    "pycharm": {
     "name": "#%%\n"
    }
   }
  },
  {
   "cell_type": "markdown",
   "source": [],
   "metadata": {
    "collapsed": false,
    "pycharm": {
     "name": "#%% md\n"
    }
   }
  },
  {
   "cell_type": "code",
   "execution_count": 115,
   "outputs": [],
   "source": [
    "points_a = points2[[\"P1Errors\", \"P2Errors\"]]\n",
    "a = points_a.stack()\n",
    "a.rename(\"Errors\")\n",
    "\n",
    "points_b = points2[[\"P1Pressure\", \"P2Pressure\"]]\n",
    "b = points_b.stack()\n",
    "b.rename(\"Pressure\")\n",
    "\n",
    "points_c = points2[[\"P1PostError\", \"P2PostError\"]]\n",
    "c = points_c.stack()\n",
    "\n",
    "points_d = points2[[\"match\", \"match2\"]]\n",
    "d = points_d.stack()\n",
    "\n",
    "points_e = points2[[\"P1Code\", \"P2Code\"]]\n",
    "e = points_e.stack()\n",
    "\n",
    "points_f = points2[[\"P1Winner\", \"P2Winner\"]]\n",
    "f = points_f.stack()\n"
   ],
   "metadata": {
    "collapsed": false,
    "pycharm": {
     "name": "#%%\n"
    }
   }
  },
  {
   "cell_type": "code",
   "execution_count": 116,
   "outputs": [
    {
     "data": {
      "text/plain": "1       P1Errors     0.0\n        P2Errors     1.0\n2       P1Errors     0.0\n        P2Errors     2.0\n3       P1Errors     0.0\n                    ... \n792719  P2Errors    49.0\n792720  P1Errors    25.0\n        P2Errors    49.0\n792721  P1Errors    25.0\n        P2Errors    50.0\nLength: 1324744, dtype: float64"
     },
     "execution_count": 116,
     "metadata": {},
     "output_type": "execute_result"
    }
   ],
   "source": [
    "a"
   ],
   "metadata": {
    "collapsed": false,
    "pycharm": {
     "name": "#%%\n"
    }
   }
  },
  {
   "cell_type": "code",
   "execution_count": 117,
   "outputs": [
    {
     "data": {
      "text/plain": "1       P1Pressure    1.0\n        P2Pressure    1.0\n2       P1Pressure    1.0\n        P2Pressure    2.0\n3       P1Pressure    1.0\n                     ... \n792719  P2Pressure    3.0\n792720  P1Pressure    1.0\n        P2Pressure    3.0\n792721  P1Pressure    1.0\n        P2Pressure    3.0\nLength: 1324744, dtype: float64"
     },
     "execution_count": 117,
     "metadata": {},
     "output_type": "execute_result"
    }
   ],
   "source": [
    "b"
   ],
   "metadata": {
    "collapsed": false,
    "pycharm": {
     "name": "#%%\n"
    }
   }
  },
  {
   "cell_type": "code",
   "execution_count": 118,
   "outputs": [
    {
     "data": {
      "text/plain": "         Errors  Pressure  PostError MatchID  PlayerID  Winners\n0           0.0       1.0        0.0    1101     11101      0.0\n1           1.0       1.0        0.0    1101     21101      0.0\n2           0.0       1.0        0.0    1101     11101      0.0\n3           2.0       2.0        1.0    1101     21101      0.0\n4           0.0       1.0        0.0    1101     11101      0.0\n...         ...       ...        ...     ...       ...      ...\n1324739    49.0       3.0        0.0    1701     21701      0.0\n1324740    25.0       1.0        0.0    1701     11701      0.0\n1324741    49.0       3.0        0.0    1701     21701      1.0\n1324742    25.0       1.0        0.0    1701     11701      0.0\n1324743    50.0       3.0        0.0    1701     21701      0.0\n\n[1324744 rows x 6 columns]",
      "text/html": "<div>\n<style scoped>\n    .dataframe tbody tr th:only-of-type {\n        vertical-align: middle;\n    }\n\n    .dataframe tbody tr th {\n        vertical-align: top;\n    }\n\n    .dataframe thead th {\n        text-align: right;\n    }\n</style>\n<table border=\"1\" class=\"dataframe\">\n  <thead>\n    <tr style=\"text-align: right;\">\n      <th></th>\n      <th>Errors</th>\n      <th>Pressure</th>\n      <th>PostError</th>\n      <th>MatchID</th>\n      <th>PlayerID</th>\n      <th>Winners</th>\n    </tr>\n  </thead>\n  <tbody>\n    <tr>\n      <th>0</th>\n      <td>0.0</td>\n      <td>1.0</td>\n      <td>0.0</td>\n      <td>1101</td>\n      <td>11101</td>\n      <td>0.0</td>\n    </tr>\n    <tr>\n      <th>1</th>\n      <td>1.0</td>\n      <td>1.0</td>\n      <td>0.0</td>\n      <td>1101</td>\n      <td>21101</td>\n      <td>0.0</td>\n    </tr>\n    <tr>\n      <th>2</th>\n      <td>0.0</td>\n      <td>1.0</td>\n      <td>0.0</td>\n      <td>1101</td>\n      <td>11101</td>\n      <td>0.0</td>\n    </tr>\n    <tr>\n      <th>3</th>\n      <td>2.0</td>\n      <td>2.0</td>\n      <td>1.0</td>\n      <td>1101</td>\n      <td>21101</td>\n      <td>0.0</td>\n    </tr>\n    <tr>\n      <th>4</th>\n      <td>0.0</td>\n      <td>1.0</td>\n      <td>0.0</td>\n      <td>1101</td>\n      <td>11101</td>\n      <td>0.0</td>\n    </tr>\n    <tr>\n      <th>...</th>\n      <td>...</td>\n      <td>...</td>\n      <td>...</td>\n      <td>...</td>\n      <td>...</td>\n      <td>...</td>\n    </tr>\n    <tr>\n      <th>1324739</th>\n      <td>49.0</td>\n      <td>3.0</td>\n      <td>0.0</td>\n      <td>1701</td>\n      <td>21701</td>\n      <td>0.0</td>\n    </tr>\n    <tr>\n      <th>1324740</th>\n      <td>25.0</td>\n      <td>1.0</td>\n      <td>0.0</td>\n      <td>1701</td>\n      <td>11701</td>\n      <td>0.0</td>\n    </tr>\n    <tr>\n      <th>1324741</th>\n      <td>49.0</td>\n      <td>3.0</td>\n      <td>0.0</td>\n      <td>1701</td>\n      <td>21701</td>\n      <td>1.0</td>\n    </tr>\n    <tr>\n      <th>1324742</th>\n      <td>25.0</td>\n      <td>1.0</td>\n      <td>0.0</td>\n      <td>1701</td>\n      <td>11701</td>\n      <td>0.0</td>\n    </tr>\n    <tr>\n      <th>1324743</th>\n      <td>50.0</td>\n      <td>3.0</td>\n      <td>0.0</td>\n      <td>1701</td>\n      <td>21701</td>\n      <td>0.0</td>\n    </tr>\n  </tbody>\n</table>\n<p>1324744 rows × 6 columns</p>\n</div>"
     },
     "execution_count": 118,
     "metadata": {},
     "output_type": "execute_result"
    }
   ],
   "source": [
    "points3 = pd.concat([a.reset_index(drop=True), b.reset_index(drop=True), c.reset_index(drop=True), d.reset_index(drop=True), e.reset_index(drop=True), f.reset_index(drop=True)], axis=1)\n",
    "points3.columns = [\"Errors\", \"Pressure\", \"PostError\", \"MatchID\", \"PlayerID\", \"Winners\"]\n",
    "points3.to_csv(\"../data/points-pressure-plot.csv\")\n",
    "points3"
   ],
   "metadata": {
    "collapsed": false,
    "pycharm": {
     "name": "#%%\n"
    }
   }
  },
  {
   "cell_type": "code",
   "execution_count": 119,
   "outputs": [
    {
     "name": "stderr",
     "output_type": "stream",
     "text": [
      "fatal: destination path 'pymer4' already exists and is not an empty directory.\n"
     ]
    },
    {
     "name": "stdout",
     "output_type": "stream",
     "text": [
      "Already up to date.\n",
      "Your branch is up to date with 'origin/dev'.\n"
     ]
    },
    {
     "name": "stderr",
     "output_type": "stream",
     "text": [
      "From https://github.com/ejolly/pymer4\n",
      " * branch            dev        -> FETCH_HEAD\n",
      "Already on 'dev'\n"
     ]
    }
   ],
   "source": [
    "!git clone https://github.com/ejolly/pymer4.git\n",
    "!cd pymer4 && git pull origin dev && git checkout dev && pip install -q ."
   ],
   "metadata": {
    "collapsed": false,
    "pycharm": {
     "name": "#%%\n"
    }
   }
  },
  {
   "cell_type": "code",
   "execution_count": 120,
   "outputs": [],
   "source": [
    "!pip install -q pymer4"
   ],
   "metadata": {
    "collapsed": false,
    "pycharm": {
     "name": "#%%\n"
    }
   }
  },
  {
   "cell_type": "code",
   "execution_count": 121,
   "outputs": [
    {
     "name": "stdout",
     "output_type": "stream",
     "text": [
      "Requirement already satisfied: rbase in c:\\users\\anhmi\\miniconda3\\lib\\site-packages (0.1.3)\n",
      "Requirement already satisfied: redis in c:\\users\\anhmi\\miniconda3\\lib\\site-packages (from rbase) (4.3.5)\n",
      "Requirement already satisfied: packaging>=20.4 in c:\\users\\anhmi\\miniconda3\\lib\\site-packages (from redis->rbase) (21.3)\n",
      "Requirement already satisfied: async-timeout>=4.0.2 in c:\\users\\anhmi\\miniconda3\\lib\\site-packages (from redis->rbase) (4.0.2)\n",
      "Requirement already satisfied: typing-extensions in c:\\users\\anhmi\\miniconda3\\lib\\site-packages (from redis->rbase) (4.3.0)\n",
      "Requirement already satisfied: importlib-metadata>=1.0 in c:\\users\\anhmi\\miniconda3\\lib\\site-packages (from redis->rbase) (4.11.3)\n",
      "Requirement already satisfied: zipp>=0.5 in c:\\users\\anhmi\\miniconda3\\lib\\site-packages (from importlib-metadata>=1.0->redis->rbase) (3.7.0)\n",
      "Requirement already satisfied: pyparsing!=3.0.5,>=2.0.2 in c:\\users\\anhmi\\miniconda3\\lib\\site-packages (from packaging>=20.4->redis->rbase) (3.0.9)\n"
     ]
    }
   ],
   "source": [
    "!pip install rbase\n",
    "!pip install -q rpy2"
   ],
   "metadata": {
    "collapsed": false,
    "pycharm": {
     "name": "#%%\n"
    }
   }
  },
  {
   "cell_type": "code",
   "execution_count": 122,
   "outputs": [
    {
     "name": "stdout",
     "output_type": "stream",
     "text": [
      "package 'emmeans' successfully unpacked and MD5 sums checked\n",
      "package 'geepack' successfully unpacked and MD5 sums checked\n",
      "\n",
      "The downloaded binary packages are in\n",
      "\tC:\\Users\\anhmi\\AppData\\Local\\Temp\\Rtmpq8vqH7\\downloaded_packages\n"
     ]
    },
    {
     "data": {
      "text/plain": "<rpy2.rinterface_lib.sexp.NULLType object at 0x000001922C8CF488> [RTYPES.NILSXP]"
     },
     "execution_count": 122,
     "metadata": {},
     "output_type": "execute_result"
    }
   ],
   "source": [
    "packnames = ('lme4', 'lmerTest', 'emmeans', \"geepack\", 'effects', 'readr')\n",
    "from rpy2.robjects.packages import importr\n",
    "from rpy2.robjects.vectors import StrVector\n",
    "utils = importr(\"utils\")\n",
    "utils.chooseCRANmirror(ind=1)\n",
    "utils.install_packages(StrVector(packnames))"
   ],
   "metadata": {
    "collapsed": false,
    "pycharm": {
     "name": "#%%\n"
    }
   }
  },
  {
   "cell_type": "code",
   "execution_count": 123,
   "outputs": [
    {
     "name": "stdout",
     "output_type": "stream",
     "text": [
      "Linear mixed model fit by REML [’lmerMod’]\n",
      "Formula: Errors~Pressure*PostError+(1|PlayerID)\n",
      "\n",
      "Family: gaussian\t Inference: parametric\n",
      "\n",
      "Number of observations: 1324744\t Groups: {'PlayerID': 254.0}\n",
      "\n",
      "Log-likelihood: -5489874.092 \t AIC: 10979760.184\n",
      "\n",
      "Random effects:\n",
      "\n",
      "                 Name      Var     Std\n",
      "PlayerID  (Intercept)    5.481   2.341\n",
      "Residual               232.618  15.252\n",
      "\n",
      "No random effect correlations specified\n",
      "\n",
      "Fixed effects:\n",
      "\n"
     ]
    },
    {
     "data": {
      "text/plain": "                    Estimate  2.5_ci  97.5_ci     SE           DF   T-stat  \\\n(Intercept)           15.337  15.042   15.631  0.150      271.003  102.176   \nPressure               3.887   3.845    3.929  0.021  1324620.799  181.628   \nPostError              2.056   1.896    2.216  0.082  1324520.450   25.129   \nPressure:PostError     0.065  -0.035    0.165  0.051  1324522.188    1.279   \n\n                    P-val  Sig  \n(Intercept)         0.000  ***  \nPressure            0.000  ***  \nPostError           0.000  ***  \nPressure:PostError  0.201       ",
      "text/html": "<div>\n<style scoped>\n    .dataframe tbody tr th:only-of-type {\n        vertical-align: middle;\n    }\n\n    .dataframe tbody tr th {\n        vertical-align: top;\n    }\n\n    .dataframe thead th {\n        text-align: right;\n    }\n</style>\n<table border=\"1\" class=\"dataframe\">\n  <thead>\n    <tr style=\"text-align: right;\">\n      <th></th>\n      <th>Estimate</th>\n      <th>2.5_ci</th>\n      <th>97.5_ci</th>\n      <th>SE</th>\n      <th>DF</th>\n      <th>T-stat</th>\n      <th>P-val</th>\n      <th>Sig</th>\n    </tr>\n  </thead>\n  <tbody>\n    <tr>\n      <th>(Intercept)</th>\n      <td>15.337</td>\n      <td>15.042</td>\n      <td>15.631</td>\n      <td>0.150</td>\n      <td>271.003</td>\n      <td>102.176</td>\n      <td>0.000</td>\n      <td>***</td>\n    </tr>\n    <tr>\n      <th>Pressure</th>\n      <td>3.887</td>\n      <td>3.845</td>\n      <td>3.929</td>\n      <td>0.021</td>\n      <td>1324620.799</td>\n      <td>181.628</td>\n      <td>0.000</td>\n      <td>***</td>\n    </tr>\n    <tr>\n      <th>PostError</th>\n      <td>2.056</td>\n      <td>1.896</td>\n      <td>2.216</td>\n      <td>0.082</td>\n      <td>1324520.450</td>\n      <td>25.129</td>\n      <td>0.000</td>\n      <td>***</td>\n    </tr>\n    <tr>\n      <th>Pressure:PostError</th>\n      <td>0.065</td>\n      <td>-0.035</td>\n      <td>0.165</td>\n      <td>0.051</td>\n      <td>1324522.188</td>\n      <td>1.279</td>\n      <td>0.201</td>\n      <td></td>\n    </tr>\n  </tbody>\n</table>\n</div>"
     },
     "metadata": {},
     "output_type": "display_data"
    },
    {
     "name": "stdout",
     "output_type": "stream",
     "text": [
      "SS Type III Analysis of Variance Table with Satterthwaite approximated degrees of freedom:\n",
      "(NOTE: Using original model contrasts, orthogonality not guaranteed)\n"
     ]
    },
    {
     "data": {
      "text/plain": "              0              1             2\n0  7.673753e+06   1.468850e+05  3.802790e+02\n1  7.673753e+06   1.468850e+05  3.802790e+02\n2  1.000000e+00   1.000000e+00  1.000000e+00\n3  1.324621e+06   1.324520e+06  1.324522e+06\n4  3.298865e+04   6.314430e+02  1.634779e+00\n5  0.000000e+00  2.616758e-139  2.010435e-01",
      "text/html": "<div>\n<style scoped>\n    .dataframe tbody tr th:only-of-type {\n        vertical-align: middle;\n    }\n\n    .dataframe tbody tr th {\n        vertical-align: top;\n    }\n\n    .dataframe thead th {\n        text-align: right;\n    }\n</style>\n<table border=\"1\" class=\"dataframe\">\n  <thead>\n    <tr style=\"text-align: right;\">\n      <th></th>\n      <th>0</th>\n      <th>1</th>\n      <th>2</th>\n    </tr>\n  </thead>\n  <tbody>\n    <tr>\n      <th>0</th>\n      <td>7.673753e+06</td>\n      <td>1.468850e+05</td>\n      <td>3.802790e+02</td>\n    </tr>\n    <tr>\n      <th>1</th>\n      <td>7.673753e+06</td>\n      <td>1.468850e+05</td>\n      <td>3.802790e+02</td>\n    </tr>\n    <tr>\n      <th>2</th>\n      <td>1.000000e+00</td>\n      <td>1.000000e+00</td>\n      <td>1.000000e+00</td>\n    </tr>\n    <tr>\n      <th>3</th>\n      <td>1.324621e+06</td>\n      <td>1.324520e+06</td>\n      <td>1.324522e+06</td>\n    </tr>\n    <tr>\n      <th>4</th>\n      <td>3.298865e+04</td>\n      <td>6.314430e+02</td>\n      <td>1.634779e+00</td>\n    </tr>\n    <tr>\n      <th>5</th>\n      <td>0.000000e+00</td>\n      <td>2.616758e-139</td>\n      <td>2.010435e-01</td>\n    </tr>\n  </tbody>\n</table>\n</div>"
     },
     "metadata": {},
     "output_type": "display_data"
    },
    {
     "data": {
      "text/plain": "<AxesSubplot:xlabel='Estimate'>"
     },
     "execution_count": 123,
     "metadata": {},
     "output_type": "execute_result"
    },
    {
     "data": {
      "text/plain": "<Figure size 1200x600 with 1 Axes>",
      "image/png": "[encoded data removed]"
     },
     "metadata": {},
     "output_type": "display_data"
    }
   ],
   "source": [
    "from pymer4.models import Lmer\n",
    "model = Lmer('Errors ~ Pressure * PostError + (1 | PlayerID)', data=points3)\n",
    "display(model.fit())\n",
    "display(model.anova())\n",
    "model.plot_summary()"
   ],
   "metadata": {
    "collapsed": false,
    "pycharm": {
     "name": "#%%\n"
    }
   }
  },
  {
   "cell_type": "code",
   "execution_count": 124,
   "outputs": [
    {
     "name": "stdout",
     "output_type": "stream",
     "text": [
      "The rpy2.ipython extension is already loaded. To reload it, use:\n",
      "  %reload_ext rpy2.ipython\n"
     ]
    }
   ],
   "source": [
    "%load_ext rpy2.ipython"
   ],
   "metadata": {
    "collapsed": false,
    "pycharm": {
     "name": "#%%\n"
    }
   }
  },
  {
   "cell_type": "code",
   "execution_count": 125,
   "outputs": [
    {
     "name": "stdout",
     "output_type": "stream",
     "text": [
      "New names:\n",
      "• `` -> `...1`\n",
      "Rows: 1317652 Columns: 10\n",
      "── Column specification ────────────────────────────────────────────────────────\n",
      "Delimiter: \",\"\n",
      "chr (1): tournament\n",
      "dbl (8): ...1, Made.error, Pressure, Post.error, matchID, playerID, gender, ...\n",
      "lgl (1): point.won\n",
      "\n",
      "ℹ Use `spec()` to retrieve the full column specification for this data.\n",
      "ℹ Specify the column types or set `show_col_types = FALSE` to quiet this message.\n"
     ]
    },
    {
     "data": {
      "image/png": "[encoded data removed]"
     },
     "metadata": {},
     "output_type": "display_data"
    }
   ],
   "source": [
    "%%R\n",
    "library(lme4)\n",
    "library(lmerTest)\n",
    "library(readr)\n",
    "library(effects)\n",
    "points3 <- read_csv(\"D:\\\\CSE 481DS\\\\data\\\\points-pressure-plot-r .csv\")\n",
    "model2 <- glmer(Made.error ~ Pressure * Post.error + (1 | playerID), data = points3,\n",
    "                         family=binomial(link = \"logit\"),\n",
    "                         na.action = \"na.omit\")\n",
    "plot(allEffects(model2))"
   ],
   "metadata": {
    "collapsed": false,
    "pycharm": {
     "name": "#%%\n"
    }
   }
  },
  {
   "cell_type": "code",
   "execution_count": 125,
   "outputs": [],
   "source": [],
   "metadata": {
    "collapsed": false,
    "pycharm": {
     "name": "#%%\n"
    }
   }
  }
 ],
 "metadata": {
  "kernelspec": {
   "display_name": "Python 3",
   "language": "python",
   "name": "python3"
  },
  "language_info": {
   "codemirror_mode": {
    "name": "ipython",
    "version": 2
   },
   "file_extension": ".py",
   "mimetype": "text/x-python",
   "name": "python",
   "nbconvert_exporter": "python",
   "pygments_lexer": "ipython2",
   "version": "2.7.6"
  }
 },
 "nbformat": 4,
 "nbformat_minor": 0
}